{
 "cells": [
  {
   "cell_type": "markdown",
   "metadata": {},
   "source": [
    "# Основы машинного обучения\n",
    "\n",
    "*Выполнила Дабаева Ирина 03.04.2024*\n",
    "\n",
    "**Цель:** научиться прогнозировать вероятность оттока для каждого клиента и составить рекомендации по повышению качества работы с клиентами.\n",
    "\n",
    "**Задачи:**\n",
    "\n",
    "- анализировать полученные данные\n",
    "\n",
    "- обучить модель и проверить метрики\n",
    "\n",
    "- выделить несколько наиболее ярких групп и охарактеризовать их основные свойства\n",
    "\n",
    "- сформулировать основные выводы и разработать рекомендации\n",
    "\n",
    "**Оглавление:**\n",
    "\n",
    "1. [EDA](#EDA)\n",
    "\n",
    "2. [Модель прогнозирования оттока клиентов](#Модель-прогнозирования-оттока-клиентов)\n",
    "\n",
    "3. [Кластеризация клиентов](#Кластеризация-клиентов)\n",
    "\n",
    "4. [Общий вывод](#Общий-вывод)\n",
    "\n",
    "**Данные:**\n",
    "\n",
    "'gender' — пол;\n",
    "\n",
    "'Near_Location' — проживание или работа в районе, где находится фитнес-центр;\n",
    "\n",
    "'Partner' — сотрудник компании-партнёра клуба (сотрудничество с компаниями, чьи сотрудники могут получать скидки на абонемент — в таком случае фитнес-центр хранит информацию о работодателе клиента);\n",
    "\n",
    "'Promo_friends' — факт первоначальной записи в рамках акции «приведи друга» (использовал промо-код от знакомого при оплате первого абонемента);\n",
    "\n",
    "'Phone' — наличие контактного телефона;\n",
    "\n",
    "'Age' — возраст;\n",
    "\n",
    "'Lifetime' — время с момента первого обращения в фитнес-центр (в месяцах);\n",
    "\n",
    "'Contract_period' — длительность текущего действующего абонемента (месяц, 6 месяцев, год);\n",
    "\n",
    "'Month_to_end_contract' — срок до окончания текущего действующего абонемента (в месяцах);\n",
    "\n",
    "'Group_visits' — факт посещения групповых занятий;\n",
    "\n",
    "'Avg_class_frequency_total' — средняя частота посещений в неделю за все время с начала действия абонемента;\n",
    "\n",
    "'Avg_class_frequency_current_month' — средняя частота посещений в неделю за предыдущий месяц;\n",
    "\n",
    "'Avg_additional_charges_total' — суммарная выручка от других услуг фитнес-центра: кафе, спорттовары, косметический и массажный салон."
   ]
  },
  {
   "cell_type": "code",
   "execution_count": 3,
   "metadata": {},
   "outputs": [],
   "source": [
    "import pandas as pd\n",
    "import numpy as np\n",
    "import matplotlib.pyplot as plt\n",
    "import seaborn as sns\n",
    "from sklearn.model_selection import train_test_split\n",
    "from sklearn.linear_model import LogisticRegression\n",
    "from sklearn.ensemble import RandomForestClassifier\n",
    "from sklearn.metrics import accuracy_score, precision_score, recall_score\n",
    "from sklearn.preprocessing import StandardScaler\n",
    "from scipy.cluster.hierarchy import dendrogram, linkage \n",
    "from sklearn.cluster import KMeans\n",
    "import itertools\n",
    "from sklearn.linear_model import Lasso"
   ]
  },
  {
   "cell_type": "markdown",
   "metadata": {},
   "source": [
    "## EDA"
   ]
  },
  {
   "cell_type": "code",
   "execution_count": 4,
   "metadata": {},
   "outputs": [
    {
     "data": {
      "text/html": [
       "<div>\n",
       "<style scoped>\n",
       "    .dataframe tbody tr th:only-of-type {\n",
       "        vertical-align: middle;\n",
       "    }\n",
       "\n",
       "    .dataframe tbody tr th {\n",
       "        vertical-align: top;\n",
       "    }\n",
       "\n",
       "    .dataframe thead th {\n",
       "        text-align: right;\n",
       "    }\n",
       "</style>\n",
       "<table border=\"1\" class=\"dataframe\">\n",
       "  <thead>\n",
       "    <tr style=\"text-align: right;\">\n",
       "      <th></th>\n",
       "      <th>gender</th>\n",
       "      <th>Near_Location</th>\n",
       "      <th>Partner</th>\n",
       "      <th>Promo_friends</th>\n",
       "      <th>Phone</th>\n",
       "      <th>Contract_period</th>\n",
       "      <th>Group_visits</th>\n",
       "      <th>Age</th>\n",
       "      <th>Avg_additional_charges_total</th>\n",
       "      <th>Month_to_end_contract</th>\n",
       "      <th>Lifetime</th>\n",
       "      <th>Avg_class_frequency_total</th>\n",
       "      <th>Avg_class_frequency_current_month</th>\n",
       "      <th>Churn</th>\n",
       "    </tr>\n",
       "  </thead>\n",
       "  <tbody>\n",
       "    <tr>\n",
       "      <th>0</th>\n",
       "      <td>1</td>\n",
       "      <td>1</td>\n",
       "      <td>1</td>\n",
       "      <td>1</td>\n",
       "      <td>0</td>\n",
       "      <td>6</td>\n",
       "      <td>1</td>\n",
       "      <td>29</td>\n",
       "      <td>14.227470</td>\n",
       "      <td>5.0</td>\n",
       "      <td>3</td>\n",
       "      <td>0.020398</td>\n",
       "      <td>0.000000</td>\n",
       "      <td>0</td>\n",
       "    </tr>\n",
       "    <tr>\n",
       "      <th>1</th>\n",
       "      <td>0</td>\n",
       "      <td>1</td>\n",
       "      <td>0</td>\n",
       "      <td>0</td>\n",
       "      <td>1</td>\n",
       "      <td>12</td>\n",
       "      <td>1</td>\n",
       "      <td>31</td>\n",
       "      <td>113.202938</td>\n",
       "      <td>12.0</td>\n",
       "      <td>7</td>\n",
       "      <td>1.922936</td>\n",
       "      <td>1.910244</td>\n",
       "      <td>0</td>\n",
       "    </tr>\n",
       "    <tr>\n",
       "      <th>2</th>\n",
       "      <td>0</td>\n",
       "      <td>1</td>\n",
       "      <td>1</td>\n",
       "      <td>0</td>\n",
       "      <td>1</td>\n",
       "      <td>1</td>\n",
       "      <td>0</td>\n",
       "      <td>28</td>\n",
       "      <td>129.448479</td>\n",
       "      <td>1.0</td>\n",
       "      <td>2</td>\n",
       "      <td>1.859098</td>\n",
       "      <td>1.736502</td>\n",
       "      <td>0</td>\n",
       "    </tr>\n",
       "    <tr>\n",
       "      <th>3</th>\n",
       "      <td>0</td>\n",
       "      <td>1</td>\n",
       "      <td>1</td>\n",
       "      <td>1</td>\n",
       "      <td>1</td>\n",
       "      <td>12</td>\n",
       "      <td>1</td>\n",
       "      <td>33</td>\n",
       "      <td>62.669863</td>\n",
       "      <td>12.0</td>\n",
       "      <td>2</td>\n",
       "      <td>3.205633</td>\n",
       "      <td>3.357215</td>\n",
       "      <td>0</td>\n",
       "    </tr>\n",
       "    <tr>\n",
       "      <th>4</th>\n",
       "      <td>1</td>\n",
       "      <td>1</td>\n",
       "      <td>1</td>\n",
       "      <td>1</td>\n",
       "      <td>1</td>\n",
       "      <td>1</td>\n",
       "      <td>0</td>\n",
       "      <td>26</td>\n",
       "      <td>198.362265</td>\n",
       "      <td>1.0</td>\n",
       "      <td>3</td>\n",
       "      <td>1.113884</td>\n",
       "      <td>1.120078</td>\n",
       "      <td>0</td>\n",
       "    </tr>\n",
       "  </tbody>\n",
       "</table>\n",
       "</div>"
      ],
      "text/plain": [
       "   gender  Near_Location  Partner  Promo_friends  Phone  Contract_period  \\\n",
       "0       1              1        1              1      0                6   \n",
       "1       0              1        0              0      1               12   \n",
       "2       0              1        1              0      1                1   \n",
       "3       0              1        1              1      1               12   \n",
       "4       1              1        1              1      1                1   \n",
       "\n",
       "   Group_visits  Age  Avg_additional_charges_total  Month_to_end_contract  \\\n",
       "0             1   29                     14.227470                    5.0   \n",
       "1             1   31                    113.202938                   12.0   \n",
       "2             0   28                    129.448479                    1.0   \n",
       "3             1   33                     62.669863                   12.0   \n",
       "4             0   26                    198.362265                    1.0   \n",
       "\n",
       "   Lifetime  Avg_class_frequency_total  Avg_class_frequency_current_month  \\\n",
       "0         3                   0.020398                           0.000000   \n",
       "1         7                   1.922936                           1.910244   \n",
       "2         2                   1.859098                           1.736502   \n",
       "3         2                   3.205633                           3.357215   \n",
       "4         3                   1.113884                           1.120078   \n",
       "\n",
       "   Churn  \n",
       "0      0  \n",
       "1      0  \n",
       "2      0  \n",
       "3      0  \n",
       "4      0  "
      ]
     },
     "execution_count": 4,
     "metadata": {},
     "output_type": "execute_result"
    }
   ],
   "source": [
    "df = pd.read_csv('datasets/gym_churn.csv')\n",
    "df.head()"
   ]
  },
  {
   "cell_type": "code",
   "execution_count": 5,
   "metadata": {},
   "outputs": [
    {
     "name": "stdout",
     "output_type": "stream",
     "text": [
      "<class 'pandas.core.frame.DataFrame'>\n",
      "RangeIndex: 4000 entries, 0 to 3999\n",
      "Data columns (total 14 columns):\n",
      " #   Column                             Non-Null Count  Dtype  \n",
      "---  ------                             --------------  -----  \n",
      " 0   gender                             4000 non-null   int64  \n",
      " 1   Near_Location                      4000 non-null   int64  \n",
      " 2   Partner                            4000 non-null   int64  \n",
      " 3   Promo_friends                      4000 non-null   int64  \n",
      " 4   Phone                              4000 non-null   int64  \n",
      " 5   Contract_period                    4000 non-null   int64  \n",
      " 6   Group_visits                       4000 non-null   int64  \n",
      " 7   Age                                4000 non-null   int64  \n",
      " 8   Avg_additional_charges_total       4000 non-null   float64\n",
      " 9   Month_to_end_contract              4000 non-null   float64\n",
      " 10  Lifetime                           4000 non-null   int64  \n",
      " 11  Avg_class_frequency_total          4000 non-null   float64\n",
      " 12  Avg_class_frequency_current_month  4000 non-null   float64\n",
      " 13  Churn                              4000 non-null   int64  \n",
      "dtypes: float64(4), int64(10)\n",
      "memory usage: 437.6 KB\n"
     ]
    }
   ],
   "source": [
    "df.info()"
   ]
  },
  {
   "cell_type": "markdown",
   "metadata": {},
   "source": [
    "- 13 параметров;\n",
    "\n",
    "- Churn является целевой переменной."
   ]
  },
  {
   "cell_type": "code",
   "execution_count": 6,
   "metadata": {},
   "outputs": [
    {
     "data": {
      "text/plain": [
       "gender                               False\n",
       "Near_Location                        False\n",
       "Partner                              False\n",
       "Promo_friends                        False\n",
       "Phone                                False\n",
       "Contract_period                      False\n",
       "Group_visits                         False\n",
       "Age                                  False\n",
       "Avg_additional_charges_total         False\n",
       "Month_to_end_contract                False\n",
       "Lifetime                             False\n",
       "Avg_class_frequency_total            False\n",
       "Avg_class_frequency_current_month    False\n",
       "Churn                                False\n",
       "dtype: bool"
      ]
     },
     "execution_count": 6,
     "metadata": {},
     "output_type": "execute_result"
    }
   ],
   "source": [
    "df.isna().any()"
   ]
  },
  {
   "cell_type": "markdown",
   "metadata": {},
   "source": [
    "Пропущенные значения не обнаружены."
   ]
  },
  {
   "cell_type": "code",
   "execution_count": 7,
   "metadata": {},
   "outputs": [],
   "source": [
    "left = df[df['Churn']==1]\n",
    "stayed = df[df['Churn']==0]"
   ]
  },
  {
   "cell_type": "code",
   "execution_count": 8,
   "metadata": {},
   "outputs": [
    {
     "data": {
      "text/html": [
       "<div>\n",
       "<style scoped>\n",
       "    .dataframe tbody tr th:only-of-type {\n",
       "        vertical-align: middle;\n",
       "    }\n",
       "\n",
       "    .dataframe tbody tr th {\n",
       "        vertical-align: top;\n",
       "    }\n",
       "\n",
       "    .dataframe thead th {\n",
       "        text-align: right;\n",
       "    }\n",
       "</style>\n",
       "<table border=\"1\" class=\"dataframe\">\n",
       "  <thead>\n",
       "    <tr style=\"text-align: right;\">\n",
       "      <th></th>\n",
       "      <th>count</th>\n",
       "      <th>mean</th>\n",
       "      <th>std</th>\n",
       "      <th>min</th>\n",
       "      <th>25%</th>\n",
       "      <th>50%</th>\n",
       "      <th>75%</th>\n",
       "      <th>max</th>\n",
       "    </tr>\n",
       "  </thead>\n",
       "  <tbody>\n",
       "    <tr>\n",
       "      <th>gender</th>\n",
       "      <td>4000.0</td>\n",
       "      <td>0.510250</td>\n",
       "      <td>0.499957</td>\n",
       "      <td>0.000000</td>\n",
       "      <td>0.000000</td>\n",
       "      <td>1.000000</td>\n",
       "      <td>1.000000</td>\n",
       "      <td>1.000000</td>\n",
       "    </tr>\n",
       "    <tr>\n",
       "      <th>Near_Location</th>\n",
       "      <td>4000.0</td>\n",
       "      <td>0.845250</td>\n",
       "      <td>0.361711</td>\n",
       "      <td>0.000000</td>\n",
       "      <td>1.000000</td>\n",
       "      <td>1.000000</td>\n",
       "      <td>1.000000</td>\n",
       "      <td>1.000000</td>\n",
       "    </tr>\n",
       "    <tr>\n",
       "      <th>Partner</th>\n",
       "      <td>4000.0</td>\n",
       "      <td>0.486750</td>\n",
       "      <td>0.499887</td>\n",
       "      <td>0.000000</td>\n",
       "      <td>0.000000</td>\n",
       "      <td>0.000000</td>\n",
       "      <td>1.000000</td>\n",
       "      <td>1.000000</td>\n",
       "    </tr>\n",
       "    <tr>\n",
       "      <th>Promo_friends</th>\n",
       "      <td>4000.0</td>\n",
       "      <td>0.308500</td>\n",
       "      <td>0.461932</td>\n",
       "      <td>0.000000</td>\n",
       "      <td>0.000000</td>\n",
       "      <td>0.000000</td>\n",
       "      <td>1.000000</td>\n",
       "      <td>1.000000</td>\n",
       "    </tr>\n",
       "    <tr>\n",
       "      <th>Phone</th>\n",
       "      <td>4000.0</td>\n",
       "      <td>0.903500</td>\n",
       "      <td>0.295313</td>\n",
       "      <td>0.000000</td>\n",
       "      <td>1.000000</td>\n",
       "      <td>1.000000</td>\n",
       "      <td>1.000000</td>\n",
       "      <td>1.000000</td>\n",
       "    </tr>\n",
       "    <tr>\n",
       "      <th>Contract_period</th>\n",
       "      <td>4000.0</td>\n",
       "      <td>4.681250</td>\n",
       "      <td>4.549706</td>\n",
       "      <td>1.000000</td>\n",
       "      <td>1.000000</td>\n",
       "      <td>1.000000</td>\n",
       "      <td>6.000000</td>\n",
       "      <td>12.000000</td>\n",
       "    </tr>\n",
       "    <tr>\n",
       "      <th>Group_visits</th>\n",
       "      <td>4000.0</td>\n",
       "      <td>0.412250</td>\n",
       "      <td>0.492301</td>\n",
       "      <td>0.000000</td>\n",
       "      <td>0.000000</td>\n",
       "      <td>0.000000</td>\n",
       "      <td>1.000000</td>\n",
       "      <td>1.000000</td>\n",
       "    </tr>\n",
       "    <tr>\n",
       "      <th>Age</th>\n",
       "      <td>4000.0</td>\n",
       "      <td>29.184250</td>\n",
       "      <td>3.258367</td>\n",
       "      <td>18.000000</td>\n",
       "      <td>27.000000</td>\n",
       "      <td>29.000000</td>\n",
       "      <td>31.000000</td>\n",
       "      <td>41.000000</td>\n",
       "    </tr>\n",
       "    <tr>\n",
       "      <th>Avg_additional_charges_total</th>\n",
       "      <td>4000.0</td>\n",
       "      <td>146.943728</td>\n",
       "      <td>96.355602</td>\n",
       "      <td>0.148205</td>\n",
       "      <td>68.868830</td>\n",
       "      <td>136.220159</td>\n",
       "      <td>210.949625</td>\n",
       "      <td>552.590740</td>\n",
       "    </tr>\n",
       "    <tr>\n",
       "      <th>Month_to_end_contract</th>\n",
       "      <td>4000.0</td>\n",
       "      <td>4.322750</td>\n",
       "      <td>4.191297</td>\n",
       "      <td>1.000000</td>\n",
       "      <td>1.000000</td>\n",
       "      <td>1.000000</td>\n",
       "      <td>6.000000</td>\n",
       "      <td>12.000000</td>\n",
       "    </tr>\n",
       "    <tr>\n",
       "      <th>Lifetime</th>\n",
       "      <td>4000.0</td>\n",
       "      <td>3.724750</td>\n",
       "      <td>3.749267</td>\n",
       "      <td>0.000000</td>\n",
       "      <td>1.000000</td>\n",
       "      <td>3.000000</td>\n",
       "      <td>5.000000</td>\n",
       "      <td>31.000000</td>\n",
       "    </tr>\n",
       "    <tr>\n",
       "      <th>Avg_class_frequency_total</th>\n",
       "      <td>4000.0</td>\n",
       "      <td>1.879020</td>\n",
       "      <td>0.972245</td>\n",
       "      <td>0.000000</td>\n",
       "      <td>1.180875</td>\n",
       "      <td>1.832768</td>\n",
       "      <td>2.536078</td>\n",
       "      <td>6.023668</td>\n",
       "    </tr>\n",
       "    <tr>\n",
       "      <th>Avg_class_frequency_current_month</th>\n",
       "      <td>4000.0</td>\n",
       "      <td>1.767052</td>\n",
       "      <td>1.052906</td>\n",
       "      <td>0.000000</td>\n",
       "      <td>0.963003</td>\n",
       "      <td>1.719574</td>\n",
       "      <td>2.510336</td>\n",
       "      <td>6.146783</td>\n",
       "    </tr>\n",
       "    <tr>\n",
       "      <th>Churn</th>\n",
       "      <td>4000.0</td>\n",
       "      <td>0.265250</td>\n",
       "      <td>0.441521</td>\n",
       "      <td>0.000000</td>\n",
       "      <td>0.000000</td>\n",
       "      <td>0.000000</td>\n",
       "      <td>1.000000</td>\n",
       "      <td>1.000000</td>\n",
       "    </tr>\n",
       "  </tbody>\n",
       "</table>\n",
       "</div>"
      ],
      "text/plain": [
       "                                    count        mean        std        min  \\\n",
       "gender                             4000.0    0.510250   0.499957   0.000000   \n",
       "Near_Location                      4000.0    0.845250   0.361711   0.000000   \n",
       "Partner                            4000.0    0.486750   0.499887   0.000000   \n",
       "Promo_friends                      4000.0    0.308500   0.461932   0.000000   \n",
       "Phone                              4000.0    0.903500   0.295313   0.000000   \n",
       "Contract_period                    4000.0    4.681250   4.549706   1.000000   \n",
       "Group_visits                       4000.0    0.412250   0.492301   0.000000   \n",
       "Age                                4000.0   29.184250   3.258367  18.000000   \n",
       "Avg_additional_charges_total       4000.0  146.943728  96.355602   0.148205   \n",
       "Month_to_end_contract              4000.0    4.322750   4.191297   1.000000   \n",
       "Lifetime                           4000.0    3.724750   3.749267   0.000000   \n",
       "Avg_class_frequency_total          4000.0    1.879020   0.972245   0.000000   \n",
       "Avg_class_frequency_current_month  4000.0    1.767052   1.052906   0.000000   \n",
       "Churn                              4000.0    0.265250   0.441521   0.000000   \n",
       "\n",
       "                                         25%         50%         75%  \\\n",
       "gender                              0.000000    1.000000    1.000000   \n",
       "Near_Location                       1.000000    1.000000    1.000000   \n",
       "Partner                             0.000000    0.000000    1.000000   \n",
       "Promo_friends                       0.000000    0.000000    1.000000   \n",
       "Phone                               1.000000    1.000000    1.000000   \n",
       "Contract_period                     1.000000    1.000000    6.000000   \n",
       "Group_visits                        0.000000    0.000000    1.000000   \n",
       "Age                                27.000000   29.000000   31.000000   \n",
       "Avg_additional_charges_total       68.868830  136.220159  210.949625   \n",
       "Month_to_end_contract               1.000000    1.000000    6.000000   \n",
       "Lifetime                            1.000000    3.000000    5.000000   \n",
       "Avg_class_frequency_total           1.180875    1.832768    2.536078   \n",
       "Avg_class_frequency_current_month   0.963003    1.719574    2.510336   \n",
       "Churn                               0.000000    0.000000    1.000000   \n",
       "\n",
       "                                          max  \n",
       "gender                               1.000000  \n",
       "Near_Location                        1.000000  \n",
       "Partner                              1.000000  \n",
       "Promo_friends                        1.000000  \n",
       "Phone                                1.000000  \n",
       "Contract_period                     12.000000  \n",
       "Group_visits                         1.000000  \n",
       "Age                                 41.000000  \n",
       "Avg_additional_charges_total       552.590740  \n",
       "Month_to_end_contract               12.000000  \n",
       "Lifetime                            31.000000  \n",
       "Avg_class_frequency_total            6.023668  \n",
       "Avg_class_frequency_current_month    6.146783  \n",
       "Churn                                1.000000  "
      ]
     },
     "execution_count": 8,
     "metadata": {},
     "output_type": "execute_result"
    }
   ],
   "source": [
    "df.describe().T"
   ]
  },
  {
   "cell_type": "code",
   "execution_count": 9,
   "metadata": {},
   "outputs": [
    {
     "data": {
      "text/html": [
       "<div>\n",
       "<style scoped>\n",
       "    .dataframe tbody tr th:only-of-type {\n",
       "        vertical-align: middle;\n",
       "    }\n",
       "\n",
       "    .dataframe tbody tr th {\n",
       "        vertical-align: top;\n",
       "    }\n",
       "\n",
       "    .dataframe thead th {\n",
       "        text-align: right;\n",
       "    }\n",
       "</style>\n",
       "<table border=\"1\" class=\"dataframe\">\n",
       "  <thead>\n",
       "    <tr style=\"text-align: right;\">\n",
       "      <th>Churn</th>\n",
       "      <th>0</th>\n",
       "      <th>1</th>\n",
       "    </tr>\n",
       "  </thead>\n",
       "  <tbody>\n",
       "    <tr>\n",
       "      <th>gender</th>\n",
       "      <td>0.510037</td>\n",
       "      <td>0.510839</td>\n",
       "    </tr>\n",
       "    <tr>\n",
       "      <th>Near_Location</th>\n",
       "      <td>0.873086</td>\n",
       "      <td>0.768143</td>\n",
       "    </tr>\n",
       "    <tr>\n",
       "      <th>Partner</th>\n",
       "      <td>0.534195</td>\n",
       "      <td>0.355325</td>\n",
       "    </tr>\n",
       "    <tr>\n",
       "      <th>Promo_friends</th>\n",
       "      <td>0.353522</td>\n",
       "      <td>0.183789</td>\n",
       "    </tr>\n",
       "    <tr>\n",
       "      <th>Phone</th>\n",
       "      <td>0.903709</td>\n",
       "      <td>0.902922</td>\n",
       "    </tr>\n",
       "    <tr>\n",
       "      <th>Contract_period</th>\n",
       "      <td>5.747193</td>\n",
       "      <td>1.728558</td>\n",
       "    </tr>\n",
       "    <tr>\n",
       "      <th>Group_visits</th>\n",
       "      <td>0.464103</td>\n",
       "      <td>0.268615</td>\n",
       "    </tr>\n",
       "    <tr>\n",
       "      <th>Age</th>\n",
       "      <td>29.976523</td>\n",
       "      <td>26.989632</td>\n",
       "    </tr>\n",
       "    <tr>\n",
       "      <th>Avg_additional_charges_total</th>\n",
       "      <td>158.445715</td>\n",
       "      <td>115.082899</td>\n",
       "    </tr>\n",
       "    <tr>\n",
       "      <th>Month_to_end_contract</th>\n",
       "      <td>5.283089</td>\n",
       "      <td>1.662582</td>\n",
       "    </tr>\n",
       "    <tr>\n",
       "      <th>Lifetime</th>\n",
       "      <td>4.711807</td>\n",
       "      <td>0.990575</td>\n",
       "    </tr>\n",
       "    <tr>\n",
       "      <th>Avg_class_frequency_total</th>\n",
       "      <td>2.024876</td>\n",
       "      <td>1.474995</td>\n",
       "    </tr>\n",
       "    <tr>\n",
       "      <th>Avg_class_frequency_current_month</th>\n",
       "      <td>2.027882</td>\n",
       "      <td>1.044546</td>\n",
       "    </tr>\n",
       "  </tbody>\n",
       "</table>\n",
       "</div>"
      ],
      "text/plain": [
       "Churn                                       0           1\n",
       "gender                               0.510037    0.510839\n",
       "Near_Location                        0.873086    0.768143\n",
       "Partner                              0.534195    0.355325\n",
       "Promo_friends                        0.353522    0.183789\n",
       "Phone                                0.903709    0.902922\n",
       "Contract_period                      5.747193    1.728558\n",
       "Group_visits                         0.464103    0.268615\n",
       "Age                                 29.976523   26.989632\n",
       "Avg_additional_charges_total       158.445715  115.082899\n",
       "Month_to_end_contract                5.283089    1.662582\n",
       "Lifetime                             4.711807    0.990575\n",
       "Avg_class_frequency_total            2.024876    1.474995\n",
       "Avg_class_frequency_current_month    2.027882    1.044546"
      ]
     },
     "execution_count": 9,
     "metadata": {},
     "output_type": "execute_result"
    }
   ],
   "source": [
    "new_df = df.groupby('Churn').mean()\n",
    "new_df.T"
   ]
  },
  {
   "cell_type": "markdown",
   "metadata": {},
   "source": [
    "- Примерно 100 клиентов ушли, меньше 3000 клиентов остались;\n",
    "\n",
    "- Анализ возрастов:\n",
    "\n",
    "    - Средний возраст среди ушедших - 27 лет\n",
    "    - Средний возраст среди оставшихся - 30 лет\n",
    "    \n",
    "- В среднем клиенты тратят в районе 158 руб. на доп. услуги среди оставшихся. В среднем клиенты тратят в районе 115 руб. на доп. услуги среди ушедших;\n",
    "\n",
    "- Средняя посещаемость - 1 раз среди ушедших. 2 раза в неделю среди оставшихся;\n",
    "\n",
    "- Срок до окончания текущего действующего абонемента - 1 месяц (медиана) среди ушедших. 6 месяцев (медиана) среди оставшихся."
   ]
  },
  {
   "cell_type": "code",
   "execution_count": 10,
   "metadata": {},
   "outputs": [
    {
     "data": {
      "image/png": "[encoded data removed]",
      "text/plain": [
       "<Figure size 1800x1000 with 8 Axes>"
      ]
     },
     "metadata": {},
     "output_type": "display_data"
    },
    {
     "name": "stdout",
     "output_type": "stream",
     "text": [
      "Среднее Age для ушедших -> 26.99\n",
      "Среднее Lifetime для ушедших -> 0.99\n",
      "Среднее Contract_period для ушедших -> 1.73\n",
      "Среднее Avg_additional_charges_total для ушедших -> 115.08\n",
      "Среднее Month_to_end_contract для ушедших -> 1.66\n",
      "Среднее Avg_class_frequency_total для ушедших -> 1.47\n",
      "Среднее Avg_class_frequency_current_month для ушедших -> 1.04\n",
      "Среднее Age для оставшихся -> 29.98\n",
      "Среднее Lifetime для оставшихся -> 4.71\n",
      "Среднее Contract_period для оставшихся -> 5.75\n",
      "Среднее Avg_additional_charges_total для оставшихся -> 158.45\n",
      "Среднее Month_to_end_contract для оставшихся -> 5.28\n",
      "Среднее Avg_class_frequency_total для оставшихся -> 2.02\n",
      "Среднее Avg_class_frequency_current_month для оставшихся -> 2.03\n"
     ]
    }
   ],
   "source": [
    "features = ['Age', 'Lifetime', 'Contract_period', \n",
    "           'Avg_additional_charges_total', \n",
    "           'Month_to_end_contract', \n",
    "           'Avg_class_frequency_total', \n",
    "           'Avg_class_frequency_current_month']\n",
    "\n",
    "fig, axs = plt.subplots(nrows=2, ncols=4, figsize=(18, 10))\n",
    "plt.subplots_adjust(hspace=0.2)\n",
    "fig.suptitle(\"Признаки ушедших и оставшихся\", fontsize=18, y=0.95)\n",
    "\n",
    "sns.set_style(\"darkgrid\")\n",
    "custom_palette = sns.color_palette(\"blend:#2C8193,#B68EC9\", 2)\n",
    "sns.set_palette(custom_palette)\n",
    "\n",
    "for feature, ax in zip(features, axs.ravel()):\n",
    "    sns.boxplot(data=df, y=feature, x='Churn', ax=ax)\n",
    "    ax.axhline(y = left[feature].mean(), color = \"red\", ls='dashed', linewidth=1.5, xmin=0.5) \n",
    "    ax.axhline(y = stayed[feature].mean(), color = \"red\", linewidth=1.5, xmax=0.5) \n",
    "    ax.set_title(feature.upper())\n",
    "    ax.set_xlabel(\"\")\n",
    "    ax.set_ylabel(\"\")\n",
    "    ax.set_xticklabels(['остались', 'ушли'])\n",
    "    # transparency \n",
    "    for patch in ax.artists:\n",
    "     r, g, b, a = patch.get_facecolor()\n",
    "     patch.set_facecolor((r, g, b, .2))\n",
    "\n",
    "plt.show()\n",
    "\n",
    "tmp = 'ушедших'\n",
    "for i in [left, stayed]:\n",
    "    for j in features:\n",
    "        print('Среднее', j, 'для', tmp , '->', round(i[j].mean(),2))\n",
    "    tmp = 'оставшихся'"
   ]
  },
  {
   "cell_type": "markdown",
   "metadata": {},
   "source": [
    "- Средний возраст ушедших клиентов ниже, чем оставшихся;\n",
    "\n",
    "- У оставшихся клиентов лучше lifetime значение (время с момента первого обращения в фитнес-центр);\n",
    "\n",
    "- Среди ушедших присутствуют единицы, кто покупал абонемент на более, чем полгода;\n",
    "\n",
    "- Обе группы тратят в среднем больше 100 руб. на доп. услуги;\n",
    "\n",
    "- Среди ушедших присутствует группа людей, которые прекратили посещение фитнес-центра за 2-12 месяцев до окончания абонимента;\n",
    "\n",
    "- Средняя посещаемость среди оставшихся - 2 раза в неделю, в то время как среди ушедших - 1 раз в неделю (за предыдущий месяц)."
   ]
  },
  {
   "cell_type": "code",
   "execution_count": 11,
   "metadata": {},
   "outputs": [
    {
     "data": {
      "image/png": "[encoded data removed]",
      "text/plain": [
       "<Figure size 1500x2400 with 8 Axes>"
      ]
     },
     "metadata": {},
     "output_type": "display_data"
    }
   ],
   "source": [
    "categorical = ['gender', 'Near_Location', 'Partner', 'Promo_friends', 'Phone', 'Group_visits']\n",
    "\n",
    "fig, axs = plt.subplots(nrows=4, ncols=2, figsize=(15, 24))\n",
    "plt.subplots_adjust(hspace=0.3)\n",
    "fig.suptitle(\"Распределение признаков ушедших и оставшихся\", fontsize=18, y=0.92)\n",
    "\n",
    "for feature, ax in zip(features, axs.ravel()):\n",
    "    sns.histplot(left[feature], bins=10, kde = True, stat=\"density\", color='#2C8193', alpha=0.5, ax=ax)\n",
    "    sns.histplot(stayed[feature], bins=10, kde = True, stat=\"density\", color='#B68EC9', alpha=0.5, ax=ax)\n",
    "    ax.set_title(feature.upper())\n",
    "    ax.legend(labels=['ушли', 'остались'])\n",
    "    ax.set_xlabel(\"\")\n",
    "    ax.set_ylabel(\"\")\n",
    "    \n",
    "plt.show()"
   ]
  },
  {
   "cell_type": "code",
   "execution_count": 12,
   "metadata": {
    "scrolled": false
   },
   "outputs": [
    {
     "data": {
      "image/png": "[encoded data removed]",
      "text/plain": [
       "<Figure size 1500x2400 with 6 Axes>"
      ]
     },
     "metadata": {},
     "output_type": "display_data"
    }
   ],
   "source": [
    "fig, axs = plt.subplots(nrows=3, ncols=2, figsize=(15, 24))\n",
    "plt.subplots_adjust(hspace=0.3)\n",
    "fig.suptitle(\"Распределение признаков ушедших и оставшихся\", fontsize=18, y=0.92)\n",
    "\n",
    "for feature, ax in zip(categorical, axs.ravel()):\n",
    "    pivot_df = df.groupby(['Churn', feature]).size().to_frame('size').reset_index()\n",
    "    sns.barplot(x=feature, y='size', hue='Churn', data=pivot_df, ax=ax, alpha=0.7)\n",
    "    ax.set_title(feature.upper())\n",
    "    ax.legend(title='Отток')\n",
    "    ax.set_xlabel(\"\")\n",
    "    ax.set_ylabel(\"\")\n",
    "    \n",
    "plt.show()"
   ]
  },
  {
   "cell_type": "markdown",
   "metadata": {},
   "source": [
    "- Пол не влияет на решение о прекращении пользования услугами фитнес-центра;\n",
    "\n",
    "- Большинство клиентов живет или работает неподалеку от фитнес-центра. Факт проживания или места работы в районе, где находится фитнес-центр, не влияет на отток. Т.к., кол-во проживающих вблизи фитнес-центра в обеих группах почти одинаково;\n",
    "\n",
    "- Большинство ушедших прекратили посещение фитнес-центра менее чем за 2 месяца до окончания абонимента;\n",
    "\n",
    "- Клиенты, прекратившие пользование сервисом, реже посещают фитнес-центр."
   ]
  },
  {
   "cell_type": "code",
   "execution_count": 13,
   "metadata": {},
   "outputs": [
    {
     "data": {
      "image/png": "[encoded data removed]",
      "text/plain": [
       "<Figure size 1500x1500 with 2 Axes>"
      ]
     },
     "metadata": {},
     "output_type": "display_data"
    }
   ],
   "source": [
    "cm = df.corr()\n",
    "plt.figure(figsize=(15, 15))\n",
    "sns.heatmap(cm, square = True, annot = True, cmap=sns.color_palette(\"blend:#2C8193,#B68EC9\", as_cmap=True))\n",
    "plt.show()"
   ]
  },
  {
   "cell_type": "markdown",
   "metadata": {},
   "source": [
    "Высокая корреляция:\n",
    "- Month_to_end_contract и Contract_period\t\n",
    "\n",
    "- Avg_class_frequency_total и Avg_class_frequency_current_month"
   ]
  },
  {
   "cell_type": "markdown",
   "metadata": {},
   "source": [
    "## Модель прогнозирования оттока клиентов"
   ]
  },
  {
   "cell_type": "code",
   "execution_count": 14,
   "metadata": {},
   "outputs": [],
   "source": [
    "X = df.drop('Churn', axis=1)\n",
    "y = df['Churn']\n",
    "X_train, X_test, y_train, y_test = train_test_split(X, y, test_size=0.2, random_state=0)\n",
    "\n",
    "scaler = StandardScaler()\n",
    "scaler.fit(X_train)\n",
    "X_train_st = scaler.transform(X_train)\n",
    "X_test_st = scaler.transform(X_test)\n",
    "\n",
    "lr_model = LogisticRegression(solver='liblinear', penalty = 'l1')\n",
    "lr_model.fit(X_train_st, y_train)\n",
    "lr_predictions = lr_model.predict(X_test_st)\n",
    "lr_probabilities = lr_model.predict_proba(X_test_st)[:,1]\n",
    "\n",
    "rf_model = RandomForestClassifier(n_estimators = 100, max_features=7, min_samples_leaf=2, random_state = 0)\n",
    "rf_model.fit(X_train, y_train)\n",
    "rf_predictions = rf_model.predict(X_test)\n",
    "rf_probabilities = rf_model.predict_proba(X_test)[:,1]"
   ]
  },
  {
   "cell_type": "code",
   "execution_count": 15,
   "metadata": {},
   "outputs": [
    {
     "name": "stdout",
     "output_type": "stream",
     "text": [
      "Метрики для модели логистической регрессии:\n",
      "\tAccuracy: 0.92\n",
      "\tPrecision: 0.85\n",
      "\tRecall: 0.83\n",
      "\n",
      "\n",
      "Метрики для модели случайного леса:\n",
      "\tAccuracy: 0.93\n",
      "\tPrecision: 0.84\n",
      "\tRecall: 0.86\n",
      "\n",
      "\n"
     ]
    }
   ],
   "source": [
    "def print_all_metrics(y_true, y_pred, y_proba, title='Метрики классификации'):\n",
    "    print(title)\n",
    "    print('\\tAccuracy: {:.2f}'.format(accuracy_score(y_true, y_pred)))\n",
    "    print('\\tPrecision: {:.2f}'.format(precision_score(y_true, y_pred)))\n",
    "    print('\\tRecall: {:.2f}'.format(recall_score(y_true, y_pred)))\n",
    "    print('\\n')\n",
    "    \n",
    "print_all_metrics(\n",
    "    y_test,\n",
    "    lr_predictions,\n",
    "    lr_probabilities,\n",
    "    title='Метрики для модели логистической регрессии:'\n",
    ")\n",
    "\n",
    "print_all_metrics(\n",
    "    y_test,\n",
    "    rf_predictions,\n",
    "    rf_probabilities,\n",
    "    title='Метрики для модели случайного леса:'\n",
    ")"
   ]
  },
  {
   "cell_type": "markdown",
   "metadata": {},
   "source": [
    "- Обе модели имеют примерно одинаковую долю правильных ответов;\n",
    "\n",
    "- Что касается точности (precision), то модель логистической регрессии показала лучший результат (0.85);\n",
    "\n",
    "- Что касается полноты (recall), следующая метрика равна 0.86 для модели случайного леса;\n",
    "\n",
    "- Если нам важно, чтобы модель всегда срабатывала правильно, то precision метрика более актуальна. Когда цена ошибки высока, то стоит обратить внимание на recall. В нашем случае точность важнее, поэтому стоит выбрать модель логистической регрессии для прогноза оттока. "
   ]
  },
  {
   "cell_type": "markdown",
   "metadata": {},
   "source": [
    "## Кластеризация клиентов"
   ]
  },
  {
   "cell_type": "code",
   "execution_count": 16,
   "metadata": {},
   "outputs": [],
   "source": [
    "scaler = StandardScaler() \n",
    "x_sc = scaler.fit_transform(df.drop(columns = ['Churn'])) "
   ]
  },
  {
   "cell_type": "code",
   "execution_count": null,
   "metadata": {},
   "outputs": [],
   "source": [
    "linked = linkage(x_sc, method = 'ward') \n",
    "plt.figure(figsize=(15, 10))  \n",
    "dendrogram(linked, orientation='top')\n",
    "plt.show() "
   ]
  },
  {
   "cell_type": "markdown",
   "metadata": {},
   "source": [
    "Можно выделить 6 кластеров.  "
   ]
  },
  {
   "cell_type": "code",
   "execution_count": null,
   "metadata": {},
   "outputs": [],
   "source": [
    "km = KMeans(n_clusters=5, random_state=0)\n",
    "labels = km.fit_predict(x_sc)\n",
    "df['group'] = labels\n",
    "cluster_features = df.groupby('group').mean().reset_index()\n",
    "numeric_columns = cluster_features.drop(columns=['group']).columns\n",
    "cluster_features.style.format({i: '{:.2f}' for i in numeric_columns}) \\\n",
    "    .highlight_max(color='#B68EC9', subset=numeric_columns) \\\n",
    "    .highlight_min(color='#2C8193', subset=numeric_columns)"
   ]
  },
  {
   "cell_type": "markdown",
   "metadata": {},
   "source": [
    "Явно выявленные различия средних значений среди групп для параметров Month_to_end_contract, Contract_period.  "
   ]
  },
  {
   "cell_type": "code",
   "execution_count": null,
   "metadata": {},
   "outputs": [],
   "source": [
    "fig, axs = plt.subplots(nrows=4, ncols=2, figsize=(15, 24))\n",
    "plt.subplots_adjust(hspace=0.3)\n",
    "fig.suptitle(\"Распределение признаков для кластеров\", fontsize=18, y=0.92)\n",
    "\n",
    "color = ['#2C8193', '#B68EC9', '#D63232', '#372136', '#699633']\n",
    "\n",
    "for feature, ax in zip(features, axs.ravel()):\n",
    "    for i in df['group'].unique():\n",
    "        sns.kdeplot(df[df['group']==i][feature], color=color[i], label=i+1, legend=True, alpha=0.2, ax=ax)\n",
    "    ax.set_title(feature.upper())\n",
    "    ax.set_xlabel(\"\")\n",
    "    ax.set_ylabel(\"\")\n",
    "    ax.legend()\n",
    "\n",
    "plt.show()"
   ]
  },
  {
   "cell_type": "code",
   "execution_count": null,
   "metadata": {},
   "outputs": [],
   "source": [
    "def plot_categorical(data):\n",
    "    fig, axs = plt.subplots(nrows=3, ncols=2, figsize=(15, 24))\n",
    "    plt.subplots_adjust(hspace=0.3)\n",
    "    fig.suptitle(\"Распределение признаков для кластеров\", fontsize=18, y=0.92)\n",
    "\n",
    "    for feature, ax in zip(categorical, axs.ravel()):\n",
    "        pivot_df = data.groupby(['group', feature]).size().to_frame('size').reset_index()\n",
    "        sns.barplot(x=feature, y='size', hue='group', data=pivot_df, ax=ax, alpha=0.7)\n",
    "        ax.set_title(feature.upper())\n",
    "        ax.legend(title='Кластер')\n",
    "        ax.set_xlabel(\"\")\n",
    "        ax.set_ylabel(\"\")\n",
    "\n",
    "    plt.show()\n",
    "    \n",
    "plot_categorical(df)"
   ]
  },
  {
   "cell_type": "markdown",
   "metadata": {},
   "source": [
    "- 1 кластер:\n",
    "    \n",
    "    - большинство являются сотрудниками компании-партнёра клуба;\n",
    "    \n",
    "    - контрактный период в районе 12 месяцев.\n",
    "    \n",
    "- 2 кластер:\n",
    "\n",
    "    - клиенты не живут/работают вблизи фитнес-центра.\n",
    "  \n",
    "- 3 кластер:\n",
    "\n",
    "    - все клиенты живут/работают вблизи фитнес-центра;\n",
    "    \n",
    "    - характерно использование промокода при оплате первого абонемента.\n",
    " \n",
    "- 4 кластер: \n",
    "\n",
    "    - большинство не являются сотрудниками компании-партнёра клуба;\n",
    "\n",
    "    - контрактный период в районе 1 месяца.\n",
    "\n",
    "- 5 кластер:\n",
    "\n",
    "    - посещают фитнес-центр чаще других."
   ]
  },
  {
   "cell_type": "code",
   "execution_count": null,
   "metadata": {},
   "outputs": [],
   "source": [
    "ratio = df.groupby('group').agg(Sum=('Churn', np.sum), Count=('Churn', 'count'), Mean=('Churn', np.mean)).reset_index()\n",
    "ratio = ratio.rename(columns={\"Sum\": \"left_count\", \"Mean\": \"group_ratio\"})\n",
    "print(ratio.sort_values(by='group_ratio', ascending=False))"
   ]
  },
  {
   "cell_type": "code",
   "execution_count": null,
   "metadata": {},
   "outputs": [],
   "source": [
    "plt.figure(figsize=(8,8))\n",
    " \n",
    "plt.pie(\n",
    "    x=ratio['left_count'], \n",
    "    labels=[1,2,3,4,5],\n",
    "    colors=color,\n",
    "    autopct='%1.2f%%',\n",
    "    textprops={'fontsize':14, 'color':\"b\"}\n",
    ")\n",
    "\n",
    "plt.title(\n",
    "    label=\"Соотношение оттока по кластерам\", \n",
    "    fontdict={\"fontsize\":16}\n",
    ")\n",
    " \n",
    "plt.show()"
   ]
  },
  {
   "cell_type": "markdown",
   "metadata": {},
   "source": [
    "Самая большая доля оттока в 4 кластере (>61%) среди всех кластеров. Самая маленькая в 1 (<3%)."
   ]
  },
  {
   "cell_type": "code",
   "execution_count": null,
   "metadata": {},
   "outputs": [],
   "source": [
    "def plot_(x):\n",
    "    fig, ax =plt.subplots()\n",
    "\n",
    "    sns.kdeplot(\n",
    "        data=df[df['group']==0], \n",
    "        x=x,\n",
    "        label='1 кластер',\n",
    "        legend=True, ax=ax,\n",
    "        color='#2C8193'\n",
    "    )\n",
    "\n",
    "    sns.kdeplot(\n",
    "        data=df[df['group']==3], \n",
    "        x=x, \n",
    "        label='4 кластер',\n",
    "        legend=True, ax=ax,\n",
    "        color='#B68EC9'\n",
    "    )\n",
    "    \n",
    "    plt.axvline(x = df[df['group']==0][x].mean(), color = \"#2C8193\", ls='dashed', linewidth=1.5) \n",
    "    plt.axvline(x = df[df['group']==3][x].mean(), color = \"#B68EC9\", ls='dashed', linewidth=1.5) \n",
    "\n",
    "    ax.set_xlabel('')\n",
    "    ax.set_ylabel('частота')\n",
    "    ax.set_title(x.upper())\n",
    "    ax.legend()\n",
    "\n",
    "    fig.set_figwidth(15)\n",
    "    fig.set_figheight(8)\n",
    "    \n",
    "for feature in features:\n",
    "    plot_(feature)"
   ]
  },
  {
   "cell_type": "code",
   "execution_count": null,
   "metadata": {},
   "outputs": [],
   "source": [
    "new_df = df.query('group == 0 or group == 3')\n",
    "plot_categorical(new_df)"
   ]
  },
  {
   "cell_type": "markdown",
   "metadata": {},
   "source": [
    "Разница между сегментами с высокой (4 кластер) и маленькой (1 кластер) вероятностью оттока:\n",
    "\n",
    "- В основном, длительность текущего действующего абонемента для 1 кластера ~ 11 месяцев, а для 4 кластера ~2 месяц;\n",
    "\n",
    "- Срок до окончания абонемента для 1 кластера значительно больше;\n",
    "\n",
    "- Также клиенты из 1 кластера посещают фитнес-центр чаще;\n",
    "\n",
    "- Большинство из 4 кластера не являются сотрудниками компаний-партнёров. Кроме того, не использовали промо-код от знакомого при оплате первого абонемента. Реже посещали групповые занятия."
   ]
  },
  {
   "cell_type": "markdown",
   "metadata": {},
   "source": [
    "## Общий вывод\n",
    "\n",
    "**Немного о данных:**\n",
    "\n",
    "- Датасет содержит 4000 наблюдений. 13 параметров. Churn является целевой переменной;\n",
    "\n",
    "- Пропущенные значения не обнаружены.\n",
    "\n",
    "**Работа с моделями:**\n",
    "\n",
    "- Чтобы решить проблему мультиколлинеарности, использовалась L1-регуляризация для тренировки логистической регрессии;\n",
    "\n",
    "- Для оценки работы моделей были анализированы метрики Accuracy, Precision и Recall. Обе модели имеют примерно одинаковую долю правильных ответов. Что касается точности (precision), то модель логистической регрессии показала лучший результат (0.85). Полнота (recall) лучше для модели случайного леса (0.86).\n",
    "\n",
    "**Анализ и рекомендации:**\n",
    "\n",
    "- В будущем для прогноза оттока клиентов лучше выбрать модель логистической регрессии;\n",
    "\n",
    "- Самая маленькая доля оттока в 1 кластере. Стоит обратить внимание на параметры характерные для этой группы. А именно:\n",
    "\n",
    "    - большинство являются сотрудниками компании-партнёра клуба;\n",
    "    \n",
    "    - контрактный период в районе 12 месяцев.\n",
    "    \n",
    "- В то же время большинство клиентов из 4 группы, напротив,не являются сотрудниками компании-партнёра клуба и заключают контракт примерно на месяц;\n",
    "  \n",
    "- 5 кластер также имеет небольшую долю оттока. Клиенты из этой группы чаще других посещают фитнес-центр;\n",
    "\n",
    "- Расположение влияет на количество клиентов, но не на отток;\n",
    "\n",
    "- Ушедшие клиенты несколько лет моложе, чем оставшиеся;\n",
    "\n",
    "- Возможной причиной может являться низкая мотивация среди клиентов. Можно предоставить специальные программы или курсы, которые особо выделяют важность занятий спортом.\n",
    "\n",
    "- **Стоит заняться расширением клиентской базы через партнерство.**"
   ]
  },
  {
   "cell_type": "code",
   "execution_count": null,
   "metadata": {},
   "outputs": [],
   "source": []
  }
 ],
 "metadata": {
  "ExecuteTimeLog": [
   {
    "duration": 484,
    "start_time": "2024-04-01T07:06:06.681Z"
   },
   {
    "duration": 141,
    "start_time": "2024-04-01T07:06:18.161Z"
   },
   {
    "duration": 37,
    "start_time": "2024-04-01T07:09:31.583Z"
   },
   {
    "duration": 43,
    "start_time": "2024-04-01T07:10:08.391Z"
   },
   {
    "duration": 70,
    "start_time": "2024-04-01T07:10:59.840Z"
   },
   {
    "duration": 5,
    "start_time": "2024-04-01T07:11:06.455Z"
   },
   {
    "duration": 10,
    "start_time": "2024-04-01T07:11:16.808Z"
   },
   {
    "duration": 9,
    "start_time": "2024-04-01T07:12:40.763Z"
   },
   {
    "duration": 18,
    "start_time": "2024-04-01T07:13:33.881Z"
   },
   {
    "duration": 12,
    "start_time": "2024-04-01T07:13:51.299Z"
   },
   {
    "duration": 7,
    "start_time": "2024-04-01T07:15:29.882Z"
   },
   {
    "duration": 4,
    "start_time": "2024-04-01T07:15:36.428Z"
   },
   {
    "duration": 27,
    "start_time": "2024-04-01T07:15:37.702Z"
   },
   {
    "duration": 25,
    "start_time": "2024-04-01T07:15:56.507Z"
   },
   {
    "duration": 36,
    "start_time": "2024-04-01T07:38:05.330Z"
   },
   {
    "duration": 23,
    "start_time": "2024-04-01T07:38:10.992Z"
   },
   {
    "duration": 22,
    "start_time": "2024-04-01T07:38:21.813Z"
   },
   {
    "duration": 8,
    "start_time": "2024-04-01T07:39:11.666Z"
   },
   {
    "duration": 11,
    "start_time": "2024-04-01T07:39:12.977Z"
   },
   {
    "duration": 23,
    "start_time": "2024-04-01T07:39:21.318Z"
   },
   {
    "duration": 29,
    "start_time": "2024-04-01T07:47:49.428Z"
   },
   {
    "duration": 62,
    "start_time": "2024-04-01T07:48:30.272Z"
   },
   {
    "duration": 61,
    "start_time": "2024-04-01T07:48:41.665Z"
   },
   {
    "duration": 63,
    "start_time": "2024-04-01T07:49:02.359Z"
   },
   {
    "duration": 64,
    "start_time": "2024-04-01T07:49:21.145Z"
   },
   {
    "duration": 27,
    "start_time": "2024-04-01T07:49:42.623Z"
   },
   {
    "duration": 56,
    "start_time": "2024-04-01T07:55:43.499Z"
   },
   {
    "duration": 9,
    "start_time": "2024-04-01T07:55:50.066Z"
   },
   {
    "duration": 11,
    "start_time": "2024-04-01T07:55:50.821Z"
   },
   {
    "duration": 58,
    "start_time": "2024-04-01T07:55:52.352Z"
   },
   {
    "duration": 7,
    "start_time": "2024-04-01T07:58:29.715Z"
   },
   {
    "duration": 11,
    "start_time": "2024-04-01T07:58:32.024Z"
   },
   {
    "duration": 44,
    "start_time": "2024-04-01T07:58:38.247Z"
   },
   {
    "duration": 1611,
    "start_time": "2024-04-01T08:01:31.051Z"
   },
   {
    "duration": 46,
    "start_time": "2024-04-01T08:01:45.425Z"
   },
   {
    "duration": 1622,
    "start_time": "2024-04-01T08:13:07.592Z"
   },
   {
    "duration": 19,
    "start_time": "2024-04-01T08:13:16.272Z"
   },
   {
    "duration": 27,
    "start_time": "2024-04-01T08:13:26.562Z"
   },
   {
    "duration": 26,
    "start_time": "2024-04-01T08:13:33.731Z"
   },
   {
    "duration": 37,
    "start_time": "2024-04-01T08:13:47.558Z"
   },
   {
    "duration": 26,
    "start_time": "2024-04-01T08:14:01.544Z"
   },
   {
    "duration": 839,
    "start_time": "2024-04-01T08:14:39.338Z"
   },
   {
    "duration": 183,
    "start_time": "2024-04-01T08:17:03.742Z"
   },
   {
    "duration": 158,
    "start_time": "2024-04-01T08:17:33.918Z"
   },
   {
    "duration": 271,
    "start_time": "2024-04-01T08:34:07.324Z"
   },
   {
    "duration": 1339,
    "start_time": "2024-04-01T08:34:19.194Z"
   },
   {
    "duration": 251,
    "start_time": "2024-04-01T08:34:44.693Z"
   },
   {
    "duration": 1535,
    "start_time": "2024-04-01T08:35:21.923Z"
   },
   {
    "duration": 1982,
    "start_time": "2024-04-01T08:36:12.531Z"
   },
   {
    "duration": 1584,
    "start_time": "2024-04-01T08:36:23.826Z"
   },
   {
    "duration": 1432,
    "start_time": "2024-04-01T08:39:17.292Z"
   },
   {
    "duration": 1924,
    "start_time": "2024-04-01T08:39:27.307Z"
   },
   {
    "duration": 1425,
    "start_time": "2024-04-01T08:41:04.317Z"
   },
   {
    "duration": 1435,
    "start_time": "2024-04-01T08:42:41.192Z"
   },
   {
    "duration": 54,
    "start_time": "2024-04-01T08:43:41.518Z"
   },
   {
    "duration": 1866,
    "start_time": "2024-04-01T08:43:48.284Z"
   },
   {
    "duration": 799,
    "start_time": "2024-04-01T09:30:42.855Z"
   },
   {
    "duration": 1394,
    "start_time": "2024-04-01T09:30:52.909Z"
   },
   {
    "duration": 846,
    "start_time": "2024-04-01T09:45:31.169Z"
   },
   {
    "duration": 21,
    "start_time": "2024-04-01T09:45:43.899Z"
   },
   {
    "duration": 963,
    "start_time": "2024-04-01T09:46:22.004Z"
   },
   {
    "duration": 19,
    "start_time": "2024-04-01T09:46:39.389Z"
   },
   {
    "duration": 829,
    "start_time": "2024-04-01T10:11:58.128Z"
   },
   {
    "duration": 799,
    "start_time": "2024-04-01T10:12:07.041Z"
   },
   {
    "duration": 649,
    "start_time": "2024-04-01T10:15:50.500Z"
   },
   {
    "duration": 707,
    "start_time": "2024-04-01T10:16:02.399Z"
   },
   {
    "duration": 677,
    "start_time": "2024-04-01T10:16:31.359Z"
   },
   {
    "duration": 1200,
    "start_time": "2024-04-01T10:18:40.143Z"
   },
   {
    "duration": 673,
    "start_time": "2024-04-01T10:18:48.626Z"
   },
   {
    "duration": 614,
    "start_time": "2024-04-01T10:18:55.457Z"
   },
   {
    "duration": 653,
    "start_time": "2024-04-01T10:19:03.312Z"
   },
   {
    "duration": 711,
    "start_time": "2024-04-01T10:19:13.037Z"
   },
   {
    "duration": 546,
    "start_time": "2024-04-01T10:19:28.665Z"
   },
   {
    "duration": 787,
    "start_time": "2024-04-01T10:19:38.087Z"
   },
   {
    "duration": 573,
    "start_time": "2024-04-01T10:19:57.318Z"
   },
   {
    "duration": 1242,
    "start_time": "2024-04-01T10:20:06.811Z"
   },
   {
    "duration": 766,
    "start_time": "2024-04-01T10:21:26.662Z"
   },
   {
    "duration": 715,
    "start_time": "2024-04-01T10:21:40.225Z"
   },
   {
    "duration": 703,
    "start_time": "2024-04-01T10:21:47.252Z"
   },
   {
    "duration": 719,
    "start_time": "2024-04-01T10:21:51.936Z"
   },
   {
    "duration": 695,
    "start_time": "2024-04-01T10:21:56.248Z"
   },
   {
    "duration": 5,
    "start_time": "2024-04-01T10:22:13.981Z"
   },
   {
    "duration": 715,
    "start_time": "2024-04-01T10:22:18.135Z"
   },
   {
    "duration": 1254,
    "start_time": "2024-04-01T10:22:31.526Z"
   },
   {
    "duration": 719,
    "start_time": "2024-04-01T10:23:12.383Z"
   },
   {
    "duration": 84,
    "start_time": "2024-04-01T10:25:23.049Z"
   },
   {
    "duration": 90,
    "start_time": "2024-04-01T10:25:29.322Z"
   },
   {
    "duration": 786,
    "start_time": "2024-04-01T10:25:33.815Z"
   },
   {
    "duration": 90,
    "start_time": "2024-04-01T10:26:08.995Z"
   },
   {
    "duration": 771,
    "start_time": "2024-04-01T10:26:13.918Z"
   },
   {
    "duration": 6,
    "start_time": "2024-04-01T10:26:45.017Z"
   },
   {
    "duration": 755,
    "start_time": "2024-04-01T10:28:13.539Z"
   },
   {
    "duration": 804,
    "start_time": "2024-04-01T10:28:26.221Z"
   },
   {
    "duration": 787,
    "start_time": "2024-04-01T10:28:34.130Z"
   },
   {
    "duration": 765,
    "start_time": "2024-04-01T10:28:56.663Z"
   },
   {
    "duration": 1283,
    "start_time": "2024-04-01T10:29:05.113Z"
   },
   {
    "duration": 728,
    "start_time": "2024-04-01T10:29:12.965Z"
   },
   {
    "duration": 742,
    "start_time": "2024-04-01T10:29:22.205Z"
   },
   {
    "duration": 753,
    "start_time": "2024-04-01T10:29:29.777Z"
   },
   {
    "duration": 752,
    "start_time": "2024-04-01T10:29:36.075Z"
   },
   {
    "duration": 752,
    "start_time": "2024-04-01T10:29:41.875Z"
   },
   {
    "duration": 774,
    "start_time": "2024-04-01T10:30:25.414Z"
   },
   {
    "duration": 1407,
    "start_time": "2024-04-01T10:30:31.923Z"
   },
   {
    "duration": 877,
    "start_time": "2024-04-01T10:30:44.231Z"
   },
   {
    "duration": 859,
    "start_time": "2024-04-01T10:30:49.441Z"
   },
   {
    "duration": 891,
    "start_time": "2024-04-01T10:30:53.631Z"
   },
   {
    "duration": 899,
    "start_time": "2024-04-01T10:31:24.200Z"
   },
   {
    "duration": 839,
    "start_time": "2024-04-01T10:31:32.098Z"
   },
   {
    "duration": 901,
    "start_time": "2024-04-01T10:31:36.407Z"
   },
   {
    "duration": 837,
    "start_time": "2024-04-01T10:31:41.793Z"
   },
   {
    "duration": 1356,
    "start_time": "2024-04-01T10:33:26.695Z"
   },
   {
    "duration": 895,
    "start_time": "2024-04-01T10:33:38.577Z"
   },
   {
    "duration": 879,
    "start_time": "2024-04-01T10:33:51.805Z"
   },
   {
    "duration": 897,
    "start_time": "2024-04-01T10:34:44.657Z"
   },
   {
    "duration": 82,
    "start_time": "2024-04-01T10:36:27.819Z"
   },
   {
    "duration": 900,
    "start_time": "2024-04-01T10:36:32.293Z"
   },
   {
    "duration": 866,
    "start_time": "2024-04-01T10:37:01.445Z"
   },
   {
    "duration": 851,
    "start_time": "2024-04-01T10:37:07.970Z"
   },
   {
    "duration": 1400,
    "start_time": "2024-04-01T10:37:12.929Z"
   },
   {
    "duration": 1119,
    "start_time": "2024-04-01T10:46:07.288Z"
   },
   {
    "duration": 890,
    "start_time": "2024-04-01T10:46:18.534Z"
   },
   {
    "duration": 1280,
    "start_time": "2024-04-01T10:46:52.916Z"
   },
   {
    "duration": 1252,
    "start_time": "2024-04-01T10:47:43.965Z"
   },
   {
    "duration": 1215,
    "start_time": "2024-04-01T10:48:27.200Z"
   },
   {
    "duration": 1243,
    "start_time": "2024-04-01T10:50:20.839Z"
   },
   {
    "duration": 994,
    "start_time": "2024-04-01T10:51:54.641Z"
   },
   {
    "duration": 1810,
    "start_time": "2024-04-01T10:52:33.993Z"
   },
   {
    "duration": 1363,
    "start_time": "2024-04-01T10:52:56.624Z"
   },
   {
    "duration": 1157,
    "start_time": "2024-04-01T10:53:06.231Z"
   },
   {
    "duration": 1208,
    "start_time": "2024-04-01T10:53:18.660Z"
   },
   {
    "duration": 1205,
    "start_time": "2024-04-01T10:53:39.991Z"
   },
   {
    "duration": 1197,
    "start_time": "2024-04-01T10:55:03.760Z"
   },
   {
    "duration": 18642,
    "start_time": "2024-04-01T10:55:50.668Z"
   },
   {
    "duration": 16867,
    "start_time": "2024-04-01T10:56:18.605Z"
   },
   {
    "duration": 2792,
    "start_time": "2024-04-01T11:17:38.400Z"
   },
   {
    "duration": 10,
    "start_time": "2024-04-01T11:25:55.223Z"
   },
   {
    "duration": 140,
    "start_time": "2024-04-01T11:26:06.602Z"
   },
   {
    "duration": 2800,
    "start_time": "2024-04-01T11:26:20.676Z"
   },
   {
    "duration": 2477,
    "start_time": "2024-04-01T11:26:32.256Z"
   },
   {
    "duration": 2972,
    "start_time": "2024-04-01T11:26:49.832Z"
   },
   {
    "duration": 154,
    "start_time": "2024-04-01T11:27:20.954Z"
   },
   {
    "duration": 2721,
    "start_time": "2024-04-01T11:27:38.106Z"
   },
   {
    "duration": 3147,
    "start_time": "2024-04-01T11:31:03.979Z"
   },
   {
    "duration": 3673,
    "start_time": "2024-04-01T11:31:20.988Z"
   },
   {
    "duration": 3175,
    "start_time": "2024-04-01T11:31:52.886Z"
   },
   {
    "duration": 2888,
    "start_time": "2024-04-01T11:32:16.835Z"
   },
   {
    "duration": 3455,
    "start_time": "2024-04-01T11:33:26.803Z"
   },
   {
    "duration": 16231,
    "start_time": "2024-04-01T11:35:12.285Z"
   },
   {
    "duration": 1844,
    "start_time": "2024-04-01T11:35:32.187Z"
   },
   {
    "duration": 1645,
    "start_time": "2024-04-01T11:36:34.425Z"
   },
   {
    "duration": 3350,
    "start_time": "2024-04-01T11:37:10.149Z"
   },
   {
    "duration": 2159,
    "start_time": "2024-04-01T11:37:52.333Z"
   },
   {
    "duration": 2853,
    "start_time": "2024-04-01T11:38:07.811Z"
   },
   {
    "duration": 3025,
    "start_time": "2024-04-01T11:38:22.047Z"
   },
   {
    "duration": 2702,
    "start_time": "2024-04-01T11:38:41.975Z"
   },
   {
    "duration": 3407,
    "start_time": "2024-04-01T11:39:06.072Z"
   },
   {
    "duration": 2890,
    "start_time": "2024-04-01T11:39:17.723Z"
   },
   {
    "duration": 3354,
    "start_time": "2024-04-01T11:39:44.111Z"
   },
   {
    "duration": 2912,
    "start_time": "2024-04-01T11:39:57.711Z"
   },
   {
    "duration": 2809,
    "start_time": "2024-04-01T11:40:05.715Z"
   },
   {
    "duration": 3410,
    "start_time": "2024-04-01T11:40:19.313Z"
   },
   {
    "duration": 2853,
    "start_time": "2024-04-01T11:42:01.348Z"
   },
   {
    "duration": 2825,
    "start_time": "2024-04-01T11:42:16.816Z"
   },
   {
    "duration": 3399,
    "start_time": "2024-04-01T11:42:29.475Z"
   },
   {
    "duration": 2819,
    "start_time": "2024-04-01T11:43:30.994Z"
   },
   {
    "duration": 2759,
    "start_time": "2024-04-01T11:44:07.755Z"
   },
   {
    "duration": 3328,
    "start_time": "2024-04-01T11:44:23.627Z"
   },
   {
    "duration": 2982,
    "start_time": "2024-04-01T11:44:42.957Z"
   },
   {
    "duration": 1285,
    "start_time": "2024-04-01T11:45:17.128Z"
   },
   {
    "duration": 3545,
    "start_time": "2024-04-01T11:45:23.315Z"
   },
   {
    "duration": 1325,
    "start_time": "2024-04-01T11:46:17.002Z"
   },
   {
    "duration": 2973,
    "start_time": "2024-04-01T11:46:19.503Z"
   },
   {
    "duration": 1412,
    "start_time": "2024-04-01T11:46:34.110Z"
   },
   {
    "duration": 1289,
    "start_time": "2024-04-01T11:47:46.507Z"
   },
   {
    "duration": 3472,
    "start_time": "2024-04-01T11:47:51.317Z"
   },
   {
    "duration": 1373,
    "start_time": "2024-04-01T11:47:55.641Z"
   },
   {
    "duration": 911,
    "start_time": "2024-04-01T11:48:07.555Z"
   },
   {
    "duration": 893,
    "start_time": "2024-04-01T11:48:29.029Z"
   },
   {
    "duration": 899,
    "start_time": "2024-04-01T11:49:30.532Z"
   },
   {
    "duration": 875,
    "start_time": "2024-04-01T11:50:16.319Z"
   },
   {
    "duration": 1283,
    "start_time": "2024-04-01T11:51:24.035Z"
   },
   {
    "duration": 1452,
    "start_time": "2024-04-01T11:52:20.778Z"
   },
   {
    "duration": 920,
    "start_time": "2024-04-01T11:54:57.916Z"
   },
   {
    "duration": 909,
    "start_time": "2024-04-01T11:55:25.549Z"
   },
   {
    "duration": 1464,
    "start_time": "2024-04-01T11:56:05.351Z"
   },
   {
    "duration": 931,
    "start_time": "2024-04-01T11:56:17.199Z"
   },
   {
    "duration": 1445,
    "start_time": "2024-04-01T11:57:00.801Z"
   },
   {
    "duration": 1461,
    "start_time": "2024-04-01T11:57:17.273Z"
   },
   {
    "duration": 892,
    "start_time": "2024-04-01T11:57:40.701Z"
   },
   {
    "duration": 1237,
    "start_time": "2024-04-01T11:59:15.934Z"
   },
   {
    "duration": 1874,
    "start_time": "2024-04-01T12:00:05.140Z"
   },
   {
    "duration": 1269,
    "start_time": "2024-04-01T12:00:19.045Z"
   },
   {
    "duration": 1174,
    "start_time": "2024-04-01T12:00:46.739Z"
   },
   {
    "duration": 1274,
    "start_time": "2024-04-01T12:01:15.917Z"
   },
   {
    "duration": 2957,
    "start_time": "2024-04-01T12:01:22.397Z"
   },
   {
    "duration": 3426,
    "start_time": "2024-04-01T12:01:40.727Z"
   },
   {
    "duration": 2874,
    "start_time": "2024-04-01T12:03:28.715Z"
   },
   {
    "duration": 3254,
    "start_time": "2024-04-01T12:04:13.531Z"
   },
   {
    "duration": 3647,
    "start_time": "2024-04-01T12:06:25.057Z"
   },
   {
    "duration": 6,
    "start_time": "2024-04-01T12:07:36.685Z"
   },
   {
    "duration": 24,
    "start_time": "2024-04-01T12:07:41.076Z"
   },
   {
    "duration": 82,
    "start_time": "2024-04-01T12:08:52.319Z"
   },
   {
    "duration": 24,
    "start_time": "2024-04-01T12:11:35.322Z"
   },
   {
    "duration": 17,
    "start_time": "2024-04-01T12:12:23.648Z"
   },
   {
    "duration": 43,
    "start_time": "2024-04-01T12:12:30.913Z"
   },
   {
    "duration": 43,
    "start_time": "2024-04-01T12:12:50.811Z"
   },
   {
    "duration": 14,
    "start_time": "2024-04-01T14:31:11.486Z"
   },
   {
    "duration": 14,
    "start_time": "2024-04-01T14:31:19.194Z"
   },
   {
    "duration": 299,
    "start_time": "2024-04-01T14:31:33.231Z"
   },
   {
    "duration": 7,
    "start_time": "2024-04-01T14:31:37.346Z"
   },
   {
    "duration": 21,
    "start_time": "2024-04-01T14:32:12.139Z"
   },
   {
    "duration": 31,
    "start_time": "2024-04-01T14:33:34.349Z"
   },
   {
    "duration": 588,
    "start_time": "2024-04-01T14:36:58.475Z"
   },
   {
    "duration": 27,
    "start_time": "2024-04-01T14:37:00.823Z"
   },
   {
    "duration": 3,
    "start_time": "2024-04-01T14:37:20.716Z"
   },
   {
    "duration": 12,
    "start_time": "2024-04-01T14:37:25.999Z"
   },
   {
    "duration": 3,
    "start_time": "2024-04-01T14:39:36.579Z"
   },
   {
    "duration": 14,
    "start_time": "2024-04-01T14:40:06.042Z"
   },
   {
    "duration": 10,
    "start_time": "2024-04-01T14:40:13.232Z"
   },
   {
    "duration": 9,
    "start_time": "2024-04-01T14:42:14.668Z"
   },
   {
    "duration": 4,
    "start_time": "2024-04-01T14:47:56.675Z"
   },
   {
    "duration": 119506,
    "start_time": "2024-04-01T14:48:38.855Z"
   },
   {
    "duration": 10,
    "start_time": "2024-04-01T14:52:34.160Z"
   },
   {
    "duration": 19,
    "start_time": "2024-04-01T14:52:39.291Z"
   },
   {
    "duration": 1437,
    "start_time": "2024-04-01T14:52:44.059Z"
   },
   {
    "duration": 4,
    "start_time": "2024-04-01T14:53:28.517Z"
   },
   {
    "duration": 34886,
    "start_time": "2024-04-01T14:53:56.765Z"
   },
   {
    "duration": 5,
    "start_time": "2024-04-01T15:09:38.554Z"
   },
   {
    "duration": 1531,
    "start_time": "2024-04-01T15:09:57.527Z"
   },
   {
    "duration": 4,
    "start_time": "2024-04-01T15:10:32.777Z"
   },
   {
    "duration": 3023,
    "start_time": "2024-04-01T15:10:34.183Z"
   },
   {
    "duration": 2273,
    "start_time": "2024-04-01T15:11:54.745Z"
   },
   {
    "duration": 2417,
    "start_time": "2024-04-01T15:12:07.694Z"
   },
   {
    "duration": 2306,
    "start_time": "2024-04-01T15:12:20.454Z"
   },
   {
    "duration": 2936,
    "start_time": "2024-04-01T15:12:26.539Z"
   },
   {
    "duration": 2306,
    "start_time": "2024-04-01T15:12:35.685Z"
   },
   {
    "duration": 1977,
    "start_time": "2024-04-02T07:21:25.461Z"
   },
   {
    "duration": 145,
    "start_time": "2024-04-02T07:21:27.440Z"
   },
   {
    "duration": 15,
    "start_time": "2024-04-02T07:21:27.586Z"
   },
   {
    "duration": 15,
    "start_time": "2024-04-02T07:21:27.603Z"
   },
   {
    "duration": 94,
    "start_time": "2024-04-02T07:21:27.620Z"
   },
   {
    "duration": 1394,
    "start_time": "2024-04-02T07:21:27.716Z"
   },
   {
    "duration": 1289,
    "start_time": "2024-04-02T07:21:40.143Z"
   },
   {
    "duration": 1721,
    "start_time": "2024-04-02T07:21:46.586Z"
   },
   {
    "duration": 3374,
    "start_time": "2024-04-02T07:21:56.090Z"
   },
   {
    "duration": 1314,
    "start_time": "2024-04-02T07:25:31.409Z"
   },
   {
    "duration": 3231,
    "start_time": "2024-04-02T07:44:28.568Z"
   },
   {
    "duration": 3418,
    "start_time": "2024-04-02T07:54:19.664Z"
   },
   {
    "duration": 3084,
    "start_time": "2024-04-02T07:54:34.604Z"
   },
   {
    "duration": 3651,
    "start_time": "2024-04-02T07:55:05.996Z"
   },
   {
    "duration": 3643,
    "start_time": "2024-04-02T07:55:41.319Z"
   },
   {
    "duration": 3360,
    "start_time": "2024-04-02T08:37:53.417Z"
   },
   {
    "duration": 86,
    "start_time": "2024-04-02T08:41:56.068Z"
   },
   {
    "duration": 18,
    "start_time": "2024-04-02T08:48:05.090Z"
   },
   {
    "duration": 1684,
    "start_time": "2024-04-02T08:48:08.760Z"
   },
   {
    "duration": 2022,
    "start_time": "2024-04-02T08:48:47.801Z"
   },
   {
    "duration": 1611,
    "start_time": "2024-04-02T08:49:05.917Z"
   },
   {
    "duration": 1642,
    "start_time": "2024-04-02T14:35:12.461Z"
   },
   {
    "duration": 4,
    "start_time": "2024-04-02T14:36:46.495Z"
   },
   {
    "duration": 150,
    "start_time": "2024-04-02T14:36:46.501Z"
   },
   {
    "duration": 13,
    "start_time": "2024-04-02T14:36:46.653Z"
   },
   {
    "duration": 16,
    "start_time": "2024-04-02T14:36:46.668Z"
   },
   {
    "duration": 70,
    "start_time": "2024-04-02T14:36:46.686Z"
   },
   {
    "duration": 1247,
    "start_time": "2024-04-02T14:36:46.853Z"
   },
   {
    "duration": 2899,
    "start_time": "2024-04-02T14:36:48.102Z"
   },
   {
    "duration": 1543,
    "start_time": "2024-04-02T14:36:51.002Z"
   },
   {
    "duration": 634,
    "start_time": "2024-04-02T14:36:59.078Z"
   },
   {
    "duration": 11,
    "start_time": "2024-04-02T14:37:00.900Z"
   },
   {
    "duration": 584,
    "start_time": "2024-04-02T14:37:15.735Z"
   },
   {
    "duration": 11,
    "start_time": "2024-04-02T14:37:17.392Z"
   },
   {
    "duration": 578,
    "start_time": "2024-04-02T14:38:11.662Z"
   },
   {
    "duration": 10,
    "start_time": "2024-04-02T14:38:12.444Z"
   },
   {
    "duration": 552,
    "start_time": "2024-04-02T14:38:25.675Z"
   },
   {
    "duration": 11,
    "start_time": "2024-04-02T14:38:26.493Z"
   },
   {
    "duration": 617,
    "start_time": "2024-04-02T14:38:37.201Z"
   },
   {
    "duration": 11,
    "start_time": "2024-04-02T14:38:39.255Z"
   },
   {
    "duration": 11,
    "start_time": "2024-04-02T14:41:02.879Z"
   },
   {
    "duration": 382,
    "start_time": "2024-04-02T14:56:04.465Z"
   },
   {
    "duration": 11,
    "start_time": "2024-04-02T14:56:05.158Z"
   },
   {
    "duration": 607,
    "start_time": "2024-04-02T14:56:17.574Z"
   },
   {
    "duration": 10,
    "start_time": "2024-04-02T14:56:18.223Z"
   },
   {
    "duration": 596,
    "start_time": "2024-04-02T14:59:10.513Z"
   },
   {
    "duration": 11,
    "start_time": "2024-04-02T14:59:11.351Z"
   },
   {
    "duration": 550,
    "start_time": "2024-04-02T14:59:20.078Z"
   },
   {
    "duration": 11,
    "start_time": "2024-04-02T14:59:21.450Z"
   },
   {
    "duration": 542,
    "start_time": "2024-04-02T14:59:48.643Z"
   },
   {
    "duration": 11,
    "start_time": "2024-04-02T14:59:49.603Z"
   },
   {
    "duration": 522,
    "start_time": "2024-04-02T14:59:53.485Z"
   },
   {
    "duration": 12,
    "start_time": "2024-04-02T14:59:54.243Z"
   },
   {
    "duration": 699,
    "start_time": "2024-04-02T14:59:58.367Z"
   },
   {
    "duration": 12,
    "start_time": "2024-04-02T14:59:59.068Z"
   },
   {
    "duration": 552,
    "start_time": "2024-04-02T15:00:32.290Z"
   },
   {
    "duration": 11,
    "start_time": "2024-04-02T15:00:33.470Z"
   },
   {
    "duration": 722,
    "start_time": "2024-04-02T15:00:40.219Z"
   },
   {
    "duration": 11,
    "start_time": "2024-04-02T15:00:41.369Z"
   },
   {
    "duration": 850,
    "start_time": "2024-04-02T15:00:51.051Z"
   },
   {
    "duration": 12,
    "start_time": "2024-04-02T15:00:51.903Z"
   },
   {
    "duration": 756,
    "start_time": "2024-04-02T15:00:56.544Z"
   },
   {
    "duration": 11,
    "start_time": "2024-04-02T15:00:57.338Z"
   },
   {
    "duration": 642,
    "start_time": "2024-04-02T15:01:01.101Z"
   },
   {
    "duration": 10,
    "start_time": "2024-04-02T15:01:01.745Z"
   },
   {
    "duration": 715,
    "start_time": "2024-04-02T15:01:05.783Z"
   },
   {
    "duration": 10,
    "start_time": "2024-04-02T15:01:06.913Z"
   },
   {
    "duration": 8,
    "start_time": "2024-04-02T15:26:43.098Z"
   },
   {
    "duration": 144,
    "start_time": "2024-04-02T15:27:17.106Z"
   },
   {
    "duration": 8,
    "start_time": "2024-04-02T15:27:57.048Z"
   },
   {
    "duration": 10,
    "start_time": "2024-04-02T15:27:58.422Z"
   },
   {
    "duration": 12,
    "start_time": "2024-04-02T15:28:06.529Z"
   },
   {
    "duration": 111286,
    "start_time": "2024-04-02T15:28:07.248Z"
   },
   {
    "duration": 0,
    "start_time": "2024-04-02T16:37:56.989Z"
   },
   {
    "duration": 114486,
    "start_time": "2024-04-02T16:41:14.943Z"
   },
   {
    "duration": 1454,
    "start_time": "2024-04-03T01:54:18.984Z"
   },
   {
    "duration": 111,
    "start_time": "2024-04-03T01:54:20.440Z"
   },
   {
    "duration": 9,
    "start_time": "2024-04-03T01:54:20.552Z"
   },
   {
    "duration": 6,
    "start_time": "2024-04-03T01:54:20.563Z"
   },
   {
    "duration": 39,
    "start_time": "2024-04-03T01:54:20.570Z"
   },
   {
    "duration": 1052,
    "start_time": "2024-04-03T01:54:20.611Z"
   },
   {
    "duration": 2404,
    "start_time": "2024-04-03T01:54:21.664Z"
   },
   {
    "duration": 1254,
    "start_time": "2024-04-03T01:54:24.069Z"
   },
   {
    "duration": 651,
    "start_time": "2024-04-03T01:54:25.325Z"
   },
   {
    "duration": 11,
    "start_time": "2024-04-03T01:54:25.978Z"
   },
   {
    "duration": 12,
    "start_time": "2024-04-03T01:54:25.990Z"
   },
   {
    "duration": 23,
    "start_time": "2024-04-03T01:54:26.004Z"
   },
   {
    "duration": 0,
    "start_time": "2024-04-03T01:55:30.640Z"
   },
   {
    "duration": 0,
    "start_time": "2024-04-03T01:55:30.641Z"
   },
   {
    "duration": 0,
    "start_time": "2024-04-03T01:55:30.641Z"
   },
   {
    "duration": 3,
    "start_time": "2024-04-03T01:55:42.901Z"
   },
   {
    "duration": 42,
    "start_time": "2024-04-03T01:55:42.905Z"
   },
   {
    "duration": 9,
    "start_time": "2024-04-03T01:55:42.948Z"
   },
   {
    "duration": 16,
    "start_time": "2024-04-03T01:55:42.958Z"
   },
   {
    "duration": 35,
    "start_time": "2024-04-03T01:55:42.975Z"
   },
   {
    "duration": 939,
    "start_time": "2024-04-03T01:55:43.011Z"
   },
   {
    "duration": 2541,
    "start_time": "2024-04-03T01:55:43.951Z"
   },
   {
    "duration": 1211,
    "start_time": "2024-04-03T01:55:46.494Z"
   },
   {
    "duration": 673,
    "start_time": "2024-04-03T01:55:47.708Z"
   },
   {
    "duration": 17,
    "start_time": "2024-04-03T01:55:48.383Z"
   },
   {
    "duration": 10,
    "start_time": "2024-04-03T01:55:48.401Z"
   },
   {
    "duration": 85294,
    "start_time": "2024-04-03T01:55:48.412Z"
   },
   {
    "duration": 995,
    "start_time": "2024-04-03T01:57:13.707Z"
   },
   {
    "duration": 3041,
    "start_time": "2024-04-03T01:57:14.703Z"
   },
   {
    "duration": 3793,
    "start_time": "2024-04-03T02:01:24.741Z"
   },
   {
    "duration": 3346,
    "start_time": "2024-04-03T02:01:30.143Z"
   },
   {
    "duration": 3278,
    "start_time": "2024-04-03T02:02:21.426Z"
   },
   {
    "duration": 3410,
    "start_time": "2024-04-03T02:02:39.630Z"
   },
   {
    "duration": 3270,
    "start_time": "2024-04-03T02:04:19.758Z"
   },
   {
    "duration": 3095,
    "start_time": "2024-04-03T02:04:36.250Z"
   },
   {
    "duration": 902,
    "start_time": "2024-04-03T02:07:49.406Z"
   },
   {
    "duration": 3614,
    "start_time": "2024-04-03T02:08:19.742Z"
   },
   {
    "duration": 3493,
    "start_time": "2024-04-03T02:12:19.619Z"
   },
   {
    "duration": 3369,
    "start_time": "2024-04-03T02:12:42.209Z"
   },
   {
    "duration": 3639,
    "start_time": "2024-04-03T02:13:36.769Z"
   },
   {
    "duration": 3461,
    "start_time": "2024-04-03T02:13:45.447Z"
   },
   {
    "duration": 110,
    "start_time": "2024-04-03T02:24:05.852Z"
   },
   {
    "duration": 3494,
    "start_time": "2024-04-03T02:24:18.222Z"
   },
   {
    "duration": 1533,
    "start_time": "2024-04-03T02:24:46.395Z"
   },
   {
    "duration": 2308,
    "start_time": "2024-04-03T02:27:01.192Z"
   },
   {
    "duration": 2411,
    "start_time": "2024-04-03T02:28:06.161Z"
   },
   {
    "duration": 2696,
    "start_time": "2024-04-03T02:28:28.375Z"
   },
   {
    "duration": 2802,
    "start_time": "2024-04-03T02:29:30.794Z"
   },
   {
    "duration": 2942,
    "start_time": "2024-04-03T02:29:59.331Z"
   },
   {
    "duration": 2746,
    "start_time": "2024-04-03T02:32:00.576Z"
   },
   {
    "duration": 2814,
    "start_time": "2024-04-03T02:32:16.878Z"
   },
   {
    "duration": 13,
    "start_time": "2024-04-03T03:23:36.711Z"
   },
   {
    "duration": 2861,
    "start_time": "2024-04-03T03:24:13.593Z"
   },
   {
    "duration": 55,
    "start_time": "2024-04-03T03:49:46.587Z"
   },
   {
    "duration": 10,
    "start_time": "2024-04-03T03:49:54.489Z"
   },
   {
    "duration": 8,
    "start_time": "2024-04-03T03:49:58.774Z"
   },
   {
    "duration": 7,
    "start_time": "2024-04-03T03:50:19.615Z"
   },
   {
    "duration": 9,
    "start_time": "2024-04-03T03:52:10.513Z"
   },
   {
    "duration": 6,
    "start_time": "2024-04-03T03:53:32.492Z"
   },
   {
    "duration": 6,
    "start_time": "2024-04-03T03:53:38.129Z"
   },
   {
    "duration": 6,
    "start_time": "2024-04-03T03:53:50.898Z"
   },
   {
    "duration": 8,
    "start_time": "2024-04-03T03:55:32.829Z"
   },
   {
    "duration": 3,
    "start_time": "2024-04-03T03:55:54.183Z"
   },
   {
    "duration": 10,
    "start_time": "2024-04-03T03:55:59.002Z"
   },
   {
    "duration": 11,
    "start_time": "2024-04-03T03:56:23.611Z"
   },
   {
    "duration": 15,
    "start_time": "2024-04-03T03:57:37.537Z"
   },
   {
    "duration": 12,
    "start_time": "2024-04-03T04:00:06.453Z"
   },
   {
    "duration": 1156,
    "start_time": "2024-04-03T04:02:38.648Z"
   },
   {
    "duration": 12,
    "start_time": "2024-04-03T04:02:50.754Z"
   },
   {
    "duration": 14,
    "start_time": "2024-04-03T04:03:21.541Z"
   },
   {
    "duration": 128,
    "start_time": "2024-04-03T04:05:05.308Z"
   },
   {
    "duration": 92,
    "start_time": "2024-04-03T04:05:24.001Z"
   },
   {
    "duration": 104,
    "start_time": "2024-04-03T04:05:59.135Z"
   },
   {
    "duration": 99,
    "start_time": "2024-04-03T04:06:05.447Z"
   },
   {
    "duration": 100,
    "start_time": "2024-04-03T04:07:07.837Z"
   },
   {
    "duration": 17,
    "start_time": "2024-04-03T04:07:41.401Z"
   },
   {
    "duration": 12,
    "start_time": "2024-04-03T04:07:58.804Z"
   },
   {
    "duration": 103,
    "start_time": "2024-04-03T04:08:02.139Z"
   },
   {
    "duration": 127,
    "start_time": "2024-04-03T04:08:20.142Z"
   },
   {
    "duration": 93,
    "start_time": "2024-04-03T04:08:26.685Z"
   },
   {
    "duration": 96,
    "start_time": "2024-04-03T04:09:43.550Z"
   },
   {
    "duration": 58,
    "start_time": "2024-04-03T04:10:13.373Z"
   },
   {
    "duration": 96,
    "start_time": "2024-04-03T04:10:34.252Z"
   },
   {
    "duration": 100,
    "start_time": "2024-04-03T04:10:39.978Z"
   },
   {
    "duration": 95,
    "start_time": "2024-04-03T04:11:03.538Z"
   },
   {
    "duration": 95,
    "start_time": "2024-04-03T04:11:21.228Z"
   },
   {
    "duration": 97,
    "start_time": "2024-04-03T04:11:57.717Z"
   },
   {
    "duration": 95,
    "start_time": "2024-04-03T04:12:08.760Z"
   },
   {
    "duration": 95,
    "start_time": "2024-04-03T04:12:14.777Z"
   },
   {
    "duration": 94,
    "start_time": "2024-04-03T04:12:22.435Z"
   },
   {
    "duration": 94,
    "start_time": "2024-04-03T04:12:29.714Z"
   },
   {
    "duration": 91,
    "start_time": "2024-04-03T04:13:37.590Z"
   },
   {
    "duration": 89,
    "start_time": "2024-04-03T04:13:44.697Z"
   },
   {
    "duration": 96,
    "start_time": "2024-04-03T04:25:37.861Z"
   },
   {
    "duration": 3,
    "start_time": "2024-04-03T05:02:01.228Z"
   },
   {
    "duration": 102,
    "start_time": "2024-04-03T05:02:01.233Z"
   },
   {
    "duration": 141,
    "start_time": "2024-04-03T05:02:01.337Z"
   },
   {
    "duration": 147,
    "start_time": "2024-04-03T05:02:01.480Z"
   },
   {
    "duration": 205,
    "start_time": "2024-04-03T05:02:01.628Z"
   },
   {
    "duration": 1046,
    "start_time": "2024-04-03T05:02:01.834Z"
   },
   {
    "duration": 2622,
    "start_time": "2024-04-03T05:02:02.882Z"
   },
   {
    "duration": 1219,
    "start_time": "2024-04-03T05:02:05.505Z"
   },
   {
    "duration": 742,
    "start_time": "2024-04-03T05:02:06.726Z"
   },
   {
    "duration": 10,
    "start_time": "2024-04-03T05:02:07.469Z"
   },
   {
    "duration": 23,
    "start_time": "2024-04-03T05:02:07.480Z"
   },
   {
    "duration": 86706,
    "start_time": "2024-04-03T05:02:07.504Z"
   },
   {
    "duration": 1091,
    "start_time": "2024-04-03T05:03:34.211Z"
   },
   {
    "duration": 3064,
    "start_time": "2024-04-03T05:03:35.304Z"
   },
   {
    "duration": 12,
    "start_time": "2024-04-03T05:03:38.369Z"
   },
   {
    "duration": 101,
    "start_time": "2024-04-03T05:03:38.383Z"
   },
   {
    "duration": 39,
    "start_time": "2024-04-03T06:39:20.497Z"
   },
   {
    "duration": 1334,
    "start_time": "2024-04-03T06:39:24.637Z"
   },
   {
    "duration": 129,
    "start_time": "2024-04-03T06:39:25.972Z"
   },
   {
    "duration": 9,
    "start_time": "2024-04-03T06:39:26.103Z"
   },
   {
    "duration": 16,
    "start_time": "2024-04-03T06:39:26.113Z"
   },
   {
    "duration": 4715,
    "start_time": "2024-04-03T06:39:29.116Z"
   },
   {
    "duration": 39,
    "start_time": "2024-04-03T06:39:48.158Z"
   },
   {
    "duration": 3,
    "start_time": "2024-04-03T13:18:20.054Z"
   },
   {
    "duration": 73,
    "start_time": "2024-04-03T13:18:20.059Z"
   },
   {
    "duration": 9,
    "start_time": "2024-04-03T13:18:20.133Z"
   },
   {
    "duration": 7,
    "start_time": "2024-04-03T13:18:20.144Z"
   },
   {
    "duration": 68,
    "start_time": "2024-04-03T13:18:20.152Z"
   },
   {
    "duration": 32,
    "start_time": "2024-04-03T13:18:20.222Z"
   },
   {
    "duration": 1007,
    "start_time": "2024-04-03T13:34:43.283Z"
   },
   {
    "duration": 1053,
    "start_time": "2024-04-03T13:34:54.419Z"
   },
   {
    "duration": 1166,
    "start_time": "2024-04-03T13:34:59.996Z"
   },
   {
    "duration": 1520,
    "start_time": "2024-04-03T13:35:04.882Z"
   },
   {
    "duration": 2821,
    "start_time": "2024-04-03T13:35:13.049Z"
   },
   {
    "duration": 1203,
    "start_time": "2024-04-03T13:37:14.029Z"
   },
   {
    "duration": 1728,
    "start_time": "2024-04-03T13:37:51.270Z"
   },
   {
    "duration": 1231,
    "start_time": "2024-04-03T13:37:53.090Z"
   },
   {
    "duration": 1684,
    "start_time": "2024-04-03T13:38:35.517Z"
   },
   {
    "duration": 1231,
    "start_time": "2024-04-03T13:38:45.799Z"
   },
   {
    "duration": 740,
    "start_time": "2024-04-03T13:40:09.847Z"
   },
   {
    "duration": 2594,
    "start_time": "2024-04-03T13:40:40.438Z"
   },
   {
    "duration": 1565,
    "start_time": "2024-04-03T13:41:03.931Z"
   },
   {
    "duration": 1031,
    "start_time": "2024-04-03T13:41:08.072Z"
   },
   {
    "duration": 856,
    "start_time": "2024-04-03T13:41:20.047Z"
   },
   {
    "duration": 1166,
    "start_time": "2024-04-03T13:41:38.475Z"
   },
   {
    "duration": 1000,
    "start_time": "2024-04-03T13:41:54.245Z"
   },
   {
    "duration": 710,
    "start_time": "2024-04-03T13:43:19.895Z"
   },
   {
    "duration": 599,
    "start_time": "2024-04-03T13:43:38.271Z"
   },
   {
    "duration": 663,
    "start_time": "2024-04-03T13:44:06.334Z"
   },
   {
    "duration": 606,
    "start_time": "2024-04-03T13:44:21.660Z"
   },
   {
    "duration": 576,
    "start_time": "2024-04-03T13:46:52.695Z"
   },
   {
    "duration": 613,
    "start_time": "2024-04-03T13:47:35.847Z"
   },
   {
    "duration": 704,
    "start_time": "2024-04-03T13:48:19.276Z"
   },
   {
    "duration": 868,
    "start_time": "2024-04-03T13:50:26.449Z"
   },
   {
    "duration": 989,
    "start_time": "2024-04-03T13:51:14.715Z"
   },
   {
    "duration": 973,
    "start_time": "2024-04-03T13:52:59.001Z"
   },
   {
    "duration": 1078,
    "start_time": "2024-04-03T13:53:03.121Z"
   },
   {
    "duration": 1836,
    "start_time": "2024-04-03T13:58:33.341Z"
   },
   {
    "duration": 1922,
    "start_time": "2024-04-03T13:58:55.927Z"
   },
   {
    "duration": 9,
    "start_time": "2024-04-03T14:30:48.810Z"
   },
   {
    "duration": 7,
    "start_time": "2024-04-03T14:30:52.066Z"
   },
   {
    "duration": 7,
    "start_time": "2024-04-03T14:31:25.736Z"
   },
   {
    "duration": 18,
    "start_time": "2024-04-03T14:31:45.491Z"
   },
   {
    "duration": 15,
    "start_time": "2024-04-03T14:32:02.155Z"
   },
   {
    "duration": 281,
    "start_time": "2024-04-03T14:35:29.637Z"
   },
   {
    "duration": 8,
    "start_time": "2024-04-03T14:35:29.919Z"
   },
   {
    "duration": 1598,
    "start_time": "2024-04-03T14:36:48.538Z"
   },
   {
    "duration": 8,
    "start_time": "2024-04-03T14:36:56.084Z"
   },
   {
    "duration": 97,
    "start_time": "2024-04-03T14:37:09.724Z"
   },
   {
    "duration": 1176,
    "start_time": "2024-04-03T14:37:35.151Z"
   },
   {
    "duration": 1811,
    "start_time": "2024-04-04T07:25:45.467Z"
   },
   {
    "duration": 142,
    "start_time": "2024-04-04T07:25:47.281Z"
   },
   {
    "duration": 13,
    "start_time": "2024-04-04T07:25:47.425Z"
   },
   {
    "duration": 14,
    "start_time": "2024-04-04T07:25:47.440Z"
   },
   {
    "duration": 53,
    "start_time": "2024-04-04T07:25:47.456Z"
   },
   {
    "duration": 47,
    "start_time": "2024-04-04T07:25:47.511Z"
   },
   {
    "duration": 1505,
    "start_time": "2024-04-04T07:25:47.559Z"
   },
   {
    "duration": 2252,
    "start_time": "2024-04-04T07:25:49.066Z"
   },
   {
    "duration": 8,
    "start_time": "2024-04-04T07:25:56.083Z"
   },
   {
    "duration": 1412,
    "start_time": "2024-04-04T07:26:06.976Z"
   },
   {
    "duration": 149,
    "start_time": "2024-04-04T07:26:19.309Z"
   },
   {
    "duration": 184,
    "start_time": "2024-04-04T07:26:43.853Z"
   },
   {
    "duration": 7,
    "start_time": "2024-04-04T07:32:00.037Z"
   },
   {
    "duration": 8,
    "start_time": "2024-04-04T07:32:42.586Z"
   },
   {
    "duration": 7,
    "start_time": "2024-04-04T07:32:49.638Z"
   },
   {
    "duration": 22,
    "start_time": "2024-04-04T07:33:04.288Z"
   },
   {
    "duration": 12,
    "start_time": "2024-04-04T07:33:08.935Z"
   },
   {
    "duration": 12,
    "start_time": "2024-04-04T07:33:17.632Z"
   },
   {
    "duration": 12,
    "start_time": "2024-04-04T07:33:21.387Z"
   },
   {
    "duration": 389,
    "start_time": "2024-04-04T07:34:12.645Z"
   },
   {
    "duration": 409,
    "start_time": "2024-04-04T07:35:15.979Z"
   },
   {
    "duration": 5,
    "start_time": "2024-04-04T07:36:45.810Z"
   },
   {
    "duration": 9,
    "start_time": "2024-04-04T07:37:49.833Z"
   },
   {
    "duration": 11,
    "start_time": "2024-04-04T07:38:12.653Z"
   },
   {
    "duration": 7,
    "start_time": "2024-04-04T07:38:24.702Z"
   },
   {
    "duration": 8,
    "start_time": "2024-04-04T07:39:06.078Z"
   },
   {
    "duration": 401,
    "start_time": "2024-04-04T07:39:29.009Z"
   },
   {
    "duration": 11,
    "start_time": "2024-04-04T07:39:35.085Z"
   },
   {
    "duration": 9,
    "start_time": "2024-04-04T07:40:57.778Z"
   },
   {
    "duration": 14,
    "start_time": "2024-04-04T07:41:55.483Z"
   },
   {
    "duration": 1153,
    "start_time": "2024-04-04T07:42:52.743Z"
   },
   {
    "duration": 989,
    "start_time": "2024-04-04T07:43:02.187Z"
   },
   {
    "duration": 908,
    "start_time": "2024-04-04T07:43:33.384Z"
   },
   {
    "duration": 825,
    "start_time": "2024-04-04T07:43:59.562Z"
   },
   {
    "duration": 121,
    "start_time": "2024-04-04T07:44:25.046Z"
   },
   {
    "duration": 737,
    "start_time": "2024-04-04T07:44:29.148Z"
   },
   {
    "duration": 13,
    "start_time": "2024-04-04T07:46:57.893Z"
   },
   {
    "duration": 9,
    "start_time": "2024-04-04T07:47:02.844Z"
   },
   {
    "duration": 9,
    "start_time": "2024-04-04T07:47:11.433Z"
   },
   {
    "duration": 13,
    "start_time": "2024-04-04T07:47:18.353Z"
   },
   {
    "duration": 8,
    "start_time": "2024-04-04T07:47:22.540Z"
   },
   {
    "duration": 937,
    "start_time": "2024-04-04T07:47:31.276Z"
   },
   {
    "duration": 11,
    "start_time": "2024-04-04T07:47:52.120Z"
   },
   {
    "duration": 800,
    "start_time": "2024-04-04T07:47:59.007Z"
   },
   {
    "duration": 808,
    "start_time": "2024-04-04T07:49:49.569Z"
   },
   {
    "duration": 821,
    "start_time": "2024-04-04T07:50:05.510Z"
   },
   {
    "duration": 763,
    "start_time": "2024-04-04T07:50:35.124Z"
   },
   {
    "duration": 1608,
    "start_time": "2024-04-04T07:51:03.216Z"
   },
   {
    "duration": 21,
    "start_time": "2024-04-04T08:32:26.904Z"
   },
   {
    "duration": 15,
    "start_time": "2024-04-04T08:32:32.010Z"
   },
   {
    "duration": 10,
    "start_time": "2024-04-04T08:35:37.439Z"
   },
   {
    "duration": 10,
    "start_time": "2024-04-04T08:35:41.430Z"
   },
   {
    "duration": 88,
    "start_time": "2024-04-04T08:35:46.136Z"
   },
   {
    "duration": 13,
    "start_time": "2024-04-04T08:35:48.932Z"
   },
   {
    "duration": 17,
    "start_time": "2024-04-04T08:36:08.367Z"
   },
   {
    "duration": 17,
    "start_time": "2024-04-04T08:36:13.312Z"
   },
   {
    "duration": 9,
    "start_time": "2024-04-04T08:36:19.823Z"
   },
   {
    "duration": 933,
    "start_time": "2024-04-04T08:36:34.731Z"
   },
   {
    "duration": 768,
    "start_time": "2024-04-04T08:36:47.526Z"
   },
   {
    "duration": 1912,
    "start_time": "2024-04-04T08:37:23.035Z"
   },
   {
    "duration": 932,
    "start_time": "2024-04-04T08:37:37.195Z"
   },
   {
    "duration": 774,
    "start_time": "2024-04-04T08:37:55.647Z"
   },
   {
    "duration": 933,
    "start_time": "2024-04-04T08:38:06.069Z"
   },
   {
    "duration": 2312,
    "start_time": "2024-04-04T08:38:49.531Z"
   },
   {
    "duration": 8,
    "start_time": "2024-04-04T08:39:16.669Z"
   },
   {
    "duration": 12,
    "start_time": "2024-04-04T08:39:20.851Z"
   },
   {
    "duration": 12,
    "start_time": "2024-04-04T08:42:55.307Z"
   },
   {
    "duration": 12,
    "start_time": "2024-04-04T08:43:02.171Z"
   },
   {
    "duration": 14,
    "start_time": "2024-04-04T08:43:10.661Z"
   },
   {
    "duration": 14,
    "start_time": "2024-04-04T08:44:05.137Z"
   },
   {
    "duration": 2224,
    "start_time": "2024-04-04T08:44:13.420Z"
   },
   {
    "duration": 13,
    "start_time": "2024-04-04T08:44:15.646Z"
   },
   {
    "duration": 12,
    "start_time": "2024-04-04T08:44:28.550Z"
   },
   {
    "duration": 2103,
    "start_time": "2024-04-04T08:44:31.762Z"
   },
   {
    "duration": 17,
    "start_time": "2024-04-04T08:44:38.106Z"
   },
   {
    "duration": 1582,
    "start_time": "2024-04-04T08:44:46.496Z"
   },
   {
    "duration": 1593,
    "start_time": "2024-04-04T08:44:58.671Z"
   },
   {
    "duration": 13,
    "start_time": "2024-04-04T08:45:21.151Z"
   },
   {
    "duration": 1789,
    "start_time": "2024-04-04T08:45:44.157Z"
   },
   {
    "duration": 11,
    "start_time": "2024-04-04T08:45:56.887Z"
   },
   {
    "duration": 7,
    "start_time": "2024-04-04T08:46:15.859Z"
   },
   {
    "duration": 6,
    "start_time": "2024-04-04T08:46:34.188Z"
   },
   {
    "duration": 4,
    "start_time": "2024-04-04T08:46:47.314Z"
   },
   {
    "duration": 170,
    "start_time": "2024-04-04T08:46:47.320Z"
   },
   {
    "duration": 12,
    "start_time": "2024-04-04T08:46:47.491Z"
   },
   {
    "duration": 10,
    "start_time": "2024-04-04T08:46:47.505Z"
   },
   {
    "duration": 64,
    "start_time": "2024-04-04T08:46:47.517Z"
   },
   {
    "duration": 45,
    "start_time": "2024-04-04T08:46:47.583Z"
   },
   {
    "duration": 1287,
    "start_time": "2024-04-04T08:46:47.630Z"
   },
   {
    "duration": 1994,
    "start_time": "2024-04-04T08:46:48.919Z"
   },
   {
    "duration": 8,
    "start_time": "2024-04-04T08:46:50.914Z"
   },
   {
    "duration": 13,
    "start_time": "2024-04-04T08:47:18.623Z"
   },
   {
    "duration": 1745,
    "start_time": "2024-04-04T08:47:24.235Z"
   },
   {
    "duration": 11,
    "start_time": "2024-04-04T08:47:38.764Z"
   },
   {
    "duration": 1030,
    "start_time": "2024-04-04T08:48:48.012Z"
   },
   {
    "duration": 870,
    "start_time": "2024-04-04T08:55:52.843Z"
   },
   {
    "duration": 999,
    "start_time": "2024-04-04T08:56:03.214Z"
   },
   {
    "duration": 857,
    "start_time": "2024-04-04T08:56:37.645Z"
   },
   {
    "duration": 2344,
    "start_time": "2024-04-04T08:57:36.892Z"
   },
   {
    "duration": 817,
    "start_time": "2024-04-04T08:58:12.666Z"
   },
   {
    "duration": 988,
    "start_time": "2024-04-04T08:58:18.506Z"
   },
   {
    "duration": 832,
    "start_time": "2024-04-04T08:59:32.114Z"
   },
   {
    "duration": 887,
    "start_time": "2024-04-04T09:00:08.484Z"
   },
   {
    "duration": 909,
    "start_time": "2024-04-04T09:00:14.213Z"
   },
   {
    "duration": 894,
    "start_time": "2024-04-04T09:00:21.518Z"
   },
   {
    "duration": 933,
    "start_time": "2024-04-04T10:16:08.530Z"
   },
   {
    "duration": 14,
    "start_time": "2024-04-04T10:16:13.898Z"
   },
   {
    "duration": 15,
    "start_time": "2024-04-04T10:19:10.252Z"
   },
   {
    "duration": 4,
    "start_time": "2024-04-04T10:19:15.176Z"
   },
   {
    "duration": 73,
    "start_time": "2024-04-04T10:19:15.182Z"
   },
   {
    "duration": 13,
    "start_time": "2024-04-04T10:19:15.256Z"
   },
   {
    "duration": 11,
    "start_time": "2024-04-04T10:19:15.270Z"
   },
   {
    "duration": 51,
    "start_time": "2024-04-04T10:19:15.283Z"
   },
   {
    "duration": 52,
    "start_time": "2024-04-04T10:19:15.336Z"
   },
   {
    "duration": 1381,
    "start_time": "2024-04-04T10:19:15.520Z"
   },
   {
    "duration": 2477,
    "start_time": "2024-04-04T10:19:16.903Z"
   },
   {
    "duration": 886,
    "start_time": "2024-04-04T10:19:19.382Z"
   },
   {
    "duration": 1637,
    "start_time": "2024-04-04T10:19:20.270Z"
   },
   {
    "duration": 893,
    "start_time": "2024-04-04T10:19:21.910Z"
   },
   {
    "duration": 14,
    "start_time": "2024-04-04T10:19:22.805Z"
   },
   {
    "duration": 10,
    "start_time": "2024-04-04T10:19:22.821Z"
   },
   {
    "duration": 124487,
    "start_time": "2024-04-04T10:19:22.833Z"
   },
   {
    "duration": 1369,
    "start_time": "2024-04-04T10:21:27.322Z"
   },
   {
    "duration": 1351,
    "start_time": "2024-04-04T10:27:00.033Z"
   },
   {
    "duration": 1547,
    "start_time": "2024-04-04T10:27:18.109Z"
   },
   {
    "duration": 1456,
    "start_time": "2024-04-04T10:28:10.661Z"
   },
   {
    "duration": 1495,
    "start_time": "2024-04-04T10:28:21.911Z"
   },
   {
    "duration": 1392,
    "start_time": "2024-04-04T10:28:39.633Z"
   },
   {
    "duration": 2599,
    "start_time": "2024-04-04T10:29:16.635Z"
   },
   {
    "duration": 2665,
    "start_time": "2024-04-04T10:29:28.028Z"
   },
   {
    "duration": 3028,
    "start_time": "2024-04-04T11:51:13.904Z"
   },
   {
    "duration": 4000,
    "start_time": "2024-04-04T11:51:32.925Z"
   },
   {
    "duration": 1139,
    "start_time": "2024-04-04T11:51:58.198Z"
   },
   {
    "duration": 1585,
    "start_time": "2024-04-04T11:52:56.397Z"
   },
   {
    "duration": 40,
    "start_time": "2024-04-04T12:12:04.932Z"
   },
   {
    "duration": 5,
    "start_time": "2024-04-04T12:28:21.978Z"
   },
   {
    "duration": 29,
    "start_time": "2024-04-04T12:49:22.669Z"
   },
   {
    "duration": 114,
    "start_time": "2024-04-04T12:49:50.883Z"
   },
   {
    "duration": 1780,
    "start_time": "2024-04-04T12:59:04.969Z"
   },
   {
    "duration": 1726,
    "start_time": "2024-04-04T12:59:24.441Z"
   },
   {
    "duration": 1702,
    "start_time": "2024-04-04T12:59:39.431Z"
   },
   {
    "duration": 410,
    "start_time": "2024-04-04T13:04:09.812Z"
   },
   {
    "duration": 386,
    "start_time": "2024-04-04T13:04:41.428Z"
   },
   {
    "duration": 379,
    "start_time": "2024-04-04T13:04:58.662Z"
   },
   {
    "duration": 391,
    "start_time": "2024-04-04T13:05:16.253Z"
   },
   {
    "duration": 375,
    "start_time": "2024-04-04T13:05:57.479Z"
   },
   {
    "duration": 2702,
    "start_time": "2024-04-04T13:06:38.384Z"
   },
   {
    "duration": 3071,
    "start_time": "2024-04-04T13:07:44.577Z"
   },
   {
    "duration": 4,
    "start_time": "2024-04-04T13:09:09.732Z"
   },
   {
    "duration": 49,
    "start_time": "2024-04-04T13:09:09.739Z"
   },
   {
    "duration": 16,
    "start_time": "2024-04-04T13:09:09.790Z"
   },
   {
    "duration": 7,
    "start_time": "2024-04-04T13:09:09.808Z"
   },
   {
    "duration": 74,
    "start_time": "2024-04-04T13:09:09.816Z"
   },
   {
    "duration": 49,
    "start_time": "2024-04-04T13:09:09.892Z"
   },
   {
    "duration": 1290,
    "start_time": "2024-04-04T13:09:09.943Z"
   },
   {
    "duration": 2116,
    "start_time": "2024-04-04T13:09:11.235Z"
   },
   {
    "duration": 878,
    "start_time": "2024-04-04T13:09:13.355Z"
   },
   {
    "duration": 1700,
    "start_time": "2024-04-04T13:09:14.235Z"
   },
   {
    "duration": 904,
    "start_time": "2024-04-04T13:09:15.937Z"
   },
   {
    "duration": 13,
    "start_time": "2024-04-04T13:09:16.843Z"
   },
   {
    "duration": 30,
    "start_time": "2024-04-04T13:09:16.858Z"
   },
   {
    "duration": 127792,
    "start_time": "2024-04-04T13:09:16.891Z"
   },
   {
    "duration": 1648,
    "start_time": "2024-04-04T13:11:24.685Z"
   },
   {
    "duration": 2352,
    "start_time": "2024-04-04T13:11:26.335Z"
   },
   {
    "duration": 1226,
    "start_time": "2024-04-04T13:11:28.689Z"
   },
   {
    "duration": 17,
    "start_time": "2024-04-04T13:11:29.916Z"
   },
   {
    "duration": 148,
    "start_time": "2024-04-04T13:11:29.935Z"
   },
   {
    "duration": 2799,
    "start_time": "2024-04-04T13:11:30.085Z"
   },
   {
    "duration": 23,
    "start_time": "2024-04-04T13:15:51.062Z"
   },
   {
    "duration": 71,
    "start_time": "2024-04-04T13:15:58.058Z"
   },
   {
    "duration": 220,
    "start_time": "2024-04-04T13:16:19.287Z"
   },
   {
    "duration": 139,
    "start_time": "2024-04-04T13:17:03.664Z"
   },
   {
    "duration": 139,
    "start_time": "2024-04-04T13:17:11.683Z"
   },
   {
    "duration": 144,
    "start_time": "2024-04-04T13:17:16.446Z"
   },
   {
    "duration": 131,
    "start_time": "2024-04-04T13:17:23.233Z"
   },
   {
    "duration": 248,
    "start_time": "2024-04-04T13:29:28.837Z"
   },
   {
    "duration": 279,
    "start_time": "2024-04-04T13:30:01.068Z"
   },
   {
    "duration": 16,
    "start_time": "2024-04-04T13:30:58.158Z"
   },
   {
    "duration": 15,
    "start_time": "2024-04-04T13:31:12.718Z"
   },
   {
    "duration": 5,
    "start_time": "2024-04-04T13:31:56.669Z"
   },
   {
    "duration": 15,
    "start_time": "2024-04-04T13:32:26.750Z"
   },
   {
    "duration": 28,
    "start_time": "2024-04-04T13:33:23.787Z"
   },
   {
    "duration": 132,
    "start_time": "2024-04-04T13:34:09.656Z"
   },
   {
    "duration": 136,
    "start_time": "2024-04-04T13:34:17.453Z"
   },
   {
    "duration": 148,
    "start_time": "2024-04-04T13:34:29.227Z"
   },
   {
    "duration": 168,
    "start_time": "2024-04-04T13:34:38.568Z"
   },
   {
    "duration": 136,
    "start_time": "2024-04-04T13:34:49.077Z"
   },
   {
    "duration": 146,
    "start_time": "2024-04-04T13:35:09.917Z"
   },
   {
    "duration": 135,
    "start_time": "2024-04-04T13:36:00.196Z"
   },
   {
    "duration": 131,
    "start_time": "2024-04-04T13:36:38.019Z"
   },
   {
    "duration": 897,
    "start_time": "2024-04-04T13:36:56.739Z"
   },
   {
    "duration": 79,
    "start_time": "2024-04-04T13:38:29.029Z"
   },
   {
    "duration": 1194,
    "start_time": "2024-04-04T13:38:37.170Z"
   },
   {
    "duration": 887,
    "start_time": "2024-04-04T13:39:05.374Z"
   },
   {
    "duration": 878,
    "start_time": "2024-04-04T13:39:25.061Z"
   },
   {
    "duration": 969,
    "start_time": "2024-04-04T13:42:16.926Z"
   },
   {
    "duration": 1226,
    "start_time": "2024-04-04T13:42:21.342Z"
   },
   {
    "duration": 1174,
    "start_time": "2024-04-04T13:42:34.702Z"
   },
   {
    "duration": 7,
    "start_time": "2024-04-04T13:52:30.508Z"
   },
   {
    "duration": 148,
    "start_time": "2024-04-04T13:52:30.517Z"
   },
   {
    "duration": 16,
    "start_time": "2024-04-04T13:52:30.667Z"
   },
   {
    "duration": 62,
    "start_time": "2024-04-04T13:52:30.684Z"
   },
   {
    "duration": 161,
    "start_time": "2024-04-04T13:52:30.748Z"
   },
   {
    "duration": 140,
    "start_time": "2024-04-04T13:52:30.910Z"
   },
   {
    "duration": 1744,
    "start_time": "2024-04-04T13:52:31.052Z"
   },
   {
    "duration": 2054,
    "start_time": "2024-04-04T13:52:32.799Z"
   },
   {
    "duration": 898,
    "start_time": "2024-04-04T13:52:34.855Z"
   },
   {
    "duration": 1645,
    "start_time": "2024-04-04T13:52:35.755Z"
   },
   {
    "duration": 859,
    "start_time": "2024-04-04T13:52:37.402Z"
   },
   {
    "duration": 21,
    "start_time": "2024-04-04T13:52:38.263Z"
   },
   {
    "duration": 9,
    "start_time": "2024-04-04T13:52:38.286Z"
   },
   {
    "duration": 125716,
    "start_time": "2024-04-04T13:52:38.298Z"
   },
   {
    "duration": 1597,
    "start_time": "2024-04-04T13:54:44.015Z"
   },
   {
    "duration": 2221,
    "start_time": "2024-04-04T13:54:45.613Z"
   },
   {
    "duration": 1216,
    "start_time": "2024-04-04T13:54:47.837Z"
   },
   {
    "duration": 29,
    "start_time": "2024-04-04T13:54:49.055Z"
   },
   {
    "duration": 134,
    "start_time": "2024-04-04T13:54:49.086Z"
   },
   {
    "duration": 2671,
    "start_time": "2024-04-04T13:54:49.222Z"
   },
   {
    "duration": 938,
    "start_time": "2024-04-04T13:54:51.895Z"
   },
   {
    "duration": 49,
    "start_time": "2024-04-04T16:34:37.662Z"
   },
   {
    "duration": 1614,
    "start_time": "2024-04-04T16:34:42.935Z"
   },
   {
    "duration": 137,
    "start_time": "2024-04-04T16:34:44.552Z"
   },
   {
    "duration": 12,
    "start_time": "2024-04-04T16:34:44.691Z"
   },
   {
    "duration": 6,
    "start_time": "2024-04-04T16:34:44.705Z"
   },
   {
    "duration": 7,
    "start_time": "2024-04-04T16:34:44.712Z"
   },
   {
    "duration": 31,
    "start_time": "2024-04-04T16:36:51.858Z"
   },
   {
    "duration": 17,
    "start_time": "2024-04-04T16:37:29.182Z"
   },
   {
    "duration": 44,
    "start_time": "2024-04-04T16:38:36.071Z"
   },
   {
    "duration": 43,
    "start_time": "2024-04-04T16:38:44.765Z"
   },
   {
    "duration": 46,
    "start_time": "2024-04-04T16:38:51.306Z"
   },
   {
    "duration": 17,
    "start_time": "2024-04-04T16:38:58.431Z"
   },
   {
    "duration": 13,
    "start_time": "2024-04-04T16:39:01.390Z"
   },
   {
    "duration": 48,
    "start_time": "2024-04-04T16:40:45.773Z"
   },
   {
    "duration": 50,
    "start_time": "2024-04-04T16:40:48.565Z"
   },
   {
    "duration": 12,
    "start_time": "2024-04-04T16:40:50.891Z"
   },
   {
    "duration": 60,
    "start_time": "2024-04-04T16:41:38.145Z"
   },
   {
    "duration": 6,
    "start_time": "2024-04-04T16:41:45.641Z"
   },
   {
    "duration": 46,
    "start_time": "2024-04-04T16:41:46.720Z"
   },
   {
    "duration": 818,
    "start_time": "2024-04-04T16:45:08.357Z"
   },
   {
    "duration": 789,
    "start_time": "2024-04-04T16:45:28.185Z"
   },
   {
    "duration": 16,
    "start_time": "2024-04-04T16:45:32.541Z"
   },
   {
    "duration": 4,
    "start_time": "2024-04-04T16:47:41.897Z"
   },
   {
    "duration": 45,
    "start_time": "2024-04-04T16:47:41.903Z"
   },
   {
    "duration": 11,
    "start_time": "2024-04-04T16:47:41.949Z"
   },
   {
    "duration": 6,
    "start_time": "2024-04-04T16:47:41.962Z"
   },
   {
    "duration": 10,
    "start_time": "2024-04-04T16:47:41.969Z"
   },
   {
    "duration": 72,
    "start_time": "2024-04-04T16:47:41.981Z"
   },
   {
    "duration": 12,
    "start_time": "2024-04-04T16:47:42.054Z"
   },
   {
    "duration": 1459,
    "start_time": "2024-04-04T16:47:42.067Z"
   },
   {
    "duration": 2118,
    "start_time": "2024-04-04T16:47:43.528Z"
   },
   {
    "duration": 906,
    "start_time": "2024-04-04T16:47:45.650Z"
   },
   {
    "duration": 1722,
    "start_time": "2024-04-04T16:47:46.558Z"
   },
   {
    "duration": 802,
    "start_time": "2024-04-04T16:47:48.281Z"
   },
   {
    "duration": 13,
    "start_time": "2024-04-04T16:47:49.085Z"
   },
   {
    "duration": 10,
    "start_time": "2024-04-04T16:47:49.100Z"
   }
  ],
  "kernelspec": {
   "display_name": "Python 3 (ipykernel)",
   "language": "python",
   "name": "python3"
  },
  "language_info": {
   "codemirror_mode": {
    "name": "ipython",
    "version": 3
   },
   "file_extension": ".py",
   "mimetype": "text/x-python",
   "name": "python",
   "nbconvert_exporter": "python",
   "pygments_lexer": "ipython3",
   "version": "3.10.9"
  },
  "toc": {
   "base_numbering": 1,
   "nav_menu": {},
   "number_sections": true,
   "sideBar": true,
   "skip_h1_title": true,
   "title_cell": "Table of Contents",
   "title_sidebar": "Contents",
   "toc_cell": false,
   "toc_position": {},
   "toc_section_display": true,
   "toc_window_display": false
  }
 },
 "nbformat": 4,
 "nbformat_minor": 2
}
