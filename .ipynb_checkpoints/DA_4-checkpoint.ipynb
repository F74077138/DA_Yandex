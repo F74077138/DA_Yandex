{
 "cells": [
  {
   "cell_type": "markdown",
   "metadata": {},
   "source": [
    "# Анализ рекламы Procrastinate Pro+\n",
    "\n",
    "**Задача — разобраться в причинах и помочь компании выйти в плюс.**\n",
    "\n",
    "Необходимо изучить:\n",
    "\n",
    "- откуда приходят пользователи и какими устройствами они пользуются,\n",
    "- сколько стоит привлечение пользователей из различных рекламных каналов;\n",
    "- сколько денег приносит каждый клиент,\n",
    "- когда расходы на привлечение клиента окупаются,\n",
    "- какие факторы мешают привлечению клиентов.\n",
    "\n",
    "Данные о пользователях, привлечённых с 1 мая по 27 октября 2019 года:\n",
    "\n",
    "- лог сервера с данными об их посещениях,\n",
    "- выгрузка их покупок за этот период,\n",
    "- рекламные расходы."
   ]
  },
  {
   "cell_type": "markdown",
   "metadata": {
    "id": "r-BO88CnWVwe"
   },
   "source": [
    "### Загрузите данные и подготовьте их к анализу"
   ]
  },
  {
   "cell_type": "markdown",
   "metadata": {
    "id": "LCZi0P80WVwj"
   },
   "source": [
    "Загрузите данные о визитах, заказах и рекламных расходах из CSV-файлов в переменные.\n",
    "\n",
    "**Пути к файлам**\n",
    "\n",
    "- визиты: `/datasets/visits_info_short.csv`. [Скачать датасет](https://code.s3.yandex.net/datasets/visits_info_short.csv);\n",
    "- заказы: `/datasets/orders_info_short.csv`. [Скачать датасет](https://code.s3.yandex.net/datasets/orders_info_short.csv);\n",
    "- расходы: `/datasets/costs_info_short.csv`. [Скачать датасет](https://code.s3.yandex.net/datasets/costs_info_short.csv).\n",
    "\n",
    "Изучите данные и выполните предобработку. Есть ли в данных пропуски и дубликаты? Убедитесь, что типы данных во всех колонках соответствуют сохранённым в них значениям. Обратите внимание на столбцы с датой и временем."
   ]
  },
  {
   "cell_type": "code",
   "execution_count": 18,
   "metadata": {
    "id": "_vsKinGUWVwk"
   },
   "outputs": [],
   "source": [
    "import pandas as pd\n",
    "import numpy as np\n",
    "from datetime import datetime, timedelta\n",
    "from matplotlib import pyplot as plt\n",
    "import seaborn as sns\n",
    "from os import listdir\n",
    "import os"
   ]
  },
  {
   "cell_type": "code",
   "execution_count": 19,
   "metadata": {},
   "outputs": [],
   "source": [
    "visits = pd.read_csv('datasets/visits_info_short.csv')\n",
    "orders = pd.read_csv('datasets/orders_info_short.csv')\n",
    "costs = pd.read_csv('datasets/costs_info_short.csv')"
   ]
  },
  {
   "cell_type": "markdown",
   "metadata": {},
   "source": [
    "Преобразуем типы данных для вышеперечисленных датафреймов, а также переименуем колонки."
   ]
  },
  {
   "cell_type": "code",
   "execution_count": 20,
   "metadata": {},
   "outputs": [
    {
     "name": "stdout",
     "output_type": "stream",
     "text": [
      "<class 'pandas.core.frame.DataFrame'>\n",
      "RangeIndex: 309901 entries, 0 to 309900\n",
      "Data columns (total 6 columns):\n",
      " #   Column         Non-Null Count   Dtype         \n",
      "---  ------         --------------   -----         \n",
      " 0   user_id        309901 non-null  int64         \n",
      " 1   region         309901 non-null  object        \n",
      " 2   device         309901 non-null  object        \n",
      " 3   channel        309901 non-null  object        \n",
      " 4   session_start  309901 non-null  datetime64[ns]\n",
      " 5   session_end    309901 non-null  datetime64[ns]\n",
      "dtypes: datetime64[ns](2), int64(1), object(3)\n",
      "memory usage: 14.2+ MB\n"
     ]
    }
   ],
   "source": [
    "visits['Session Start'] = pd.to_datetime(visits['Session Start'])\n",
    "visits['Session End'] = pd.to_datetime(visits['Session End'])\n",
    "\n",
    "visits.columns = [x.lower().replace(' ', '_') for x in visits.columns]\n",
    "\n",
    "visits.info()"
   ]
  },
  {
   "cell_type": "code",
   "execution_count": 21,
   "metadata": {},
   "outputs": [
    {
     "data": {
      "text/html": [
       "<div>\n",
       "<style scoped>\n",
       "    .dataframe tbody tr th:only-of-type {\n",
       "        vertical-align: middle;\n",
       "    }\n",
       "\n",
       "    .dataframe tbody tr th {\n",
       "        vertical-align: top;\n",
       "    }\n",
       "\n",
       "    .dataframe thead th {\n",
       "        text-align: right;\n",
       "    }\n",
       "</style>\n",
       "<table border=\"1\" class=\"dataframe\">\n",
       "  <thead>\n",
       "    <tr style=\"text-align: right;\">\n",
       "      <th></th>\n",
       "      <th>user_id</th>\n",
       "      <th>region</th>\n",
       "      <th>device</th>\n",
       "      <th>channel</th>\n",
       "      <th>session_start</th>\n",
       "      <th>session_end</th>\n",
       "    </tr>\n",
       "  </thead>\n",
       "  <tbody>\n",
       "    <tr>\n",
       "      <th>0</th>\n",
       "      <td>981449118918</td>\n",
       "      <td>United States</td>\n",
       "      <td>iPhone</td>\n",
       "      <td>organic</td>\n",
       "      <td>2019-05-01 02:36:01</td>\n",
       "      <td>2019-05-01 02:45:01</td>\n",
       "    </tr>\n",
       "    <tr>\n",
       "      <th>1</th>\n",
       "      <td>278965908054</td>\n",
       "      <td>United States</td>\n",
       "      <td>iPhone</td>\n",
       "      <td>organic</td>\n",
       "      <td>2019-05-01 04:46:31</td>\n",
       "      <td>2019-05-01 04:47:35</td>\n",
       "    </tr>\n",
       "    <tr>\n",
       "      <th>2</th>\n",
       "      <td>590706206550</td>\n",
       "      <td>United States</td>\n",
       "      <td>Mac</td>\n",
       "      <td>organic</td>\n",
       "      <td>2019-05-01 14:09:25</td>\n",
       "      <td>2019-05-01 15:32:08</td>\n",
       "    </tr>\n",
       "    <tr>\n",
       "      <th>3</th>\n",
       "      <td>326433527971</td>\n",
       "      <td>United States</td>\n",
       "      <td>Android</td>\n",
       "      <td>TipTop</td>\n",
       "      <td>2019-05-01 00:29:59</td>\n",
       "      <td>2019-05-01 00:54:25</td>\n",
       "    </tr>\n",
       "    <tr>\n",
       "      <th>4</th>\n",
       "      <td>349773784594</td>\n",
       "      <td>United States</td>\n",
       "      <td>Mac</td>\n",
       "      <td>organic</td>\n",
       "      <td>2019-05-01 03:33:35</td>\n",
       "      <td>2019-05-01 03:57:40</td>\n",
       "    </tr>\n",
       "  </tbody>\n",
       "</table>\n",
       "</div>"
      ],
      "text/plain": [
       "        user_id         region   device  channel       session_start  \\\n",
       "0  981449118918  United States   iPhone  organic 2019-05-01 02:36:01   \n",
       "1  278965908054  United States   iPhone  organic 2019-05-01 04:46:31   \n",
       "2  590706206550  United States      Mac  organic 2019-05-01 14:09:25   \n",
       "3  326433527971  United States  Android   TipTop 2019-05-01 00:29:59   \n",
       "4  349773784594  United States      Mac  organic 2019-05-01 03:33:35   \n",
       "\n",
       "          session_end  \n",
       "0 2019-05-01 02:45:01  \n",
       "1 2019-05-01 04:47:35  \n",
       "2 2019-05-01 15:32:08  \n",
       "3 2019-05-01 00:54:25  \n",
       "4 2019-05-01 03:57:40  "
      ]
     },
     "execution_count": 21,
     "metadata": {},
     "output_type": "execute_result"
    }
   ],
   "source": [
    "visits.head()"
   ]
  },
  {
   "cell_type": "code",
   "execution_count": 22,
   "metadata": {},
   "outputs": [
    {
     "name": "stdout",
     "output_type": "stream",
     "text": [
      "<class 'pandas.core.frame.DataFrame'>\n",
      "RangeIndex: 40212 entries, 0 to 40211\n",
      "Data columns (total 3 columns):\n",
      " #   Column    Non-Null Count  Dtype         \n",
      "---  ------    --------------  -----         \n",
      " 0   user_id   40212 non-null  int64         \n",
      " 1   event_dt  40212 non-null  datetime64[ns]\n",
      " 2   revenue   40212 non-null  float64       \n",
      "dtypes: datetime64[ns](1), float64(1), int64(1)\n",
      "memory usage: 942.6 KB\n"
     ]
    }
   ],
   "source": [
    "orders['Event Dt'] = pd.to_datetime(orders['Event Dt'])\n",
    "\n",
    "orders.columns = [x.lower().replace(' ', '_') for x in orders.columns]\n",
    "\n",
    "orders.info()"
   ]
  },
  {
   "cell_type": "code",
   "execution_count": 23,
   "metadata": {},
   "outputs": [
    {
     "data": {
      "text/html": [
       "<div>\n",
       "<style scoped>\n",
       "    .dataframe tbody tr th:only-of-type {\n",
       "        vertical-align: middle;\n",
       "    }\n",
       "\n",
       "    .dataframe tbody tr th {\n",
       "        vertical-align: top;\n",
       "    }\n",
       "\n",
       "    .dataframe thead th {\n",
       "        text-align: right;\n",
       "    }\n",
       "</style>\n",
       "<table border=\"1\" class=\"dataframe\">\n",
       "  <thead>\n",
       "    <tr style=\"text-align: right;\">\n",
       "      <th></th>\n",
       "      <th>user_id</th>\n",
       "      <th>event_dt</th>\n",
       "      <th>revenue</th>\n",
       "    </tr>\n",
       "  </thead>\n",
       "  <tbody>\n",
       "    <tr>\n",
       "      <th>0</th>\n",
       "      <td>188246423999</td>\n",
       "      <td>2019-05-01 23:09:52</td>\n",
       "      <td>4.99</td>\n",
       "    </tr>\n",
       "    <tr>\n",
       "      <th>1</th>\n",
       "      <td>174361394180</td>\n",
       "      <td>2019-05-01 12:24:04</td>\n",
       "      <td>4.99</td>\n",
       "    </tr>\n",
       "    <tr>\n",
       "      <th>2</th>\n",
       "      <td>529610067795</td>\n",
       "      <td>2019-05-01 11:34:04</td>\n",
       "      <td>4.99</td>\n",
       "    </tr>\n",
       "    <tr>\n",
       "      <th>3</th>\n",
       "      <td>319939546352</td>\n",
       "      <td>2019-05-01 15:34:40</td>\n",
       "      <td>4.99</td>\n",
       "    </tr>\n",
       "    <tr>\n",
       "      <th>4</th>\n",
       "      <td>366000285810</td>\n",
       "      <td>2019-05-01 13:59:51</td>\n",
       "      <td>4.99</td>\n",
       "    </tr>\n",
       "  </tbody>\n",
       "</table>\n",
       "</div>"
      ],
      "text/plain": [
       "        user_id            event_dt  revenue\n",
       "0  188246423999 2019-05-01 23:09:52     4.99\n",
       "1  174361394180 2019-05-01 12:24:04     4.99\n",
       "2  529610067795 2019-05-01 11:34:04     4.99\n",
       "3  319939546352 2019-05-01 15:34:40     4.99\n",
       "4  366000285810 2019-05-01 13:59:51     4.99"
      ]
     },
     "execution_count": 23,
     "metadata": {},
     "output_type": "execute_result"
    }
   ],
   "source": [
    "orders.head()"
   ]
  },
  {
   "cell_type": "code",
   "execution_count": 24,
   "metadata": {},
   "outputs": [
    {
     "name": "stdout",
     "output_type": "stream",
     "text": [
      "<class 'pandas.core.frame.DataFrame'>\n",
      "RangeIndex: 1800 entries, 0 to 1799\n",
      "Data columns (total 3 columns):\n",
      " #   Column   Non-Null Count  Dtype  \n",
      "---  ------   --------------  -----  \n",
      " 0   dt       1800 non-null   object \n",
      " 1   channel  1800 non-null   object \n",
      " 2   costs    1800 non-null   float64\n",
      "dtypes: float64(1), object(2)\n",
      "memory usage: 42.3+ KB\n"
     ]
    }
   ],
   "source": [
    "costs['dt'] = pd.to_datetime(costs['dt']).dt.date \n",
    "\n",
    "costs.columns = [x.lower().replace(' ', '_') for x in costs.columns]\n",
    "\n",
    "costs.info()"
   ]
  },
  {
   "cell_type": "code",
   "execution_count": 25,
   "metadata": {},
   "outputs": [
    {
     "data": {
      "text/html": [
       "<div>\n",
       "<style scoped>\n",
       "    .dataframe tbody tr th:only-of-type {\n",
       "        vertical-align: middle;\n",
       "    }\n",
       "\n",
       "    .dataframe tbody tr th {\n",
       "        vertical-align: top;\n",
       "    }\n",
       "\n",
       "    .dataframe thead th {\n",
       "        text-align: right;\n",
       "    }\n",
       "</style>\n",
       "<table border=\"1\" class=\"dataframe\">\n",
       "  <thead>\n",
       "    <tr style=\"text-align: right;\">\n",
       "      <th></th>\n",
       "      <th>dt</th>\n",
       "      <th>channel</th>\n",
       "      <th>costs</th>\n",
       "    </tr>\n",
       "  </thead>\n",
       "  <tbody>\n",
       "    <tr>\n",
       "      <th>0</th>\n",
       "      <td>2019-05-01</td>\n",
       "      <td>FaceBoom</td>\n",
       "      <td>113.3</td>\n",
       "    </tr>\n",
       "    <tr>\n",
       "      <th>1</th>\n",
       "      <td>2019-05-02</td>\n",
       "      <td>FaceBoom</td>\n",
       "      <td>78.1</td>\n",
       "    </tr>\n",
       "    <tr>\n",
       "      <th>2</th>\n",
       "      <td>2019-05-03</td>\n",
       "      <td>FaceBoom</td>\n",
       "      <td>85.8</td>\n",
       "    </tr>\n",
       "    <tr>\n",
       "      <th>3</th>\n",
       "      <td>2019-05-04</td>\n",
       "      <td>FaceBoom</td>\n",
       "      <td>136.4</td>\n",
       "    </tr>\n",
       "    <tr>\n",
       "      <th>4</th>\n",
       "      <td>2019-05-05</td>\n",
       "      <td>FaceBoom</td>\n",
       "      <td>122.1</td>\n",
       "    </tr>\n",
       "  </tbody>\n",
       "</table>\n",
       "</div>"
      ],
      "text/plain": [
       "           dt   channel  costs\n",
       "0  2019-05-01  FaceBoom  113.3\n",
       "1  2019-05-02  FaceBoom   78.1\n",
       "2  2019-05-03  FaceBoom   85.8\n",
       "3  2019-05-04  FaceBoom  136.4\n",
       "4  2019-05-05  FaceBoom  122.1"
      ]
     },
     "execution_count": 25,
     "metadata": {},
     "output_type": "execute_result"
    }
   ],
   "source": [
    "costs.head()"
   ]
  },
  {
   "cell_type": "code",
   "execution_count": 26,
   "metadata": {},
   "outputs": [
    {
     "name": "stdout",
     "output_type": "stream",
     "text": [
      "<class 'pandas.core.frame.DataFrame'>\n",
      "RangeIndex: 309901 entries, 0 to 309900\n",
      "Data columns (total 6 columns):\n",
      " #   Column         Non-Null Count   Dtype         \n",
      "---  ------         --------------   -----         \n",
      " 0   user_id        309901 non-null  int64         \n",
      " 1   region         309901 non-null  object        \n",
      " 2   device         309901 non-null  object        \n",
      " 3   channel        309901 non-null  object        \n",
      " 4   session_start  309901 non-null  datetime64[ns]\n",
      " 5   session_end    309901 non-null  datetime64[ns]\n",
      "dtypes: datetime64[ns](2), int64(1), object(3)\n",
      "memory usage: 14.2+ MB\n",
      "None\n",
      "        user_id         region   device  channel       session_start  \\\n",
      "0  981449118918  United States   iPhone  organic 2019-05-01 02:36:01   \n",
      "1  278965908054  United States   iPhone  organic 2019-05-01 04:46:31   \n",
      "2  590706206550  United States      Mac  organic 2019-05-01 14:09:25   \n",
      "3  326433527971  United States  Android   TipTop 2019-05-01 00:29:59   \n",
      "4  349773784594  United States      Mac  organic 2019-05-01 03:33:35   \n",
      "\n",
      "          session_end  \n",
      "0 2019-05-01 02:45:01  \n",
      "1 2019-05-01 04:47:35  \n",
      "2 2019-05-01 15:32:08  \n",
      "3 2019-05-01 00:54:25  \n",
      "4 2019-05-01 03:57:40  \n",
      "<class 'pandas.core.frame.DataFrame'>\n",
      "RangeIndex: 40212 entries, 0 to 40211\n",
      "Data columns (total 3 columns):\n",
      " #   Column    Non-Null Count  Dtype         \n",
      "---  ------    --------------  -----         \n",
      " 0   user_id   40212 non-null  int64         \n",
      " 1   event_dt  40212 non-null  datetime64[ns]\n",
      " 2   revenue   40212 non-null  float64       \n",
      "dtypes: datetime64[ns](1), float64(1), int64(1)\n",
      "memory usage: 942.6 KB\n",
      "None\n",
      "        user_id            event_dt  revenue\n",
      "0  188246423999 2019-05-01 23:09:52     4.99\n",
      "1  174361394180 2019-05-01 12:24:04     4.99\n",
      "2  529610067795 2019-05-01 11:34:04     4.99\n",
      "3  319939546352 2019-05-01 15:34:40     4.99\n",
      "4  366000285810 2019-05-01 13:59:51     4.99\n",
      "<class 'pandas.core.frame.DataFrame'>\n",
      "RangeIndex: 1800 entries, 0 to 1799\n",
      "Data columns (total 3 columns):\n",
      " #   Column   Non-Null Count  Dtype  \n",
      "---  ------   --------------  -----  \n",
      " 0   dt       1800 non-null   object \n",
      " 1   channel  1800 non-null   object \n",
      " 2   costs    1800 non-null   float64\n",
      "dtypes: float64(1), object(2)\n",
      "memory usage: 42.3+ KB\n",
      "None\n",
      "           dt   channel  costs\n",
      "0  2019-05-01  FaceBoom  113.3\n",
      "1  2019-05-02  FaceBoom   78.1\n",
      "2  2019-05-03  FaceBoom   85.8\n",
      "3  2019-05-04  FaceBoom  136.4\n",
      "4  2019-05-05  FaceBoom  122.1\n"
     ]
    }
   ],
   "source": [
    "def print_basic(df):\n",
    "    print(df.info())\n",
    "    print(df.head())\n",
    "    \n",
    "tmp_list = [visits, orders, costs]\n",
    "for i in tmp_list:\n",
    "    print_basic(i)"
   ]
  },
  {
   "cell_type": "code",
   "execution_count": 27,
   "metadata": {},
   "outputs": [
    {
     "name": "stdout",
     "output_type": "stream",
     "text": [
      "Missing values in visits: False\n",
      "Missing values in orders: False\n",
      "Missing values in costs: False\n"
     ]
    }
   ],
   "source": [
    "print('Missing values in visits:', visits.isnull().values.any())\n",
    "print('Missing values in orders:', orders.isnull().values.any())\n",
    "print('Missing values in costs:', costs.isnull().values.any())"
   ]
  },
  {
   "cell_type": "markdown",
   "metadata": {},
   "source": [
    "Пропущенные значения отсутствуют."
   ]
  },
  {
   "cell_type": "code",
   "execution_count": 28,
   "metadata": {},
   "outputs": [
    {
     "name": "stdout",
     "output_type": "stream",
     "text": [
      "Duplicates in visits: False\n",
      "Duplicates in orders: False\n",
      "Duplicates in costs: False\n"
     ]
    }
   ],
   "source": [
    "print('Duplicates in visits:', visits.duplicated().values.any())\n",
    "print('Duplicates in orders:', orders.duplicated().values.any())\n",
    "print('Duplicates in costs:', costs.duplicated().values.any())"
   ]
  },
  {
   "cell_type": "markdown",
   "metadata": {},
   "source": [
    "Дубликаты отсутствуют."
   ]
  },
  {
   "cell_type": "markdown",
   "metadata": {
    "id": "AS1eCqCpWVwk"
   },
   "source": [
    "### Задайте функции для расчёта и анализа LTV, ROI, удержания и конверсии.\n",
    "\n",
    "Разрешается использовать функции, с которыми вы познакомились в теоретических уроках.\n",
    "\n",
    "Это функции для вычисления значений метрик:\n",
    "\n",
    "- `get_profiles()` — для создания профилей пользователей,\n",
    "- `get_retention()` — для подсчёта Retention Rate,\n",
    "- `get_conversion()` — для подсчёта конверсии,\n",
    "- `get_ltv()` — для подсчёта LTV.\n",
    "\n",
    "А также функции для построения графиков:\n",
    "\n",
    "- `filter_data()` — для сглаживания данных,\n",
    "- `plot_retention()` — для построения графика Retention Rate,\n",
    "- `plot_conversion()` — для построения графика конверсии,\n",
    "- `plot_ltv_roi` — для визуализации LTV и ROI."
   ]
  },
  {
   "cell_type": "markdown",
   "metadata": {},
   "source": [
    "#### Создание профилей пользователей"
   ]
  },
  {
   "cell_type": "code",
   "execution_count": 29,
   "metadata": {
    "id": "igOfMgBpWVwl"
   },
   "outputs": [],
   "source": [
    "# функция для создания пользовательских профилей\n",
    "def get_profiles(sessions, orders, ad_costs):\n",
    "\n",
    "    # находим параметры первых посещений\n",
    "    profiles = (\n",
    "        sessions.sort_values(by=['user_id', 'session_start'])\n",
    "        .groupby('user_id')\n",
    "        .agg(\n",
    "            {\n",
    "                'session_start': 'first',\n",
    "                'channel': 'first',\n",
    "                'device': 'first',\n",
    "                'region': 'first',\n",
    "            }\n",
    "        )\n",
    "        .rename(columns={'session_start': 'first_ts'})\n",
    "        .reset_index()\n",
    "    )\n",
    "\n",
    "    # для когортного анализа определяем дату первого посещения\n",
    "    # и первый день месяца, в который это посещение произошло\n",
    "    profiles['dt'] = profiles['first_ts'].dt.date\n",
    "    profiles['month'] = profiles['first_ts'].astype('datetime64[M]')\n",
    "\n",
    "    # добавляем признак платящих пользователей\n",
    "    profiles['payer'] = profiles['user_id'].isin(orders['user_id'].unique())\n",
    "\n",
    "    # считаем количество уникальных пользователей\n",
    "    # с одинаковыми источником и датой привлечения\n",
    "    new_users = (\n",
    "        profiles.groupby(['dt', 'channel'])\n",
    "        .agg({'user_id': 'nunique'})\n",
    "        .rename(columns={'user_id': 'unique_users'})\n",
    "        .reset_index()\n",
    "    )\n",
    "\n",
    "    # объединяем траты на рекламу и число привлечённых пользователей\n",
    "    ad_costs = ad_costs.merge(new_users, on=['dt', 'channel'], how='left')\n",
    "\n",
    "    # делим рекламные расходы на число привлечённых пользователей\n",
    "    ad_costs['acquisition_cost'] = ad_costs['costs'] / ad_costs['unique_users']\n",
    "\n",
    "    # добавляем стоимость привлечения в профили\n",
    "    profiles = profiles.merge(\n",
    "        ad_costs[['dt', 'channel', 'acquisition_cost']],\n",
    "        on=['dt', 'channel'],\n",
    "        how='left',\n",
    "    )\n",
    "\n",
    "    # стоимость привлечения органических пользователей равна нулю\n",
    "    profiles['acquisition_cost'] = profiles['acquisition_cost'].fillna(0)\n",
    "\n",
    "    return profiles"
   ]
  },
  {
   "cell_type": "markdown",
   "metadata": {},
   "source": [
    "#### Подсчёт Retention Rate"
   ]
  },
  {
   "cell_type": "code",
   "execution_count": 30,
   "metadata": {},
   "outputs": [],
   "source": [
    "# функция для расчёта удержания\n",
    "def get_retention(\n",
    "    profiles,\n",
    "    sessions,\n",
    "    observation_date,\n",
    "    horizon_days,\n",
    "    dimensions=[],\n",
    "    ignore_horizon=False,\n",
    "):\n",
    "\n",
    "    # добавляем столбец payer в передаваемый dimensions список\n",
    "    dimensions = ['payer'] + dimensions\n",
    "\n",
    "    # исключаем пользователей, не «доживших» до горизонта анализа\n",
    "    last_suitable_acquisition_date = observation_date\n",
    "    if not ignore_horizon:\n",
    "        last_suitable_acquisition_date = observation_date - timedelta(\n",
    "            days=horizon_days - 1\n",
    "        )\n",
    "    result_raw = profiles.query('dt <= @last_suitable_acquisition_date')\n",
    "\n",
    "    # собираем «сырые» данные для расчёта удержания\n",
    "    result_raw = result_raw.merge(\n",
    "        sessions[['user_id', 'session_start']], on='user_id', how='left'\n",
    "    )\n",
    "    result_raw['lifetime'] = (\n",
    "        result_raw['session_start'] - result_raw['first_ts']\n",
    "    ).dt.days\n",
    "\n",
    "    # функция для группировки таблицы по желаемым признакам\n",
    "    def group_by_dimensions(df, dims, horizon_days):\n",
    "        result = df.pivot_table(\n",
    "            index=dims, columns='lifetime', values='user_id', aggfunc='nunique'\n",
    "        )\n",
    "        cohort_sizes = (\n",
    "            df.groupby(dims)\n",
    "            .agg({'user_id': 'nunique'})\n",
    "            .rename(columns={'user_id': 'cohort_size'})\n",
    "        )\n",
    "        result = cohort_sizes.merge(result, on=dims, how='left').fillna(0)\n",
    "        result = result.div(result['cohort_size'], axis=0)\n",
    "        result = result[['cohort_size'] + list(range(horizon_days))]\n",
    "        result['cohort_size'] = cohort_sizes\n",
    "        return result\n",
    "\n",
    "    # получаем таблицу удержания\n",
    "    result_grouped = group_by_dimensions(result_raw, dimensions, horizon_days)\n",
    "\n",
    "    # получаем таблицу динамики удержания\n",
    "    result_in_time = group_by_dimensions(\n",
    "        result_raw, dimensions + ['dt'], horizon_days\n",
    "    )\n",
    "\n",
    "    # возвращаем обе таблицы и сырые данные\n",
    "    return result_raw, result_grouped, result_in_time "
   ]
  },
  {
   "cell_type": "markdown",
   "metadata": {},
   "source": [
    "#### Подсчёт конверсии"
   ]
  },
  {
   "cell_type": "code",
   "execution_count": 31,
   "metadata": {},
   "outputs": [],
   "source": [
    "# функция для расчёта конверсии\n",
    "def get_conversion(\n",
    "    profiles,\n",
    "    purchases,\n",
    "    observation_date,\n",
    "    horizon_days,\n",
    "    dimensions=[],\n",
    "    ignore_horizon=False,\n",
    "):\n",
    "\n",
    "    # исключаем пользователей, не «доживших» до горизонта анализа\n",
    "    last_suitable_acquisition_date = observation_date\n",
    "    if not ignore_horizon:\n",
    "        last_suitable_acquisition_date = observation_date - timedelta(\n",
    "            days=horizon_days - 1\n",
    "        )\n",
    "    result_raw = profiles.query('dt <= @last_suitable_acquisition_date')\n",
    "\n",
    "    # определяем дату и время первой покупки для каждого пользователя\n",
    "    first_purchases = (\n",
    "        purchases.sort_values(by=['user_id', 'event_dt'])\n",
    "        .groupby('user_id')\n",
    "        .agg({'event_dt': 'first'})\n",
    "        .reset_index()\n",
    "    )\n",
    "\n",
    "    # добавляем данные о покупках в профили\n",
    "    result_raw = result_raw.merge(\n",
    "        first_purchases[['user_id', 'event_dt']], on='user_id', how='left'\n",
    "    )\n",
    "\n",
    "    # рассчитываем лайфтайм для каждой покупки\n",
    "    result_raw['lifetime'] = (\n",
    "        result_raw['event_dt'] - result_raw['first_ts']\n",
    "    ).dt.days\n",
    "\n",
    "    # группируем по cohort, если в dimensions ничего нет\n",
    "    if len(dimensions) == 0:\n",
    "        result_raw['cohort'] = 'All users' \n",
    "        dimensions = dimensions + ['cohort']\n",
    "\n",
    "    # функция для группировки таблицы по желаемым признакам\n",
    "    def group_by_dimensions(df, dims, horizon_days):\n",
    "        result = df.pivot_table(\n",
    "            index=dims, columns='lifetime', values='user_id', aggfunc='nunique'\n",
    "        )\n",
    "        result = result.fillna(0).cumsum(axis = 1)\n",
    "        cohort_sizes = (\n",
    "            df.groupby(dims)\n",
    "            .agg({'user_id': 'nunique'})\n",
    "            .rename(columns={'user_id': 'cohort_size'})\n",
    "        )\n",
    "        result = cohort_sizes.merge(result, on=dims, how='left').fillna(0)\n",
    "        # делим каждую «ячейку» в строке на размер когорты\n",
    "        # и получаем conversion rate\n",
    "        result = result.div(result['cohort_size'], axis=0)\n",
    "        result = result[['cohort_size'] + list(range(horizon_days))]\n",
    "        result['cohort_size'] = cohort_sizes\n",
    "        return result\n",
    "\n",
    "    # получаем таблицу конверсии\n",
    "    result_grouped = group_by_dimensions(result_raw, dimensions, horizon_days)\n",
    "\n",
    "    # для таблицы динамики конверсии убираем 'cohort' из dimensions\n",
    "    if 'cohort' in dimensions: \n",
    "        dimensions = []\n",
    "\n",
    "    # получаем таблицу динамики конверсии\n",
    "    result_in_time = group_by_dimensions(\n",
    "        result_raw, dimensions + ['dt'], horizon_days\n",
    "    )\n",
    "\n",
    "    # возвращаем обе таблицы и сырые данные\n",
    "    return result_raw, result_grouped, result_in_time "
   ]
  },
  {
   "cell_type": "markdown",
   "metadata": {},
   "source": [
    "#### Подсчёт LTV"
   ]
  },
  {
   "cell_type": "code",
   "execution_count": 32,
   "metadata": {},
   "outputs": [],
   "source": [
    "# функция для расчёта LTV и ROI\n",
    "def get_ltv(\n",
    "    profiles,\n",
    "    purchases,\n",
    "    observation_date,\n",
    "    horizon_days,\n",
    "    dimensions=[],\n",
    "    ignore_horizon=False,\n",
    "):\n",
    "\n",
    "    # исключаем пользователей, не «доживших» до горизонта анализа\n",
    "    last_suitable_acquisition_date = observation_date\n",
    "    if not ignore_horizon:\n",
    "        last_suitable_acquisition_date = observation_date - timedelta(\n",
    "            days=horizon_days - 1\n",
    "        )\n",
    "    result_raw = profiles.query('dt <= @last_suitable_acquisition_date')\n",
    "    # добавляем данные о покупках в профили\n",
    "    result_raw = result_raw.merge(\n",
    "        purchases[['user_id', 'event_dt', 'revenue']], on='user_id', how='left'\n",
    "    )\n",
    "    # рассчитываем лайфтайм пользователя для каждой покупки\n",
    "    result_raw['lifetime'] = (\n",
    "        result_raw['event_dt'] - result_raw['first_ts']\n",
    "    ).dt.days\n",
    "    # группируем по cohort, если в dimensions ничего нет\n",
    "    if len(dimensions) == 0:\n",
    "        result_raw['cohort'] = 'All users'\n",
    "        dimensions = dimensions + ['cohort']\n",
    "\n",
    "    # функция группировки по желаемым признакам\n",
    "    def group_by_dimensions(df, dims, horizon_days):\n",
    "        # строим «треугольную» таблицу выручки\n",
    "        result = df.pivot_table(\n",
    "            index=dims, columns='lifetime', values='revenue', aggfunc='sum'\n",
    "        )\n",
    "        # находим сумму выручки с накоплением\n",
    "        result = result.fillna(0).cumsum(axis=1)\n",
    "        # вычисляем размеры когорт\n",
    "        cohort_sizes = (\n",
    "            df.groupby(dims)\n",
    "            .agg({'user_id': 'nunique'})\n",
    "            .rename(columns={'user_id': 'cohort_size'})\n",
    "        )\n",
    "        # объединяем размеры когорт и таблицу выручки\n",
    "        result = cohort_sizes.merge(result, on=dims, how='left').fillna(0)\n",
    "        # считаем LTV: делим каждую «ячейку» в строке на размер когорты\n",
    "        result = result.div(result['cohort_size'], axis=0)\n",
    "        # исключаем все лайфтаймы, превышающие горизонт анализа\n",
    "        result = result[['cohort_size'] + list(range(horizon_days))]\n",
    "        # восстанавливаем размеры когорт\n",
    "        result['cohort_size'] = cohort_sizes\n",
    "\n",
    "        # собираем датафрейм с данными пользователей и значениями CAC, \n",
    "        # добавляя параметры из dimensions\n",
    "        cac = df[['user_id', 'acquisition_cost'] + dims].drop_duplicates()\n",
    "\n",
    "        # считаем средний CAC по параметрам из dimensions\n",
    "        cac = (\n",
    "            cac.groupby(dims)\n",
    "            .agg({'acquisition_cost': 'mean'})\n",
    "            .rename(columns={'acquisition_cost': 'cac'})\n",
    "        )\n",
    "\n",
    "        # считаем ROI: делим LTV на CAC\n",
    "        roi = result.div(cac['cac'], axis=0)\n",
    "\n",
    "        # удаляем строки с бесконечным ROI\n",
    "        roi = roi[~roi['cohort_size'].isin([np.inf])]\n",
    "\n",
    "        # восстанавливаем размеры когорт в таблице ROI\n",
    "        roi['cohort_size'] = cohort_sizes\n",
    "\n",
    "        # добавляем CAC в таблицу ROI\n",
    "        roi['cac'] = cac['cac']\n",
    "\n",
    "        # в финальной таблице оставляем размеры когорт, CAC\n",
    "        # и ROI в лайфтаймы, не превышающие горизонт анализа\n",
    "        roi = roi[['cohort_size', 'cac'] + list(range(horizon_days))]\n",
    "\n",
    "        # возвращаем таблицы LTV и ROI\n",
    "        return result, roi\n",
    "\n",
    "    # получаем таблицы LTV и ROI\n",
    "    result_grouped, roi_grouped = group_by_dimensions(\n",
    "        result_raw, dimensions, horizon_days\n",
    "    )\n",
    "\n",
    "    # для таблиц динамики убираем 'cohort' из dimensions\n",
    "    if 'cohort' in dimensions:\n",
    "        dimensions = []\n",
    "\n",
    "    # получаем таблицы динамики LTV и ROI\n",
    "    result_in_time, roi_in_time = group_by_dimensions(\n",
    "        result_raw, dimensions + ['dt'], horizon_days\n",
    "    )\n",
    "\n",
    "    return (\n",
    "        result_raw,  # сырые данные\n",
    "        result_grouped,  # таблица LTV\n",
    "        result_in_time,  # таблица динамики LTV\n",
    "        roi_grouped,  # таблица ROI\n",
    "        roi_in_time,  # таблица динамики ROI\n",
    "    ) "
   ]
  },
  {
   "cell_type": "markdown",
   "metadata": {},
   "source": [
    "#### Сглаживание данных"
   ]
  },
  {
   "cell_type": "code",
   "execution_count": 33,
   "metadata": {},
   "outputs": [],
   "source": [
    "# функция для сглаживания фрейма\n",
    "def filter_data(df, window):\n",
    "    # для каждого столбца применяем скользящее среднее\n",
    "    for column in df.columns.values:\n",
    "        df[column] = df[column].rolling(window).mean() \n",
    "    return df "
   ]
  },
  {
   "cell_type": "markdown",
   "metadata": {},
   "source": [
    "#### Построение графика Retention Rate"
   ]
  },
  {
   "cell_type": "code",
   "execution_count": 34,
   "metadata": {},
   "outputs": [],
   "source": [
    "# функция для визуализации удержания\n",
    "def plot_retention(retention, retention_history, horizon, window=7):\n",
    "\n",
    "    # задаём размер сетки для графиков\n",
    "    plt.figure(figsize=(15, 10))\n",
    "\n",
    "    # исключаем размеры когорт и удержание первого дня\n",
    "    retention = retention.drop(columns=['cohort_size', 0])\n",
    "    # в таблице динамики оставляем только нужный лайфтайм\n",
    "    retention_history = retention_history.drop(columns=['cohort_size'])[\n",
    "        [horizon - 1]\n",
    "    ]\n",
    "\n",
    "    # если в индексах таблицы удержания только payer,\n",
    "    # добавляем второй признак — cohort\n",
    "    if retention.index.nlevels == 1:\n",
    "        retention['cohort'] = 'All users'\n",
    "        retention = retention.reset_index().set_index(['cohort', 'payer'])\n",
    "\n",
    "    # в таблице графиков — два столбца и две строки, четыре ячейки\n",
    "    # в первой строим кривые удержания платящих пользователей\n",
    "    ax1 = plt.subplot(2, 2, 1)\n",
    "    retention.query('payer == True').droplevel('payer').T.plot(\n",
    "        grid=True, ax=ax1\n",
    "    )\n",
    "    plt.legend()\n",
    "    plt.xlabel('Лайфтайм')\n",
    "    plt.title('Удержание платящих пользователей')\n",
    "\n",
    "    # во второй ячейке строим кривые удержания неплатящих\n",
    "    # вертикальная ось — от графика из первой ячейки\n",
    "    ax2 = plt.subplot(2, 2, 2, sharey=ax1)\n",
    "    retention.query('payer == False').droplevel('payer').T.plot(\n",
    "        grid=True, ax=ax2\n",
    "    )\n",
    "    plt.legend()\n",
    "    plt.xlabel('Лайфтайм')\n",
    "    plt.title('Удержание неплатящих пользователей')\n",
    "\n",
    "    # в третьей ячейке — динамика удержания платящих\n",
    "    ax3 = plt.subplot(2, 2, 3)\n",
    "    # получаем названия столбцов для сводной таблицы\n",
    "    columns = [\n",
    "        name\n",
    "        for name in retention_history.index.names\n",
    "        if name not in ['dt', 'payer']\n",
    "    ]\n",
    "    # фильтруем данные и строим график\n",
    "    filtered_data = retention_history.query('payer == True').pivot_table(\n",
    "        index='dt', columns=columns, values=horizon - 1, aggfunc='mean'\n",
    "    )\n",
    "    filter_data(filtered_data, window).plot(grid=True, ax=ax3)\n",
    "    plt.xlabel('Дата привлечения')\n",
    "    plt.title(\n",
    "        'Динамика удержания платящих пользователей на {}-й день'.format(\n",
    "            horizon\n",
    "        )\n",
    "    )\n",
    "\n",
    "    # в чётвертой ячейке — динамика удержания неплатящих\n",
    "    ax4 = plt.subplot(2, 2, 4, sharey=ax3)\n",
    "    # фильтруем данные и строим график\n",
    "    filtered_data = retention_history.query('payer == False').pivot_table(\n",
    "        index='dt', columns=columns, values=horizon - 1, aggfunc='mean'\n",
    "    )\n",
    "    filter_data(filtered_data, window).plot(grid=True, ax=ax4)\n",
    "    plt.xlabel('Дата привлечения')\n",
    "    plt.title(\n",
    "        'Динамика удержания неплатящих пользователей на {}-й день'.format(\n",
    "            horizon\n",
    "        )\n",
    "    )\n",
    "    \n",
    "    plt.tight_layout()\n",
    "    plt.show() "
   ]
  },
  {
   "cell_type": "markdown",
   "metadata": {},
   "source": [
    "#### Построение графика конверсии"
   ]
  },
  {
   "cell_type": "code",
   "execution_count": 35,
   "metadata": {},
   "outputs": [],
   "source": [
    "# функция для визуализации конверсии\n",
    "def plot_conversion(conversion, conversion_history, horizon, window=7):\n",
    "\n",
    "    # задаём размер сетки для графиков\n",
    "    plt.figure(figsize=(15, 5))\n",
    "\n",
    "    # исключаем размеры когорт\n",
    "    conversion = conversion.drop(columns=['cohort_size'])\n",
    "    # в таблице динамики оставляем только нужный лайфтайм\n",
    "    conversion_history = conversion_history.drop(columns=['cohort_size'])[\n",
    "        [horizon - 1]\n",
    "    ]\n",
    "\n",
    "    # первый график — кривые конверсии\n",
    "    ax1 = plt.subplot(1, 2, 1)\n",
    "    conversion.T.plot(grid=True, ax=ax1)\n",
    "    plt.legend()\n",
    "    plt.xlabel('Лайфтайм')\n",
    "    plt.title('Конверсия пользователей')\n",
    "\n",
    "    # второй график — динамика конверсии\n",
    "    ax2 = plt.subplot(1, 2, 2, sharey=ax1)\n",
    "    columns = [\n",
    "        # столбцами сводной таблицы станут все столбцы индекса, кроме даты\n",
    "        name for name in conversion_history.index.names if name not in ['dt']\n",
    "    ]\n",
    "    filtered_data = conversion_history.pivot_table(\n",
    "        index='dt', columns=columns, values=horizon - 1, aggfunc='mean'\n",
    "    )\n",
    "    filter_data(filtered_data, window).plot(grid=True, ax=ax2)\n",
    "    plt.xlabel('Дата привлечения')\n",
    "    plt.title('Динамика конверсии пользователей на {}-й день'.format(horizon))\n",
    "\n",
    "    plt.tight_layout()\n",
    "    plt.show() \n"
   ]
  },
  {
   "cell_type": "markdown",
   "metadata": {},
   "source": [
    "#### Визуализация LTV и ROI"
   ]
  },
  {
   "cell_type": "code",
   "execution_count": 36,
   "metadata": {},
   "outputs": [],
   "source": [
    "# функция для визуализации LTV и ROI\n",
    "def plot_ltv_roi(ltv, ltv_history, roi, roi_history, horizon, window=7):\n",
    "\n",
    "    # задаём сетку отрисовки графиков\n",
    "    plt.figure(figsize=(20, 10))\n",
    "\n",
    "    # из таблицы ltv исключаем размеры когорт\n",
    "    ltv = ltv.drop(columns=['cohort_size'])\n",
    "    # в таблице динамики ltv оставляем только нужный лайфтайм\n",
    "    ltv_history = ltv_history.drop(columns=['cohort_size'])[[horizon - 1]]\n",
    "\n",
    "    # стоимость привлечения запишем в отдельный фрейм\n",
    "    cac_history = roi_history[['cac']]\n",
    "\n",
    "    # из таблицы roi исключаем размеры когорт и cac\n",
    "    roi = roi.drop(columns=['cohort_size', 'cac'])\n",
    "    # в таблице динамики roi оставляем только нужный лайфтайм\n",
    "    roi_history = roi_history.drop(columns=['cohort_size', 'cac'])[\n",
    "        [horizon - 1]\n",
    "    ]\n",
    "\n",
    "    # первый график — кривые ltv\n",
    "    ax1 = plt.subplot(2, 3, 1)\n",
    "    ltv.T.plot(grid=True, ax=ax1)\n",
    "    plt.legend()\n",
    "    plt.xlabel('Лайфтайм')\n",
    "    plt.title('LTV')\n",
    "\n",
    "    # второй график — динамика ltv\n",
    "    ax2 = plt.subplot(2, 3, 2, sharey=ax1)\n",
    "    # столбцами сводной таблицы станут все столбцы индекса, кроме даты\n",
    "    columns = [name for name in ltv_history.index.names if name not in ['dt']]\n",
    "    filtered_data = ltv_history.pivot_table(\n",
    "        index='dt', columns=columns, values=horizon - 1, aggfunc='mean'\n",
    "    )\n",
    "    filter_data(filtered_data, window).plot(grid=True, ax=ax2)\n",
    "    plt.xlabel('Дата привлечения')\n",
    "    plt.title('Динамика LTV пользователей на {}-й день'.format(horizon))\n",
    "\n",
    "    # третий график — динамика cac\n",
    "    ax3 = plt.subplot(2, 3, 3, sharey=ax1)\n",
    "    # столбцами сводной таблицы станут все столбцы индекса, кроме даты\n",
    "    columns = [name for name in cac_history.index.names if name not in ['dt']]\n",
    "    filtered_data = cac_history.pivot_table(\n",
    "        index='dt', columns=columns, values='cac', aggfunc='mean'\n",
    "    )\n",
    "    filter_data(filtered_data, window).plot(grid=True, ax=ax3)\n",
    "    plt.xlabel('Дата привлечения')\n",
    "    plt.title('Динамика стоимости привлечения пользователей')\n",
    "\n",
    "    # четвёртый график — кривые roi\n",
    "    ax4 = plt.subplot(2, 3, 4)\n",
    "    roi.T.plot(grid=True, ax=ax4)\n",
    "    plt.axhline(y=1, color='red', linestyle='--', label='Уровень окупаемости')\n",
    "    plt.legend()\n",
    "    plt.xlabel('Лайфтайм')\n",
    "    plt.title('ROI')\n",
    "\n",
    "    # пятый график — динамика roi\n",
    "    ax5 = plt.subplot(2, 3, 5, sharey=ax4)\n",
    "    # столбцами сводной таблицы станут все столбцы индекса, кроме даты\n",
    "    columns = [name for name in roi_history.index.names if name not in ['dt']]\n",
    "    filtered_data = roi_history.pivot_table(\n",
    "        index='dt', columns=columns, values=horizon - 1, aggfunc='mean'\n",
    "    )\n",
    "    filter_data(filtered_data, window).plot(grid=True, ax=ax5)\n",
    "    plt.axhline(y=1, color='red', linestyle='--', label='Уровень окупаемости')\n",
    "    plt.xlabel('Дата привлечения')\n",
    "    plt.title('Динамика ROI пользователей на {}-й день'.format(horizon))\n",
    "\n",
    "    plt.tight_layout()\n",
    "    plt.show() "
   ]
  },
  {
   "cell_type": "markdown",
   "metadata": {
    "id": "V-KBT-KMWVwl"
   },
   "source": [
    "### Исследовательский анализ данных\n",
    "\n",
    "- Составьте профили пользователей. Определите минимальную и максимальную даты привлечения пользователей.\n",
    "- Выясните, из каких стран пользователи приходят в приложение и на какую страну приходится больше всего платящих пользователей. Постройте таблицу, отражающую количество пользователей и долю платящих из каждой страны.\n",
    "- Узнайте, какими устройствами пользуются клиенты и какие устройства предпочитают платящие пользователи. Постройте таблицу, отражающую количество пользователей и долю платящих для каждого устройства.\n",
    "- Изучите рекламные источники привлечения и определите каналы, из которых пришло больше всего платящих пользователей. Постройте таблицу, отражающую количество пользователей и долю платящих для каждого канала привлечения.\n",
    "\n",
    "После каждого пункта сформулируйте выводы."
   ]
  },
  {
   "cell_type": "code",
   "execution_count": 37,
   "metadata": {
    "id": "oOLsbJpNWVwm"
   },
   "outputs": [
    {
     "data": {
      "text/html": [
       "<div>\n",
       "<style scoped>\n",
       "    .dataframe tbody tr th:only-of-type {\n",
       "        vertical-align: middle;\n",
       "    }\n",
       "\n",
       "    .dataframe tbody tr th {\n",
       "        vertical-align: top;\n",
       "    }\n",
       "\n",
       "    .dataframe thead th {\n",
       "        text-align: right;\n",
       "    }\n",
       "</style>\n",
       "<table border=\"1\" class=\"dataframe\">\n",
       "  <thead>\n",
       "    <tr style=\"text-align: right;\">\n",
       "      <th></th>\n",
       "      <th>user_id</th>\n",
       "      <th>first_ts</th>\n",
       "      <th>channel</th>\n",
       "      <th>device</th>\n",
       "      <th>region</th>\n",
       "      <th>dt</th>\n",
       "      <th>month</th>\n",
       "      <th>payer</th>\n",
       "      <th>acquisition_cost</th>\n",
       "    </tr>\n",
       "  </thead>\n",
       "  <tbody>\n",
       "    <tr>\n",
       "      <th>0</th>\n",
       "      <td>599326</td>\n",
       "      <td>2019-05-07 20:58:57</td>\n",
       "      <td>FaceBoom</td>\n",
       "      <td>Mac</td>\n",
       "      <td>United States</td>\n",
       "      <td>2019-05-07</td>\n",
       "      <td>2019-05-07 20:58:57</td>\n",
       "      <td>True</td>\n",
       "      <td>1.088172</td>\n",
       "    </tr>\n",
       "    <tr>\n",
       "      <th>1</th>\n",
       "      <td>4919697</td>\n",
       "      <td>2019-07-09 12:46:07</td>\n",
       "      <td>FaceBoom</td>\n",
       "      <td>iPhone</td>\n",
       "      <td>United States</td>\n",
       "      <td>2019-07-09</td>\n",
       "      <td>2019-07-09 12:46:07</td>\n",
       "      <td>False</td>\n",
       "      <td>1.107237</td>\n",
       "    </tr>\n",
       "    <tr>\n",
       "      <th>2</th>\n",
       "      <td>6085896</td>\n",
       "      <td>2019-10-01 09:58:33</td>\n",
       "      <td>organic</td>\n",
       "      <td>iPhone</td>\n",
       "      <td>France</td>\n",
       "      <td>2019-10-01</td>\n",
       "      <td>2019-10-01 09:58:33</td>\n",
       "      <td>False</td>\n",
       "      <td>0.000000</td>\n",
       "    </tr>\n",
       "    <tr>\n",
       "      <th>3</th>\n",
       "      <td>22593348</td>\n",
       "      <td>2019-08-22 21:35:48</td>\n",
       "      <td>AdNonSense</td>\n",
       "      <td>PC</td>\n",
       "      <td>Germany</td>\n",
       "      <td>2019-08-22</td>\n",
       "      <td>2019-08-22 21:35:48</td>\n",
       "      <td>False</td>\n",
       "      <td>0.988235</td>\n",
       "    </tr>\n",
       "    <tr>\n",
       "      <th>4</th>\n",
       "      <td>31989216</td>\n",
       "      <td>2019-10-02 00:07:44</td>\n",
       "      <td>YRabbit</td>\n",
       "      <td>iPhone</td>\n",
       "      <td>United States</td>\n",
       "      <td>2019-10-02</td>\n",
       "      <td>2019-10-02 00:07:44</td>\n",
       "      <td>False</td>\n",
       "      <td>0.230769</td>\n",
       "    </tr>\n",
       "  </tbody>\n",
       "</table>\n",
       "</div>"
      ],
      "text/plain": [
       "    user_id            first_ts     channel  device         region  \\\n",
       "0    599326 2019-05-07 20:58:57    FaceBoom     Mac  United States   \n",
       "1   4919697 2019-07-09 12:46:07    FaceBoom  iPhone  United States   \n",
       "2   6085896 2019-10-01 09:58:33     organic  iPhone         France   \n",
       "3  22593348 2019-08-22 21:35:48  AdNonSense      PC        Germany   \n",
       "4  31989216 2019-10-02 00:07:44     YRabbit  iPhone  United States   \n",
       "\n",
       "           dt               month  payer  acquisition_cost  \n",
       "0  2019-05-07 2019-05-07 20:58:57   True          1.088172  \n",
       "1  2019-07-09 2019-07-09 12:46:07  False          1.107237  \n",
       "2  2019-10-01 2019-10-01 09:58:33  False          0.000000  \n",
       "3  2019-08-22 2019-08-22 21:35:48  False          0.988235  \n",
       "4  2019-10-02 2019-10-02 00:07:44  False          0.230769  "
      ]
     },
     "execution_count": 37,
     "metadata": {},
     "output_type": "execute_result"
    }
   ],
   "source": [
    "profiles = get_profiles(visits, orders, costs)\n",
    "profiles.head()"
   ]
  },
  {
   "cell_type": "code",
   "execution_count": 38,
   "metadata": {},
   "outputs": [
    {
     "name": "stdout",
     "output_type": "stream",
     "text": [
      "Минимальная дата привлечения пользователей: 2019-05-01\n",
      "Максимальная дата привлечения пользователей: 2019-10-27\n"
     ]
    }
   ],
   "source": [
    "print('Минимальная дата привлечения пользователей:', profiles['dt'].min())\n",
    "print('Максимальная дата привлечения пользователей:', profiles['dt'].max())"
   ]
  },
  {
   "cell_type": "code",
   "execution_count": 39,
   "metadata": {},
   "outputs": [
    {
     "name": "stdout",
     "output_type": "stream",
     "text": [
      "          region   total  fraction_paid\n",
      "3  United States  100002          0.069\n",
      "2             UK   17575          0.040\n",
      "0         France   17450          0.038\n",
      "1        Germany   14981          0.041\n",
      "\n",
      "    device  total  fraction_paid\n",
      "3   iPhone  54479          0.062\n",
      "0  Android  35032          0.059\n",
      "2       PC  30455          0.050\n",
      "1      Mac  30042          0.064\n",
      "\n",
      "               channel  total  fraction_paid\n",
      "10             organic  56439          0.021\n",
      "1             FaceBoom  29144          0.122\n",
      "6               TipTop  19561          0.096\n",
      "4   OppleCreativeMedia   8605          0.027\n",
      "2              LeapBob   8553          0.031\n",
      "7       WahooNetBanner   8553          0.053\n",
      "5       RocketSuperAds   4448          0.079\n",
      "3         MediaTornado   4364          0.036\n",
      "8              YRabbit   4312          0.038\n",
      "0           AdNonSense   3880          0.113\n",
      "9       lambdaMediaAds   2149          0.105\n",
      "\n"
     ]
    }
   ],
   "source": [
    "tmp_paid = profiles.query('payer == True')\n",
    "\n",
    "def fraction_for_each(a):\n",
    "    f_payer = (\n",
    "        profiles.groupby(a)\n",
    "        .agg(\n",
    "            {\n",
    "                'user_id': 'nunique',\n",
    "                'payer': 'mean'\n",
    "            }\n",
    "        )\n",
    "        .rename(columns={'payer': 'fraction_paid', 'user_id': 'total'})\n",
    "        .reset_index()\n",
    "    )\n",
    "    \n",
    "    f_payer['fraction_paid'] = f_payer['fraction_paid'].round(3)\n",
    "    \n",
    "    return f_payer\n",
    "  \n",
    "tmp_list = ['region', 'device', 'channel']\n",
    "\n",
    "for i in tmp_list:\n",
    "    tmp = fraction_for_each(i)\n",
    "    print(tmp.sort_values(by='total', ascending=False))\n",
    "    print()"
   ]
  },
  {
   "cell_type": "markdown",
   "metadata": {},
   "source": [
    "- Только по США 100002 пользователей, где доля платящих составляет 7%. Следующей в списке идет Германия (~4%). И хотя пользователей из Германии меньше, чем из Франции и Великобритании, доля платящих пользователей там выше.\n",
    "\n",
    "\n",
    "- Среди клиентов преобладают пользователи iPhone (54479). Однако, несмотря на то что пользователей Mac меньше всего, доля платящих клиентов среди них выше (~6.3%).\n",
    "\n",
    "\n",
    "- Большинство пользователей являются «органическими» (56439). Больше всего платящих пользователей пришло из FaceBoom (доля платящих составляет 12%). Но хотя пользователей, привлеченных из AdNonSense (3880) и lambdaMediaAds (2149), намного меньше, чем из FaceBoom, доля платящих пользователей для каждого канала среди них примерно одинаковая (11% и 10%)."
   ]
  },
  {
   "cell_type": "markdown",
   "metadata": {
    "id": "80LRB5-eWVwm"
   },
   "source": [
    "### Маркетинг\n",
    "\n",
    "- Посчитайте общую сумму расходов на маркетинг.\n",
    "- Выясните, как траты распределены по рекламным источникам, то есть сколько денег потратили на каждый источник.\n",
    "- Постройте график с визуализацией динамики изменения расходов во времени по неделям по каждому источнику. Затем на другом графике визуализируйте динамику изменения расходов во времени по месяцам по каждому источнику.\n",
    "- Узнайте, сколько в среднем стоило привлечение одного пользователя (CAC) из каждого источника. Используйте профили пользователей.\n",
    "\n",
    "Напишите промежуточные выводы."
   ]
  },
  {
   "cell_type": "code",
   "execution_count": 40,
   "metadata": {},
   "outputs": [
    {
     "name": "stdout",
     "output_type": "stream",
     "text": [
      "Общая сумма расходов на маркетинг: 105497.30000000002\n"
     ]
    }
   ],
   "source": [
    "total_marketing = costs['costs'].sum()\n",
    "print('Общая сумма расходов на маркетинг:', total_marketing)"
   ]
  },
  {
   "cell_type": "code",
   "execution_count": 41,
   "metadata": {},
   "outputs": [
    {
     "data": {
      "text/html": [
       "<div>\n",
       "<style scoped>\n",
       "    .dataframe tbody tr th:only-of-type {\n",
       "        vertical-align: middle;\n",
       "    }\n",
       "\n",
       "    .dataframe tbody tr th {\n",
       "        vertical-align: top;\n",
       "    }\n",
       "\n",
       "    .dataframe thead th {\n",
       "        text-align: right;\n",
       "    }\n",
       "</style>\n",
       "<table border=\"1\" class=\"dataframe\">\n",
       "  <thead>\n",
       "    <tr style=\"text-align: right;\">\n",
       "      <th></th>\n",
       "      <th>channel</th>\n",
       "      <th>costs</th>\n",
       "    </tr>\n",
       "  </thead>\n",
       "  <tbody>\n",
       "    <tr>\n",
       "      <th>6</th>\n",
       "      <td>TipTop</td>\n",
       "      <td>54751.30</td>\n",
       "    </tr>\n",
       "    <tr>\n",
       "      <th>1</th>\n",
       "      <td>FaceBoom</td>\n",
       "      <td>32445.60</td>\n",
       "    </tr>\n",
       "    <tr>\n",
       "      <th>7</th>\n",
       "      <td>WahooNetBanner</td>\n",
       "      <td>5151.00</td>\n",
       "    </tr>\n",
       "    <tr>\n",
       "      <th>0</th>\n",
       "      <td>AdNonSense</td>\n",
       "      <td>3911.25</td>\n",
       "    </tr>\n",
       "    <tr>\n",
       "      <th>4</th>\n",
       "      <td>OppleCreativeMedia</td>\n",
       "      <td>2151.25</td>\n",
       "    </tr>\n",
       "    <tr>\n",
       "      <th>5</th>\n",
       "      <td>RocketSuperAds</td>\n",
       "      <td>1833.00</td>\n",
       "    </tr>\n",
       "    <tr>\n",
       "      <th>2</th>\n",
       "      <td>LeapBob</td>\n",
       "      <td>1797.60</td>\n",
       "    </tr>\n",
       "    <tr>\n",
       "      <th>9</th>\n",
       "      <td>lambdaMediaAds</td>\n",
       "      <td>1557.60</td>\n",
       "    </tr>\n",
       "    <tr>\n",
       "      <th>3</th>\n",
       "      <td>MediaTornado</td>\n",
       "      <td>954.48</td>\n",
       "    </tr>\n",
       "    <tr>\n",
       "      <th>8</th>\n",
       "      <td>YRabbit</td>\n",
       "      <td>944.22</td>\n",
       "    </tr>\n",
       "  </tbody>\n",
       "</table>\n",
       "</div>"
      ],
      "text/plain": [
       "              channel     costs\n",
       "6              TipTop  54751.30\n",
       "1            FaceBoom  32445.60\n",
       "7      WahooNetBanner   5151.00\n",
       "0          AdNonSense   3911.25\n",
       "4  OppleCreativeMedia   2151.25\n",
       "5      RocketSuperAds   1833.00\n",
       "2             LeapBob   1797.60\n",
       "9      lambdaMediaAds   1557.60\n",
       "3        MediaTornado    954.48\n",
       "8             YRabbit    944.22"
      ]
     },
     "execution_count": 41,
     "metadata": {},
     "output_type": "execute_result"
    }
   ],
   "source": [
    "channel_price = costs.groupby('channel').agg({'costs': 'sum'}).reset_index()\n",
    "channel_price.sort_values(by='costs', ascending=False)"
   ]
  },
  {
   "cell_type": "markdown",
   "metadata": {},
   "source": [
    "Больше всего денег потратили на TipTop и FaceBoom, а меньше всего на MediaTornado и YRabbit."
   ]
  },
  {
   "cell_type": "code",
   "execution_count": 42,
   "metadata": {},
   "outputs": [
    {
     "data": {
      "text/plain": [
       "Text(0.5, 1.0, 'Динамика изменения расходов во времени по месяцам по каждому источнику')"
      ]
     },
     "execution_count": 42,
     "metadata": {},
     "output_type": "execute_result"
    },
    {
     "data": {
      "image/png": "[encoded data removed]",
      "text/plain": [
       "<Figure size 2000x800 with 2 Axes>"
      ]
     },
     "metadata": {},
     "output_type": "display_data"
    }
   ],
   "source": [
    "plt.figure(figsize=(20, 8))\n",
    "\n",
    "ax1 = plt.subplot(1, 2, 1)\n",
    "columns = costs['channel'].unique()\n",
    "costs['week'] = pd.to_datetime(costs['dt'])\n",
    "costs['week'] = costs['week'].dt.isocalendar().week\n",
    "tmp = costs.pivot_table(index='week', columns='channel', values='costs', aggfunc='sum')\n",
    "tmp.plot(grid=True, ax=ax1)\n",
    "plt.xlabel('Неделя')\n",
    "plt.ylabel('Расходы')\n",
    "plt.title('Динамика изменения расходов во времени по неделям по каждому источнику')\n",
    "\n",
    "ax2 = plt.subplot(1, 2, 2)\n",
    "costs['month'] = pd.to_datetime(costs['dt'])\n",
    "costs['month'] = costs['month'].dt.month\n",
    "tmp2 = costs.pivot_table(index='month', columns='channel', values='costs', aggfunc='sum')\n",
    "tmp2.plot(grid=True, ax=ax2)\n",
    "plt.xlabel('Месяц')\n",
    "plt.title('Динамика изменения расходов во времени по месяцам по каждому источнику')"
   ]
  },
  {
   "cell_type": "markdown",
   "metadata": {},
   "source": [
    "Из следующих графиков можно сделать вывод, что расходы на TipTop и FaceBoom увеличивались до 9 месяца и 8 месяца соответственно, а затем траты на оба канала пошли на спад. Расходы на остальные каналы оставались примерно на одном и том же уровне. Также до 6 месяца можно заметить уменьшение трат на AdNonSense, в то время как расходы на WahooNetBanner росли."
   ]
  },
  {
   "cell_type": "code",
   "execution_count": 43,
   "metadata": {},
   "outputs": [
    {
     "data": {
      "image/png": "[encoded data removed]",
      "text/plain": [
       "<Figure size 1000x500 with 1 Axes>"
      ]
     },
     "metadata": {},
     "output_type": "display_data"
    }
   ],
   "source": [
    "report = profiles.pivot_table(index='dt', columns='channel', values='acquisition_cost', aggfunc='mean')\n",
    "\n",
    "filter_data(report, 7).plot(grid=True, figsize=(10, 5))\n",
    "plt.ylabel('CAC, $')\n",
    "plt.xlabel('Дата привлечения')\n",
    "plt.title('Динамика САС по каналам привлечения')\n",
    "plt.show()"
   ]
  },
  {
   "cell_type": "markdown",
   "metadata": {},
   "source": [
    "Средняя стоимость привлечения одного пользователя из TipTop постоянно увеличивалась. Также стоимость привлечения для RocketSuperAds уменьшалась до конца августа. Привлечение одного пользователя из FaceBoom обошлось в среднем чуть больше 1 доллара, а из AdNonSense — примерно в $1. Для остальных каналов CAC стабилен на протяжении всего времени."
   ]
  },
  {
   "cell_type": "markdown",
   "metadata": {
    "id": "poDjrQVHWVwn"
   },
   "source": [
    "### Оцените окупаемость рекламы\n",
    "\n",
    "Используя графики LTV, ROI и CAC, проанализируйте окупаемость рекламы. Считайте, что на календаре 1 ноября 2019 года, а в бизнес-плане заложено, что пользователи должны окупаться не позднее чем через две недели после привлечения. Необходимость включения в анализ органических пользователей определите самостоятельно.\n",
    "\n",
    "- Проанализируйте окупаемость рекламы c помощью графиков LTV и ROI, а также графики динамики LTV, CAC и ROI.\n",
    "- Проверьте конверсию пользователей и динамику её изменения. То же самое сделайте с удержанием пользователей. Постройте и изучите графики конверсии и удержания.\n",
    "- Проанализируйте окупаемость рекламы с разбивкой по устройствам. Постройте графики LTV и ROI, а также графики динамики LTV, CAC и ROI.\n",
    "- Проанализируйте окупаемость рекламы с разбивкой по странам. Постройте графики LTV и ROI, а также графики динамики LTV, CAC и ROI.\n",
    "- Проанализируйте окупаемость рекламы с разбивкой по рекламным каналам. Постройте графики LTV и ROI, а также графики динамики LTV, CAC и ROI.\n",
    "- Ответьте на такие вопросы:\n",
    "    - Окупается ли реклама, направленная на привлечение пользователей в целом?\n",
    "    - Какие устройства, страны и рекламные каналы могут оказывать негативное влияние на окупаемость рекламы?\n",
    "    - Чем могут быть вызваны проблемы окупаемости?\n",
    "\n",
    "Напишите вывод, опишите возможные причины обнаруженных проблем и промежуточные рекомендации для рекламного отдела."
   ]
  },
  {
   "cell_type": "markdown",
   "metadata": {},
   "source": [
    "#### Общий тренд"
   ]
  },
  {
   "cell_type": "markdown",
   "metadata": {},
   "source": [
    "Т.к. максимальная дата привлечения пользователей 27 октября 2019 года, стоит взять эту дату как момент анализа."
   ]
  },
  {
   "cell_type": "code",
   "execution_count": 44,
   "metadata": {
    "id": "hbNu9EXeWVwo"
   },
   "outputs": [
    {
     "data": {
      "image/png": "[encoded data removed]",
      "text/plain": [
       "<Figure size 2000x1000 with 5 Axes>"
      ]
     },
     "metadata": {},
     "output_type": "display_data"
    }
   ],
   "source": [
    "observation_date = datetime(2019, 10, 27).date()\n",
    "analysis_horizon = 14\n",
    "\n",
    "# remove organic clients\n",
    "profiles_no_organic = profiles.query('channel != \\'organic\\'')\n",
    "\n",
    "ltv_raw, ltv, ltv_history, roi, roi_history = get_ltv(\n",
    "    profiles_no_organic, orders, observation_date, analysis_horizon\n",
    ")\n",
    "\n",
    "plot_ltv_roi(ltv, ltv_history, roi, roi_history, analysis_horizon, window=7)"
   ]
  },
  {
   "cell_type": "markdown",
   "metadata": {},
   "source": [
    "- Кривая LTV плавно растёт.\n",
    "\n",
    "- LTV подвержен сезонности.\n",
    "\n",
    "- Стоимость привлечения растет.\n",
    "\n",
    "- Реклама не окупается.\n",
    "\n",
    "- Реклама окупалась до конца мая и в середине июня."
   ]
  },
  {
   "cell_type": "code",
   "execution_count": 45,
   "metadata": {},
   "outputs": [
    {
     "data": {
      "image/png": "[encoded data removed]",
      "text/plain": [
       "<Figure size 1500x500 with 2 Axes>"
      ]
     },
     "metadata": {},
     "output_type": "display_data"
    }
   ],
   "source": [
    "conversion_raw, conversion, conversion_history = get_conversion(\n",
    "    profiles_no_organic, orders, observation_date, analysis_horizon\n",
    ")\n",
    "\n",
    "plot_conversion(conversion, conversion_history, analysis_horizon, window=14)"
   ]
  },
  {
   "cell_type": "markdown",
   "metadata": {},
   "source": [
    "- Кривая конверсии растёт.\n",
    "\n",
    "- Пользователи конвертируются более-менее хорошо."
   ]
  },
  {
   "cell_type": "code",
   "execution_count": null,
   "metadata": {},
   "outputs": [],
   "source": [
    "retention_raw, retention, retention_history = get_retention(\n",
    "    profiles_no_organic,visits,observation_date,analysis_horizon\n",
    ")\n",
    "\n",
    "plot_retention(retention, retention_history, analysis_horizon, window=14)"
   ]
  },
  {
   "cell_type": "markdown",
   "metadata": {},
   "source": [
    "- Платящие пользователи удерживаются лучше, чем неплатящие."
   ]
  },
  {
   "cell_type": "markdown",
   "metadata": {},
   "source": [
    "#### По устройствам"
   ]
  },
  {
   "cell_type": "code",
   "execution_count": null,
   "metadata": {},
   "outputs": [],
   "source": [
    "ltv_raw, ltv, ltv_history, roi, roi_history = get_ltv(\n",
    "    profiles_no_organic, orders, observation_date, analysis_horizon, dimensions=['device']\n",
    ")\n",
    "\n",
    "plot_ltv_roi(ltv, ltv_history, roi, roi_history, analysis_horizon, window=14)"
   ]
  },
  {
   "cell_type": "markdown",
   "metadata": {},
   "source": [
    "- Самый низкий LTV — у пользователей PC.\n",
    "\n",
    "- Стоимость привлечения пользователей PC ниже, чем других устройств.\n",
    "\n",
    "- В то же время реклама окупилась только для пользователей PC.\n",
    "\n",
    "- График динамики ROI показывает, что с конца августа реклама не окупается вовсе для всех устройств."
   ]
  },
  {
   "cell_type": "code",
   "execution_count": null,
   "metadata": {},
   "outputs": [],
   "source": [
    "conversion_raw, conversion, conversion_history = get_conversion(\n",
    "    profiles_no_organic, orders, observation_date, analysis_horizon, dimensions=['device']\n",
    ")\n",
    "\n",
    "plot_conversion(conversion, conversion_history, analysis_horizon, window=14)"
   ]
  },
  {
   "cell_type": "code",
   "execution_count": null,
   "metadata": {},
   "outputs": [],
   "source": [
    "retention_raw, retention, retention_history = get_retention(\n",
    "    profiles_no_organic,visits,observation_date,analysis_horizon, dimensions=['device']\n",
    ")\n",
    "\n",
    "plot_retention(retention, retention_history, analysis_horizon, window=14)"
   ]
  },
  {
   "cell_type": "markdown",
   "metadata": {},
   "source": [
    "Пользователи PC конвертируются не так хорошо, как пользователи других устройств. Но удерживаются они лучше."
   ]
  },
  {
   "cell_type": "markdown",
   "metadata": {},
   "source": [
    "#### По регионам"
   ]
  },
  {
   "cell_type": "code",
   "execution_count": null,
   "metadata": {},
   "outputs": [],
   "source": [
    "ltv_raw, ltv, ltv_history, roi, roi_history = get_ltv(\n",
    "    profiles_no_organic, orders, observation_date, analysis_horizon, dimensions=['region']\n",
    ")\n",
    "\n",
    "plot_ltv_roi(ltv, ltv_history, roi, roi_history, analysis_horizon, window=14)"
   ]
  },
  {
   "cell_type": "markdown",
   "metadata": {},
   "source": [
    "- Самый высокий LTV — у жителей США.\n",
    "\n",
    "- Стоимость привлечения пользователей из США увеличивается, в то время как для пользователей из других стран CAC показывал негативный рост в период с конца мая до середины июня.\n",
    "\n",
    "- Реклама окупилась везде, кроме США. \n",
    "\n",
    "- Жители Великобритании временами показывают очень хорошую окупаемость (на 170-275%). Окупаемость среди клиентов из Америки стабильно падает. В самом конце рекламе в этом регионе не хватило до окупаемости примерно 50%. "
   ]
  },
  {
   "cell_type": "code",
   "execution_count": null,
   "metadata": {},
   "outputs": [],
   "source": [
    "conversion_raw, conversion, conversion_history = get_conversion(\n",
    "    profiles_no_organic, orders, observation_date, analysis_horizon, dimensions=['region']\n",
    ")\n",
    "\n",
    "plot_conversion(conversion, conversion_history, analysis_horizon, window=14)"
   ]
  },
  {
   "cell_type": "code",
   "execution_count": null,
   "metadata": {},
   "outputs": [],
   "source": [
    "retention_raw, retention, retention_history = get_retention(\n",
    "    profiles_no_organic,visits,observation_date,analysis_horizon, dimensions=['region']\n",
    ")\n",
    "\n",
    "plot_retention(retention, retention_history, analysis_horizon, window=14)"
   ]
  },
  {
   "cell_type": "markdown",
   "metadata": {},
   "source": [
    "Пользователи из США конвертируются лучше других. Но удерживаются они хуже."
   ]
  },
  {
   "cell_type": "markdown",
   "metadata": {},
   "source": [
    "#### По каналам"
   ]
  },
  {
   "cell_type": "code",
   "execution_count": null,
   "metadata": {},
   "outputs": [],
   "source": [
    "ltv_raw, ltv, ltv_history, roi, roi_history = get_ltv(\n",
    "    profiles_no_organic, orders, observation_date, analysis_horizon, dimensions=['channel']\n",
    ")\n",
    "\n",
    "plot_ltv_roi(ltv, ltv_history, roi, roi_history, analysis_horizon, window=14)"
   ]
  },
  {
   "cell_type": "markdown",
   "metadata": {},
   "source": [
    "- Стоимость привлечения пользователей для канала TipTop постоянно растет.\n",
    "\n",
    "- LTV среди пользователей, пришедших из TipTop и lambdaMediaAds, лучше, чем у остальных.\n",
    "\n",
    "- Реклама из TipTop, AdNonSense и FaceBoom не окупилась. Наилучшая окупаемость у канала YRabbit (ROI выше 250%)."
   ]
  },
  {
   "cell_type": "code",
   "execution_count": null,
   "metadata": {},
   "outputs": [],
   "source": [
    "conversion_raw, conversion, conversion_history = get_conversion(\n",
    "    profiles_no_organic, orders, observation_date, analysis_horizon, dimensions=['channel']\n",
    ")\n",
    "\n",
    "plot_conversion(conversion, conversion_history, analysis_horizon, window=14)"
   ]
  },
  {
   "cell_type": "code",
   "execution_count": null,
   "metadata": {},
   "outputs": [],
   "source": [
    "retention_raw, retention, retention_history = get_retention(\n",
    "    profiles_no_organic,visits,observation_date,analysis_horizon, dimensions=['channel']\n",
    ")\n",
    "\n",
    "plot_retention(retention, retention_history, analysis_horizon, window=14)"
   ]
  },
  {
   "cell_type": "markdown",
   "metadata": {},
   "source": [
    "Конверсия клиентов, которые перешли из AdNonSense и FaceBoom, выше, чем у других каналов. Но удерживаются они хуже. "
   ]
  },
  {
   "cell_type": "markdown",
   "metadata": {},
   "source": [
    "#### Ответы на вопросы:\n",
    "\n",
    " - В целом реклама не окупается.\n",
    " \n",
    " \n",
    " - Такие устройства, как Mac, Android и iPhone могут оказывать негативное влияние на окупаемость рекламы, т.к. стоимость привлечения пользователей для данных устройсв высока, но результат минимальный. То же самое можно сказать о клиентах из США, а также про пользователей, пришедших из канала TipTop, FaceBoom и AdNonSense.\n",
    " \n",
    " \n",
    " - Проблемы неокупаемости могут быть вызваны слишком большими тратами на рекламу в США. Можно заметить сходство роста стоимости привлечения US и TipTop. Таким образом, можно сделать вывод, что большинство клиентов из США были привлечены через этот канал. Несмотря на большое количество покупателей в данном регионе, клиенты не покупают достаточно, чтобы покрыть траты на их привлечение."
   ]
  },
  {
   "cell_type": "markdown",
   "metadata": {
    "id": "Jn9XBfZCWVwo"
   },
   "source": [
    "### Напишите выводы\n",
    "\n",
    "- Выделите причины неэффективности привлечения пользователей.\n",
    "- Сформулируйте рекомендации для отдела маркетинга."
   ]
  },
  {
   "cell_type": "markdown",
   "metadata": {
    "id": "Y8A6E79yWVwo"
   },
   "source": [
    "#### **Причины неэффективности привлечения пользователей:**\n",
    "\n",
    "Как было сказано ранее, возможной причиной неэффективности рекламной компании стали слишком большие траты на рекламу в TipTop. Можно заметить, что с увеличением трат на привлечение пользователей из США, их окупаемость стала падать.\n",
    "\n",
    "\n",
    "#### **Рекомендации для отдела маркетинга:**\n",
    "\n",
    "Канал TipTop убыточный, что довольно печально, учитывая тот факт, что больше половины средств уходит на рекламу в данном источнике. Стоит отказаться от рекламы в TipTop, AdNonSense и FaceBoom (т.к. они не окупаются) и обратить внимание на менее дорогостоящие варианты, такие источники, как YRabbit, MediaTornado, lambdaMediaAds, RocketSuperAds. "
   ]
  },
  {
   "cell_type": "code",
   "execution_count": null,
   "metadata": {},
   "outputs": [],
   "source": []
  }
 ],
 "metadata": {
  "ExecuteTimeLog": [
   {
    "duration": 445,
    "start_time": "2023-11-20T11:12:01.175Z"
   },
   {
    "duration": 1047,
    "start_time": "2023-11-20T11:12:01.978Z"
   },
   {
    "duration": 75,
    "start_time": "2023-11-20T11:12:23.386Z"
   },
   {
    "duration": 16,
    "start_time": "2023-11-20T11:14:02.913Z"
   },
   {
    "duration": 218,
    "start_time": "2023-11-20T11:14:57.904Z"
   },
   {
    "duration": 99,
    "start_time": "2023-11-20T11:15:10.626Z"
   },
   {
    "duration": 10,
    "start_time": "2023-11-20T11:15:15.296Z"
   },
   {
    "duration": 12,
    "start_time": "2023-11-20T11:15:41.754Z"
   },
   {
    "duration": 8,
    "start_time": "2023-11-20T11:15:55.179Z"
   },
   {
    "duration": 18,
    "start_time": "2023-11-20T11:16:29.492Z"
   },
   {
    "duration": 7,
    "start_time": "2023-11-20T11:16:33.983Z"
   },
   {
    "duration": 10,
    "start_time": "2023-11-20T11:16:54.310Z"
   },
   {
    "duration": 8,
    "start_time": "2023-11-20T11:17:04.874Z"
   },
   {
    "duration": 12,
    "start_time": "2023-11-20T11:17:37.463Z"
   },
   {
    "duration": 9,
    "start_time": "2023-11-20T11:17:42.163Z"
   },
   {
    "duration": 48,
    "start_time": "2023-11-20T11:18:56.421Z"
   },
   {
    "duration": 50,
    "start_time": "2023-11-20T11:19:52.105Z"
   },
   {
    "duration": 42,
    "start_time": "2023-11-20T11:20:28.063Z"
   },
   {
    "duration": 43,
    "start_time": "2023-11-20T11:21:02.888Z"
   },
   {
    "duration": 44,
    "start_time": "2023-11-20T11:21:29.894Z"
   },
   {
    "duration": 43,
    "start_time": "2023-11-20T11:21:47.879Z"
   },
   {
    "duration": 44,
    "start_time": "2023-11-20T11:22:02.722Z"
   },
   {
    "duration": 66,
    "start_time": "2023-11-20T11:22:23.088Z"
   },
   {
    "duration": 130,
    "start_time": "2023-11-20T11:22:44.205Z"
   },
   {
    "duration": 133,
    "start_time": "2023-11-20T11:22:54.107Z"
   },
   {
    "duration": 151,
    "start_time": "2023-11-20T11:25:20.126Z"
   },
   {
    "duration": 141,
    "start_time": "2023-11-20T11:27:20.570Z"
   },
   {
    "duration": 942,
    "start_time": "2023-11-20T11:29:50.844Z"
   },
   {
    "duration": 3,
    "start_time": "2023-11-20T11:45:09.369Z"
   },
   {
    "duration": 10,
    "start_time": "2023-11-20T11:45:52.580Z"
   },
   {
    "duration": 14,
    "start_time": "2023-11-20T11:46:07.639Z"
   },
   {
    "duration": 3,
    "start_time": "2023-11-20T12:10:20.573Z"
   },
   {
    "duration": 1315,
    "start_time": "2023-11-21T16:07:10.080Z"
   },
   {
    "duration": 1985,
    "start_time": "2023-11-21T16:07:11.397Z"
   },
   {
    "duration": 228,
    "start_time": "2023-11-21T16:07:13.384Z"
   },
   {
    "duration": 12,
    "start_time": "2023-11-21T16:07:13.614Z"
   },
   {
    "duration": 25,
    "start_time": "2023-11-21T16:07:13.637Z"
   },
   {
    "duration": 7,
    "start_time": "2023-11-21T16:07:13.664Z"
   },
   {
    "duration": 15,
    "start_time": "2023-11-21T16:07:13.672Z"
   },
   {
    "duration": 8,
    "start_time": "2023-11-21T16:07:13.688Z"
   },
   {
    "duration": 72,
    "start_time": "2023-11-21T16:07:13.697Z"
   },
   {
    "duration": 136,
    "start_time": "2023-11-21T16:07:13.771Z"
   },
   {
    "duration": 6,
    "start_time": "2023-11-21T16:07:13.909Z"
   },
   {
    "duration": 38,
    "start_time": "2023-11-21T16:07:13.917Z"
   },
   {
    "duration": 18,
    "start_time": "2023-11-21T16:07:13.957Z"
   },
   {
    "duration": 11,
    "start_time": "2023-11-21T16:07:13.977Z"
   },
   {
    "duration": 6,
    "start_time": "2023-11-21T16:07:13.990Z"
   },
   {
    "duration": 10,
    "start_time": "2023-11-21T16:07:13.997Z"
   },
   {
    "duration": 14,
    "start_time": "2023-11-21T16:07:14.008Z"
   },
   {
    "duration": 11,
    "start_time": "2023-11-21T16:07:14.024Z"
   },
   {
    "duration": 124,
    "start_time": "2023-11-21T16:07:14.037Z"
   },
   {
    "duration": 91,
    "start_time": "2023-11-21T16:07:41.420Z"
   },
   {
    "duration": 3,
    "start_time": "2023-11-21T16:07:44.715Z"
   },
   {
    "duration": 693,
    "start_time": "2023-11-21T16:07:44.720Z"
   },
   {
    "duration": 212,
    "start_time": "2023-11-21T16:07:45.415Z"
   },
   {
    "duration": 16,
    "start_time": "2023-11-21T16:07:45.628Z"
   },
   {
    "duration": 41,
    "start_time": "2023-11-21T16:07:45.646Z"
   },
   {
    "duration": 8,
    "start_time": "2023-11-21T16:07:45.688Z"
   },
   {
    "duration": 18,
    "start_time": "2023-11-21T16:07:45.697Z"
   },
   {
    "duration": 32,
    "start_time": "2023-11-21T16:07:45.716Z"
   },
   {
    "duration": 45,
    "start_time": "2023-11-21T16:07:45.753Z"
   },
   {
    "duration": 133,
    "start_time": "2023-11-21T16:07:45.800Z"
   },
   {
    "duration": 14,
    "start_time": "2023-11-21T16:07:45.935Z"
   },
   {
    "duration": 39,
    "start_time": "2023-11-21T16:07:45.951Z"
   },
   {
    "duration": 18,
    "start_time": "2023-11-21T16:07:45.992Z"
   },
   {
    "duration": 54,
    "start_time": "2023-11-21T16:07:46.012Z"
   },
   {
    "duration": 20,
    "start_time": "2023-11-21T16:07:46.067Z"
   },
   {
    "duration": 15,
    "start_time": "2023-11-21T16:07:46.088Z"
   },
   {
    "duration": 32,
    "start_time": "2023-11-21T16:07:46.105Z"
   },
   {
    "duration": 14,
    "start_time": "2023-11-21T16:07:46.142Z"
   },
   {
    "duration": 1992,
    "start_time": "2023-11-21T16:07:46.157Z"
   },
   {
    "duration": 21,
    "start_time": "2023-11-21T16:09:38.076Z"
   },
   {
    "duration": 13,
    "start_time": "2023-11-21T16:10:08.264Z"
   },
   {
    "duration": 3,
    "start_time": "2023-11-21T16:10:12.525Z"
   },
   {
    "duration": 713,
    "start_time": "2023-11-21T16:10:12.529Z"
   },
   {
    "duration": 200,
    "start_time": "2023-11-21T16:10:13.248Z"
   },
   {
    "duration": 13,
    "start_time": "2023-11-21T16:10:13.450Z"
   },
   {
    "duration": 44,
    "start_time": "2023-11-21T16:10:13.465Z"
   },
   {
    "duration": 12,
    "start_time": "2023-11-21T16:10:13.511Z"
   },
   {
    "duration": 20,
    "start_time": "2023-11-21T16:10:13.524Z"
   },
   {
    "duration": 12,
    "start_time": "2023-11-21T16:10:13.546Z"
   },
   {
    "duration": 57,
    "start_time": "2023-11-21T16:10:13.560Z"
   },
   {
    "duration": 138,
    "start_time": "2023-11-21T16:10:13.619Z"
   },
   {
    "duration": 6,
    "start_time": "2023-11-21T16:10:13.758Z"
   },
   {
    "duration": 7,
    "start_time": "2023-11-21T16:10:13.766Z"
   },
   {
    "duration": 9,
    "start_time": "2023-11-21T16:10:13.775Z"
   },
   {
    "duration": 17,
    "start_time": "2023-11-21T16:10:13.786Z"
   },
   {
    "duration": 28,
    "start_time": "2023-11-21T16:10:13.805Z"
   },
   {
    "duration": 17,
    "start_time": "2023-11-21T16:10:13.835Z"
   },
   {
    "duration": 19,
    "start_time": "2023-11-21T16:10:13.854Z"
   },
   {
    "duration": 10,
    "start_time": "2023-11-21T16:10:13.874Z"
   },
   {
    "duration": 435,
    "start_time": "2023-11-21T16:10:13.885Z"
   },
   {
    "duration": 3,
    "start_time": "2023-11-21T16:17:01.899Z"
   },
   {
    "duration": 688,
    "start_time": "2023-11-21T16:17:01.903Z"
   },
   {
    "duration": 183,
    "start_time": "2023-11-21T16:17:02.592Z"
   },
   {
    "duration": 9,
    "start_time": "2023-11-21T16:17:02.777Z"
   },
   {
    "duration": 77,
    "start_time": "2023-11-21T16:17:02.788Z"
   },
   {
    "duration": 7,
    "start_time": "2023-11-21T16:17:02.867Z"
   },
   {
    "duration": 20,
    "start_time": "2023-11-21T16:17:02.875Z"
   },
   {
    "duration": 9,
    "start_time": "2023-11-21T16:17:02.896Z"
   },
   {
    "duration": 44,
    "start_time": "2023-11-21T16:17:02.907Z"
   },
   {
    "duration": 129,
    "start_time": "2023-11-21T16:17:02.952Z"
   },
   {
    "duration": 7,
    "start_time": "2023-11-21T16:17:03.082Z"
   },
   {
    "duration": 33,
    "start_time": "2023-11-21T16:17:03.091Z"
   },
   {
    "duration": 47,
    "start_time": "2023-11-21T16:17:03.126Z"
   },
   {
    "duration": 15,
    "start_time": "2023-11-21T16:17:03.175Z"
   },
   {
    "duration": 25,
    "start_time": "2023-11-21T16:17:03.191Z"
   },
   {
    "duration": 20,
    "start_time": "2023-11-21T16:17:03.217Z"
   },
   {
    "duration": 19,
    "start_time": "2023-11-21T16:17:03.242Z"
   },
   {
    "duration": 25,
    "start_time": "2023-11-21T16:17:03.262Z"
   },
   {
    "duration": 452,
    "start_time": "2023-11-21T16:17:03.289Z"
   },
   {
    "duration": 3,
    "start_time": "2023-11-21T16:18:42.015Z"
   },
   {
    "duration": 662,
    "start_time": "2023-11-21T16:18:42.020Z"
   },
   {
    "duration": 184,
    "start_time": "2023-11-21T16:18:42.683Z"
   },
   {
    "duration": 8,
    "start_time": "2023-11-21T16:18:42.869Z"
   },
   {
    "duration": 23,
    "start_time": "2023-11-21T16:18:42.878Z"
   },
   {
    "duration": 7,
    "start_time": "2023-11-21T16:18:42.903Z"
   },
   {
    "duration": 31,
    "start_time": "2023-11-21T16:18:42.911Z"
   },
   {
    "duration": 10,
    "start_time": "2023-11-21T16:18:42.943Z"
   },
   {
    "duration": 49,
    "start_time": "2023-11-21T16:18:42.955Z"
   },
   {
    "duration": 134,
    "start_time": "2023-11-21T16:18:43.006Z"
   },
   {
    "duration": 7,
    "start_time": "2023-11-21T16:18:43.142Z"
   },
   {
    "duration": 9,
    "start_time": "2023-11-21T16:18:43.151Z"
   },
   {
    "duration": 7,
    "start_time": "2023-11-21T16:18:43.162Z"
   },
   {
    "duration": 9,
    "start_time": "2023-11-21T16:18:43.171Z"
   },
   {
    "duration": 5,
    "start_time": "2023-11-21T16:18:43.182Z"
   },
   {
    "duration": 8,
    "start_time": "2023-11-21T16:18:43.189Z"
   },
   {
    "duration": 13,
    "start_time": "2023-11-21T16:18:43.199Z"
   },
   {
    "duration": 10,
    "start_time": "2023-11-21T16:18:43.237Z"
   },
   {
    "duration": 453,
    "start_time": "2023-11-21T16:18:43.248Z"
   },
   {
    "duration": 3,
    "start_time": "2023-11-21T16:27:53.284Z"
   },
   {
    "duration": 640,
    "start_time": "2023-11-21T16:27:53.289Z"
   },
   {
    "duration": 182,
    "start_time": "2023-11-21T16:27:53.931Z"
   },
   {
    "duration": 9,
    "start_time": "2023-11-21T16:27:54.114Z"
   },
   {
    "duration": 26,
    "start_time": "2023-11-21T16:27:54.125Z"
   },
   {
    "duration": 8,
    "start_time": "2023-11-21T16:27:54.152Z"
   },
   {
    "duration": 21,
    "start_time": "2023-11-21T16:27:54.161Z"
   },
   {
    "duration": 9,
    "start_time": "2023-11-21T16:27:54.183Z"
   },
   {
    "duration": 57,
    "start_time": "2023-11-21T16:27:54.194Z"
   },
   {
    "duration": 126,
    "start_time": "2023-11-21T16:27:54.252Z"
   },
   {
    "duration": 6,
    "start_time": "2023-11-21T16:27:54.380Z"
   },
   {
    "duration": 17,
    "start_time": "2023-11-21T16:27:54.388Z"
   },
   {
    "duration": 7,
    "start_time": "2023-11-21T16:27:54.407Z"
   },
   {
    "duration": 22,
    "start_time": "2023-11-21T16:27:54.416Z"
   },
   {
    "duration": 9,
    "start_time": "2023-11-21T16:27:54.439Z"
   },
   {
    "duration": 8,
    "start_time": "2023-11-21T16:27:54.450Z"
   },
   {
    "duration": 6,
    "start_time": "2023-11-21T16:27:54.459Z"
   },
   {
    "duration": 10,
    "start_time": "2023-11-21T16:27:54.467Z"
   },
   {
    "duration": 427,
    "start_time": "2023-11-21T16:27:54.478Z"
   },
   {
    "duration": 3,
    "start_time": "2023-11-21T16:29:29.638Z"
   },
   {
    "duration": 648,
    "start_time": "2023-11-21T16:29:29.642Z"
   },
   {
    "duration": 204,
    "start_time": "2023-11-21T16:29:30.291Z"
   },
   {
    "duration": 9,
    "start_time": "2023-11-21T16:29:30.497Z"
   },
   {
    "duration": 46,
    "start_time": "2023-11-21T16:29:30.507Z"
   },
   {
    "duration": 32,
    "start_time": "2023-11-21T16:29:30.554Z"
   },
   {
    "duration": 47,
    "start_time": "2023-11-21T16:29:30.588Z"
   },
   {
    "duration": 46,
    "start_time": "2023-11-21T16:29:30.636Z"
   },
   {
    "duration": 74,
    "start_time": "2023-11-21T16:29:30.684Z"
   },
   {
    "duration": 159,
    "start_time": "2023-11-21T16:29:30.760Z"
   },
   {
    "duration": 6,
    "start_time": "2023-11-21T16:29:30.920Z"
   },
   {
    "duration": 29,
    "start_time": "2023-11-21T16:29:30.937Z"
   },
   {
    "duration": 32,
    "start_time": "2023-11-21T16:29:30.969Z"
   },
   {
    "duration": 31,
    "start_time": "2023-11-21T16:29:31.003Z"
   },
   {
    "duration": 61,
    "start_time": "2023-11-21T16:29:31.035Z"
   },
   {
    "duration": 43,
    "start_time": "2023-11-21T16:29:31.097Z"
   },
   {
    "duration": 73,
    "start_time": "2023-11-21T16:29:31.142Z"
   },
   {
    "duration": 29,
    "start_time": "2023-11-21T16:29:31.217Z"
   },
   {
    "duration": 434,
    "start_time": "2023-11-21T16:29:31.247Z"
   },
   {
    "duration": 3,
    "start_time": "2023-11-21T16:29:50.790Z"
   },
   {
    "duration": 669,
    "start_time": "2023-11-21T16:29:50.794Z"
   },
   {
    "duration": 194,
    "start_time": "2023-11-21T16:29:51.464Z"
   },
   {
    "duration": 10,
    "start_time": "2023-11-21T16:29:51.659Z"
   },
   {
    "duration": 42,
    "start_time": "2023-11-21T16:29:51.670Z"
   },
   {
    "duration": 24,
    "start_time": "2023-11-21T16:29:51.714Z"
   },
   {
    "duration": 29,
    "start_time": "2023-11-21T16:29:51.740Z"
   },
   {
    "duration": 24,
    "start_time": "2023-11-21T16:29:51.771Z"
   },
   {
    "duration": 61,
    "start_time": "2023-11-21T16:29:51.798Z"
   },
   {
    "duration": 119,
    "start_time": "2023-11-21T16:29:51.860Z"
   },
   {
    "duration": 7,
    "start_time": "2023-11-21T16:29:51.981Z"
   },
   {
    "duration": 27,
    "start_time": "2023-11-21T16:29:51.989Z"
   },
   {
    "duration": 30,
    "start_time": "2023-11-21T16:29:52.018Z"
   },
   {
    "duration": 30,
    "start_time": "2023-11-21T16:29:52.049Z"
   },
   {
    "duration": 29,
    "start_time": "2023-11-21T16:29:52.080Z"
   },
   {
    "duration": 19,
    "start_time": "2023-11-21T16:29:52.111Z"
   },
   {
    "duration": 31,
    "start_time": "2023-11-21T16:29:52.131Z"
   },
   {
    "duration": 33,
    "start_time": "2023-11-21T16:29:52.164Z"
   },
   {
    "duration": 461,
    "start_time": "2023-11-21T16:29:52.199Z"
   },
   {
    "duration": 3,
    "start_time": "2023-11-21T16:30:05.957Z"
   },
   {
    "duration": 634,
    "start_time": "2023-11-21T16:30:05.961Z"
   },
   {
    "duration": 189,
    "start_time": "2023-11-21T16:30:06.597Z"
   },
   {
    "duration": 9,
    "start_time": "2023-11-21T16:30:06.788Z"
   },
   {
    "duration": 25,
    "start_time": "2023-11-21T16:30:06.799Z"
   },
   {
    "duration": 15,
    "start_time": "2023-11-21T16:30:06.825Z"
   },
   {
    "duration": 22,
    "start_time": "2023-11-21T16:30:06.842Z"
   },
   {
    "duration": 9,
    "start_time": "2023-11-21T16:30:06.865Z"
   },
   {
    "duration": 62,
    "start_time": "2023-11-21T16:30:06.876Z"
   },
   {
    "duration": 122,
    "start_time": "2023-11-21T16:30:06.940Z"
   },
   {
    "duration": 6,
    "start_time": "2023-11-21T16:30:07.063Z"
   },
   {
    "duration": 44,
    "start_time": "2023-11-21T16:30:07.070Z"
   },
   {
    "duration": 13,
    "start_time": "2023-11-21T16:30:07.115Z"
   },
   {
    "duration": 11,
    "start_time": "2023-11-21T16:30:07.129Z"
   },
   {
    "duration": 7,
    "start_time": "2023-11-21T16:30:07.141Z"
   },
   {
    "duration": 9,
    "start_time": "2023-11-21T16:30:07.150Z"
   },
   {
    "duration": 8,
    "start_time": "2023-11-21T16:30:07.160Z"
   },
   {
    "duration": 12,
    "start_time": "2023-11-21T16:30:07.170Z"
   },
   {
    "duration": 439,
    "start_time": "2023-11-21T16:30:07.183Z"
   },
   {
    "duration": 21,
    "start_time": "2023-11-21T16:31:41.854Z"
   },
   {
    "duration": 21,
    "start_time": "2023-11-21T16:31:55.030Z"
   },
   {
    "duration": 1335,
    "start_time": "2023-11-22T01:21:25.128Z"
   },
   {
    "duration": 925,
    "start_time": "2023-11-22T01:21:26.465Z"
   },
   {
    "duration": 217,
    "start_time": "2023-11-22T01:21:27.391Z"
   },
   {
    "duration": 14,
    "start_time": "2023-11-22T01:21:27.609Z"
   },
   {
    "duration": 19,
    "start_time": "2023-11-22T01:21:27.624Z"
   },
   {
    "duration": 7,
    "start_time": "2023-11-22T01:21:27.645Z"
   },
   {
    "duration": 18,
    "start_time": "2023-11-22T01:21:27.654Z"
   },
   {
    "duration": 11,
    "start_time": "2023-11-22T01:21:27.673Z"
   },
   {
    "duration": 65,
    "start_time": "2023-11-22T01:21:27.685Z"
   },
   {
    "duration": 127,
    "start_time": "2023-11-22T01:21:27.752Z"
   },
   {
    "duration": 6,
    "start_time": "2023-11-22T01:21:27.881Z"
   },
   {
    "duration": 8,
    "start_time": "2023-11-22T01:21:27.888Z"
   },
   {
    "duration": 21,
    "start_time": "2023-11-22T01:21:27.898Z"
   },
   {
    "duration": 9,
    "start_time": "2023-11-22T01:21:27.921Z"
   },
   {
    "duration": 7,
    "start_time": "2023-11-22T01:21:27.932Z"
   },
   {
    "duration": 9,
    "start_time": "2023-11-22T01:21:27.941Z"
   },
   {
    "duration": 7,
    "start_time": "2023-11-22T01:21:27.952Z"
   },
   {
    "duration": 15,
    "start_time": "2023-11-22T01:21:27.961Z"
   },
   {
    "duration": 485,
    "start_time": "2023-11-22T01:21:27.977Z"
   },
   {
    "duration": 21,
    "start_time": "2023-11-22T01:21:28.464Z"
   },
   {
    "duration": 110,
    "start_time": "2023-11-22T01:21:28.486Z"
   },
   {
    "duration": 183,
    "start_time": "2023-11-22T01:21:40.242Z"
   },
   {
    "duration": 10,
    "start_time": "2023-11-22T01:28:46.912Z"
   },
   {
    "duration": 37,
    "start_time": "2023-11-22T01:29:01.584Z"
   },
   {
    "duration": 1457,
    "start_time": "2023-11-22T01:30:37.093Z"
   },
   {
    "duration": 18,
    "start_time": "2023-11-22T01:31:00.608Z"
   },
   {
    "duration": 1529,
    "start_time": "2023-11-22T01:31:19.112Z"
   },
   {
    "duration": 31,
    "start_time": "2023-11-22T01:32:28.509Z"
   },
   {
    "duration": 32,
    "start_time": "2023-11-22T01:33:13.491Z"
   },
   {
    "duration": 33,
    "start_time": "2023-11-22T01:33:51.134Z"
   },
   {
    "duration": 49,
    "start_time": "2023-11-22T01:39:19.210Z"
   },
   {
    "duration": 42,
    "start_time": "2023-11-22T01:39:49.820Z"
   },
   {
    "duration": 3,
    "start_time": "2023-11-22T01:40:02.933Z"
   },
   {
    "duration": 51,
    "start_time": "2023-11-22T01:45:13.767Z"
   },
   {
    "duration": 51,
    "start_time": "2023-11-22T01:46:10.897Z"
   },
   {
    "duration": 51,
    "start_time": "2023-11-22T01:46:15.468Z"
   },
   {
    "duration": 39,
    "start_time": "2023-11-22T01:47:14.492Z"
   },
   {
    "duration": 54,
    "start_time": "2023-11-22T01:48:14.671Z"
   },
   {
    "duration": 51,
    "start_time": "2023-11-22T01:48:26.411Z"
   },
   {
    "duration": 40,
    "start_time": "2023-11-22T01:48:58.942Z"
   },
   {
    "duration": 39,
    "start_time": "2023-11-22T01:49:19.249Z"
   },
   {
    "duration": 40,
    "start_time": "2023-11-22T01:51:29.722Z"
   },
   {
    "duration": 40,
    "start_time": "2023-11-22T01:51:33.936Z"
   },
   {
    "duration": 40,
    "start_time": "2023-11-22T01:52:25.409Z"
   },
   {
    "duration": 55,
    "start_time": "2023-11-22T01:53:49.910Z"
   },
   {
    "duration": 38,
    "start_time": "2023-11-22T01:54:03.813Z"
   },
   {
    "duration": 36,
    "start_time": "2023-11-22T02:13:47.507Z"
   },
   {
    "duration": 37,
    "start_time": "2023-11-22T02:14:40.073Z"
   },
   {
    "duration": 53,
    "start_time": "2023-11-22T02:14:45.757Z"
   },
   {
    "duration": 39,
    "start_time": "2023-11-22T02:15:43.463Z"
   },
   {
    "duration": 8,
    "start_time": "2023-11-22T02:23:21.507Z"
   },
   {
    "duration": 13,
    "start_time": "2023-11-22T02:23:40.346Z"
   },
   {
    "duration": 4,
    "start_time": "2023-11-22T02:23:47.582Z"
   },
   {
    "duration": 12,
    "start_time": "2023-11-22T02:25:30.312Z"
   },
   {
    "duration": 11,
    "start_time": "2023-11-22T02:36:02.299Z"
   },
   {
    "duration": 132,
    "start_time": "2023-11-22T02:54:34.320Z"
   },
   {
    "duration": 123,
    "start_time": "2023-11-22T02:56:29.678Z"
   },
   {
    "duration": 121,
    "start_time": "2023-11-22T02:56:52.191Z"
   },
   {
    "duration": 124,
    "start_time": "2023-11-22T02:57:05.912Z"
   },
   {
    "duration": 121,
    "start_time": "2023-11-22T03:06:48.626Z"
   },
   {
    "duration": 124,
    "start_time": "2023-11-22T03:06:56.344Z"
   },
   {
    "duration": 132,
    "start_time": "2023-11-22T03:07:04.480Z"
   },
   {
    "duration": 186,
    "start_time": "2023-11-22T03:07:22.782Z"
   },
   {
    "duration": 136,
    "start_time": "2023-11-22T03:07:51.878Z"
   },
   {
    "duration": 49,
    "start_time": "2023-11-22T08:39:45.013Z"
   },
   {
    "duration": 1315,
    "start_time": "2023-11-22T08:39:49.647Z"
   },
   {
    "duration": 2022,
    "start_time": "2023-11-22T08:39:50.964Z"
   },
   {
    "duration": 212,
    "start_time": "2023-11-22T08:39:52.988Z"
   },
   {
    "duration": 15,
    "start_time": "2023-11-22T08:39:53.202Z"
   },
   {
    "duration": 25,
    "start_time": "2023-11-22T08:39:53.218Z"
   },
   {
    "duration": 27,
    "start_time": "2023-11-22T08:39:53.245Z"
   },
   {
    "duration": 48,
    "start_time": "2023-11-22T08:39:53.273Z"
   },
   {
    "duration": 27,
    "start_time": "2023-11-22T08:39:53.322Z"
   },
   {
    "duration": 57,
    "start_time": "2023-11-22T08:39:53.351Z"
   },
   {
    "duration": 135,
    "start_time": "2023-11-22T08:39:53.410Z"
   },
   {
    "duration": 6,
    "start_time": "2023-11-22T08:39:53.546Z"
   },
   {
    "duration": 41,
    "start_time": "2023-11-22T08:39:53.553Z"
   },
   {
    "duration": 31,
    "start_time": "2023-11-22T08:39:53.596Z"
   },
   {
    "duration": 24,
    "start_time": "2023-11-22T08:39:53.628Z"
   },
   {
    "duration": 19,
    "start_time": "2023-11-22T08:39:53.653Z"
   },
   {
    "duration": 12,
    "start_time": "2023-11-22T08:39:53.674Z"
   },
   {
    "duration": 33,
    "start_time": "2023-11-22T08:39:53.687Z"
   },
   {
    "duration": 26,
    "start_time": "2023-11-22T08:39:53.721Z"
   },
   {
    "duration": 450,
    "start_time": "2023-11-22T08:39:53.748Z"
   },
   {
    "duration": 21,
    "start_time": "2023-11-22T08:39:54.200Z"
   },
   {
    "duration": 71,
    "start_time": "2023-11-22T08:39:54.224Z"
   },
   {
    "duration": 59,
    "start_time": "2023-11-22T08:39:54.297Z"
   },
   {
    "duration": 39,
    "start_time": "2023-11-22T08:39:54.357Z"
   },
   {
    "duration": 10,
    "start_time": "2023-11-22T08:39:54.397Z"
   },
   {
    "duration": 191,
    "start_time": "2023-11-22T08:39:54.408Z"
   },
   {
    "duration": 104,
    "start_time": "2023-11-22T08:45:24.466Z"
   },
   {
    "duration": 114,
    "start_time": "2023-11-22T08:56:33.111Z"
   },
   {
    "duration": 254,
    "start_time": "2023-11-22T08:57:07.140Z"
   },
   {
    "duration": 704,
    "start_time": "2023-11-22T09:37:57.024Z"
   },
   {
    "duration": 409,
    "start_time": "2023-11-22T09:47:49.312Z"
   },
   {
    "duration": 408,
    "start_time": "2023-11-22T09:48:11.493Z"
   },
   {
    "duration": 410,
    "start_time": "2023-11-22T09:57:12.737Z"
   },
   {
    "duration": 254,
    "start_time": "2023-11-22T09:57:24.140Z"
   },
   {
    "duration": 246,
    "start_time": "2023-11-22T09:57:30.191Z"
   },
   {
    "duration": 248,
    "start_time": "2023-11-22T09:57:32.904Z"
   },
   {
    "duration": 406,
    "start_time": "2023-11-22T09:59:01.426Z"
   },
   {
    "duration": 505,
    "start_time": "2023-11-22T09:59:34.090Z"
   },
   {
    "duration": 404,
    "start_time": "2023-11-22T09:59:44.626Z"
   },
   {
    "duration": 450,
    "start_time": "2023-11-22T10:00:04.922Z"
   },
   {
    "duration": 446,
    "start_time": "2023-11-22T10:01:02.934Z"
   },
   {
    "duration": 364,
    "start_time": "2023-11-22T10:14:59.184Z"
   },
   {
    "duration": 372,
    "start_time": "2023-11-22T10:23:54.662Z"
   },
   {
    "duration": 1228,
    "start_time": "2023-11-23T18:07:58.944Z"
   },
   {
    "duration": 891,
    "start_time": "2023-11-23T18:08:00.174Z"
   },
   {
    "duration": 203,
    "start_time": "2023-11-23T18:08:01.066Z"
   },
   {
    "duration": 15,
    "start_time": "2023-11-23T18:08:01.271Z"
   },
   {
    "duration": 39,
    "start_time": "2023-11-23T18:08:01.287Z"
   },
   {
    "duration": 27,
    "start_time": "2023-11-23T18:08:01.328Z"
   },
   {
    "duration": 32,
    "start_time": "2023-11-23T18:08:01.357Z"
   },
   {
    "duration": 0,
    "start_time": "2023-11-23T18:08:03.910Z"
   },
   {
    "duration": 0,
    "start_time": "2023-11-23T18:08:03.911Z"
   },
   {
    "duration": 0,
    "start_time": "2023-11-23T18:08:03.911Z"
   },
   {
    "duration": 0,
    "start_time": "2023-11-23T18:08:03.912Z"
   },
   {
    "duration": 0,
    "start_time": "2023-11-23T18:08:03.913Z"
   },
   {
    "duration": 0,
    "start_time": "2023-11-23T18:08:03.914Z"
   },
   {
    "duration": 0,
    "start_time": "2023-11-23T18:08:03.915Z"
   },
   {
    "duration": 0,
    "start_time": "2023-11-23T18:08:03.916Z"
   },
   {
    "duration": 0,
    "start_time": "2023-11-23T18:08:03.916Z"
   },
   {
    "duration": 0,
    "start_time": "2023-11-23T18:08:03.917Z"
   },
   {
    "duration": 0,
    "start_time": "2023-11-23T18:08:03.918Z"
   },
   {
    "duration": 0,
    "start_time": "2023-11-23T18:08:03.919Z"
   },
   {
    "duration": 0,
    "start_time": "2023-11-23T18:08:03.920Z"
   },
   {
    "duration": 0,
    "start_time": "2023-11-23T18:08:03.920Z"
   },
   {
    "duration": 0,
    "start_time": "2023-11-23T18:08:03.921Z"
   },
   {
    "duration": 0,
    "start_time": "2023-11-23T18:08:03.922Z"
   },
   {
    "duration": 0,
    "start_time": "2023-11-23T18:08:03.923Z"
   },
   {
    "duration": 0,
    "start_time": "2023-11-23T18:08:03.924Z"
   },
   {
    "duration": 0,
    "start_time": "2023-11-23T18:08:03.924Z"
   },
   {
    "duration": 0,
    "start_time": "2023-11-23T18:08:03.925Z"
   },
   {
    "duration": 0,
    "start_time": "2023-11-23T18:08:03.926Z"
   },
   {
    "duration": 0,
    "start_time": "2023-11-23T18:08:03.927Z"
   },
   {
    "duration": 0,
    "start_time": "2023-11-23T18:08:03.928Z"
   },
   {
    "duration": 0,
    "start_time": "2023-11-23T18:08:03.929Z"
   },
   {
    "duration": 0,
    "start_time": "2023-11-23T18:08:03.930Z"
   },
   {
    "duration": 0,
    "start_time": "2023-11-23T18:08:03.930Z"
   },
   {
    "duration": 0,
    "start_time": "2023-11-23T18:08:03.931Z"
   },
   {
    "duration": 2,
    "start_time": "2023-11-23T18:08:23.738Z"
   },
   {
    "duration": 596,
    "start_time": "2023-11-23T18:08:23.742Z"
   },
   {
    "duration": 176,
    "start_time": "2023-11-23T18:08:24.340Z"
   },
   {
    "duration": 9,
    "start_time": "2023-11-23T18:08:24.517Z"
   },
   {
    "duration": 42,
    "start_time": "2023-11-23T18:08:24.527Z"
   },
   {
    "duration": 20,
    "start_time": "2023-11-23T18:08:24.570Z"
   },
   {
    "duration": 28,
    "start_time": "2023-11-23T18:08:24.591Z"
   },
   {
    "duration": 27,
    "start_time": "2023-11-23T18:08:24.621Z"
   },
   {
    "duration": 59,
    "start_time": "2023-11-23T18:08:24.651Z"
   },
   {
    "duration": 138,
    "start_time": "2023-11-23T18:08:24.712Z"
   },
   {
    "duration": 5,
    "start_time": "2023-11-23T18:08:24.852Z"
   },
   {
    "duration": 42,
    "start_time": "2023-11-23T18:08:24.858Z"
   },
   {
    "duration": 23,
    "start_time": "2023-11-23T18:08:24.902Z"
   },
   {
    "duration": 50,
    "start_time": "2023-11-23T18:08:24.926Z"
   },
   {
    "duration": 12,
    "start_time": "2023-11-23T18:08:24.978Z"
   },
   {
    "duration": 18,
    "start_time": "2023-11-23T18:08:24.991Z"
   },
   {
    "duration": 57,
    "start_time": "2023-11-23T18:08:25.010Z"
   },
   {
    "duration": 31,
    "start_time": "2023-11-23T18:08:25.068Z"
   },
   {
    "duration": 401,
    "start_time": "2023-11-23T18:08:25.100Z"
   },
   {
    "duration": 20,
    "start_time": "2023-11-23T18:08:25.503Z"
   },
   {
    "duration": 58,
    "start_time": "2023-11-23T18:08:25.524Z"
   },
   {
    "duration": 39,
    "start_time": "2023-11-23T18:08:25.584Z"
   },
   {
    "duration": 39,
    "start_time": "2023-11-23T18:08:25.624Z"
   },
   {
    "duration": 11,
    "start_time": "2023-11-23T18:08:25.681Z"
   },
   {
    "duration": 508,
    "start_time": "2023-11-23T18:08:25.693Z"
   },
   {
    "duration": 366,
    "start_time": "2023-11-23T18:08:26.202Z"
   },
   {
    "duration": 376,
    "start_time": "2023-11-23T18:08:26.569Z"
   },
   {
    "duration": 1297,
    "start_time": "2023-11-23T18:08:39.113Z"
   },
   {
    "duration": 614,
    "start_time": "2023-11-23T18:11:16.140Z"
   },
   {
    "duration": 630,
    "start_time": "2023-11-23T18:12:12.816Z"
   },
   {
    "duration": 1061,
    "start_time": "2023-11-23T18:13:55.819Z"
   },
   {
    "duration": 1345,
    "start_time": "2023-11-25T04:43:26.209Z"
   },
   {
    "duration": 930,
    "start_time": "2023-11-25T04:43:27.556Z"
   },
   {
    "duration": 211,
    "start_time": "2023-11-25T04:43:28.488Z"
   },
   {
    "duration": 13,
    "start_time": "2023-11-25T04:43:28.700Z"
   },
   {
    "duration": 28,
    "start_time": "2023-11-25T04:43:28.714Z"
   },
   {
    "duration": 7,
    "start_time": "2023-11-25T04:43:28.744Z"
   },
   {
    "duration": 18,
    "start_time": "2023-11-25T04:43:28.752Z"
   },
   {
    "duration": 28,
    "start_time": "2023-11-25T04:43:28.771Z"
   },
   {
    "duration": 56,
    "start_time": "2023-11-25T04:43:28.800Z"
   },
   {
    "duration": 123,
    "start_time": "2023-11-25T04:43:28.858Z"
   },
   {
    "duration": 6,
    "start_time": "2023-11-25T04:43:28.983Z"
   },
   {
    "duration": 15,
    "start_time": "2023-11-25T04:43:28.990Z"
   },
   {
    "duration": 28,
    "start_time": "2023-11-25T04:43:29.007Z"
   },
   {
    "duration": 23,
    "start_time": "2023-11-25T04:43:29.037Z"
   },
   {
    "duration": 20,
    "start_time": "2023-11-25T04:43:29.062Z"
   },
   {
    "duration": 23,
    "start_time": "2023-11-25T04:43:29.083Z"
   },
   {
    "duration": 30,
    "start_time": "2023-11-25T04:43:29.107Z"
   },
   {
    "duration": 26,
    "start_time": "2023-11-25T04:43:29.138Z"
   },
   {
    "duration": 435,
    "start_time": "2023-11-25T04:43:29.165Z"
   },
   {
    "duration": 21,
    "start_time": "2023-11-25T04:43:29.601Z"
   },
   {
    "duration": 56,
    "start_time": "2023-11-25T04:43:29.623Z"
   },
   {
    "duration": 35,
    "start_time": "2023-11-25T04:43:29.680Z"
   },
   {
    "duration": 57,
    "start_time": "2023-11-25T04:43:29.716Z"
   },
   {
    "duration": 11,
    "start_time": "2023-11-25T04:43:29.775Z"
   },
   {
    "duration": 510,
    "start_time": "2023-11-25T04:43:29.788Z"
   },
   {
    "duration": 418,
    "start_time": "2023-11-25T04:43:30.300Z"
   },
   {
    "duration": 1440,
    "start_time": "2023-11-25T04:43:30.719Z"
   },
   {
    "duration": 667,
    "start_time": "2023-11-25T04:43:32.162Z"
   },
   {
    "duration": 1155,
    "start_time": "2023-11-25T04:43:32.831Z"
   },
   {
    "duration": 1641,
    "start_time": "2023-11-25T04:43:33.988Z"
   },
   {
    "duration": 1712,
    "start_time": "2023-11-25T04:43:53.995Z"
   },
   {
    "duration": 1693,
    "start_time": "2023-11-25T04:44:03.220Z"
   },
   {
    "duration": 1723,
    "start_time": "2023-11-25T04:44:28.160Z"
   },
   {
    "duration": 2088,
    "start_time": "2023-11-25T04:44:48.496Z"
   },
   {
    "duration": 22,
    "start_time": "2023-11-25T04:48:02.236Z"
   },
   {
    "duration": 23,
    "start_time": "2023-11-25T04:48:12.836Z"
   },
   {
    "duration": 20,
    "start_time": "2023-11-25T04:48:23.599Z"
   },
   {
    "duration": 30,
    "start_time": "2023-11-25T04:48:29.013Z"
   },
   {
    "duration": 21,
    "start_time": "2023-11-25T04:48:42.411Z"
   },
   {
    "duration": 6,
    "start_time": "2023-11-25T04:48:50.336Z"
   },
   {
    "duration": 4,
    "start_time": "2023-11-25T04:48:55.650Z"
   },
   {
    "duration": 22,
    "start_time": "2023-11-25T04:53:49.718Z"
   },
   {
    "duration": 4,
    "start_time": "2023-11-25T04:57:47.166Z"
   },
   {
    "duration": 8,
    "start_time": "2023-11-25T04:58:45.356Z"
   },
   {
    "duration": 10,
    "start_time": "2023-11-25T04:59:21.120Z"
   },
   {
    "duration": 11,
    "start_time": "2023-11-25T04:59:43.195Z"
   },
   {
    "duration": 12,
    "start_time": "2023-11-25T04:59:56.695Z"
   },
   {
    "duration": 568,
    "start_time": "2023-11-25T05:04:54.988Z"
   },
   {
    "duration": 499,
    "start_time": "2023-11-25T05:05:11.000Z"
   },
   {
    "duration": 471,
    "start_time": "2023-11-25T05:05:20.750Z"
   },
   {
    "duration": 474,
    "start_time": "2023-11-25T05:06:33.314Z"
   },
   {
    "duration": 45,
    "start_time": "2023-11-25T05:18:19.139Z"
   },
   {
    "duration": 43,
    "start_time": "2023-11-25T05:25:08.164Z"
   },
   {
    "duration": 117,
    "start_time": "2023-11-25T08:20:16.487Z"
   },
   {
    "duration": 4,
    "start_time": "2023-11-25T08:22:23.199Z"
   },
   {
    "duration": 631,
    "start_time": "2023-11-25T08:22:23.205Z"
   },
   {
    "duration": 186,
    "start_time": "2023-11-25T08:22:23.838Z"
   },
   {
    "duration": 8,
    "start_time": "2023-11-25T08:22:24.026Z"
   },
   {
    "duration": 31,
    "start_time": "2023-11-25T08:22:24.036Z"
   },
   {
    "duration": 16,
    "start_time": "2023-11-25T08:22:24.069Z"
   },
   {
    "duration": 37,
    "start_time": "2023-11-25T08:22:24.086Z"
   },
   {
    "duration": 17,
    "start_time": "2023-11-25T08:22:24.124Z"
   },
   {
    "duration": 72,
    "start_time": "2023-11-25T08:22:24.144Z"
   },
   {
    "duration": 148,
    "start_time": "2023-11-25T08:22:24.218Z"
   },
   {
    "duration": 6,
    "start_time": "2023-11-25T08:22:24.367Z"
   },
   {
    "duration": 40,
    "start_time": "2023-11-25T08:22:24.375Z"
   },
   {
    "duration": 37,
    "start_time": "2023-11-25T08:22:24.416Z"
   },
   {
    "duration": 49,
    "start_time": "2023-11-25T08:22:24.454Z"
   },
   {
    "duration": 31,
    "start_time": "2023-11-25T08:22:24.505Z"
   },
   {
    "duration": 34,
    "start_time": "2023-11-25T08:22:24.538Z"
   },
   {
    "duration": 18,
    "start_time": "2023-11-25T08:22:24.574Z"
   },
   {
    "duration": 14,
    "start_time": "2023-11-25T08:22:24.593Z"
   },
   {
    "duration": 438,
    "start_time": "2023-11-25T08:22:24.608Z"
   },
   {
    "duration": 20,
    "start_time": "2023-11-25T08:22:25.048Z"
   },
   {
    "duration": 45,
    "start_time": "2023-11-25T08:22:25.070Z"
   },
   {
    "duration": 64,
    "start_time": "2023-11-25T08:22:25.117Z"
   },
   {
    "duration": 36,
    "start_time": "2023-11-25T08:22:25.183Z"
   },
   {
    "duration": 4,
    "start_time": "2023-11-25T08:22:25.222Z"
   },
   {
    "duration": 21,
    "start_time": "2023-11-25T08:22:25.228Z"
   },
   {
    "duration": 479,
    "start_time": "2023-11-25T08:22:25.250Z"
   },
   {
    "duration": 372,
    "start_time": "2023-11-25T08:22:25.730Z"
   },
   {
    "duration": 24,
    "start_time": "2023-11-25T08:22:26.103Z"
   },
   {
    "duration": 0,
    "start_time": "2023-11-25T08:22:26.129Z"
   },
   {
    "duration": 0,
    "start_time": "2023-11-25T08:22:26.130Z"
   },
   {
    "duration": 0,
    "start_time": "2023-11-25T08:22:26.142Z"
   },
   {
    "duration": 0,
    "start_time": "2023-11-25T08:22:26.143Z"
   },
   {
    "duration": 0,
    "start_time": "2023-11-25T08:22:26.144Z"
   },
   {
    "duration": 1325,
    "start_time": "2023-11-25T08:22:51.155Z"
   },
   {
    "duration": 603,
    "start_time": "2023-11-25T08:23:05.421Z"
   },
   {
    "duration": 1076,
    "start_time": "2023-11-25T08:23:12.919Z"
   },
   {
    "duration": 599,
    "start_time": "2023-11-25T08:31:55.618Z"
   },
   {
    "duration": 567,
    "start_time": "2023-11-25T08:34:56.309Z"
   },
   {
    "duration": 1171,
    "start_time": "2023-11-25T10:18:55.138Z"
   },
   {
    "duration": 1647,
    "start_time": "2023-11-25T10:22:45.285Z"
   },
   {
    "duration": 1735,
    "start_time": "2023-11-25T10:23:13.026Z"
   },
   {
    "duration": 1829,
    "start_time": "2023-11-25T10:56:01.715Z"
   },
   {
    "duration": 1630,
    "start_time": "2023-11-25T10:56:14.094Z"
   },
   {
    "duration": 2187,
    "start_time": "2023-11-25T10:56:20.541Z"
   },
   {
    "duration": 2139,
    "start_time": "2023-11-25T12:03:19.948Z"
   },
   {
    "duration": 1255,
    "start_time": "2023-11-25T13:44:44.118Z"
   },
   {
    "duration": 1556,
    "start_time": "2023-11-25T15:00:16.341Z"
   },
   {
    "duration": 3,
    "start_time": "2023-11-25T15:00:20.617Z"
   },
   {
    "duration": 654,
    "start_time": "2023-11-25T15:00:20.622Z"
   },
   {
    "duration": 188,
    "start_time": "2023-11-25T15:00:21.278Z"
   },
   {
    "duration": 10,
    "start_time": "2023-11-25T15:00:21.468Z"
   },
   {
    "duration": 19,
    "start_time": "2023-11-25T15:00:21.480Z"
   },
   {
    "duration": 7,
    "start_time": "2023-11-25T15:00:21.500Z"
   },
   {
    "duration": 38,
    "start_time": "2023-11-25T15:00:21.508Z"
   },
   {
    "duration": 23,
    "start_time": "2023-11-25T15:00:21.547Z"
   },
   {
    "duration": 72,
    "start_time": "2023-11-25T15:00:21.571Z"
   },
   {
    "duration": 145,
    "start_time": "2023-11-25T15:00:21.645Z"
   },
   {
    "duration": 9,
    "start_time": "2023-11-25T15:00:21.793Z"
   },
   {
    "duration": 9,
    "start_time": "2023-11-25T15:00:21.804Z"
   },
   {
    "duration": 8,
    "start_time": "2023-11-25T15:00:21.814Z"
   },
   {
    "duration": 22,
    "start_time": "2023-11-25T15:00:21.825Z"
   },
   {
    "duration": 5,
    "start_time": "2023-11-25T15:00:21.848Z"
   },
   {
    "duration": 8,
    "start_time": "2023-11-25T15:00:21.855Z"
   },
   {
    "duration": 7,
    "start_time": "2023-11-25T15:00:21.864Z"
   },
   {
    "duration": 10,
    "start_time": "2023-11-25T15:00:21.873Z"
   },
   {
    "duration": 463,
    "start_time": "2023-11-25T15:00:21.884Z"
   },
   {
    "duration": 24,
    "start_time": "2023-11-25T15:00:22.348Z"
   },
   {
    "duration": 83,
    "start_time": "2023-11-25T15:00:22.374Z"
   },
   {
    "duration": 38,
    "start_time": "2023-11-25T15:00:22.459Z"
   },
   {
    "duration": 65,
    "start_time": "2023-11-25T15:00:22.499Z"
   },
   {
    "duration": 4,
    "start_time": "2023-11-25T15:00:22.566Z"
   },
   {
    "duration": 25,
    "start_time": "2023-11-25T15:00:22.572Z"
   },
   {
    "duration": 511,
    "start_time": "2023-11-25T15:00:22.599Z"
   },
   {
    "duration": 392,
    "start_time": "2023-11-25T15:00:23.112Z"
   },
   {
    "duration": 1437,
    "start_time": "2023-11-25T15:00:23.506Z"
   },
   {
    "duration": 598,
    "start_time": "2023-11-25T15:00:24.945Z"
   },
   {
    "duration": 1055,
    "start_time": "2023-11-25T15:00:25.545Z"
   },
   {
    "duration": 1762,
    "start_time": "2023-11-25T15:00:26.602Z"
   },
   {
    "duration": 1774,
    "start_time": "2023-11-25T15:00:28.366Z"
   },
   {
    "duration": 2359,
    "start_time": "2023-11-25T15:00:30.142Z"
   },
   {
    "duration": 3,
    "start_time": "2023-11-25T15:28:24.735Z"
   },
   {
    "duration": 617,
    "start_time": "2023-11-25T15:28:24.740Z"
   },
   {
    "duration": 174,
    "start_time": "2023-11-25T15:28:25.358Z"
   },
   {
    "duration": 14,
    "start_time": "2023-11-25T15:28:25.533Z"
   },
   {
    "duration": 20,
    "start_time": "2023-11-25T15:28:25.549Z"
   },
   {
    "duration": 8,
    "start_time": "2023-11-25T15:28:25.570Z"
   },
   {
    "duration": 13,
    "start_time": "2023-11-25T15:28:25.579Z"
   },
   {
    "duration": 8,
    "start_time": "2023-11-25T15:28:25.593Z"
   },
   {
    "duration": 78,
    "start_time": "2023-11-25T15:28:25.603Z"
   },
   {
    "duration": 140,
    "start_time": "2023-11-25T15:28:25.682Z"
   },
   {
    "duration": 7,
    "start_time": "2023-11-25T15:28:25.824Z"
   },
   {
    "duration": 12,
    "start_time": "2023-11-25T15:28:25.832Z"
   },
   {
    "duration": 11,
    "start_time": "2023-11-25T15:28:25.846Z"
   },
   {
    "duration": 10,
    "start_time": "2023-11-25T15:28:25.860Z"
   },
   {
    "duration": 6,
    "start_time": "2023-11-25T15:28:25.872Z"
   },
   {
    "duration": 15,
    "start_time": "2023-11-25T15:28:25.879Z"
   },
   {
    "duration": 7,
    "start_time": "2023-11-25T15:28:25.896Z"
   },
   {
    "duration": 45,
    "start_time": "2023-11-25T15:28:25.905Z"
   },
   {
    "duration": 448,
    "start_time": "2023-11-25T15:28:25.952Z"
   },
   {
    "duration": 21,
    "start_time": "2023-11-25T15:28:26.402Z"
   },
   {
    "duration": 61,
    "start_time": "2023-11-25T15:28:26.424Z"
   },
   {
    "duration": 55,
    "start_time": "2023-11-25T15:28:26.487Z"
   },
   {
    "duration": 39,
    "start_time": "2023-11-25T15:28:26.544Z"
   },
   {
    "duration": 4,
    "start_time": "2023-11-25T15:28:26.584Z"
   },
   {
    "duration": 14,
    "start_time": "2023-11-25T15:28:26.589Z"
   },
   {
    "duration": 509,
    "start_time": "2023-11-25T15:28:26.604Z"
   },
   {
    "duration": 375,
    "start_time": "2023-11-25T15:28:27.114Z"
   },
   {
    "duration": 1204,
    "start_time": "2023-11-25T15:28:27.490Z"
   },
   {
    "duration": 634,
    "start_time": "2023-11-25T15:28:28.695Z"
   },
   {
    "duration": 1178,
    "start_time": "2023-11-25T15:28:29.330Z"
   },
   {
    "duration": 1648,
    "start_time": "2023-11-25T15:28:30.509Z"
   },
   {
    "duration": 1685,
    "start_time": "2023-11-25T15:28:32.158Z"
   },
   {
    "duration": 2043,
    "start_time": "2023-11-25T15:28:33.845Z"
   },
   {
    "duration": 1049,
    "start_time": "2023-11-25T15:28:35.889Z"
   },
   {
    "duration": 758,
    "start_time": "2023-11-25T15:28:36.939Z"
   },
   {
    "duration": 729,
    "start_time": "2023-11-25T15:28:37.699Z"
   },
   {
    "duration": 1569,
    "start_time": "2023-11-25T15:28:38.429Z"
   },
   {
    "duration": 1375,
    "start_time": "2023-11-25T15:28:39.999Z"
   },
   {
    "duration": 1261,
    "start_time": "2023-11-25T15:28:41.376Z"
   },
   {
    "duration": 1301,
    "start_time": "2023-11-25T15:31:34.059Z"
   },
   {
    "duration": 1226,
    "start_time": "2023-11-25T15:31:46.169Z"
   },
   {
    "duration": 1271,
    "start_time": "2023-11-25T15:31:58.080Z"
   },
   {
    "duration": 1378,
    "start_time": "2023-11-25T15:32:04.797Z"
   },
   {
    "duration": 1271,
    "start_time": "2023-11-25T15:32:22.785Z"
   },
   {
    "duration": 3,
    "start_time": "2023-11-25T15:50:44.355Z"
   },
   {
    "duration": 630,
    "start_time": "2023-11-25T15:50:44.360Z"
   },
   {
    "duration": 219,
    "start_time": "2023-11-25T15:50:44.992Z"
   },
   {
    "duration": 10,
    "start_time": "2023-11-25T15:50:45.213Z"
   },
   {
    "duration": 57,
    "start_time": "2023-11-25T15:50:45.225Z"
   },
   {
    "duration": 21,
    "start_time": "2023-11-25T15:50:45.283Z"
   },
   {
    "duration": 14,
    "start_time": "2023-11-25T15:50:45.306Z"
   },
   {
    "duration": 10,
    "start_time": "2023-11-25T15:50:45.321Z"
   },
   {
    "duration": 50,
    "start_time": "2023-11-25T15:50:45.332Z"
   },
   {
    "duration": 113,
    "start_time": "2023-11-25T15:50:45.385Z"
   },
   {
    "duration": 7,
    "start_time": "2023-11-25T15:50:45.499Z"
   },
   {
    "duration": 37,
    "start_time": "2023-11-25T15:50:45.507Z"
   },
   {
    "duration": 28,
    "start_time": "2023-11-25T15:50:45.546Z"
   },
   {
    "duration": 45,
    "start_time": "2023-11-25T15:50:45.576Z"
   },
   {
    "duration": 15,
    "start_time": "2023-11-25T15:50:45.623Z"
   },
   {
    "duration": 9,
    "start_time": "2023-11-25T15:50:45.639Z"
   },
   {
    "duration": 15,
    "start_time": "2023-11-25T15:50:45.649Z"
   },
   {
    "duration": 25,
    "start_time": "2023-11-25T15:50:45.665Z"
   },
   {
    "duration": 455,
    "start_time": "2023-11-25T15:50:45.692Z"
   },
   {
    "duration": 24,
    "start_time": "2023-11-25T15:50:46.148Z"
   },
   {
    "duration": 54,
    "start_time": "2023-11-25T15:50:46.173Z"
   },
   {
    "duration": 49,
    "start_time": "2023-11-25T15:50:46.228Z"
   },
   {
    "duration": 40,
    "start_time": "2023-11-25T15:50:46.279Z"
   },
   {
    "duration": 22,
    "start_time": "2023-11-25T15:50:46.321Z"
   },
   {
    "duration": 21,
    "start_time": "2023-11-25T15:50:46.345Z"
   },
   {
    "duration": 491,
    "start_time": "2023-11-25T15:50:46.368Z"
   },
   {
    "duration": 357,
    "start_time": "2023-11-25T15:50:46.861Z"
   },
   {
    "duration": 1235,
    "start_time": "2023-11-25T15:50:47.221Z"
   },
   {
    "duration": 561,
    "start_time": "2023-11-25T15:50:48.458Z"
   },
   {
    "duration": 1161,
    "start_time": "2023-11-25T15:50:49.020Z"
   },
   {
    "duration": 1657,
    "start_time": "2023-11-25T15:50:50.182Z"
   },
   {
    "duration": 731,
    "start_time": "2023-11-25T15:50:51.842Z"
   },
   {
    "duration": 1368,
    "start_time": "2023-11-25T15:50:52.574Z"
   },
   {
    "duration": 1609,
    "start_time": "2023-11-25T15:50:53.944Z"
   },
   {
    "duration": 750,
    "start_time": "2023-11-25T15:50:55.554Z"
   },
   {
    "duration": 1370,
    "start_time": "2023-11-25T15:50:56.305Z"
   },
   {
    "duration": 2099,
    "start_time": "2023-11-25T15:50:57.676Z"
   },
   {
    "duration": 1053,
    "start_time": "2023-11-25T15:50:59.776Z"
   },
   {
    "duration": 1645,
    "start_time": "2023-11-25T15:51:00.831Z"
   },
   {
    "duration": 48,
    "start_time": "2023-11-25T16:40:20.263Z"
   },
   {
    "duration": 47,
    "start_time": "2023-11-25T16:41:57.656Z"
   },
   {
    "duration": 42,
    "start_time": "2023-11-25T16:42:02.720Z"
   },
   {
    "duration": 48,
    "start_time": "2023-11-25T16:42:16.289Z"
   },
   {
    "duration": 43,
    "start_time": "2023-11-25T16:42:25.649Z"
   },
   {
    "duration": 36,
    "start_time": "2023-11-25T16:49:18.774Z"
   },
   {
    "duration": 37,
    "start_time": "2023-11-25T16:50:04.906Z"
   },
   {
    "duration": 101,
    "start_time": "2023-11-25T16:52:06.692Z"
   },
   {
    "duration": 560,
    "start_time": "2023-11-25T16:55:08.240Z"
   },
   {
    "duration": 3,
    "start_time": "2023-11-25T17:25:10.867Z"
   },
   {
    "duration": 686,
    "start_time": "2023-11-25T17:25:10.871Z"
   },
   {
    "duration": 203,
    "start_time": "2023-11-25T17:25:11.559Z"
   },
   {
    "duration": 9,
    "start_time": "2023-11-25T17:25:11.763Z"
   },
   {
    "duration": 20,
    "start_time": "2023-11-25T17:25:11.774Z"
   },
   {
    "duration": 7,
    "start_time": "2023-11-25T17:25:11.796Z"
   },
   {
    "duration": 47,
    "start_time": "2023-11-25T17:25:11.805Z"
   },
   {
    "duration": 8,
    "start_time": "2023-11-25T17:25:11.854Z"
   },
   {
    "duration": 44,
    "start_time": "2023-11-25T17:25:11.863Z"
   },
   {
    "duration": 156,
    "start_time": "2023-11-25T17:25:11.908Z"
   },
   {
    "duration": 6,
    "start_time": "2023-11-25T17:25:12.201Z"
   },
   {
    "duration": 25,
    "start_time": "2023-11-25T17:25:12.209Z"
   },
   {
    "duration": 32,
    "start_time": "2023-11-25T17:25:12.236Z"
   },
   {
    "duration": 33,
    "start_time": "2023-11-25T17:25:12.270Z"
   },
   {
    "duration": 22,
    "start_time": "2023-11-25T17:25:12.304Z"
   },
   {
    "duration": 26,
    "start_time": "2023-11-25T17:25:12.327Z"
   },
   {
    "duration": 18,
    "start_time": "2023-11-25T17:25:12.355Z"
   },
   {
    "duration": 18,
    "start_time": "2023-11-25T17:25:12.375Z"
   },
   {
    "duration": 458,
    "start_time": "2023-11-25T17:25:12.394Z"
   },
   {
    "duration": 26,
    "start_time": "2023-11-25T17:25:12.854Z"
   },
   {
    "duration": 133,
    "start_time": "2023-11-25T17:25:12.881Z"
   },
   {
    "duration": 4,
    "start_time": "2023-11-25T17:25:13.015Z"
   },
   {
    "duration": 33,
    "start_time": "2023-11-25T17:25:13.020Z"
   },
   {
    "duration": 526,
    "start_time": "2023-11-25T17:25:13.054Z"
   },
   {
    "duration": 381,
    "start_time": "2023-11-25T17:25:13.582Z"
   },
   {
    "duration": 1263,
    "start_time": "2023-11-25T17:25:13.965Z"
   },
   {
    "duration": 633,
    "start_time": "2023-11-25T17:25:15.230Z"
   },
   {
    "duration": 1058,
    "start_time": "2023-11-25T17:25:15.866Z"
   },
   {
    "duration": 1853,
    "start_time": "2023-11-25T17:25:16.928Z"
   },
   {
    "duration": 729,
    "start_time": "2023-11-25T17:25:18.782Z"
   },
   {
    "duration": 1299,
    "start_time": "2023-11-25T17:25:19.512Z"
   },
   {
    "duration": 1758,
    "start_time": "2023-11-25T17:25:20.813Z"
   },
   {
    "duration": 760,
    "start_time": "2023-11-25T17:25:22.573Z"
   },
   {
    "duration": 1337,
    "start_time": "2023-11-25T17:25:23.335Z"
   },
   {
    "duration": 2406,
    "start_time": "2023-11-25T17:25:24.673Z"
   },
   {
    "duration": 1004,
    "start_time": "2023-11-25T17:25:27.081Z"
   },
   {
    "duration": 1641,
    "start_time": "2023-11-25T17:25:28.086Z"
   },
   {
    "duration": 89,
    "start_time": "2023-11-25T17:31:00.792Z"
   }
  ],
  "colab": {
   "provenance": []
  },
  "kernelspec": {
   "display_name": "Python 3 (ipykernel)",
   "language": "python",
   "name": "python3"
  },
  "language_info": {
   "codemirror_mode": {
    "name": "ipython",
    "version": 3
   },
   "file_extension": ".py",
   "mimetype": "text/x-python",
   "name": "python",
   "nbconvert_exporter": "python",
   "pygments_lexer": "ipython3",
   "version": "3.10.9"
  },
  "toc": {
   "base_numbering": 1,
   "nav_menu": {},
   "number_sections": true,
   "sideBar": true,
   "skip_h1_title": true,
   "title_cell": "Table of Contents",
   "title_sidebar": "Contents",
   "toc_cell": false,
   "toc_position": {
    "height": "calc(100% - 180px)",
    "left": "10px",
    "top": "150px",
    "width": "384.391px"
   },
   "toc_section_display": true,
   "toc_window_display": true
  }
 },
 "nbformat": 4,
 "nbformat_minor": 1
}
