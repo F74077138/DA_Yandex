{
 "cells": [
  {
   "cell_type": "markdown",
   "id": "52ed33e2",
   "metadata": {},
   "source": [
    "# Статистический анализ данных\n",
    "\n",
    "*Выполнила Дабаева Ирина 26.02.2024*\n",
    "\n",
    "**Задача:** Проанализировать данные и проверить гипотезы, которые могут помочь бизнесу вырасти.\n",
    "\n",
    "**Описание данных:**\n",
    "\n",
    "В основных данных есть информация о пользователях, их поездках и подписках.\n",
    "\n",
    "- **Пользователи — users_go.csv**\n",
    "\n",
    "    user_id\t- уникальный идентификатор пользователя\n",
    "    \n",
    "    name - имя пользователя\n",
    "    \n",
    "    age - возраст\n",
    "    \n",
    "    city - город\n",
    "    \n",
    "    subscription_type - тип подписки (free, ultra)\n",
    "    \n",
    "    \n",
    "- **Поездки — rides_go.csv**\n",
    "\n",
    "    user_id - уникальный идентификатор пользователя\n",
    "    \n",
    "    distance - расстояние, которое пользователь проехал в текущей сессии (в метрах)\n",
    "    \n",
    "    duration - продолжительность сессии (в минутах) — время с того момента, как пользователь нажал кнопку «Начать поездку» до момента, как он нажал кнопку «Завершить поездку»\n",
    "    \n",
    "    date - дата совершения поездки\n",
    "\n",
    "\n",
    "- **Подписки — subscriptions_go.csv**\n",
    "\n",
    "    subscription_type - тип подписки\n",
    "    \n",
    "    minute_price - стоимость одной минуты поездки по данной подписке\n",
    "    \n",
    "    start_ride_price - стоимость начала поездки\n",
    "    \n",
    "    subscription_fee - стоимость ежемесячного платежа\n",
    "    \n",
    "  \n",
    "**Оглавление:**\n",
    "\n",
    "1. [Загрузка данных](#Загрузка-данных)\n",
    "2. [Предобработка данных](#Предобработка-данных)\n",
    "3. [Исследовательский анализ данных](#Исследовательский-анализ-данных)\n",
    "4. [Объединение данных](#Объединение-данных)\n",
    "5. [Подсчёт выручки](#Подсчёт-выручки)\n",
    "6. [Проверка гипотез](#Проверка-гипотез)"
   ]
  },
  {
   "cell_type": "code",
   "execution_count": 3,
   "id": "72576667",
   "metadata": {},
   "outputs": [],
   "source": [
    "import pandas as pd\n",
    "import numpy as np\n",
    "from datetime import datetime\n",
    "import seaborn as sns\n",
    "import matplotlib.pyplot as plt\n",
    "import plotly.express as px\n",
    "from plotly import graph_objects as go\n",
    "from scipy import stats as st\n",
    "from scipy.stats import binom\n",
    "from scipy.stats import iqr"
   ]
  },
  {
   "cell_type": "markdown",
   "id": "c42cbe00",
   "metadata": {},
   "source": [
    "### Загрузка данных"
   ]
  },
  {
   "cell_type": "code",
   "execution_count": 4,
   "id": "eff9f206",
   "metadata": {},
   "outputs": [],
   "source": [
    "users = pd.read_csv('datasets/users_go.csv')\n",
    "riders = pd.read_csv('datasets/rides_go.csv')\n",
    "subscriptions = pd.read_csv('datasets/subscriptions_go.csv')"
   ]
  },
  {
   "cell_type": "code",
   "execution_count": 5,
   "id": "82ec7324",
   "metadata": {},
   "outputs": [
    {
     "data": {
      "text/html": [
       "<div>\n",
       "<style scoped>\n",
       "    .dataframe tbody tr th:only-of-type {\n",
       "        vertical-align: middle;\n",
       "    }\n",
       "\n",
       "    .dataframe tbody tr th {\n",
       "        vertical-align: top;\n",
       "    }\n",
       "\n",
       "    .dataframe thead th {\n",
       "        text-align: right;\n",
       "    }\n",
       "</style>\n",
       "<table border=\"1\" class=\"dataframe\">\n",
       "  <thead>\n",
       "    <tr style=\"text-align: right;\">\n",
       "      <th></th>\n",
       "      <th>user_id</th>\n",
       "      <th>name</th>\n",
       "      <th>age</th>\n",
       "      <th>city</th>\n",
       "      <th>subscription_type</th>\n",
       "    </tr>\n",
       "  </thead>\n",
       "  <tbody>\n",
       "    <tr>\n",
       "      <th>0</th>\n",
       "      <td>1</td>\n",
       "      <td>Кира</td>\n",
       "      <td>22</td>\n",
       "      <td>Тюмень</td>\n",
       "      <td>ultra</td>\n",
       "    </tr>\n",
       "    <tr>\n",
       "      <th>1</th>\n",
       "      <td>2</td>\n",
       "      <td>Станислав</td>\n",
       "      <td>31</td>\n",
       "      <td>Омск</td>\n",
       "      <td>ultra</td>\n",
       "    </tr>\n",
       "    <tr>\n",
       "      <th>2</th>\n",
       "      <td>3</td>\n",
       "      <td>Алексей</td>\n",
       "      <td>20</td>\n",
       "      <td>Москва</td>\n",
       "      <td>ultra</td>\n",
       "    </tr>\n",
       "    <tr>\n",
       "      <th>3</th>\n",
       "      <td>4</td>\n",
       "      <td>Константин</td>\n",
       "      <td>26</td>\n",
       "      <td>Ростов-на-Дону</td>\n",
       "      <td>ultra</td>\n",
       "    </tr>\n",
       "    <tr>\n",
       "      <th>4</th>\n",
       "      <td>5</td>\n",
       "      <td>Адель</td>\n",
       "      <td>28</td>\n",
       "      <td>Омск</td>\n",
       "      <td>ultra</td>\n",
       "    </tr>\n",
       "  </tbody>\n",
       "</table>\n",
       "</div>"
      ],
      "text/plain": [
       "   user_id        name  age            city subscription_type\n",
       "0        1        Кира   22          Тюмень             ultra\n",
       "1        2   Станислав   31            Омск             ultra\n",
       "2        3     Алексей   20          Москва             ultra\n",
       "3        4  Константин   26  Ростов-на-Дону             ultra\n",
       "4        5       Адель   28            Омск             ultra"
      ]
     },
     "execution_count": 5,
     "metadata": {},
     "output_type": "execute_result"
    }
   ],
   "source": [
    "users.head()"
   ]
  },
  {
   "cell_type": "code",
   "execution_count": 6,
   "id": "d487b6f4",
   "metadata": {},
   "outputs": [
    {
     "data": {
      "text/html": [
       "<div>\n",
       "<style scoped>\n",
       "    .dataframe tbody tr th:only-of-type {\n",
       "        vertical-align: middle;\n",
       "    }\n",
       "\n",
       "    .dataframe tbody tr th {\n",
       "        vertical-align: top;\n",
       "    }\n",
       "\n",
       "    .dataframe thead th {\n",
       "        text-align: right;\n",
       "    }\n",
       "</style>\n",
       "<table border=\"1\" class=\"dataframe\">\n",
       "  <thead>\n",
       "    <tr style=\"text-align: right;\">\n",
       "      <th></th>\n",
       "      <th>user_id</th>\n",
       "      <th>distance</th>\n",
       "      <th>duration</th>\n",
       "      <th>date</th>\n",
       "    </tr>\n",
       "  </thead>\n",
       "  <tbody>\n",
       "    <tr>\n",
       "      <th>0</th>\n",
       "      <td>1</td>\n",
       "      <td>4409.919140</td>\n",
       "      <td>25.599769</td>\n",
       "      <td>2021-01-01</td>\n",
       "    </tr>\n",
       "    <tr>\n",
       "      <th>1</th>\n",
       "      <td>1</td>\n",
       "      <td>2617.592153</td>\n",
       "      <td>15.816871</td>\n",
       "      <td>2021-01-18</td>\n",
       "    </tr>\n",
       "    <tr>\n",
       "      <th>2</th>\n",
       "      <td>1</td>\n",
       "      <td>754.159807</td>\n",
       "      <td>6.232113</td>\n",
       "      <td>2021-04-20</td>\n",
       "    </tr>\n",
       "    <tr>\n",
       "      <th>3</th>\n",
       "      <td>1</td>\n",
       "      <td>2694.783254</td>\n",
       "      <td>18.511000</td>\n",
       "      <td>2021-08-11</td>\n",
       "    </tr>\n",
       "    <tr>\n",
       "      <th>4</th>\n",
       "      <td>1</td>\n",
       "      <td>4028.687306</td>\n",
       "      <td>26.265803</td>\n",
       "      <td>2021-08-28</td>\n",
       "    </tr>\n",
       "  </tbody>\n",
       "</table>\n",
       "</div>"
      ],
      "text/plain": [
       "   user_id     distance   duration        date\n",
       "0        1  4409.919140  25.599769  2021-01-01\n",
       "1        1  2617.592153  15.816871  2021-01-18\n",
       "2        1   754.159807   6.232113  2021-04-20\n",
       "3        1  2694.783254  18.511000  2021-08-11\n",
       "4        1  4028.687306  26.265803  2021-08-28"
      ]
     },
     "execution_count": 6,
     "metadata": {},
     "output_type": "execute_result"
    }
   ],
   "source": [
    "riders.head()"
   ]
  },
  {
   "cell_type": "code",
   "execution_count": 7,
   "id": "4f3f1085",
   "metadata": {},
   "outputs": [
    {
     "data": {
      "text/html": [
       "<div>\n",
       "<style scoped>\n",
       "    .dataframe tbody tr th:only-of-type {\n",
       "        vertical-align: middle;\n",
       "    }\n",
       "\n",
       "    .dataframe tbody tr th {\n",
       "        vertical-align: top;\n",
       "    }\n",
       "\n",
       "    .dataframe thead th {\n",
       "        text-align: right;\n",
       "    }\n",
       "</style>\n",
       "<table border=\"1\" class=\"dataframe\">\n",
       "  <thead>\n",
       "    <tr style=\"text-align: right;\">\n",
       "      <th></th>\n",
       "      <th>subscription_type</th>\n",
       "      <th>minute_price</th>\n",
       "      <th>start_ride_price</th>\n",
       "      <th>subscription_fee</th>\n",
       "    </tr>\n",
       "  </thead>\n",
       "  <tbody>\n",
       "    <tr>\n",
       "      <th>0</th>\n",
       "      <td>free</td>\n",
       "      <td>8</td>\n",
       "      <td>50</td>\n",
       "      <td>0</td>\n",
       "    </tr>\n",
       "    <tr>\n",
       "      <th>1</th>\n",
       "      <td>ultra</td>\n",
       "      <td>6</td>\n",
       "      <td>0</td>\n",
       "      <td>199</td>\n",
       "    </tr>\n",
       "  </tbody>\n",
       "</table>\n",
       "</div>"
      ],
      "text/plain": [
       "  subscription_type  minute_price  start_ride_price  subscription_fee\n",
       "0              free             8                50                 0\n",
       "1             ultra             6                 0               199"
      ]
     },
     "execution_count": 7,
     "metadata": {},
     "output_type": "execute_result"
    }
   ],
   "source": [
    "subscriptions.head()"
   ]
  },
  {
   "cell_type": "code",
   "execution_count": 8,
   "id": "e5a47ac7",
   "metadata": {},
   "outputs": [
    {
     "name": "stdout",
     "output_type": "stream",
     "text": [
      "<class 'pandas.core.frame.DataFrame'>\n",
      "RangeIndex: 1565 entries, 0 to 1564\n",
      "Data columns (total 5 columns):\n",
      " #   Column             Non-Null Count  Dtype \n",
      "---  ------             --------------  ----- \n",
      " 0   user_id            1565 non-null   int64 \n",
      " 1   name               1565 non-null   object\n",
      " 2   age                1565 non-null   int64 \n",
      " 3   city               1565 non-null   object\n",
      " 4   subscription_type  1565 non-null   object\n",
      "dtypes: int64(2), object(3)\n",
      "memory usage: 61.3+ KB\n",
      "\n",
      "\n",
      "<class 'pandas.core.frame.DataFrame'>\n",
      "RangeIndex: 18068 entries, 0 to 18067\n",
      "Data columns (total 4 columns):\n",
      " #   Column    Non-Null Count  Dtype  \n",
      "---  ------    --------------  -----  \n",
      " 0   user_id   18068 non-null  int64  \n",
      " 1   distance  18068 non-null  float64\n",
      " 2   duration  18068 non-null  float64\n",
      " 3   date      18068 non-null  object \n",
      "dtypes: float64(2), int64(1), object(1)\n",
      "memory usage: 564.8+ KB\n",
      "\n",
      "\n",
      "<class 'pandas.core.frame.DataFrame'>\n",
      "RangeIndex: 2 entries, 0 to 1\n",
      "Data columns (total 4 columns):\n",
      " #   Column             Non-Null Count  Dtype \n",
      "---  ------             --------------  ----- \n",
      " 0   subscription_type  2 non-null      object\n",
      " 1   minute_price       2 non-null      int64 \n",
      " 2   start_ride_price   2 non-null      int64 \n",
      " 3   subscription_fee   2 non-null      int64 \n",
      "dtypes: int64(3), object(1)\n",
      "memory usage: 192.0+ bytes\n",
      "\n",
      "\n"
     ]
    }
   ],
   "source": [
    "for i in [users, riders, subscriptions]:\n",
    "    i.info()\n",
    "    print('\\n')"
   ]
  },
  {
   "cell_type": "markdown",
   "id": "e95ebca7",
   "metadata": {},
   "source": [
    "### Предобработка данных"
   ]
  },
  {
   "cell_type": "markdown",
   "id": "67c7205f",
   "metadata": {},
   "source": [
    "Преобразуем столбец date к типу даты pandas. Также создадим новый столбец с номером месяца на основе столбца date. Проверим наличие пропущенных значений и удалим дубликаты в датафреймах. "
   ]
  },
  {
   "cell_type": "code",
   "execution_count": 9,
   "id": "75046e56",
   "metadata": {},
   "outputs": [
    {
     "name": "stdout",
     "output_type": "stream",
     "text": [
      "один год\n"
     ]
    },
    {
     "data": {
      "text/html": [
       "<div>\n",
       "<style scoped>\n",
       "    .dataframe tbody tr th:only-of-type {\n",
       "        vertical-align: middle;\n",
       "    }\n",
       "\n",
       "    .dataframe tbody tr th {\n",
       "        vertical-align: top;\n",
       "    }\n",
       "\n",
       "    .dataframe thead th {\n",
       "        text-align: right;\n",
       "    }\n",
       "</style>\n",
       "<table border=\"1\" class=\"dataframe\">\n",
       "  <thead>\n",
       "    <tr style=\"text-align: right;\">\n",
       "      <th></th>\n",
       "      <th>user_id</th>\n",
       "      <th>distance</th>\n",
       "      <th>duration</th>\n",
       "      <th>date</th>\n",
       "      <th>month</th>\n",
       "    </tr>\n",
       "  </thead>\n",
       "  <tbody>\n",
       "    <tr>\n",
       "      <th>0</th>\n",
       "      <td>1</td>\n",
       "      <td>4409.919140</td>\n",
       "      <td>25.599769</td>\n",
       "      <td>2021-01-01</td>\n",
       "      <td>1</td>\n",
       "    </tr>\n",
       "    <tr>\n",
       "      <th>1</th>\n",
       "      <td>1</td>\n",
       "      <td>2617.592153</td>\n",
       "      <td>15.816871</td>\n",
       "      <td>2021-01-18</td>\n",
       "      <td>1</td>\n",
       "    </tr>\n",
       "    <tr>\n",
       "      <th>2</th>\n",
       "      <td>1</td>\n",
       "      <td>754.159807</td>\n",
       "      <td>6.232113</td>\n",
       "      <td>2021-04-20</td>\n",
       "      <td>4</td>\n",
       "    </tr>\n",
       "    <tr>\n",
       "      <th>3</th>\n",
       "      <td>1</td>\n",
       "      <td>2694.783254</td>\n",
       "      <td>18.511000</td>\n",
       "      <td>2021-08-11</td>\n",
       "      <td>8</td>\n",
       "    </tr>\n",
       "    <tr>\n",
       "      <th>4</th>\n",
       "      <td>1</td>\n",
       "      <td>4028.687306</td>\n",
       "      <td>26.265803</td>\n",
       "      <td>2021-08-28</td>\n",
       "      <td>8</td>\n",
       "    </tr>\n",
       "  </tbody>\n",
       "</table>\n",
       "</div>"
      ],
      "text/plain": [
       "   user_id     distance   duration       date  month\n",
       "0        1  4409.919140  25.599769 2021-01-01      1\n",
       "1        1  2617.592153  15.816871 2021-01-18      1\n",
       "2        1   754.159807   6.232113 2021-04-20      4\n",
       "3        1  2694.783254  18.511000 2021-08-11      8\n",
       "4        1  4028.687306  26.265803 2021-08-28      8"
      ]
     },
     "execution_count": 9,
     "metadata": {},
     "output_type": "execute_result"
    }
   ],
   "source": [
    "# convert 'date' to datetime type\n",
    "riders['date'] = pd.to_datetime(riders['date'], format='%Y-%m-%d')\n",
    "# extract month \n",
    "riders['month'] = riders['date'].dt.month\n",
    "year = riders['date'].dt.year\n",
    "print('один год') if min(year) == max(year) else print('разные года')\n",
    "riders.head()"
   ]
  },
  {
   "cell_type": "code",
   "execution_count": 10,
   "id": "8b512c88",
   "metadata": {},
   "outputs": [
    {
     "name": "stdout",
     "output_type": "stream",
     "text": [
      "user_id              False\n",
      "name                 False\n",
      "age                  False\n",
      "city                 False\n",
      "subscription_type    False\n",
      "dtype: bool\n",
      "# of duplicates 0 \n",
      "\n",
      "user_id     False\n",
      "distance    False\n",
      "duration    False\n",
      "date        False\n",
      "month       False\n",
      "dtype: bool\n",
      "# of duplicates 0 \n",
      "\n",
      "subscription_type    False\n",
      "minute_price         False\n",
      "start_ride_price     False\n",
      "subscription_fee     False\n",
      "dtype: bool\n",
      "# of duplicates 0 \n",
      "\n"
     ]
    }
   ],
   "source": [
    "users = users.drop_duplicates()\n",
    "riders = riders.drop_duplicates()\n",
    "subscriptions = subscriptions.drop_duplicates()\n",
    "\n",
    "for i in [users, riders, subscriptions]:\n",
    "    print(i.isna().any())\n",
    "    print('# of duplicates', len(i[i.duplicated()]), '\\n')"
   ]
  },
  {
   "cell_type": "code",
   "execution_count": 11,
   "id": "7171e4de",
   "metadata": {},
   "outputs": [
    {
     "name": "stdout",
     "output_type": "stream",
     "text": [
      "duration > 0\n"
     ]
    }
   ],
   "source": [
    "riders['distance'] = round(riders['distance'], 2)\n",
    "print('негативный duration') if any(riders['duration'] < 0) else print('duration > 0')"
   ]
  },
  {
   "cell_type": "markdown",
   "id": "af44b407",
   "metadata": {},
   "source": [
    "- В датасете представленны данные только за 2021 год;\n",
    "\n",
    "- Аномалии в столбце rides['duration'] отсутствуют;\n",
    "\n",
    "- Пропущенные значения не обнаружены."
   ]
  },
  {
   "cell_type": "markdown",
   "id": "212593c7",
   "metadata": {},
   "source": [
    "### Исследовательский анализ данных"
   ]
  },
  {
   "cell_type": "markdown",
   "id": "9b9922b0",
   "metadata": {},
   "source": [
    "#### "
   ]
  },
  {
   "cell_type": "code",
   "execution_count": 12,
   "id": "d3612fd4",
   "metadata": {},
   "outputs": [
    {
     "data": {
      "image/png": "[encoded data removed]",
      "text/plain": [
       "<Figure size 1000x500 with 1 Axes>"
      ]
     },
     "metadata": {},
     "output_type": "display_data"
    }
   ],
   "source": [
    "users_by_city = pd.pivot_table(users, values='user_id', index='city', aggfunc='count').reset_index().sort_values(by='user_id', ascending=False)\n",
    "\n",
    "sns.set_style(\"darkgrid\")\n",
    "custom_palette = sns.color_palette(\"mako\", 8)\n",
    "sns.set_palette(custom_palette)\n",
    "\n",
    "plt.figure(figsize=(10, 5))\n",
    "\n",
    "sns.barplot(x='city', \n",
    "            y='user_id', \n",
    "            data=users_by_city\n",
    ")\n",
    "\n",
    "plt.title('График количества пользователей по городам')\n",
    "plt.xlabel('Город')\n",
    "plt.ylabel('Число пользователей')\n",
    "plt.xticks(rotation=45)\n",
    "plt.show()"
   ]
  },
  {
   "cell_type": "code",
   "execution_count": 13,
   "id": "1b807bbf",
   "metadata": {},
   "outputs": [
    {
     "data": {
      "text/html": [
       "<div>\n",
       "<style scoped>\n",
       "    .dataframe tbody tr th:only-of-type {\n",
       "        vertical-align: middle;\n",
       "    }\n",
       "\n",
       "    .dataframe tbody tr th {\n",
       "        vertical-align: top;\n",
       "    }\n",
       "\n",
       "    .dataframe thead th {\n",
       "        text-align: right;\n",
       "    }\n",
       "</style>\n",
       "<table border=\"1\" class=\"dataframe\">\n",
       "  <thead>\n",
       "    <tr style=\"text-align: right;\">\n",
       "      <th></th>\n",
       "      <th>city</th>\n",
       "      <th>user_id</th>\n",
       "      <th>proportion</th>\n",
       "    </tr>\n",
       "  </thead>\n",
       "  <tbody>\n",
       "    <tr>\n",
       "      <th>4</th>\n",
       "      <td>Пятигорск</td>\n",
       "      <td>219</td>\n",
       "      <td>0.142764</td>\n",
       "    </tr>\n",
       "    <tr>\n",
       "      <th>0</th>\n",
       "      <td>Екатеринбург</td>\n",
       "      <td>204</td>\n",
       "      <td>0.132986</td>\n",
       "    </tr>\n",
       "    <tr>\n",
       "      <th>5</th>\n",
       "      <td>Ростов-на-Дону</td>\n",
       "      <td>198</td>\n",
       "      <td>0.129074</td>\n",
       "    </tr>\n",
       "    <tr>\n",
       "      <th>1</th>\n",
       "      <td>Краснодар</td>\n",
       "      <td>193</td>\n",
       "      <td>0.125815</td>\n",
       "    </tr>\n",
       "    <tr>\n",
       "      <th>6</th>\n",
       "      <td>Сочи</td>\n",
       "      <td>189</td>\n",
       "      <td>0.123207</td>\n",
       "    </tr>\n",
       "    <tr>\n",
       "      <th>3</th>\n",
       "      <td>Омск</td>\n",
       "      <td>183</td>\n",
       "      <td>0.119296</td>\n",
       "    </tr>\n",
       "    <tr>\n",
       "      <th>7</th>\n",
       "      <td>Тюмень</td>\n",
       "      <td>180</td>\n",
       "      <td>0.117340</td>\n",
       "    </tr>\n",
       "    <tr>\n",
       "      <th>2</th>\n",
       "      <td>Москва</td>\n",
       "      <td>168</td>\n",
       "      <td>0.109518</td>\n",
       "    </tr>\n",
       "  </tbody>\n",
       "</table>\n",
       "</div>"
      ],
      "text/plain": [
       "             city  user_id  proportion\n",
       "4       Пятигорск      219    0.142764\n",
       "0    Екатеринбург      204    0.132986\n",
       "5  Ростов-на-Дону      198    0.129074\n",
       "1       Краснодар      193    0.125815\n",
       "6            Сочи      189    0.123207\n",
       "3            Омск      183    0.119296\n",
       "7          Тюмень      180    0.117340\n",
       "2          Москва      168    0.109518"
      ]
     },
     "execution_count": 13,
     "metadata": {},
     "output_type": "execute_result"
    }
   ],
   "source": [
    "users_by_city['proportion'] = users_by_city['user_id'] / sum(users_by_city['user_id'])\n",
    "users_by_city"
   ]
  },
  {
   "cell_type": "markdown",
   "id": "699c9fa1",
   "metadata": {},
   "source": [
    "Как можно было заметить, больше всего пользователей из Пятигорска (219) и Екатеринбурга (204)."
   ]
  },
  {
   "cell_type": "markdown",
   "id": "eeb2d207",
   "metadata": {},
   "source": [
    "#### "
   ]
  },
  {
   "cell_type": "code",
   "execution_count": 14,
   "id": "477249bd",
   "metadata": {},
   "outputs": [
    {
     "data": {
      "image/png": "[encoded data removed]",
      "text/plain": [
       "<Figure size 800x800 with 1 Axes>"
      ]
     },
     "metadata": {},
     "output_type": "display_data"
    }
   ],
   "source": [
    "values_city = users[\"subscription_type\"].value_counts()\n",
    "\n",
    "plt.figure(figsize=(8,8))\n",
    " \n",
    "plt.pie(\n",
    "    x=values_city, \n",
    "    labels=values_city.index,\n",
    "    colors=['mediumaquamarine', 'slategray'],\n",
    "    autopct='%1.2f%%',\n",
    "    textprops={'fontsize':14}\n",
    ")\n",
    "\n",
    "plt.title(\n",
    "    label=\"Соотношение пользователей с подпиской и без подписки\", \n",
    "    fontdict={\"fontsize\":16},\n",
    "    pad=20\n",
    ")\n",
    " \n",
    "plt.show()"
   ]
  },
  {
   "cell_type": "markdown",
   "id": "0886e138",
   "metadata": {},
   "source": [
    "Процент пользователей с подпиской почти на 9% меньше, чем пользователей без."
   ]
  },
  {
   "cell_type": "code",
   "execution_count": 15,
   "id": "7f81da3f",
   "metadata": {},
   "outputs": [
    {
     "data": {
      "image/png": "[encoded data removed]",
      "text/plain": [
       "<Figure size 1200x700 with 1 Axes>"
      ]
     },
     "metadata": {},
     "output_type": "display_data"
    }
   ],
   "source": [
    "plt.figure(figsize=(12, 7))\n",
    "\n",
    "sns.histplot(data=users, x='age')\n",
    "plt.axvline(x = users['age'].mean(), color = \"red\", linewidth=1.5) \n",
    "plt.axvline(x = users['age'].median(), color = \"red\", ls='dashed', linewidth=1.5) \n",
    "\n",
    "plt.title('График распределения пользователей по возрастам')\n",
    "plt.xlabel('Возраст')\n",
    "plt.ylabel('Частота появления')\n",
    "plt.show()"
   ]
  },
  {
   "cell_type": "code",
   "execution_count": 16,
   "id": "06d08d04",
   "metadata": {},
   "outputs": [
    {
     "data": {
      "image/png": "[encoded data removed]",
      "text/plain": [
       "<Figure size 1500x800 with 1 Axes>"
      ]
     },
     "metadata": {},
     "output_type": "display_data"
    }
   ],
   "source": [
    "fig, ax = plt.subplots()\n",
    "fig.set_figheight(8)\n",
    "fig.set_figwidth(15)\n",
    "\n",
    "ax = sns.boxplot(x='city', y='age', data=users)\n",
    "\n",
    "plt.title('Возраст пользователей по городам')\n",
    "plt.xlabel('Город')\n",
    "plt.ylabel('Возраст пользователей')\n",
    "plt.xticks(rotation=45)\n",
    "plt.show()"
   ]
  },
  {
   "cell_type": "code",
   "execution_count": 17,
   "id": "9f8280c5",
   "metadata": {},
   "outputs": [
    {
     "data": {
      "text/plain": [
       "count    1534.000000\n",
       "mean       24.903520\n",
       "std         4.572367\n",
       "min        12.000000\n",
       "25%        22.000000\n",
       "50%        25.000000\n",
       "75%        28.000000\n",
       "max        43.000000\n",
       "Name: age, dtype: float64"
      ]
     },
     "execution_count": 17,
     "metadata": {},
     "output_type": "execute_result"
    }
   ],
   "source": [
    "users['age'].describe()"
   ]
  },
  {
   "cell_type": "markdown",
   "id": "5c017fc8",
   "metadata": {},
   "source": [
    "Распределение пользователей по возрастам следует нормальному распределению, где среднее и медиана в районе 25. Минимальный возраст 12, а максимальный 43. Кроме того, в Омске медиана выше, чем в других городах."
   ]
  },
  {
   "cell_type": "markdown",
   "id": "392a9451",
   "metadata": {},
   "source": [
    "#### "
   ]
  },
  {
   "cell_type": "code",
   "execution_count": 18,
   "id": "ff8503cc",
   "metadata": {},
   "outputs": [
    {
     "name": "stderr",
     "output_type": "stream",
     "text": [
      "C:\\Users\\Dell\\AppData\\Local\\Temp\\ipykernel_11336\\4213354216.py:5: UserWarning: Ignoring `palette` because no `hue` variable has been assigned.\n",
      "  sns.displot(\n"
     ]
    },
    {
     "data": {
      "text/plain": [
       "<Figure size 1200x700 with 0 Axes>"
      ]
     },
     "metadata": {},
     "output_type": "display_data"
    },
    {
     "data": {
      "image/png": "[encoded data removed]",
      "text/plain": [
       "<Figure size 750x500 with 1 Axes>"
      ]
     },
     "metadata": {},
     "output_type": "display_data"
    }
   ],
   "source": [
    "def set_plot(x_, x_lbl, ttl):\n",
    "    \n",
    "    plt.figure(figsize=(12, 7))\n",
    "\n",
    "    sns.displot(\n",
    "        data=riders, \n",
    "        x=x_, \n",
    "        kind='kde',\n",
    "        palette=sns.color_palette('Paired',8), \n",
    "        aspect=1.5, legend=False\n",
    "    )\n",
    "    plt.axvline(x = riders[x_].mean(), color = \"red\", linewidth=1.5) \n",
    "    plt.axvline(x = riders[x_].median(), color = \"red\", ls='dashed', linewidth=1.5) \n",
    "\n",
    "    plt.title(ttl)\n",
    "    plt.xlabel(x_lbl)\n",
    "    plt.ylabel('')\n",
    "    plt.show()\n",
    "\n",
    "set_plot('distance', 'Расстояние', 'Распределение дистанции, которое пользователь преодолел за одну поездку')"
   ]
  },
  {
   "cell_type": "markdown",
   "id": "cfd882bb",
   "metadata": {},
   "source": [
    "В среднем пользователи проезжают в районе 3000 метров. От 1500 до 3000 метров можно заметить значительный рост. Также присутствует небольшой рост до ~800 метров."
   ]
  },
  {
   "cell_type": "code",
   "execution_count": 19,
   "id": "f7e4db52",
   "metadata": {},
   "outputs": [
    {
     "name": "stderr",
     "output_type": "stream",
     "text": [
      "C:\\Users\\Dell\\AppData\\Local\\Temp\\ipykernel_11336\\4213354216.py:5: UserWarning: Ignoring `palette` because no `hue` variable has been assigned.\n",
      "  sns.displot(\n"
     ]
    },
    {
     "data": {
      "text/plain": [
       "<Figure size 1200x700 with 0 Axes>"
      ]
     },
     "metadata": {},
     "output_type": "display_data"
    },
    {
     "data": {
      "image/png": "[encoded data removed]",
      "text/plain": [
       "<Figure size 750x500 with 1 Axes>"
      ]
     },
     "metadata": {},
     "output_type": "display_data"
    }
   ],
   "source": [
    "set_plot('duration', 'Продолжительность', 'Распределение продолжительности поездки')"
   ]
  },
  {
   "cell_type": "markdown",
   "id": "b5eba3d1",
   "metadata": {},
   "source": [
    "В среднем одна поездка длится примерно 18 минут."
   ]
  },
  {
   "cell_type": "markdown",
   "id": "4ef51331",
   "metadata": {},
   "source": [
    "### Объединение данных"
   ]
  },
  {
   "cell_type": "code",
   "execution_count": 20,
   "id": "ba8e7040",
   "metadata": {},
   "outputs": [
    {
     "name": "stdout",
     "output_type": "stream",
     "text": [
      "(1534, 5)\n",
      "(18068, 5)\n",
      "(2, 4)\n"
     ]
    }
   ],
   "source": [
    "print(users.shape)\n",
    "print(riders.shape)\n",
    "print(subscriptions.shape)"
   ]
  },
  {
   "cell_type": "code",
   "execution_count": 21,
   "id": "76033c1d",
   "metadata": {},
   "outputs": [
    {
     "name": "stdout",
     "output_type": "stream",
     "text": [
      "(1534, 8)\n",
      "(18068, 12)\n"
     ]
    },
    {
     "data": {
      "text/html": [
       "<div>\n",
       "<style scoped>\n",
       "    .dataframe tbody tr th:only-of-type {\n",
       "        vertical-align: middle;\n",
       "    }\n",
       "\n",
       "    .dataframe tbody tr th {\n",
       "        vertical-align: top;\n",
       "    }\n",
       "\n",
       "    .dataframe thead th {\n",
       "        text-align: right;\n",
       "    }\n",
       "</style>\n",
       "<table border=\"1\" class=\"dataframe\">\n",
       "  <thead>\n",
       "    <tr style=\"text-align: right;\">\n",
       "      <th></th>\n",
       "      <th>user_id</th>\n",
       "      <th>distance</th>\n",
       "      <th>duration</th>\n",
       "      <th>date</th>\n",
       "      <th>month</th>\n",
       "      <th>subscription_type</th>\n",
       "      <th>minute_price</th>\n",
       "      <th>start_ride_price</th>\n",
       "      <th>subscription_fee</th>\n",
       "      <th>name</th>\n",
       "      <th>age</th>\n",
       "      <th>city</th>\n",
       "    </tr>\n",
       "  </thead>\n",
       "  <tbody>\n",
       "    <tr>\n",
       "      <th>0</th>\n",
       "      <td>1</td>\n",
       "      <td>4409.92</td>\n",
       "      <td>25.599769</td>\n",
       "      <td>2021-01-01</td>\n",
       "      <td>1</td>\n",
       "      <td>ultra</td>\n",
       "      <td>6</td>\n",
       "      <td>0</td>\n",
       "      <td>199</td>\n",
       "      <td>Кира</td>\n",
       "      <td>22</td>\n",
       "      <td>Тюмень</td>\n",
       "    </tr>\n",
       "    <tr>\n",
       "      <th>1</th>\n",
       "      <td>1</td>\n",
       "      <td>2617.59</td>\n",
       "      <td>15.816871</td>\n",
       "      <td>2021-01-18</td>\n",
       "      <td>1</td>\n",
       "      <td>ultra</td>\n",
       "      <td>6</td>\n",
       "      <td>0</td>\n",
       "      <td>199</td>\n",
       "      <td>Кира</td>\n",
       "      <td>22</td>\n",
       "      <td>Тюмень</td>\n",
       "    </tr>\n",
       "    <tr>\n",
       "      <th>2</th>\n",
       "      <td>1</td>\n",
       "      <td>754.16</td>\n",
       "      <td>6.232113</td>\n",
       "      <td>2021-04-20</td>\n",
       "      <td>4</td>\n",
       "      <td>ultra</td>\n",
       "      <td>6</td>\n",
       "      <td>0</td>\n",
       "      <td>199</td>\n",
       "      <td>Кира</td>\n",
       "      <td>22</td>\n",
       "      <td>Тюмень</td>\n",
       "    </tr>\n",
       "    <tr>\n",
       "      <th>3</th>\n",
       "      <td>1</td>\n",
       "      <td>2694.78</td>\n",
       "      <td>18.511000</td>\n",
       "      <td>2021-08-11</td>\n",
       "      <td>8</td>\n",
       "      <td>ultra</td>\n",
       "      <td>6</td>\n",
       "      <td>0</td>\n",
       "      <td>199</td>\n",
       "      <td>Кира</td>\n",
       "      <td>22</td>\n",
       "      <td>Тюмень</td>\n",
       "    </tr>\n",
       "    <tr>\n",
       "      <th>4</th>\n",
       "      <td>1</td>\n",
       "      <td>4028.69</td>\n",
       "      <td>26.265803</td>\n",
       "      <td>2021-08-28</td>\n",
       "      <td>8</td>\n",
       "      <td>ultra</td>\n",
       "      <td>6</td>\n",
       "      <td>0</td>\n",
       "      <td>199</td>\n",
       "      <td>Кира</td>\n",
       "      <td>22</td>\n",
       "      <td>Тюмень</td>\n",
       "    </tr>\n",
       "  </tbody>\n",
       "</table>\n",
       "</div>"
      ],
      "text/plain": [
       "   user_id  distance   duration       date  month subscription_type  \\\n",
       "0        1   4409.92  25.599769 2021-01-01      1             ultra   \n",
       "1        1   2617.59  15.816871 2021-01-18      1             ultra   \n",
       "2        1    754.16   6.232113 2021-04-20      4             ultra   \n",
       "3        1   2694.78  18.511000 2021-08-11      8             ultra   \n",
       "4        1   4028.69  26.265803 2021-08-28      8             ultra   \n",
       "\n",
       "   minute_price  start_ride_price  subscription_fee  name  age    city  \n",
       "0             6                 0               199  Кира   22  Тюмень  \n",
       "1             6                 0               199  Кира   22  Тюмень  \n",
       "2             6                 0               199  Кира   22  Тюмень  \n",
       "3             6                 0               199  Кира   22  Тюмень  \n",
       "4             6                 0               199  Кира   22  Тюмень  "
      ]
     },
     "execution_count": 21,
     "metadata": {},
     "output_type": "execute_result"
    }
   ],
   "source": [
    "df = pd.merge(subscriptions, users, how=\"right\", on='subscription_type')\n",
    "print(df.shape)\n",
    "df = pd.merge(riders, df, how=\"left\", on='user_id')\n",
    "print(df.shape)\n",
    "df.head()"
   ]
  },
  {
   "cell_type": "code",
   "execution_count": 22,
   "id": "9c773f66",
   "metadata": {},
   "outputs": [
    {
     "name": "stdout",
     "output_type": "stream",
     "text": [
      "# строк с пропущенными значениями: 0\n"
     ]
    }
   ],
   "source": [
    "print('# строк с пропущенными значениями:', df.isnull().any(axis = 1).sum())"
   ]
  },
  {
   "cell_type": "code",
   "execution_count": 23,
   "id": "d44fabf3",
   "metadata": {},
   "outputs": [],
   "source": [
    "df_pay = df[df['subscription_type']=='ultra']\n",
    "df_no_pay = df[df['subscription_type']=='free']"
   ]
  },
  {
   "cell_type": "code",
   "execution_count": 24,
   "id": "967d8f2e",
   "metadata": {},
   "outputs": [],
   "source": [
    "def plot_(x, x_lbl, ttl):\n",
    "    fig, ax =plt.subplots()\n",
    "\n",
    "    sns.kdeplot(\n",
    "        data=df_pay, \n",
    "        x=x,\n",
    "        label='с подпиской',\n",
    "        legend=True, ax=ax,\n",
    "        color='crimson'\n",
    "    )\n",
    "\n",
    "    sns.kdeplot(\n",
    "        data=df_no_pay, \n",
    "        x=x, \n",
    "        label='без подписки',\n",
    "        legend=True, ax=ax,\n",
    "        color='blue'\n",
    "    )\n",
    "    \n",
    "    plt.axvline(x = df_pay[x].mean(), color = \"crimson\", ls='dashed', linewidth=1.5) \n",
    "    plt.axvline(x = df_no_pay[x].mean(), color = \"blue\", ls='dashed', linewidth=1.5) \n",
    "\n",
    "    ax.set_xlabel(x_lbl)\n",
    "    ax.set_ylabel('частота')\n",
    "    ax.set_title(ttl)\n",
    "    ax.legend()\n",
    "\n",
    "    fig.set_figwidth(15)\n",
    "    fig.set_figheight(8)"
   ]
  },
  {
   "cell_type": "code",
   "execution_count": 25,
   "id": "3bbf0241",
   "metadata": {},
   "outputs": [
    {
     "data": {
      "image/png": "[encoded data removed]",
      "text/plain": [
       "<Figure size 1500x800 with 1 Axes>"
      ]
     },
     "metadata": {},
     "output_type": "display_data"
    }
   ],
   "source": [
    "plot_('distance', 'расстояние поездки', 'распределение расстояния поездок')"
   ]
  },
  {
   "cell_type": "markdown",
   "id": "1981ff9f",
   "metadata": {},
   "source": [
    "- Распределение пользователей с подпиской немного уже распределения людей без подписки;\n",
    "\n",
    "- Среднее пользователей без подписки меньше."
   ]
  },
  {
   "cell_type": "code",
   "execution_count": 26,
   "id": "c2bfa551",
   "metadata": {},
   "outputs": [
    {
     "data": {
      "image/png": "[encoded data removed]",
      "text/plain": [
       "<Figure size 1500x800 with 1 Axes>"
      ]
     },
     "metadata": {},
     "output_type": "display_data"
    }
   ],
   "source": [
    "plot_('duration', 'продолжительность поездки', 'распределение продолжительности поездок')"
   ]
  },
  {
   "cell_type": "markdown",
   "id": "155d2aad",
   "metadata": {},
   "source": [
    "- Оба распределения почти идентичны;\n",
    "\n",
    "- Среднее пользователей без подписки меньше."
   ]
  },
  {
   "cell_type": "markdown",
   "id": "402d620f",
   "metadata": {},
   "source": [
    "### Подсчёт выручки"
   ]
  },
  {
   "cell_type": "code",
   "execution_count": 27,
   "id": "4e13c95e",
   "metadata": {},
   "outputs": [
    {
     "data": {
      "text/html": [
       "<div>\n",
       "<style scoped>\n",
       "    .dataframe tbody tr th:only-of-type {\n",
       "        vertical-align: middle;\n",
       "    }\n",
       "\n",
       "    .dataframe tbody tr th {\n",
       "        vertical-align: top;\n",
       "    }\n",
       "\n",
       "    .dataframe thead th {\n",
       "        text-align: right;\n",
       "    }\n",
       "</style>\n",
       "<table border=\"1\" class=\"dataframe\">\n",
       "  <thead>\n",
       "    <tr style=\"text-align: right;\">\n",
       "      <th></th>\n",
       "      <th>user_id</th>\n",
       "      <th>month</th>\n",
       "      <th>total_distance</th>\n",
       "      <th>total_duration</th>\n",
       "      <th>total_count</th>\n",
       "      <th>subscription_type</th>\n",
       "      <th>revenue</th>\n",
       "    </tr>\n",
       "  </thead>\n",
       "  <tbody>\n",
       "    <tr>\n",
       "      <th>0</th>\n",
       "      <td>1</td>\n",
       "      <td>1</td>\n",
       "      <td>7027.51</td>\n",
       "      <td>41.416640</td>\n",
       "      <td>2</td>\n",
       "      <td>ultra</td>\n",
       "      <td>451.0</td>\n",
       "    </tr>\n",
       "    <tr>\n",
       "      <th>1</th>\n",
       "      <td>1</td>\n",
       "      <td>4</td>\n",
       "      <td>754.16</td>\n",
       "      <td>6.232113</td>\n",
       "      <td>1</td>\n",
       "      <td>ultra</td>\n",
       "      <td>241.0</td>\n",
       "    </tr>\n",
       "    <tr>\n",
       "      <th>2</th>\n",
       "      <td>1</td>\n",
       "      <td>8</td>\n",
       "      <td>6723.47</td>\n",
       "      <td>44.776802</td>\n",
       "      <td>2</td>\n",
       "      <td>ultra</td>\n",
       "      <td>469.0</td>\n",
       "    </tr>\n",
       "    <tr>\n",
       "      <th>3</th>\n",
       "      <td>1</td>\n",
       "      <td>10</td>\n",
       "      <td>5809.91</td>\n",
       "      <td>31.578017</td>\n",
       "      <td>2</td>\n",
       "      <td>ultra</td>\n",
       "      <td>391.0</td>\n",
       "    </tr>\n",
       "    <tr>\n",
       "      <th>4</th>\n",
       "      <td>1</td>\n",
       "      <td>11</td>\n",
       "      <td>7003.50</td>\n",
       "      <td>53.397424</td>\n",
       "      <td>3</td>\n",
       "      <td>ultra</td>\n",
       "      <td>523.0</td>\n",
       "    </tr>\n",
       "  </tbody>\n",
       "</table>\n",
       "</div>"
      ],
      "text/plain": [
       "   user_id  month  total_distance  total_duration  total_count  \\\n",
       "0        1      1         7027.51       41.416640            2   \n",
       "1        1      4          754.16        6.232113            1   \n",
       "2        1      8         6723.47       44.776802            2   \n",
       "3        1     10         5809.91       31.578017            2   \n",
       "4        1     11         7003.50       53.397424            3   \n",
       "\n",
       "  subscription_type  revenue  \n",
       "0             ultra    451.0  \n",
       "1             ultra    241.0  \n",
       "2             ultra    469.0  \n",
       "3             ultra    391.0  \n",
       "4             ultra    523.0  "
      ]
     },
     "execution_count": 27,
     "metadata": {},
     "output_type": "execute_result"
    }
   ],
   "source": [
    "rides = pd.DataFrame()\n",
    "\n",
    "rides = df.groupby([\"user_id\", 'month']).agg({'distance': 'sum', 'duration': 'sum', \n",
    "                                              'user_id': 'count', 'minute_price': 'first', \n",
    "                                              'start_ride_price': 'first', 'subscription_fee': 'first',\n",
    "                                              'subscription_type': 'first'})\n",
    "rides = rides.rename(columns={'distance': 'total_distance', 'duration': 'total_duration', 'user_id': 'total_count'}).reset_index()\n",
    "\n",
    "rides['revenue'] = rides['start_ride_price'] * rides['total_count'] + rides['minute_price'] * np.ceil(rides['total_duration']) + rides['subscription_fee']\n",
    "\n",
    "rides.drop(columns=['minute_price', 'start_ride_price', 'subscription_fee'], axis=1, inplace=True)\n",
    "\n",
    "rides.head()"
   ]
  },
  {
   "cell_type": "markdown",
   "id": "41545ac0",
   "metadata": {},
   "source": [
    "### Проверка гипотез"
   ]
  },
  {
   "cell_type": "markdown",
   "id": "4a1aa3cb",
   "metadata": {},
   "source": [
    "#### \n",
    "\n",
    "   H0: u(duration free) >= u(duration ultra) *(пользователи без подписки тратят больше времени на поездки)*\n",
    "\n",
    "   Ha: u(duration free) < u(duration ultra) *(пользователи с подпиской тратят больше времени на поездки)*"
   ]
  },
  {
   "cell_type": "code",
   "execution_count": 28,
   "id": "7b86ae6f",
   "metadata": {},
   "outputs": [
    {
     "name": "stdout",
     "output_type": "stream",
     "text": [
      "p value is 1.2804098316645618e-34\n",
      "reject\n"
     ]
    }
   ],
   "source": [
    "alpha = 0.05\n",
    "\n",
    "# H0: users with subscription on average spend <= than users without one\n",
    "# Ha: users with subscription on average spend > than users without one\n",
    "result = st.ttest_ind(df_pay['duration'], \n",
    "                      df_no_pay['duration'], \n",
    "                      alternative='greater')\n",
    "\n",
    "print('p value is', result.pvalue)\n",
    "\n",
    "if result.pvalue < alpha:\n",
    "    print('reject')\n",
    "else:\n",
    "    print('fail to reject')"
   ]
  },
  {
   "cell_type": "markdown",
   "id": "6292ef94",
   "metadata": {},
   "source": [
    "Т.к. значение p меньше уровня значимости, следует отвергнуть нулевую гипотезу. Таким образом, следует вывод, что пользователи с подпиской тратят больше времени на поездки."
   ]
  },
  {
   "cell_type": "markdown",
   "id": "c5bd6611",
   "metadata": {},
   "source": [
    "#### \n",
    "\n",
    "H0: u(distance ultra) <= 3130 *(среднее расстояние, которое проезжают пользователи с подпиской за одну поездку, не превышает \n",
    "3130)*\n",
    "\n",
    "Ha: u(distance ultra) > 3130 *(среднее расстояние, которое проезжают пользователи с подпиской за одну поездку, превышает 3130)*"
   ]
  },
  {
   "cell_type": "code",
   "execution_count": 29,
   "id": "f7f5b51d",
   "metadata": {},
   "outputs": [
    {
     "name": "stdout",
     "output_type": "stream",
     "text": [
      "p value is 0.9195362605842414\n",
      "fail to reject\n"
     ]
    }
   ],
   "source": [
    "results = st.ttest_1samp(df[df['subscription_type']=='ultra']['distance'], 3130, alternative='greater')\n",
    "\n",
    "print('p value is', results.pvalue)\n",
    "\n",
    "if results.pvalue < alpha:\n",
    "    print('reject')\n",
    "else:\n",
    "    print('fail to reject')"
   ]
  },
  {
   "cell_type": "markdown",
   "id": "52773653",
   "metadata": {},
   "source": [
    "Т.к. не получилось отвергнуть нулевую гипотезу, следует вывод, что пользователи с подпиской проезжают <= 3130 метров."
   ]
  },
  {
   "cell_type": "markdown",
   "id": "c5360c36",
   "metadata": {},
   "source": [
    "#### \n",
    "\n",
    " H0: u(revenue free) >= u(revenue ultra) *(помесячная выручка от пользователей с подпиской по месяцам равна или меньше, чем выручка от пользователей без подписки)*\n",
    "\n",
    " Ha: u(revenue free) < u(revenue ultra) *(помесячная выручка от пользователей с подпиской по месяцам выше, чем выручка от пользователей без подписки)*"
   ]
  },
  {
   "cell_type": "code",
   "execution_count": 30,
   "id": "d7d3bb36",
   "metadata": {},
   "outputs": [
    {
     "name": "stdout",
     "output_type": "stream",
     "text": [
      "p value is 2.8130926188487286e-35\n",
      "reject\n"
     ]
    }
   ],
   "source": [
    "result = st.ttest_ind(rides[rides['subscription_type']=='ultra']['revenue'], \n",
    "                      rides[rides['subscription_type']=='free']['revenue'], \n",
    "                      alternative='greater')\n",
    "\n",
    "print('p value is', result.pvalue)\n",
    "\n",
    "if result.pvalue < alpha:\n",
    "    print('reject')\n",
    "else:\n",
    "    print('fail to reject')"
   ]
  },
  {
   "cell_type": "markdown",
   "id": "234db976",
   "metadata": {},
   "source": [
    "Т.к. значение p меньше уровня значимости, следует отвергнуть нулевую гипотезу о том, что помесячная выручка от пользователей с подпиской по месяцам равна или меньше, чем выручка от пользователей без подписки."
   ]
  },
  {
   "cell_type": "markdown",
   "id": "51851561",
   "metadata": {},
   "source": [
    "#### "
   ]
  },
  {
   "cell_type": "markdown",
   "id": "9b51b6fe",
   "metadata": {},
   "source": [
    "Т.к. выборки парные, то мы проверяем **одностороннюю** гипотезу о равенстве среднего значения генеральной совокупности до и после изменения. \n",
    "\n",
    "Функция питон: scipy.stats.ttest_rel"
   ]
  },
  {
   "cell_type": "markdown",
   "id": "ed7b5506",
   "metadata": {},
   "source": [
    "### Общий вывод\n",
    "\n",
    "- Представлены данные за 2021 год:\n",
    "\n",
    "        18068 поездок, 1534 пользователя, 2 вида подписок\n",
    "\n",
    "- Пользователи из Пятигорска составляют примерно 14.3% (это самая большая группа пользователей). Несмотря на то что Москва самый густонаселенный город в России, количество пользователей в городе составляет ~11%.\n",
    "\n",
    "\n",
    "- Процент пользователей с подпиской почти на 9% меньше, чем пользователей без.\n",
    "\n",
    "\n",
    "- Средний возраст пользователей в районе 25 лет. Минимальный возраст 12, а максимальный 43. Межквартильный диапазон равен 6. Кроме того, в Омске медиана выше, чем в других городах.\n",
    "\n",
    "\n",
    "- В среднем пользователи проезжают в районе 3000 метров. От 1500 до 3000 метров можно заметить значительный рост. Также присутствует небольшой рост до ~800 метров. В среднем одна поездка длится примерно 18 минут.\n",
    "\n",
    "\n",
    "- После проверки гипотез мы выяснили, что пользователи с подпиской тратят больше времени на поездки, а также выручка от пользователей с подпиской выше, чем выручка пользователей без. Кроме того, среднее расстояние, которое проезжают пользователи с подпиской за одну поездку, не превышает 3130 метров, что является оптимальным расстоянием.\n",
    "\n",
    "\n",
    "**Рекомендации:**\n",
    "\n",
    "Следует увеличить число пользователей, подписанных на сервис. В Москве не самое большое количество пользователей, но в то же время в городе уже существует сильная конкуренция. Поэтому стоит обратить внимание на регионы или же предоставить цены ниже, чем у конкурентов. Также можно проводить различные акции, например бесплатный пробный период или скидка на годовую подписку.  "
   ]
  }
 ],
 "metadata": {
  "ExecuteTimeLog": [
   {
    "duration": 386,
    "start_time": "2024-02-26T07:11:50.116Z"
   },
   {
    "duration": 191,
    "start_time": "2024-02-26T07:11:52.143Z"
   },
   {
    "duration": 76,
    "start_time": "2024-02-26T07:12:39.888Z"
   },
   {
    "duration": 88,
    "start_time": "2024-02-26T07:13:06.540Z"
   },
   {
    "duration": 74,
    "start_time": "2024-02-26T07:14:32.238Z"
   },
   {
    "duration": 81,
    "start_time": "2024-02-26T07:14:42.461Z"
   },
   {
    "duration": 12,
    "start_time": "2024-02-26T07:20:48.908Z"
   },
   {
    "duration": 15,
    "start_time": "2024-02-26T07:23:32.069Z"
   },
   {
    "duration": 43,
    "start_time": "2024-02-26T07:23:51.302Z"
   },
   {
    "duration": 88,
    "start_time": "2024-02-26T07:58:12.225Z"
   },
   {
    "duration": 80,
    "start_time": "2024-02-26T07:58:26.972Z"
   },
   {
    "duration": 38,
    "start_time": "2024-02-26T07:58:47.671Z"
   },
   {
    "duration": 10,
    "start_time": "2024-02-26T08:08:39.940Z"
   },
   {
    "duration": 64,
    "start_time": "2024-02-26T08:08:56.537Z"
   },
   {
    "duration": 11,
    "start_time": "2024-02-26T08:12:42.039Z"
   },
   {
    "duration": 17,
    "start_time": "2024-02-26T08:13:03.588Z"
   },
   {
    "duration": 12,
    "start_time": "2024-02-26T08:13:37.825Z"
   },
   {
    "duration": 8,
    "start_time": "2024-02-26T08:14:22.900Z"
   },
   {
    "duration": 9,
    "start_time": "2024-02-26T08:14:41.693Z"
   },
   {
    "duration": 4,
    "start_time": "2024-02-26T08:15:15.425Z"
   },
   {
    "duration": 8,
    "start_time": "2024-02-26T08:15:29.515Z"
   },
   {
    "duration": 11,
    "start_time": "2024-02-26T08:16:17.100Z"
   },
   {
    "duration": 13,
    "start_time": "2024-02-26T08:17:25.791Z"
   },
   {
    "duration": 7,
    "start_time": "2024-02-26T08:18:10.821Z"
   },
   {
    "duration": 12,
    "start_time": "2024-02-26T08:18:49.221Z"
   },
   {
    "duration": 501,
    "start_time": "2024-03-05T06:45:18.248Z"
   },
   {
    "duration": 300,
    "start_time": "2024-03-05T06:45:58.370Z"
   },
   {
    "duration": 20,
    "start_time": "2024-03-05T06:46:01.015Z"
   },
   {
    "duration": 9,
    "start_time": "2024-03-05T06:46:05.478Z"
   },
   {
    "duration": 7,
    "start_time": "2024-03-05T06:46:08.616Z"
   },
   {
    "duration": 3,
    "start_time": "2024-03-05T06:48:10.543Z"
   },
   {
    "duration": 65,
    "start_time": "2024-03-05T06:48:20.185Z"
   },
   {
    "duration": 25,
    "start_time": "2024-03-05T06:48:40.648Z"
   },
   {
    "duration": 35,
    "start_time": "2024-03-05T06:49:07.062Z"
   },
   {
    "duration": 24,
    "start_time": "2024-03-05T06:49:34.047Z"
   },
   {
    "duration": 20,
    "start_time": "2024-03-05T06:51:31.180Z"
   },
   {
    "duration": 24,
    "start_time": "2024-03-05T06:51:40.003Z"
   },
   {
    "duration": 37,
    "start_time": "2024-03-05T06:52:02.628Z"
   },
   {
    "duration": 12,
    "start_time": "2024-03-05T06:57:02.334Z"
   },
   {
    "duration": 5,
    "start_time": "2024-03-05T06:58:57.849Z"
   },
   {
    "duration": 5,
    "start_time": "2024-03-05T06:59:01.969Z"
   },
   {
    "duration": 16,
    "start_time": "2024-03-05T06:59:10.984Z"
   },
   {
    "duration": 9,
    "start_time": "2024-03-05T06:59:23.534Z"
   },
   {
    "duration": 12,
    "start_time": "2024-03-05T07:01:26.001Z"
   },
   {
    "duration": 10,
    "start_time": "2024-03-05T07:01:36.877Z"
   },
   {
    "duration": 10,
    "start_time": "2024-03-05T07:01:40.357Z"
   },
   {
    "duration": 9,
    "start_time": "2024-03-05T07:01:58.450Z"
   },
   {
    "duration": 8,
    "start_time": "2024-03-05T07:02:07.555Z"
   },
   {
    "duration": 11,
    "start_time": "2024-03-05T07:02:17.775Z"
   },
   {
    "duration": 7,
    "start_time": "2024-03-05T07:02:34.305Z"
   },
   {
    "duration": 7,
    "start_time": "2024-03-05T07:02:40.914Z"
   },
   {
    "duration": 10,
    "start_time": "2024-03-05T07:03:00.404Z"
   },
   {
    "duration": 18,
    "start_time": "2024-03-05T07:03:55.437Z"
   },
   {
    "duration": 24,
    "start_time": "2024-03-05T07:04:06.207Z"
   },
   {
    "duration": 21,
    "start_time": "2024-03-05T07:04:18.104Z"
   },
   {
    "duration": 17,
    "start_time": "2024-03-05T07:05:24.326Z"
   },
   {
    "duration": 67,
    "start_time": "2024-03-05T07:05:51.976Z"
   },
   {
    "duration": 9,
    "start_time": "2024-03-05T07:05:53.200Z"
   },
   {
    "duration": 8,
    "start_time": "2024-03-05T07:05:53.990Z"
   },
   {
    "duration": 10,
    "start_time": "2024-03-05T07:05:54.887Z"
   },
   {
    "duration": 26,
    "start_time": "2024-03-05T07:05:55.968Z"
   },
   {
    "duration": 16,
    "start_time": "2024-03-05T07:06:06.483Z"
   },
   {
    "duration": 17,
    "start_time": "2024-03-05T07:06:08.303Z"
   },
   {
    "duration": 29,
    "start_time": "2024-03-05T07:07:03.531Z"
   },
   {
    "duration": 23,
    "start_time": "2024-03-05T07:09:05.174Z"
   },
   {
    "duration": 22,
    "start_time": "2024-03-05T07:09:17.364Z"
   },
   {
    "duration": 24,
    "start_time": "2024-03-05T07:09:19.764Z"
   },
   {
    "duration": 8,
    "start_time": "2024-03-05T07:39:12.411Z"
   },
   {
    "duration": 13,
    "start_time": "2024-03-05T07:39:18.969Z"
   },
   {
    "duration": 5,
    "start_time": "2024-03-05T07:40:20.923Z"
   },
   {
    "duration": 8,
    "start_time": "2024-03-05T07:41:01.383Z"
   },
   {
    "duration": 10,
    "start_time": "2024-03-05T07:41:17.970Z"
   },
   {
    "duration": 6,
    "start_time": "2024-03-05T07:41:29.747Z"
   },
   {
    "duration": 7,
    "start_time": "2024-03-05T07:42:20.672Z"
   },
   {
    "duration": 8,
    "start_time": "2024-03-05T07:42:34.135Z"
   },
   {
    "duration": 7,
    "start_time": "2024-03-05T07:42:44.220Z"
   },
   {
    "duration": 13,
    "start_time": "2024-03-05T07:42:53.508Z"
   },
   {
    "duration": 15,
    "start_time": "2024-03-05T07:43:36.398Z"
   },
   {
    "duration": 12,
    "start_time": "2024-03-05T07:43:51.972Z"
   },
   {
    "duration": 8,
    "start_time": "2024-03-05T07:44:24.000Z"
   },
   {
    "duration": 995,
    "start_time": "2024-03-05T07:44:56.060Z"
   },
   {
    "duration": 201,
    "start_time": "2024-03-05T07:45:03.149Z"
   },
   {
    "duration": 19,
    "start_time": "2024-03-05T07:45:13.715Z"
   },
   {
    "duration": 13,
    "start_time": "2024-03-05T07:45:48.727Z"
   },
   {
    "duration": 11,
    "start_time": "2024-03-05T07:46:59.205Z"
   },
   {
    "duration": 14,
    "start_time": "2024-03-05T07:47:01.859Z"
   },
   {
    "duration": 9,
    "start_time": "2024-03-05T07:47:12.919Z"
   },
   {
    "duration": 10,
    "start_time": "2024-03-05T07:47:18.206Z"
   },
   {
    "duration": 21,
    "start_time": "2024-03-05T07:47:37.506Z"
   },
   {
    "duration": 9,
    "start_time": "2024-03-05T07:47:45.314Z"
   },
   {
    "duration": 9,
    "start_time": "2024-03-05T07:47:48.342Z"
   },
   {
    "duration": 20,
    "start_time": "2024-03-05T08:18:26.685Z"
   },
   {
    "duration": 10,
    "start_time": "2024-03-05T08:18:51.918Z"
   },
   {
    "duration": 12,
    "start_time": "2024-03-05T08:18:56.896Z"
   },
   {
    "duration": 18,
    "start_time": "2024-03-05T08:19:45.211Z"
   },
   {
    "duration": 14,
    "start_time": "2024-03-05T08:25:18.613Z"
   },
   {
    "duration": 13,
    "start_time": "2024-03-05T08:25:48.905Z"
   },
   {
    "duration": 9,
    "start_time": "2024-03-05T08:26:10.007Z"
   },
   {
    "duration": 5,
    "start_time": "2024-03-05T08:26:47.842Z"
   },
   {
    "duration": 203,
    "start_time": "2024-03-05T08:26:51.765Z"
   },
   {
    "duration": 17,
    "start_time": "2024-03-05T08:28:38.553Z"
   },
   {
    "duration": 15,
    "start_time": "2024-03-05T08:29:33.322Z"
   },
   {
    "duration": 13,
    "start_time": "2024-03-05T08:29:43.630Z"
   },
   {
    "duration": 17,
    "start_time": "2024-03-05T08:32:48.070Z"
   },
   {
    "duration": 19,
    "start_time": "2024-03-05T08:32:57.593Z"
   },
   {
    "duration": 24,
    "start_time": "2024-03-05T08:33:02.527Z"
   },
   {
    "duration": 16,
    "start_time": "2024-03-05T08:33:10.869Z"
   },
   {
    "duration": 16,
    "start_time": "2024-03-05T08:33:45.124Z"
   },
   {
    "duration": 11,
    "start_time": "2024-03-05T08:33:55.391Z"
   },
   {
    "duration": 14,
    "start_time": "2024-03-05T08:34:04.732Z"
   },
   {
    "duration": 16,
    "start_time": "2024-03-05T08:34:08.263Z"
   },
   {
    "duration": 14,
    "start_time": "2024-03-05T08:34:26.393Z"
   },
   {
    "duration": 17,
    "start_time": "2024-03-05T08:35:36.054Z"
   },
   {
    "duration": 14,
    "start_time": "2024-03-05T08:35:53.173Z"
   },
   {
    "duration": 15,
    "start_time": "2024-03-05T08:36:03.453Z"
   },
   {
    "duration": 18,
    "start_time": "2024-03-05T08:36:06.337Z"
   },
   {
    "duration": 14,
    "start_time": "2024-03-05T08:38:53.665Z"
   },
   {
    "duration": 18,
    "start_time": "2024-03-05T08:39:05.892Z"
   },
   {
    "duration": 158,
    "start_time": "2024-03-05T08:39:28.403Z"
   },
   {
    "duration": 173,
    "start_time": "2024-03-05T08:39:51.221Z"
   },
   {
    "duration": 4,
    "start_time": "2024-03-05T08:41:51.597Z"
   },
   {
    "duration": 6,
    "start_time": "2024-03-05T08:41:54.934Z"
   },
   {
    "duration": 276,
    "start_time": "2024-03-05T08:42:59.829Z"
   },
   {
    "duration": 6,
    "start_time": "2024-03-05T08:43:12.910Z"
   },
   {
    "duration": 11,
    "start_time": "2024-03-05T08:43:29.517Z"
   },
   {
    "duration": 127,
    "start_time": "2024-03-05T08:43:41.191Z"
   },
   {
    "duration": 43,
    "start_time": "2024-03-05T15:17:11.625Z"
   },
   {
    "duration": 1229,
    "start_time": "2024-03-05T15:17:18.923Z"
   },
   {
    "duration": 180,
    "start_time": "2024-03-05T15:17:20.154Z"
   },
   {
    "duration": 11,
    "start_time": "2024-03-05T15:17:20.549Z"
   },
   {
    "duration": 12,
    "start_time": "2024-03-05T15:17:21.077Z"
   },
   {
    "duration": 6,
    "start_time": "2024-03-05T15:17:22.019Z"
   },
   {
    "duration": 20,
    "start_time": "2024-03-05T15:17:22.706Z"
   },
   {
    "duration": 15,
    "start_time": "2024-03-05T15:17:25.770Z"
   },
   {
    "duration": 22,
    "start_time": "2024-03-05T15:17:29.407Z"
   },
   {
    "duration": 66,
    "start_time": "2024-03-05T15:17:41.294Z"
   },
   {
    "duration": 9,
    "start_time": "2024-03-05T15:17:42.005Z"
   },
   {
    "duration": 356,
    "start_time": "2024-03-05T15:17:57.294Z"
   },
   {
    "duration": 11,
    "start_time": "2024-03-05T15:18:13.145Z"
   },
   {
    "duration": 9,
    "start_time": "2024-03-05T15:18:19.204Z"
   },
   {
    "duration": 173,
    "start_time": "2024-03-05T15:19:18.011Z"
   },
   {
    "duration": 146,
    "start_time": "2024-03-05T15:19:30.478Z"
   },
   {
    "duration": 112,
    "start_time": "2024-03-05T15:20:02.319Z"
   },
   {
    "duration": 66,
    "start_time": "2024-03-05T15:20:14.544Z"
   },
   {
    "duration": 151,
    "start_time": "2024-03-05T15:22:26.749Z"
   },
   {
    "duration": 12,
    "start_time": "2024-03-05T15:32:39.069Z"
   },
   {
    "duration": 8,
    "start_time": "2024-03-05T15:34:07.649Z"
   },
   {
    "duration": 12,
    "start_time": "2024-03-05T15:34:11.675Z"
   },
   {
    "duration": 6,
    "start_time": "2024-03-05T15:34:23.137Z"
   },
   {
    "duration": 7,
    "start_time": "2024-03-05T15:34:44.354Z"
   },
   {
    "duration": 5,
    "start_time": "2024-03-05T15:34:50.201Z"
   },
   {
    "duration": 2,
    "start_time": "2024-03-05T15:38:40.952Z"
   },
   {
    "duration": 3,
    "start_time": "2024-03-05T15:38:45.661Z"
   },
   {
    "duration": 7,
    "start_time": "2024-03-05T15:40:21.453Z"
   },
   {
    "duration": 7,
    "start_time": "2024-03-05T15:40:28.054Z"
   },
   {
    "duration": 8,
    "start_time": "2024-03-05T15:41:03.479Z"
   },
   {
    "duration": 74,
    "start_time": "2024-03-05T15:46:13.542Z"
   },
   {
    "duration": 13,
    "start_time": "2024-03-05T15:47:01.912Z"
   },
   {
    "duration": 13,
    "start_time": "2024-03-05T15:49:03.261Z"
   },
   {
    "duration": 9,
    "start_time": "2024-03-05T15:49:52.443Z"
   },
   {
    "duration": 10,
    "start_time": "2024-03-05T15:50:08.300Z"
   },
   {
    "duration": 9,
    "start_time": "2024-03-05T15:50:45.151Z"
   },
   {
    "duration": 2,
    "start_time": "2024-03-05T15:51:24.703Z"
   },
   {
    "duration": 61,
    "start_time": "2024-03-05T15:51:24.707Z"
   },
   {
    "duration": 8,
    "start_time": "2024-03-05T15:51:24.769Z"
   },
   {
    "duration": 29,
    "start_time": "2024-03-05T15:51:24.778Z"
   },
   {
    "duration": 11,
    "start_time": "2024-03-05T15:51:24.809Z"
   },
   {
    "duration": 19,
    "start_time": "2024-03-05T15:51:24.821Z"
   },
   {
    "duration": 11,
    "start_time": "2024-03-05T15:51:24.841Z"
   },
   {
    "duration": 18,
    "start_time": "2024-03-05T15:51:24.853Z"
   },
   {
    "duration": 66,
    "start_time": "2024-03-05T15:51:24.873Z"
   },
   {
    "duration": 0,
    "start_time": "2024-03-05T15:51:24.941Z"
   },
   {
    "duration": 0,
    "start_time": "2024-03-05T15:51:24.941Z"
   },
   {
    "duration": 0,
    "start_time": "2024-03-05T15:51:24.942Z"
   },
   {
    "duration": 0,
    "start_time": "2024-03-05T15:51:24.943Z"
   },
   {
    "duration": 3,
    "start_time": "2024-03-05T15:51:50.619Z"
   },
   {
    "duration": 70,
    "start_time": "2024-03-05T15:51:50.623Z"
   },
   {
    "duration": 7,
    "start_time": "2024-03-05T15:51:50.694Z"
   },
   {
    "duration": 17,
    "start_time": "2024-03-05T15:51:50.702Z"
   },
   {
    "duration": 22,
    "start_time": "2024-03-05T15:51:50.720Z"
   },
   {
    "duration": 23,
    "start_time": "2024-03-05T15:51:50.743Z"
   },
   {
    "duration": 11,
    "start_time": "2024-03-05T15:51:50.767Z"
   },
   {
    "duration": 20,
    "start_time": "2024-03-05T15:51:50.779Z"
   },
   {
    "duration": 161,
    "start_time": "2024-03-05T15:51:50.800Z"
   },
   {
    "duration": 10,
    "start_time": "2024-03-05T15:51:50.962Z"
   },
   {
    "duration": 80,
    "start_time": "2024-03-05T15:51:50.974Z"
   },
   {
    "duration": 21,
    "start_time": "2024-03-05T15:51:51.055Z"
   },
   {
    "duration": 122,
    "start_time": "2024-03-05T15:54:51.393Z"
   },
   {
    "duration": 2,
    "start_time": "2024-03-05T15:55:48.761Z"
   },
   {
    "duration": 57,
    "start_time": "2024-03-05T15:55:48.767Z"
   },
   {
    "duration": 6,
    "start_time": "2024-03-05T15:55:48.826Z"
   },
   {
    "duration": 10,
    "start_time": "2024-03-05T15:55:48.833Z"
   },
   {
    "duration": 8,
    "start_time": "2024-03-05T15:55:48.844Z"
   },
   {
    "duration": 18,
    "start_time": "2024-03-05T15:55:48.853Z"
   },
   {
    "duration": 11,
    "start_time": "2024-03-05T15:55:48.872Z"
   },
   {
    "duration": 24,
    "start_time": "2024-03-05T15:55:48.884Z"
   },
   {
    "duration": 158,
    "start_time": "2024-03-05T15:55:48.910Z"
   },
   {
    "duration": 9,
    "start_time": "2024-03-05T15:55:49.070Z"
   },
   {
    "duration": 24,
    "start_time": "2024-03-05T15:55:49.080Z"
   },
   {
    "duration": 6,
    "start_time": "2024-03-05T15:55:49.105Z"
   },
   {
    "duration": 9,
    "start_time": "2024-03-05T15:56:56.570Z"
   },
   {
    "duration": 8,
    "start_time": "2024-03-05T15:57:05.746Z"
   },
   {
    "duration": 12,
    "start_time": "2024-03-05T16:03:06.552Z"
   },
   {
    "duration": 1134,
    "start_time": "2024-03-05T16:03:24.290Z"
   },
   {
    "duration": 13,
    "start_time": "2024-03-05T16:04:03.766Z"
   },
   {
    "duration": 11,
    "start_time": "2024-03-05T16:04:31.954Z"
   },
   {
    "duration": 10,
    "start_time": "2024-03-05T16:04:38.894Z"
   },
   {
    "duration": 10,
    "start_time": "2024-03-05T16:04:46.819Z"
   },
   {
    "duration": 48,
    "start_time": "2024-03-05T16:09:11.672Z"
   },
   {
    "duration": 64,
    "start_time": "2024-03-05T16:10:05.467Z"
   },
   {
    "duration": 54,
    "start_time": "2024-03-05T16:10:31.753Z"
   },
   {
    "duration": 63,
    "start_time": "2024-03-05T16:11:41.622Z"
   },
   {
    "duration": 59,
    "start_time": "2024-03-05T16:14:00.529Z"
   },
   {
    "duration": 73,
    "start_time": "2024-03-05T16:14:09.687Z"
   },
   {
    "duration": 149,
    "start_time": "2024-03-05T16:15:32.829Z"
   },
   {
    "duration": 8,
    "start_time": "2024-03-05T16:15:39.034Z"
   },
   {
    "duration": 75,
    "start_time": "2024-03-05T16:16:29.397Z"
   },
   {
    "duration": 189,
    "start_time": "2024-03-05T16:34:47.352Z"
   },
   {
    "duration": 193,
    "start_time": "2024-03-05T16:35:14.255Z"
   },
   {
    "duration": 264,
    "start_time": "2024-03-05T16:36:25.526Z"
   },
   {
    "duration": 176,
    "start_time": "2024-03-05T16:38:16.224Z"
   },
   {
    "duration": 77,
    "start_time": "2024-03-05T16:38:51.947Z"
   },
   {
    "duration": 78,
    "start_time": "2024-03-05T16:39:24.204Z"
   },
   {
    "duration": 78,
    "start_time": "2024-03-05T16:39:40.663Z"
   },
   {
    "duration": 154,
    "start_time": "2024-03-05T16:41:57.125Z"
   },
   {
    "duration": 169,
    "start_time": "2024-03-05T16:42:36.265Z"
   },
   {
    "duration": 182,
    "start_time": "2024-03-05T16:42:43.206Z"
   },
   {
    "duration": 180,
    "start_time": "2024-03-05T16:42:49.451Z"
   },
   {
    "duration": 181,
    "start_time": "2024-03-05T16:43:45.125Z"
   },
   {
    "duration": 181,
    "start_time": "2024-03-05T16:44:26.645Z"
   },
   {
    "duration": 248,
    "start_time": "2024-03-05T16:46:44.168Z"
   },
   {
    "duration": 180,
    "start_time": "2024-03-05T16:53:58.608Z"
   },
   {
    "duration": 172,
    "start_time": "2024-03-05T16:54:12.514Z"
   },
   {
    "duration": 170,
    "start_time": "2024-03-05T16:54:39.059Z"
   },
   {
    "duration": 185,
    "start_time": "2024-03-05T16:56:07.839Z"
   },
   {
    "duration": 325,
    "start_time": "2024-03-05T16:56:14.295Z"
   },
   {
    "duration": 289,
    "start_time": "2024-03-05T16:56:48.386Z"
   },
   {
    "duration": 294,
    "start_time": "2024-03-05T16:58:00.995Z"
   },
   {
    "duration": 271,
    "start_time": "2024-03-05T16:58:30.433Z"
   },
   {
    "duration": 316,
    "start_time": "2024-03-05T16:58:44.561Z"
   },
   {
    "duration": 284,
    "start_time": "2024-03-05T16:58:52.208Z"
   },
   {
    "duration": 385,
    "start_time": "2024-03-05T17:09:20.718Z"
   },
   {
    "duration": 511,
    "start_time": "2024-03-05T17:12:15.657Z"
   },
   {
    "duration": 528,
    "start_time": "2024-03-05T17:12:22.341Z"
   },
   {
    "duration": 530,
    "start_time": "2024-03-05T17:13:36.244Z"
   },
   {
    "duration": 515,
    "start_time": "2024-03-05T17:14:57.160Z"
   },
   {
    "duration": 257,
    "start_time": "2024-03-05T17:16:01.653Z"
   },
   {
    "duration": 514,
    "start_time": "2024-03-05T17:18:18.543Z"
   },
   {
    "duration": 508,
    "start_time": "2024-03-05T17:22:14.068Z"
   },
   {
    "duration": 589,
    "start_time": "2024-03-05T17:22:58.263Z"
   },
   {
    "duration": 17,
    "start_time": "2024-03-05T17:56:38.268Z"
   },
   {
    "duration": 21,
    "start_time": "2024-03-05T17:56:56.638Z"
   },
   {
    "duration": 15,
    "start_time": "2024-03-05T17:57:09.664Z"
   },
   {
    "duration": 14,
    "start_time": "2024-03-05T17:58:04.104Z"
   },
   {
    "duration": 20,
    "start_time": "2024-03-05T17:58:12.556Z"
   },
   {
    "duration": 21,
    "start_time": "2024-03-05T18:10:40.492Z"
   },
   {
    "duration": 9,
    "start_time": "2024-03-05T18:10:42.125Z"
   },
   {
    "duration": 21,
    "start_time": "2024-03-05T18:11:00.388Z"
   },
   {
    "duration": 8,
    "start_time": "2024-03-05T18:11:06.964Z"
   },
   {
    "duration": 336,
    "start_time": "2024-03-05T18:13:50.246Z"
   },
   {
    "duration": 721,
    "start_time": "2024-03-05T18:14:16.728Z"
   },
   {
    "duration": 8,
    "start_time": "2024-03-05T18:19:03.382Z"
   },
   {
    "duration": 917,
    "start_time": "2024-03-05T18:20:02.372Z"
   },
   {
    "duration": 838,
    "start_time": "2024-03-05T18:20:25.314Z"
   },
   {
    "duration": 930,
    "start_time": "2024-03-05T18:20:58.271Z"
   },
   {
    "duration": 911,
    "start_time": "2024-03-05T18:22:59.773Z"
   },
   {
    "duration": 882,
    "start_time": "2024-03-05T18:23:45.376Z"
   },
   {
    "duration": 1473,
    "start_time": "2024-03-12T16:54:57.207Z"
   },
   {
    "duration": 192,
    "start_time": "2024-03-12T16:54:58.682Z"
   },
   {
    "duration": 12,
    "start_time": "2024-03-12T16:54:58.876Z"
   },
   {
    "duration": 19,
    "start_time": "2024-03-12T16:54:58.890Z"
   },
   {
    "duration": 23,
    "start_time": "2024-03-12T16:54:58.910Z"
   },
   {
    "duration": 29,
    "start_time": "2024-03-12T16:54:58.935Z"
   },
   {
    "duration": 17,
    "start_time": "2024-03-12T16:54:58.965Z"
   },
   {
    "duration": 27,
    "start_time": "2024-03-12T16:54:58.984Z"
   },
   {
    "duration": 241,
    "start_time": "2024-03-12T16:54:59.013Z"
   },
   {
    "duration": 9,
    "start_time": "2024-03-12T16:54:59.256Z"
   },
   {
    "duration": 115,
    "start_time": "2024-03-12T16:54:59.267Z"
   },
   {
    "duration": 381,
    "start_time": "2024-03-12T16:54:59.384Z"
   },
   {
    "duration": 282,
    "start_time": "2024-03-12T16:54:59.766Z"
   },
   {
    "duration": 680,
    "start_time": "2024-03-12T16:55:00.050Z"
   },
   {
    "duration": 637,
    "start_time": "2024-03-12T16:55:00.732Z"
   },
   {
    "duration": 35,
    "start_time": "2024-03-12T16:55:01.371Z"
   },
   {
    "duration": 44,
    "start_time": "2024-03-12T16:55:01.408Z"
   },
   {
    "duration": 233,
    "start_time": "2024-03-12T16:55:06.622Z"
   },
   {
    "duration": 1368,
    "start_time": "2024-03-12T16:55:33.160Z"
   },
   {
    "duration": 1214,
    "start_time": "2024-03-12T16:55:45.724Z"
   },
   {
    "duration": 1193,
    "start_time": "2024-03-12T16:56:15.160Z"
   },
   {
    "duration": 1173,
    "start_time": "2024-03-12T16:56:26.466Z"
   },
   {
    "duration": 1235,
    "start_time": "2024-03-12T16:57:47.937Z"
   },
   {
    "duration": 1213,
    "start_time": "2024-03-12T17:00:25.422Z"
   },
   {
    "duration": 274,
    "start_time": "2024-03-12T17:03:59.726Z"
   },
   {
    "duration": 304,
    "start_time": "2024-03-12T17:04:22.295Z"
   },
   {
    "duration": 542,
    "start_time": "2024-03-12T17:04:44.798Z"
   },
   {
    "duration": 213,
    "start_time": "2024-03-12T17:05:38.277Z"
   },
   {
    "duration": 482,
    "start_time": "2024-03-12T17:05:49.778Z"
   },
   {
    "duration": 448,
    "start_time": "2024-03-12T17:06:03.610Z"
   },
   {
    "duration": 439,
    "start_time": "2024-03-12T17:06:13.643Z"
   },
   {
    "duration": 450,
    "start_time": "2024-03-12T17:06:50.308Z"
   },
   {
    "duration": 476,
    "start_time": "2024-03-12T17:07:32.308Z"
   },
   {
    "duration": 423,
    "start_time": "2024-03-12T17:08:37.667Z"
   },
   {
    "duration": 439,
    "start_time": "2024-03-12T17:09:18.443Z"
   },
   {
    "duration": 9,
    "start_time": "2024-03-12T17:17:28.052Z"
   },
   {
    "duration": 5,
    "start_time": "2024-03-12T17:17:31.273Z"
   },
   {
    "duration": 550,
    "start_time": "2024-03-12T17:17:33.254Z"
   },
   {
    "duration": 464,
    "start_time": "2024-03-12T17:18:50.134Z"
   },
   {
    "duration": 461,
    "start_time": "2024-03-12T17:19:07.334Z"
   },
   {
    "duration": 5,
    "start_time": "2024-03-12T17:19:25.475Z"
   },
   {
    "duration": 3,
    "start_time": "2024-03-12T17:42:29.185Z"
   },
   {
    "duration": 11,
    "start_time": "2024-03-12T17:47:46.477Z"
   },
   {
    "duration": 9,
    "start_time": "2024-03-12T17:48:24.083Z"
   },
   {
    "duration": 1304,
    "start_time": "2024-03-12T17:48:56.138Z"
   },
   {
    "duration": 1311,
    "start_time": "2024-03-12T17:49:07.650Z"
   },
   {
    "duration": 960,
    "start_time": "2024-03-12T17:50:29.197Z"
   },
   {
    "duration": 1128,
    "start_time": "2024-03-12T17:50:52.055Z"
   },
   {
    "duration": 11,
    "start_time": "2024-03-12T17:51:30.126Z"
   },
   {
    "duration": 832,
    "start_time": "2024-03-12T17:52:11.674Z"
   },
   {
    "duration": 798,
    "start_time": "2024-03-12T17:52:41.555Z"
   },
   {
    "duration": 777,
    "start_time": "2024-03-12T17:52:56.997Z"
   },
   {
    "duration": 880,
    "start_time": "2024-03-12T17:54:45.893Z"
   },
   {
    "duration": 583,
    "start_time": "2024-03-12T17:57:01.324Z"
   },
   {
    "duration": 602,
    "start_time": "2024-03-12T17:57:06.703Z"
   },
   {
    "duration": 596,
    "start_time": "2024-03-12T17:57:15.648Z"
   },
   {
    "duration": 587,
    "start_time": "2024-03-12T17:57:30.568Z"
   },
   {
    "duration": 3823,
    "start_time": "2024-03-12T17:59:30.889Z"
   },
   {
    "duration": 575,
    "start_time": "2024-03-12T17:59:50.321Z"
   },
   {
    "duration": 17,
    "start_time": "2024-03-12T18:01:34.251Z"
   },
   {
    "duration": 1700,
    "start_time": "2024-03-12T18:02:34.975Z"
   },
   {
    "duration": 2362,
    "start_time": "2024-03-12T18:04:39.935Z"
   },
   {
    "duration": 4,
    "start_time": "2024-03-12T18:06:32.098Z"
   },
   {
    "duration": 4,
    "start_time": "2024-03-12T18:06:38.397Z"
   },
   {
    "duration": 4,
    "start_time": "2024-03-12T18:06:44.285Z"
   },
   {
    "duration": 4,
    "start_time": "2024-03-12T18:06:49.202Z"
   },
   {
    "duration": 2355,
    "start_time": "2024-03-12T18:09:26.194Z"
   },
   {
    "duration": 2409,
    "start_time": "2024-03-12T18:09:36.438Z"
   },
   {
    "duration": 17,
    "start_time": "2024-03-12T18:18:26.500Z"
   },
   {
    "duration": 18,
    "start_time": "2024-03-12T18:19:00.593Z"
   },
   {
    "duration": 17,
    "start_time": "2024-03-12T18:20:25.085Z"
   },
   {
    "duration": 22,
    "start_time": "2024-03-12T18:20:27.932Z"
   },
   {
    "duration": 20,
    "start_time": "2024-03-12T18:20:45.770Z"
   },
   {
    "duration": 25,
    "start_time": "2024-03-12T18:23:08.623Z"
   },
   {
    "duration": 28,
    "start_time": "2024-03-12T18:25:05.975Z"
   },
   {
    "duration": 19,
    "start_time": "2024-03-12T18:27:05.293Z"
   },
   {
    "duration": 18,
    "start_time": "2024-03-12T18:27:13.608Z"
   },
   {
    "duration": 20,
    "start_time": "2024-03-12T18:28:27.802Z"
   },
   {
    "duration": 20,
    "start_time": "2024-03-12T18:29:09.104Z"
   },
   {
    "duration": 19,
    "start_time": "2024-03-12T18:29:47.682Z"
   },
   {
    "duration": 11,
    "start_time": "2024-03-12T18:36:36.372Z"
   },
   {
    "duration": 19,
    "start_time": "2024-03-12T18:37:08.580Z"
   },
   {
    "duration": 20,
    "start_time": "2024-03-12T18:37:25.591Z"
   },
   {
    "duration": 369,
    "start_time": "2024-03-12T18:40:10.837Z"
   },
   {
    "duration": 15,
    "start_time": "2024-03-12T18:41:41.327Z"
   },
   {
    "duration": 19,
    "start_time": "2024-03-12T18:43:13.384Z"
   },
   {
    "duration": 16,
    "start_time": "2024-03-12T18:44:28.248Z"
   },
   {
    "duration": 17,
    "start_time": "2024-03-12T18:44:36.525Z"
   },
   {
    "duration": 17,
    "start_time": "2024-03-12T18:54:41.547Z"
   },
   {
    "duration": 5,
    "start_time": "2024-03-12T18:58:32.765Z"
   },
   {
    "duration": 11,
    "start_time": "2024-03-12T18:58:40.747Z"
   },
   {
    "duration": 1341,
    "start_time": "2024-03-13T05:50:34.682Z"
   },
   {
    "duration": 191,
    "start_time": "2024-03-13T05:50:36.025Z"
   },
   {
    "duration": 12,
    "start_time": "2024-03-13T05:50:36.217Z"
   },
   {
    "duration": 13,
    "start_time": "2024-03-13T05:50:36.230Z"
   },
   {
    "duration": 10,
    "start_time": "2024-03-13T05:50:36.245Z"
   },
   {
    "duration": 33,
    "start_time": "2024-03-13T05:50:36.256Z"
   },
   {
    "duration": 12,
    "start_time": "2024-03-13T05:50:36.291Z"
   },
   {
    "duration": 20,
    "start_time": "2024-03-13T05:50:36.304Z"
   },
   {
    "duration": 180,
    "start_time": "2024-03-13T05:50:36.325Z"
   },
   {
    "duration": 7,
    "start_time": "2024-03-13T05:50:36.506Z"
   },
   {
    "duration": 98,
    "start_time": "2024-03-13T05:50:36.515Z"
   },
   {
    "duration": 364,
    "start_time": "2024-03-13T05:50:36.614Z"
   },
   {
    "duration": 240,
    "start_time": "2024-03-13T05:50:36.980Z"
   },
   {
    "duration": 656,
    "start_time": "2024-03-13T05:50:37.223Z"
   },
   {
    "duration": 587,
    "start_time": "2024-03-13T05:50:37.880Z"
   },
   {
    "duration": 35,
    "start_time": "2024-03-13T05:50:38.468Z"
   },
   {
    "duration": 11,
    "start_time": "2024-03-13T05:50:38.504Z"
   },
   {
    "duration": 5,
    "start_time": "2024-03-13T05:50:38.517Z"
   },
   {
    "duration": 447,
    "start_time": "2024-03-13T05:50:38.523Z"
   },
   {
    "duration": 502,
    "start_time": "2024-03-13T05:50:38.971Z"
   },
   {
    "duration": 14,
    "start_time": "2024-03-13T05:50:44.290Z"
   },
   {
    "duration": 1758,
    "start_time": "2024-03-13T06:04:19.607Z"
   },
   {
    "duration": 2007,
    "start_time": "2024-03-13T06:04:31.502Z"
   },
   {
    "duration": 95,
    "start_time": "2024-03-13T06:04:42.476Z"
   },
   {
    "duration": 12,
    "start_time": "2024-03-13T06:08:02.849Z"
   },
   {
    "duration": 11,
    "start_time": "2024-03-13T06:08:17.938Z"
   },
   {
    "duration": 11,
    "start_time": "2024-03-13T06:08:32.002Z"
   },
   {
    "duration": 1781,
    "start_time": "2024-03-13T06:09:06.552Z"
   },
   {
    "duration": 13,
    "start_time": "2024-03-13T06:10:04.764Z"
   },
   {
    "duration": 1685,
    "start_time": "2024-03-13T06:10:12.890Z"
   },
   {
    "duration": 16,
    "start_time": "2024-03-13T06:11:18.026Z"
   },
   {
    "duration": 21,
    "start_time": "2024-03-13T06:16:04.515Z"
   },
   {
    "duration": 1194,
    "start_time": "2024-03-13T06:17:27.049Z"
   },
   {
    "duration": 20,
    "start_time": "2024-03-13T06:17:46.233Z"
   },
   {
    "duration": 1286,
    "start_time": "2024-03-13T06:18:51.660Z"
   },
   {
    "duration": 20,
    "start_time": "2024-03-13T06:19:10.845Z"
   },
   {
    "duration": 101,
    "start_time": "2024-03-13T06:25:23.803Z"
   },
   {
    "duration": 22,
    "start_time": "2024-03-13T06:25:26.740Z"
   },
   {
    "duration": 23,
    "start_time": "2024-03-13T06:25:40.004Z"
   },
   {
    "duration": 23,
    "start_time": "2024-03-13T06:27:00.040Z"
   },
   {
    "duration": 21,
    "start_time": "2024-03-13T06:28:43.793Z"
   },
   {
    "duration": 22,
    "start_time": "2024-03-13T06:58:21.666Z"
   },
   {
    "duration": 10,
    "start_time": "2024-03-13T06:59:45.578Z"
   },
   {
    "duration": 624,
    "start_time": "2024-03-13T07:00:02.590Z"
   },
   {
    "duration": 671,
    "start_time": "2024-03-13T07:00:37.841Z"
   },
   {
    "duration": 5,
    "start_time": "2024-03-13T07:00:51.653Z"
   },
   {
    "duration": 7,
    "start_time": "2024-03-13T07:01:04.340Z"
   },
   {
    "duration": 426,
    "start_time": "2024-03-13T07:02:04.352Z"
   },
   {
    "duration": 404,
    "start_time": "2024-03-13T07:02:09.081Z"
   },
   {
    "duration": 3,
    "start_time": "2024-03-13T09:51:43.005Z"
   },
   {
    "duration": 7,
    "start_time": "2024-03-13T09:51:51.203Z"
   },
   {
    "duration": 9,
    "start_time": "2024-03-13T09:53:22.524Z"
   },
   {
    "duration": 8,
    "start_time": "2024-03-13T09:53:39.426Z"
   },
   {
    "duration": 10,
    "start_time": "2024-03-13T09:53:48.254Z"
   },
   {
    "duration": 51,
    "start_time": "2024-03-13T15:26:48.776Z"
   },
   {
    "duration": 1508,
    "start_time": "2024-03-13T15:26:53.582Z"
   },
   {
    "duration": 195,
    "start_time": "2024-03-13T15:26:55.092Z"
   },
   {
    "duration": 12,
    "start_time": "2024-03-13T15:26:55.288Z"
   },
   {
    "duration": 26,
    "start_time": "2024-03-13T15:26:55.302Z"
   },
   {
    "duration": 21,
    "start_time": "2024-03-13T15:26:55.330Z"
   },
   {
    "duration": 54,
    "start_time": "2024-03-13T15:26:55.353Z"
   },
   {
    "duration": 18,
    "start_time": "2024-03-13T15:26:55.409Z"
   },
   {
    "duration": 26,
    "start_time": "2024-03-13T15:26:55.428Z"
   },
   {
    "duration": 225,
    "start_time": "2024-03-13T15:26:55.455Z"
   },
   {
    "duration": 9,
    "start_time": "2024-03-13T15:26:55.683Z"
   },
   {
    "duration": 139,
    "start_time": "2024-03-13T15:26:55.694Z"
   },
   {
    "duration": 446,
    "start_time": "2024-03-13T15:26:55.835Z"
   },
   {
    "duration": 276,
    "start_time": "2024-03-13T15:26:56.283Z"
   },
   {
    "duration": 685,
    "start_time": "2024-03-13T15:26:56.560Z"
   },
   {
    "duration": 672,
    "start_time": "2024-03-13T15:26:57.247Z"
   },
   {
    "duration": 25,
    "start_time": "2024-03-13T15:26:57.921Z"
   },
   {
    "duration": 10,
    "start_time": "2024-03-13T15:26:57.948Z"
   },
   {
    "duration": 15,
    "start_time": "2024-03-13T15:26:57.960Z"
   },
   {
    "duration": 458,
    "start_time": "2024-03-13T15:26:57.976Z"
   },
   {
    "duration": 506,
    "start_time": "2024-03-13T15:26:58.435Z"
   },
   {
    "duration": 28,
    "start_time": "2024-03-13T15:26:58.943Z"
   },
   {
    "duration": 9,
    "start_time": "2024-03-13T15:26:58.972Z"
   },
   {
    "duration": 5,
    "start_time": "2024-03-13T15:27:30.956Z"
   },
   {
    "duration": 7,
    "start_time": "2024-03-13T15:34:55.535Z"
   },
   {
    "duration": 7,
    "start_time": "2024-03-13T15:40:04.103Z"
   },
   {
    "duration": 6,
    "start_time": "2024-03-13T15:40:35.302Z"
   },
   {
    "duration": 6,
    "start_time": "2024-03-13T15:40:53.888Z"
   },
   {
    "duration": 70,
    "start_time": "2024-03-13T15:41:12.674Z"
   },
   {
    "duration": 5,
    "start_time": "2024-03-13T15:41:21.319Z"
   },
   {
    "duration": 12,
    "start_time": "2024-03-13T15:41:38.454Z"
   },
   {
    "duration": 9,
    "start_time": "2024-03-13T15:41:53.902Z"
   },
   {
    "duration": 6,
    "start_time": "2024-03-13T15:41:58.002Z"
   },
   {
    "duration": 6,
    "start_time": "2024-03-13T15:42:08.175Z"
   },
   {
    "duration": 9,
    "start_time": "2024-03-13T15:42:16.812Z"
   },
   {
    "duration": 1495,
    "start_time": "2024-03-14T01:37:09.154Z"
   },
   {
    "duration": 6,
    "start_time": "2024-03-14T01:38:36.428Z"
   },
   {
    "duration": 119,
    "start_time": "2024-03-14T01:39:03.676Z"
   },
   {
    "duration": 9,
    "start_time": "2024-03-14T01:39:13.094Z"
   },
   {
    "duration": 8,
    "start_time": "2024-03-14T01:39:18.242Z"
   },
   {
    "duration": 66,
    "start_time": "2024-03-14T10:53:56.298Z"
   },
   {
    "duration": 4,
    "start_time": "2024-03-14T11:10:57.312Z"
   },
   {
    "duration": 53,
    "start_time": "2024-03-14T11:11:00.347Z"
   },
   {
    "duration": 4,
    "start_time": "2024-03-14T11:11:12.112Z"
   },
   {
    "duration": 6,
    "start_time": "2024-03-14T11:11:14.585Z"
   },
   {
    "duration": 1200,
    "start_time": "2024-03-14T11:12:10.958Z"
   },
   {
    "duration": 194,
    "start_time": "2024-03-14T11:12:12.160Z"
   },
   {
    "duration": 10,
    "start_time": "2024-03-14T11:12:12.356Z"
   },
   {
    "duration": 11,
    "start_time": "2024-03-14T11:12:12.367Z"
   },
   {
    "duration": 30,
    "start_time": "2024-03-14T11:12:12.379Z"
   },
   {
    "duration": 25,
    "start_time": "2024-03-14T11:12:12.410Z"
   },
   {
    "duration": 12,
    "start_time": "2024-03-14T11:12:12.436Z"
   },
   {
    "duration": 22,
    "start_time": "2024-03-14T11:12:12.450Z"
   },
   {
    "duration": 169,
    "start_time": "2024-03-14T11:12:12.473Z"
   },
   {
    "duration": 7,
    "start_time": "2024-03-14T11:12:12.645Z"
   },
   {
    "duration": 91,
    "start_time": "2024-03-14T11:12:12.653Z"
   },
   {
    "duration": 378,
    "start_time": "2024-03-14T11:12:12.745Z"
   },
   {
    "duration": 234,
    "start_time": "2024-03-14T11:12:13.124Z"
   },
   {
    "duration": 506,
    "start_time": "2024-03-14T11:12:13.360Z"
   },
   {
    "duration": 584,
    "start_time": "2024-03-14T11:12:13.868Z"
   },
   {
    "duration": 22,
    "start_time": "2024-03-14T11:12:14.453Z"
   },
   {
    "duration": 28,
    "start_time": "2024-03-14T11:12:14.476Z"
   },
   {
    "duration": 5,
    "start_time": "2024-03-14T11:12:14.505Z"
   },
   {
    "duration": 597,
    "start_time": "2024-03-14T11:12:14.512Z"
   },
   {
    "duration": 592,
    "start_time": "2024-03-14T11:12:15.111Z"
   },
   {
    "duration": 23,
    "start_time": "2024-03-14T11:12:15.705Z"
   },
   {
    "duration": 6,
    "start_time": "2024-03-14T11:12:15.730Z"
   },
   {
    "duration": 8,
    "start_time": "2024-03-14T11:12:15.737Z"
   },
   {
    "duration": 8,
    "start_time": "2024-03-14T11:12:15.746Z"
   },
   {
    "duration": 4,
    "start_time": "2024-03-14T11:12:47.257Z"
   },
   {
    "duration": 457,
    "start_time": "2024-03-14T11:12:49.942Z"
   },
   {
    "duration": 4,
    "start_time": "2024-03-14T11:13:05.567Z"
   },
   {
    "duration": 524,
    "start_time": "2024-03-14T11:13:07.680Z"
   },
   {
    "duration": 7,
    "start_time": "2024-03-14T11:25:04.916Z"
   },
   {
    "duration": 6,
    "start_time": "2024-03-14T11:25:09.321Z"
   },
   {
    "duration": 543,
    "start_time": "2024-03-14T11:28:38.151Z"
   },
   {
    "duration": 1005,
    "start_time": "2024-03-14T11:42:55.834Z"
   },
   {
    "duration": 64,
    "start_time": "2024-03-14T11:42:56.840Z"
   },
   {
    "duration": 9,
    "start_time": "2024-03-14T11:42:56.907Z"
   },
   {
    "duration": 6,
    "start_time": "2024-03-14T11:42:56.918Z"
   },
   {
    "duration": 19,
    "start_time": "2024-03-14T11:42:56.925Z"
   },
   {
    "duration": 21,
    "start_time": "2024-03-14T11:42:56.945Z"
   },
   {
    "duration": 12,
    "start_time": "2024-03-14T11:42:56.967Z"
   },
   {
    "duration": 30,
    "start_time": "2024-03-14T11:42:56.980Z"
   },
   {
    "duration": 166,
    "start_time": "2024-03-14T11:42:57.011Z"
   },
   {
    "duration": 10,
    "start_time": "2024-03-14T11:42:57.188Z"
   },
   {
    "duration": 86,
    "start_time": "2024-03-14T11:42:57.202Z"
   },
   {
    "duration": 305,
    "start_time": "2024-03-14T11:42:57.289Z"
   },
   {
    "duration": 219,
    "start_time": "2024-03-14T11:42:57.601Z"
   },
   {
    "duration": 544,
    "start_time": "2024-03-14T11:42:57.821Z"
   },
   {
    "duration": 500,
    "start_time": "2024-03-14T11:42:58.366Z"
   },
   {
    "duration": 21,
    "start_time": "2024-03-14T11:42:58.867Z"
   },
   {
    "duration": 19,
    "start_time": "2024-03-14T11:42:58.889Z"
   },
   {
    "duration": 5,
    "start_time": "2024-03-14T11:42:58.909Z"
   },
   {
    "duration": 496,
    "start_time": "2024-03-14T11:42:58.916Z"
   },
   {
    "duration": 603,
    "start_time": "2024-03-14T11:42:59.413Z"
   },
   {
    "duration": 22,
    "start_time": "2024-03-14T11:43:00.017Z"
   },
   {
    "duration": 66,
    "start_time": "2024-03-14T11:43:00.041Z"
   },
   {
    "duration": 61,
    "start_time": "2024-03-14T11:43:00.108Z"
   },
   {
    "duration": 41,
    "start_time": "2024-03-14T11:43:00.170Z"
   },
   {
    "duration": 10,
    "start_time": "2024-03-14T12:04:28.574Z"
   },
   {
    "duration": 51,
    "start_time": "2024-03-14T14:56:21.928Z"
   },
   {
    "duration": 1410,
    "start_time": "2024-03-14T14:56:26.424Z"
   },
   {
    "duration": 302,
    "start_time": "2024-03-14T14:56:27.836Z"
   },
   {
    "duration": 12,
    "start_time": "2024-03-14T14:56:28.140Z"
   },
   {
    "duration": 10,
    "start_time": "2024-03-14T14:56:28.154Z"
   },
   {
    "duration": 8,
    "start_time": "2024-03-14T14:56:28.165Z"
   },
   {
    "duration": 29,
    "start_time": "2024-03-14T14:56:28.175Z"
   },
   {
    "duration": 75,
    "start_time": "2024-03-14T14:56:35.381Z"
   },
   {
    "duration": 3,
    "start_time": "2024-03-14T14:56:43.744Z"
   },
   {
    "duration": 71,
    "start_time": "2024-03-14T14:56:43.749Z"
   },
   {
    "duration": 9,
    "start_time": "2024-03-14T14:56:43.821Z"
   },
   {
    "duration": 34,
    "start_time": "2024-03-14T14:56:43.832Z"
   },
   {
    "duration": 10,
    "start_time": "2024-03-14T14:56:43.868Z"
   },
   {
    "duration": 23,
    "start_time": "2024-03-14T14:56:43.880Z"
   },
   {
    "duration": 16,
    "start_time": "2024-03-14T14:56:43.904Z"
   },
   {
    "duration": 30,
    "start_time": "2024-03-14T14:56:51.590Z"
   },
   {
    "duration": 26,
    "start_time": "2024-03-14T14:58:27.922Z"
   },
   {
    "duration": 36,
    "start_time": "2024-03-14T14:58:44.291Z"
   },
   {
    "duration": 3,
    "start_time": "2024-03-14T14:59:34.994Z"
   },
   {
    "duration": 6,
    "start_time": "2024-03-14T14:59:48.634Z"
   },
   {
    "duration": 18,
    "start_time": "2024-03-14T15:01:14.714Z"
   },
   {
    "duration": 6,
    "start_time": "2024-03-14T15:01:30.538Z"
   },
   {
    "duration": 8,
    "start_time": "2024-03-14T15:06:40.077Z"
   },
   {
    "duration": 9,
    "start_time": "2024-03-14T15:24:28.352Z"
   },
   {
    "duration": 8,
    "start_time": "2024-03-14T15:24:42.072Z"
   },
   {
    "duration": 4,
    "start_time": "2024-03-14T15:25:09.495Z"
   },
   {
    "duration": 4,
    "start_time": "2024-03-14T15:25:38.719Z"
   },
   {
    "duration": 4,
    "start_time": "2024-03-14T15:25:58.369Z"
   },
   {
    "duration": 40,
    "start_time": "2024-03-14T15:28:09.485Z"
   },
   {
    "duration": 27,
    "start_time": "2024-03-14T15:29:08.013Z"
   },
   {
    "duration": 3,
    "start_time": "2024-03-14T15:30:14.155Z"
   },
   {
    "duration": 16,
    "start_time": "2024-03-14T15:31:05.624Z"
   },
   {
    "duration": 14,
    "start_time": "2024-03-14T15:31:49.211Z"
   },
   {
    "duration": 14,
    "start_time": "2024-03-14T15:32:28.568Z"
   },
   {
    "duration": 13,
    "start_time": "2024-03-14T15:35:49.489Z"
   },
   {
    "duration": 24,
    "start_time": "2024-03-14T15:36:58.942Z"
   },
   {
    "duration": 14,
    "start_time": "2024-03-14T15:37:01.777Z"
   },
   {
    "duration": 24,
    "start_time": "2024-03-14T15:38:26.280Z"
   },
   {
    "duration": 14,
    "start_time": "2024-03-14T15:38:28.360Z"
   },
   {
    "duration": 19,
    "start_time": "2024-03-14T15:42:43.195Z"
   },
   {
    "duration": 18,
    "start_time": "2024-03-14T15:42:54.788Z"
   },
   {
    "duration": 30,
    "start_time": "2024-03-14T15:43:13.801Z"
   },
   {
    "duration": 15,
    "start_time": "2024-03-14T15:43:17.900Z"
   },
   {
    "duration": 14,
    "start_time": "2024-03-14T15:44:01.918Z"
   },
   {
    "duration": 24,
    "start_time": "2024-03-14T15:44:17.046Z"
   },
   {
    "duration": 27,
    "start_time": "2024-03-14T15:45:27.337Z"
   },
   {
    "duration": 26,
    "start_time": "2024-03-14T15:46:00.048Z"
   },
   {
    "duration": 31,
    "start_time": "2024-03-14T15:46:41.659Z"
   },
   {
    "duration": 28,
    "start_time": "2024-03-14T15:47:39.385Z"
   },
   {
    "duration": 4,
    "start_time": "2024-03-14T15:47:48.404Z"
   },
   {
    "duration": 28,
    "start_time": "2024-03-14T15:48:00.395Z"
   },
   {
    "duration": 22,
    "start_time": "2024-03-14T15:48:02.190Z"
   },
   {
    "duration": 19,
    "start_time": "2024-03-14T15:49:16.834Z"
   },
   {
    "duration": 27,
    "start_time": "2024-03-14T15:51:24.267Z"
   },
   {
    "duration": 12,
    "start_time": "2024-03-14T15:51:50.518Z"
   },
   {
    "duration": 21,
    "start_time": "2024-03-14T15:52:06.302Z"
   },
   {
    "duration": 7,
    "start_time": "2024-03-14T15:52:13.959Z"
   },
   {
    "duration": 33,
    "start_time": "2024-03-14T15:52:30.015Z"
   },
   {
    "duration": 24,
    "start_time": "2024-03-14T15:52:40.855Z"
   },
   {
    "duration": 21,
    "start_time": "2024-03-14T15:53:06.694Z"
   },
   {
    "duration": 26,
    "start_time": "2024-03-14T15:53:10.601Z"
   },
   {
    "duration": 26,
    "start_time": "2024-03-14T15:53:14.640Z"
   },
   {
    "duration": 34,
    "start_time": "2024-03-14T15:53:33.535Z"
   },
   {
    "duration": 25,
    "start_time": "2024-03-14T15:54:55.386Z"
   },
   {
    "duration": 7,
    "start_time": "2024-03-14T15:55:14.646Z"
   },
   {
    "duration": 8,
    "start_time": "2024-03-14T15:55:26.660Z"
   },
   {
    "duration": 18,
    "start_time": "2024-03-14T15:55:32.084Z"
   },
   {
    "duration": 7,
    "start_time": "2024-03-14T15:55:35.442Z"
   },
   {
    "duration": 9,
    "start_time": "2024-03-14T16:02:46.370Z"
   },
   {
    "duration": 13,
    "start_time": "2024-03-14T16:02:53.148Z"
   },
   {
    "duration": 19,
    "start_time": "2024-03-14T16:03:49.524Z"
   },
   {
    "duration": 11,
    "start_time": "2024-03-14T16:05:34.841Z"
   },
   {
    "duration": 11,
    "start_time": "2024-03-14T16:05:54.368Z"
   },
   {
    "duration": 6,
    "start_time": "2024-03-14T16:09:06.901Z"
   },
   {
    "duration": 23,
    "start_time": "2024-03-14T16:11:40.927Z"
   },
   {
    "duration": 13,
    "start_time": "2024-03-14T16:13:26.143Z"
   },
   {
    "duration": 10,
    "start_time": "2024-03-14T16:13:43.587Z"
   },
   {
    "duration": 24,
    "start_time": "2024-03-14T16:13:56.163Z"
   },
   {
    "duration": 4,
    "start_time": "2024-03-14T16:14:18.536Z"
   },
   {
    "duration": 5,
    "start_time": "2024-03-14T16:14:28.468Z"
   },
   {
    "duration": 3,
    "start_time": "2024-03-14T16:14:34.351Z"
   },
   {
    "duration": 72,
    "start_time": "2024-03-14T16:14:34.356Z"
   },
   {
    "duration": 8,
    "start_time": "2024-03-14T16:14:34.430Z"
   },
   {
    "duration": 9,
    "start_time": "2024-03-14T16:14:34.440Z"
   },
   {
    "duration": 7,
    "start_time": "2024-03-14T16:14:34.451Z"
   },
   {
    "duration": 23,
    "start_time": "2024-03-14T16:14:34.459Z"
   },
   {
    "duration": 20,
    "start_time": "2024-03-14T16:14:34.484Z"
   },
   {
    "duration": 27,
    "start_time": "2024-03-14T16:14:34.505Z"
   },
   {
    "duration": 6,
    "start_time": "2024-03-14T16:14:34.534Z"
   },
   {
    "duration": 240,
    "start_time": "2024-03-14T16:14:34.541Z"
   },
   {
    "duration": 10,
    "start_time": "2024-03-14T16:14:34.783Z"
   },
   {
    "duration": 116,
    "start_time": "2024-03-14T16:14:34.794Z"
   },
   {
    "duration": 434,
    "start_time": "2024-03-14T16:14:34.911Z"
   },
   {
    "duration": 293,
    "start_time": "2024-03-14T16:14:35.348Z"
   },
   {
    "duration": 8,
    "start_time": "2024-03-14T16:14:35.643Z"
   },
   {
    "duration": 672,
    "start_time": "2024-03-14T16:14:35.652Z"
   },
   {
    "duration": 650,
    "start_time": "2024-03-14T16:14:36.325Z"
   },
   {
    "duration": 7,
    "start_time": "2024-03-14T16:14:36.981Z"
   },
   {
    "duration": 7,
    "start_time": "2024-03-14T16:14:47.428Z"
   },
   {
    "duration": 3,
    "start_time": "2024-03-14T16:14:53.074Z"
   },
   {
    "duration": 79,
    "start_time": "2024-03-14T16:14:53.079Z"
   },
   {
    "duration": 9,
    "start_time": "2024-03-14T16:14:53.160Z"
   },
   {
    "duration": 24,
    "start_time": "2024-03-14T16:14:53.171Z"
   },
   {
    "duration": 26,
    "start_time": "2024-03-14T16:14:53.197Z"
   },
   {
    "duration": 47,
    "start_time": "2024-03-14T16:14:53.225Z"
   },
   {
    "duration": 24,
    "start_time": "2024-03-14T16:14:53.274Z"
   },
   {
    "duration": 23,
    "start_time": "2024-03-14T16:14:53.299Z"
   },
   {
    "duration": 6,
    "start_time": "2024-03-14T16:14:53.324Z"
   },
   {
    "duration": 204,
    "start_time": "2024-03-14T16:14:53.331Z"
   },
   {
    "duration": 8,
    "start_time": "2024-03-14T16:14:53.537Z"
   },
   {
    "duration": 115,
    "start_time": "2024-03-14T16:14:53.547Z"
   },
   {
    "duration": 353,
    "start_time": "2024-03-14T16:14:53.664Z"
   },
   {
    "duration": 294,
    "start_time": "2024-03-14T16:14:54.019Z"
   },
   {
    "duration": 8,
    "start_time": "2024-03-14T16:14:54.315Z"
   },
   {
    "duration": 682,
    "start_time": "2024-03-14T16:14:54.324Z"
   },
   {
    "duration": 591,
    "start_time": "2024-03-14T16:14:55.007Z"
   },
   {
    "duration": 6,
    "start_time": "2024-03-14T16:14:55.600Z"
   },
   {
    "duration": 25,
    "start_time": "2024-03-14T16:15:27.103Z"
   },
   {
    "duration": 3,
    "start_time": "2024-03-14T16:15:46.915Z"
   },
   {
    "duration": 78,
    "start_time": "2024-03-14T16:15:46.920Z"
   },
   {
    "duration": 11,
    "start_time": "2024-03-14T16:15:47.000Z"
   },
   {
    "duration": 11,
    "start_time": "2024-03-14T16:15:47.013Z"
   },
   {
    "duration": 9,
    "start_time": "2024-03-14T16:15:47.027Z"
   },
   {
    "duration": 42,
    "start_time": "2024-03-14T16:15:47.038Z"
   },
   {
    "duration": 24,
    "start_time": "2024-03-14T16:15:47.082Z"
   },
   {
    "duration": 24,
    "start_time": "2024-03-14T16:15:47.108Z"
   },
   {
    "duration": 6,
    "start_time": "2024-03-14T16:15:47.134Z"
   },
   {
    "duration": 217,
    "start_time": "2024-03-14T16:15:47.142Z"
   },
   {
    "duration": 9,
    "start_time": "2024-03-14T16:15:47.361Z"
   },
   {
    "duration": 114,
    "start_time": "2024-03-14T16:15:47.372Z"
   },
   {
    "duration": 330,
    "start_time": "2024-03-14T16:15:47.487Z"
   },
   {
    "duration": 272,
    "start_time": "2024-03-14T16:15:47.819Z"
   },
   {
    "duration": 7,
    "start_time": "2024-03-14T16:15:48.093Z"
   },
   {
    "duration": 690,
    "start_time": "2024-03-14T16:15:48.102Z"
   },
   {
    "duration": 602,
    "start_time": "2024-03-14T16:15:48.794Z"
   },
   {
    "duration": 3,
    "start_time": "2024-03-14T16:15:49.398Z"
   },
   {
    "duration": 24,
    "start_time": "2024-03-14T16:15:52.524Z"
   },
   {
    "duration": 3,
    "start_time": "2024-03-14T16:16:15.281Z"
   },
   {
    "duration": 25,
    "start_time": "2024-03-14T16:16:19.277Z"
   },
   {
    "duration": 8,
    "start_time": "2024-03-14T16:16:36.347Z"
   },
   {
    "duration": 7,
    "start_time": "2024-03-14T16:17:11.195Z"
   },
   {
    "duration": 12,
    "start_time": "2024-03-14T16:17:15.003Z"
   },
   {
    "duration": 3,
    "start_time": "2024-03-14T16:17:48.717Z"
   },
   {
    "duration": 74,
    "start_time": "2024-03-14T16:17:48.722Z"
   },
   {
    "duration": 8,
    "start_time": "2024-03-14T16:17:48.797Z"
   },
   {
    "duration": 11,
    "start_time": "2024-03-14T16:17:48.806Z"
   },
   {
    "duration": 9,
    "start_time": "2024-03-14T16:17:48.820Z"
   },
   {
    "duration": 23,
    "start_time": "2024-03-14T16:17:48.831Z"
   },
   {
    "duration": 45,
    "start_time": "2024-03-14T16:17:48.856Z"
   },
   {
    "duration": 28,
    "start_time": "2024-03-14T16:17:48.903Z"
   },
   {
    "duration": 6,
    "start_time": "2024-03-14T16:17:48.932Z"
   },
   {
    "duration": 210,
    "start_time": "2024-03-14T16:17:48.940Z"
   },
   {
    "duration": 9,
    "start_time": "2024-03-14T16:17:49.153Z"
   },
   {
    "duration": 518,
    "start_time": "2024-03-14T16:17:49.163Z"
   },
   {
    "duration": 330,
    "start_time": "2024-03-14T16:17:49.682Z"
   },
   {
    "duration": 289,
    "start_time": "2024-03-14T16:17:50.014Z"
   },
   {
    "duration": 9,
    "start_time": "2024-03-14T16:17:50.304Z"
   },
   {
    "duration": 698,
    "start_time": "2024-03-14T16:17:50.315Z"
   },
   {
    "duration": 682,
    "start_time": "2024-03-14T16:17:51.015Z"
   },
   {
    "duration": 4,
    "start_time": "2024-03-14T16:17:51.699Z"
   },
   {
    "duration": 37,
    "start_time": "2024-03-14T16:17:51.705Z"
   },
   {
    "duration": 8,
    "start_time": "2024-03-14T16:17:51.743Z"
   },
   {
    "duration": 13,
    "start_time": "2024-03-14T16:17:51.752Z"
   },
   {
    "duration": 18,
    "start_time": "2024-03-14T16:17:51.766Z"
   },
   {
    "duration": 638,
    "start_time": "2024-03-14T16:17:51.786Z"
   },
   {
    "duration": 600,
    "start_time": "2024-03-14T16:17:52.426Z"
   },
   {
    "duration": 29,
    "start_time": "2024-03-14T16:19:25.055Z"
   },
   {
    "duration": 29,
    "start_time": "2024-03-14T16:20:17.157Z"
   },
   {
    "duration": 121,
    "start_time": "2024-03-14T16:20:51.599Z"
   },
   {
    "duration": 31,
    "start_time": "2024-03-14T16:21:10.492Z"
   },
   {
    "duration": 31,
    "start_time": "2024-03-14T16:22:30.106Z"
   },
   {
    "duration": 1566,
    "start_time": "2024-03-14T16:22:50.434Z"
   },
   {
    "duration": 11,
    "start_time": "2024-03-14T16:23:41.562Z"
   },
   {
    "duration": 13,
    "start_time": "2024-03-14T16:28:17.774Z"
   },
   {
    "duration": 1559,
    "start_time": "2024-03-14T16:28:43.884Z"
   },
   {
    "duration": 6,
    "start_time": "2024-03-14T16:29:00.484Z"
   },
   {
    "duration": 1479,
    "start_time": "2024-03-14T16:51:31.599Z"
   },
   {
    "duration": 8,
    "start_time": "2024-03-14T16:51:52.812Z"
   },
   {
    "duration": 6,
    "start_time": "2024-03-14T17:00:44.458Z"
   },
   {
    "duration": 10,
    "start_time": "2024-03-14T17:00:51.584Z"
   },
   {
    "duration": 10,
    "start_time": "2024-03-14T17:01:14.234Z"
   },
   {
    "duration": 12,
    "start_time": "2024-03-14T17:01:17.981Z"
   },
   {
    "duration": 13,
    "start_time": "2024-03-14T17:06:30.378Z"
   },
   {
    "duration": 9,
    "start_time": "2024-03-14T17:10:07.946Z"
   },
   {
    "duration": 8,
    "start_time": "2024-03-14T17:10:35.316Z"
   },
   {
    "duration": 11,
    "start_time": "2024-03-14T17:12:11.935Z"
   },
   {
    "duration": 11,
    "start_time": "2024-03-14T17:12:38.845Z"
   },
   {
    "duration": 13,
    "start_time": "2024-03-14T17:13:07.397Z"
   },
   {
    "duration": 12,
    "start_time": "2024-03-14T17:49:16.509Z"
   },
   {
    "duration": 4,
    "start_time": "2024-03-14T17:49:29.344Z"
   },
   {
    "duration": 12,
    "start_time": "2024-03-14T17:49:37.128Z"
   },
   {
    "duration": 11,
    "start_time": "2024-03-14T17:50:04.208Z"
   },
   {
    "duration": 1406,
    "start_time": "2024-03-15T06:40:08.854Z"
   },
   {
    "duration": 70,
    "start_time": "2024-03-15T06:40:10.262Z"
   },
   {
    "duration": 11,
    "start_time": "2024-03-15T06:40:10.334Z"
   },
   {
    "duration": 14,
    "start_time": "2024-03-15T06:40:10.347Z"
   },
   {
    "duration": 18,
    "start_time": "2024-03-15T06:40:10.363Z"
   },
   {
    "duration": 34,
    "start_time": "2024-03-15T06:40:10.382Z"
   },
   {
    "duration": 23,
    "start_time": "2024-03-15T06:40:10.418Z"
   },
   {
    "duration": 50,
    "start_time": "2024-03-15T06:40:10.442Z"
   },
   {
    "duration": 6,
    "start_time": "2024-03-15T06:40:10.494Z"
   },
   {
    "duration": 230,
    "start_time": "2024-03-15T06:40:10.503Z"
   },
   {
    "duration": 9,
    "start_time": "2024-03-15T06:40:10.735Z"
   },
   {
    "duration": 117,
    "start_time": "2024-03-15T06:40:10.745Z"
   },
   {
    "duration": 366,
    "start_time": "2024-03-15T06:40:10.864Z"
   },
   {
    "duration": 308,
    "start_time": "2024-03-15T06:40:11.232Z"
   },
   {
    "duration": 8,
    "start_time": "2024-03-15T06:40:11.541Z"
   },
   {
    "duration": 686,
    "start_time": "2024-03-15T06:40:11.550Z"
   },
   {
    "duration": 705,
    "start_time": "2024-03-15T06:40:12.238Z"
   },
   {
    "duration": 4,
    "start_time": "2024-03-15T06:40:12.944Z"
   },
   {
    "duration": 43,
    "start_time": "2024-03-15T06:40:12.950Z"
   },
   {
    "duration": 8,
    "start_time": "2024-03-15T06:40:12.996Z"
   },
   {
    "duration": 12,
    "start_time": "2024-03-15T06:40:13.006Z"
   },
   {
    "duration": 6,
    "start_time": "2024-03-15T06:40:13.020Z"
   },
   {
    "duration": 702,
    "start_time": "2024-03-15T06:40:13.028Z"
   },
   {
    "duration": 722,
    "start_time": "2024-03-15T06:40:13.732Z"
   },
   {
    "duration": 38,
    "start_time": "2024-03-15T06:40:14.456Z"
   },
   {
    "duration": 5,
    "start_time": "2024-03-15T06:40:14.496Z"
   },
   {
    "duration": 12,
    "start_time": "2024-03-15T06:40:14.503Z"
   },
   {
    "duration": 9,
    "start_time": "2024-03-15T06:40:14.517Z"
   },
   {
    "duration": 1266,
    "start_time": "2024-03-15T06:40:34.985Z"
   },
   {
    "duration": 69,
    "start_time": "2024-03-15T06:40:36.253Z"
   },
   {
    "duration": 13,
    "start_time": "2024-03-15T06:40:36.324Z"
   },
   {
    "duration": 8,
    "start_time": "2024-03-15T06:40:36.339Z"
   },
   {
    "duration": 10,
    "start_time": "2024-03-15T06:40:36.350Z"
   },
   {
    "duration": 26,
    "start_time": "2024-03-15T06:40:36.362Z"
   },
   {
    "duration": 24,
    "start_time": "2024-03-15T06:40:36.390Z"
   },
   {
    "duration": 26,
    "start_time": "2024-03-15T06:40:36.416Z"
   },
   {
    "duration": 7,
    "start_time": "2024-03-15T06:40:36.444Z"
   },
   {
    "duration": 250,
    "start_time": "2024-03-15T06:40:36.452Z"
   },
   {
    "duration": 10,
    "start_time": "2024-03-15T06:40:36.704Z"
   },
   {
    "duration": 117,
    "start_time": "2024-03-15T06:40:36.716Z"
   },
   {
    "duration": 379,
    "start_time": "2024-03-15T06:40:36.835Z"
   },
   {
    "duration": 291,
    "start_time": "2024-03-15T06:40:37.218Z"
   },
   {
    "duration": 9,
    "start_time": "2024-03-15T06:40:37.512Z"
   },
   {
    "duration": 763,
    "start_time": "2024-03-15T06:40:37.523Z"
   },
   {
    "duration": 610,
    "start_time": "2024-03-15T06:40:38.288Z"
   },
   {
    "duration": 4,
    "start_time": "2024-03-15T06:40:38.901Z"
   },
   {
    "duration": 31,
    "start_time": "2024-03-15T06:40:38.906Z"
   },
   {
    "duration": 7,
    "start_time": "2024-03-15T06:40:38.939Z"
   },
   {
    "duration": 12,
    "start_time": "2024-03-15T06:40:38.948Z"
   },
   {
    "duration": 7,
    "start_time": "2024-03-15T06:40:38.981Z"
   },
   {
    "duration": 662,
    "start_time": "2024-03-15T06:40:38.990Z"
   },
   {
    "duration": 671,
    "start_time": "2024-03-15T06:40:39.654Z"
   },
   {
    "duration": 30,
    "start_time": "2024-03-15T06:40:40.327Z"
   },
   {
    "duration": 23,
    "start_time": "2024-03-15T06:40:40.359Z"
   },
   {
    "duration": 8,
    "start_time": "2024-03-15T06:40:40.384Z"
   },
   {
    "duration": 8,
    "start_time": "2024-03-15T06:40:40.394Z"
   },
   {
    "duration": 11,
    "start_time": "2024-03-15T06:44:18.605Z"
   },
   {
    "duration": 47,
    "start_time": "2024-03-15T14:12:42.492Z"
   },
   {
    "duration": 1508,
    "start_time": "2024-03-15T14:12:48.700Z"
   },
   {
    "duration": 191,
    "start_time": "2024-03-15T14:12:50.210Z"
   },
   {
    "duration": 12,
    "start_time": "2024-03-15T14:12:50.403Z"
   },
   {
    "duration": 18,
    "start_time": "2024-03-15T14:12:50.417Z"
   },
   {
    "duration": 8,
    "start_time": "2024-03-15T14:12:50.437Z"
   },
   {
    "duration": 33,
    "start_time": "2024-03-15T14:12:50.446Z"
   },
   {
    "duration": 23,
    "start_time": "2024-03-15T14:12:50.480Z"
   },
   {
    "duration": 24,
    "start_time": "2024-03-15T14:12:50.504Z"
   },
   {
    "duration": 6,
    "start_time": "2024-03-15T14:12:50.530Z"
   },
   {
    "duration": 242,
    "start_time": "2024-03-15T14:12:50.560Z"
   },
   {
    "duration": 9,
    "start_time": "2024-03-15T14:12:50.804Z"
   },
   {
    "duration": 121,
    "start_time": "2024-03-15T14:12:50.814Z"
   },
   {
    "duration": 404,
    "start_time": "2024-03-15T14:12:50.937Z"
   },
   {
    "duration": 291,
    "start_time": "2024-03-15T14:12:51.342Z"
   },
   {
    "duration": 8,
    "start_time": "2024-03-15T14:12:51.635Z"
   },
   {
    "duration": 762,
    "start_time": "2024-03-15T14:12:51.644Z"
   },
   {
    "duration": 673,
    "start_time": "2024-03-15T14:12:52.409Z"
   },
   {
    "duration": 4,
    "start_time": "2024-03-15T14:12:53.083Z"
   },
   {
    "duration": 33,
    "start_time": "2024-03-15T14:12:53.089Z"
   },
   {
    "duration": 8,
    "start_time": "2024-03-15T14:12:53.124Z"
   },
   {
    "duration": 34,
    "start_time": "2024-03-15T14:12:53.133Z"
   },
   {
    "duration": 6,
    "start_time": "2024-03-15T14:12:53.170Z"
   },
   {
    "duration": 636,
    "start_time": "2024-03-15T14:12:53.178Z"
   },
   {
    "duration": 700,
    "start_time": "2024-03-15T14:12:53.815Z"
   },
   {
    "duration": 29,
    "start_time": "2024-03-15T14:12:54.517Z"
   },
   {
    "duration": 16,
    "start_time": "2024-03-15T14:12:54.547Z"
   },
   {
    "duration": 9,
    "start_time": "2024-03-15T14:12:54.568Z"
   },
   {
    "duration": 15,
    "start_time": "2024-03-15T14:12:54.580Z"
   },
   {
    "duration": 10,
    "start_time": "2024-03-15T14:40:47.232Z"
   },
   {
    "duration": 12,
    "start_time": "2024-03-15T14:41:50.711Z"
   },
   {
    "duration": 1157,
    "start_time": "2024-03-15T15:35:18.684Z"
   },
   {
    "duration": 190,
    "start_time": "2024-03-15T15:35:19.842Z"
   },
   {
    "duration": 11,
    "start_time": "2024-03-15T15:35:20.034Z"
   },
   {
    "duration": 27,
    "start_time": "2024-03-15T15:35:20.046Z"
   },
   {
    "duration": 15,
    "start_time": "2024-03-15T15:35:20.074Z"
   },
   {
    "duration": 42,
    "start_time": "2024-03-15T15:35:20.091Z"
   },
   {
    "duration": 19,
    "start_time": "2024-03-15T15:35:20.134Z"
   },
   {
    "duration": 22,
    "start_time": "2024-03-15T15:35:20.155Z"
   },
   {
    "duration": 25,
    "start_time": "2024-03-15T15:35:20.178Z"
   },
   {
    "duration": 229,
    "start_time": "2024-03-15T15:35:20.206Z"
   },
   {
    "duration": 8,
    "start_time": "2024-03-15T15:35:20.436Z"
   },
   {
    "duration": 95,
    "start_time": "2024-03-15T15:35:20.445Z"
   },
   {
    "duration": 323,
    "start_time": "2024-03-15T15:35:20.541Z"
   },
   {
    "duration": 232,
    "start_time": "2024-03-15T15:35:20.865Z"
   },
   {
    "duration": 7,
    "start_time": "2024-03-15T15:35:21.099Z"
   },
   {
    "duration": 573,
    "start_time": "2024-03-15T15:35:21.107Z"
   },
   {
    "duration": 574,
    "start_time": "2024-03-15T15:35:21.682Z"
   },
   {
    "duration": 2,
    "start_time": "2024-03-15T15:35:22.258Z"
   },
   {
    "duration": 34,
    "start_time": "2024-03-15T15:35:22.262Z"
   },
   {
    "duration": 7,
    "start_time": "2024-03-15T15:35:22.298Z"
   },
   {
    "duration": 18,
    "start_time": "2024-03-15T15:35:22.307Z"
   },
   {
    "duration": 5,
    "start_time": "2024-03-15T15:35:22.326Z"
   },
   {
    "duration": 570,
    "start_time": "2024-03-15T15:35:22.333Z"
   },
   {
    "duration": 600,
    "start_time": "2024-03-15T15:35:22.905Z"
   },
   {
    "duration": 23,
    "start_time": "2024-03-15T15:35:23.506Z"
   },
   {
    "duration": 4,
    "start_time": "2024-03-15T15:35:23.531Z"
   },
   {
    "duration": 10,
    "start_time": "2024-03-15T15:35:23.536Z"
   },
   {
    "duration": 7,
    "start_time": "2024-03-15T15:35:23.548Z"
   }
  ],
  "kernelspec": {
   "display_name": "Python 3 (ipykernel)",
   "language": "python",
   "name": "python3"
  },
  "language_info": {
   "codemirror_mode": {
    "name": "ipython",
    "version": 3
   },
   "file_extension": ".py",
   "mimetype": "text/x-python",
   "name": "python",
   "nbconvert_exporter": "python",
   "pygments_lexer": "ipython3",
   "version": "3.10.9"
  },
  "toc": {
   "base_numbering": 1,
   "nav_menu": {},
   "number_sections": true,
   "sideBar": true,
   "skip_h1_title": true,
   "title_cell": "Table of Contents",
   "title_sidebar": "Contents",
   "toc_cell": false,
   "toc_position": {},
   "toc_section_display": true,
   "toc_window_display": false
  }
 },
 "nbformat": 4,
 "nbformat_minor": 5
}
