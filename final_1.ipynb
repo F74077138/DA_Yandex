{
 "cells": [
  {
   "cell_type": "markdown",
   "metadata": {
    "id": "sIfNaMOxgFyK"
   },
   "source": [
    "## Исследование данных о российском кинопрокате\n",
    "\n"
   ]
  },
  {
   "cell_type": "markdown",
   "metadata": {
    "id": "3bSlkCsbgFyL"
   },
   "source": [
    "### Шаг 1. Откройте файлы с данными и объедините их в один датафрейм. \n",
    "\n",
    "Объедините данные таким образом, чтобы все объекты из датасета `mkrf_movies` обязательно вошли в получившийся датафрейм. \n",
    "\n",
    "<div id=\"accordion\">\n",
    "    <div class=\"card\">\n",
    "        <div class=\"card-header\" id=\"headingThree\">\n",
    "            <button class=\"btn btn-link collapsed\" data-toggle=\"collapse\" data-target=\"#collapseHint_0\" aria-expanded=\"false\" aria-controls=\"collapseHint_0\">Подсказка</button>\n",
    "        </div>\n",
    "        <div id=\"collapseHint_0\" class=\"collapse\" aria-labelledby=\"headingThree\" data-parent=\"#accordion\">\n",
    "            <div class=\"card-body\">\n",
    "Обратите внимание на тип данных столбца, по которому будете соединять датафреймы. Тип данных этих столбцов должен быть одинаковым в обоих датафреймах.\n",
    "            </div>\n",
    "        </div>\n",
    "    </div>\n",
    "</div>"
   ]
  },
  {
   "cell_type": "code",
   "execution_count": 1,
   "metadata": {
    "id": "dw87FlzMgFyM"
   },
   "outputs": [],
   "source": [
    "import pandas as pd\n",
    "import matplotlib.pyplot as plt"
   ]
  },
  {
   "cell_type": "code",
   "execution_count": 2,
   "metadata": {},
   "outputs": [],
   "source": [
    "data1 = pd.read_csv('datasets/mkrf_movies.csv')\n",
    "data2 = pd.read_csv('datasets/mkrf_shows.csv')"
   ]
  },
  {
   "cell_type": "code",
   "execution_count": 3,
   "metadata": {},
   "outputs": [
    {
     "name": "stdout",
     "output_type": "stream",
     "text": [
      "<class 'pandas.core.frame.DataFrame'>\n",
      "RangeIndex: 7486 entries, 0 to 7485\n",
      "Data columns (total 15 columns):\n",
      " #   Column                 Non-Null Count  Dtype  \n",
      "---  ------                 --------------  -----  \n",
      " 0   title                  7486 non-null   object \n",
      " 1   puNumber               7486 non-null   object \n",
      " 2   show_start_date        7486 non-null   object \n",
      " 3   type                   7486 non-null   object \n",
      " 4   film_studio            7468 non-null   object \n",
      " 5   production_country     7484 non-null   object \n",
      " 6   director               7477 non-null   object \n",
      " 7   producer               6918 non-null   object \n",
      " 8   age_restriction        7486 non-null   object \n",
      " 9   refundable_support     332 non-null    float64\n",
      " 10  nonrefundable_support  332 non-null    float64\n",
      " 11  budget                 332 non-null    float64\n",
      " 12  financing_source       332 non-null    object \n",
      " 13  ratings                6519 non-null   object \n",
      " 14  genres                 6510 non-null   object \n",
      "dtypes: float64(3), object(12)\n",
      "memory usage: 877.4+ KB\n",
      "None\n"
     ]
    },
    {
     "data": {
      "text/html": [
       "<div>\n",
       "<style scoped>\n",
       "    .dataframe tbody tr th:only-of-type {\n",
       "        vertical-align: middle;\n",
       "    }\n",
       "\n",
       "    .dataframe tbody tr th {\n",
       "        vertical-align: top;\n",
       "    }\n",
       "\n",
       "    .dataframe thead th {\n",
       "        text-align: right;\n",
       "    }\n",
       "</style>\n",
       "<table border=\"1\" class=\"dataframe\">\n",
       "  <thead>\n",
       "    <tr style=\"text-align: right;\">\n",
       "      <th></th>\n",
       "      <th>title</th>\n",
       "      <th>puNumber</th>\n",
       "      <th>show_start_date</th>\n",
       "      <th>type</th>\n",
       "      <th>film_studio</th>\n",
       "      <th>production_country</th>\n",
       "      <th>director</th>\n",
       "      <th>producer</th>\n",
       "      <th>age_restriction</th>\n",
       "      <th>refundable_support</th>\n",
       "      <th>nonrefundable_support</th>\n",
       "      <th>budget</th>\n",
       "      <th>financing_source</th>\n",
       "      <th>ratings</th>\n",
       "      <th>genres</th>\n",
       "    </tr>\n",
       "  </thead>\n",
       "  <tbody>\n",
       "    <tr>\n",
       "      <th>0</th>\n",
       "      <td>Открытый простор</td>\n",
       "      <td>221048915</td>\n",
       "      <td>2015-11-27T12:00:00.000Z</td>\n",
       "      <td>Художественный</td>\n",
       "      <td>Тачстоун Пикчерз, Кобальт Пикчерз, Бикон Пикче...</td>\n",
       "      <td>США</td>\n",
       "      <td>Кевин Костнер</td>\n",
       "      <td>Дэвид Валдес, Кевин Костнер, Джейк Эбертс</td>\n",
       "      <td>«18+» - запрещено для детей</td>\n",
       "      <td>NaN</td>\n",
       "      <td>NaN</td>\n",
       "      <td>NaN</td>\n",
       "      <td>NaN</td>\n",
       "      <td>7.2</td>\n",
       "      <td>боевик,драма,мелодрама</td>\n",
       "    </tr>\n",
       "    <tr>\n",
       "      <th>1</th>\n",
       "      <td>Особо важное задание</td>\n",
       "      <td>111013716</td>\n",
       "      <td>2016-09-13T12:00:00.000Z</td>\n",
       "      <td>Художественный</td>\n",
       "      <td>Киностудия \"Мосфильм\"</td>\n",
       "      <td>СССР</td>\n",
       "      <td>Е.Матвеев</td>\n",
       "      <td>NaN</td>\n",
       "      <td>«6+» - для детей старше 6 лет</td>\n",
       "      <td>NaN</td>\n",
       "      <td>NaN</td>\n",
       "      <td>NaN</td>\n",
       "      <td>NaN</td>\n",
       "      <td>6.6</td>\n",
       "      <td>драма,военный</td>\n",
       "    </tr>\n",
       "    <tr>\n",
       "      <th>2</th>\n",
       "      <td>Особо опасен</td>\n",
       "      <td>221038416</td>\n",
       "      <td>2016-10-10T12:00:00.000Z</td>\n",
       "      <td>Художественный</td>\n",
       "      <td>Юниверсал Пикчерз, Кикстарт Продакшнз, Марк Пл...</td>\n",
       "      <td>США</td>\n",
       "      <td>Тимур Бекмамбетов</td>\n",
       "      <td>Джим Лемли, Джейсон Нетер, Марк Е.Платт, Яйн Смит</td>\n",
       "      <td>«18+» - запрещено для детей</td>\n",
       "      <td>NaN</td>\n",
       "      <td>NaN</td>\n",
       "      <td>NaN</td>\n",
       "      <td>NaN</td>\n",
       "      <td>6.8</td>\n",
       "      <td>фантастика,боевик,триллер</td>\n",
       "    </tr>\n",
       "    <tr>\n",
       "      <th>3</th>\n",
       "      <td>Особо опасен</td>\n",
       "      <td>221026916</td>\n",
       "      <td>2016-06-10T12:00:00.000Z</td>\n",
       "      <td>Художественный</td>\n",
       "      <td>Юниверсал Пикчерз, Кикстарт Продакшнз, Марк Пл...</td>\n",
       "      <td>США</td>\n",
       "      <td>Тимур Бекмамбетов</td>\n",
       "      <td>Джим Лемли, Джейсон Нетер, Марк Е.Платт, Яйн Смит</td>\n",
       "      <td>«18+» - запрещено для детей</td>\n",
       "      <td>NaN</td>\n",
       "      <td>NaN</td>\n",
       "      <td>NaN</td>\n",
       "      <td>NaN</td>\n",
       "      <td>6.8</td>\n",
       "      <td>фантастика,боевик,триллер</td>\n",
       "    </tr>\n",
       "    <tr>\n",
       "      <th>4</th>\n",
       "      <td>Особо опасен</td>\n",
       "      <td>221030815</td>\n",
       "      <td>2015-07-29T12:00:00.000Z</td>\n",
       "      <td>Художественный</td>\n",
       "      <td>Юниверсал Пикчерз, Кикстарт Продакшнз, Марк Пл...</td>\n",
       "      <td>США</td>\n",
       "      <td>Тимур Бекмамбетов</td>\n",
       "      <td>Джим Лемли, Джейсон Нетер, Марк Е.Платт, Яйн Смит</td>\n",
       "      <td>«18+» - запрещено для детей</td>\n",
       "      <td>NaN</td>\n",
       "      <td>NaN</td>\n",
       "      <td>NaN</td>\n",
       "      <td>NaN</td>\n",
       "      <td>6.8</td>\n",
       "      <td>фантастика,боевик,триллер</td>\n",
       "    </tr>\n",
       "  </tbody>\n",
       "</table>\n",
       "</div>"
      ],
      "text/plain": [
       "                  title   puNumber           show_start_date            type  \\\n",
       "0      Открытый простор  221048915  2015-11-27T12:00:00.000Z  Художественный   \n",
       "1  Особо важное задание  111013716  2016-09-13T12:00:00.000Z  Художественный   \n",
       "2          Особо опасен  221038416  2016-10-10T12:00:00.000Z  Художественный   \n",
       "3          Особо опасен  221026916  2016-06-10T12:00:00.000Z  Художественный   \n",
       "4          Особо опасен  221030815  2015-07-29T12:00:00.000Z  Художественный   \n",
       "\n",
       "                                         film_studio production_country  \\\n",
       "0  Тачстоун Пикчерз, Кобальт Пикчерз, Бикон Пикче...                США   \n",
       "1                              Киностудия \"Мосфильм\"               СССР   \n",
       "2  Юниверсал Пикчерз, Кикстарт Продакшнз, Марк Пл...                США   \n",
       "3  Юниверсал Пикчерз, Кикстарт Продакшнз, Марк Пл...                США   \n",
       "4  Юниверсал Пикчерз, Кикстарт Продакшнз, Марк Пл...                США   \n",
       "\n",
       "            director                                           producer  \\\n",
       "0      Кевин Костнер          Дэвид Валдес, Кевин Костнер, Джейк Эбертс   \n",
       "1          Е.Матвеев                                                NaN   \n",
       "2  Тимур Бекмамбетов  Джим Лемли, Джейсон Нетер, Марк Е.Платт, Яйн Смит   \n",
       "3  Тимур Бекмамбетов  Джим Лемли, Джейсон Нетер, Марк Е.Платт, Яйн Смит   \n",
       "4  Тимур Бекмамбетов  Джим Лемли, Джейсон Нетер, Марк Е.Платт, Яйн Смит   \n",
       "\n",
       "                 age_restriction  refundable_support  nonrefundable_support  \\\n",
       "0    «18+» - запрещено для детей                 NaN                    NaN   \n",
       "1  «6+» - для детей старше 6 лет                 NaN                    NaN   \n",
       "2    «18+» - запрещено для детей                 NaN                    NaN   \n",
       "3    «18+» - запрещено для детей                 NaN                    NaN   \n",
       "4    «18+» - запрещено для детей                 NaN                    NaN   \n",
       "\n",
       "   budget financing_source ratings                     genres  \n",
       "0     NaN              NaN     7.2     боевик,драма,мелодрама  \n",
       "1     NaN              NaN     6.6              драма,военный  \n",
       "2     NaN              NaN     6.8  фантастика,боевик,триллер  \n",
       "3     NaN              NaN     6.8  фантастика,боевик,триллер  \n",
       "4     NaN              NaN     6.8  фантастика,боевик,триллер  "
      ]
     },
     "execution_count": 3,
     "metadata": {},
     "output_type": "execute_result"
    }
   ],
   "source": [
    "print(data1.info())\n",
    "data1.head(5)"
   ]
  },
  {
   "cell_type": "code",
   "execution_count": 4,
   "metadata": {},
   "outputs": [
    {
     "name": "stdout",
     "output_type": "stream",
     "text": [
      "1\n",
      "<class 'pandas.core.frame.DataFrame'>\n",
      "Int64Index: 7485 entries, 0 to 7485\n",
      "Data columns (total 15 columns):\n",
      " #   Column                 Non-Null Count  Dtype  \n",
      "---  ------                 --------------  -----  \n",
      " 0   title                  7485 non-null   object \n",
      " 1   puNumber               7485 non-null   int32  \n",
      " 2   show_start_date        7485 non-null   object \n",
      " 3   type                   7485 non-null   object \n",
      " 4   film_studio            7467 non-null   object \n",
      " 5   production_country     7483 non-null   object \n",
      " 6   director               7476 non-null   object \n",
      " 7   producer               6917 non-null   object \n",
      " 8   age_restriction        7485 non-null   object \n",
      " 9   refundable_support     332 non-null    float64\n",
      " 10  nonrefundable_support  332 non-null    float64\n",
      " 11  budget                 332 non-null    float64\n",
      " 12  financing_source       332 non-null    object \n",
      " 13  ratings                6519 non-null   object \n",
      " 14  genres                 6510 non-null   object \n",
      "dtypes: float64(3), int32(1), object(11)\n",
      "memory usage: 906.4+ KB\n"
     ]
    }
   ],
   "source": [
    "print(len(data1[data1['puNumber']=='нет']))\n",
    "data1 = data1.drop(data1[(data1['puNumber']=='нет')].index)\n",
    "data1['puNumber'] = data1['puNumber'].astype('int')\n",
    "data1.info()"
   ]
  },
  {
   "cell_type": "markdown",
   "metadata": {},
   "source": [
    "В таблице только в одной строке значение ‘puNumber’ равно ‘нет’. Поэтому стоит удалить эту строку и заменить тип на integer, чтобы объединить два датафрейма."
   ]
  },
  {
   "cell_type": "code",
   "execution_count": 5,
   "metadata": {},
   "outputs": [
    {
     "name": "stdout",
     "output_type": "stream",
     "text": [
      "<class 'pandas.core.frame.DataFrame'>\n",
      "RangeIndex: 3158 entries, 0 to 3157\n",
      "Data columns (total 2 columns):\n",
      " #   Column      Non-Null Count  Dtype  \n",
      "---  ------      --------------  -----  \n",
      " 0   puNumber    3158 non-null   int64  \n",
      " 1   box_office  3158 non-null   float64\n",
      "dtypes: float64(1), int64(1)\n",
      "memory usage: 49.5 KB\n",
      "None\n"
     ]
    },
    {
     "data": {
      "text/html": [
       "<div>\n",
       "<style scoped>\n",
       "    .dataframe tbody tr th:only-of-type {\n",
       "        vertical-align: middle;\n",
       "    }\n",
       "\n",
       "    .dataframe tbody tr th {\n",
       "        vertical-align: top;\n",
       "    }\n",
       "\n",
       "    .dataframe thead th {\n",
       "        text-align: right;\n",
       "    }\n",
       "</style>\n",
       "<table border=\"1\" class=\"dataframe\">\n",
       "  <thead>\n",
       "    <tr style=\"text-align: right;\">\n",
       "      <th></th>\n",
       "      <th>puNumber</th>\n",
       "      <th>box_office</th>\n",
       "    </tr>\n",
       "  </thead>\n",
       "  <tbody>\n",
       "    <tr>\n",
       "      <th>0</th>\n",
       "      <td>111000113</td>\n",
       "      <td>2.450000e+03</td>\n",
       "    </tr>\n",
       "    <tr>\n",
       "      <th>1</th>\n",
       "      <td>111000115</td>\n",
       "      <td>6.104000e+04</td>\n",
       "    </tr>\n",
       "    <tr>\n",
       "      <th>2</th>\n",
       "      <td>111000116</td>\n",
       "      <td>1.530300e+08</td>\n",
       "    </tr>\n",
       "    <tr>\n",
       "      <th>3</th>\n",
       "      <td>111000117</td>\n",
       "      <td>1.226096e+07</td>\n",
       "    </tr>\n",
       "    <tr>\n",
       "      <th>4</th>\n",
       "      <td>111000118</td>\n",
       "      <td>1.636841e+08</td>\n",
       "    </tr>\n",
       "  </tbody>\n",
       "</table>\n",
       "</div>"
      ],
      "text/plain": [
       "    puNumber    box_office\n",
       "0  111000113  2.450000e+03\n",
       "1  111000115  6.104000e+04\n",
       "2  111000116  1.530300e+08\n",
       "3  111000117  1.226096e+07\n",
       "4  111000118  1.636841e+08"
      ]
     },
     "execution_count": 5,
     "metadata": {},
     "output_type": "execute_result"
    }
   ],
   "source": [
    "print(data2.info())\n",
    "data2.head()"
   ]
  },
  {
   "cell_type": "code",
   "execution_count": 6,
   "metadata": {},
   "outputs": [],
   "source": [
    "data = data1.merge(data2, on='puNumber', how='left')"
   ]
  },
  {
   "cell_type": "code",
   "execution_count": 7,
   "metadata": {},
   "outputs": [
    {
     "name": "stdout",
     "output_type": "stream",
     "text": [
      "<class 'pandas.core.frame.DataFrame'>\n",
      "Int64Index: 7485 entries, 0 to 7484\n",
      "Data columns (total 16 columns):\n",
      " #   Column                 Non-Null Count  Dtype  \n",
      "---  ------                 --------------  -----  \n",
      " 0   title                  7485 non-null   object \n",
      " 1   puNumber               7485 non-null   int32  \n",
      " 2   show_start_date        7485 non-null   object \n",
      " 3   type                   7485 non-null   object \n",
      " 4   film_studio            7467 non-null   object \n",
      " 5   production_country     7483 non-null   object \n",
      " 6   director               7476 non-null   object \n",
      " 7   producer               6917 non-null   object \n",
      " 8   age_restriction        7485 non-null   object \n",
      " 9   refundable_support     332 non-null    float64\n",
      " 10  nonrefundable_support  332 non-null    float64\n",
      " 11  budget                 332 non-null    float64\n",
      " 12  financing_source       332 non-null    object \n",
      " 13  ratings                6519 non-null   object \n",
      " 14  genres                 6510 non-null   object \n",
      " 15  box_office             3158 non-null   float64\n",
      "dtypes: float64(4), int32(1), object(11)\n",
      "memory usage: 964.9+ KB\n",
      "None\n"
     ]
    },
    {
     "data": {
      "text/html": [
       "<div>\n",
       "<style scoped>\n",
       "    .dataframe tbody tr th:only-of-type {\n",
       "        vertical-align: middle;\n",
       "    }\n",
       "\n",
       "    .dataframe tbody tr th {\n",
       "        vertical-align: top;\n",
       "    }\n",
       "\n",
       "    .dataframe thead th {\n",
       "        text-align: right;\n",
       "    }\n",
       "</style>\n",
       "<table border=\"1\" class=\"dataframe\">\n",
       "  <thead>\n",
       "    <tr style=\"text-align: right;\">\n",
       "      <th></th>\n",
       "      <th>title</th>\n",
       "      <th>puNumber</th>\n",
       "      <th>show_start_date</th>\n",
       "      <th>type</th>\n",
       "      <th>film_studio</th>\n",
       "      <th>production_country</th>\n",
       "      <th>director</th>\n",
       "      <th>producer</th>\n",
       "      <th>age_restriction</th>\n",
       "      <th>refundable_support</th>\n",
       "      <th>nonrefundable_support</th>\n",
       "      <th>budget</th>\n",
       "      <th>financing_source</th>\n",
       "      <th>ratings</th>\n",
       "      <th>genres</th>\n",
       "      <th>box_office</th>\n",
       "    </tr>\n",
       "  </thead>\n",
       "  <tbody>\n",
       "    <tr>\n",
       "      <th>0</th>\n",
       "      <td>Открытый простор</td>\n",
       "      <td>221048915</td>\n",
       "      <td>2015-11-27T12:00:00.000Z</td>\n",
       "      <td>Художественный</td>\n",
       "      <td>Тачстоун Пикчерз, Кобальт Пикчерз, Бикон Пикче...</td>\n",
       "      <td>США</td>\n",
       "      <td>Кевин Костнер</td>\n",
       "      <td>Дэвид Валдес, Кевин Костнер, Джейк Эбертс</td>\n",
       "      <td>«18+» - запрещено для детей</td>\n",
       "      <td>NaN</td>\n",
       "      <td>NaN</td>\n",
       "      <td>NaN</td>\n",
       "      <td>NaN</td>\n",
       "      <td>7.2</td>\n",
       "      <td>боевик,драма,мелодрама</td>\n",
       "      <td>NaN</td>\n",
       "    </tr>\n",
       "    <tr>\n",
       "      <th>1</th>\n",
       "      <td>Особо важное задание</td>\n",
       "      <td>111013716</td>\n",
       "      <td>2016-09-13T12:00:00.000Z</td>\n",
       "      <td>Художественный</td>\n",
       "      <td>Киностудия \"Мосфильм\"</td>\n",
       "      <td>СССР</td>\n",
       "      <td>Е.Матвеев</td>\n",
       "      <td>NaN</td>\n",
       "      <td>«6+» - для детей старше 6 лет</td>\n",
       "      <td>NaN</td>\n",
       "      <td>NaN</td>\n",
       "      <td>NaN</td>\n",
       "      <td>NaN</td>\n",
       "      <td>6.6</td>\n",
       "      <td>драма,военный</td>\n",
       "      <td>NaN</td>\n",
       "    </tr>\n",
       "    <tr>\n",
       "      <th>2</th>\n",
       "      <td>Особо опасен</td>\n",
       "      <td>221038416</td>\n",
       "      <td>2016-10-10T12:00:00.000Z</td>\n",
       "      <td>Художественный</td>\n",
       "      <td>Юниверсал Пикчерз, Кикстарт Продакшнз, Марк Пл...</td>\n",
       "      <td>США</td>\n",
       "      <td>Тимур Бекмамбетов</td>\n",
       "      <td>Джим Лемли, Джейсон Нетер, Марк Е.Платт, Яйн Смит</td>\n",
       "      <td>«18+» - запрещено для детей</td>\n",
       "      <td>NaN</td>\n",
       "      <td>NaN</td>\n",
       "      <td>NaN</td>\n",
       "      <td>NaN</td>\n",
       "      <td>6.8</td>\n",
       "      <td>фантастика,боевик,триллер</td>\n",
       "      <td>NaN</td>\n",
       "    </tr>\n",
       "    <tr>\n",
       "      <th>3</th>\n",
       "      <td>Особо опасен</td>\n",
       "      <td>221026916</td>\n",
       "      <td>2016-06-10T12:00:00.000Z</td>\n",
       "      <td>Художественный</td>\n",
       "      <td>Юниверсал Пикчерз, Кикстарт Продакшнз, Марк Пл...</td>\n",
       "      <td>США</td>\n",
       "      <td>Тимур Бекмамбетов</td>\n",
       "      <td>Джим Лемли, Джейсон Нетер, Марк Е.Платт, Яйн Смит</td>\n",
       "      <td>«18+» - запрещено для детей</td>\n",
       "      <td>NaN</td>\n",
       "      <td>NaN</td>\n",
       "      <td>NaN</td>\n",
       "      <td>NaN</td>\n",
       "      <td>6.8</td>\n",
       "      <td>фантастика,боевик,триллер</td>\n",
       "      <td>NaN</td>\n",
       "    </tr>\n",
       "    <tr>\n",
       "      <th>4</th>\n",
       "      <td>Особо опасен</td>\n",
       "      <td>221030815</td>\n",
       "      <td>2015-07-29T12:00:00.000Z</td>\n",
       "      <td>Художественный</td>\n",
       "      <td>Юниверсал Пикчерз, Кикстарт Продакшнз, Марк Пл...</td>\n",
       "      <td>США</td>\n",
       "      <td>Тимур Бекмамбетов</td>\n",
       "      <td>Джим Лемли, Джейсон Нетер, Марк Е.Платт, Яйн Смит</td>\n",
       "      <td>«18+» - запрещено для детей</td>\n",
       "      <td>NaN</td>\n",
       "      <td>NaN</td>\n",
       "      <td>NaN</td>\n",
       "      <td>NaN</td>\n",
       "      <td>6.8</td>\n",
       "      <td>фантастика,боевик,триллер</td>\n",
       "      <td>NaN</td>\n",
       "    </tr>\n",
       "  </tbody>\n",
       "</table>\n",
       "</div>"
      ],
      "text/plain": [
       "                  title   puNumber           show_start_date            type  \\\n",
       "0      Открытый простор  221048915  2015-11-27T12:00:00.000Z  Художественный   \n",
       "1  Особо важное задание  111013716  2016-09-13T12:00:00.000Z  Художественный   \n",
       "2          Особо опасен  221038416  2016-10-10T12:00:00.000Z  Художественный   \n",
       "3          Особо опасен  221026916  2016-06-10T12:00:00.000Z  Художественный   \n",
       "4          Особо опасен  221030815  2015-07-29T12:00:00.000Z  Художественный   \n",
       "\n",
       "                                         film_studio production_country  \\\n",
       "0  Тачстоун Пикчерз, Кобальт Пикчерз, Бикон Пикче...                США   \n",
       "1                              Киностудия \"Мосфильм\"               СССР   \n",
       "2  Юниверсал Пикчерз, Кикстарт Продакшнз, Марк Пл...                США   \n",
       "3  Юниверсал Пикчерз, Кикстарт Продакшнз, Марк Пл...                США   \n",
       "4  Юниверсал Пикчерз, Кикстарт Продакшнз, Марк Пл...                США   \n",
       "\n",
       "            director                                           producer  \\\n",
       "0      Кевин Костнер          Дэвид Валдес, Кевин Костнер, Джейк Эбертс   \n",
       "1          Е.Матвеев                                                NaN   \n",
       "2  Тимур Бекмамбетов  Джим Лемли, Джейсон Нетер, Марк Е.Платт, Яйн Смит   \n",
       "3  Тимур Бекмамбетов  Джим Лемли, Джейсон Нетер, Марк Е.Платт, Яйн Смит   \n",
       "4  Тимур Бекмамбетов  Джим Лемли, Джейсон Нетер, Марк Е.Платт, Яйн Смит   \n",
       "\n",
       "                 age_restriction  refundable_support  nonrefundable_support  \\\n",
       "0    «18+» - запрещено для детей                 NaN                    NaN   \n",
       "1  «6+» - для детей старше 6 лет                 NaN                    NaN   \n",
       "2    «18+» - запрещено для детей                 NaN                    NaN   \n",
       "3    «18+» - запрещено для детей                 NaN                    NaN   \n",
       "4    «18+» - запрещено для детей                 NaN                    NaN   \n",
       "\n",
       "   budget financing_source ratings                     genres  box_office  \n",
       "0     NaN              NaN     7.2     боевик,драма,мелодрама         NaN  \n",
       "1     NaN              NaN     6.6              драма,военный         NaN  \n",
       "2     NaN              NaN     6.8  фантастика,боевик,триллер         NaN  \n",
       "3     NaN              NaN     6.8  фантастика,боевик,триллер         NaN  \n",
       "4     NaN              NaN     6.8  фантастика,боевик,триллер         NaN  "
      ]
     },
     "execution_count": 7,
     "metadata": {},
     "output_type": "execute_result"
    }
   ],
   "source": [
    "print(data.info())\n",
    "data.head()"
   ]
  },
  {
   "cell_type": "code",
   "execution_count": 8,
   "metadata": {},
   "outputs": [
    {
     "data": {
      "text/plain": [
       "3158"
      ]
     },
     "execution_count": 8,
     "metadata": {},
     "output_type": "execute_result"
    }
   ],
   "source": [
    "data[data['box_office'].notnull()].shape[0]"
   ]
  },
  {
   "cell_type": "markdown",
   "metadata": {
    "id": "KLDGpPG0gFyM"
   },
   "source": [
    "### Шаг 2. Предобработка данных"
   ]
  },
  {
   "cell_type": "markdown",
   "metadata": {
    "id": "ssWwKXsxgFyO"
   },
   "source": [
    "#### Шаг 2.1. Проверьте типы данных\n",
    "\n",
    "- Проверьте типы данных в датафрейме и преобразуйте их там, где это необходимо."
   ]
  },
  {
   "cell_type": "code",
   "execution_count": 9,
   "metadata": {
    "id": "kVGSplJOgFyO"
   },
   "outputs": [
    {
     "name": "stdout",
     "output_type": "stream",
     "text": [
      "<class 'pandas.core.frame.DataFrame'>\n",
      "Int64Index: 7485 entries, 0 to 7484\n",
      "Data columns (total 16 columns):\n",
      " #   Column                 Non-Null Count  Dtype  \n",
      "---  ------                 --------------  -----  \n",
      " 0   title                  7485 non-null   object \n",
      " 1   puNumber               7485 non-null   int32  \n",
      " 2   show_start_date        7485 non-null   object \n",
      " 3   type                   7485 non-null   object \n",
      " 4   film_studio            7467 non-null   object \n",
      " 5   production_country     7483 non-null   object \n",
      " 6   director               7476 non-null   object \n",
      " 7   producer               6917 non-null   object \n",
      " 8   age_restriction        7485 non-null   object \n",
      " 9   refundable_support     332 non-null    float64\n",
      " 10  nonrefundable_support  332 non-null    float64\n",
      " 11  budget                 332 non-null    float64\n",
      " 12  financing_source       332 non-null    object \n",
      " 13  ratings                6519 non-null   object \n",
      " 14  genres                 6510 non-null   object \n",
      " 15  box_office             3158 non-null   float64\n",
      "dtypes: float64(4), int32(1), object(11)\n",
      "memory usage: 964.9+ KB\n"
     ]
    }
   ],
   "source": [
    "data.info()"
   ]
  },
  {
   "cell_type": "code",
   "execution_count": 10,
   "metadata": {},
   "outputs": [],
   "source": [
    "# format time\n",
    "data['show_start_date'] = pd.to_datetime(data['show_start_date'], format='%Y-%m-%dT%H:%M:%S.%fZ')"
   ]
  },
  {
   "cell_type": "code",
   "execution_count": 11,
   "metadata": {},
   "outputs": [],
   "source": [
    "# remove percentage  from ratings\n",
    "data['ratings'] = data['ratings'].str.replace('%', '')\n",
    "data['ratings'] = data['ratings'].astype('float')\n",
    "data['ratings'] = data.apply(\n",
    "    lambda row: row['ratings'] / 10 if row['ratings']>10 else row['ratings'],\n",
    "    axis=1\n",
    ")"
   ]
  },
  {
   "cell_type": "markdown",
   "metadata": {},
   "source": [
    "В некоторых строках указаны проценты. Их необходимо убрать. Поменять тип на float."
   ]
  },
  {
   "cell_type": "markdown",
   "metadata": {
    "id": "i0MOLbF-gFyP"
   },
   "source": [
    "#### Шаг 2.2. Изучите пропуски в датафрейме\n",
    "\n",
    "- Объясните, почему заполнили пропуски определённым образом или почему не стали этого делать."
   ]
  },
  {
   "cell_type": "code",
   "execution_count": 12,
   "metadata": {},
   "outputs": [
    {
     "name": "stdout",
     "output_type": "stream",
     "text": [
      "title                       0\n",
      "puNumber                    0\n",
      "show_start_date             0\n",
      "type                        0\n",
      "film_studio                18\n",
      "production_country          2\n",
      "director                    9\n",
      "producer                  568\n",
      "age_restriction             0\n",
      "refundable_support       7153\n",
      "nonrefundable_support    7153\n",
      "budget                   7153\n",
      "financing_source         7153\n",
      "ratings                   966\n",
      "genres                    975\n",
      "box_office               4327\n",
      "dtype: int64\n"
     ]
    }
   ],
   "source": [
    "print(data.isna().sum())"
   ]
  },
  {
   "cell_type": "code",
   "execution_count": 13,
   "metadata": {
    "id": "8MJD_lkngFyP"
   },
   "outputs": [],
   "source": [
    "old_data_size = data.shape[0]\n",
    "data = data.drop(data[data['film_studio'].isna()].index)\n",
    "data = data.drop(data[data['production_country'].isna()].index)\n",
    "data = data.drop(data[data['director'].isna()].index)\n",
    "\n",
    "median_value=data['ratings'].median()\n",
    "data['ratings'].fillna(value=median_value, inplace=True)\n",
    "\n",
    "data['genres'] = data['genres'].fillna(\"\")\n",
    "data['refundable_support'] = data['refundable_support'].fillna(0)\n",
    "data['nonrefundable_support'] = data['nonrefundable_support'].fillna(0)\n",
    "data['budget'] = data['budget'].fillna(0)\n",
    "data['budget'] = data.apply(\n",
    "    lambda row: row['nonrefundable_support'] + row['refundable_support'] if row['budget']==0 else row['budget'],\n",
    "    axis=1\n",
    ")"
   ]
  },
  {
   "cell_type": "markdown",
   "metadata": {},
   "source": [
    "- Слишком много пропущенных значений в 'refundable_support', 'nonrefundable_support', 'budget', 'financing_source', 'box_office'. Чтобы заполнить пропуски средним значением или медианой, данных недостаточно. Поэтому их лучше оставить так как есть или заполнить нулями.\n",
    "\n",
    "- Пропуски в 'ratings' можно заполнить с помощью медианы. \n",
    "\n",
    "- Строки с пропущенными значениями в 'film_studio', 'production_country', 'director' можно удалить, т.к. из не так много.\n",
    "\n",
    "- Нельзя точно угадать продюсера и жанр фильма, поэтому стоит оставить как есть."
   ]
  },
  {
   "cell_type": "markdown",
   "metadata": {
    "id": "4c6k1t9ygFyQ"
   },
   "source": [
    "#### Шаг 2.3. Изучите дубликаты в датафрейме\n",
    "- Проверьте, есть ли в данных дубликаты. Опишите причины, которые могли повлиять на появление дублей."
   ]
  },
  {
   "cell_type": "code",
   "execution_count": 14,
   "metadata": {
    "id": "aKck8RIdgFyQ"
   },
   "outputs": [
    {
     "name": "stdout",
     "output_type": "stream",
     "text": [
      "Empty DataFrame\n",
      "Columns: [title, puNumber, show_start_date, type, film_studio, production_country, director, producer, age_restriction, refundable_support, nonrefundable_support, budget, financing_source, ratings, genres, box_office]\n",
      "Index: []\n"
     ]
    }
   ],
   "source": [
    "print(data[data.duplicated()])"
   ]
  },
  {
   "cell_type": "markdown",
   "metadata": {},
   "source": [
    "В данных отсутствуют явные дубликаты."
   ]
  },
  {
   "cell_type": "code",
   "execution_count": 15,
   "metadata": {},
   "outputs": [
    {
     "data": {
      "text/plain": [
       "array(['Художественный', 'Анимационный', 'Прочие', 'Документальный',\n",
       "       'Научно-популярный', ' Художественный', ' Анимационный',\n",
       "       'Музыкально-развлекательный'], dtype=object)"
      ]
     },
     "execution_count": 15,
     "metadata": {},
     "output_type": "execute_result"
    }
   ],
   "source": [
    "data['type'].unique()"
   ]
  },
  {
   "cell_type": "markdown",
   "metadata": {},
   "source": [
    "В столбце 'type' присутствуют неявные дубликаты (например, 'Художественный' и ' Художественный'). "
   ]
  },
  {
   "cell_type": "code",
   "execution_count": 16,
   "metadata": {},
   "outputs": [
    {
     "name": "stdout",
     "output_type": "stream",
     "text": [
      "Кевин Костнер\n",
      "Е.Матвеев\n",
      "Тимур Бекмамбетов\n",
      "В.Абдрашитов\n",
      "В.Меньшов\n",
      "Джон Туртурро\n",
      "Эрик Беснард\n",
      "В.Титов\n",
      "Пол Грингросс\n",
      "М.Туманишвили\n",
      "Клинт Иствуд\n",
      "Фернанду Мейрелльеш\n",
      "Майк Фиггис\n",
      "А.Салтыков\n",
      "Г.Данелия\n",
      "А.Смирнов\n",
      "Ю.Чулюкин\n",
      "В.Краснопольский, В.Усков\n",
      "М.Чиаурели\n",
      "Лассе Халлстрем\n",
      "Л.Гайдай\n",
      "В.Чеботарев\n",
      "В.Азаров\n",
      "Боривой Земан\n",
      "Эндрю Никкол\n",
      "Г.Мыльников\n",
      "Джонатан Кинг\n",
      "И.Бабич\n",
      "Даниэль Робишо\n",
      "Грегори Хоблит\n",
      "Крис Нунан\n",
      "Стивен Фрирз\n",
      "Йэн Софтли\n",
      "Найл Джонсон\n",
      "Р.Быков\n",
      "Роб Райнер\n",
      "Бен Янгер\n",
      "Роб Маршалл\n",
      "Е.Ташков\n",
      "Н.Михалков\n",
      "Ю.Карасик\n",
      "А.Тарковский\n",
      "Джон Франкенхаймер\n",
      "Оливье Маршал\n",
      "С.Соловьев\n",
      "Иоахим Реннинг, Эспен Сандберг\n",
      "Ролан Быков\n",
      "Семен Туманов\n",
      "Питер Сигал\n",
      "М.Ромм\n",
      "Г.Полока\n",
      "Ю.Райзман\n",
      "Дрю Дэйуолт, Дэвид Шнейдер\n",
      "С.Самсонов\n",
      "Айрон Блейз, Роберт Уокер\n",
      "К.Шахназаров\n",
      "И.Гостев\n",
      "Т.Лукашевич\n",
      "В.Павлович\n",
      "Эмиль Лотяну\n",
      "Тиль Швайгер\n",
      "А.Птушко\n",
      "Г.Натансон\n",
      "И.Пырьев, М.Ульянов, К.Лавров\n",
      "Джеймс Айвори\n",
      "И.Пырьев\n",
      "К.Юдин, Б.Барнет\n",
      "С.Бондарчук\n",
      "В.Георгиев\n",
      "В.Басов\n",
      "А.Сурикова\n",
      "Майк Слии\n",
      "Томми О'Хавер\n",
      "А.Эфрос\n",
      "М.Микаэлян\n",
      "А.Серый\n",
      "Дин Хэмилтон\n",
      "Г.Панфилов\n",
      "Сергей Бондарчук\n",
      "Н.Трахтенберг\n",
      "А.Столпер\n",
      "М.Швейцер, С.Милькина\n",
      "Л.Марягин\n",
      "Крис Уильямс, Байрон Ховард\n",
      "Энг Ли\n",
      "И.Киасашвили\n",
      "В.Пудовкин\n",
      "Франк Манкузо\n",
      "Фэн Сяоган\n",
      "С.Алексеев, В.Войтецкий\n",
      "Жан Франсуа Рише\n",
      "А.Митта\n",
      "Г.Александров\n",
      "Марк Форстер\n",
      "А.Роом\n",
      "Дэвид Йетс\n",
      "Крис Коламбус\n",
      "Альфонсо Куарон\n",
      "Ридли Скотт\n",
      "Матьё Кассовиц\n",
      "Г.Егиазаров\n",
      "Джордж Клуни\n",
      "Дэнни Панг, Оксид Панг\n",
      "Майк Ньюэлл\n",
      "Ди.Джи.Карузо\n",
      "Эл Гиддингс, Дэвид Кларк\n",
      "Дэвид Моро, Хавьер Палю\n",
      "Марк Пеллингтон\n",
      "Б.Бабочкин\n",
      "Виктор Сальва\n",
      "Владимир Чеботарев\n",
      "А.Рыбаков\n",
      "Франко Дзеффирелли\n",
      "Стивен Содерберг\n",
      "Дэвид Аубурн\n",
      "Шерон Магуайр\n",
      "Е.Карелов\n",
      "Жан-Пьер Жене\n",
      "Кевин Смит\n",
      "Роберт Лукетич\n",
      "А.Зархи\n",
      "Ник Кассаветис\n",
      "А.Мкртчян\n",
      "Питер Хоуитт\n",
      "К.Воинов\n",
      "Мартин Брест\n",
      "А.Столпер, Б.Иванов\n",
      "Э.Рязанов\n",
      "В.Скуйбин\n",
      "Вадим Перельман\n",
      "А.Салтыков, А.Митта\n",
      "Пол Уиланд\n",
      "Владимир Дрга\n",
      "Алехандро Агрести\n",
      "С.Колосов\n",
      "Н.Москаленко\n",
      "Л.Гайдай, Р.Орко\n",
      "А.Мкртчян, Л.Попов\n",
      "Михаэль Ханеке\n",
      "П.Чухрай\n",
      "Г.Чухрай\n",
      "Джейсон Рейтман\n",
      "В.Дербенев\n",
      "Бен Стэйссен\n",
      "Джозеф Рубен\n",
      "Томми О'Хэйвер\n",
      "В.Пудовкин, Д.Васильев\n",
      "Уильям Фридкин\n",
      "Дэвид Финчер\n",
      "В.Герасимов\n",
      "Сидни Люмет\n",
      "Тим Дисней\n",
      "Крис Уэйтс\n",
      "Питер Хаймс\n",
      "Н.Губенко\n",
      "Даг Лайман\n",
      "П.Тодоровский\n",
      "Джо Райт\n",
      "С.Туманов\n",
      "С.Бодров, А.Буравский\n",
      "Гай Ричи\n",
      "В.Шукшин\n",
      "Р.Нахапетов\n",
      "А.Сахаров\n",
      "Питер Джексон\n",
      "Мартин Кемпбелл\n",
      "В.Каплуновский\n",
      "Фрэнк Оз\n",
      "Э.Кеосаян\n",
      "Ф.Гари Грэй\n",
      "Пол МакГиган\n",
      "Джонатан Хейнслей\n",
      "Жан Боден\n",
      "Ананд Таккер\n",
      "Пол Джей Болджер\n",
      "Эдвард Цвик\n",
      "Т.Вульфович\n",
      "Ричард Эйр\n",
      "Майкл Манн\n",
      "Питер Берг\n",
      "Б.Барнет\n",
      "Бретт Рэтнер\n",
      "Ю.Кушнерев\n",
      "М.Хуциев\n",
      "Питер Гринуэй\n",
      "П.Фоменко\n",
      "Хаяо Миядзаки\n",
      "Кристофер Нолан\n",
      "Мартин Кэмпбелл\n",
      "Р.Фрунтов\n",
      "А.Алов, В.Наумов\n",
      "Дэвид Слейд\n",
      "Брэд Силберлинг\n",
      "Р.Балаян\n",
      "Анн Фонтейн\n",
      "Джон Шлезингер\n",
      "Анно Зауль\n",
      "Н.Ардашников\n",
      "Паскаль Ложье\n",
      "Том Тыквер\n",
      "Тони Бэнкфорт, Бэрри Кук\n",
      "Эктор Бабенко\n",
      "В.Пронин\n",
      "А.Габриелян\n",
      "Карел Смычек\n",
      "Э.Климов\n",
      "Пол Хантер\n",
      "Е.Гинзбург\n",
      " Н.Орлов, Р.Быков\n",
      "А.Михалков-Кончаловский\n",
      "А.Панкратов\n",
      "Йорген Лет, Ларс Фон Триер\n",
      "Брек Эйзнер\n",
      "Гарри Маршалл\n",
      "Адам Шенкман\n",
      "Дэвид Миркин\n",
      "Т.Лукашевич, Б.Равенских, Д.Васильев\n",
      "Г.Данелия, И.Таланкин\n",
      "В.Ордынский\n",
      "Джон Патрик Шэнли\n",
      "Харольд Бэккер\n",
      "Стивен Гэган\n",
      "Ульрих Зейдл\n",
      "Э.Лотяну\n",
      "С.Эйзенштейн\n",
      "Райан Эслингер\n",
      "Э.Савельева, Т.Березанцева\n",
      "Тим Бёртон\n",
      "Дэвид Линч\n",
      "Стив Бек\n",
      "Роб Коэн\n",
      "Джонатан Либесман\n",
      "Пол Гринграсс\n",
      "Т.Лукашевич, В.Канцель\n",
      "К.Худяков\n",
      "Эндрю Адамсон\n",
      "А.Карпыков\n",
      "Патрик Люнг, Корей Йен\n",
      "Мария Солее Тоньяцци\n",
      "Гильермо дель Торо\n",
      "Гэвин Грейзер\n",
      "Жерар Кравчик\n",
      "Джулия Тэймор\n",
      "В.Назаров\n",
      "Кали Коури\n",
      "Курт Уиммер\n",
      "Роджер Споттисвуд\n",
      "Г.Натансон, А.Эфрос\n",
      "Марк С. Уотерс\n",
      "Брек Айзнер\n",
      "Джим Гиллеспи\n",
      "Тони Билл\n",
      "РичардЭйр\n",
      "И.Зайцев\n",
      "Дэвид Йейтс\n",
      "Е.Андриканис\n",
      "Сильвестр Сталлоне\n",
      "Брюно Подалидес\n",
      "Кэтрин Бигелоу\n",
      "Шон МакНамара\n",
      "С.Говорухин\n",
      "Дэйв Бортвик\n",
      "И.Таланкин\n",
      "Г.Рошаль\n",
      "Сет Гроссман\n",
      "Мишель Хазанавичус\n",
      "Джон Хиллкоут\n",
      "Френсис Форд Коппола\n",
      "Джесси Джонсон\n",
      "В.Шамшурин\n",
      "Гай Риччи\n",
      "Крис Вайц\n",
      "Тоби Уилкинс\n",
      "Жаклин Шеффер\n",
      "Саймон Уэст\n",
      "Франсуа Озон\n",
      "Уильям Монахэн\n",
      "Дон Рус\n",
      "Стефан Лоу\n",
      "Тедди Чан\n",
      "Натан Грино, Байрон Ховард\n",
      "Филипп Гаррель\n",
      "Джули Тэймор\n",
      "Скотт Калвер\n",
      "Кристофер Сунь Лэп Ки\n",
      "Джим Шеридан\n",
      "Стивен Спилберг\n",
      "Николас Виндинг Рефн                                                                                                                                                                                                                             \n",
      "Маттис ван Хейникен младший\n",
      "Николя Кюш\n",
      "Джон Карпентер\n",
      "Генри Джуст, Ариэль Шульман\n",
      "Дэниел Барнц\n",
      "Хиромаса Йонебаяши\n",
      "Чжан Имоу\n",
      "Джон Мэдден\n",
      "Фил Трэйл\n",
      "Оливер Паркер\n",
      "Дэвид Ликли\n",
      "Бобкэт Голдтуэйт\n",
      "Лиза Аскан\n",
      "Хендрик Хандлёгтен\n",
      "Энтони ДиБласи\n",
      "Бигас Луна\n",
      "Майкл Уинтерботтом\n",
      "Оле Кристиан Мадсен\n",
      "Марио Мартоне\n",
      "Кристиан Биодани\n",
      "Кристиан Клавье\n",
      "Уильям Брент Бэлл\n",
      "Ренни Харлин\n",
      "Ева Ионеско\n",
      "Кен Коупис\n",
      "Асгер Лет\n",
      "Фредерик Жарден\n",
      "Тобиас Линдхольм, Майкл Ноер\n",
      "Тейт Тейлор\n",
      "Дэвид Маквикар\n",
      "С. Дж. Кларксон\n",
      "Бренда Чапмен, Марк Эндрюс\n",
      "Николас Столлер\n",
      "Люк Бессон\n",
      "Дэвид Кроненберг\n",
      "Вишес Бразерс\n",
      "Родриго Ортузар Линч\n",
      "Хуан Таратуто\n",
      "Флавио Р.Тамбеллини \n",
      "Николас Лопес\n",
      "Уэс Андерсон\n",
      "Адам Смит\n",
      "Стюарт Маундер\n",
      "Брайан Лардж\n",
      "Руперт Сандерс\n",
      "Джо Карнахан\n",
      "Дэвид МакКензи\n",
      "Рауль Руис\n",
      "Уильям Юбэнк\n",
      "Оливер Барру\n",
      "Лиза Азуэлос\n",
      "Брэд Пейтон\n",
      "Дэниэл Эспиноза\n",
      "Д.Файзиев\n",
      "С.Андреасян\n",
      "А.Смирнова\n",
      "Оускар Йоунассон, Тоби Генкель\n",
      "Тарсем Синх\n",
      "Роб Минкофф, Роджер Аллерс\n",
      "В.Иванов, С.Комаров\n",
      "А.Силкин\n",
      "Ю.Васильев\n",
      "Б.Куломзин\n",
      "Д.Додсон, А.Юрчиков\n",
      "А.Мизгирев\n",
      "П.Лунгин\n",
      "Эндрю Стэнтон\n",
      "Пэдди Консидайн\n",
      "Гэри Росс\n",
      "Е.Анашкин\n",
      "Маркус Грейвз\n",
      "Йоханнес Робертс\n",
      "Пэт Холден\n",
      "Нима Нуризаде\n",
      "Гарет Эванс\n",
      "Сон-Юн О\n",
      "Мартин Валенте\n",
      "Макс Джива, Дания Пасквини\n",
      "Майк МакКой\n",
      "Ю.Бахшиев\n",
      "А.Малюков\n",
      "Ларри Чарльз\n",
      "Стефан Рибожад\n",
      "Тони Майерс\n",
      "Говард Холл\n",
      "Гейл Эвардс\n",
      "Майкл Фиггис\n",
      "Катарина Оуэн, Марк Пеллингтон\n",
      "Джеймс МакТиг\n",
      "Хеннинг Карлсен\n",
      "Тони Кэй\n",
      "Фредерик Бегбедер\n",
      "Франсиз Нильсен, Филипп Шатель\n",
      "Эрик Геновеси\n",
      "Филлида Ллойд\n",
      "Эрик Дарнелл, Том МакГрат, Конрад Вернон\n",
      "Жан-Марк Валли\n",
      "Мэттью Диас\n",
      "М.Бальчунас\n",
      "Лоуренс Казанофф\n",
      "Антонио Негрет\n",
      "А.Борматов, Р.Сорокин\n",
      "Джошуа Транк\n",
      "В.Яковлев\n",
      "Мэтт Пидмонт\n",
      "Дэниэль Нетхейм\n",
      "Санг-Хан Хо\n",
      "Ральф Файнс\n",
      "Мадонна\n",
      "А.Прошкин\n",
      "Р.Газизов\n",
      "Джереми Левин\n",
      "Жан-Жак Анно\n",
      "Жан-Жак Мантелло\n",
      "Джордж Клуни \n",
      "Адриан Грюнберг\n",
      "Томаш Сас\n",
      "Джеймс Камерон\n",
      "Уильям Кентридж\n",
      "А.Пурер (Галин)\n",
      "Жан-Пьер Дарденн, Люк Дарденн\n",
      "Анджелина Джоли\n",
      "Роб Минкофф, Роджер Оллерс\n",
      "Зигфрид\n",
      "Ти Вест\n",
      "Джеймс Бобин\n",
      "Фил Лорд, Крис Миллер\n",
      "Томаш Лунак\n",
      "Кристиан Швохов\n",
      "Оливье Накаша, Эрик Толедано\n",
      "Тим Бертон\n",
      "Скотт Хикс\n",
      "Джефф Николс\n",
      "Майкл Ди Джакомо\n",
      "Джеймс Мэтер, Стивен Ст. Леджер\n",
      "Тосиюки Кубоока\n",
      "А.Кулямин\n",
      "Дэвид Брукс\n",
      "О.Сенцов\n",
      "Пол Андерсон\n",
      "Барри Зонненфельд\n",
      "Кирк Джонс\n",
      "Брэйден Кинг\n",
      "Реми Безансон\n",
      "Габи Амионе, Пау Балаге, Джозеко де Линарес, Эдуард Риу, Ирен С.Родригез\n",
      "Эмануэле Криалезе\n",
      "Джейсон Айзнер\n",
      "Роберт Хит\n",
      "Йен Фитцгиббон\n",
      "Петер Флинт\n",
      "Фрэнсис Форд Коппола\n",
      "Хермини Хунтгебурх\n",
      "Боаз Якин\n",
      "Ник Мерфи\n",
      "Режис Варнье\n",
      "Дермот Малруни\n",
      "Рубен Остлунд\n",
      "А.Магомедов\n",
      "Малгожата Шумовска\n",
      "Томас Альфредсон\n",
      "Билл Кондон\n",
      "Эйтор Далия\n",
      "Крис Рено\n",
      "Майкл Сакси\n",
      "С.Андреасян, К.Оганисян, А.Кещян, Т.Корнев, Э.Салаватов, Д.Дюжев, Е.Абызов, А.Бадоев\n",
      "Е.Борисова\n",
      "Беньямин Хайзенберг\n",
      "А.Мармонтов\n",
      "Александр Пэйн\n",
      "Уберто Пазолини\n",
      "Майкл Дауз\n",
      "А.Стреляная\n",
      "Бернард Роуз\n",
      "Р.Прыгунов\n",
      "Андре Тешине\n",
      "Джеймс Уоткинс\n",
      "Саймон Верховен\n",
      "Уильям Бейкер, Маркус Винер\n",
      "Джон Майкл МакДонах\n",
      "М.Железников\n",
      "МакДжи\n",
      "Шон Дуркин\n",
      "Данис Танович\n",
      "Джон Харвитц, Хейден Шлоссберг\n",
      "Дженнифер Уэстфелд\n",
      "Деклан Доннеллан, Ник Ормерод\n",
      "Стив МакКуин\n",
      "Джордж Лукас\n",
      "Джейсон Рэйтман\n",
      "Шери Фольксон\n",
      "Эммануэль Муре\n",
      "А.Козлов\n",
      "Оливье Моршаль\n",
      "Джейсон Ритмэн\n",
      "Марк Невелдайн, Брайан Тейлор\n",
      "Саймон Кертис\n",
      "Бальтазар Кормакур\n",
      "Клод Нуридзани, Мари Перену\n",
      "Кике Майло\n",
      "Дрю Годдар\n",
      "Деннис Дуган\n",
      "Грег Уайтели\n",
      "Стивен Кижак\n",
      "Дункан МакНили\n",
      "Стефан Эллиотт\n",
      "Мортен Тильдум\n",
      "Джосс Уидон\n",
      "Питер Лорд, Джефф Ньюитт\n",
      "Эммануэль Берко, Фред Кавайе, Александр Кортес\n",
      "Джон Стоквелл\n",
      "Яннике Систад Якобсен\n",
      "Лассе Халльстрём\n",
      "А.Кещян\n",
      "Джули Энн Робинсон\n",
      "Эрни Барабараш\n",
      "Пол Томас Андерсон\n",
      "Джудд Апатоу\n",
      "Спирос Статулопулос\n",
      "Магнус Мартенс\n",
      "Джей Роач\n",
      "Питер Темплмен\n",
      "Гермина Хунтгебурт\n",
      "Марк А.З. Диппе, Тадонг Пак\n",
      "Джон Каздан\n",
      "Пабло Ларрайн\n",
      "Ульрих Зайдль\n",
      "Детлеф Бук\n",
      "Лукас Мудиссон\n",
      "Такеши Китано\n",
      "Вонг Чинг По\n",
      "А.Касаткин, Н.Назарова\n",
      "Алекс де ла Иглесиа\n",
      "Анна Негри\n",
      "Франческо Фаласки\n",
      "Элисон Клэймен\n",
      "Джон Эйч Ли\n",
      "Майкл Гринспен\n",
      "Питер Тимм\n",
      "Сэм Рэйми\n",
      "Дастин Хоффман\n",
      "Д.Киселев, А.Баранов\n",
      "Фрэнк Корачи\n",
      "Гэри Трусдейл, Кирк Уайз\n",
      "Стивен Найт\n",
      "Крис Уэдж\n",
      "Педро Альмодовар\n",
      "Кен Лоуч\n",
      "Лео Каракс\n",
      "Эд Гасс-Донелли\n",
      "Феликс Фуксштайнер\n",
      "Ф.Попов\n",
      "Р.Давлетьяров\n",
      "Валери Донзелли\n",
      "Роар Утхауг\n",
      "Хармони Корин\n",
      "Русудан Чкония\n",
      "Робин Кларк\n",
      "Кит Уорнер\n",
      "хореография Фредерика Эштона\n",
      "О.Фесенко\n",
      "Уолтер Саллес\n",
      "Райан Джонсон\n",
      "В.Панжев, Г.Курлаев, И.Белостоцкий, М.Сулейманова, Н.Репина, С.Морозов и др.\n",
      "Стив Баркер\n",
      "Мишель Франко\n",
      "Лана Вачовски, Энди Вачовски, Том Тыквер\n",
      "Джон Лукас, Скотт Мур\n",
      "Джастин Лин\n",
      "Джозеф Косински\n",
      "Сет Гордон\n",
      "Майкл Хоффман\n",
      "Дэн Брэдли\n",
      "Том Хупер\n",
      "Кирстен Шеридан\n",
      "Йоганнес Вайланд, Макс Ланг, Уве Хайдшёттер, Якоб Шух\n",
      "И.Квирикадзе\n",
      "Мартин МакДона\n",
      "Аку Лоухимис\n",
      "П.Руминов\n",
      "Януш Жомболай\n",
      "Тизнано Манчини\n",
      "Эйприл Маллен\n",
      "С.Баскова\n",
      "Томас Винтерберг\n",
      "Антуан Фукуа\n",
      "Феде Алварес\n",
      "Марсал Форес\n",
      "Лаура Моранте\n",
      "Айке Грамс\n",
      "хореография Питера Райта, Льва Иванова по разработке Мариуса Петипа\n",
      "хореография Василия Вайнонена. Андреас Морелл\n",
      "Нурбек Эген\n",
      "Паскаль Арнольд, Жан-Марк Барр\n",
      "Пол Сен\n",
      "Ол Паркер\n",
      "Майкл Дж.Бассетт\n",
      "Сан-Су Хон\n",
      "Б.Хлебников\n",
      "Найджел Коул\n",
      "Алехандро Бругес\n",
      "Сид Беннетт\n",
      "Джеми Линден\n",
      "М.Коростышевский\n",
      "Джон Райт\n",
      "Джозеф Седар\n",
      "Мигель Гомеш\n",
      "Кристиан Петцольд\n",
      "Ребекка Томас\n",
      "Давид Феррарио\n",
      "Каллэн Брункер\n",
      "Ким Нгуйен\n",
      "Ксавье Джианолли\n",
      "Шон Гэррити\n",
      "Рюхэй Китамура\n",
      "Патрис Леконт\n",
      "Режи Ройнсар\n",
      "Давид Манули\n",
      "Е.Михайлова\n",
      "К.Тимофеев\n",
      "Скотт Дерриксон\n",
      "А.Аманшаев, Г.Шенгелия\n",
      "Джули Бенасра\n",
      "Джулия Локтев\n",
      "Марк Тондерай\n",
      "С.Ткачев\n",
      "О.Лопато\n",
      "Бенисио Дель Торо, Пабло Траперо, Элиа Сулейман, Гаспар Ноэ, Лоран Канте, Хулио Медем, Хуан Карлос Табио\n",
      "Квентин Дюпье\n",
      "Сара Полли\n",
      "Эцио Греджо\n",
      "Мохсен Махмальбаф\n",
      "Дэниэл Фриделль\n",
      "Такаши Миике\n",
      "Оливер Цигенбальг\n",
      "Крейг Зобель\n",
      "Дэвид Фрэнкел\n",
      "Бертран Бонелло\n",
      "Лиз Гарбус\n",
      "Гэри Траусдейл, Кирк Уайз\n",
      "Рон Клементс, Джон Маскер\n",
      "Джон М.Чу\n",
      "Дик Маас\n",
      "Леандер Хаусманн\n",
      "Е.Барханов\n",
      "Рубен Фляйшер\n",
      "Андрес Мускетти\n",
      "Такаси Миике\n",
      "Стив Мартино, Майкл Турмейр\n",
      "Ален Шаба\n",
      "Нильс Орден Оплев\n",
      "Эрик Рошан\n",
      "Хоаким Роннинг, Эспен Сандберг\n",
      "Дункан МакФарланд\n",
      "Адам Кук\n",
      "Аки Каурисмяки\n",
      "Марк Уэбб\n",
      "А.Карпиловский\n",
      "Карлос Рейгадас\n",
      "Эрен Криви\n",
      "Н.Лебедев\n",
      "Дэнни Бойл\n",
      "Лен Уайзман\n",
      "Г.Долматовская\n",
      "Наоёси Сиотани\n",
      "Арни Линдер Нэсс\n",
      "Пит Трэвис\n",
      "Филипп Штёльцл\n",
      "А.Арутюнов\n",
      "Кристофер Б.Стоукс\n",
      "Т.Ильина, Г.Данелия\n",
      "Рон Фрике\n",
      "Рэй Манзарек\n",
      "Тизиано Манчини\n",
      "Дени Криеф\n",
      "Уле Борнедаль\n",
      "В.Волгин при участии А.Ягубец\n",
      "Р.Давлетьяров, Р.Прыгунов\n",
      "Мэттью Беттинелли, Дэвид Брукнер, Адам Вингард\n",
      "Оливер Стоун\n",
      "Энди Фикмен\n",
      "Ахмед Сонмез\n",
      "Дэрил Вейн\n",
      "Срджан Драгоевич\n",
      "Эндрю Доминик\n",
      "С.Карпунина\n",
      "Ырыс Окенова\n",
      "Уолтер Хилл\n",
      "С.Дружинина\n",
      "Грэг МакГиливрэй\n",
      "С.Бурнашев\n",
      "Роберт Земекис\n",
      "Майкл Гантон, Марта Холмс\n",
      "Брэд Андерсон\n",
      "Рамаа Мосли\n",
      "Даррен Линн Боусман\n",
      "Пьер Коффин, Крис Рено\n",
      "Мэт Аскем\n",
      "Оливье Мегатон\n",
      "Энн Эмон\n",
      "Кен Скотт\n",
      "Джонатан Дейтон, Валери Фэрис\n",
      "Лесли Хэдланд\n",
      "Бенуа Жако\n",
      "Иджинио Страффи\n",
      "Тодд Луисо\n",
      "Роджер Мишелл\n",
      "Андрей Кончаловский\n",
      "Дик Каррутерс\n",
      "хореограф Кеннет Макмиллан\n",
      "Сергей Лозница\n",
      "Руфус Норрис\n",
      "Анубав Синха\n",
      "И.Вырыпаев\n",
      "Шейн Блэк\n",
      "Йос Стеллинг\n",
      "Вонг Юнфей\n",
      "Софи Файнс\n",
      "Джей Джей Абрамс\n",
      "Петер Зер, Мари Ноэль\n",
      "Фрэнк Мерле\n",
      "Рик Роман Во\n",
      "Лассе Халльстрем\n",
      "Бертран Блие\n",
      "Альберто Родригес\n",
      "Тим Диасон, Питер Лепениотис\n",
      "А.Войтинский\n",
      "Окиура Хироюки\n",
      "Мамору Хосода\n",
      "Шунсуке Тада\n",
      "Мартин Клэпп, Дорота Кобеля, Джофф Линдси\n",
      "Мукунда Майкл Дьюил\n",
      "Ким Ки-Дук \n",
      "Ким Ки-Дук\n",
      "Амир Надери\n",
      "Роберт Гэннавэй, Пегги Холмс\n",
      "Альберто Мар\n",
      "Майя Кениг\n",
      "Анджей Якимовский\n",
      "Баз Лурман\n",
      "Джастин Закэм\n",
      "Джозеф Рубин\n",
      "Том Элкинс\n",
      "Джоэл Коэн\n",
      "Билл Джонс, Джефф Симпсон, Бен Тимлетт\n",
      "Оливье Ассайас\n",
      "Тео Ангелопулос, Джан Витторио Балди, Марко Бечис, Лаис Боданзки, Бету Брант, Сиско Васкес, Вим Вендерс, Гай Меддин, Мария де Медейрос, Мануэль ди Оливейра, Ежи Штур, Атом Эгоян \n",
      "Джоэл Потрикус\n",
      "Дерек Сьянфранс\n",
      "Леоне Маруччи\n",
      "Г.Островский\n",
      "П.Худяков\n",
      "Джон Сталберг\n",
      "Артюс де Пенгерн\n",
      "Скотт Чарльз Стюарт\n",
      "Диего Каплан\n",
      "Роман Коппола\n",
      "В.Барбэ\n",
      "П.Пархоменко\n",
      "Малкольм Д.Ли\n",
      "Бруно Халлин\n",
      "Джейсон Мур\n",
      "хореография Мариуса Петипа\n",
      "Такао Окамура\n",
      "Ден Мазер\n",
      "Эсбен Тофт Якобсен\n",
      "Грач Кешишян\n",
      "Филипп Леллуш\n",
      "Пако Пласа\n",
      "Тодд Филлипс\n",
      "Йоахим Лафосс\n",
      "Изуру Нарушима\n",
      "Майкл Винник\n",
      "Фолькер Шлендорф\n",
      "Франк Халфун\n",
      "Франк Гастамбиде\n",
      "Джеймс ДеМонако\n",
      "Джей Ананья\n",
      "Роб Зомби\n",
      "Никхил Адвани\n",
      "Дэвид Баррет\n",
      "Грег Гарт\n",
      "Петер Несс\n",
      "Роберт Швентке\n",
      "Иван Атталь\n",
      "М.Найт Шьямалан\n",
      "Ксавье Долан\n",
      "Терренс Малик\n",
      "Вонг Кар Вай\n",
      "Тьерри Гиллиам\n",
      "Стефан Обье, Венсан Патар, Бенжамен Реннер\n",
      "Стюарт Урбан\n",
      "К.Лопушанский\n",
      "Г.Курлаев, С.Морозов, В.Панжев, Н.Репина, К.Седухин, А.Щеглов, М.Сулейманова, М.Богдасаров, В.Зайкин, Н.Хлопецкая\n",
      "М.Ильенко\n",
      "Акива Шаффер\n",
      "Лорен Скафария\n",
      "Роберт Карсен\n",
      "Люк Крессуел, Стив МакНиколас\n",
      "Кодзи Вакамацу\n",
      "Роб Хейдон\n",
      "Эрик Ле Рош\n",
      "Брайан Клагман, Ли Стернтал\n",
      "Маркус Данстен\n",
      "Энрике Гато\n",
      "В.Москаленко\n",
      "Агнес Мерле\n",
      "Тони Гилрой\n",
      "Тодд Линкольн\n",
      "М.Саакян\n",
      "Ланс Дэйли\n",
      "Екатерина Еременко\n",
      "Такаши Ямадзаки\n",
      "Керн Секстон\n",
      "И.Блохина\n",
      "К.Серебренников\n",
      "Джон Гулажер\n",
      "Д.Алексеев\n",
      "Джулиан Фарино\n",
      "Саймон Вест\n",
      "Кевин МакДональд\n",
      "Дэвид Эйр\n",
      "Эдуард Кортес\n",
      "Ферзан Оспетек\n",
      "Грэм Мерфи\n",
      "Винсент Патерсон\n",
      "Шон Андерс\n",
      "Юрген Лердам, Кари Юуусонен\n",
      "Стивен Брилл, Элизабет Бэнкс, Джеймс Ганн, Гриффин Данн, Джеймс Даффи, Стив Карр, Бретт Рэтнер, Питер Фаррелли, Патрик Форсберг \n",
      "Питер Луизи\n",
      "Гленио Бондер\n",
      "Мишель Таверна\n",
      "К.Феоктистов\n",
      "Начо Вигалондо\n",
      "Вуди Аллен\n",
      "Бернардо Бертолуччи\n",
      "Квентин Тарантино\n",
      "Бэз Лурман\n",
      "Родриго Кортес\n",
      "Сет МакФарлейн\n",
      "Крис Миллер\n",
      "Абель Феррара\n",
      "Стивен Чбоски\n",
      "В.Барбэ, М.Свешников\n",
      "Стефан Рузовицки\n",
      "Дэвид О.Расселл\n",
      "Арам Раппапорт\n",
      "Андрес Баиз\n",
      "Стивен Сильвер\n",
      "Фернандо Молина\n",
      "Жалиль Леспере\n",
      "Бен Зайтлин\n",
      "Дэвид Кин\n",
      "Доминик Тьелль\n",
      "Тимо Вуоренсола\n",
      "А.Федорченко\n",
      "Эдуардо Санчес\n",
      "Жак Одиар\n",
      "Дэвид Палмер, Дэкс Шепард\n",
      "Жан Рабек\n",
      "Билле Аугуст\n",
      "Брэдли Паркер\n",
      "Жофрей Энтховен\n",
      "Скотт Спир\n",
      "Седрик Кан\n",
      "Цутому Ханабуса\n",
      "Николас Джареки\n",
      "Саша Джерваси\n",
      "Софи Леллуш\n",
      "Витторио Тавиани, Паоло Тавиани\n",
      "Пит Доктер, Дэвид Сильверман\n",
      "Пит Доктер, Дэвид Силверман\n",
      "Сильви Тестю\n",
      "Хорхе Торрегросса\n",
      "Анджелп Беттис, Элен Катте, Кааре Эндрюс\n",
      "Ким Чжи Ун\n",
      "Чжеки Чан\n",
      "Том Вон\n",
      "Майкл Тиддес\n",
      "Ричард Ла Гравенес\n",
      "Маниш Джа\n",
      "Мэттью Эйкерс, Джефф Дюпре\n",
      "Вейн Тонли\n",
      "Г.Киракосян\n",
      "К.Оганесян\n",
      "Кэтрин Бингелоу\n",
      "В.Суслин\n",
      "Паскаль Эрольд\n",
      "Эдуардо Шульдт\n",
      "Крис Батлер, Сэм Фелл\n",
      "Дэнни Муни\n",
      "Шарль Оливье-Мишо\n",
      "М.Козлов\n",
      "Джонатан Левин\n",
      "Тэйлор Хэкфорд\n",
      "Н.Эген\n",
      "Хуан Антонио Байона\n",
      "Джон Льюсенхоп\n",
      "Эндрю Стэнтон, Ли Ункрич\n",
      "Пол У.С.Андерсон\n",
      "Хуан Диего Соланас\n",
      "Мабрук Эль Мекри\n",
      "Бен Стассен\n",
      "Джеймс Хант\n",
      "Брайан Сингер\n",
      "А.Мычко\n",
      "Фишер Стивенс\n",
      "Фернандо Мейреллиш\n",
      "Тодд Солондз\n",
      "Мартин Скорсезе\n",
      "Джейми Брэдшоу, Александр Дулерайн\n",
      "В.Панков\n",
      "Паскаль Шомель\n",
      "А.Мегердичев\n",
      "С.Мокрицкий\n",
      "Кимбл Рендалл\n",
      "Дуглас Арниокоски\n",
      "Кристофер МакКуори\n",
      "Томми Виркола\n",
      "Джон Кафка, Юн-сок Чхве\n",
      "Том Лу\n",
      "Цуй Харк\n",
      "Сюзанна Биер\n",
      "Е.Баранов\n",
      "Бен Аффлек\n",
      "Колин Треворроу\n",
      "Бен Уитли\n",
      "Джон Поликуин\n",
      "Джон Хайамс\n",
      "Лоран Тирар\n",
      "В.Криштофович\n",
      "Джон Эспинач, Рикардо Рамон\n",
      "Дэвид Хорн\n",
      "Дэвид МакВикар\n",
      "Геннадий Тартаковский\n",
      "Стефано Салвати\n",
      "Йошихиро Нишимура, Наюки Томомацу\n",
      "Джон МакИлдаф\n",
      "Хоакин Ористрелл\n",
      "Винсент Паронно, Маржан Сатрапи\n",
      "Джеймс Напье Робертсон\n",
      "Бенуа Делепин, Гюстав де Керверн\n",
      "Джон Хилкоут\n",
      "Сэм Мендес\n",
      "Ли Дэниелс\n",
      "Кертис Хэнсон, Майкл Эптид\n",
      "Рич Мур\n",
      "Кьюнг Хо Ли\n",
      "Кристоф Оноре\n",
      "Мэтт Росс\n",
      "А.Артамонова\n",
      "Тони Тэнг\n",
      "Джим Филд Смит\n",
      "Эндрю О'Коннор\n",
      "Габриэле Муччино\n",
      "Кристиан Мунджиу\n",
      "Керк Де Микко, Крис Сандерс\n",
      "Пабло Бергер\n",
      "Жиль Бурдо\n",
      "Франческа Замбелло\n",
      "Беппе де Томази\n",
      "Жоан Фонт\n",
      "Джойл Бродли\n",
      "Маттео Гарроне\n",
      "Питер Рэмси\n",
      "Давид Шарон\n",
      "К.Кемниц\n",
      "Морис Бартелеми\n",
      "Майкл Бэй\n",
      "В.Мухаметзянов\n",
      "Стивен Эллиот\n",
      "Ли Анкрич, Эндрю Стентон\n",
      "К.Оганисян\n",
      "Эндрю Флеминг\n",
      "Люк Жаке\n",
      "Дин ДеБлуа\n",
      "Жак Уаниш\n",
      "Роберт Родригес\n",
      "Даррен Аронофски\n",
      "Дестин Креттон\n",
      "Мариам Клеман\n",
      "Ари Фольман\n",
      "Карлос Салдана\n",
      "Джеймс Грэй\n",
      "К.Буслов\n",
      "Патрик Ротман\n",
      "Кристоф Ган\n",
      "Г.Орлов\n",
      "А.Кириллов\n",
      "Микаэль Хофстрём\n",
      "О.Каптур\n",
      "С.Жигунов\n",
      "Б.Худойназаров\n",
      "А.Хван\n",
      "Паоло Соррентино\n",
      "Франк Хоф\n",
      "Сатоси Мики\n",
      "Джалиль Леспер\n",
      "Каспер Хольтен\n",
      "Франсуа Ханнс\n",
      "А.Кананович\n",
      "О.Массарыгин\n",
      "Валерия Бруни-Тедески\n",
      "Р.Ершов\n",
      "Фанни Ардан\n",
      "Патрик Хьюз\n",
      "Кевин О.Хара. Хореография Кристофера Уилдона \n",
      "Герберт фон Караян. Постановка  Жоржа Вакевича\n",
      "Сэм Данн, Скотт Макфадьен, Реджинальд Харкема\n",
      "Джон Стокуэлл \n",
      "Рафаэль Фридман\n",
      "Алекс Ван Вармердам\n",
      "Питер Веллингтон\n",
      "А.Атанесян\n",
      "И.Белостоцкий, В.Панжев, А.Щеглов, Н.Хлопецкая, С.Морозов, Е.Соколов, М.Сулейманов  и др.\n",
      "Стефан Каз\n",
      "С.Карандашов\n",
      "И.Волошин\n",
      "Д.Светозаров\n",
      "А.Аксененко\n",
      "Томас Лукас\n",
      "Питер Морс\n",
      "Джон Фавро\n",
      "Джулиан Джилби\n",
      "Уильям Брент Белл\n",
      "Дж.Т.Петти\n",
      "Алекс Пастор, Давид Пастор\n",
      "Френсис Лоуренс\n",
      "Реим Керичи\n",
      "Рэймонд Де Фелитта\n",
      "Маркус Винер\n",
      "Майк Флэнеган\n",
      "Уолли Пфистер\n",
      "Джон Майкл МакДона\n",
      "Ричард Айоади\n",
      "Джеймс Гриффитс\n",
      "Стефан Херхейм\n",
      "Пит Вейрич\n",
      "хореография Питера Райта, Льва Иванова по разработке Мариуса Петипа в режиссуре Кристофера Карра\n",
      "Тэнгай Дейрейн, Патрисия Каас, Фабрис Лаффонт\n",
      "Шарль Немес\n",
      "Ребекка Золотовски\n",
      "Джоэл Коэн, Итан Коэн\n",
      "Скотт МакГихи, Давид Сигел\n",
      "Джош Бун\n",
      "Фредерик Обуртин\n",
      "Роберт Б.Уайде\n",
      "Бернхард Каммель\n",
      "Феликс ван Гронинген\n",
      "Ю.Ботоев\n",
      "Том Гормикэн\n",
      "А.Аксененко, Э.Никогосян, Д.Дюжев, А.Вакулов (А.Кульбицкий)\n",
      "И.Евтеева\n",
      "Оливер Жан-Мари\n",
      "Джастин МакМиллан, Кристофер Нелиус\n",
      "Е.Шиляева\n",
      "Леон Джусен, Аарон Силман\n",
      "Оливье Даан\n",
      "Яш Чопра\n",
      "Эмманюэль Берко\n",
      "К.Козлов\n",
      "М.Хлебородов\n",
      "Барри Кук, Нил Найтингейл\n",
      "Елена Тихонова, Доминик Шпритцендорфер\n",
      "Джэми Кастнер\n",
      "Джеймс Мэнголд\n",
      "Раджа Госнелл\n",
      "Жан Кристоф Дюссант\n",
      "Брайан Томсон, Гейл Эдвардс\n",
      "Ларс фон Триер\n",
      "Марк Манн\n",
      "Давид Бисбано\n",
      "Джеффри Фридман, Роб Эпштейн\n",
      "Джозеф Гордон-Левитт\n",
      "Стивен Р.Монро\n",
      "Пьер-Франсуа Мартен-Лаваль\n",
      "Мэтт Орландо\n",
      "Харольд Цварт\n",
      "Крис Бак, Дженнифер Ли\n",
      "Алекс Олье\n",
      "Кейси Патрик Тебо\n",
      "Франсуа Россильон, хореография Рудольфа Нуреева по Мариусу Петипа\n",
      "Марк Стивен Джонсон\n",
      "Каспар Мунк\n",
      "Росс МакГиббон\n",
      "Аббадо Даниэле\n",
      "Алан Тейлор\n",
      "Пол Фейг\n",
      "Дэвид Сорен\n",
      "Джеффри Флетчер\n",
      "Эдгар Райт\n",
      "Пол Вайц\n",
      "Гор Вербински\n",
      "Роджер Рот\n",
      "Мэгги Кэри\n",
      "Джош Столберг\n",
      "Нил Бломкамп\n",
      "Клэй Холл\n",
      "Марк Лампрелл\n",
      "Рейнир Лингдаль\n",
      "Владислав Пасиковский\n",
      "Д.Киселев, Е.Телегина, А.Котт, А.Карпиловский, А.Мегердичев, Л.Габриадзе\n",
      "Бенсон Ли\n",
      "Н.Меркулова, А.Чупов\n",
      "Коди Кэмерон, Крис Пири\n",
      "Миккель Нёргор\n",
      "М.Блаш\n",
      "Тристан Сегуэла\n",
      "Питер Лепениотис\n",
      "Сильвен Уайт\n",
      "Иссара Нади, Кирати Нак-Интанон, Патчанон Тумджира\n",
      "Спайк Джонс\n",
      "Кристофер Карр\n",
      "К.Мурзенко\n",
      "Джионата Зарантонелло\n",
      "Адам Леон\n",
      "Кандида Бреди\n",
      "Сеск Гай\n",
      "П.Гладилин\n",
      "Т.Игуменцева\n",
      "Ю.Мороз\n",
      "С.Подгаевский\n",
      "Даниэль Санчес Аревало\n",
      "М.Мигунова\n",
      "Брюно Дюмон\n",
      "Давид Моро\n",
      "А.Григорян, М.Мкртчян\n",
      "Брайан Персиваль\n",
      "Бен Стиллер\n",
      "Нэнси Севард\n",
      "Адам Вингард\n",
      "Дуэйн Адлер\n",
      "Уэйн Крамер\n",
      "Стивен Фанг\n",
      "Е.Телегина\n",
      "Джеймс Ван\n",
      "Джим Джармуш\n",
      "Джо Руссо, Энтони Руссо\n",
      "Ясухиро Есиура\n",
      "А.Якимчук\n",
      "Макинов\n",
      "Дин Паризо\n",
      "Джефф Уодлоу\n",
      "Джошуа Майкл Штерн\n",
      "Ричард Кертис\n",
      "Марк Ротемунд\n",
      "Нил Джордан\n",
      "А.Храмцов, В.Сотсков, И.Евланникова\n",
      "Д.Дьяченко\n",
      "София Коппола\n",
      "Даниэль Кальпарсоро\n",
      "Александр Алешечкин, Вячеслав Алешечкин\n",
      "Александр Коффре\n",
      "Сельма Вилунен, Марк Гилл, Эстебан Креспо, Ксавье Легран, Андерс Уолтер\n",
      "А.Невский\n",
      "С.Проскурина\n",
      "Кристофер Нельсон\n",
      "Рот Стромберг\n",
      "Джонатан Теплицки\n",
      "Ариэль Вромен\n",
      "Е.Сокуров\n",
      "Гийом Винсент\n",
      "Е.Невский\n",
      "Том Ван Авермат, Брайан Бакли, Ян Ингленд, Шон Кристенсен, Сэм Френч\n",
      "Йорханнес Вейланд, Лео Верьер, Джон Карс, Минью Ли, Ричард Манс, Тимати Рекарт, Дэвид Сильверман, Уве Хайдесшоттеи\n",
      "Стюарт Битти\n",
      "Рэндолл Коул\n",
      "Олатунд Осунсанми\n",
      "Вольфганг Гроос\n",
      "Джон Тёртелтауб\n",
      "Джон С.Бейрд\n",
      "Камиль Деламарр\n",
      "В.Сериков\n",
      "Лоран Тюэль\n",
      "Джон Пог\n",
      "Р.Давлетьяров, С.Комаров\n",
      "Марион Верну\n",
      "Морган Буш, Мартин Гуггисберг, Бенуа де Клер, Антти Хейкки Персонен, Джаспер Уарри, Шейн Эткинсон\n",
      "Мэтт Беттинелли-Ольпин, Тайлер Джиллетт\n",
      "Раджкумар Хирани\n",
      "Каран Джохар\n",
      "Лунг Ах, Чонг Ти Чуа\n",
      "Малик Бейдер\n",
      "Томас Боденштайн, Хьюберт Вейланд, Нина Велс\n",
      "Алессандро Сиани\n",
      "Оливье Барру, Кад Мерад\n",
      "Е.Звездаков\n",
      "Ким Ки Дук\n",
      "Джимми Хейуорд\n",
      "Аарон Зельцер, Джейсон Фридберг\n",
      "Карл Ринш\n",
      "Том Моррис\n",
      "Дэвид Гордон Грин\n",
      "Е.Миндадзе (псевдоним Катя Шагалова)\n",
      "Якоб Розенберг\n",
      "А.Борматов\n",
      "Дени Вильнев\n",
      "Блэр Эриксон\n",
      "Д.Филюков\n",
      "Е.Абызов\n",
      "А.Сильвестров\n",
      "Марина де Ван\n",
      "Пол Шредер\n",
      "Фарид Гумбатов\n",
      "Е.Соколов\n",
      "Р.Салахутдинов\n",
      "Джонатан Ауф Дер Хайди, Миа Васиковска, Клер МакКарти, Йен Медоуз, Стивен Пейдж, Эшли Пейдж, Саймон Стоун, Уорвик Торнтон, Мариека Уолш, Дэвид Уэнэм\n",
      "С.Ольденбург-Свинцов\n",
      "Ю.Разыков\n",
      "Макото Синкай\n",
      "Карло Карлей\n",
      "Рон Ховард\n",
      "В.Донсков\n",
      "А.Вартанов, К.Михановский\n",
      "Хауме Кольет-Серра\n",
      "А.Першин\n",
      "Абделатиф Кешиш\n",
      "хореография Пьера Лакотта по Филиппу Тальони\n",
      "Шана Фест\n",
      "Виджай Кришна Ачария\n",
      "Жан-Марк Валле\n",
      "Сандра Неттельбек\n",
      "Седрик Клапиш\n",
      "Дебора Андерсон\n",
      "О.Галин\n",
      "Джесси МакКормак\n",
      "В.Козлов\n",
      "Энтони Марсиано\n",
      "Фил Лорд, Кристофер Миллер\n",
      "В.Гай Германика\n",
      "Сильвен Шоне\n",
      "Киран Дарси-Смит\n",
      "Джон Карни\n",
      "Скотт Во\n",
      "Дуглас Амиокоски\n",
      "Б.Юсупов\n",
      "Себастьян Лелио\n",
      "Хершел Фабер\n",
      "Кристофер Карр. Хореография Мариуса Петипа. Постановка Моники Мейсон и Кристофера Ньютона по Нинетт де Валуа и Николаю Сергееву \n",
      "Арно Ларьё, Жан-Мари Ларьё\n",
      "Е.Антимоний, В.Вакуленко\n",
      "Мэтт Ривз\n",
      "Сесиль Телерман\n",
      "Н.Джорджадзе\n",
      "А.Симакова\n",
      "К.Бронзит\n",
      "И.Сколков\n",
      "Гарет Эдвардс\n",
      "Марко Артуро Марелли\n",
      "Пьер Луиджи Пицци\n",
      "Крис Джеро, Тони Кинг\n",
      "Расмус А.Сивертсен\n",
      "О.Штром\n",
      "А.Лобанов\n",
      "Джеймс Тобэк\n",
      "Квентин Дюпьё\n",
      "Ленни Абрахамсон\n",
      "Луи Летерье\n",
      "Джеймс Вон\n",
      "Роланд Эммерих\n",
      "Франческо Эспозито\n",
      "Росс МакГибон, хореография Мэтью Борна\n",
      "Крис Белл\n",
      "Джонни То, Сиу-Тунг Чинг\n",
      "Фредерик Фонтейн\n",
      "Хуан Карлос Манеглиа, Тана Шембори\n",
      "Саньтяго Занно\n",
      "Томас Арслан\n",
      "Бора Дагтекин\n",
      " Йохан Нийенхейс\n",
      "Брайан Фогель\n",
      "Зак Снайдер\n",
      "Стобе Харью\n",
      "Скотт Уокер\n",
      "Лим Пхиль Сон, Ким Чжи Ун\n",
      "Жан-Марк Рудницкий\n",
      "Летиция Хорхе Ромеро, Анна Гуэвара Росе\n",
      "Мигель Ларрайа Валенсуела\n",
      "Хидэаки Анно, Масаюки, Кадзуя Цурумаки\n",
      "Хидэаки Анно, Масаюки, Махиро Маэда, Кадзуя Цурумаки\n",
      "Николаз Лопез\n",
      "Дэвид Кларк\n",
      "Мишель Леклерк\n",
      "Виктор Косаковский\n",
      "Прапас Чолсаранонт\n",
      "В.Шамиров\n",
      "Ханнес Холм\n",
      "Бабак Наджафи\n",
      "Джон Хаддлс\n",
      "Джонатан Гарфилкел\n",
      "Дэннис Илиадис\n",
      "Гэвин Худ\n",
      "Том Донахью\n",
      "Спайк Ли\n",
      "Торстен Клай\n",
      "О.Степченко\n",
      "Р.Каримов\n",
      "Дени де ла Орден\n",
      "Майкл Ури\n",
      "Мишель Гондри\n",
      "Джей Чандрашекхар\n",
      "Винченцо Натали\n",
      "Альбер Дюпонтель\n",
      "Рохер Гуаль\n",
      "Джейсон Айзенер, Саймон Баррет,  Адам Вингард, Эдуардо Санчес, Тимо Тьяджанто, Грегг Хейл, Гарет Эванс\n",
      "Компин Кемгумнирд\n",
      "А.Чернакова\n",
      "Брэд Фурман\n",
      "Мэттью Миле\n",
      "Шейн Салерно\n",
      "Гор Киракосян\n",
      "Пеги Холмс\n",
      "Стивен Лангридж\n",
      "Майк Леонард, Джон Петруччи, Френк Соломон\n",
      "Доме Карукоски\n",
      "Стивен Брилл\n",
      "Реми Безансон, Жан-Кристоф Ли\n",
      "Жером Энрико\n",
      "Франсис Нильсен\n",
      "Ракеш Омпракаш Мехра, Джефф Цимбалист\n",
      "Шон Леви\n",
      "Пабло Ларкуэн, Наталия Матео, Кевин Мель, Самир Реем, Беатрис Санчес, Марина Сересески, Анна Ван Дер Хайне\n",
      "Михаэль Иён\n",
      "Оливер Хиршбигель\n",
      "В.Соколовский\n",
      "Конор Эллин\n",
      "С.Чекалов\n",
      "Энди де Эммони\n",
      "Тод Фреденталь\n",
      "Мани Хагиги\n",
      "Гийом Гальенн\n",
      "С.Грознов, Д.Дьяченко, С.Воробьев, Б.Чертков, В.Фатьянов\n",
      "Т.Кеосаян\n",
      "Мария Фридман\n",
      "В.Моргенштерн\n",
      "Дэн Скэнлон\n",
      "Бен Грегор\n",
      "А.Строев\n",
      "Д.Тюрин\n",
      "Кимберли Пирс\n",
      "Клер Дени\n",
      "Жан-Поль Лилиенфельд\n",
      "Андрей Щербан\n",
      "Андреа Брет\n",
      "хореография Карлоса Акосты по Мариусу Петипа\n",
      "Захари Донохью\n",
      "Гэри Фледер\n",
      "Неи Базаире, Натали Галазка, Антонио Исордиа, Фернандо Малдонадо, Себастьян Марка, Марк Никелсбург, Санди Патч, Амит Рой, Ламберто Санфелисе, Джеймс Стюарт, Хорхе Тересо\n",
      "Г.Бардин\n",
      "Карлес Торренс\n",
      "Эндрю Трауки\n",
      "Ник Харран\n",
      "Симон Бартесаги\n",
      "А.Сеитаблаев\n",
      "Ричард Линклейтер\n",
      "А.Поженский\n",
      "Ф.Бондарчук\n",
      "Э.Радзюкевич\n",
      "В.Плотников, Г.Гитис\n",
      "Роб Ситч\n",
      "М.Бальчунас (Вайсберг), Д.Додсон\n",
      "Кристофер Б.Лэндон\n",
      "Кеннет Брэна\n",
      "Джефф Треймейн\n",
      "В.Торопчин\n",
      "М.Панфилов\n",
      "А.Учитель\n",
      "А.Вейль, Ф.Котларски \n",
      "Россон Маршалл Тёрбер\n",
      "Питер Ландесман\n",
      "Шуджит Сиркар\n",
      "Хоми Аджаниа\n",
      "А.Зеленков, Л.Биц, А.Муратов\n",
      "Зандор Йессе, Уте фон Мюнхов-Поль\n",
      "О.Бычкова\n",
      "Синдзи Арамаки\n",
      "Ноа Баумбах\n",
      "Морган Спарлок\n",
      "Джузеппе Торнаторе\n",
      "Уолтер Турнье\n",
      "Тим ван Даммен\n",
      "Энцо Д'Алло\n",
      "Райнхард Клоосс\n",
      "В.Минорский\n",
      "К.Кузин\n",
      "А.Федосеенко (псевдоним Ангелина Никонова)\n",
      "А.Бобров\n",
      "Кристиан Ламб\n",
      "Тьерри Донар\n",
      "Кристофер Боэ\n",
      "Серж Аведикян, Елена Фетисова\n",
      "Джереми Дегрусон, Бен Стассен\n",
      "Дэвид Туи\n",
      "А.Герман\n",
      "Д.Банников\n",
      "Джон Ли Хэнкок\n",
      "Ариэль Зейтун\n",
      "Джей Си Чендор\n",
      "Джон Уэллс\n",
      "Джефф Ренфро\n",
      "Филипп Штёльцль\n",
      "Момчило Мрдакович\n",
      "Хи Зили\n",
      "Роман Полански\n",
      "Дэниэль Стамм\n",
      "М.Угаров\n",
      "Джон Паско\n",
      "Хелен Жиро, Томас Забо\n",
      "А.Баршак\n",
      "А.Богатырев\n",
      "Фредерик Бонд\n",
      "А.Сиверс\n",
      "А.Геворгян\n",
      "В.Сторожева\n",
      "А.Волгин\n",
      "Мартин Миэ-Ренар\n",
      "А.Хвостов\n",
      "Ю.Гусман\n",
      "О.Беляева\n",
      "Фил Олден Робинсон\n",
      "Филипп Аппиетто, Натали Совегран\n",
      "Е.Трусевич\n",
      "Бен Бранд, Дара Братт, Маттье Донк, Морган Кранц, Телия Петраки, Миклош Фелвидеки\n",
      "Нимрод Антал\n",
      "А.Велединский\n",
      "Эван Голдберг, Сет Роген\n",
      "С.Назиров\n",
      "Франциска Бух\n",
      "Аньес Обадья\n",
      "Билли Боб Торнтон\n",
      "Роб Минкофф\n",
      "Акива Голдсман\n",
      "Ноам Мурро\n",
      "Аарон Кешалес, Навот Папушадо\n",
      "Марк Уотерс\n",
      "Нил Бёргер\n",
      "Джонатан Инглиш\n",
      "Сильвестр Сбилье\n",
      "Ральф Зиман\n",
      "Р.Мосафир\n",
      "А.Гончуков\n",
      "Д.Туприн\n",
      "Мануэль Сисилия\n",
      "Майкл Бартлетт\n",
      "К.Муратова\n",
      "Джордан Вогт-Робертс\n",
      "Бобо Бёрманс\n",
      "О.Асадулин\n",
      "С.Серегин\n",
      "Дэвид Кепп\n",
      "Паоло Вирдзи\n",
      "Марк Бертон\n",
      "Халлвар Витзо, Гаэль Денис, Петра Жокса, Дея Кулумбегашвили, Сергей Пикалов, Анна София Сильверстейн, Симон Меса Сото, Клемен Трехаан-Лалан\n",
      "С.Грознов\n",
      "Дэвид Добкин\n",
      "хореография Кристофера Уилдона\n",
      "Джордж С.Волф\n",
      "Карен Ли Хопкинс\n",
      "Джеймс Марш\n",
      "Даниэл Аугусту\n",
      "Клаудио Ноче\n",
      "Т.Мамедов, С.Андреасян\n",
      "В.Глаголева\n",
      "Б.Дышенов\n",
      "Адам МакКей\n",
      "Мэтью Аувро, Лео Брайдл, Бен Бренд, Ден Кларк, Шимми Маркус, Рамин Серри, Джош Соскин, Линси Стюарт, Рей Тинтори, Бен Томас, Хольгер Фрик\n",
      "Майкл Куэста\n",
      "В.Бортко\n",
      "Альфредо Содергит\n",
      "Пако Кабесас\n",
      "Фридерик Ченг\n",
      "Джо Линч\n",
      "Люси Уокер\n",
      "Микаэл Саломон\n",
      "Шон Андрес\n",
      "Стив Пинк\n",
      "Скотт Фрэнк\n",
      "Габе Ибаньес\n",
      "Мария Саакян\n",
      "Роуэн Жоффе\n",
      "Пол Дагдейл\n",
      "Морган Невилл\n",
      "Тим Джонсон\n",
      "Кеннет Брана\n",
      "Майкл Алмерейда\n",
      "М.Джусоев\n",
      "О.Джураев\n",
      "Джоэл Хопкинс\n",
      "Фред Кавайе\n",
      "Терри Майлз\n",
      "Майкл Талли\n",
      "Джейн Поллард, Ян Форсис\n",
      "Д.Федоров\n",
      "Масаюки Отиай\n",
      "Жанна Эри\n",
      "Марк Аткинс\n",
      "Хоакин Льямас\n",
      "Бенжамин Гуэди\n",
      "Алехандро Гонсалес Иньярриту\n",
      "Грегори Левассер\n",
      "Рассел Кроу\n",
      "Стайлз Уайт\n",
      "Пер Ханефьорд\n",
      "А.Килин,  С.Потапов \n",
      "Евгений Дербез\n",
      "Кшиштоф Занусси\n",
      "Филлип Нойс\n",
      "Тьерри Рагоберт\n",
      "Генрик Рубен Генц\n",
      "Чад Стахелски\n",
      "Стивен Лэнс\n",
      "Майкл Спириг, Питер Спириг\n",
      "Александр Астье, Луис Клиши\n",
      "Г.Малков, Э.Никогосян\n",
      "А.Файнциммер\n",
      "Э.Ходжикян\n",
      "С.Тарасов\n",
      "Ю.Озеров\n",
      "Пьер Сальвадори\n",
      "Сэм Гарбарски\n",
      "Саймон Дж.Смит\n",
      "Мартин Ле Галль\n",
      "Джэфф Баэна\n",
      "Алекс Коллс\n",
      "Р.Джей.Катлер\n",
      "Чарльз Мартин Смит\n",
      "В.Котт\n",
      "Ю.Вышинский\n",
      "Г.Бежанов\n",
      "В.Кремнев\n",
      "А.Фролов\n",
      "К.Юдин\n",
      "Бобби Фаррелли, Питер Фаррелли\n",
      "В.Перов, А.Кольцатый\n",
      "Л.Агранович\n",
      "А.Гордон\n",
      "А.Бобровский\n",
      "В.Журавлев\n",
      "В.Плучек, Е.Народицкая-Сташевская\n",
      "Джеримайя С.Чечик\n",
      "Дэвид Мишо\n",
      "Кевин Гротерт\n",
      "Виченте Аморим, Гильермо Арриага, Стефан Зллиотт\n",
      "Сергей Бодров\n",
      "Марко Вебер\n",
      "Т.Бекмамбетов, О.Харина, Ю.Быков, Д.Киселев, А.Котт, А.Карпиловский, К.Телегина, А.Кавун\n",
      "Максим Свешников\n",
      "Дэн Бирс\n",
      "Алехандро Ходоровский\n",
      "В.Чубриков\n",
      "Т.Аленикова\n",
      "Дастин Гай Дэфа, Бенуа де Клерк, Александр Мермаз, Симон Меза Сото, Лоран Фироде, Леонид Шмельков\n",
      "Джини Финли\n",
      "Дрор Мор\n",
      "Кристиан Левринг\n",
      "хореография Кеннета МакМиллана\n",
      "А.Пиманов\n",
      "А.Баранов\n",
      "Д.Грачев\n",
      "Г.Курлаев, С.Морозов, В.Панжев, Н.Репина, К.Седухин, А.Щеглов и др.\n",
      "В.Тумаев\n",
      "Джон Кёрран\n",
      "А.Цицилин\n",
      "Борис Альинович, Харальд Зиперманн\n",
      "А.Ягубец\n",
      "Зак Хилдитч\n",
      "Билл Беннетт\n",
      "А.Стриженов\n",
      "Дэвид Дуглас\n",
      "Дэвид Мерфи\n",
      "Матиас Хёне\n",
      "Б.Токарев\n",
      "М.Калик\n",
      "Сарик Андреасян\n",
      "Джофф Мур, Дэвид Посаментир\n",
      "Н.Арутюнова (псевдоним Н.Семашкевич)\n",
      "Торун Лиан\n",
      "Сантьяго Табарнеро\n",
      "Дэвид Олден\n",
      "Д.Родимин\n",
      "Д.Червяцов\n",
      "М.Сегал\n",
      "Б.Уладаев\n",
      "Нед Бенсон\n",
      "Джейк Армстронг, Рафаэль Валь, Карл-Йохан Вестрегард, Зик Ёрл, Кристофер Калдвел, Жорж Мельес, Тиль Новак, Джонатан Хопкинс, Джакомо Чимини\n",
      "Тадеуш Страсбергер\n",
      "Питер Челсом\n",
      "Г.Гитис\n",
      "Стив Лотер\n",
      "Джером Сейбл\n",
      "Джим Микл\n",
      "Г.Малков\n",
      "Кристиан Е.Кристиансен\n",
      "Ваге Саян\n",
      "А.Зайцев\n",
      "В.Кремнев, Э.Гаврилов\n",
      "Е.Тетерин, А.Бобровский\n",
      "Оскар Сантос Гомес\n",
      "А.Манасарова\n",
      "А.Ибрагимов\n",
      "Э.Змойро, Л.Гайдай, Э.Рязанов, В.Семаков, Н.Трахтенберг, Э.Абалов\n",
      "Фуюань Лю\n",
      "Тони Маршал\n",
      "Лори Фельдман Сантоликвидо\n",
      "Феликс Фуксштайнер, Катарина Шёде\n",
      "Майкл Даус\n",
      "Д.Вятич-Бережных\n",
      "Ю.Солнцева\n",
      "Э.Никогосян (псевдоним А.Конст)\n",
      "Даэ Джонг, Томек Дуки, Поль Кабон, Нино Кристен, Грег Маклеод, Энди Мартин, Николас Менар, Жанетт Перльман, Мики Плиз, Руне и Эсбен Фискер, Масанобу Хираока, Алан Холли\n",
      "Билл Плимтон\n",
      "Барри Левинсон\n",
      "С.Юзеев\n",
      "Уильям Дикерсон\n",
      "Алистер Сиддонс\n",
      "С.Пучинян\n",
      "Дени Аркан\n",
      "С.Попов\n",
      "Вич Каосаянанда\n",
      "Михаэль Р.Роскам\n",
      "Виктор Гарсия\n",
      "Д.Месхиев\n",
      "Соул Свиммер\n",
      "Мигель Артета\n",
      "Джон Бруно, Рэй Квинт, Эндрю Уайт\n",
      "Беннетт Миллер\n",
      "Том Харпер\n",
      "В.Щегольков\n",
      "Л.Квинихидзе\n",
      "П.Санаев, Ф.Коршунов\n",
      "Лиэнн Пули\n",
      "Дороти Себба\n",
      "Э.Бочаров\n",
      "Л.Трауберг\n",
      "Эрик Ван Лой\n",
      "Эри Сандел\n",
      "Фанг Лей\n",
      "Хорхе Гутьеррес\n",
      "Ян Хафт\n",
      "М.Косырев-Нестеров\n",
      "Н.Сутырин, М.Кулунаков, А.Бильжо, А.Першин, И.Каргинова, О.Михеева\n",
      "Е.Клейнот (псевдоним Любовь Андреева)\n",
      "Уилл Глак\n",
      "Оливье Накаш, Эрик Толедано\n",
      "Даниэль Бенмаур\n",
      "Мари-Кастиль Менсьон-Шаар\n",
      "Надав Ширман\n",
      "И.Короткий, А.Маслов, С.Буров, Е.Устюгова, А.Шульев\n",
      "А.Зингерман, А.Соколов, И.Евланникова, Д.Червяцов, Е.Салабай, А.Миронов и др.\n",
      "Аллан Голдстайн\n",
      "Брайан А.Миллер\n",
      "К.Поплавский\n",
      "Пол Тиббит, Майк Митчелл\n",
      "А.Мельник\n",
      "В.Панжев, Е.Соколов, А.Щеглов, Г.Курлаев, Н.Репина и др.\n",
      "А.Молочник\n",
      "Ю.Кара\n",
      "Мона Ашаш\n",
      "Нил МакГрегор\n",
      "К.Сухарьков\n",
      "Казуаки Кирия\n",
      "Брайан Пойсер\n",
      "Ярослав Губченко\n",
      "Александр Потехин\n",
      "Триш Си\n",
      "Питер Богданович\n",
      "Тибо Дуран, Даина Пападаки, Пьер Амстудс Рох, Владимир Тагик, Оскар Шарп\n",
      "Тим Элбери\n",
      "Таика Вайтити, Джемейн Клемент\n",
      "Б.Грачевский\n",
      "Хуан Хосе Кампанелла\n",
      "Флоран Сири\n",
      "В.Демент\n",
      "Е.Салабай, А.Рубецкой, В.Воля, Е.Головин, А.Соколов, В.Бедошвили, Д.Червяцов\n",
      "Ли Толанд Кригер\n",
      "Ф.Абрютин\n",
      "Джордж Тильман младший\n",
      "Юфенг Сонг\n",
      "Дэвид Гелб\n",
      "Дон МакКеллар\n",
      "Дэвид Хэйтер\n",
      "Одри Дана\n",
      "Майкл Д'Иса-Хоган\n",
      "Бен Уитли   \n",
      "Нури Бильге Джейлан\n",
      "Брайан Хориути\n",
      "Гари Шор\n",
      "Пупи Авати\n",
      "Ричард ЛаГравенес\n",
      "Пол Солет\n",
      "Т.Воронецкая\n",
      "Кристиан Диттер\n",
      "Дэмьен Шазелл\n",
      "Алекс Стадерманн\n",
      "Генри Бедуэлл\n",
      "Кристиан Де Вита\n",
      "Пол Хаггис\n",
      "М.Бальчюнас\n",
      "А.Звягинцев\n",
      "С.Дахин, П.Духовской\n",
      "Е.Грибов\n",
      "Серджо Бассо\n",
      "Илай Рот\n",
      "Вэй Кеунг Лау, Эндрю Лу\n",
      "Дэвид Юнг\n",
      "Энтони Стакки, Грэхэм Эннэйбл\n",
      "Филиппе Мартинес\n",
      "А.Яхнис, М.Кричман\n",
      "П.Костомаров, А.Расторгуев\n",
      "Пер Флю\n",
      "Ганс Петтер Моланд\n",
      "Мак Картер\n",
      "И.Маслюков\n",
      "Николаус Ленхофф\n",
      "Грачья Кешишян\n",
      "Люк Гринфилд\n",
      "Уэс Болл\n",
      "И.Котельников\n",
      "В.Бродский\n",
      "Азия Ардженто\n",
      "И.Твердовский\n",
      "Ф.Махмутов (псевдоним Фанис Камал)\n",
      "Мартин Уильямс\n",
      "Оливье Ассаяс\n",
      "Джастин Бенсон, Грегг Бишоп, Начо Вигалондо, Тодд Линкольн, Аарон Мурхед, Марсель Сармиенто\n",
      "Леван Когуашвили\n",
      "Дэн Сан Пьер, Уилл Финн\n",
      "Илмар Рааг\n",
      "Зоя Ахтар\n",
      "Энтони Сильверстон\n",
      "Джейк Касдан\n",
      "Джон Эрик Даудл\n",
      "Филипп де Шоврон\n",
      "Жером Салль\n",
      "Джонатан Глейзер\n",
      "Зак Брафф\n",
      "Джон Р.Леонетти\n",
      "А.Розенберг\n",
      "Г.Параджанов\n",
      "Э.Архангельская, М.Пандурски\n",
      "А.Килин, С.Потапов\n",
      "К.Шипенко\n",
      "Е. Махнутин (псевдоним - Евгений Юматов)\n",
      "Н.Сайфуллаева\n",
      "Макс Николс\n",
      "Б.Волчек\n",
      "Джонатан Кент\n",
      "Стивен Куэйл\n",
      "Бен Нотт, Морган О.Нил\n",
      "Джеймс Ганн\n",
      "Роберт Ганнэвей\n",
      "Лассе Халстром\n",
      "Д.Елеонский\n",
      "Р.Шаляпин\n",
      "А.Григорян\n",
      "С.Никоненко\n",
      "В.Толкачиков\n",
      "И.Анненский\n",
      "В.Немоляев\n",
      "Д.Васильев\n",
      "Ю.Даниялов\n",
      "Г.Мелконян\n",
      "А.Столбов\n",
      "Ю.Быков\n",
      "Амат Эскаланте\n",
      "Питер Стрикленд, Ник Фентон\n",
      "Хорхе С.Дорадо\n",
      "Линн Шелтон\n",
      "Николас Бенаму, Филипп Лашо\n",
      "Фрэнк Миллер, Роберт Родригес\n",
      "Сакет Чаудхари\n",
      "Б.Токарев, Л.Гладунко\n",
      "Биргер Ларсен\n",
      "Фред Скеписи\n",
      "Крис Уильямс, Дон Холл\n",
      "Дмитрий Черняков\n",
      "Хэмиш Гамильтон\n",
      "Жан-Люк Годар\n",
      "М.Калатозов\n",
      "А.Муратов\n",
      "Жан-Пьер Жёне\n",
      "Мелани Лоран\n",
      "Мираэ Мицуэ, Петрос Сильвестрос, Билли Ройз, Фридрих Шлайх, Алекс Уинклер, Йонг Ю Ми, Элке Гроэн, Кристиан Нойбаухер\n",
      "Джон Ридли\n",
      "Роджер Дональдсон\n",
      "Клаудио Фах\n",
      "Е.Баранов.  \n",
      "Жауме Балагуэро\n",
      "Винсент Чжоу\n",
      "Э.Гаврилов\n",
      "В.Лонской\n",
      "А.Ладынин\n",
      "М.Рык\n",
      "А.Панкратов-Черный\n",
      "Антон Корбайн\n",
      "Стэнли Юнг\n",
      "Жуанра Фернандез\n",
      "Мишель Дэннер\n",
      "Кристиан Е. Кристиансен\n",
      "Бенедикт Эрлингссон\n",
      "И.Белостоцкий, Р.Фрунтов, А.Зеленков, Е.Юликов, С.Морозов, А.Щеглов, Г.Курлаев и др.\n",
      "П.Фетисов\n",
      "Х.Бакаев\n",
      "Марко Пьянджиани\n",
      "М.Медведь\n",
      "Джереми Джонс, Стив Джонс, Тодд Джонс\n",
      "Дэни Бун\n",
      "Винко Брешан\n",
      "А.Кончаловский\n",
      "Дэниэл Шехтер\n",
      "Е.Татаров\n",
      "Скот Армстронг\n",
      "Лоран Пелли\n",
      "Джованни Веронези\n",
      "Энтони Фукуа\n",
      "Питер Муллан\n",
      "Пол Кинг\n",
      "Руперт Уайатт\n",
      "Дин Израэлайт\n",
      "Ю.Фетинг\n",
      "Гленн Фикарра, Джон Рекуа\n",
      "Лана Вачовски, Энди Вачовски\n",
      "Дженнифер Кент\n",
      "Серджо Манфио\n",
      "Дамиан Шифрон\n",
      "Мэттью Вон\n",
      "Сэм Тейлор-Джонсон\n",
      "А.Котт\n",
      "Андреас Прохазка\n",
      "Инджинио Страффи\n",
      "Динг Лианг, Фуюан Лиу\n",
      "Иссара Нади, Кирати Нак-Интанон, Путипонг Сайсрикаев\n",
      "А.Кордон\n",
      "А.Захаров\n",
      "Т.Березанцева\n",
      "Шейн Аткинсон, Питер Бауман, Парк Дже Ин, Реми Каяла, Эрик Киссак, Петра Лючков, Нильс Хедигер\n",
      "Мирослав Слабошпицкий\n",
      "Корнель Мундруцо\n",
      "Фатих Акин\n",
      "А.Меликян\n",
      "Вик Армстронг\n",
      "И.Ковалев\n",
      "Б.Метальников\n",
      "А.Хамраев\n",
      "Е.Зильберштейн, А.Дудоров\n",
      "М.Янчо\n",
      "Э.Шуб, А.Фролов\n",
      "Б.Жамьянгийн, А.Бобровский\n",
      "Уолт Бекер\n",
      "В.Харченко, А.Волков\n",
      "А.А.Эшпай\n",
      "М.Захариас\n",
      "В.Пономарёв, А.Миронов, Е.Салабай, И.Пшонкин\n",
      "И.Чижиков, А.Чижиков\n",
      "С.Самошина, Н.Тамаров, П.Руминов, В.Санду, К.Плетнёв\n",
      "Джафар Панахи\n",
      "Алекс Гибни\n",
      "Эрик Инглэнд\n",
      "Остин Старк\n",
      "Ули Эдель\n",
      "А.Адраникян\n",
      "Митчелл Алтери\n",
      "Джастин Стил\n",
      "А.Андрианов\n",
      "В.Пономарёв, А.Миронов, Е.Салабай, В.Бедошвили и др.\n",
      "А.Романец\n",
      "Э.Шенгелая, Ф.Ибрагимбеков, при участии Т.Бутикашвили\n",
      "Нанни Моретти\n",
      "Тед Гейган\n",
      "Даниэль Бурман\n",
      "Виола Байер, Стефан Берман, Мэрайке Блау, Йорис Опринс, Пол Плобергер, Жан-Батист Пуйю, Йюст Раймерс, Йоб Роггевен, Эрик Шмит, Бен Эстон\n",
      "Е.Салабай, Е.Шабанова  И.Пшонкин и др.\n",
      "Л.Шмурьева (псевдоним Лика Алексеева)\n",
      "Э.Манжеева\n",
      "В.Елина, Ю.Кошкина, К.Макаренков, С.Юдаков, Т.Игуменцева\n",
      "Седрик Хименес\n",
      "Д.Нейдманд\n",
      "А.Калинкин\n",
      "Алик Моухибян, Герин Хованнисян\n",
      "Джеймс Моран\n",
      "Кайл Ньюман\n",
      "Энн Флетчер\n",
      "Пит Доктер, Роналдо Вуд Кармен\n",
      "Джулиан Джаррольд\n",
      "Альфредо Монтеро\n",
      "Кэт Кэндлер\n",
      "Пьер Морель\n",
      "Карлос Маркус-Марсет\n",
      "Энрико Кастильоне\n",
      "Джошуа Оппенхаймер, Кристина Синн\n",
      "Лиза Иммордино Врилэнд, Бент-Йорген Перлмутт, Фридерик Ченг\n",
      "Дэвид Роберт Митчелл\n",
      "Алан Тэйлор\n",
      "А.Берденников\n",
      "Жако ван Дормель\n",
      "К.Денё, Х.Дюмулайн, А.Кардона, Т.Мекинс, Д.Фини, М.Фонтан-РОсси, Л.Хадсон\n",
      "Джош Форбс\n",
      "Е.Константинова (псевдоним Алена Званцева)\n",
      "В.Орёл\n",
      "Давид Лево\n",
      "Колин Фей\n",
      "Риад Саттуф\n",
      "А.Коручеков\n",
      " Р.Асхаев\n",
      "Одед Биннун, Михаль Брезис, Мат Кирби,  Майкл Леннокс, Талкон Хамзави\n",
      "Марике Блау, Дэйзи Джейкобс, Глен Кин, Роберт Кондо, Торилл Коув, Йорис Опринс, Патрик Осборн, Билл Плимптон, Йоб Роггевен, Даизуке Цуцуми\n",
      "Грегори Джейкобс\n",
      "Н.Джорджадзе, В.Игнатьев\n",
      "В.Пономарёв, А.Миронов, А.Колпин, А.Толкалин и др.\n",
      "Скотт Купер\n",
      "Ф.Дмитриев\n",
      "Д.Штурманова\n",
      "А.Аравин, А.Прошкин\n",
      "К.Ангелина\n",
      "Стефано Лоренци\n",
      "В.Хотиненко\n",
      "В.Штерянов при участии Е.Немых\n",
      "Е.Салабай, Е.Шабанова, А.Миронов, А.Толстобров, В.Мухаметзянов\n",
      "С.Комаров, О.Асадулин\n",
      "О.Бондарев при участии В.Чеботарева\n",
      "Ю.Озеров, С.Гуров\n",
      "С.Урусевский\n",
      "В.Петров\n",
      "С.Эйзенштейна\n",
      "З.Аграненко\n",
      "С.Юткевич\n",
      "О.Ремизов\n",
      "Б.Бушмелев\n",
      "В.Азаров, Н.Досталь\n",
      "В.Максаков\n",
      "А.Пархоменко\n",
      "Джордж Миллер\n",
      "И.Северов\n",
      "Джулиус Эйвери\n",
      "Джош Лоусон\n",
      "Р.Д. Браунштейн\n",
      "Ялмари Хеландер\n",
      "А.Ананикян, В.Рейнгеверц\n",
      "Е.Салабай, Е.Шабанова, А.Соколов, И.Пшонкин и др.\n",
      "К.Белевич\n",
      "В.Крючков\n",
      "И.Пшонкин, М.Ершов, А.Миронов и др.\n",
      "Джил Кинан\n",
      "М.Капля\n",
      "Д.Чернов\n",
      "Элизабет Бэнкс\n",
      "Кайл Балда, Пьер Соффин\n",
      "Петер Торварт\n",
      "Цунэо Кобаяси\n",
      "Маркус Ниспел\n",
      "Жамель Деббуз\n",
      "Ли Уоннелл\n",
      "Брэд Бёрд\n",
      "Ник Саймон\n",
      "А.Темников\n",
      "Анн Фонтен\n",
      "И.Пшонкин, Е.Салабай, А.Миронов, А.Толстобров, В.Мухаметзянов\n",
      "Адам Робител\n",
      "Тоби Генкель, Шон МакКормак\n",
      "Норберт Хайткер\n",
      "И.Перекатов\n",
      "Р.Ильясов\n",
      "С.Пускепалис\n",
      "Джейк Шрейер\n",
      "Трейвис Клафф, Крис Лофинг\n",
      "Карл Тордж\n",
      "М. Найт Шьямалан\n",
      "М. Абрамов, Ж. Анноккии, М. Дансембург, Д. Кларк, Л. де Кон, В. Мавония-Койка, К.Б. Рафаэль, Л.Стюарт, Б. Тондер\n",
      "М.Фадеев\n",
      "Джонатан Голдстейн, Джон Фрэнсис Дейли\n",
      "Ма Юань, Донь Да Ке\n",
      "Лора Пойтрас\n",
      "Лео Габриадзе\n",
      "Жан-Франсуа Рише\n",
      "Пейтон Рид\n",
      "Антуан Бардо-Жаке\n",
      "Седрик Анже\n",
      "Губерт Вайланд, Нина Вельс\n",
      "Джошуа Трэнк\n",
      "Стефан Либерски\n",
      "Тадонг Пак, Маурисио Де ла Орта \n",
      "Александр Бах\n",
      "Халлвард Браэин\n",
      "А.Чукарев\n",
      "В.Рощин\n",
      "А.Грицаенко\n",
      "В.Пономарёв, А.Миронов, Е.Салабай и др.\n",
      "Рикардо Арнаиз, Рауль Гарсиа, Майк Кункель\n",
      "Азиф Кападиа\n",
      "Маржан Сатрапи\n",
      "Джон Копли\n",
      "Тарсем Сингх\n",
      "Баран Бо Одар\n",
      "Яннис Смарагдис\n",
      "Томм Мур\n",
      "Синдзи Хигути\n",
      "Ёлкин Туйчиев\n",
      "Дэвид Маккензи\n",
      "Макс Джозеф\n",
      "М.Ксейбати, И.Лопез, Э.Лоурич, К.М.Сабер, К.О.Тул,  Р.Серри, Р.Тьюннард, М.Энгламайр\n",
      "Петер Штайн\n",
      "Д.Зинченко\n",
      "Н.Кудряшова\n",
      "Д.Лазарев, С.Антонов\n",
      "Г.Нуриманов\n",
      "Нэнси Мейерс\n",
      "В.Пономарёв, А.Миронов, Е.Салабай, А.Хачатурян, Е.Чернова, А.Бахурин\n",
      "Жан-Батист Леонетти \n",
      "Дана Браун\n",
      "Себастьян Шиппер\n",
      "Роланд Жоффе\n",
      "Елена Аршакян\n",
      "Е.Хазанова\n",
      "Р.Гарифуллин\n",
      "Д.Кузьмин\n",
      "Ю.Грымов\n",
      "Рон Скальпелло\n",
      "Э.Оганесян\n",
      "М.Местецкий\n",
      "О.Смольников\n",
      "Р.Гигинеишвили, К.Оганисян, Р.Прыгунов\n",
      "Стив Карр\n",
      "Дэн Гилрой\n",
      "Рой Андерссон\n",
      "Том Грин\n",
      "Майк ван Дим\n",
      "Тони МакНамара\n",
      "В.Пономарёв, А.Миронов, Е.Салабай, Н.Мальгина\n",
      "Гейб Польски\n",
      "Джонатан Демме\n",
      "И.Джендубаев\n",
      "А.Першин (псевдоним Ж.Крыжовников)\n",
      "Тристан Паттерсон\n",
      "Жослин Таун, Саймон Хелберг\n",
      "Дэниел Альфредсон\n",
      "Йуис Килес\n",
      "Дэн Фогельман\n",
      "Райан Гослинг\n",
      "Виктор Левин\n",
      "Т.Зубова\n",
      "Андре Сингер\n",
      "Андреа Ди Стефано\n",
      "Кэри Мёрнион, Джонатан Милотт\n",
      "Дэниэль Эспиноса\n",
      "Ю.Попович\n",
      "Адриан Биньес\n",
      "Рубен Эстлунд\n",
      "А.Шелехов (псевдоним Александр Шелл)\n",
      "Дэвид С.Гойер\n",
      "Джеймс Кент\n",
      "Пол Фиг\n",
      "Бенуа Филиппон, Алесандр Эбоян\n",
      "Джон Фулджеймс\n",
      "хореография Фредерика Аштона\n",
      "Исаак Федер\n",
      "Брайан Хелгеленд\n",
      "Мэттью Уорчас\n",
      "Джоэл Эдгертон\n",
      "Эрве Мимран, Жеральдин Накаш\n",
      "Алехандро Хидальго\n",
      "Филипп Амио, Филипп Беллимар, Мартин Брукс, Диего Виванко, Ниниан Доф, Йан Кларк, Морган Кранц, Рас Леморо, Барри Джин Мерфи, Балазс Патаки, Дин Саффрон, Грег Хаккет, Рейчел Хардинг, Стефан Хенель, Стефан Шотт\n",
      "К.Сафина, А.Першин, Г.Добрыгин, О.Михеева, К.Плетнев\n",
      "С.Антонов, С.Подивилов, В.Стрельченко, Ю.Пронин\n",
      "Б.Терекбаев\n",
      "Стив Бокс, Ник Парк\n",
      "Юнг Куюн Парк\n",
      "Пабло Фендрик\n",
      "Энди Годдар\n",
      "П.Буслов\n",
      "Арнольд Гискин\n",
      "Дениз Гамзе Эргювен\n",
      "Кристофер Лэндон\n",
      "Грегори Плоткин\n",
      "Брек Эйснер\n",
      "Киран Фой\n",
      "Э.Бордуков\n",
      "А.Миндадзе\n",
      "А.Нужный\n",
      "Джэймс Кэмерон\n",
      "Джулиано Никколо Лигабуэ, Марко Раффаини\n",
      "Жоанн Сфар\n",
      "Габриэль Рива Паласио Алатристе, Родольфо Рива Паласио Алатристе\n",
      "Джон Ву\n",
      "Ф.Гэри Грей\n",
      "Л.Густаво Купер\n",
      "А.Петрухин\n",
      "Штефан Кромер\n",
      "Джонни О'Райлли\n",
      "А.Балахонов\n",
      "В.Мухаметзянов, В.Пономарёв, А.Миронов, Е.Салабай\n",
      "С Чекалов\n",
      "Арман Марутян, Ваагн Хачатрян\n",
      "Рето Салимбени\n",
      "Милчо Манчевски\n",
      "Вим Вендерс, Джулиано Рибейру Сальгаду\n",
      "В.Угличин\n",
      "А.Агаджанян\n",
      "Шон Патрик О.Рейли\n",
      "О.Ланд\n",
      "А.Галибин\n",
      "Е.Салабай, В.Пономарёв, А.Миронов, И.Пшонкин, А.Рубецкой, Н.Харина, Е.Чернова, А.Бахурин, О.Ужинов\n",
      "И.Кордзаия\n",
      "В.Пономарев, А.Миронов, Е.Салабай\n",
      "Масахико Мурата\n",
      "Хаято Датэ\n",
      "А.Анненский\n",
      "Мартин Бурбулон\n",
      "Тинатаин Каджришвили\n",
      "Стивен С.Кампанелли\n",
      "Марк Невелдайн\n",
      "В.Пономарёв, А.Миронов, Е.Салабай\n",
      "Дуг Эллин\n",
      "Родни Эшер\n",
      "Терри Джонс\n",
      "Джастин Курзель\n",
      "Деннис Виллануэве\n",
      "Питер Сон\n",
      "Альберт Майзелс\n",
      "Е.Салабай, А.Миронов, Е.Головин, А.Борисова и др.\n",
      "С.Хажироко\n",
      "Л.Трофимова, А.Курганская\n",
      "Билли Рэй\n",
      "Дамон Гамо\n",
      "Рене Фере\n",
      "Симон Ферхоэвен\n",
      "Адам Шиндлер\n",
      "Антон Корбейн\n",
      "Тиан Сяо Пенг\n",
      "Д.Изместьев\n",
      "Г.Куценко (Ю.Куценко)\n",
      "Тим Миллер\n",
      "Корин Харди\n",
      "Кент Джонс\n",
      "С.Мирошниченко\n",
      "А.Миронов, Е.Головин, Р.Верещак и др.\n",
      "Флориан Галленбергер\n",
      "Афонсо Пойарт\n",
      "Том Коркоран\n",
      "Е.Сергеев\n",
      "Фернандо Гонзалез Молина\n",
      "В.Павлов\n",
      "Е.Перволовичи\n",
      "А.Миронов, Е.Головин, Е.Савчук, Р.Верещак и др.\n",
      "Джей Роуч\n",
      "К.Дружинин, А.Шальопа\n",
      "Рич Мур, Байрон Ховард\n",
      "Майвенн Ле Беско\n",
      "Билл Кондон \n",
      "Пабло Троперо\n",
      "Бен Блейн, Крис Блейн\n",
      "А.Рубинштейн, А.Ким, М.Воскобоев, Н.Беляускене\n",
      "А.Миронов, Е.Головин, Р.Верещак, Е.Салабай, В.Бедошвили, Е. Чернова, А.Бахурин, А.Соколов\n",
      "М.Шевчук\n",
      "В.Ровенский\n",
      "И.Волкова\n",
      "Жан-Поль Раппно\n",
      "Б.Гуц\n",
      "Артур Делер, Квентин Рейно\n",
      "Фузаль Булифа, Маркус Лехмусусс, Майкл Мохан, Фульвио Резулио, Маша Халберстад\n",
      "Вильям Де Витал\n",
      "А.Дамскер\n",
      "Эмили Янг\n",
      "Е.Шелякин\n",
      "Владислав Байрамгулов\n",
      "Брэдли Кинг\n",
      "Акош Барноцкий\n",
      "М.Волков, А.Галат, В.Николаев\n",
      "Луи Гаррель\n",
      "Росс Венокур\n",
      "Ласло Немеш\n",
      "Йоаким Триер\n",
      "Т.Воронецкая, Д.Сергин\n",
      "И.Триф\n",
      "Наталья Мальгина\n",
      "Тоби Бауманн\n",
      "Клэй Кейтис, Фергал Рейли\n",
      "Т.Эверестова\n",
      "Джон Лойд\n",
      "С.Снежкин\n",
      "Джерика Клилэнд, Кевин Манро\n",
      "Лука Лучини\n",
      "Теренс Дэвис\n",
      "Тим Стори\n",
      "А.Демин, Р.Синкевич, Н.Березовая, О.Ужинов и др.\n",
      "Роман Мушегян\n",
      "Мэттью Барни\n",
      "Питер Соллетт\n",
      "Рошди Зем\n",
      "Сара Адина, Энтони Скотт Бёрнс, Кевин Колш, Николас МакКарти, Адам Иджипт Мортимер, Кевин Смит, Скотт Чарльз Стюарт, Деннис Уидмайер, Гари Шор\n",
      "Стефан Бризе\n",
      "Клаудио Уберти\n",
      "Ижинио Страффи\n",
      "Бенуа Делепин, Гюстав Керверн\n",
      "Джоди Фостер\n",
      "О.Семёнова\n",
      "Тревор Уолл\n",
      "П.Бар, К.Баркер, К.Бронзит, М.Демаре,  Ю.Жан, Ж.Журдан, П.-Б.Марти,  Г.Осорио, С.Патэль, М.Пилье, Б.Плимптон, Ж.Робин,  К.Роже, Ж.Солер, Н.Филан, Н.Форнер,  Д.Херцфельд, К.Ше\n",
      "Седрик Николя-Троян\n",
      "А.Амиров\n",
      "И.Найтшуллер\n",
      "Вано Бурдули\n",
      "Т.Сличенко\n",
      "Жан-Мари Пуаре\n",
      "Майкл Мэдсен\n",
      "А.Давыдова\n",
      "К.Геворкян\n",
      "Е.Данченко\n",
      "Т.Мамедов\n",
      "Ю.Сысоев, В.Мистюков, К.Тищенко\n",
      "Алессандро Карлони, Дженнифер Ю\n",
      "Георгий Варсимашвили\n",
      "Ник Рид, сорежиссер Марк Франкетти\n",
      "Зося (София) Родкевич\n",
      "Ким Фаррант\n",
      "Дэн Трактенберг\n",
      "Р.Артемьев\n",
      "Роберт Карлайл\n",
      "Дэвид Фейсс\n",
      "Тео Пирри\n",
      "А.Матисон\n",
      "Иван Джерголет\n",
      "Стефано Инчерти\n",
      "Роландо Равелло\n",
      "Давиде Феррарио\n",
      "Пьетро Паролин\n",
      "Гуэндалина Дзампаньи\n",
      "Татьяна Данильянц, Джанфранко Панноне, Диего Ченетьемпо\n",
      "Робин Верет, Дмитрий Гочгарян, Тиль Новак, Росто, Корали Фарго, Патрисия Фонт, Дэн Хогсон, Янгци Ши\n",
      "Р.Артемьев, Г.Суханова, А.Маслов, И.Максимов, Н.Тамаров, А.Нужный\n",
      "С.Кравцова, А.Калин, Е.Чернова и др.\n",
      "Ксавье Джанноли\n",
      "Росс Кац\n",
      "Н.Кудряшов\n",
      "Н.Мубинов, А.Чернова, С.Горя, А.Черногоров и др.\n",
      "У.Бош, М.Данкер, Л.Индовина, К.Кэхилл, Р.Люкер, Б.Магнотье, Э.Маргетсон, Т.Эльрих\n",
      "Сюзанна Уайт\n",
      "Дункан Джонс\n",
      "Т.Саакян\n",
      "А.Красовский\n",
      "Джеймс Нанн, Ронни Томпсон\n",
      "Джонатан Силвермен, Дженнифер Финниган\n",
      "Лука Гуаданьино\n",
      "Дэйв Грин\n",
      "Г.Проценко\n",
      "О.Столповская\n",
      "Скотт Манн\n",
      "В.Харьков\n",
      "А.Русланова (псевдоним - Саша Франк)\n",
      "Винсент Кестелут, Бен Стассен\n",
      "Мадс Маттисен\n",
      "А.Китайцев\n",
      "Луи Летеррье\n",
      "Г.Дюкарев, А.Рубинштейн, А.Ким, М.Воскобоев, Н.Беляускене\n",
      "Алис Винокур\n",
      "Бенжамин Роше\n",
      "Александр Сокуров\n",
      "А.Андризани, А.Бардани, В.Карнелутти, Ф.Коста,  Г.С.Нардис, В.Пальмьери, В.Чеа, А.Юлиано \n",
      "Ф.Ало, Д.Баккер, Э.Креси, К.Рот, Д.Рэймерс, С.Тэйлор-Джонсон, Л.Уплэйн, Х.М.Фазели, Ч.Ч.Ким, Э.Эйнхорн, П.Эмерсон\n",
      "М.Валто, А.Диксон,  Ж.Крыжовников, Д.Ласу, Т.Лесурд, Д.Оду, М.Пелисиоли, Б.Плимптон, А.Тонен, Л.Фирод\n",
      "Дани де ла Орден\n",
      "Декстер Флетчер\n",
      "А.Кириенко\n",
      "Кан Евренол\n",
      "Гэрри Маршалл\n",
      "Лиза Джонсон\n",
      "Атом Эгоян\n",
      "Майкл Дж.Сарна\n",
      "Элай Рот\n",
      "П.Ливолси,Э.Моргетсон, К.Рейнер, Р.Русенс, Я.Русенс, Д.Ходжсон, Б.Шоу\n",
      "В.Лакисов\n",
      "П.Воллрат, Д.Донахьюм, Б.Клеари, Б.Халил, Г.Хугхеш\n",
      "Отар Иоселиани\n",
      "Д.Суворов\n",
      "Алекс ван Вармердам\n",
      "Клаудиа Майерс\n",
      "Луи Симон\n",
      "Артур Бензакен\n",
      "О.Субботина\n",
      "Джейсон Зада\n",
      "Ю.Белюсева\n",
      "И.Угольников\n",
      "В.Бек\n",
      "Люка Бельво\n",
      "Е.Салабай, В.Пономарёв, А.Миронов, Е.Головин, А.Бахурин\n",
      "Майкл Догерти\n",
      "В.Сигарев\n",
      "Эндрю Хэй\n",
      "Карлос Саура\n",
      "А.Коваленко\n",
      "Стив Мартино\n",
      "Грен Уэллс\n",
      "Т.Харкевич\n",
      "М.Кравченко\n",
      "М.Вартанян, Е.Головин, А.Миронов, О.Шепляков, А.Борисова, Е.Шабанова\n",
      "Хидео Наката\n",
      "Кевин Гетц, Майкл Гетц\n",
      "Эли Важеман\n",
      "Бёрр Стирс\n",
      "Алекс Пройас\n",
      "С.Эйзенштейн, Д.Васильев\n",
      "Г.Мыльников, Б.Токарев, А.Сиренко\n",
      "Эндрю Морган\n",
      "А.Томашевский\n",
      "Е.Салабай, Р.Верещак, Е.Головин, А.Миронов, Е.Савчук, Р.Газизов, Е.Шабанова\n",
      "А.Миронов, К.Кравченко, Е.Головин, Е.Савчук, А.Соколов, Р.Верещак, Е.Салабай\n",
      "Д.Шмидт\n",
      "Р.Сафин\n",
      "Марко Беллоккио\n",
      "А.Михалков\n",
      "А.Миронов, Е.Головин, Е.Савчук, Р.Верещак, Е.Салабай, Е.Чернова, А.Бахурин\n",
      "Джон Краули\n",
      "Р.Волобуев\n",
      "Райан Куглер\n",
      "Г.Курлаев, В.Панжев, Е.Соколов, С.Морозов и др.\n",
      "Джей Блейксон\n",
      "Крэйг Гиллеспи\n",
      "Уилл Кэнон\n",
      "С. Крэйг Залер\n",
      "Оуэн Харрис\n",
      "Георгий Орлов\n",
      "Роб Леттерман\n",
      "Н.Степанова при участии С.Иванова\n",
      "Андрей Беляев\n",
      "Стивен С.Миллер\n",
      "Н.Бондарчук\n",
      "А.Майовер, Д.Крылова\n",
      "Т.М.Райвс\n",
      "Алехандро Аменабар\n",
      "А.Соколов\n",
      "Раман Хюи\n",
      "Джесси Нельсон\n",
      "Лука Виотто\n",
      "Эриксон Кор\n",
      "Франсуа Бриссон, Жан-Франсуа Пуле\n",
      "Марк Осборн\n",
      "А.Миронов, Р.Верещак, А.Грибков, А.Соколов и др.\n",
      "М.Михайлова\n",
      "Хулио Медем\n",
      "Джон Маклин\n",
      "Элла Лемхаген\n",
      "Дэвид Листер\n",
      "С.Соколов\n",
      "Дж.П. Сниадецки\n",
      "Хонгки Ли, Монс Монссон\n",
      "Дэвид О.Рассел\n",
      "Маттиас Олоф Эйх\n",
      "У.Грайнер, Д.Гротелл, Г.Мендеш, М.Ситер, А.Халискиас,  Ж.Хосмалин\n",
      "Том МакКарти\n",
      "Марк Дакаскос\n",
      "Динг Лианг, Фуюань Лью\n",
      "Тодд Хейнс\n",
      "Гэвин О'Коннор\n",
      "Э.Бостан\n",
      "О.Бондарев\n",
      "Л.Сааков\n",
      "А.Смирнов, Л.Шепитько\n",
      "М.Левитин мл.\n",
      "Б.Яшин\n",
      "И.Болотников\n",
      "Кодзи Шираиши\n",
      "Дин Тейлор, Ноэль Клири и др.\n",
      "Дрейк Доримус\n",
      "Феде Альварес\n",
      "Е.Соколов, Е.Морозова, В.Панжев, Г.Курлаев и др.\n",
      "Трэвис Найт\n",
      "Уолт Дорн, Майк Митчелл\n",
      "Александр Высоковский\n",
      "Джаред Хесс\n",
      "Нельсон Шин\n",
      "Е.Кравченко\n",
      "А.Федотов\n",
      "Д.Наумов\n",
      "Д.Кубасов\n",
      "Карадог В. Джеймс\n",
      "О.Арнольд, Р.Базерк, Д.Ларзильер, А.Ронберг, Д.Уайт, Д.Хартл    \n",
      "Том МакГрат\n",
      "Кеннет Лонерган\n",
      "Даниэль Эспиноса\n",
      "Келли Эсбери\n",
      "А.Абидова (псевдоним Аниса Сабири)\n",
      "Аарон Вудли\n",
      "Стелла Меги\n",
      "Колм МакКарти\n",
      "Алиса Хазанова\n",
      "Е.Живайкина, А.Костогарова\n",
      "Жюли Дельпи\n",
      "Кюнг Хо Ли, Вонджа Ли\n",
      "Д.Киселев\n",
      "Петер Бросенс, Джессика Хоуп Вудворт\n",
      "И.Шахназаров\n",
      "Ник Сандов\n",
      "И.Каграманов, А.Наумов, С.Осипьян, В.Валиуллин, Е.Бродач, К.Васильев\n",
      "Кристиан Сесма\n",
      "Сирил Барбанкон, Энди Биатт, Жаклин Фармер\n",
      "Александр Ажа\n",
      "Грег МакГилливрэй\n",
      "Мел Гибсон\n",
      "Кайжайр Акопян\n",
      "Люсиль Адзиалилович\n",
      "Люк Бонди\n",
      "Паоло Дженовезе\n",
      "Ф.Хавьер Гутьеррес\n",
      "Дито Монтиель\n",
      "Эдуард Баэр\n",
      "Роксан Бенджамин, Дэвид Брукнер, Патрик Хорват, Рэдио Сайленс\n",
      "Эван Трэмал\n",
      "Ри Руссо-Янг\n",
      "Сильви Веред\n",
      "Джордан Вогг-Робертс\n",
      "Стивен Гейган\n",
      "И.Учитель\n",
      "Даниэль Альфредсон\n",
      "Джанфранко Рози\n",
      "Джослин Мурхаус\n",
      "Деклан Дэйл\n",
      "Николас Столлер, Даг Суитлэнд\n",
      "Пол Верховен\n",
      "Энди Теннант\n",
      "Маджид Маджиди\n",
      "Джош Гордон, Уилл Спек\n",
      "А.Кравчук\n",
      "Стивен Шейнберг\n",
      "Антон Азаров\n",
      "Эрик Д.Хауэлл\n",
      "В.Мережко\n",
      "Деннис Ганзель\n",
      "М.Плура, С.Макнейр, Э.Люст, О.Парн, П.Парн, Ф.Брак, Т.Сислей, Ж.Патри, Ж.С.Берно, Л.Аркадиас, Ж.Маршан\n",
      "Катерина Кароне\n",
      "Д.Хананов\n",
      "Д.Золототрубов\n",
      "Е.Морозов\n",
      "Манук Депоян\n",
      "Гастон Дюпра, Мариано Кон\n",
      "Стивен Кантор\n",
      "Тоби Генкель, Реза Мемари\n",
      "Н.Меркулова\n",
      "А.Арпеньтеньер, А.Бариларо, М.Бланчес, Р.Валлей, Л.Гранд, Ф.Дион, А.Жасина, Э.Коэтс,  Лу Хаму-Лхад, П.Осборн, Т.Ушев\n",
      "Хатем Храиче\n",
      "Сидней Сибилиа\n",
      "Валентино Пиконе, Сальваторе Фикарра\n",
      "Шон Эллис\n",
      "К.Балагов\n",
      "Гилберт Кинг\n",
      "С.Аксенов\n",
      "Пако Леон\n",
      "Аарон Кауфман\n",
      "Синг-Чунг Фу, Бетти Тэнг\n",
      "Конрад Вернон, Грег Тирнан\n",
      "Робин Суикорд\n",
      "Бальтасар Кормакур\n",
      "Эндрю Стентон, Ангус МакЛэйн\n",
      "Са Ниа\n",
      "Дэвин ДиХэйвен\n",
      "Н.Досталь\n",
      "А.Бильжо\n",
      "Е.Борисова при участии В.Фатьянова\n",
      "Дэвид Лоуэри\n",
      "Е.Чичканов\n",
      "Томохиро Кавамура, Йосихиро Комори\n",
      "Дэвид Кэмпбэлл\n",
      "Хак Ботко\n",
      "Марио Ван Пиблз\n",
      "Брэйди Корбет\n",
      "Джон Клацкевич, Курт Морган\n",
      "А.Хант\n",
      "Пэтти Дженкинс\n",
      "Стивен Хопкинс\n",
      "Пьер Годо\n",
      "Дэн Кван, Дэниэл Шайнерт\n",
      "Теа Шеррок\n",
      "Майк Термайер, Гален Т.Чу\n",
      "Джонатан Кесселман\n",
      "Родриго Гарсия\n",
      "Паскаль Бурдьо\n",
      "Сэм Фридлендер\n",
      "Р.Шульман\n",
      "Д.Таран\n",
      "Том Форд\n",
      "Ди Джей Карузо\n",
      "Николас Бенаму\n",
      "Мартин Кулховен\n",
      "Эрик Саммер, Эрик Уорин\n",
      "Хьюго Желен\n",
      "Марен Аде\n",
      "Энтони Пауэр\n",
      "Шелдон Уилсон\n",
      "С.Гинзбург\n",
      "Хулио Сото Гурпиде\n",
      "М.Демченко\n",
      "Аскар Бисембин\n",
      "Али Замади Ахади\n",
      "Франк Гастамбид\n",
      "С.Азази, Х.Г.Пене, К.Дик, Т. вон Гюнтен \n",
      "Кристобаль Крузен\n",
      "М.Бэйкер, Д.Е.Брайант, Д.Рондот, Я.Серсар, Д.Спинелли, Ж.Халард,   М.Эмануэлли, Х.Эмануэлли\n",
      "Т.Эсадзе\n",
      "А.Ильин\n",
      "Саймон Эбауд\n",
      "Марта Гёрджи-Кесслер, Адам Пенни\n",
      "Д.Адар, П.Антохин, М.Биасин, А.Бурунова, К.Колинз, К.Россет, Д.Эверет\n",
      "А.Мурадов\n",
      "Р.Жигалов\n",
      "Ноэми Саглио\n",
      "Дениз Ди Нови\n",
      "Н.Хомерики\n",
      "В.Галкина\n",
      "Джейк Зимански\n",
      "Хайме Колье-Серра\n",
      "Роусон Маршалл Тёрбер\n",
      "Том Денуччи\n",
      "Семёнова О.А.\n",
      "А.Ефремова\n",
      "Стэйси Тайтл\n",
      "Гийом Кане\n",
      "Пол Карри\n",
      "Эш Браннон\n",
      "Филипп Лашо\n",
      "Дэн Израэлит\n",
      "Юхо Куосманен\n",
      "А.Пармас, Н.Кудряшова, А.Гогленкова, Н.Назарова, О.Бычкова, А.Смирнова, Р.Литвинова\n",
      "А.Грачев\n",
      "А.Незлобин\n",
      "В.Алеников\n",
      "Р.Гигинеишвили\n",
      "Г.Орлов, А.Беляев, Н.Мальгина, В.Байрамгулов\n",
      "А.Лукьянчиков, С.Ушаков\n",
      "Джеймс Фоули\n",
      "Йоаким Реннинг, Эспен Сандберг\n",
      "Элинор Коппола\n",
      "Стефани Ди джусто\n",
      "Дени Вильнёв\n",
      "Николь Гарсия\n",
      "Андре Овредал\n",
      "Гэвин Вьесен\n",
      "Рик Барнс, Оливия Неергаарлд-Холм, Джон Нгуйен\n",
      "Эллиот Лестер\n",
      "Фернандо Труэба\n",
      "Стэнли Тун\n",
      "Ники Каро\n",
      "А.Котт, В.Котт, А.Карпиловский, Б.Хлебников\n",
      "И.Евланов\n",
      "Ховард Холл\n",
      "Уит Стиллман\n",
      "Р.Глурджидзе\n",
      "М.Свешников\n",
      "М. ван Айертрик, А.Даниэльсен, Т.Коув, А.Ойя, Й.Рутанен, С.Рутлин, О.И. Салонен,  Й.Тойвоньеми, Г.Энгер\n",
      "Зак Уэдон\n",
      "Фил Горн\n",
      "Эмир Кустурица\n",
      "Джон Гамбург\n",
      "Майкл Грандадж\n",
      "Джефф Цимбалист, Майкл Цимбалист\n",
      "Эндрю Лоэр\n",
      "Синсуке Сато\n",
      "Е.Алексеев, А.Алексеев\n",
      "И.Слабневич\n",
      "Э.Ходжикян, А.Ладынин\n",
      "Д.Васильев, Ю.Райзман\n",
      "Грег Моттола\n",
      "Мигель Анхель Ламата\n",
      "Клод Баррас\n",
      "Мартен Бурбулон\n",
      "Джонатан Мостоу\n",
      "Брайан Фи\n",
      "Лусия Аньелло\n",
      "Николя Бедос\n",
      "Марк Каллен, Робб Каллен\n",
      "Ю.Кулаков\n",
      "И.Перин\n",
      "Т.Столбова\n",
      "А.Оганесян\n",
      "Чан Ань Хунг\n",
      "Ён Сан-хо\n",
      "Тобиас Вебер\n",
      "Роджер Росс Уильямс\n",
      "Джеймс Понсольдт\n",
      "Терри Джордж\n",
      "Майкл Аптед\n",
      "Роберт Легато\n",
      "Пол У.С. Андерсон\n",
      "Джулиан Розефельдт\n",
      "Брайан Гудман\n",
      "Анна Ферстер\n",
      "Джошуа Марстон\n",
      "Кристофер Фитчетт \n",
      "Генри Джуст, Эриель Шульман\n",
      "А.Аббасов\n",
      "Джейсон Момоа\n",
      "Асгар Фархади\n",
      "Стефани Робели\n",
      "Кейт Шортланд\n",
      "Микинори Сакакибара, Кунихико Юяма\n",
      "В.Рудак\n",
      "И.Щербань\n",
      "А.Кузьминых\n",
      "Ю.Суходольский\n",
      "Садык Шер-Нияз\n",
      "Дерек Сиенфрэнс\n",
      "Л.Марголин, С.Андреасян, М.Жерневский\n",
      "Т.Бекмамбетов, И.Джендубаев, А.Котт, А.Шавкеро, В.Перельман, М.Лихачева, Р.Непомнящий\n",
      "Джордан Пил\n",
      "Н.Дрейден\n",
      "Алекс Куртцман\n",
      "Грег МакЛин\n",
      "Джеймс Франко, Памела Романовски\n",
      "Доминик Молль\n",
      "Э.Веливис\n",
      "Джон Мур\n",
      "К.Трофимова\n",
      "М.Кумыков\n",
      "Альберто Родригез\n",
      "В.Тодоровский\n",
      "Маниш Шарма\n",
      "Шон Бирн\n",
      "Ю.Матросова, А.Миронов, С.Ромашкин, Дм. Высоцкий, И.Фаве, А.Алексеев, П.Минченок и др.\n",
      "Крис Маккей\n",
      "Мартен Прово\n",
      "Даррин Линн Боусман\n",
      "Гарт Дженнингс, Кристоф Лоурделет \n",
      "Гарт Дэвис\n",
      "Акан Сатаев\n",
      "С.Меринов, О.Чернова, Н.Березовая, А.Игнатов\n",
      "С.Рамз\n",
      "И.Стороженко\n",
      "Е.Абраменко\n",
      "В.Мирзоев\n",
      "Лукас Цяо\n",
      "Динг Лианг\n",
      "Ежи Сколимовский\n",
      "Фабио Бонифаччи, Франческо Миччикэ\n",
      "В.Шевельков\n",
      "Б.Доржиев\n",
      "В.Татарский\n",
      "Д.Глисон, Л.Дэвис, П.Жобер,  Б.Саузкомби, О.Уильямс, М.Д..Хелфгот, Д.Хилман, С.Чэн\n",
      "Дженнаро Нунцианте\n",
      "Чхан Ук Пак\n",
      "Люк Скотт\n",
      "И.Мережко\n",
      "А.Симонов\n",
      "В.Фурманов\n",
      "Б.Юсупов, Р.Еникеев\n",
      "Юлиан Радльмайер\n",
      "С.Абрахамс, Ф.Гарсиа-Руис, Р.Лиментани, Т.Розин, Г.Тис, А.Энгель, М.И.Эпштайн\n",
      "Р.Хамдамов\n",
      "А.Лукичев\n",
      "Чан Гуанси, Пэн Фэй\n",
      "Тьерри Фремо\n",
      "А.Журавлева,М.Кузнецова,С.Меринов,А.Дьяков,О.Ужинов,Н.Гребенкина,А.Соколов\n",
      "Х.Стойчев, С.Кулиш\n",
      "Марилу Берри\n",
      "Николас Виндинг Рефн\n",
      "К.Баскакова\n",
      "А.Каурых, С.Охотин\n",
      "Эген Уулу Нурбек\n",
      "Д.Шмидт, Ф.Дмитриев, В.Торопчин\n",
      "Д.Дунаев\n",
      "Ребекка Злотовски\n",
      "А.Бальчев\n",
      "Р.Каргаполов\n",
      "О.Кузовков, И.Трусов, А.Беляев, Н.Мальгина, В.Байрамгулов\n",
      "Даниэль Рагуссис\n",
      "Стюарт Хендлер\n",
      "Юэн МакГрегор\n",
      "Маркус Дэнстон\n",
      "Педро Морелли\n",
      "Шинтаро Шимосава\n",
      "Вим Вендерс\n",
      "А.Созонов\n",
      "А.Касаткин\n",
      "Ф.Коршунов при участии П.Мирзоева\n",
      "Т.Корнев\n",
      "Кен Сэнзел\n",
      "Шэрон Магуайр\n",
      "К.Ратушная\n",
      "Жан-Франсуа Пуле\n",
      "Чарльз Покел\n",
      "Стив Лихтаг\n",
      "Е.Михайлова, И.Максимов\n",
      "Ю.Сапонова\n",
      "Барри Дженкинс\n",
      "Н.Беляускене\n",
      "Бенедикт Эндрюс\n",
      "Кристиан Матысек\n",
      "А.Молочников\n",
      "Т.Воронецкая, А.Богатырев\n",
      "О.Агейчев\n",
      "Кайл Балда, Эрик Гуильон, Пьер Коффан\n",
      "Джон Уоттс\n",
      "Джон Дженкс\n",
      "Кимо Стамбол, Тимо Тьяджанто\n",
      "Игор Биддау\n",
      "Антонио Капуано\n",
      "Марк Уильямс\n",
      "Дэвид Ф.Сэндберг\n",
      "Эндрю Росси\n",
      "Жюстин Трие\n",
      "О.Карас\n",
      "М.Барынин\n",
      "Тод \"Кип\" Уильямс\n",
      "Хосе Майа, Фредерико Пинто\n",
      "Ж.Альберт, М.Кунерт, М.Митник,  Д.Рейниш, М.Ричмонд, Д.Соскин,  В.Стотер, Д.Ходжсон\n",
      "Мари Мадинье\n",
      "Майкл Мур\n",
      "Кенни Янг\n",
      "Каспер Барфоэд\n",
      "Дэвид Френкель\n",
      "Р.Рашитов, С.Сунгатуллин\n",
      "Тед Мелфи\n",
      "Михаэль Дюдок де Вит\n",
      "Пабло Ларраин\n",
      "Ю.Калинина\n",
      "М.Кукушкин, Т.Данн\n",
      "М.Расходников\n",
      "А.Селиверстов\n",
      "А.Шейн\n",
      "А.Васин, Г.Параджанов, О.Бородина\n",
      "Скотт Стюарт\n",
      "С.Ушаков, И.Евланникова\n",
      "А.Грабарь\n",
      "Хаум Коллет-Серра\n",
      "Доминик Сена\n",
      "Э.Назаров\n",
      "А.Попогребский\n",
      "Л.Гладунко\n",
      "Е.Семенов\n",
      "С.Дебижев\n",
      "В.Воробьев\n",
      "Д.Боголепов\n",
      "В.Юркус\n",
      "А.Самохвалов, Б.Ростов\n",
      "Джесс Гордон\n",
      "В.Потапов, Ю.Бердников\n",
      "Валерио Мьели\n",
      "Дин Деблуа, Крис Сендерс\n",
      "Онир\n",
      "Л.Носырев\n",
      "М.Вайсберг\n",
      "Х.Нарлиев\n",
      "Чуан Лу\n",
      "Олатунда Осунсанми\n",
      "Лоне Шерфиг\n",
      "Данте Лам\n",
      "И.Сафаров\n",
      "Г.Михалков, Г.Натансон, В.Сторожева, А.Касаткин, А.Михалков, А.Разенков, Э.Суни и др.\n",
      "Тим Бартон\n",
      "Джон МкТиран, Майкл Крайтон\n",
      "Айван Райтман\n",
      "Уолт Беккер\n",
      "В.Огородников\n",
      "Р.Кубаева, С.Щугарев, Я.Мочалов\n",
      "К.Папакуль\n",
      "Ли Ункрич\n",
      "Кристиан Алварт\n",
      "Брюс Бересфорд\n",
      "Вольфганг Петерсен\n",
      "Спайк Джонз\n",
      "Орен Пели\n",
      "Нэнси Майерс\n",
      "Филипп Нойс\n",
      "Томас Джейн\n",
      "Дэвид О'Расселл\n",
      "В.Дубровицкий\n",
      "Л.Габриадзе\n",
      "Эрик Бревиг\n",
      "Тошикадзу Нагаэ\n",
      "Хауме Коллет-Серра\n",
      "Джон Уайтселл\n",
      "Айвен Райтман\n",
      "В.Аравин\n",
      "Дэйвид Р.Эллис\n",
      "Дейвид МакНэлли\n",
      "Джо Данте\n",
      "Дэни Леви\n",
      "Е.Кончаловский\n",
      "Том Дей\n",
      "Дональд Шебиб\n",
      "Самуэль Маоз\n",
      "Р.Нугманов\n",
      "Джеймс Кэмерон\n",
      "Бетти Томас\n",
      "Мира Наир\n",
      "Марк Лоуренс\n",
      "Хойт Йетман\n",
      "Карин Кусама\n",
      "Кристиан Молина\n",
      "Хон Сан Су\n",
      "Нил Маршалл\n",
      "П.Масларов\n",
      "Энтони Бэлл, Бен Глюк\n",
      "А.Кавун\n",
      "Алекс Пастор, Дэвид Пастор\n",
      "Ришар Бери\n",
      "Жако Ван Дормель\n",
      "Алан Пол\n",
      "Майкл Ньюэлл\n",
      "Сэмюэл Байер\n",
      "Обри Паулл\n",
      "А.Аболс\n",
      "Хава Эссуман, Том Тыквер\n",
      "Джордж Нолфи\n",
      "К.Котельников, А.Аболс\n",
      "Анджей Бартковяк\n",
      "Трой Миллер\n",
      "Бретт Ратнер\n",
      "Патрик Люссье\n",
      "Гейб Ибаньес\n",
      "Йорген Лердам\n",
      "Клод Берри, Франсуа Дюпейрон\n",
      "Нанетт Бурстайн\n",
      "И.Ромащенко\n",
      "Паскаль Шомей\n",
      "Жак Перрен, Жак Клюзо\n",
      "Джессика Хауснер\n",
      "Корнелиу Порумбойю\n",
      "Р.Ганган\n",
      "А.Сухарев\n",
      "Д.Ефремович, А.Каторженко\n",
      "И.Цветов (режиссер ч/б фильма - С.Тимошенко)\n",
      "Дрю Бэрримор\n",
      "Питер Биллингсли\n",
      "Мэтью Вон\n",
      "Микаэль Саломон\n",
      "И.Соловьева, Д.Шмидт, О.Ужинов, Д.Червяцов, М.Нефедова, О.Кузовков\n",
      "Саймон Уэллс\n",
      "Нил Бергер\n",
      "Эндрю Морахан\n",
      "Лука Ронкони\n",
      "Д.Мастеров, Н.Попова\n",
      "Клод Миллер, Натан Миллер\n",
      "Пэдди Бретнэк\n",
      "Энди Тэннант\n",
      "Дэвид Маллет\n",
      "Итэн Коэн, Джоэл Коэн\n",
      "Сэм Тейлор Вуд\n",
      "Фернанаду Майреллиш\n",
      "Н.Мирзоян\n",
      "Д.Сулейманов\n",
      "Софи Бартез\n",
      "Йоахим Роуннинг, Эспен Сандберг\n",
      "Томас Борч-Нельсен\n",
      "Д.Мамулия\n",
      "Ю.Озеров, Ю.Бондарев\n",
      "А.Адилханян\n",
      "М.Рязанова, В.Панжев, Г.Курлаев, М.Сулейманова, Н.Репина, С.Морозов и др.\n",
      "Хью Лори, Бен Элтон\n",
      "Кэтрин Хардвик\n",
      "Трент Купер\n",
      "Мика Каурисмяки\n",
      "М.Маханько\n",
      "Сэм Вуд\n",
      "Ален Вулф\n",
      "Дени Деркур\n",
      "Роберт Уилсон\n",
      "Эмма Данте\n",
      "В.Кущинский\n",
      "Юэнь Ву-Пин\n",
      "Хью Родс\n",
      "Уэс Крейвен\n",
      "Р.Нестеренко\n",
      "Фернандо Труэбо\n",
      "Нил Ла Бьют\n",
      "Густаво Кова\n",
      "С.Меринов\n",
      "Зенке Вортманн\n",
      "А.Самойлова\n",
      "Ю.Мазурова\n",
      "С.Дворцевой\n",
      "Е.Сысоева (С.Лысенко)\n",
      "М.Рязанова, Н.Репина, В.Панжев, Д.Никулин и др.\n",
      "Е.Ташков, А.Ташков\n",
      "А.Юмагулов\n",
      "Жюли Бертучелли\n",
      "А.Бзаров\n",
      "Джеф Треймейн\n",
      "С.Арланов\n",
      "Ниа Вардалос\n",
      "Дэннис Дуган\n",
      "Гари Виник\n",
      "Джон Тертлтауб\n",
      "Тенисон Бардуэлл\n",
      "А.Джунковский\n",
      "Мик ван Дием\n",
      "Джейсон Эпперсон\n",
      "Дэвид Мур, Джереми Вебб, Метин Хусейн, Элис Тротон\n",
      "Джей Дюплис, Марк Дюплис\n",
      "Хирокадзу Корэ-Эда\n",
      "Питер Доктер, Боб Питерсон\n",
      "Энди Фикман\n",
      "Нора Эфрон\n",
      "Карлос Саладна\n",
      "Кенни Ортега\n",
      "Тони Скотт\n",
      "Генри Бин\n",
      "Гела Баблуани\n",
      "Дункан Уорд\n",
      "Е.Тирдатова\n",
      "А.Барщевский, И.Матвеев\n",
      "А.Эшпай\n",
      "П.Бардин\n",
      "Рейнхард Клоос, Хольгер Таппе\n",
      "Паскаль Бурдиак\n",
      "Марк Романек\n",
      "Шем Биттерман\n",
      "Ли Сингму\n",
      "Коди Кэмерон\n",
      "Эли Крэйг\n",
      "Том Ди Чилло\n",
      "Деон Тейлор\n",
      "Берни Маттинсон\n",
      "С.Бодров-старший, Г.Омарова\n",
      "Марк С.Уотерс\n",
      "Джоэл Шумахер\n",
      "Рассел Малкэхи\n",
      "Дэвид МакНелли\n",
      "Сяолу Го\n",
      "Джадд Апатов\n",
      "Стефен Соммерс\n",
      "Аллен Колтер\n",
      "Чхан-Ук Пак\n",
      "Йорма Такконе\n",
      "А.Виткин, М.Беспалый\n",
      "Гаспар Ноэ\n",
      "В.Федоров\n",
      "Л.Шалгачева\n",
      "Майкл Эптед\n",
      "Джанкарло дель Монако\n",
      "И.Савельев\n",
      "Агнешка Войтович-Восло\n",
      "Жалмари Хеландер\n",
      "Матье Амальрик\n",
      "Дениэл Эспиноза\n",
      "Ларри Вачовски, Энди Вачовски\n",
      "Майкл Патрик Кинг\n",
      "Вольфганг Петерсон\n",
      "Тейлор Хекфорд\n",
      "Джордж Миллер, Уоррен Коулмэн, Джуди Моррис\n",
      "Эндрю Дэвис\n",
      "Рэйджа Госнелл\n",
      "Берр Стирс\n",
      "А.Стемпковский\n",
      "Е.Гроховская\n",
      "Марк Махон\n",
      "П.Санаев\n",
      "А.Марутян\n",
      "С.Борчуков\n",
      "А.Мачерет\n",
      "Джон Х.Уильямс\n",
      "Скандер Копти, Ярон Шани\n",
      "А.Щербинин\n",
      "Г.Негашев\n",
      "Ю.Мерзляков, Р.Магомадов, А.Ольков\n",
      "А.Петрас\n",
      "Джон Эрик Даудл, Дрю Даудл\n",
      "М.Сулейманов\n",
      "Фатих Акин, Иван Атталь и др.\n",
      "Сильвэйн Уайт\n",
      "Джина Ким\n",
      "Нил Бреннан\n",
      "С.Кальварский, В.Спирин\n",
      "Б.Бадриев\n",
      "Райан Мерфи\n",
      "Нильс Арден Оплев\n",
      "Джон Чу\n",
      "Ю.Шиллер\n",
      "Даниэль Штамм\n",
      "Уве Болл\n",
      "Д.Коробкин\n",
      "Роберт Дорнхельм\n",
      "Катрин Корсини\n",
      "С.Линцов, А.Велемицин\n",
      "Роджер Камбл\n",
      "В.Короленков\n",
      "Джон Харрисон\n",
      "К.Хрестинин\n",
      "Л.Горовец\n",
      "Бэнкси\n",
      "Тони Лойзер, Джеспер Мюллер\n",
      "Ник Стрингер\n",
      "Люк Крэссуэл, Стив МакНиколас\n",
      "Д.Коробкин, Л.Гурченко\n",
      "Р.Сабиров\n",
      "Томас Бальмес\n",
      "Я.Трофимова\n",
      "Джун-хо Бон\n",
      "Ж.Романова\n",
      "И.Комладзе\n",
      "Джон Льюссенхоп\n",
      "Н.Березовая\n",
      "Тод Уильямс\n",
      "А.Балабанов\n",
      "Э.Давлетшина\n",
      "Марк Льюис\n",
      "Оливье Маршаль\n",
      "Инжинио Страффи\n",
      "В.Мариничев\n",
      "Деррик Борте\n",
      "Паскаль Вонг, Ронан Чапалэйн\n",
      "Дональд Петри\n",
      "А.Мамедов\n",
      "Майкл Кристофер\n",
      "Майкл Кейтон-Джоунс\n",
      "А.Черняев, Е.Рустембеков\n",
      "Дэниэль Монзон\n",
      "Рассел Малкэй\n",
      "Леси Халлстрем\n",
      "В.Ефремов, И.Ефремова, В.Лопач\n",
      "А.Богданов\n",
      "Н.Очигава\n",
      "Браян Левант\n",
      "Р.Хрущ\n",
      "М.Коновальчук\n",
      "Н.Хомерики, О.Бычкова, С.Мокрицкий, С.Егерев, И.Малкин, О.Музалева и др.\n",
      "Мартин Кэмпбэл\n",
      "А.Луканев\n",
      "Е.Цыплакова\n",
      "Ван Сылинь, Чжен Линьна\n",
      "С.Айнутдинов\n",
      "С.Гордеев\n",
      "Роберт Олтман\n",
      "Дэвид Аттенборо\n",
      "Д.Астрахан\n",
      "Грэг Берланти \n",
      "А.Войтинский, Д.Киселев\n",
      "Колин Штраус, Грэг Штраус\n",
      "Джей Расселл\n",
      "Гэри Маршалл\n",
      "Раду Михайлеану\n",
      "И.Пелинский\n",
      "И.Соловьев\n",
      "Л.Трауберг, А.Тутышкин\n",
      "С.Алексеев\n",
      "Джуеме Балогуеро, Пако Плаза\n",
      "Ли Даниэлс\n",
      "В.Пендраковский, Ю.Рогозин\n",
      "Дэвид Слэйд\n",
      "Д.Белоусов\n",
      "Джо Джонстон\n",
      "Агустин Диас Янес\n",
      "Майкл и Питер Спайриг\n",
      "В.Ивакин, Д.Сорокин, О.Алиев, А.Горовацкий, Д.Маковцев и др. \n",
      "Н.Наумова\n",
      "В.Виноградов\n",
      "Гильермо Арриага\n",
      "И.Копылов\n",
      "И.Савченко, Т.Лукашевич, М.Ромм\n",
      "Кэтлин Бельхер\n",
      "Ли Чандон\n",
      "Жанна Лабрюн\n",
      "Билл Плимптон\n",
      "С.Маховиков\n",
      "А.Драницына\n",
      "С.Насенкова\n",
      "Питер Хайамс\n",
      "Джон Харрис\n",
      "Стефан Брауншвейг\n",
      "Д.О'Рейли\n",
      "Дани Бон\n",
      "Д.Вершинин\n",
      "Микеле Плачидо\n",
      "Стив Одекерк\n",
      "С.Щербин\n",
      "Алберт Хьюз, Эллен Хьюз\n",
      "М.Алиев, А.Пуустусмаа\n",
      "Адам Грин\n",
      "Дэвид Сильверман\n",
      "Питер Уир\n",
      "Роберт Куртцман\n",
      "А.Гутман\n",
      "Дэнни Лернер\n",
      "Л.Усова\n",
      "Э.Гущин\n",
      "А.Чеканов\n",
      "А.Бурцев, С.Снежкин, Е.Аксенов, В.Сорокин, И.Хамраев и др.\n",
      "М.Снежная\n",
      "Мигель Сапочник\n",
      "Майк Митчел\n",
      "И.Каленов\n",
      "Джоан Чен\n",
      "Бертран Тавернье\n",
      "Дейвид Добкин\n",
      "Йен Софтли\n",
      "Кевин Танчароэн\n",
      "Бо Дзенга\n",
      "Дэвид Цукер\n",
      "Грегор Джордан\n",
      "Эрик Лартиго\n",
      "Курт Мэттила, Мэтт Чековски\n",
      "Т.Бекмамбетов, Я.Чеважевский, А.Войтинский, Д.Киселев\n",
      "В.Карабанов\n",
      "С.Осипьян, А.Лунгин\n",
      "А.Щербович-Вечер\n",
      "Сильвен Шомэ\n",
      "М.Мкртчян\n",
      "А.Михайлов\n",
      "Андреа Арнольд\n",
      "Кабир Кхан\n",
      "Дейвид Р.Эллис\n",
      "Джеймс Вонг\n",
      "Оливер Хиршбигель, Джеймс  МакТиг\n",
      "ХЭрольд Рэмис\n",
      "Пэт О'Коннор\n",
      "Лоуренс Гутерман\n",
      "Лоренс Кэздан\n",
      "Кристофер Моррис\n",
      "Месси Таджедин\n",
      "Фредерик Берт\n",
      "Джон А.Дэйвис\n",
      "Ю.Афанасьев, Э.Архангельская\n",
      "Керн Конвайзер, Дэвид Рен\n",
      "Саймон Уинсер\n",
      "Роджер Камб\n",
      "Паскаль Пузаду\n",
      "Джон Г.Эвилдсен\n",
      "Гейбор Ксапо\n",
      "Кевин Рейнолдс\n",
      "Уильям Батлер\n",
      "Ричард Келли\n",
      "Кевин Гройтерт\n",
      "Дэвид Хакл\n",
      "Даррен Лион Бойсман\n",
      "Дарен Линн Босман\n",
      "Даррен Линн Баусмэн\n",
      "Джеймс Грей\n",
      "Кевин Мунро\n",
      "Крэйг Мэзин\n",
      "Кэтрин Хардуик\n",
      "Терри Звигоф\n",
      "Ричард Шепард\n",
      "Кинен Айвори Уэйанс\n",
      "Фрэнк Дарабонт\n",
      "Энтони Леондис\n",
      "Дэнни ДеВито\n",
      "Гай Ферланд\n",
      "Гил Кинан\n",
      "Микаэл Хальфстрем\n",
      "Ричард ЛаГравенезе\n",
      "Маркус Голлер\n",
      "А.Хмельницкая\n",
      "С.Глезин\n",
      "Фредерико Моччиа\n",
      "Барбет Шрёдер\n",
      "Эллори Элкайем\n",
      "Эндрю Дейвис\n",
      "Кен Куопис\n",
      "Ричард Лонкрейн\n",
      "А.Шадров\n",
      "Вл.Китт\n",
      "Роджер Мичелл\n",
      "Ф.Ибрагимбеков, С.Швыдкой\n",
      "Жилль Бурдо\n",
      "Феликс Энрике Алкала\n",
      "Джордж С.Вульф\n",
      "Джеймс МакТэйг\n",
      "Питоф\n",
      "Д.Карро, В.Абдрашитов\n",
      "Ален Рене\n",
      "Чарльз Роберт Карнер\n",
      "Патрис Шеро\n",
      "Кира Муратова\n",
      "Б.Казаков, Е.Серов\n",
      "Роланд Джоффе\n",
      "Ю.Королев (псевдоним Ю.Стааль)\n",
      "М.Дворянкин\n",
      "Флориан Хенкель фон Доннерсмарк\n",
      "Стив Энтин\n",
      "Микаэль Хофстрем\n",
      "Энтони Мингелла\n",
      "Анжела Робинсон\n",
      "Лес Мэйфилд\n",
      "Брайан Де Пальма\n",
      "Федерико Тицци\n",
      "Джонатан Миллер\n",
      "Николай Ленхофф\n",
      "Аббас Киаростами\n",
      "Эндрю Эдамсон, Келли Эсбари\n",
      "Эндрю Адамсон, Виктория Дженсон\n",
      "Марк Лоренс\n",
      "Тодд Филд\n",
      "Алекс Замм\n",
      "Джон Камерон Митчел\n",
      "А.Зельдович\n",
      "М.Ибрагимбеков\n",
      "А.Фенченко\n",
      "Н.Углицких\n",
      "С.Газаров, О.Фесенко\n",
      "Гиоргос Лантимос\n",
      "Р.Исмайлов\n",
      "Т.Таш-заде\n",
      "М.Кондрикова\n",
      "Макс Джива, Данайя Паскуини\n",
      "Барбара Топсе-Ротенборг\n",
      "С.Амбросова\n",
      "В.Ивановская\n",
      "Шенг Динг\n",
      "С.Осипьян\n",
      "Дэнни Гордон\n",
      "Манодж Найт Шьямалан\n",
      "Ронни Ю\n",
      "П.Медведев\n",
      "В.Акобян\n",
      "Майкл Дейвис\n",
      "Гэри Дэйвид Голдберг\n",
      "Стюарт Бейард\n",
      "Д.Дж.Карузо\n",
      "В.Меньков, С.Линцов, Р.Саульский\n",
      "А.Замыслов\n",
      "О.Осипов\n",
      "Дейв Филони\n",
      "Джозеф Кан\n",
      "Ричард Доннер\n",
      "Джоди Хилл\n",
      "Джеймс Л.Брукс\n",
      "Алистер Грирсон\n",
      "Пьер Алли\n",
      "Аннабель Арден\n",
      "Жильбер Дефло\n",
      "Эрик Валетт\n",
      "Джон Симпсон\n",
      "Марк Дэвис, Ноэль Кларк\n",
      "И.Коробейников\n",
      "Тим Хилл\n",
      "Розелин Бош\n",
      "Ли Тамахори\n",
      "Стивен Лоу\n",
      "Джулия Ли\n",
      "Дейвид Тоухи\n",
      "Стив Бенделэк\n",
      "Генри Селик\n",
      "Б.Бакурадзе\n",
      "З.Трофимова\n",
      "Е.Чернова\n",
      "Н.Чернышева\n",
      "Н.Ченышева\n",
      "В.Златопольский\n",
      "Карла Лиа Монти\n",
      "Паскаль-Алекс Винсент\n",
      "Джон Айвэй\n",
      "Пипилотти Рист\n",
      "И.Черницкий\n",
      "Трак Бренсс\n",
      "Дэвид Вустер\n",
      "Элисон Рейд\n",
      "Дрейк Доремус\n",
      "Ксави Хименез\n",
      "Ю Сун-Донг\n",
      "Алекс Колл\n",
      "Элайджа Мошински\n",
      "Маркус Вайнер\n",
      "Мелисса Баттс, Барри Ким\n",
      "Крисс Миллер\n",
      "Ю.Лейдерман, А.Сильвестров\n",
      "Гас Ван Сент\n",
      "Хэтти Далтон\n",
      "Тим Фельбаум\n",
      "А.Сокуров\n",
      "Клод Лелуш\n",
      "Мэтью Чэпмен\n",
      "Дэнни Кэннон\n",
      "Т.Бекмамбетов\n",
      "Ричард Айоэйд\n",
      "Лех Майевски\n",
      "Оксид Пан, Дэнни Пан\n",
      "И.Тойонов\n",
      "Маркус Вельтер\n",
      "Феи Сяоган\n",
      "Джоао Нуно Пинто\n",
      "Джек Каздан\n",
      "Адам Гираш\n",
      "Жозе Антонио Негрет\n",
      "Джеймс Хат\n",
      "Кеер Ху \n",
      "Ола Симмонсон, Йохан Стьярне Нильссон\n",
      "В.Пендраковский\n",
      "Жан-Пьер Амери\n",
      "Ник Мур\n",
      "Н.Макарова, В.Воробьев\n",
      "В.Кушнирович (псевдоним В.Бенигсен)\n",
      "В.Шепелев\n",
      "Н.Щербаков\n",
      "В.Гинзбург\n",
      "Манс Марлинд, Бьёрн Стейн\n",
      "Джон Лассетер, Брэд Льюис\n",
      "Сильвио Сольдини\n",
      "Жюльен Лякомб, Паскаль Сид\n",
      "Руперт Виатт\n",
      "О.Погодин\n",
      "Гонсало Лопес-Гальего\n",
      "Евгений Пашкевич\n",
      "Масаюки\n",
      "Дженнифер Ю\n",
      "Эми Канаан Манн\n",
      "Дэвид Р.Эллис\n",
      "И.Казанков\n",
      "В.Панжев, Г.Курлаев, Ф.Кривошеев, М.Сулейманова, Н.Репина, С.Морозов и др.\n",
      "Элайджа Дреннер\n",
      "Майк Гюнтер\n",
      "Летиция Коломбани\n",
      "Малькольм Венвилль\n",
      "Майкл Ли\n",
      "Эрик Валетте\n",
      "Гарольд Реймис\n",
      "С.Лобан\n",
      "Ричард Льюис\n",
      "Марианна Ченильо, Фернандо Эймбке, Амат Эскаланте, Гаэль Гарсия Берналь, Родриго Гарсия и др.\n",
      "С.Сенцов\n",
      "Робин Сип\n",
      "Бени Бернардт, Энтони Браун\n",
      "Бени Бернхардт, Луиз А.Гиков\n",
      "Мэтью Маскери, Майкл Нарлок, Джейсон Хитон\n",
      "Гэри МакКендри\n",
      "Сан Ли Джан\n",
      "Дуглас МакГрат\n",
      "Джон Синглтон\n",
      "Алекс Грегори, Питер Хайк\n",
      "Николь Кэссел\n",
      "Абделлатиф Кешиш\n",
      "Миранда Джулай\n",
      "Бэн Палмер\n",
      "Сара Смит\n",
      "Томас Безуча\n",
      "Джон Лэндис\n",
      "Марк Майлод\n",
      "Аун Хое Го\n",
      "Гай Кассье\n",
      "С.Ландо\n",
      "Уэсс Крэйвен \n",
      "Г.Константинопольский\n",
      "Фрэнсис Лоуренс\n",
      "Стефан Лангридж\n",
      "М.Воронков\n",
      "Майкл Кэтон-Джонс\n",
      "Шон Ку\n",
      "В.Бархатов\n",
      "А.фон Боррис\n",
      "Марк Росман\n",
      "Е.Михалков-Кончаловский\n",
      "Ахеро Манас\n",
      "Том Хэнкс\n",
      "Карим Дриди\n",
      "Трой Никси\n",
      "В.Каминский\n",
      "Ю.Ауг, Л.Бочков\n",
      "Стивен С. Миллер\n",
      "Алекс Оруэлл\n",
      "Мигель Анхель Вивас\n",
      "Такаши Ямазаки\n",
      "Саулюс Друнга\n",
      "Дебра Граник\n",
      "Д.Ж.Карузо\n",
      "Чарльз Шайер\n",
      "Брюс Робинсон\n",
      "Э.Салаватов\n",
      "Т.Ивашкина\n",
      "Грэг Мэнваринг\n",
      "Дайна Рейд\n",
      "Крестен Вестбьерг Андерсен, Тордбьорн Кристоферссен, Филипп Эйнштейн Липски\n",
      "Софи Дерасп\n",
      "Марина Кунарова, Ерлан Нурмухамбетов\n",
      "Джон Рекуа, Гленн Фикарра\n",
      "Ховард Халл\n",
      "Доминик Фарруджия\n",
      "А.Колмогоров\n",
      "Кан Чжэ Гю\n",
      "Брюс Э.Эванс\n",
      "Элиотт Лестер\n",
      "Дэмиан Чапа\n",
      "Нил Армфилд\n",
      "Вернер Херцог\n",
      "И.Замалиев (псевдоним Э.Бартенев)\n",
      "В.Мельников\n",
      "Мэнс Мэрлинд, Бьорн Стейн\n",
      "Е.Соломина, А.Баршак, К.Статский\n",
      "Шэри Спрингер Берман, Роберт Пульчини\n",
      "Серджи Визкайно\n",
      "Давид Фонкинос, Стефан Фонкинос\n",
      "Дэвид Боуэрс, Сэм Фелл\n",
      "Мэрлин Агрело\n",
      "хореография Мариуса Петипа в редакции Наталии Макаровой\n",
      "Эмилио Саги\n",
      "Стефано Пода\n",
      "Гарт Дженнингс\n",
      "Майкл Кэтлман\n",
      "Анхель Грация\n",
      "Тим Кокс\n",
      "Оливер Хорлайт\n",
      "А.Званцова\n",
      "А.Кагадеев\n",
      "А.Цацуев\n",
      "Д.Киселев, А.Котт, А.Баранов, Л.Габриадзе\n",
      "Крис Горак\n",
      "Бибо Бержерон\n",
      "Бартлетт Шер\n",
      "Стив Гебхардт, Боб Фриз\n",
      "Ронан Чапалайн и Паскаль Вьонг; Фрэнсис Верзеймер; Джези Кулар и Даниэль Кюнт; Дидье Гросджин  \n",
      "Род Лури\n",
      "Ж.Бадмацыренов, А.Кузьминов, Е.Замалиев\n",
      "Кэйити Хара\n",
      "Такэси Коикэ\n",
      "Майк Митчелл\n",
      "Андреа Андерман\n",
      "Джон Хейман\n",
      "Пол Дугдейл\n",
      "А.Сидоров\n",
      "Питер Додд\n",
      "Кэмерон Кроу\n",
      "Антуан Томас, Джек Фрост\n",
      "Зэк Снайдер\n",
      "Гарольд Беккер\n",
      "Сидней Поллак\n",
      "Бретт Симмонс\n",
      "Джордж Ихл\n",
      "Патрик Сиверсен\n",
      "Д.Поволоцкий, М.Другой\n",
      "Таня Уэкслер\n",
      "Паула Ван Дер Уст\n",
      "Майкл Редфорд\n",
      "Макато Синкай\n",
      "Линн Рэмси\n",
      "Роберт Редфорд\n",
      "Майкл Мэнн\n",
      "Том Дэй\n",
      "Йен Де Бонт\n",
      "Доминик Абель, Фиона Гордон, Брюно Роми\n",
      "хореография Джорджа Баланчина\n",
      "Федерико Тьеззи\n",
      "Апичатпонг Вирасетакул\n",
      "Гюстав де Керверн, Бенуа Делепин\n",
      "Микеланджело Фраммартино\n",
      "Кэри Фукунага\n",
      "Э.Пискатор, М.Доллер\n",
      "Л.Кулишов\n",
      "Жеральд Юсташ-Матьё\n",
      "С.Росс\n",
      "Р.Литвинова\n",
      "Б.Дробязко\n",
      "Е.Бычкова\n",
      "Викрам Батт\n",
      "Филлип Джей Рот\n",
      "Майкл Хэгнер, Кари Джуусонен\n",
      "Д. Абель, Ф. Гордон\n",
      "Уте фон Мюнхов-Поль\n",
      "О. Семёнова\n",
      "М.Барынин, И.Цыганов\n",
      "Н.Кузнецова\n",
      "А.Соболевский\n",
      "Б. Бум\n",
      "А.Дерошер\n",
      "А. Калюжный\n",
      "Бен Сэфди, Джошуа Сэфди\n",
      "Матье Рэтхи\n",
      "Тони Леондис\n",
      "Николай Арсель\n",
      "Дэвид Литч\n",
      "Тейлор Шеридан\n",
      "Трей Эдвард Шульц\n",
      "Гарри Клевен\n",
      "Уильям Олдройд\n",
      "Луис Прието\n",
      "Маркос Карневале\n",
      "Дэвид Ф. Сандберг\n",
      "Роберто Снейдер\n",
      "Пьер Зандрович\n",
      "Эрик Дарнелл\n",
      "Марк Циммерманн\n",
      "Р. Кериси\n",
      "А. Кутерье\n",
      "Джастин Чадвик\n",
      "Д. Кэмерон\n",
      "Джеральд Рашинато\n",
      "М. Бальчюнас\n",
      "М. Мышанский \n",
      "К. Шелепов\n",
      "Т.Игуменцева (псевдоним Татьяна Капитан)\n",
      "О.Червоняк, Д.Стрижевский\n",
      "Давид Ало\n",
      "Лоун Шерфиг\n",
      "Кэллан Брункер\n",
      "А.Меликян, П.Руминов, Н.Меркулова, А.Чупов, Е.Шелякин, Р.Гигинеишвили, Н.Сайфуллаева\n",
      "Эндрю С.Эрин\n",
      "Энтони Дж.Коэн\n",
      "Джей Барушель\n",
      "А.Мигачев\n",
      "А.Мышкин\n",
      "Билл Джирхарт, Роэль Рейн, Дэвид Стрейтон, Кевин Танчароэн, Крис Фишер, Неаса Хардиман\n",
      "Питер Дьюкс\n",
      "Майк Уайт\n",
      "Джорджо Амато\n",
      "Давид Гриеко\n",
      "Федерико Феллини\n",
      "Лукино Висконти\n",
      "Грэг МакГилливрэй\n",
      "Холли Мейерс-Шайер\n",
      "Уилл Верник\n",
      "Цзянь Мин Хуанг\n",
      "Аманда Штерс\n",
      "А Андрющенко\n",
      "Дэн Буш\n",
      "Симоне Годано\n",
      "Жак Дуайон\n",
      "Ильдико Эньеди\n",
      "Чарли Бин\n",
      "Александр Бустильо, Жюльен Мори\n",
      "Кристиан Карион\n",
      "Дэни Вильнёв\n",
      "Виталий Манский\n",
      "Хани Абу-Ассад\n",
      "Джеймс Каллен Брэссак\n",
      "Дитер Бернер\n",
      "Жаргалсаихан Баатар\n",
      "Реми Шайе\n",
      "Янус Мец Педерсен\n",
      "Лайам О'Доннелл\n",
      "Саймон Кёртис\n",
      "О.Семёнова \n",
      "Рич Рэгсдэйл\n",
      "Э.Парри\n",
      "А.Петровская\n",
      "Г.Коломийцев\n",
      "А.Колпин, И.Пшонкин, В.Бедошвили\n",
      "В.Марков\n",
      "Ромейн Леви\n",
      "Ксавье Жанс\n",
      "Со Абади\n",
      "Джейсон Тиссен\n",
      "Эдуард Делюк\n",
      "Хуан Карлос Медина\n",
      "Дин Девлин\n",
      "Чарльз Мартин\n",
      "Филипп Фалардо\n",
      "Хольгер Таппи\n",
      "Давид Алонсо, Энрике Гато\n",
      "Эммануэль Амон\n",
      "Д.Юзбашев\n",
      "Ким Ки-дук\n",
      "Джонатан Дэйтон, Валери Фэрис\n",
      "Карстен Килерих, Рихард Клаус\n",
      "Алессандро Сьяни\n",
      "Брайан Смрз\n",
      "Лоррэйн Леви\n",
      "Миккель Мунк-Фальс\n",
      "В.Чигинский\n",
      "Тайка Вайтити\n",
      "Орен Муверман\n",
      "Макс Кроу\n",
      "Анастасия Дыро, Андрей Шохан\n",
      "Жиль Паке-Бреннер\n",
      "Тайлер Макинтайр\n",
      "Биргитте Стэмозе\n",
      "Хью Велчман, Дорота Кобела\n",
      "Жан-Стефан Брон\n",
      "Питер Футт\n",
      "Тарек Будали\n",
      "А.Романец, В.Марченко\n",
      "И.Шурховецкий\n",
      "Энди Серкис\n",
      "Серхио Х. Санчес\n",
      "Бруно Шиш\n",
      "К.Коваленко\n",
      "Е.Жигаева\n",
      "Д.Фирсова, И.Туманян, И.Селезнева\n",
      "Б.Яшин, А.Смирнов\n",
      "Адриан Молина, Ли Ункрич\n",
      "Л.Арнштам\n",
      "А.Сурин\n",
      "Айзек Флорентайн\n",
      "А.Богуславский\n",
      "Джейсон Флеминг\n",
      "М.Швейцер\n",
      "К.Шахназаров, А.Бородянский\n",
      "Н.Скуйбин\n",
      "О.Зуева\n",
      "Г.Щукин\n",
      "В.Пудовкин, М.Доллер\n",
      "К.Максимов\n",
      "Фабрис Эбуе\n",
      "Ксавье Жанс \n",
      "Джоан Шемла\n",
      "Джейда Торун\n",
      "Михаэль Р. Роскам\n",
      "И.Кордзаия, В.Лисневский\n",
      "А.Басаев\n",
      "Дэнни Стронг\n",
      "Миккель Бренне Сандемусе\n",
      "О.Попова\n",
      "Д.Киселев, А.Першин (Ж.Крыжовников), А.Карпиловский, А.Черномазов (А.Нужный)\n",
      "Трэвис Райс\n",
      "Эрик Лавэн\n",
      "Рон Шелтон\n",
      "Майкл Грейси\n",
      "Лука Миньеро\n",
      "Максим Говар\n",
      "Трэвис Заривны\n",
      "А.Х.Песонен, Э.Хафнор, Л.Б.Хансен, Г.Энгер, А.Цварт, Й.Тойвоньеми\n",
      "Салли Поттер\n",
      "Людвиг Шаммасян, Пол Шаммасян\n",
      "Мэтт Драммонд\n",
      "Е.Соколов, В.Панжев, Г.Курлаев, С.Морозов, М.Сулейманова и др.\n",
      "Я.Поляруш, Т.Цоцория, К.Кутуев при участии М.Алиева\n",
      "Леонор Серай\n",
      "Армандо Ианнуччи\n",
      "Лоуренс Шер\n",
      "Джонатан Хопкинс\n",
      "Стенли Туччи\n",
      "Аарон Соркин\n",
      "Е.Грамматиков\n",
      "С.С. Раджамули\n",
      "Рафаэль Рибас\n",
      "Арно Бурон, Антун Крингс \n",
      "Гектор Эрнандес\n",
      "Сьюзен Уолтер\n",
      "Уэсс Болл\n",
      "Лиза Лангсет\n",
      "Донато Карризи\n",
      "З.Болотаев, К.Смирнов\n",
      "Кристиано Анания, Иления Политано, Валерио Аттаназио, Моника Дуго, Марчелло Ди Ното, Даниэле Пини; Франческа Бруни, Алессандро Капитани\n",
      "Патрик Милле\n",
      "Кристиан Гьюдгэст\n",
      "Пол Том Андерсон\n",
      "Питер Лепениотис, Шелли Шеной\n",
      "И Гэ, Сун Юэфэн\n",
      "Алекс Оррель, Эдуардо Шульдт\n",
      "А.Занин, М.Архипов, Н.Барабаш, А.Костандакес, Д.Шабаев\n",
      "О.Трофим\n",
      "Ф.Шабанов\n",
      "Йоргос Лантимос\n",
      "Л.Марголин\n",
      "Жак Дере\n",
      "Роберт Энрико\n",
      "А.Амбросьев\n",
      "Дэннис Барток\n",
      "Лин Одинг\n",
      "Кристина Коминчини\n",
      "Димитри Логотетис\n",
      "Жаума Кольет-Серра\n",
      "Питер Энтони\n",
      "Брайан ДеКьюбелис\n",
      "Якуб Вронски, Ира Карпелан\n",
      "Райнер Хольцемер\n",
      "Ф.Фархшатова\n",
      "Е.Никитин, А.Королёв, К.Плетнев\n",
      "К.Васильев\n",
      "Джон Френсис Дейли, Джонатан Голдстейн\n",
      "В.Перельман\n",
      "Грета Гервиг\n",
      "Симен Альсвик, Вильям Эсхерст\n",
      "Шон Бэйкер\n",
      "Хиромаса Ёнэбаяси\n",
      "И.Белостоцкий\n",
      "А.Черномазов (псевдоним Алексей Нужный)\n",
      "Саверио Костанцо\n",
      "Присцилла Камерон\n",
      "Д.Прима\n",
      "М.Волков, В.Мухаметзянов\n",
      "А.Протоковило\n",
      "Николай Фьюлси\n",
      "Ава ДюВерней\n",
      "Рудольф ван ден Берг\n",
      "Эрдал Сейлан\n",
      "Роар Ухтауг\n",
      "О.Денисов\n",
      "Эндрю Эрвин, Джон Эрвин\n",
      "Е.Телегина, М.Полинский\n",
      "Лаура Шредер\n",
      "Ник Парк\n",
      "К.Одегов\n",
      "В.Глухушин\n",
      "Наталья Березовая\n",
      "Джон Стивенсон\n",
      "Дэвид Фрейн\n",
      "Нэш Эдгертон\n",
      "И.Шерстобитов\n",
      "П.Москвин\n",
      "Стивен С. ДеНайт\n",
      "Т.Полосина\n",
      "Ричард Дэйл, Фань Лисинь, Питер Веббер \n",
      "Амалия Несби Фика, Юрген Лердам, Филип Эйнштейн Липски\n",
      "Николас Ванье\n",
      "Мартин Гиги\n",
      "Лиза Аддарио, Джо Сиракьюз\n",
      "Цутому Мидзусима\n",
      "Тоа Фрейзер\n",
      "Андерс Вальтер Хансен\n",
      "Свен Унтервальдт\n",
      "К.Дружинин\n",
      "М.Немойтин\n",
      "В.Ровенский, Н.Лопато, В.Азеев\n",
      "Аудни Аусгейрссон\n",
      "Н.Венлок, Ж.Клинч, М.Кловатер, Б.Лихтенштерн, Д.М.Лоренц, М.Пийонель, А.Смитс, Т.Смитс, Х.Хименес, М.Шольте\n",
      "Патрик Имбер, Бенжамен Реннер\n",
      "Жозе Падилья\n",
      "Джон Красинский\n",
      "Айбек Дайырбеков\n",
      "А.Котёночкин\n",
      "Н.Соколов\n",
      "Виктор Сейнт Макари\n",
      "Мари Окада, Тошия Шиохара\n",
      "Д.Козловский\n",
      "А.Аравин\n",
      "П.Дроздов\n",
      "А.Кретова\n",
      "Лорна Такер\n",
      "Леннарт Рафф\n",
      "М.Жигалова-Озкан, Ю.Зайцев\n",
      "А.Чижиков, И.Чижиков\n",
      "Лаки МакКи\n",
      "С.Ганночка, С.Крайнев\n",
      "Аличе Рорвахер\n",
      "Робин Обер\n",
      "Мишель Ларок\n",
      "Ноэль Клири, Серджо Делфино, Алекс Стадерманн\n",
      "К.Хабенский, А.Малюков\n",
      "Дэниэл Роби\n",
      "А.Новиков (псевдоним - Александр Новиков-Янгинов)\n",
      "Крис Дженкинс\n",
      "Боб Фишер, Роб Гринберг\n",
      "Эбби Кон, Марк Силверштейн\n",
      "Серж Бозон\n",
      "Хайфа Аль-Мансур\n",
      "Энтони Руссо, Джо Руссо\n",
      "Хауме Балагеро\n",
      "Хесус Гарсес Ламберт\n",
      "И.Каграманов\n",
      "А.Горчилин\n",
      "Джон Кэмерон Митчелл\n",
      "Аскар Узабаев\n",
      "Вон Стайн\n",
      "Ари Астер\n",
      "Кэй Кэннон\n",
      "Хирокадзу Корээда\n",
      "Тара Пирния\n",
      "А.Коломеец\n",
      "Филипп Волкен\n",
      "Торстен Кюнстлер\n",
      "Д.Дваджиев\n",
      "А.Поличук\n",
      "И.Петухов\n",
      "С.Григорьева\n",
      "И.Ягафаров\n",
      "Т.Жалнин\n",
      "Энтони Бирн\n",
      "Ориол Паоло\n",
      "Джереми Дайсон, Энди Найман\n",
      "К.Малкин-Фам\n",
      "А.Ким\n",
      "Т.Дондурей\n",
      "Д.Шабаев\n",
      "М.Шалаева\n",
      "Массимо Гаудиозо\n",
      "С.Храмых\n",
      "И.Евланникова, Д.Моллер, М.Котик\n",
      "А.Безрук\n",
      "Н.Мещанинова\n",
      "А.Новоселов\n",
      "Н.Першина\n",
      "В.Битоков\n",
      "С.Ливнев\n",
      "Бландин Ленуар\n",
      "М.Воробьева\n",
      "Густаво Эрнандес\n",
      "Андрес Кутерье\n",
      "Д.Алейников\n",
      "А.Зенкович\n",
      "И.Максимов\n",
      "А.Петров, М.Кулагин\n",
      "А.Залдастанов\n",
      "А.Бушнев\n",
      "В.Сунцов\n",
      "М.Лиманский\n",
      "Джеймс Франко, Брюс Тьерри Чунг\n",
      "Фридрих Боэм\n",
      "Д.Степанов\n",
      "Джеймс Окли\n",
      "Брэд Берд\n",
      "А.Верещагин, О.Филипенко, Д.Ушаков\n",
      "П.Сергацков, А.Верещагин\n",
      "Фернандо Леон Де Араноа\n",
      "Билл Холдермэн\n",
      "Карл Кристиан Раабе\n",
      "Брайан О.Мэлли\n",
      "Лоуренс Фаулер\n",
      "Лукас Фейгельфилд\n",
      "Н.Веревкина\n",
      "В.Фатьянов\n",
      "М.Кузовенков\n",
      "А.Русланова\n",
      "А.Поздняков\n",
      "М.Новикова\n",
      "О.Холодова, Е.Савина, А.Чернова, Н.Рысс, А.Дёмин\n",
      "И.Басенко (псевдоним - Ирина Бас)\n",
      "А.Сутормин\n",
      "Джованни Пискалья\n",
      "Дженнифер Пидом\n",
      "Д.Гринькин\n",
      "Франк Дюбоск\n",
      "Р.Гиматдинова\n",
      "Е.Киреева, Т.Кисилева, Е.Нестерова, А.Панкратов, О.Сивакова-Васина, А.Романова и др.\n",
      "Е.Астрецова, Е.Фадеев, В.Карнавалова, Е.Филиппова, А.Веселов, И.Максимов и др.\n",
      "С.Филиппова, С.Антонов, К.Кравченко, Е.Храпкова, Е.Бим, А.Зайцев и др.\n",
      "О.Белоусова\n",
      "Джефф Томсич\n",
      "Н.Урвачева\n",
      "О.Высоцкая\n",
      "С.Ермоленко\n",
      "Стефано Соллима\n",
      "Г.Якубовский\n",
      "А.Бойков\n",
      "В.Новиков\n",
      "Кристиан Дюгей\n",
      "И.Бахтина\n",
      "Майкл Пирс\n",
      "Н.Раужин\n",
      "Е.Шин\n",
      "А.Кузина\n",
      "Джанлука Ансанелли\n",
      "Джейсон Райтман\n",
      "В.Мякишева\n",
      "А.Корытко\n",
      "И.Иванов\n",
      "М.Сергеева\n",
      "Доминик Роше\n",
      "Ю.Сизов\n",
      "М.Бирюкова\n",
      "Ли Чхан-дон\n",
      "В.Гришин (псевдоним - Влад Гришин), А.Тельнов\n",
      "М.Нефедова\n",
      "Е.Туркова\n",
      "Лян Сюань, Чжан Чунь\n",
      "Э.Бордуков, Г.Дульян, М.Тумова, Э.Жолнин, В.Кудряшов\n",
      "М.Куклина\n",
      "Э.Арутюнов, А.Алексиади\n",
      "Максим Арбугаев, Кристиан Фрай\n",
      "В.Кузнецов\n",
      "Ю.Курочка\n",
      "А.Писаркин, Э.Мецгер\n",
      "Д.Даниелян\n",
      "А.Барыкин\n",
      "Матьё Тури\n",
      "Джастин Бенсон, Аарон Мурхед\n",
      "О.Головина\n",
      "А.Петров\n",
      "А.Горбунов, Д.Сулейманов\n",
      "В.Алфёров\n",
      "С.Майоров\n",
      "В.Семёновых\n",
      "Элайджа Байнум\n",
      "Майкл Уинник\n",
      "Джеймс Кокс\n",
      "В.Салтыков\n",
      "Джон Тёртлтауб\n",
      "Гильермо Амоедо\n",
      "Пол Вонг, Феликс Ип\n",
      "Ю.Миронова\n",
      "К.Кокорев\n",
      "Д.Крылов\n",
      "Йеспер Гансландт\n",
      "А.Осипова\n",
      "М.Елкин\n",
      "И.Фирсова\n",
      "Т.Бочарова\n",
      "Т.Корнеева\n",
      "А.Истратов\n",
      "Н.Михалкова\n",
      "Кристофер МакКуорри\n",
      "М.Солошенко\n",
      "А.Кузмин-Тарасов, А.Колчина\n",
      "Томас Штубер\n",
      "Бен Луин\n",
      "Дэвид Бэтти\n",
      "А.Чеботарева\n",
      "В.Харченко\n",
      "С.Филиппова\n",
      "А.Свирский\n",
      "Е.Астрецова\n",
      "Аниш Чаганти\n",
      "Кевин Коннолли\n",
      "Е.Кривцов, В.Кленин\n",
      "А.Игудин\n",
      "М.Мошкова, А.Бахурин, А.Борисова, А.Аверьянова, Т.Мошкова\n",
      "Герард МакМюррей\n",
      "Дженнифер Ю.Нельсон\n",
      "Ж.Бекмамбетова\n",
      "Андрес Пуустусмаа\n",
      "С.Курченко\n",
      "Г.Заозёрский\n",
      "И.Куликов\n",
      "Ю.Захарова\n",
      "В.Арясов\n",
      "Хань Янь\n",
      "Ю.Шамилов\n",
      "С.Шаглеева\n",
      "И.Волосецкий\n",
      "Е.Резников\n",
      "Е.Безбородов\n",
      "Л.Шмельков\n",
      "А.Шадрина\n",
      "А.Емкужев\n",
      "А.Шемес\n",
      "А.Марсакова\n",
      "В.Чичайкин\n",
      "Е.Королева\n",
      "Альберт Хьюз\n",
      "Хади Хаджэйг\n",
      "Мари Мондж\n",
      "Стэнли Кубрик\n",
      "Оливер Дэйли\n",
      "Н.Фролова (псевдоним Камалов Ленар)\n",
      "Лео Жанг\n",
      "Силвейн Уайт\n",
      "Карлус Диегос\n",
      "О.Семёнова  \n",
      "Сузанна Фогель\n",
      "В.Приходько\n",
      "Пьер Греко, Нэнси Севард\n",
      "Яне Магнуссон\n",
      "Джеймс Крамп\n",
      "Э.Нелидова\n",
      "Н.Шмелёв\n",
      "А.Остапенко\n",
      "Дрю Пирс\n",
      "Е.Белова\n",
      "М.Бигоцкий\n",
      "А.Злобин\n",
      "Л.Кулагина\n",
      "Н.Антонов\n",
      "Е.Дворецкая (псевдоним - Елена Лобачева-Дворецкая)\n",
      "Ю.Бобкова\n",
      "В.Кильчевская\n",
      "К.Белевич (псевдоним - Кирилл Астахов), Г.Ильин\n",
      "В.Хохлов, К.Ляшенко\n",
      "В.Белов\n",
      "Карл Мендес\n",
      "В.Шамиров, Д.Балинова, Р.Хачмамук\n",
      "Клайв Тонг\n",
      "Д.Курочка (псевдоним Денис Бродский)\n",
      "Р.Газизов, А.Исрафилова, М.Конева\n",
      "Ромен Гаврас\n",
      "Д.Демура\n",
      "Н.Тамаров\n",
      "Н.Брусенцев\n",
      "Н.Федченко\n",
      "Н.Климчук, О.Морозова\n",
      "Б.Мамлин\n",
      "А.Хачатурян\n",
      "М.Мошкова\n",
      "Д.Сулейманов, О.Мусин\n",
      "А.Горбунов\n",
      "Джонатан Бэйкер, Джош Бэйкер\n",
      "П.Олевский\n",
      "Л.Марголин, А.Марутян\n",
      "С.Токалов\n",
      "И.Калядин\n",
      "Дэвид Дуглас, Дрю Фелмэн\n",
      "Дэвид Зеллнер, Нейтан Зеллнер\n",
      "Гэри Ван\n",
      "Брайан Хенсон\n",
      "Сиддхартх Малхотра\n",
      "Т.Малова\n",
      "А.Сашнева\n",
      "Том Вольф\n",
      "Д.Кудрявцев\n",
      "С.Харчевина (псевдоним - Светлана Крапивина)\n",
      "Т.Семенченко\n",
      "С.Воронежский\n",
      "А.Титов, Л.Ефимов\n",
      "Е.Кожокин\n",
      "Томас Боденштайн, Маркус Хаман\n",
      "Кловис Корнийяк\n",
      "Кайл Райдаут\n",
      "Исида Хироясу\n",
      "В.Смолина\n",
      "Т.Джураев\n",
      "Г.Болдугеров\n",
      "А.Шустикова\n",
      "Р.Фазлиев, А.Галиаскаров\n",
      "Клаудио Поли\n",
      "А.Южаков\n",
      "Эмили Атеф\n",
      "Мэнди Флетчер\n",
      "А.Цыренжапов, Б.Цыренов, Б.Доржиев, Б.Цыбиков, В.Овчинников\n",
      "А.Денисова\n",
      "Д.Цветков, А.Петрова\n",
      "Галина Миклинова\n",
      "Я.Войтова, И.Черджиева\n",
      "О.Гончаренко\n",
      "Е.Кашинцева\n",
      "М.Черных\n",
      "И.Семашко\n",
      "А.Рудницкая, С.Винокуров\n",
      "А.Полунина\n",
      "Д.Семибратов\n",
      "Ю.Малюгин\n",
      "Р.Верещак\n",
      "Панос Косматос\n",
      "Е.Стишова\n",
      "Хезер Ленц\n",
      "Серикбол Утепбергенов\n",
      "Карин Пройя\n",
      "М.Идов\n",
      "А.Сухарев, Г.Шенгелия\n",
      "Дэвид Керр\n",
      "Жан-Стефан Совер\n",
      "Мэтью Каллен\n",
      "Н.Евстифеев \n",
      "К.Плетнёв\n",
      "И.Стам\n",
      "Михаэль Ноер\n",
      "Али Аббаси\n",
      "Вольфганг Лауэнштайн, Кристоф Лауэнштайн, Шон МакКормак\n",
      "А.Голуб\n",
      "Мэттью М.Росс\n",
      "К.Соколов\n",
      "Изабель Койшет\n",
      "Пол Дано\n",
      "Дин Ши\n",
      "Даниель Отой\n",
      "Даниэле Лукетти\n",
      "Чак Пауэрс\n",
      "Брэдли Купер\n",
      "Хлинюр Палмасон\n",
      "Е.Останина, С.Родкевич\n",
      "В.Непевный\n",
      "Рубен Флейшер\n",
      "Дрю Годдард\n",
      "Мамора Хосода\n",
      "Е.Болычева\n",
      "К.Серебряков\n",
      "К.Попович\n",
      "Сторм Эшвуд\n",
      "Гари Вонг\n",
      "Д.Кузнецов (псевдоним - Хаски), Д.Найшуллер (псевдоним - Даша Чаруша), С.Поварницын, А.Золотарев, И.Плечёв\n",
      "Ю.Ершова\n",
      "Е.Антимоний (псевдоним - Иван Курский)\n",
      "А.Турчанинов\n",
      "М.Юсупов\n",
      "Пернилла Фишер Кристенсен\n",
      "Жюльен Леклерк\n",
      "Скатт Спир\n",
      "К.Козлова\n",
      "Г.Константинопольский, Д.Булин, Е.Чичканов, Д.Власова, П.Емелин\n",
      "М.Киреева\n",
      "О.Нарлыев\n",
      "Е.Цымбал\n",
      "А.Сидоров, О.Фомин, Р.Ярославцев\n",
      "Э.Габидуллин\n",
      "Д.Колонтай, И.Качалин, Д.Глазовский\n",
      "К.Румак\n",
      "И.Корнеев\n",
      "Николя Ванье\n",
      "Кэри Киркпатрик\n",
      "В.Янковский\n",
      "А.Куликов\n",
      "В.Азеев\n",
      "А.Арутюнян, А.Коршунов\n",
      "Луиш Диого\n",
      "Ю.Горбачевская\n",
      "П.Ходнев\n",
      "В.Саков\n",
      "А.Самойлов\n",
      "А.Судиловский\n",
      "П.Мирзоев\n",
      "Томас Граскур, Адина Истрате, Пако Каверо, Александр Ланка, Норман Тамкиви\n",
      "Финн Тейлор\n",
      "Джеффри Начманофф\n",
      "Грег Кос\n",
      "А.Титов\n",
      "М.Костарев, Н.Саврас\n",
      "Л.Лысцов\n",
      "Куинн Лэшер\n",
      "А.Линич\n",
      "Ари Сендел\n",
      "М.Якубсон\n",
      "С.Митин\n",
      "В.Локтионов\n",
      "Л.Коршик\n",
      "Е.Дубкова\n",
      "Павел Павликовский\n",
      "Микеле Малли\n",
      "Айан Бонхот, Питер Эттедги\n",
      "С.Иванов\n",
      "Билл Оливер\n",
      "Камаль Бансаль\n",
      "Такуя Игараси\n",
      "С.Миляев\n",
      "В.Ракша\n",
      "А.Шабаров, Д.Булин, Н.Михалкова-Кончаловская, Г.Пирогова, Е.Вещева, Т.Федоровская, Е.Абызов\n",
      "В.Потёмкин\n",
      "А.Егоров\n",
      "А.Почивалов\n",
      "А.Жакулина\n",
      "И.Евланникова\n",
      "Г.Голубева\n",
      "Н.Грофпель\n",
      "О.Лопато-Джагацпанян\n",
      "В.Лавров\n",
      "Демиан Рунья\n",
      "М.Рафаил\n",
      "П.Хвалеев\n",
      "И.Осипов\n",
      "Е.Захаров, А.Соснов\n",
      "А.Рожнова (псевдоним Александра Р'ЮЖ)\n",
      "Бьёрн Рунге\n",
      "Мила Онг-Твин, Ван Рёко\n",
      "Вэйшали Синха\n",
      "Жиль Леллуш\n",
      "Донован Марш\n",
      "Мат Уайткросс\n",
      "Эрик Зонка\n",
      "Д.Гусельников\n",
      "А.Голубовский\n",
      "Н.Михалкова-Кончаловская\n",
      "А.Коновальцева (псевдоним Ангелина Подорожная)\n",
      "А.Рубецкой, Е.Шабанова\n",
      "М.Смирнов\n",
      "Н.Батраева\n",
      "И.Сарахатунова\n",
      "Г.Калинина\n",
      "С.Кирсанова\n",
      "М.Ховенко\n",
      "Д.Силяков\n",
      "П.Фаттахутдинов\n",
      "В.Захаров\n",
      "Н.Бисярина\n",
      "А.Соколова\n",
      "Пьер Шоллер\n",
      "Джо Джонстон, Лассе Холлстрем\n",
      "Франческо Мунци, Лучио Пеллегрини\n",
      "Дарья Жук\n",
      "А.Праздников\n",
      "А.Проскура\n",
      "Е.Шереметьева\n",
      "С.Рубенчик\n",
      "Том Эдмундс\n",
      "Ганс Вайнгартнер\n",
      "Эндрю Боулер\n",
      "Н.Иванова, А.Кузнецова\n",
      "Эндрю Десмонд\n",
      "О.Товма\n",
      "В.Марин\n",
      "Фил Джонстон, Рич Мур\n",
      "А.Колядин, М.Павлов\n",
      "Н.Пиотровский\n",
      "К.Красноперов\n",
      "К.Мирзоян, А.Петрухин\n",
      "Фредерик Пакстон\n",
      "В.Макарихин\n",
      "Е.Бронникова\n",
      "Сэм Левинсон\n",
      "О.Арлаускас, Г.Петросян, С.Горло\n",
      "Отто Батхёрст\n",
      "В.Есинов\n",
      "В.Орехов\n",
      "Сантьяго Лимон\n",
      "В.Эйснер\n",
      "Эммануэль Жилибер\n",
      "Уош Уэстмоленд\n",
      "Джон Леннон, Йоко Оно\n",
      "Кристиан Риверс\n",
      "Дженнифер Весткотт\n",
      "хореограф Матс Эк\n",
      "Гунилла Валлин. Хореограф Матс Эк\n",
      "М.Алина\n",
      "С.Данилина\n",
      "О.Броневицкая\n",
      "В.Тертышный\n",
      "В.Воронцов\n",
      "С.Черников\n",
      "Перри Лэнг\n",
      "Мачией Лиговски\n",
      "Леопольдо Агиляр\n",
      "Эмилио Бельмонте Молина\n",
      "Е.Обермаер (псевдоним Е.Шапиро-Обермаер)\n",
      "Т.Новикова\n",
      "Валерия Гай Германика\n",
      "Брэндон Кристенсен\n",
      "Себастиан Гробер\n",
      "Аркадий Коган\n",
      "Александр Абатуров\n",
      "Андрэ Шефер\n",
      "О.Аверкиева\n",
      "Е.Паршина-Штайн (псевдоним Елена Штайн)\n",
      "Е.Милых\n",
      "Жиль Де Местр\n",
      "Али Самади Ахади\n",
      "Валерио Аттаназио\n",
      "Наталья Малыгина\n",
      "Д.Резванов, О.Хружков, И.Вейштагин\n",
      "Т.Бекмамбетов, А.Першин (псевдоним Ж.Крыжовников)  , А.Пармас, Е.Баранов, А.Котт\n",
      "Джордж Рэтлифф\n",
      "Боб Персичетти, Питер Рамси, Родни Ротман\n",
      "Е.Ермолина\n",
      "Д.Цибаускайте (псевдоним - Дали Руст)\n",
      "А.Круглов\n",
      "Р.Янковский\n",
      "Сара Коланджело\n",
      "Скотт Моужер, Ярроу Чейни\n",
      "Н.Микрюкова\n",
      "М.Васюнов\n",
      "О.Ларин\n",
      "Ю.Рыбакова\n",
      "Ю.Бердников, А.Васин\n",
      "В.Тимощенко\n",
      "Герман Васке\n",
      "С.Раздорский\n",
      "В.Сидоренко\n",
      "О.Лещинер\n",
      "Питер Фаррелли\n",
      "Джованни Троило\n",
      "Евгений Голынкин, Николя Милетич\n",
      "А.Домогаров (младший), В.Кашляев, А.Волгин, И.Вилкова, И.Волкова\n",
      "Джози Рурк\n",
      "Антони Кордье\n",
      "А.Карелина, А.Филиппова, Е.Ланских\n",
      "С.Мкртчян\n",
      "В.Бек, И.Оганесов, А.Симакова, П.Сеплярский\n",
      "Энди Миттон\n",
      "О Семёнова\n",
      "А.Цицилин, Роберт Ленс\n",
      "С.Быченко\n",
      "Стивен Кейпл-мл.\n",
      "Николас Песке\n",
      "Р.Шарафутдинов, Е.Куркова, М.Соснина, Р.Синкевич\n",
      "Хеннинг Кастен\n",
      "Г.Жихаревич\n",
      "А.Кадыкова\n",
      "Е.Хломова\n",
      "А.Красильщиков\n",
      "Г.Игнатов\n",
      "Е.Савин\n",
      "Г.Щерба\n",
      "М,Найт Шьямалан\n",
      "А.Лукьянчиков\n",
      "В.Потапов, А.Карелин\n",
      "Янн Деманж\n",
      "Джулиан Шнабель\n",
      "Хуан Вера\n",
      "Асаф Бернштейн\n",
      "Итан Коэн\n",
      "М.Абдулкадыров\n",
      "В.Дьяченко\n",
      "Э.Тухарели\n",
      "В.Николаев, М.Бабенко\n",
      "А.Сахелашвили\n",
      "Митци Пейроне\n",
      "Лукас Донт\n",
      "Феликс Ван Грунинген\n",
      "Манс Бертас, Ульрика Бандейра, Джулия Гумперт, Оливия Кастербринг и др.\n",
      "О.Барковская\n",
      "Р.Карапетян\n",
      "Е.Егоров\n",
      "Анна Соловьева, Наталья Березовская\n",
      "Крэйг Уильям Макнейлл\n",
      "В.Вохминцев, И.Оганесов, А.Безрукова (псевдоним - Анна Матисон), Р.Мухомеджан, Е.Сычёв\n",
      "А.Шемятовский, И.Оганесов, К.Гогленкова, А.Смирнов, А. Евсеев (псевдоним - Хант), С.Королева\n",
      "А.Сазонов, Е.Климович, А.Коломеец, С.Черникова, Е.Олейник, А.Ефимова\n",
      "Д.Панченко\n",
      "Вари Ом, Джорджия Уайсс\n",
      "Р.Чумаков\n",
      "Крис Мул\n",
      "Патрик Кассир\n",
      "Сара Драйвер\n",
      "П.Сидоров\n",
      "С.Лыгденов\n",
      "Патрисия Уитли\n",
      "М.Бальчюнас (псевдоним Марюс Вайсберг)\n",
      " Т.Саакян\n",
      "Е.Дорофеева\n",
      "В.Потемкин\n",
      "С.Быченко, Т.Обозова\n",
      "И.Затевахин\n",
      "П.Солдатенков\n",
      "Г.Курлаев, И.Ситников, А.Щеглов, В.Панжев и др.\n",
      "О.Дроздова\n",
      "К.Герасимов\n",
      "Г.Тесля-Герасимов\n",
      "С.Крючков\n",
      "Карстен Килерих\n",
      "Майкл Митчелл, Триша Гам\n",
      "Понгса Корнсри, Гун Пхансувон, Нат Йосватананонт\n",
      "А.Хаакана\n",
      "Луис Ортега\n",
      "Лучано Лигабуэ\n",
      "Ю.Морская\n",
      "Е.Трапезникова\n",
      "Е.Жиркова, А.Кузина, М.Солошенко\n",
      "В.Копцев, Е.Копцева\n",
      "Лайонел Стекти\n",
      "А.Бадягина\n",
      "Пабло Рохас Кастильо\n",
      "Р.Кузьмина\n",
      "А.Розов\n",
      "А.Гришаков\n",
      "И.Малкин, И.Бессарабова\n",
      "Б.Батуллин\n",
      "С.Сильвертон\n",
      "Фрэнк Миллер, Роберт Родригес, Квентин Тарантино\n",
      "Гейб Клингер\n",
      "Андреас Дрезен\n",
      "В.Кузенков\n",
      "А.Усаков\n",
      "И.Красников, Вахтанги Хубутия\n",
      "Питер Хеджес\n",
      "А.Васильев\n",
      "А.Соколов-Дворников (псевдоним - Алексей Соколов)\n",
      "Надин Лабаки\n",
      "Джо Корниш\n",
      "Ханс Петтер Муланд\n",
      "А.Джазоян\n",
      "А.Руже\n",
      "И.Зайцев, О.Урушев\n",
      "А.Зозуля, М.Елкин\n",
      "М.Волчанская\n",
      "М.Мошкова, А.Борисова, А.Бахурин, Т.Мошкова, А.Жидков, А.Ковтун\n",
      "Н.Фомин\n",
      "Кристоффер Нюхольм\n",
      "Такахиро Омори, Хидэки Ито\n",
      "М.Вартанян (псевдоним - Милана Федосеева)\n",
      "А.Золотухин\n",
      "Джо Пенна\n",
      "Гай Гвидо\n",
      "Мими Ледер\n",
      "Карлос Каррера\n",
      "Н.Бучнева\n",
      "Л.Круглов\n",
      "С.Андрианова\n",
      "Т.Ильина (псевдоним - Иван Непомнящий)\n",
      "Дидерик Ван Ружен\n",
      "Анна Боден, Райан Флек\n",
      "Эрик Барбье\n",
      "Николас МакКарти\n",
      "Питер Хатчингс\n",
      "А.Петрова\n",
      "А.Богуславский, А.Волгин\n",
      "С.Уваров\n",
      "Н.Ведмицкая\n",
      "А.Хржановский\n",
      "Майкл Майер\n",
      "Анатолий Иванов\n",
      "В.Олькович, С.Матросова, Д.Иванов, А.Сэмбон\n",
      "Аманда Шарп\n",
      "Джастин Типпинг\n",
      "Флориан Дэвид Фитц\n",
      "Рашид Бушареб\n",
      "Гастон Дюпра\n",
      "А.Домогаров\n",
      "С.Андрианова, А.Чижикова (псевдоним А.Воронина), П.Кутукина, К.Голубков\n",
      "Д.Великовская, Н.Лопато (псевдоним Нилова)\n",
      "Джузеппе Доминго Романо\n",
      "И.Ермолов, И.Каграманов, Э.Барсегян, Н.Искандарова\n",
      "Мэтт Хейнеман\n",
      "М.Довженко\n",
      "Тува Новотны\n",
      "Майкл Чимино\n",
      "Л.Геращенко\n",
      "В.Фанасютина\n",
      "Фред Вульф\n",
      "С.Крэйг Залер\n",
      "Джона Хилл\n",
      "Тим Молтби, Ричард Финн\n",
      "Си Чао\n",
      "А.Пичужин\n",
      "С.Сафонова, А.Хмельницкая, А.Сальянов, Н.Назарова, Д.Моисеев\n",
      "С.Алякимова\n",
      "А.Лукин\n",
      "Гильермо Иван\n",
      "Кристиан Альварт\n",
      "Джесси В.Джонсон\n",
      "Цзоу И\n",
      "Э.Балье, С.Гейнсборо, А.Дамиан, Ж.Кати, Я.Куйперс, А.Мадзарис, М.Пажек, Д.Хесс, К.Шпект\n",
      "В.Медведев\n",
      "Джош Аппелбаум, Аарон Дем, Эшли Чейни\n",
      "Ю,Гапон\n",
      "Эмануэле Имбуччи\n",
      "Е.Жиркова, А.Кузина, М.Солошенко, С.Кравцова\n",
      "З.Гапиенко\n",
      "Я.Варлашкина\n",
      "Монс Морлинд, Бьёрн Стейн\n",
      "М.Катушкин\n",
      "П.Селин\n",
      "А.Боровикова, Е.Войтович, З.Джиджилава, А.Тимофеева, А.Духонина, И.Басенко, Ю.Машукова\n",
      "С.Струсовский\n",
      "Д.Иванкова\n",
      "Ф.Золоева, В.Гулуев\n",
      "Д.Рудаков\n",
      "С.Васильев\n",
      "Я.Лебедев\n",
      "Ю.Забурьянный (псевдоним Жора Фероренко)\n",
      "Антонио Падован\n",
      "Ли Кронин\n",
      "А.Гаврилов\n",
      "Крис Батлер\n",
      "Алексис Михалик\n",
      "Н.Лопато, В.Ровенский\n",
      "Кевин Колш, Деннис Уидмайер\n",
      "Чарльз Е.Бастьен\n",
      "Е.Бедарев\n",
      "Франсуа Дезанья\n",
      "Анне Севитски\n",
      "Джейсон Стоун\n",
      "Эспен Сандберг\n",
      "Том О'Дэлл\n",
      "Энтони Марас\n",
      "Элен Жиро, Томас Сабо\n",
      "Деннис Хоппер\n",
      "Ана Урушадзе\n",
      "Бастер Китон\n",
      "Айрис Заки\n",
      "С.Ивекович, Д.Кричли, Д.Кроссвэйт, С.Лэйр, К.Мейнел, Г.Ндириту, Д.Смит, Л.Фоулер, М.Хеске, Д.Холл, Г.Шервин\n",
      "П. \"Хики\" Стручков\n",
      "Л.Борисова\n",
      "Роберт Эггерс\n",
      "Тревор Нанн\n",
      "Вольфганг Лауэнштайн, Кристоф Лауэнштайн\n",
      "Л.Арчидиаконо, Э.Бей, П.Джеремей, Л.Ди Нола, М.Лой, Л.Лукетти, Д.Манджашутти, Д.Мастромауро  \n",
      "Дженни Гейдж\n",
      "Шэнь Юй, Хуан Янь\n",
      "Адам Макдональд\n",
      "С.Саркисов\n",
      "Рэйф Файнс\n",
      "Клаудио Джованнези\n",
      "Майкл Чавес\n",
      "Тае Йонг Ким\n",
      "Бинг Лю\n",
      "Лакарион Вайнайна\n",
      "Катрин Филип\n",
      "Деннис Ботс\n",
      "Карл Кох, Лотти Рейнигер\n",
      "Милорад Крстич\n",
      "Пия Хелленталь\n",
      "Хуан Пабло Поланко, Сесар Алехандро Хаймес\n",
      "Чания Баттон\n",
      "Мигель А.Феррер\n",
      "Марин Атлан\n",
      "Карла фон Бенгтсон\n",
      "Габриела Пихлер\n",
      "Т.Мирошник\n",
      "Милад Алами\n",
      "Люк Лорентцен\n",
      "Джордан Дауни\n",
      "Надав Лапид\n",
      "М.Агранович\n",
      "Т.Тания\n",
      "Н.Назарова\n",
      "Оуэн Эгертон\n",
      "Андрей Тарковский\n",
      "Фарад Сафиниа\n",
      "Д.Былинушкина\n",
      "Джастин Бальдони\n",
      "Крис Эддисон\n",
      "Лила Авильес\n",
      "Стивен Вутерлуд\n",
      "А.Никифоров, В.Шепелев, О.Коронный, В.Кузмина, П.Скворцов\n",
      "Тоуб Хупер\n",
      "Чарльз Е.Бастьен, Джили Долев\n",
      "Пит де Риккер\n",
      "М.Фомина\n",
      "А.Якимчук, В.Лагунов\n",
      "Люк Джейден\n",
      "Мануэль Х.Гарсиа\n",
      "Хьюберт Вейланд\n",
      "Н.Кеппенс, М.Флипс, Ш.Б.Линдхольм, Б.Рэес, М.Бине, П.Баеза, Ф.Браух, М.Пухоль, К.Тэйлхэдс, Й.Тиро, Р.Тирион, П.Пик, А.Манцарис\n",
      "А.Хатулик, Г.Ром, К.Мазахери, Ж.Дара, С.Дара, Ф.-Ф.Морен-Варгас, Л.Тейлор, К.Барретт\n",
      "Ладислас Шолла\n",
      "Джереми Люттер\n",
      "Микаэль Херс\n",
      "Ян Гэ\n",
      "Мэй аль-Тукхи\n",
      "Жак Клюгер\n",
      "Эрик Тости\n",
      "Дэвид Яровецки\n",
      "А.Рыбников\n",
      "Джо Берлингер\n",
      "Роксана Бенжамин\n",
      "Г.Евтушенко\n",
      "П.Смирнов\n",
      "Винсент Д'Онофрио\n",
      "Тимоти Вудворд младший\n",
      "Джордж А.Ромеро\n",
      "Елена Коссон Кизилова\n",
      "Эмилио Портес\n",
      "Лизе И.Осволл\n",
      "Антонин Бодри\n",
      "Илья Трусов\n",
      "Айк Кбеян\n",
      "Грант Спьютор\n",
      "Ара Пайая\n",
      "Эмма Тамми\n",
      "Джордж Галло, Франческо Синкуемани\n",
      "Л.Садилова\n",
      "Е.Яцкина, А.Рубинштейн\n",
      "А.Лунгин\n",
      "Д.Павлов\n",
      "Г.Добрыгин\n",
      "Саймон Кинберг\n",
      "Мэри Хэррон\n",
      "Лу Жене\n",
      "Стивен Номура Шибле\n",
      "Чальз Е.Бастьен, Бронвин Деннисон, Мигель Мартинез-Хоффре\n",
      "В.Кузовлев\n",
      "Р.Паушу\n",
      "Денис Червяцов\n",
      "Д.Сергин\n",
      "Хоао Пекенао\n",
      "Иван Кальберак\n",
      "Митали Гошал\n",
      "Макс Мингелла\n",
      "Оливье Мейру\n",
      "Б.Акопов\n",
      "А.Пармас\n",
      "Стэйси Пассон\n",
      "Д.Вологдин\n",
      "Джиджи Рокатти\n",
      "Чак Рассел\n",
      "Ли Лиань\n",
      "Ринат Газизов, Илья Трусов\n",
      "Сергей Гордеев, Артем Лукичев\n",
      "Тодд Дуглас Миллер\n",
      "Нестор Саенц Кампос\n",
      "П.Левченко\n",
      "Оливье Бару\n",
      "Николаус Лейтнер\n",
      "Лайам Гэвин\n",
      "Дарио Ардженто\n",
      "Райан Белгхарт\n",
      "Т.Абрамова, Е.Тряпицына\n",
      "Джош Кули\n",
      "Шрирам Рагхаван\n",
      "В.Лисневский, С.Пикалов\n",
      "Дианна Грон, Питер Челсом, Фернандо Эймбке, Джастин Франклин, Деннис Ганзель, Дани Леви, Даниэль Львовски, Йозеф Руснак, Тиль Швайгер, Мэсси Таджедин, Габриэла Черняк\n",
      "Роберт Будро\n",
      "Дэниэл Фаррандс\n",
      "Андрей Беляев, Владислав Байрамгулов, Денис Червяцов, Илья Трусов, Ринат Газизов\n",
      "Р.Артемьев (псев.С.Васильев)\n",
      "Ю.Перкуль, А.Богатырев, А.Камачо\n",
      "Ларс Клевберг\n",
      "Амели ван Элбт\n",
      "Дэн Креч\n",
      "Гари Доберман\n",
      "Гейл Манкусо\n",
      "Мартин Оуэн\n",
      "Лев Прудкин, Владимир Прудкин\n",
      "Майкл С.Ойеда\n",
      "Фархат Шарипов\n",
      "Ольга Львова\n",
      "Пол Хайет\n",
      "Джон Херцфелд\n",
      "Е.Логунцова\n",
      "Вильгельм Домке-Шульц\n",
      "Ф.Петрухин\n",
      "И.Мардарь\n",
      "В.Фекленко\n",
      "Л.Искандерова\n",
      "Н.Сергеева (псевдоним Н.Берег)\n",
      "О.Фомин\n",
      "Дорон Пас, Йоав Пас\n",
      "Пон Чжун-хо\n",
      "Арно Лемор\n",
      "О.Дибцева, Д.Булгаков, А.Ильин, А.Шабаров, А.Борщева (псевдоним - Анастасия Шахватова)\n",
      "Бронвин Деннисон, Мигель Мартинез-Хоффре, Пол Браун\n",
      "Бен Гез, Александра Кулак\n",
      "М.Зыков\n",
      "Риккардо Милани\n",
      "Майкл Дэвид Пэйт\n",
      "Танигути Горо\n",
      "Ю.Мамин\n",
      "Мэтт Аселтон\n",
      "Е.Гусева\n",
      "Ян Бергер\n",
      "Алексей Козлов\n",
      "Клэр МакКарти\n",
      "Антуан Блоссье\n",
      "А.Кибкало\n",
      "Д.Шумакова\n",
      "А.Соколюк\n",
      "Мариано Кон\n",
      "Питер Стриклэнд\n",
      "Кия Роуч-Тернер\n",
      "Гай Наттив\n",
      "Йоахим Масаннек\n",
      "Кирилл Михановский\n",
      "С.Шанкар\n",
      "Сюнъити Ёсидзава\n",
      "Франческо Инверницци\n",
      "Дэвид Махмуди\n",
      "Оливье Массе-Депасс\n",
      "Рон Юань\n",
      "Пак Чжун Су\n",
      "Олег Маламуж\n",
      "Урсула Макфарлейн\n",
      "Туроп Ван Орман\n",
      "Деннисон Рамальо\n",
      "Анна Аревшатян\n",
      "А.Манзуров\n",
      "Марк Веркерк\n",
      "Кацуси Сакураби\n",
      "Амели Равалек\n",
      "Герард Квинто, Эстеве Солер, Дэвид Торрас\n",
      "Эндрю Раймер, Джефф Чан\n",
      "Чхве Гук-хи\n",
      "Е.Невский (псевдоним Е.Торрес)\n",
      "Бертран Банелло\n",
      "Лукас Бернард\n",
      "Джонатан Макхью, Джордан Реннерт\n",
      "Хи-чан Ра\n",
      "Дэн Вэйфэн\n",
      "М.Зыков, Ф.Абрютин\n",
      "Даниэль Фергюсон\n",
      "Д.Давыдов\n",
      "Ю.Ардашев\n",
      "Кевин Джонсон\n",
      "Масаюки Кодзима\n",
      "М.Айрапетов\n",
      "А.Цыренов\n",
      "Тони Пауэр\n",
      "С.Ростоцкий\n",
      "И.Фрэз\n",
      "Самуэль Жуи\n",
      "Маноло Мунгуйя\n",
      "Рёта Накано\n",
      "Гэбриел Маскаро\n",
      "Брайан Ли\n",
      "И.Белов\n",
      "А.Михалков (псевдоним А.Кончаловский)\n",
      "Джордж Галло\n",
      "Кейси Аффлек\n",
      "Келли Эсбёрн\n",
      "Н.Маханько\n",
      "Томас Ян\n",
      "Йоханнес Нюхольм\n",
      "А.Попова\n",
      "Ник Хэмм\n",
      "Люсия Гарибальди\n",
      "Дэвид Рэймонд\n",
      "Тони Уэст\n",
      "Мэттью Беттинелли, Тайлер Джиллетт\n",
      "Андреа Блок, Кристиан Хаас\n",
      "Д.Штурманова (псевдоним: Дуня Лисова)\n",
      "Кэндзи Камияма\n",
      "Т.Байбл, Р.Вивье, К.Гравенд, С.Злотэску, М.Зулоага, Э.Калемар, А.Капур, К.Ле Тёфф, Н.Лурм, Г.Робертс, Т.Руссо, Р.Тёрнер, Й.Эвер-Хадани\n",
      "Джакомо Гатти\n",
      "И.Дамаскин, Р.Рашитов\n",
      "П.Анделл, М,Барбе, А,Войячек, Ф.Дэвис, Ф,Кит-Роуч, А.Лейт-Роджерс, Х.О.Рамос, И.Пиат, О.Прендергаст, М.Риахи\n",
      "М.Карри, У.Киндрик, И.Пьятт, А.Рис, С.Роден, С.Сури, Н.Хартанто\n",
      "Джеймс Франко\n",
      "Энди Мускетти\n",
      "Хироюки Имаиси\n",
      "Юхэй Сакураги\n",
      "А.Богатырев, А.Камачо\n",
      "Джастин Пембертон\n",
      "Кристиан Волькман\n",
      "Леон Динг\n",
      "И.Соснин, П.Андреева, М.Местецкий, Е.Стишова, М.Архипов\n",
      "Йоаким Роннинг\n",
      "Валерия Паризи\n",
      "Сальвадор Симо\n",
      "Кори Пирсон\n",
      "Лорин Скафария\n",
      "Илья Хржановский\n",
      "Гаррет Прайс\n",
      "Линь Хуэйда, Дин Лян\n",
      "Г.Сальников\n",
      "Барт Фрейндлих\n",
      "М.Мерзликин\n",
      "Арно Деплешен\n",
      "П.Ольденбург\n",
      "Мэтт Тирнаур\n",
      "Шеймус Мёрфи\n",
      "Нильс Болбринкер, Томас Тильш\n",
      "Дэвид Дитль\n",
      "Алан Линдсэй\n",
      "Марко Кройцпайнтнер\n",
      "Марко Беллоккьо \n",
      "Аасне Ваа Грейброкк, Тор Бренн, Исаак Гёртсен, Мария Лойтер, Патрик Эклунд\n",
      "Анна Соловьева\n",
      "Д.Фадеев\n",
      "М.Морсков\n",
      "И.Кунилов\n",
      "Т.Андрианова (псевд.Т.Вигель)\n",
      "Аюму Ватанабэ\n",
      "Патриша Уитли\n",
      "Го Аун Хое\n",
      "Каллен Брункер\n",
      "А.Шархун\n",
      "Сэфи Неббу\n",
      "Элиз Дюран\n",
      "Генри Джейкобсон\n",
      "Тодд Вилдерман, Джилл Калтон\n",
      "Сиддхартх Ананд\n",
      "Абе Форсайт\n",
      "Лулу Ванг\n",
      "Чарльз Е.Бастьен, Дэвид Нотт, Карин-Энн Андерсон\n",
      "Ник Брумфилд\n",
      "Джим Хоскин\n",
      "Джереми Деллер\n",
      "Гийом Медачевски\n",
      "Майк Ган\n",
      "Руперт Гулд\n",
      "Джон Лукас, Скотт Мкр\n",
      "Аньес Варда, Дидье Роже\n",
      "Карлос Гутиеррез Медрано\n",
      "Г.Менкяров\n",
      "Н.Малыгина\n",
      "Андрей Гринько, Макс Сирый\n",
      "Дон Харди, Дэна Начман\n",
      "Зак Липовски, Адам Б.Стейн\n",
      "Джейсон Кэбелл\n",
      "М.Игнатенко\n",
      "Скотт Бек, Брайан Вудс\n",
      "Тайлер Нильсен, Майкл Шварц\n",
      "Шон Патрик О'Рейли\n",
      "Жослин ДеБоэр, Доун Люббе\n",
      "Франко Кастеллано, Джузеппе Моччиа\n",
      "Селин Скьямма\n",
      "А.Пинхасов\n",
      "Фил Грабски\n",
      "Марианна Яровская\n",
      "Юго Желен\n",
      "А.Митёшин\n",
      "Майкл Энглер\n",
      "Грег Тирнан, Конрад Вернон\n",
      "А.Бажанов\n",
      "Игорь Тувери\n",
      "Рейчел Хиронс\n",
      "Ванесса Фильо\n",
      "Александр Клименко\n",
      "Анхель Алонсо\n",
      "Рейчел Гриффитс\n",
      "Чарльз Чаплин\n",
      "Элис Вэддингтон\n",
      "Т.Гулина\n",
      "Дэвид Бикерстафф\n",
      "Уэйн Робертс\n",
      "Патрик Брайс\n",
      "Джузеппе Стази, Джанкарло Фонтана\n",
      "Уильям Кауфман\n",
      "Микаэль Хальфстрем\n",
      "Кевин Монро\n",
      "И.Копылов, С.Щербин\n",
      "Харука Фудзита, Таити Исидатэ\n",
      "О.Городецкая\n",
      "Роман Козич\n",
      "Петра Хёфер, Фредди Рёкенхаус\n",
      "Ж.Альберт, К.Грижевски, С.Зморк, И.Кранковски, Д.Милейро, Э.Романс,, Н.Тайберг, Х.Фариас \n",
      "Дэвид Холройд\n",
      "Себастьян Джонс, Рамез Силян\n",
      "Джун Янг Йом\n",
      "Миккель Бранде Сандемузе\n",
      "Фредерик Ченг\n",
      "Габриэль Жюльен-Лаферье\n",
      "Джастин Дек\n",
      "Хади Мохамадян\n",
      "Пол Кампф\n",
      "Альфонсо Гомес-Рехон\n",
      "Мартин Шрейер\n",
      "Ж.Бадмацыренов\n",
      "А.Иванов\n",
      "Г.Кузнецов\n",
      "В.Лаптев\n",
      "Я.Лапшин\n",
      "О.Николаевский\n",
      "Рафик Сарджанян\n",
      "Мати Диоп\n",
      "И.Рожков\n",
      "Мумин Шакиров\n",
      "Чан Хун\n",
      "Уэс Андерсен\n",
      "Юкка-Пекка Валькеапяя\n",
      "Джейк Кэздан\n",
      "Майкл Мелски\n",
      "Азиз Джиндани\n",
      "Луи Валлекан\n",
      "О.Арлаускайте (псевд.О.Арлаускас)\n",
      "Ладж Ли\n",
      "Алла Ковган\n",
      "О.Степанцова\n",
      "А.Герасимов\n",
      "А.Басов\n",
      "А.Федоров\n",
      "Эдвард Нортон\n",
      "Ли Джон-хо\n",
      "Дяо Инань\n",
      "Брайан Кирк\n",
      "Роуэн Этейл\n",
      "Фенар Ахмад\n",
      "Зёнке Вортманн\n",
      "Артем Лукичев\n",
      "Джефф Чан\n",
      "Чарльз Е.Бастьен, Билл Спирс\n",
      "Адам Рэндолл\n",
      "Ю.Казачков\n",
      "Н.Герман\n",
      "В.Бедошвили, О.Ужинов, И.Пшонкин, Д.Цыбулькин\n",
      "Стэнли Кубрик, Мэтт Уэллс\n",
      "Закари Адлер\n",
      "Вадих Эль Хайек\n",
      "Кирби Аткинс\n",
      "Д.Шмидт, К.Феоктистов\n",
      "Л.Соломатина (Томилова)\n",
      "Виктор Флеминг\n",
      "Н.Карачкова\n",
      "Софи Такал\n",
      " Ф.Бондарчук\n",
      "К.Чувикова\n",
      "Симона Костова\n",
      "М.Бальчюнас (псевдоним М.Вайсберг)\n",
      "Д.Григорьев\n",
      "Ник Пойнц\n",
      "Ник Пауэлл\n",
      "А.Беляев\n",
      "И.Трусов\n"
     ]
    }
   ],
   "source": [
    "for a in data['director'].unique():\n",
    "    print(a)"
   ]
  },
  {
   "cell_type": "code",
   "execution_count": 17,
   "metadata": {},
   "outputs": [
    {
     "name": "stdout",
     "output_type": "stream",
     "text": [
      "Дэвид Валдес, Кевин Костнер, Джейк Эбертс\n",
      "nan\n",
      "Джим Лемли, Джейсон Нетер, Марк Е.Платт, Яйн Смит\n",
      "Джон Пенотти, Джон Туртурро\n",
      "Патрис Леду\n",
      "Патрик Кроули, Фрэнк Маршалл, Пол Сэндберг\n",
      "Клинт Иствуд, Том Розенберг, Альберт С.Рудди, Пол Хаггис\n",
      "Саймон Чэннинг Уильямс\n",
      "Этчи Стро, Анни Стюарт, Майк Фиггис\n",
      "Лесли Холлеран, Алан Лэдд мл., Келлиан Лэдд, Харви Вайнстайн\n",
      "Норман Голуайтли, Энди Грош, Николас Кейдж, Эндрю Никкол, Крис Робертс, Филипп Русле\n",
      "Филиппа Кемпбелл\n",
      "Луис Дюкью\n",
      "Чарльз Уэйнсток\n",
      "Дэвид Киршнер, Майк Медэвой, Арнольд Мессер, Корей Сэйнья, Дэвид Твайтс\n",
      "Норма Хейман, Боб Хоскинс\n",
      "Лоуренс Гордон, Роберт Коулсберри, Ллойд Левин\n",
      "Мэтью Пэйн, Джулия Пэло\n",
      "Тодд Блэк, Элан Грейсман, Джереми Левен, Роб Райнер, Эли Самаха\n",
      "Дженнифер Тодд, Сюзанн Тодд, Брэдли Дженкел, Энтони Катагас\n",
      "Стивен Спилберг, Люси Фишер, Дуглас Уик, Джон Де Люка, Гэри Барбер, Роджер Бирнбаум\n",
      "Франк Шоро, Сирил Кольбьё-Жюстен, Жан-Баптист Дюпон\n",
      "Люк Бессон, Ариель Зейтун\n",
      "Бини Барнс, Джозеф Дрэйк, Джон Линсон\n",
      "Джон Балдеччи, Лоуренс Бендер, Кристофер Болл\n",
      "Чак Уильямс\n",
      "Тиль Швайгер\n",
      "Исмаил Мерчант\n",
      "Фил Срэйзер, Александра Фергюсон\n",
      "Майкл Бёрнс, Марк Бутан\n",
      "Джефри Бармаш, Кирк Шоу\n",
      "Кларк Спенсер\n",
      "Диана Оссана, Джеймс Шеймас, Ларри МакМертри, Скотт Фергюсон\n",
      "Патрик Жимене, Эрик Хьюберт\n",
      "Фэн Сяоган, Джон Чонг\n",
      "Дэниел Дэлюм, Тома Лангманн\n",
      "Ричард Н.Глэдстин\n",
      "Дэйвид Баррон, Дэйвид Хейман\n",
      "Дейвид Хейман\n",
      "Майкл Барната\n",
      "Брайан Грейзер, Ридли Скотт\n",
      "Бранко Ластиг, Дэвид Францони\n",
      "Грант Хеслов\n",
      "Питер Хо-Сун Чан, Лоуренс Ченг\n",
      "Дэйвид Хейман\n",
      "Джей Коэн, Уэйн Моррис, Дэвид Си.Робинсон, Джеймс Джи.Робинсон\n",
      "Эл Гиддингс, Дэвид Кларк\n",
      "Пола Вагнер, Дон Гренджер\n",
      "Том Гораи, Марк Сэмюэлсон, Питер Сэмюэлсон\n",
      "Уилли Бэр, Эберхардт Кейзер,  Фрэнсис Форд Коппола, Том Льюз, Барри Оппер, Марио Охоувн, Линда Ризман\n",
      "Кирк Д'Амико, Фрэнсис Форд Коппола, Том Льюз, Бобби Рок, Лукас Фостер\n",
      "Джерри Вайнтрауб\n",
      "Брайн Ферст, Шон Ферст\n",
      "Тим Беван, Джонатан Кэвендиш, Эрик Феллнер\n",
      "Жан-Марк Дешам\n",
      "Скотт Мойзер\n",
      "Дана Брунетти, Майкл Де Люка, Кевин Спейси\n",
      "Марк Джонсон, Линн Харрис\n",
      "Джули Дёрк, Дэвид Ти.Фриндли, Блю Сен-Клер, Марк Тартлтауб\n",
      "Мартин Брест\n",
      "Майкл Лондон\n",
      "Нил Хью Мориц\n",
      "Майкл Флинн, Тоби Эммерих\n",
      "Дуг Дейвисон, Рой Ли\n",
      "Кристиан Баут, Крис Коэн, Хэмиш МакЭлпин, Андро Стейнборн\n",
      "Дэвид О'Сакс\n",
      "Скотт Мойсер\n",
      "Шарлотта Клей Хаггинс, Керолайн Ван Айсгем\n",
      "Дан Джинк, Брюс Кохен, Джо Рот\n",
      "Джейн Старц\n",
      "Джеймс Джэкс, Рикардо Местрес\n",
      "Брайан Линс, Пол Пармер, Майкл Серензи\n",
      "Кис Касандер, Билл Хэйни\n",
      "Дебора Форте, Билл Карраро\n",
      "Хауард Болдуин, Моше Диамант\n",
      "Ричард Глэдштайн, Патрик Краули\n",
      "Тим Биван, Пол Вебстер, Эрик Феллнер\n",
      "Мэтью Воэн\n",
      "Йен Бленкин, Питер Джексон, Кэролайн Каннингэм, Фрэн Уолш\n",
      "Барбара Брокколи, Михаэль Дж.Уилсон\n",
      "Брайан Грэйзер\n",
      "Андрэ Ламаль, Маркус Висиди\n",
      "Ави Арад, Гейл Энн Хёрд\n",
      "Ричард Гордо, Роберт Сайдуэй, Самуэль Хадида\n",
      "Элизабет Карлсен. Стефен Вулли\n",
      "Джон Эйч Уильямс\n",
      "Паула Ванштейн, Джиллиан Горфилд, Грэм Кинг, Маршалл Хертсковиц, Эдвард Цвик\n",
      "Роберт Де Ниро, Харди Джастис, Джейн Розенталь, Ричард Эйр\n",
      "Питер Йен Браге, Майкл Манн\n",
      "Питер Берг, Майкл Манн, Скотт Стьюбер\n",
      "Дино Де Лаурентис, Марта Де Лаурентис\n",
      "Кейс Кассандр\n",
      "Дженнифер Тодд, Сюзан Тодд\n",
      "Лауриа МакДоналд, Уолтер Ф.Паркес, Лойд филлипс\n",
      "Крейг Задан, Нил Мерон, Алан Грейсман, Роб Райнер\n",
      "Михаэль Калдуэлл, Джоди Паттон, Дэвид Хаггинс, Ричард Хьюттон\n",
      "Джим Ван Вайк, Барри Зонненфельд, Скотт Рудин\n",
      "Ален Сард\n",
      "Лесли Диксон, Том Розенберг\n",
      " Дитмар Ганше, Филипп Фогес,  Бенджамин Херрман, Миша Хоффманн, Эберхард Юнексдорф, Энн Мередит\n",
      "Энди Коэн, Гари Лучези\n",
      "Ришар Гранпьер, Симон Тротье\n",
      "Алекс Гартнер, Эндрю Лазар, Чарльз Роувен\n",
      "Стефан Арндт\n",
      "Роберт С.Гарбер\n",
      "Эктор Бабенко, Оскар Крамер, Хуго Сидмэн\n",
      "Джон Ву, Чарльз Ровен, Дуглас Сегал, Теренс Чанг\n",
      "Карстен Холст\n",
      "Марк Абрахам, Карен Глессер, Кевин Мишер\n",
      "Карен Элиза Болдуин, Ховард Болдуин, Мэйс Нойфелд, Стефани Остин\n",
      "Дженнифер Джибго, Роберт Леви, Дебора дель Прете, Джиджи Прицкер, Питер Эбрамс\n",
      "Джон Дэвис, Ирвинг Онг\n",
      "Марк Ройбал, Скотт Рудин\n",
      "Дональд Ди Лайн, Джонатан Крейн\n",
      "Михаэль Андре, Реми Бура, Файт Хайдушка\n",
      "Дженнифер Фокс, Майкл Нозик, Джордж Клуни\n",
      "Филипп Бобер, Гельмут Грассер\n",
      "Мэри Н.Алоэ, Кристиан Арнольд-Бютель, Алан де ла Мата, Кирк Шо\n",
      "Ричард Д.Занук, Джон Логан, Лори МакДональд, Уолтер Паркс\n",
      "Грегг Финберг, Марк Фрост, Тим Харберт\n",
      "Гилберт Адлер, Роберт Земекис, Джоэл Сильвер\n",
      "Нил Х.Морритц\n",
      "Джон Фазано, Джон Хегеман, Уильям Шерак, Джейсон Шуман\n",
      "Патрик Краули, Фрэнк Маршалл, Пол Сэндберг\n",
      "Марк Джонсон\n",
      "Б.Айрапетян\n",
      "Альберт Ли, Джиан Джуо Жао\n",
      "Донателла Ботти, Элизабетта Олми\n",
      "Лоуренс Гордон, Ллойд Левин, Майк Ричардсон, Джо Рот\n",
      "Лоуренс Гордон, Ллойд Левин, Майк Ричардсон\n",
      "Эл Корлей, Юджин Муссо, Барт Розенблатт\n",
      "Ларри Франко, Гейл Энн Хард\n",
      "Люк Бессон\n",
      "Дипак Найар, Мэри Суини, Том Штернберг\n",
      "Мэттью Гросс, Дженнифер Тодд, Сьюзан Тодд\n",
      "Боаз Дэвидсон, Джей Коен\n",
      "Ян Де Бонт, Лукас Фостер\n",
      "Джон Дэвисон, Майк Медавой, Арнольд Шварценеггер\n",
      "Джон Шестак, Брэд Эпштейн\n",
      "Майкл Агиляр\n",
      "Нил Моритц,Эрик Фейг,Стокли Шафен\n",
      "Дин Девлин, Марк Фрайдман\n",
      "Ричард Эйр, Майкл Дрейер, Фрэнк Дулгер\n",
      "А.Максимов, Н.Попов, Д.Файзиев\n",
      "Брайан Грейзер, Рассел Кроу, Ридли Скотт\n",
      "Тим Беван, Ллойд Левин, Эрик Феллнер\n",
      "Кевин Кинг, Эви Лернер, Джон Томпсон, Кевин Кинг Темплетон\n",
      "Паскаль Кочето\n",
      "Кэтрин Бигелоу, Марк Боал\n",
      "Эви Арад, Исаак Лариан, Стивен Пол\n",
      "Клауди Горский, Энди Лэйтон, Лаурен Родон, Паскаль Родон\n",
      "Эй Джей, Дикс Крис Бендер, Джей Си Спинк, Энтони Рулен\n",
      "Эрик Альтмейер, Николя Альтмейер\n",
      "Паула Мэй Шварц\n",
      "Френсис Форд Коппола\n",
      "Патрик Коул, Рик Юн\n",
      "Виржини Силла, Люк Бессон, Пьер Спенглер\n",
      "Билл Баннерман, Мартин Бауэн, Вик Годфри\n",
      "Кей Барри, Тэд Кройбер\n",
      "Дженнифер Глинн\n",
      "Дейвид Баррон, Дейвид Хейман\n",
      "Рене Бессон, Авэ Лернер, Дэнни Лернер\n",
      "Квентин Кертис, Уильям Монахэн, Тим Хедингтон\n",
      "Дэн Букатинский, Кэрол Кадди, Ноэль Лор\n",
      "Петро Л.Серапиглия\n",
      "Питер Чан, Хань Саньпин, Хуан Цзяньсинь\n",
      "Рой Конли\n",
      "Джорджо Мальюло, Патриция Масса\n",
      "Джейсон Лау, Джулия Тейлор-Стенли, Джули Тэймор, Роберт Чартофф\n",
      "Томас Циклер, Тиль Швайгер\n",
      "Шери Брайант\n",
      "Стивен Сиу\n",
      "Дэниэл Бобкер, Эхерн Крюгер, Джеймс Г.Робинсон, Дэвид К.Робинсон\n",
      "Питер Джексон, Кэтлин Кеннеди, Стивен Спилберг\n",
      "Марк Абрахам, Эндрю Никкол, Эрик Ньюман\n",
      "Мишель Литвак, Джон Палермо, Адам Сигел\n",
      "Марк Абрахам, Эрик Ньюман\n",
      "Джон Гордон, Виктор  Чой, Джейсон Кларк\n",
      "Оливье Дебоск, Эрик Йехельманн, Марк Миссонье\n",
      "Питер Блок, Дуг Манкофф, Майк Маркус, Эндрю Спаулдинг\n",
      "Джейсон Блум, Орен Пели, Стивен Шнайдер\n",
      "Дэвид Баррон, Дэвид Хейман\n",
      "Дональд Де Лайн\n",
      "Сьюзан Картсонис, Майкл Флинн\n",
      "Тошио Сузуки, Соледад Гатти-Пасуаль, Фрэнк Маршалл\n",
      "Уильям Конг, Хьюго Шонг\n",
      "Мэттью Вон, Эдуардо Россофф, Крис Тикье\n",
      "Вольфганг Бер, Дитмар Гюнче, Пиппа Кросс\n",
      "Тим Биван, Крис Кларк, Эрик Феллнер\n",
      "Дрю Феллман\n",
      "Джефф Калотта, Сара де Са Рего, Ричард Келли\n",
      "Хелен Линдхольм, Дэниэл Андерссон, Кристина Аберг\n",
      "Мария Копф\n",
      "Брюс Вуд, Скотт Пойли\n",
      "Бигас Луна, Педро Пастор\n",
      "Мелисса Парментер, Майкл Уинтерботтом\n",
      "Синье Дженсен, Ларс Бредо Рабек, Бо Эрхардт\n",
      "Ла Скала\n",
      "Джиглиола Барбьери, Паоло де Биаси\n",
      "Кристиан Клавье, Франко Крауз, Денис Пино-Валенсьенн\n",
      "Моррис Полстон, Мэтью Питерман\n",
      "Стефани Остин\n",
      "Тимур Бекмамбетов, Тим Бертон, Джим Лемли\n",
      "Тим Бивен, Лайза Чейзин, Эрик Феллнер, Стив Голин, Майкл Шугар\n",
      "Лоренцо Ди Бонавентура, Марк Варадьян\n",
      "Дэвид Грумбах, Жан-Жак Нейра, Марко Черквуй\n",
      "Рене Эзра, Томас Радур, Ким Магнуссон\n",
      "Майкл Барнатан, Брансон Грин, Крис Коламбус\n",
      "Дэвид Гроувс\n",
      "Фэй Уорд, Карл Клифтон, Питер Рэйвен и др.\n",
      "Скотт Прайсенд, Адам Шенкман\n",
      "Кэтрин Сарафьян\n",
      "Джудд Апатоу, Родни Ротман, Николас Столлер\n",
      "Люк Бессон, Энди Харрис, Вирджиния Сила,Жан Тодт\n",
      "Джереми Томас, Тиана Александра, Питьер Уотсон\n",
      "Сван Анджелски, Майкл Карлин\n",
      "Лаура Империале, Патрисио Линч, Родриго Ортузар Линч, Жайме Солис\n",
      "Аугусто Греко, Хуан Ловече\n",
      "Сильвио Коста, Александр Кутиньо, Флавио Р.Тамбеллини\n",
      "Карлос Анайя, Мигель Асенсио, Пабло Курар\n",
      "Уэс Андерсон, Джереми Даусон, Стивен Рейлс, Скотт Рудин\n",
      "Ли Грумбридж, Маркус Льялл\n",
      "Синема Лайв\n",
      "Герберт Чаппелл\n",
      "Сэм Мерсер, Палак Патель, Джо Рот\n",
      "Джо Карнахан, Ридли Скотт, Тони Скотт \n",
      "Джиллиан Берри, Брайан Коффи, Венди Гриффин\n",
      "Паулу Бранку\n",
      "Анджелс анд Эйрвейс, Дэн Фигур\n",
      "Ричард Грандпьерр\n",
      "Майкл Шамберг, Стейси Шер, Тиш Сайрус\n",
      "Трипп Винсон, Бо Флинн, Шарлотта Хаггинс\n",
      "Скотт Аверсано, Скотт Стубер, Марк Д.Эванс\n",
      "Д.Файзиев, Ф.Бондарчук, И.Бачурин\n",
      "Г.Малков\n",
      "С.Сельянов\n",
      "Хильмар Сигурдссон, Арнар Троиссон\n",
      "Берни Голдман, Райан Кэвэно, Бретт Ратнер\n",
      "Дон Хан\n",
      "В.Карев\n",
      "В.Зверев, М.Линьков\n",
      "В.Добросоцкий\n",
      "А.Крутов, Л.Кашин\n",
      "ООО \"Квартал Леополис\", ООО \"ПЦ \"Горад\"\n",
      "П.Лунгин, Е.Панфилов\n",
      "Линдси Коллинз, Джим Моррис, Колин Уилсон\n",
      "Грэхэм Броадбент, Питер Чернин\n",
      "Нина Джейкобсон, Джон Килик\n",
      "И.Неретин, Д.Куликов, Т.Сергейцев\n",
      "Джесси Сколаро\n",
      "Эрнест Риера, Патрик Фишер\n",
      "Дэвид А.Хьюз\n",
      "Тодд Филлипс\n",
      "Арио Саганторо, Ранга Майя Барак-Эванс, Натаниель Болотин\n",
      "Сун-ку Ким, Эун Ли\n",
      "Фабрис Гольдштейн\n",
      "Аллан Нибло, Джеймс Ричардсон\n",
      "Такер Тули\n",
      "С.Грибков, Ю.Бахшиев\n",
      "Саша Барон Коэн, Алек Берг, Дэвид Мэндел\n",
      "Тьерри Марро\n",
      "Тони Майерс\n",
      "Марк Д. Эванс, Тревор Мэйси, Аарон Райдер\n",
      "Нина Кроун, Энрике Ферн\n",
      "Бинго Губельман\n",
      "Ален Крюгер\n",
      "Филипп Алессандри\n",
      "Мирей Сория, Марк Свифт\n",
      "Пьер Ивен, Мари-Клод Пулин, Николя Копперманн\n",
      "Сайс Уилсон\n",
      "ООО \"Квартал Леополис\"\n",
      "Джордж Джонсен, Лоуренс Казанофф, Элисон Сэвич, Джошуа Уэкслер, Роберт Энгелмен\n",
      "Кортни Соломон, Моше Дайамант, Йорам Барзилай\n",
      "А.Цекало, Р.Сорокин\n",
      "Джон Дэвис, Адам Шредер\n",
      "М.Коропцов, А.Бирюкова, Е.Горбунова, В.Яковлев\n",
      "Эмилио Диез Баррозо, Джессика Элбаум, Уилл Феррелл, ЭдамМакКей\n",
      "Анита Шиэн, Винсент Шиэн\n",
      "Ким Вон-Бум, Сонг Лак-Хиун, Ким Хиун-Чеол, Чой Ох-Шин\n",
      "Габриэлла Тана, Джулия Тейлор-Стэнли, Колин Вэйнс\n",
      "Крис Тикье, колин Вэйнс, Скотт Франклин\n",
      "Н.Гостюшина\n",
      "А.Новиков при участии Ар.Новикова\n",
      "Френсис Форд Копола\n",
      "Грегори Джэйкобс\n",
      "Тарак Бен Аммар, Наофил Бен Йозеф, Ксавьер Кастано \n",
      "Френсис Мантелло\n",
      "Джордж Клуни, Грант Хеслов\n",
      "Мэл Гибсон, Брюс Дэвей, Стэйси Перски\n",
      "Томас Кониглиаро, Томаш Сас, Агнес Фернандез, Питер Энгерт, Кристина Эндрейни\n",
      "Домиан Джонс\n",
      "Джеймс Камерон, Джон Ландау\n",
      "Д.Смелянский\n",
      "Жан-Пьер Дарденн, Люк Дарденн, Дэнис Фрейд\n",
      "Тим Хидингтон, Анджелина Джоли, Грэм Кинг, Тим Мур\n",
      "Зигфрид\n",
      "Питер Фок\n",
      "Питер Берг, Брайан Голднер, Сара Обри\n",
      "Тодд Либерман, Дэвид Хоберман\n",
      "Стивен Джей Кеннел, Нил Эйч Мориц\n",
      "Карл Баумгартнер, Радим Джейнс, Танассис Каратанос, Ярослав Кучера\n",
      "Йохен Лаубе, Фабиан Маубах, Михаэль Юнгфляйш\n",
      "Николас Дювал-Адассовский, Лоран Зейтун, Янн Зену\n",
      "Кристи Дембровски, Джонни Депп, Ричард Д.Занук, Дэвид Кеннеди, Грэм Кинг\n",
      "Кевин МакКормик, Дэниз ДиНови\n",
      "Тайлер Дэвидсон\n",
      "Томас Дж. Мэнгэн IV, Гийс ван де Вестелакен\n",
      "Марк Либерт, Лейла Смит, Люк Бессон\n",
      "Эйити Камагата, Мицуру Осима, Акира Симада, Эйко Танака\n",
      "Е.Борисовна\n",
      "Пол Брукс, Дэн Клифтон, Питер Сафран\n",
      "Пол Андерсон, Джереми Болт\n",
      "Лори МакДональд, Уолтер Ф.Паркс\n",
      "Дэвид Гайлар, Ридли Скотт, Уолтер Хилл\n",
      "Майк Медавой, Арнольд Мессер, Дэвид Туэйтес\n",
      "Г.Шадур\n",
      "Джей Ван Хой, Брэйден Кинг, Дэни Валент\n",
      "Лаура Бикфорд, Бенисио Дель Торо\n",
      "Сержи Касамитьяна\n",
      "Фабио Конверси, Джованни Стабилини, Марко Хименц\n",
      "Пол Гросс, Роб Коттерилл, Фрэнк Сиракуза, Нив Фичман\n",
      "Питер Балм, Руперт Джермин, Ричард Джонс\n",
      "Майкл Гарлэнд, Астрид Камке, Филипп Кройцер\n",
      "Дженни Гилбертссон, Сюзанна Тайгер\n",
      "Джош Гриффит, Фрэнсис Форд Коппола, Джим Хэйс\n",
      "Корнелиус Конрад, Бенжамин Херрманн, Борис Шёнфельдер\n",
      "Лоуренс Бендер, Дэна Брунетти, Стив Чэсмэн\n",
      "Сара Кертис, Дэвид М.Томпсон, Джулия Стэннард\n",
      "Жан Коттин\n",
      " Мишель Чиджик, Джефф Абберли, Натали Марисано\n",
      "Эрик Хеммендорф, Джессика Аск, Филипп Бобер\n",
      "М.Балашова, Е.Миронов\n",
      "Марианна Слот, Дэниэл Блум, Малгожата Шумовска\n",
      "Т.Яковенко\n",
      "Тим Беван, Эрик Феллнер, Робин Слово\n",
      "Вик Годфри, Стефани Майер, Карен Розенфельт\n",
      "Дэн Абрамс, Сидни Киммел, Гари Лучези\n",
      "Кен Даурио, Кристофер Меледандри, Джанет Хили\n",
      "Гэри Барбер, Роджер Бирнбаум, Джонатан Гликман, Пол Таублиб\n",
      "Е.Борисова\n",
      "Буркхард Альтофф, Николаус Гейрхальтер\n",
      "М.Чурбанов, П.Бабин\n",
      "Джим Бёрк, Александр Пэйн, Джим Тэйлор\n",
      "Кончита Айрольди, Уберто Пазолини\n",
      "Дон Кармоди, Дэвид Гросс\n",
      "А.Тельнов\n",
      "Люк Роуг\n",
      "Брайан Грейзер, Билл Карраро, Эдди Мерфи\n",
      "П.Ануров, Ф.Бондарчук, Д.Рудовский\n",
      "Саид Бен Саид\n",
      "Ричард Джексон, Брайан Оливер, Саймон Оукс\n",
      "Квирин Берг, Макс Видерманн\n",
      "Стив Андерсон, Терри Блэйм, Стефан Диметриу, Том Колбоурн, Билл Лорд,  Кайли Миноуг \n",
      "Крис Кларк, Эндрю Лоу\n",
      "Саймон Кинберг, Брент О.Коннор, Роберт Саймондз \n",
      "Антонио Кампос, Патрик Каннингэм, Крис Майбах\n",
      "Марк Башет, Амра Баксис Камо, Седомир Колар, Мирзад Пуриватра\n",
      "Крис Мур, Крэйг Перри\n",
      "Риза Азиз, Джошуа Астрачан, Дженнифер Уэстфелд \n",
      "Лори Борг, Умберто Пазолини, Саймон Фуллер\n",
      "Эйн Каннинг, Эмиль Шерман, Питер Хэмпден\n",
      "Джордж Лукас, Рик Макколлум\n",
      "Джеффри Клиффорд, Дэниел Дубиски, Иван Рейтман, Джейсон Рейтман\n",
      "К.Шахназаров, Г.Шадур\n",
      "Тома Лангманн, Эммануэль Монтамат, Джернми Бурдек\n",
      "Бэзил Айваник, Полли Джонсон\n",
      "Роберт Бернштейн, Дуглас Рэй, Пол Ричи\n",
      "Жорж Берманн, Фредерик Нидермайер\n",
      "А.Козлов, Д.Спиваковский, А.Федунов, Д.Коскин, М.Винчель\n",
      "Сирил Колбо-Жустин, Жан-Баптист Дюпон\n",
      "Диабло Коуди, Мэйсон Новик, Джейсон Ритмэн, Рассел Смит\n",
      "Ашок Антритрадж, Ари Арад, Ави Арад, Стивен Паул, Майк Де Люк\n",
      "Дэвид Парфитт\n",
      "Тим Беван, Бальтазар Кормакур, Эрик Феллнер\n",
      "Кристин Гозлан, Клод Нуридзани, Мари Перену\n",
      "Джейсон Кларк, Джосс Уидон\n",
      "Тодд Гарнер, Джек Джарапутто, Адам Сэндлер\n",
      "Эд Каннингэм, Сет Гордон\n",
      "Стивен Кижак, Миа Бэйз, Элизабет Роуз\n",
      "Дункан МакНили\n",
      "Антония Барнард, Гари Хэмильтон\n",
      "Брайан Грейзер, Роберт Лоренц\n",
      "Марианн Грэй, Асле Ватн\n",
      "Кевин Фейдж\n",
      "Джули Локхарт, Питер Лорд, Дэвид Спрокстон\n",
      "Жан Дюжарден, Марк Дюжарден, Эрик Ханнецо\n",
      "Джанетт Бьюрлинг, Мэттью И.Чёсси\n",
      "Бреде Ховланд\n",
      "Роб Кауэн, Норман Рейсс\n",
      "Пол Уэбстер, Закария Алауи, Ники МакКаллум\n",
      "Венди Файнерман\n",
      "Джастин Берш, Брэд Кревой, Патрик Ньюэлл\n",
      "Пол томас Андерсон\n",
      "Джудд Апатоу, Бэрри Мендел, Клэйтон Таунсэнд\n",
      "Филипп Бобер, Александр Бор, Сюзанна Мэриэн\n",
      "Мартин Сандлэнд, Хьюго Хагеманн Фескер, Арье Хейденстром\n",
      "Зак Галифианакис, Адам МакКей, Джей Роач, Уилл Фаррелл\n",
      "Джоди Маттерсон\n",
      "Эрик Бенц, Корнелиус Конрад, Борис Шёнфельдер\n",
      "Марк А.З. Диппе, Янгки Ли, Эш Р.Шах, Даниэль Шуба\n",
      "Лиз Глоцер, Кэрол Фучс, Мартин Шэфер\n",
      "Дэниэл Марк Дрейфус, Пабло Ларрейн, Хуан де Диос Ларрейн\n",
      "Михаэль Андре, Филипп Бобер, Ульрих Зайдль\n",
      "Клаус Бойе, Детлеф Бук, Петер Виртензон\n",
      "Петер Аальбег Енсен, Ларс Йонссон, Анна Энтони\n",
      "Такио Ёсида, Такеши Китано, Масаюки Мори\n",
      "Конвой Чан Чи-Чун, Эндрю Оои\n",
      "С.Зернов, С.Кучмаева\n",
      "Юсаф Бохари, Ксимо Перез, Адам Ричман\n",
      "Клаудио Амендола, Роберто Манни, Франческа Нери\n",
      "Мохамед Асли, Джулио Виолати, Сильвия Натили, Розанна Тау, Джованна Эмиди\n",
      "Элисон Клэймен, Адам Шлеззингер\n",
      "Мьонг-гай Чой\n",
      "Эдриан Броуди, Кайл Мэнн, Ной Сигал\n",
      "Никола Бок, Жан Филипп Ланж\n",
      "Джо Рот\n",
      "Кристиан Бауте, Финола Двайер, Стюарт Маккиннон\n",
      "Т.Бекмамбетов, И.Стромилова\n",
      "Тодд Гарнер, Кевин Джеймс\n",
      "Джон Лассетер, Дон Хан\n",
      "Пол Уэбстер, Стюарт Форд, Гай Хили\n",
      "Джерри Дэвис, Лори Форте, Джеймс В.Харт\n",
      "Агустин Альмодовар, Эстер Гарсия, Диего Пахуэло\n",
      "Ребекка О.Брайэн\n",
      "Мартин Мариньяк, Альберт Превост, Морис Тиншант\n",
      "Марк Абрахам, Томас А.Блисс, Эрик Ньман\n",
      "Том Блиенингер, Маркус Зиммер, Роберт Марсиньяк, Феликс Фуксштайнер, Катарина Шеде\n",
      "Тим Бертон, Денис Ди Нови\n",
      "Эндрю Адамсон\n",
      "Зейн Вайнер, Питер Джексон, Каролинн Каннингем, Фрэн Уолш\n",
      "Ф.Попов\n",
      "Р.Давлетьяров, А.Котелевский\n",
      "Женевьев Лемаль, Джимми Прайс, Эдуардл Уэйл\n",
      "Мартин Сандланд, Арье Хейденстром\n",
      "Чартес-Мари Антониоз, Джордан Гертнер, Дэвид Зандер, Крис Хенлей\n",
      "Русудан Чкония, Тинатин Чкония\n",
      "Такио Ёсида, Масаюки Мори\n",
      "Боб Мерсер\n",
      "Г.Шпригов\n",
      "Джейсон Блум, Орен Пели\n",
      "Шарль Жийибер, Ребекка Йелдхэм, Натанаэль Кармиц\n",
      "Рэм Бергман, Лукас Смит, Джеймс Д.Штерн\n",
      "ООО \"Ералаш\"\n",
      "Джэми Кармайкл, Арабелла Пейдж Крофт, Киран Паркер\n",
      "Стефан Арндт, Лана Вачовски, Энди Вачовски, Александр Роднянский, Том Тыквер\n",
      "Райан Кэвэна, Тодд Либерман, Джейсон Фелтс, Дэвид Хоберман\n",
      "Тайлер Бейтс\n",
      "Вин Дизель, Нил Х.Мориц, Клэйтон Таунсенд\n",
      "Дилан Кларк, Джозеф Косински, Дункан Хендерсон\n",
      "Джейсон Бейтман, Скотт Стубер, Памела Эбди\n",
      "Майкл Лобелл, Роб Пэрис, Адам Рипп\n",
      "Трип Винсон, Бо Флинн, Кевин Халлоран\n",
      "Тим Биван, Камерон Макинтош, Эрик Феллнер\n",
      "Джон Уоллес\n",
      "Иян Ван, Альберьт Енг,Питер Лам, Гуанцюань Лю, Даи Сонг, Саньпин Хань, Ван Чжунцзюнь\n",
      "Ю.Матяш\n",
      "Грэхэм Броадбент, Мартин МакДона, Питер Чернин\n",
      "Паули Пентти, Лииза Пенттила\n",
      "А.Учитель, К.Саксаганская, Г.Малков, В.Зеленский, С.Шефир, Б.Шефир, А.Яковлев\n",
      "Э Мультимедиа Еуроп Филм, Э Мэфилм Дайлог Студио, Мокер Продакшн, Куин Филмз Презент\n",
      "Пьеро Маранчи\n",
      "Тим Дойрон, Эйприл Маллен\n",
      "А.Осмоловский, А.Сильвестров, Г.Алейников\n",
      "Томас Винтерберг, Сиссе Граум Олсен\n",
      "Стефани Майер, Пола Мэй Шварц\n",
      "Джерерд Батлер, Марк Гилл, Эд Кэйтелл третий\n",
      "Брюс Кэмпбелл, Сэм Рейми, Роберт Джи Таперт\n",
      "Сержи Касамитхана, Лита Ройг, Анца Серра\n",
      "Франческо Джиамматтео, Бруно Песери\n",
      "Ковент Гарден\n",
      "Йан Бремм, Бернд Хелтхалер, Элмар Швинн\n",
      "Евгения Тирдатова, Дмитрий Куликов, Илья Неретин, Тимофей Сергейцев\n",
      "Паскаль Арнольд, Жан-Марк Барр\n",
      "Джон Гау, Стефан Сегаллер, Пол Сен\n",
      "Грэхэм Броадбент\n",
      "Хартли Горенштейн, Дон Кармоди, Сэмюэл Хадида\n",
      "Ким Кйон Хи\n",
      "Е.Степанищева, Е.Семин, А.Плотников, З.Болотаев, П.Гудков, В.Огай\n",
      "Армийан Бернстейн\n",
      "Хервасио Иглесиас, Инти Херрера\n",
      "Ник Хилл\n",
      "Марти Бауэн, Вик Годфри, Рейд Каролин, Ченнинг Татум\n",
      "Н.Смирнова\n",
      "Кевин Кинг Темплтон, Джон Томпсон, Лес Уэлдон\n",
      "Кейт Майерс, Джеймс Мартин\n",
      "Джозеф Седар, Леон Эдери, Моше Эдери\n",
      "Сандро Агиляр, Луис Урбано, Марен Эд\n",
      "Микаэль Вебер, Флориан Корнер фон Густорф\n",
      "Джессика Коллдуэл\n",
      "Франческа Бокка, Ладис Занини, Давид Феррарио\n",
      "Г.Малков, С.Андреасян, Г.Андреасян, В.Поляков\n",
      "Филлип Глассер, Люк Кэрролл, Катрин Уиндер\n",
      "Энн-Мари Желина, Пьер Ивен, Мари-Клод Пулен\n",
      "Эдуард Вейл\n",
      "Йонас Черник\n",
      "Элтон Брэнд, Гарри Кнапп, Ками Нахди\n",
      "Тома Лангманн, Эммануэль Монтамат\n",
      "Ален Аттал\n",
      "Алессандро Бонифаци, Давид Манули, Бруно Триббиоли\n",
      "Т.Семенов, Р.Атамалибеков\n",
      "Джейсон Блум, Жанетт Брилл, Брайан Кэвэна-Джонс\n",
      "Р.Давлетьяров, Г.Сарсенова, А.Котелевский\n",
      "Тьери Дахер, Меган Клеари\n",
      "Хэльге Альберс, Мари-Тереза Гуирис, Ларс Надсен, Джей Ван Хой\n",
      "Петер Блок, Хел Либерман, Арон Рудер\n",
      "И.Лебедев, М.Рыжих, С.Ткачев\n",
      "Г.Нерсисян, А.Манасарян, А.Нерсесян\n",
      "Альваро Лонгория, Лорен Боден, Дидар Домери, Гаэль Ноуэлль, Фабьен Писани\n",
      "Шарль-Мари Антониоз, Грегори Бернар\n",
      "Сьюзан Каван, Ди Джей Карсон, Сара Полли, Дэвид Сандомьерски\n",
      "Андреа Борелла, Эцио Греджо\n",
      "Дэниэл Фриделль, Ингемар Йоханссон\n",
      "Фуджио Мацусима, Ёшихиро Масуда\n",
      "Стефан Гертнер, Артур Кон, Кристоф Мейер-Виль\n",
      "Тайлер Дэвидсон, Крейг Зобель, Софи Лин, Лиза Мускат, Тео Сена \n",
      "Брайан Белл, Тодд Блэк, Гаймон Кеседи\n",
      "Бертран Бонелло, Кристина Ларсен\n",
      "Рори Кеннеди, Стэнли Ф. Бушталь, Лиз Гарбус\n",
      "Чжан Вэйпин, Чауинг Денг, Уильям Конг\n",
      "Лоренцо Ди Бонавентура, Брайан Голднер\n",
      "Дик Маас, Том де Моль\n",
      "Гюнтер Рорбах, Корина Эйх\n",
      "А.Морозов, В.Орел\n",
      "Дэн Лин, Кевин МакКормик, Майкл Тадросс\n",
      "Дж.Майлз Дэйл, Кристина Лера, Барбара Мускетти\n",
      "Тошиаки Наказава\n",
      "Джон С.Донкин, Лори Форте\n",
      "Амандин Било, Ален Шаба, Кристин Руксель\n",
      "Нил Х.Мориц, Дж. Х.Уаймер\n",
      "А.Учитель\n",
      "Эрик Жюран, Матиас Рубин, Кристоф Сервони\n",
      "Ааге Ааберге, Кристоф Дэниэл, ДЖереми Томас\n",
      "Ковент-Гарден\n",
      "Австралийская опера\n",
      "Карл Баумгартнер, Рейнхард Брюндиг, Аки Каурисмяки\n",
      "Ави Арад, Лора Зискин, Мэттью Толмак\n",
      "В.Есинов\n",
      "Жан Лабади, Карлос Рейгадас, Хайме Романдиа\n",
      "Рори Аиткен, Брайан Кэвэна-Джонс, Бен Паг\n",
      "Л.Верещагин, А.Златопольский, Н.Михалков\n",
      "Бернард Беллью, Дэнни Бойл, Кристиан Колсон\n",
      "Нил Эйя Мориц, Тоби Яффе\n",
      "М.Тодоровская\n",
      "Ген Фуканага\n",
      "Ран Трондсен\n",
      "Кэтлин Кеннеди, Джонатан Кинг, Стивен Спилберг\n",
      "Алекс Гарленд, Эндрю МакДоналд\n",
      "Карл Ричардс, Эдриан Политовски, Джонатан Вэнгер\n",
      "Джером Джоунс, Дж.Кристофер Оуэн, Маркус Хьюстон\n",
      "Стив Бауэн, Билл Блок, Рэндолл Эмметт\n",
      "Марк Магидсон\n",
      "Джеффри Джампол, Мэт Фридмен\n",
      "Стефано Джентили, Андреа Пичиони, Мирко Самаранда, Франческа Спарако\n",
      "Эрика Вителлоззи, Франко Консолани\n",
      "Сэм Рэйми, Роберт Тейперт, Джей Р.Янг, \n",
      "В.Коханович\n",
      "Роксанна Бенжамин, Гари Бинкоу\n",
      "Тодд Арноу, Мориц Борман, Эрик Копелофф\n",
      "Билли Кристал, Саманта Спрешер, ПИтер Чернин\n",
      "Осман Сёнмез\n",
      "Стивен Вулли, Элизабет Карлсен, Мануэль Майкл, Дэвид Фэйгенблюм\n",
      "Майкл Лондон, Дженис Уильямс, Жослин Хэйес\n",
      "Владимир Анастасов, Срджан Драгоевич\n",
      "Деде Гарднер, Пола Мэй Шварц, Стив Шварц\n",
      "В.Малышев, А.Малышев\n",
      "Омурзак Толобеков\n",
      "Альфред Гофф, Александра Милчен, Майлз Миллар\n",
      "С.Дружинина\n",
      "Р.Борисевич\n",
      "Грег МакГиливрэй, Шон МакГиливрэй\n",
      "С.Бурнашев\n",
      "Лори МакДоналд, Уолтер Ф.Паркес, Джек Рэпк, Роберт Земекис\n",
      "Маркус Артур, Мартин Поуп, Майкл Роуз\n",
      "Скотт Бёрнс, Лоренцо Ди Бонавентура, Грегори Джейкобс\n",
      "Джеффри Грауп, Майкл Луизи, Майкл А.Хелфант\n",
      "Энтони Брегман, Д.В. Де Винсентис,, Рэндолл Эмметт\n",
      "Даррен Голдберг, Джеймс Грейвз, Рамаа Мосли\n",
      "Даррен Линн Боусман, Ричард Саперштейн, Джон М.Экерт\n",
      "Кристофер Меледандри, Джаннет Хили\n",
      "Гэрри Блэкберн, Норман Кук, Селия Мор, Джастин Риз, Джейсон Хокинг\n",
      "Нэнси Грант, Сильвен Корбелл\n",
      "Валери д'Отей, Андре Руле\n",
      "Зеус Замани, Кристофер Б.Стоукс\n",
      "Альберт Бергер, Роберт граф, Рон Йеркса\n",
      "Лорен Мунш, Брайс Даль Фарра, Клод Даль Фарра\n",
      "Жан-Пьер Герен, Кристина Ларсен\n",
      "Иджинио Страффи\n",
      "Ганс С.Риттер\n",
      "Кевин Лоудер, Дэвид Окин, Роза Ромеро\n",
      "Дик Каррутерс, Джим Персонс\n",
      "Алсон Грист\n",
      "Хайно Декерт\n",
      "Талли Гарнер\n",
      "Гори Хан\n",
      "ООО \"Фаст Муви Продакшн\"\n",
      "Кевин Фейджи\n",
      "Евгений Гиндилис, Хайно Декерт, Йос Стеллинг\n",
      "Майк Дауни, Катрин Дюссар, Кеес Касандер\n",
      "Мей Юн\n",
      "Мартин Розенбаум, Софи Файнс, Кэти Холли\n",
      "Дж.Дж.Абрамс, Брайан Берк, Роберто Орси, Алекс Куртцман, Дэймон Линделоф\n",
      "Рональд Мюльфельнер\n",
      "Росс Оттерман\n",
      "Дуэйн Джонсон, Найджел Синклер\n",
      "Марти Бауэн, Вик Годфри, Райан Кэвэна\n",
      "Дэвид Пуаро\n",
      "Хервасио Иглесиас, Хосе Антонио Фелес\n",
      "Хонг Ким\n",
      "Хироюки Икеда, Митсухиса Ишикава, Кацзуя Хамана\n",
      "Такафуми Ватанабэ, Такуя Ито, Сэйдзи Окуда, Юитиро Сайто, Нодзому Такахаси \n",
      "Такаши Ватанабэ, Такуя Ито, , Юихиро Саито\n",
      "Масахито Аринага\n",
      "Магдалена Баргел, Хью Велчман\n",
      "Уэйн Марк Годфри, Питер Сафран, Райан Хайдариан\n",
      "Ким Ки-Дук\n",
      "Ким Ву Тэк, Ким Ки-Дук, Кин Сун Мо\n",
      "Режи Арно, Шоре Голпарян\n",
      "Макул Вигерт, Джон Лассетер\n",
      "Фернандо Де Фуэнтес\n",
      "Филлип Б.Голдфайн, Надин ДеБаррос, Дон Э.Фонт ЛеРой\n",
      "Аурит Замир, Йоав Роех\n",
      "Франсуа д'Артемар, Владимир Кох, Анджей Якимовский\n",
      "Баз Лурман, Кэтрин Мартин, Дуглас Уик\n",
      "Энтони Катагас, Клей Пекорин, Ричард Сальваторе, Гарри Дж.Уфлэнд\n",
      "Майкл Бэйкер, Дэвид Локери, Роберт Мензес\n",
      "Пол Брукс, Леон Клэранс, Брэд Кэссел\n",
      "Джоэл Коэн, Итан Коэн \n",
      "Чарльз Гилберт, Натаниэль Кармитц\n",
      "Джоэл Потрикус\n",
      "Сидни Киммел, Алекс Орловски, Джеми Патрикоф, Линетт Хауэлл\n",
      "Фред Д'Амико, Корианка Килшер, Рой Скотт МакФарланд, Леоне Маруччи, Джей Теймс, Джимми Холкомб \n",
      "А.Ким\n",
      "ООО \"Арт Пикчерс Студия\"\n",
      "Аркадий Голубович, Уоррен Зайд, Рэймонд Дж.Маркович\n",
      "Тибо Гаст, Хесус Гонсалез-Эльвира, Николас Стейл\n",
      "Джейсон Блум, Жанетт Брилл, Бэйли Конуэй\n",
      "Хуан Вера, Хуан Пабло Галли, Алехандро Качетта\n",
      "Роман Коппола, Юри Хенли, Сью Ен Ан\n",
      "А.Атанесян, Р.Атоян\n",
      "О.Капанец\n",
      "Брайан Белл, Фил Дорнфелд, Дэвид Цукер\n",
      "Кристиан Бомар, Ален Каппоф\n",
      "Пол Брукс, Элизабет Бэнкс, Макс Хандельман\n",
      "Али Агалар, Вито Ди Роза, Карола Эш\n",
      "Тим Биван, Крис Тукер, Эрик Филлнер\n",
      "Петтер Линдблад, Сарита Кристенсен\n",
      "Грач Кешишян\n",
      "Хулио Фернандес\n",
      "Скотт Будник, Томас Талл\n",
      "Жан-Анри Бронкар, Оливье Бронкар\n",
      "Сёхеи Котаки\n",
      "Майкл Винник\n",
      "Бруно Пети\n",
      "Александр Ажа, Тома Лангманн, Грегори Левассер, Уильям Лустиг\n",
      "Николас Альтмайер, Эрик Альтмайер, Кристоф Томас, Жан-Шарль Фелли\n",
      "Джейсон Блум, Майкл Бэй, Эндрю Форм\n",
      "Винс Джоливентт, Марни Зельник, Джефф Каллигери\n",
      "Джейсон Блум, Энди Гулд, Орен Пели\n",
      "Адитья Нат Джха, Анупама Патил, Кишор Патил\n",
      "Эндрю Дин, Фифти Сент, Рэндолл Эммиетт\n",
      "Скотт Доннелли, Грег Гард\n",
      "Петер Ольбек Йенсен, Валери Саундерс\n",
      "Нил Х.Мориц, Майк Ричардсон, Майкл Фоттрел\n",
      "Микаэль Абек Ассис, Фредерик Брюнеель\n",
      "Джеймс Лесситер, Калеб Пинкет, Джада Пинкет Смит, Уилл Смит\n",
      "Шарль Жийибер\n",
      "Глен Баснер, Николас Гонда, Сара Грин\n",
      "Вонг Кар Вай, Джеки Пэнг, Йе-Ченг Чан\n",
      "Патрик Кассаветти,Лейла Набулси,Стивен Немет\n",
      "Дидье Бруннер, Генри Магалон, Венсан Тавье\n",
      "Алан Джей, Стюарт Урбан\n",
      "А.Сигле\n",
      "ООО \"Продюсерский центр ЕРАЛАШ\"\n",
      "В.Филиппов\n",
      "Шон Леви, Том МакНалти, Билли Розенберг\n",
      "Стив Голин, Джой Горман, Стивен Рейлс\n",
      "Дон Кемпф, Девид Маркс\n",
      "Кодзи Вакамацу, Ацуши Обината, Мунеко Озаки\n",
      "Роб Хейдон\n",
      "Паскаль Верруст\n",
      "Майкл Бенаройа, Татьяна Келли, Джеймс М.Янг\n",
      "Мики Лиделл, Патрик Риззотти, Джули Ричардсон, Бретт Форбс\n",
      "Ярди Гасулл, Николас Матхи, Эдмон Рош\n",
      "Р.Арзуманов, В.Малый\n",
      "Марк Миссонье, Жан-Люк Ормер\n",
      "Патрик Краули, Фрэнк Маршалл, Бен Смит\n",
      "Сью Баден-Пауэлл, Стив Ричардс\n",
      "Ю.Мишкинене\n",
      "Джонатан Кинг, Дэн Этеридж\n",
      "Екатерина Еременко\n",
      "Генки Хавамура\n",
      "И.Блохина\n",
      "С.Еремеева\n",
      "Марк Кантон, Джоэль Сойзон, Марк ТОберофф\n",
      "А.Иншаков\n",
      "Энтони Брегман, Лесли Урдэнг, Дин Ванеч\n",
      "Рене Бессон, Мэттью Джойнс, Джесси Кеннеди\n",
      "Стив Бинг, Чарльз Стил\n",
      "Майк Гюнтер, Дэвид Эйр, Рэндолл Эмметт\n",
      "Лорис Омедес, Даниэль Эрнандез\n",
      "Доменико Прокаччи\n",
      "Сэм Рассел\n",
      "Крис Алдер\n",
      "Джек Джаррапуто, Аллен Коверт, Хезер Перри, Адам Сэндлер\n",
      "Петтери Пасанен, Ханну Туомайнен, Антти Хаикала \n",
      "Чарльз Б.Весслер, Райан Кэвэна, Питер Фаррелли\n",
      "Дэвид Луизи, Питер Луизи\n",
      "Боб Беллион, Джимми Де Брэбэнт\n",
      "Синди Нельсон-Муллен, Мишель Таверна, Амир Фаваи\n",
      "С.Сельянов. А.Боярский\n",
      "Нахикари Ипинья\n",
      "Летти Аронсон, Стивен Теннинбаум\n",
      "Марио Джианани, Лоренцо Мьели\n",
      "Лоуренс Бендер\n",
      "Бэз Лурман, Габриэлла Мартинелли\n",
      "Адриан Герра, Питер Сафран\n",
      "Джон Джейкобс, Джейсон Кларк, Сет МакФарлейн\n",
      "Джо М.Агиляр, Латифа Оау\n",
      "Питер Дэннер, Брахим Чиоуа\n",
      "Джон Малкович, Расселл Смит, Лайан Халфон\n",
      "ООО \"ВИЗАРТ ФИЛЬМ\", ООО \"ТаББак\"\n",
      "Шелли Клиппард, Бен Косгров, Марк Кубан\n",
      "Донна Джильотти, Брюс Коэн, Брэдли Купер\n",
      "Кэмерон Дж.Ламб, Бэрри М.Осборн, Сьюзэн А.Стоувер\n",
      "Андрес Калдерон, Кристиан Конти\n",
      "Адам Фридландер, Дэниэл Айрон, Лэнс Сэмюэлс\n",
      "Мерседес Гамеро\n",
      "Вассим Бежи\n",
      "Майкл Готтвальд, Дэн Джанви\n",
      "Хантер Эллис\n",
      "Оливер Дамиан, Теро Каукомаа, Самули Тарссонен\n",
      "Д.Воробьев, А.Федорченко, Л.Лебедев, М.Щукин\n",
      "Робин Кови, Джейн Флеминг\n",
      "Энг Ли, Джил Неттер, Дэвид Уомарк\n",
      "Мартин Кассинелли, Паскаль Кошете, Жак Одиар\n",
      "Эндрю Пэнэй, Нейт Так, Ким Уолтрип, Дэкс Шепард\n",
      "Томас Борч Нилсен, Нюнне Силин, Майкл Флейчер\n",
      "Сигне Лейк Йенсен, Карин Тролле\n",
      "Брайан Уиттен, Орен Пели, Роб Кауэн\n",
      "Паулу Бранку, Мартин Кац, Джозеф Боччиа\n",
      "Аста Филпот, Мариано Ванхооф\n",
      "Рейд Каролин, Грегори Джейкобс, Ченнинг Татум\n",
      "Дженнифер Джибгот, Эрик Фейг, Адам Шенкман\n",
      "Кристина Ларсен, Жилль Сандос\n",
      "Ацуюки Шимода\n",
      "Николас Альтмайер, Эрик Альтмайер, Клоди Оссар\n",
      "Лаура Бикфорд, Роберт Салерно, Кевин Тарен\n",
      "Стивен Дж.Идс, Том Карновски, Алекс Янг\n",
      "Алан Барнетт, Джо Медьяк, Том Поллок\n",
      "Этьен Комар, Филипп Руссле\n",
      "Грация Вольпи\n",
      "Штефан Арндт, Маргарет Менегоз\n",
      "Пилар Савон, Реджинальд Хадлин, Стейси Шер\n",
      "Дарла Кей Андерсон\n",
      "Дарла К.Андерсон\n",
      "Дэвид Грумбах, Эммануэль Жаклин, Эммануэль Лаказе, Жан-Жак Нейра, Лорен Петин, Мишель Петин, Хьюберт Тойн\n",
      "Белен Атьенца\n",
      "Лоренцо Ди Бонавентура\n",
      "Стэнли Тонг, Джеки Чан\n",
      "Тобин Армруст, Гай Ист, Тиш Сайрус\n",
      "Рик Альварез, Лиза Блум, Марлон Уайанс\n",
      "Бродерик Джонсон, Эндрю А.Косов, Молли Смит\n",
      "Энн Бауманн\n",
      "Николас Бланк, Патрик Собельман\n",
      "Маро Чермайефф, Джефф Дюпре, Нэнси Абрахам\n",
      "Кристофер Нолан, Чарльз Роувен, Эмма Томас\n",
      "Грег Бекер, Клер Бекер, Ванесса Синден\n",
      "А.Григорян, М.Галустян, А.Ананикян\n",
      "К.Оганесян\n",
      "Кэтрин Бингелоу, Марк Боал, Меган Эллисон\n",
      "А.Роднянский, С.Мелькумов, С.Беспалов, Киа Джэм\n",
      "Паскаль Эрольд\n",
      "Хьюго Роуз, Абрахам Вурнбранд\n",
      "Трэвис Найт, Арианн Сутнер, Мэттью Фрид   \n",
      "Чип Диггенс\n",
      "Кристиан Лярош, Марио Надо, Кэролайн Херокс\n",
      "Тодд Либерман, Бруна Папандреа, Дэвид Хоберман\n",
      "Лес Александр, Стив Чесмэн, Тейлор Хэкфорд\n",
      "А.Литвинов\n",
      "Белен Атьенца, Альваро Аугустин, Гислен Баруа\n",
      "Карл Маццоконе, Синди Бреннер, Марк Бёрг\n",
      "Грэм Уолтерс\n",
      "Пол У.С.Андерсон, Джереми Болт, Дон Кармоди\n",
      "Клод Леже, Дмитрий Рассам, Атон Сумаш\n",
      "Тревор Мэйси, Марк Д.Эванс\n",
      "Джина Галло, Мими Мэйнард, Домоник Парис\n",
      "Дэйвид Добкин, Нил Мориц\n",
      "А.Мычко\n",
      "Сидни Киммел, Гари Лучези, Том Розенберг\n",
      "Эндрю Итон, Данни Крауз, Крис Хэнли\n",
      "Тед Хоуп, Деррик Тсенг, Рафаэль Муноз\n",
      "Филипп Бобер, Кристин Рупперт, Ульрих Зайдль\n",
      "Оливия Харрисон, Мартин Скорсезе, Найджел Синклер\n",
      "Джейми Брэдшоу, Александр Дулерайн, Александр Любимов, Роман Петренко, Борис Юхананов\n",
      "В.Меньшов, А.Литвинов\n",
      "Николас Дювал-Адассовский, Лорен Зейтун, Ян Зеноу\n",
      "И.Толстунов\n",
      "Н.Мокрицкая\n",
      "Питер Барбер\n",
      "Гай А.Данелла\n",
      "Том Круз, Дэвид Эллисон, Дэна Голдберг\n",
      "Уилл Феррелл, Бо Флинн, Крис Ханчи\n",
      "Дэвид Ловегрен, Джа Ву Парк\n",
      "Кэлвин Йао\n",
      "Цуй Харк, Джеффри Чан, Нансун Ши\n",
      "Вибеке Винделов, Сиссе Граум Олсен\n",
      "Л.Калинская, И.Охлобыстин, В.Алисов, Г.Меркулов\n",
      "Крис Брайэм, Нина Воларски, Дэйвид Клоуанс\n",
      "Дерек Конноли, Марк Тёртлтауб\n",
      "Эдгар Райт\n",
      "Шон Ангельски, Арни Йоханнсон, Мартин Фишер\n",
      "Крэйг Баумгартен, Моше Дайамант, Аллен Шапиро\n",
      "Оливье Делбоск, Марк Миссонье\n",
      "С.Жигунов\n",
      "Альберто Геррикабеития\n",
      "Дэвид Фостер\n",
      "Мишель Мердокка\n",
      "Тим Бертон, Элисон Эббэйт\n",
      "Пьер-Луиджи Корви-Мора, Франческо Мелци-Д'Эдриль, Минни Феррара\n",
      "Масацугу Асахи, Юн Накасима, Рука Танака\n",
      "Кевин Джексон\n",
      "Пол Гутиэррес, Сандра Хермида, Марта Эстебан\n",
      "Реми Бурах, Джереми Бурдек, Франсуа-Ксавье Декраэн, Кристоф Фиссер\n",
      "Тим Вуд, Стефани Напье, Джон Робертсон\n",
      "Жан-пьер Герен, Бенуа Делепин, Гюстав де Керверн\n",
      "Майкл Бенаройя, Дуглас Уик, Меган Эллисон                                                                                                 \n",
      "Вилли Гейке, Поль Мауриц, Томас Циквер, Тиль Швайгер\n",
      "Барбара Брокколи, Майкл Джи Уилсон\n",
      "Эд Кэйтелл, Ли Дэниелс, Кассиан Элвис, Хилари Шор\n",
      "Марк а.З.Диппе, Алекс Дж.Йу, Джошуа Сон, Эш Р.Шах, Дэниэл Шуба\n",
      "Саманта Хаусман\n",
      "В.Сидоренко\n",
      "Джефф Боулер, Пегги Ли, Чарли Вонг Уинг Фанг\n",
      "Дженнифер Гарнер, Джулиана Джейнс, Майкл Де Лука\n",
      "Александра Фергюссон, Олли Мэдэн\n",
      "Тим Беван, Александр Досталь, Пол Уэбстер\n",
      "Джерард Батлер, Джонатан Мостоу, Алан Сигел\n",
      "Жан-Пьер Дарденн, Паскаль Кочето, Кристиан Мунджиу\n",
      "Кэтлин Кеннеди, Джеральд Р.Молен, Лата Райан\n",
      "Кристин Белсон, Джейн Хартвелл\n",
      "Пабло Бергер, Жером Видал, Ибон Корменсана\n",
      "Оливье Дебоск, Марк Миссонье\n",
      "Джизус Регуеро\n",
      "Маттео Гарроне, Доменико Прокаччи\n",
      "Нэнси Бернштейн, Кристина Стейнберг\n",
      "Эрик Альтмайер, Николас Альтмайер\n",
      "С.Торчилин\n",
      "Дени Пино-Валенсьенн, Франсуа Краус\n",
      "Йен Брюс, Майкл Бэй, Дональд Ди Лайн\n",
      "ООО \"Комеди Клаб продакшн\", ЗАО ВайТ Медиа\"\n",
      "Гордон Бижелонич, Рик Дагдэйл, Элизабет Дестро, Джордан Кесслер, Элана Краутц, Датари Тамер \n",
      "Грехем Волтерс\n",
      "ООО \"ЭН-ДЖИ ПРОДАКШН\"\n",
      "Лиза Деметри, Дэвид Шарф\n",
      "Ив Дарондо, Кристоф Лиюд, Эммануэль Приу \n",
      "Бонни Арнольд, Даг Дэвисон, Майкл А.Конноли\n",
      "Джеймс Дэйли, Жак Уаниш, Жан-Доминик Чоачан           \n",
      "Дуг Дэвисон, Рой Ли, Билл Покорни\n",
      "Сергей Беспалов, Аарон Кауфман, Александр Роднянский, Роберт Родригес, Рик Шварц\n",
      "Даррен Аронофски, Скотт Франклин\n",
      "Джошуа Астрачан, Эшер ГОлдштейн, Марен Олсон\n",
      "Луиза Вест, Мария Сесилия Гаде, Петер Ольбек Йенсен\n",
      "Брюс Андерсон, Джон С.Данкин\n",
      "Лен Блаватник, Мария Сестон, Брахим Чиоуа\n",
      "Синитиро Иноэ\n",
      "А.Роднянский, С.Мелькумов\n",
      "Фредерик Дум-Зайдел, Мари Хелен Ранк, Жан Мишель Рей, Майкл Ротман\n",
      "Ришар Грандпьер\n",
      "Л.Верещагин, В.Горяинов, Л.Лебедев, Н.Михалков, В.Тодоровский\n",
      "И.Аносов\n",
      "Робби Бреннер, Марк Кантон, Рэндол Эмметт\n",
      "Н.Морицкая\n",
      "И.Куйда, С.Жигунов, В.Швец\n",
      "Б.Худойназаров, Р.Руштов, Т.Каратанос, К.Баумгартнер, С.Делой, Б. Хашемиян\n",
      "А.Кушаев, И.Смирнова\n",
      "Николя Джулиано, Франческа Чима\n",
      "Анна-Моника Панделиа, Надежда Соловьева, Ингрит Сутей\n",
      "Юсукэ Вакабаяши, Таро Нагамацуя, Юко Сиомаки\n",
      "Вассим Беджи, Янник Боллоре, Жюльен Дери\n",
      "Ксавье Долан, Шарль Жийибер, Натанаэль Кармиц, Кэрол Монделло\n",
      "Тьерри Сюк\n",
      "И.Пронин, О.Серова, О.Земчугова, К.Серебряков, Ю.Зайцева\n",
      "Саид Бен Саид, Сара Борч-Якобсен, Ладис Занини\n",
      "Оливье Дебоск, Кристин де Жекель, Марк Миссонье\n",
      "Барри Бернарди, Джози Розен, Тим Херлихай\n",
      "Ави Лернер, Дэнни Лернер, Кевин Кинг Темплтон\n",
      "Рафаэль Матердэ, Анна Старкей\n",
      "Шэп Гордон, Сэм Данн, Джефф Кемпин, Скотт Макфадьен, Тэрри Шэнд\n",
      "Рэймонд Мэнсфилд, Шон Реддик, Кэш Уоррен\n",
      "Марк Ван Вармердам\n",
      "Фрэнк Сиракуза\n",
      "А.Атанесян, М.Бабаханов, Р.Бутко\n",
      "Ридли Скотт, Пола Мэй Шварц, Стив Шварц\n",
      "Себастьян Деллуа, Иланн Джирард, Диана Элбаум\n",
      "В.Тельнов, В.Шайдаков, Э.Пичугин, А.Котелевский\n",
      "А.Орлов, И.Волошин, С.Светлаков\n",
      "А.Сигле, Д.Светозаров\n",
      "А.Крутова\n",
      "Робин Сип, Майк Бруно, Томас Лукас\n",
      "Питер Морс, Пол Берк\n",
      "Сергей Беспалов, Джон Фавро, Карен Гилкрист\n",
      "Джеймс Дэйли, Жак Уаниш, Жан-Доминик Чоачан\n",
      "Николас Мейер, Мэттью Питерман, Моррис Полсон\n",
      "Джон С.Денни, Лоуренс Маттис, Дэвид Москоу, Марк Л.Педерсон, Элди Санчез\n",
      "Мерседес Гамеро, Альберто Марини, Педро Уриоль\n",
      "Нина Джейкобсон, Джон Килик, Сьюзен Коллинз\n",
      "Николас Альтмайер, Эрик Альтмайер, Беллок Бенедикт\n",
      "Ави Арад, Мэттью Толмач\n",
      "Уильям Тейтлер\n",
      "Тофикье Али, Кэтрин Винер, Том Колборн, Билл Лорд\n",
      "Морган Питер Браун, Тревор Мэйси, Марк Д.Эванс\n",
      "Рик Альварез, Марлон Уайанс, Стюарт Форд\n",
      "Дэвид Валдес, Бродерик Джонсон, Эндрю А.Косов, Кейт Коэн, Энни Мартер, Мариса Полвино, Аарон Ридер\n",
      "Крис Кларк, Флора Фернандес-Маренго, Джеймс Флинн\n",
      "Амина Дасмал, Майкл Кейн, Робин Фокс\n",
      "Джеймс Биддл, Дженни Боргарс, Найра Парк\n",
      "Флавиа Ритнер\n",
      "Андре Рьё Студиос, Мартижн Воллеберг, Питер Скилман, Джанел Мейсон\n",
      "Фабрис Лаффонт, Сабрина Мазни\n",
      "Ален Терзян\n",
      "Фридерик Жув, Габриэла Кранценбиндер\n",
      "Джон Батсек\n",
      "Джоэл Коэн, Итан Коэн, Скотт Рудин\n",
      "Чарльз Вэйнсток, Дэниэл Кроун, Даниэлла Таплин Ландберг, Вильям Тэйтлер\n",
      "Мартин Бауэн, Вик Годфри, Мишель Императо\n",
      "Луиза Мурин, Кристин Гозлан, Тахир Марадов\n",
      "Роберт Б.Уайде\n",
      "Бернхард Каммель\n",
      "Дирк Импенс\n",
      "Ю.Ботоев\n",
      "Л.Шнайдерман, А.Митта\n",
      "Скотт Аверсано, Джастин Наппи, Эндрю О'Коннор\n",
      "Г.Малков, В.Поляков, Г.Андреасян, С.Андреасян\n",
      "Боаз Дэвидсон, Ренни Харлин\n",
      "Марк Ду Понавиче\n",
      "Маркус Жилезо, Элленор Кокс\n",
      "Энтони Аддис, Дирик Мэт Аским, Алекс Валл, Мьюз, Дион Орром\n",
      "К.Терещенко\n",
      "Кэролин Беннетт, Тони Ноттаг, Ник Симунэк, Терри Стоун\n",
      "Исаак Шарри\n",
      "Падам Бхушан, Аших Сингх, Адитья Чопра\n",
      "Оливье Делбоск, Кристин де Жекель, Марк Миссонье\n",
      "А.Максимов, Н.Попов\n",
      "Дана Брунетти, Майкл Де Лука, Скотт Рудин\n",
      "Майк Дэвлин, Аманда Хилл, Дипак Найар\n",
      "Доминик Шпритцендорфер\n",
      "Джэми Кастнер\n",
      "Боб Гэйл, Кетлин Кеннеди, Нил Кэнтон\n",
      "Мэтью Воэн, Стефен Маркс, Джорджия Мастерс\n",
      "Кэтерин Батлер, Дженни Боргарс, Мелисса Парментер\n",
      "Хью Джекман, Джон Палермо, Хатч Паркер\n",
      "Джордан Кернер\n",
      "Уильям Пикот\n",
      "Барбара Гиббс, Филипп Каркассон, Мишель Феллер\n",
      "Луиза Вест\n",
      "Мария Сесилия Гаде, Луиза Вест\n",
      "Элисон Палмер Бурк, Кэролайн Каплан, Лемор Сиван\n",
      "Милтон Герреро, Альваро Уртизбера\n",
      "Боаз Дэвидсон, Хайди Джо Маркел\n",
      "Джейсон Бекман, Люк Бессон, Вирджиния Силла\n",
      "Рэм Бергман, Николя Картье\n",
      "Энтони Фанхаузер, Лиза М.Хансен, Пол Херцберг\n",
      "Ромен Ройтман\n",
      "Филлип Глассер, Аарон Ливайн, Брайан Хартман\n",
      "Дон Кармоди, Роберт Кульцер\n",
      "Питер Дел Вечо\n",
      "Сэм Рассел, Саймон Твисе\n",
      "Майк Гарден, Джефф Кемпин, Терр Шэнд\n",
      "Пол Брюлс, Эд Кэйтелл III, Энтони Рулен\n",
      "Андерс Т.Андерсен\n",
      "Дэвид Кровс, Джил Мэриал\n",
      "Кевин Фейги\n",
      "Дилан Кларк, Дженно Топпинг, Питер Чернин\n",
      "Сьюзен Слэгли Роджерс, Лиза Стюарт\n",
      "Джон Пенотти, Бонни Тимермэнн, Джеффри Флетчер\n",
      "Тим Биван, Найра Парк, Эрик Феллнер\n",
      "Пол Вайц, Керри Кохански, Эндрю Миано\n",
      "Джерри Брукхаймер, Гор Вербински\n",
      "Макс Дэвидс, Харви Лоури, Энтони Топман\n",
      "Марк Гордон, Том Лассалли, Брайан  Роббинс\n",
      "Лейла Ли, Джош Столберг, Стеффани Шеррин\n",
      "Джек Диаррапуто, Адам Сэндлер\n",
      "Саймон Кинберг\n",
      "Трейси Балтазор\n",
      "Ричард Кедди, Андрена Финлэй\n",
      "Юлиус Кемп, Ингвар Тордасон\n",
      "Дариуш Яблонский, Виолетта Каминска, Изабелла Вуйцик\n",
      "Трипп Винсон, Эми Ло, Бо Флинн\n",
      "Б.Бакурадзе, Ю.Мишкинене, З.Болотаев, А.Плотников\n",
      "Кирк Бодифелт\n",
      "Риэль Рош Дектер, Нилл Копп, Райан Крисман, Дэвид Гай Леви\n",
      "МИкаэль Абекассис\n",
      "Грэм Молой, Вук-юнг Чжун\n",
      "Люк Босси, Ромейн Ле Гранд, Филипп Сааль, Стефан Сперри\n",
      "Вичиен Нак-Интанон, Сирават Нак-Интанон, Киаткамон Ямфунгпорн, Киаттикул Ямфунгпорн \n",
      "Уэс Андерсон, Джереми Доусон, Молли Купер\n",
      "Альберт Бергер, Рон Йеркса\n",
      "Меган Эллисон, Спайк Джонс, Винсент Ландэйл\n",
      "А.Львович, А.Тельнов\n",
      "Джованни Ди Паскуале, Энцо Порчелли, Этан Уайли\n",
      "Доминик Бушанан, Джеймунд Вашингтон, Натали Диффорд\n",
      "Кандида Бреди, Титус Огилви\n",
      "Марта Эстебан\n",
      "А.Учитель, К.Саксаганская\n",
      "Ю.Мороз\n",
      "Д.Бесин, Г.Кукушкин, И.Добровольский\n",
      "Фернандо Бовайра, Мерседес Гамеро, Микель Лехарса, Симон Де Сантьяго, Хосе Антонио Фелес\n",
      "Йен Брюс, Деде Гарднер, Джереми Клейнер\n",
      "А.Златопольский, М.Мигунова\n",
      "Жан Бреа, Рашид Бушареб, Мюриэль Мерлин\n",
      "Кристоф Ламберт, Абель Намиас\n",
      "ООО \"СинеПро\"\n",
      "Билл Гербер, Марк Стивен Джонсон, Майкл Ивинг\n",
      "Кен Бланкато, Карен Розенфельт, Кристоф Фиссер\n",
      "Джон Голдвин, Сэмюэл Голдвин младший, Стюарт Конфелд\n",
      "Мари-Клод Бошан, Пол Рисачер, Нэнси Севард\n",
      "Джон Джашни, Томас Талл\n",
      "Саймон Баррет, Кейт Калдер, Ким Шерман\n",
      "Роберт В.Корт, Ли Су Ман, Эрик Хецель, Патриция Чен\n",
      "Дэвид Мимран, Стивен Шнайдер, Джордан Шур\n",
      "Дэниэл Ву, Чжан Дацзюнь, Стивен Фанг, Ван Чжунцзюнь\n",
      "В.Ровенский\n",
      "Люк Бессон, Райан Кэвэна, Ади Хасак\n",
      "Рейнхард Брюндиг, Джереми Томас\n",
      "Кеи Хироки\n",
      "А.Тютрюмов\n",
      "Джаз Калкат, Кевин Лианг, Эллиот Фельд\n",
      "Адам Болинг, Брэд Питт, Тарквин Пэк\n",
      "Рональд Булард, Джил Кэйтс младший, Марк Халм\n",
      "Тим Биван, Эрик Феллнер\n",
      "Клеменс Шеффер, Габриэль Юнг\n",
      "Уильям Д.Джонсон, Элизабет Карлсен, Сэм Энглебардт\n",
      "С.Зернов, В.Сотсков, А.Златопольский, Ю.Матяш\n",
      "ООО Киностудия \"Стрела\"\n",
      "Роман Коппола, София Коппола\n",
      "Мерседес Гамеро, Хуан Карлос Каро, Франсиско Рамос\n",
      "Татьяна Емельяненко, Игорь Марон, Владимир Хорунжий\n",
      "Николя Дюваль-Адассовски, Ян Зеноу, Лорен Зэйтун\n",
      "Билл Блок, Пол Хэнсон, Джеффри Леви-Хинте\n",
      "Александр Гаврас, Хенрик Гарнов, Тимо Корхонен, Хосе Луи Матаас-Негрете, Ли Томас\n",
      "Э.Илоян, В.Шляппо, А.Троцюк\n",
      "А.Невский\n",
      "Уильям Д.Джонсон, Скотт Ламберт, Александра Милчен\n",
      "С.Еремееева\n",
      "Джастин Бибер, Скутер Браун, Стюарт Форд\n",
      "Молли Коннерс, Хезер Рэй\n",
      "Крис Браун, Билл Кёрбишли, Энди Пэтерсон\n",
      "Эхуд Блайберг, Ариэль Вромен, Рене Бессон\n",
      "А.Сафронов, О.Степанцова, В.Щербин\n",
      "С.Говорухин, Е.Маскина\n",
      "Тьерри Коммиссионат, Франсуа де Карсалад дю Понт, Бенуа Чьере\n",
      "Г.Фетисов, А.Цекало, Р.Сорокин\n",
      "Сидни Киммел, Гари Лучези, Эндрю Мэйсон, Ричард Райт, Том Розенберг,\n",
      "Винченцо Натали, Марк Смит, Стивен Хобан\n",
      "Дэвид Ланкастер, Мишель Литвак, Марк Э.Платт\n",
      "Стив Голин, Майкл Шугар\n",
      "Якоб Клауссен, Ули Путц\n",
      "Эмми Баэр, Джозеф Дрэйк, Лоуренс Марк\n",
      "Кен Маршалл\n",
      "Люк Бессон, Клод Леже, Джонатан Вэнджер\n",
      "Оливье Дебоск, Мартин Миссонье, Николя Суами, Рено Суами\n",
      "Тобин Армруст, Джеймс ГейРис, Саймон Оукс, Бен Холден, Стивен Честер Принц\n",
      "Р.Давлетьяров, А.Котелевский, А.Олейников\n",
      "Франсуа Краус, Дени Пино-Валенсьенн\n",
      "Дэвид Биссон, Роджер Бурнел, Мартин Гуггисберг, Бенуа де Клер, Рори Дунган, Кайли Корнелиус, Роб Кристиано, Жан Пурвер, Миа Хаависто, Рут Швеглер\n",
      "Джон Дэвис, Джастин Мартинез, Бриттани Мориссей\n",
      "Анил Давда, Видху Винод Чопра, Вир Чопра\n",
      "Каран Джохар, Хиро Джохар, Гаури Кхан, Шахрукх Кхан\n",
      "Теик Чен Леоу, Рэй Ли, Эдмунд Чан\n",
      "Анил Курьян, Тревор Мэйси, Марк Д.Эванс\n",
      "Габриэла Вальтер, Ирен Веллерсхофф, Бернхард цу Кастелл, Кейт Форсдик, Анник Хилльгер\n",
      "Марко Кименц, Джованни Стабилини. Риккардо Тоцци\n",
      "Жан-Батист Дюпон, Сирил Кольбо-Жюстен\n",
      "Риза Азиз, Леонардо ДиКаприо, Джой МакФарлэнд, Мартин Скорсезе, Эмма Тиллинджер Коскофф\n",
      "Ким Ки Дук\n",
      "Питер Фаррелли\n",
      "Пэтти Лонг, Хэл Олофссон, Питер Сафран\n",
      "Эрик МакЛеод, Скотт Стубер, Памела Эбди\n",
      "Кристиан Ангермейер, Габриэла Бахер, Росилин Хеллер\n",
      "Андрэ Роло\n",
      "Араш Амель, Клаудия Блюмхубер, Пьер-Анж Ле Пожам\n",
      "Дэвид Гордон Грин, Лиза Мусат, Деррик Тсенг\n",
      "Эван Голдберг, Сет Роген, Джеймс Уивер\n",
      "Л.Антонова\n",
      "Рей Ибе, Макс Лайтман, Дэрил Франклин\n",
      "С.Сельянов, Е.Быкова\n",
      "Бродерик Джонсон, Кира Дэвис, Адам Колбеннер\n",
      "Кристиан Арнольд-Бютел, Нил Додсон, Бен Сэмюэлс,  Маркус Шофер, Шон Эйкерс\n",
      "Н.Трынкин, Д.Филюков\n",
      "А.Сильвестров, Г.Алейников, Е.Попов\n",
      "Марк Бордюр, Эд Гуене, Жан-Люк Ормер, Патрик Собельман\n",
      "Джордан Авлин Блэр, Али Браун, Брэкстон Поуп\n",
      "Рауф Атамалибеков, Фарид Гумбатов\n",
      "Д.Потемкин\n",
      "В.Извеков\n",
      "Роберт Коннолли, Мэгги Майлз, Кэт Шелпер\n",
      "Финола Двайер, Кристоф Дэниэл, Аманда Пози\n",
      "И.Грушелевский, А.Перепелицын, С.Ольденбург-Свинцов\n",
      "Норитака Кавагути\n",
      "Саймон Босанкет, Джулиан Феллоуз, Лоуренс Элман\n",
      "Брайан Грейзер, Эндрю Итон, Эрик Феллнер\n",
      "А.Голутва\n",
      "Е.Зобов, А.Демаков\n",
      "Е.Гиндилис \n",
      "Алекс Хейнеман, Эндрю Рона, Джоел Сильвер\n",
      "И.Бурец, Д.Нелидов, С.Светлаков, Т.Бекмамбетов\n",
      "Абделатиф Кешиш, Лоуренс Клерк, Брахим Чиоуа\n",
      "Майлз Дэйл, Трэйси Фалько, Памела Эбди\n",
      "Аших Сингх, Адитья Чопра, Санджай Шивалкар\n",
      "Робби Бреннер, Рейчел Винтер\n",
      "Франк Камински, Астрид Камке, Филипп Кройцер, Ульрих Штим\n",
      "Седрик Клапиш, Бруно Леви\n",
      "Дебора Андерсон, Трина Венит, Кристофер Галло\n",
      "Йен Брайс, Том ДеСанто, Лоренцо Ди Бонавентура\n",
      "Эрик Ван Вик, Джесси МакКормак, Кэтрин Химофф\n",
      "Е.Графов, В.Козлов\n",
      "Ален Голдман, Катрин Морисс\n",
      "Нил Эйч Мориц, Ченнинг Татум, Джона Хилл\n",
      "Джейсон Кларк, Сет МакФарлейн, Скотт Стубер\n",
      "ООО \"Арт Пикчерс Студия\" \n",
      "Крис Болзли\n",
      "Майк Бруно, Томас Лукас, Роберт Паттерсон\n",
      "Майкл Коуди, Тиаре Томашевски, Энджи Филдер\n",
      "Джудд Апатоу, Тобин Армруст, Энтони Брегман \n",
      "Джон Гэтинс, Патрик О'Брайен, Марк Сурян\n",
      "Марк Бейншток\n",
      "Луис Кольяр, Пабло Ларраин, Хуан Диос Ларраин\n",
      "Курт Дэвид Андерсон, Хершел Фабер, Джо Фогель\n",
      "Дональд Дж.Ли младший, Чак Пачеко, Джули Силверман  \n",
      "Фрэнсис Бьеспфлуг, Сидони Дюма, Бруно Песери\n",
      "Е.Антимоний\n",
      "Рик Джаффа, Дилан Кларк, Питер Чернин\n",
      "М.А.Фаура, Нив Фичман\n",
      "Мануэль Мунц\n",
      "Дин Занук, Николас Картье\n",
      "П.Поляков\n",
      "П.Поляков, И.Букреев, В.Калмыков, М.Бабаханов\n",
      "Д.Санин\n",
      "С.Сельянов, А.Боярский\n",
      "И.Смолко\n",
      "Михаэль Хейнзл, Магдалена Хёрбст, Мартин Шерман\n",
      "Лорен Метивьер, Фредерик Эллейн\n",
      "Крис Джеро\n",
      "Ааге Ааберге, Ливе Бонневье\n",
      "Ю.Обухов, А.Рязанцев\n",
      "В.Тельнов\n",
      "Алек Болдуин, Майкл Мейер\n",
      "Грегори Бернард, Дайан Джассем, Сергей Сельянов\n",
      "Дэвид Баррон, Эд Гини, Стиви Ли\n",
      "Бобби Коэн, Алекс Куртцман, Роберто Орси\n",
      "Дони Дероза-Грюнд, Питер Сафран\n",
      "Джеймс Вандербилт, Лэта Калогридис, Харалд Клозер, Брэд Фишер, Ларри Джей Франко, Роланд Эммерих\n",
      "Джон Кесси, Фиона Моррис, Сарра Нидхел, Роберт Нобл, Тодд Остин\n",
      "Александр Буоно, Тамсин Равади, Джим Чарнеки\n",
      "Джонни То, Сиу-Тунг Чинг\n",
      "Филипп Боэффард, Клод Варинго, Патрик Кьюинет\n",
      "Росио Гальяно, Ричард Кареага \n",
      "Альваро Лонгария, Николас Тапия\n",
      "Михаэль Вебер, Флориан Кернер фон Густорф\n",
      "Кристиан Беккер, Мари Рехберг, Лена Шёманн\n",
      "Клаас де Йонг, Йохан Нийенхейс, Бернард Тюльп\n",
      "Дэн Кестон, Кортни Мизел, Павлина Хатупис\n",
      "Кристофер Нолан, Чарльз Роувен\n",
      "Томас Циклер, Тиль Швайгер, Бела Ярцик\n",
      "Нил Данн, Андре Руле, Маркус Селин, Юкка Хелле\n",
      "Барри Брукер, Энтони Гудас, Фредерик Малмберг, Марк Ордески, Скотт Уокер, Джордж Фурла\n",
      "Франсуа Озон\n",
      "Чон-хва Ким, Кенг Янг Мо\n",
      "Фабрис Голдштейн, Тома Лангманн, Антуан Рейн\n",
      "Агустина Чиарино, Фернандо Эпштейн\n",
      "Альваро Аугустин, Беатрис Делгадо, Томас Симадевилья\n",
      "Тосимити Ооцуки\n",
      "Макото Синкай\n",
      "Мигель Асенсио, Брайан Оливер, Элай Рот\n",
      "Дон Кемпф, Анди Уд\n",
      "Эммануэль Барро, Агнес Валли, Женевьева Лемаль\n",
      "Энрике Кересо, Франк Рибьер, Вернан Фредиани\n",
      "Хайно Декерт, Йост де Фриз, Хуан Мануэь Эганья\n",
      "Панич Содзи\n",
      "Т.Бекмамбетов, А.Новиков, Г.Куценко\n",
      "Джессика Аск, Лейф Молин, Патрик Райборн\n",
      "Джессика Аск, Клаус Бассинер, Фредерик Викстрем\n",
      "Джордж Закк, Сибилл Луи, Джон Хаддлс\n",
      "Уди Ерушалми\n",
      "Гай Ботам, Бекки Глупчински, Тим Перелл\n",
      "Орсон Скотт Кард, Линн Хенди, Роберт Чартофф\n",
      "Илан Арболеда, Том Донахью, Джоэнна Колбер\n",
      "Даг Дэвисон, Рой Ли, Спайк Ли \n",
      "Алекс Веймер, Лена Вурма, Эстер Фридрих\n",
      "И.Харьков\n",
      "Альберто Аранда, Андреу Буэнафуэнте, Тони Карризоса\n",
      "Майкл Андерсон, Джеффри Соффер, Кристофер Супулведа\n",
      "Раффи Адлан, Георгес Бергман, Джифи Вонг\n",
      "Джейсон Блум, Джей Чандрашекхар\n",
      "Марк Ду Понтавиче\n",
      "Катрин Бозорган\n",
      "Дэвид Матаморос, Ифа О.Салливан\n",
      "Гари Бинкоу, Робб Коттерилл, Кайл Дэвид Кросби, Брэд Миска, Джэми Нэш, Кимо Стамбол, Крис Хардинг\n",
      "Аучара Киджканджанас\n",
      "Шон Гэррити, Мэттью Миллер\n",
      "Луиса Дент, Кевин Лоудер, Бертран Фаврэ\n",
      "Ю.Сапронов\n",
      "Леонардо ДиКаприо, Дженнифер Дэвиссон, Брайан Коппельман \n",
      "Стив МакКарти, Эндрю Маллой, Мэллори Эндрюс\n",
      "Дебора Рэндолл, Крэйг Фаннинг\n",
      "Армен Амбарцумян, Карен Казарян\n",
      "Дженни Мэгги-Кук\n",
      "Брандт Андерсон, Браден Афтегуд,  Сара Обри\n",
      "Ройал Опера Хаус, Артс Альянс Медиа\n",
      "Майк Леонард, Майк Манджини, Джон Маянг, Джон Петруччи, Джордан Рудесс\n",
      "Алекси Барды\n",
      "Сидней Киммел, Гэри Люкези, Том Розенберг\n",
      "Валерий Шерман, Кристоф Янкович\n",
      "Илан Гольман\n",
      "Эдуардо Баринага, Франсуа Коэн-Сэт, Фабио Массимо Чаккиатори\n",
      "Шекхар Капур, РонниСкривала, Триша Скривала\n",
      "Винс Вон, Шон Леви, Дэниэл С.Ливайн\n",
      "Алан Голдман\n",
      "Роберт Бернштейн, Дуглас Рэй, Уолтер Эйрс\n",
      "Сет Барон, Конор Эллин, Роб Эллин\n",
      "О.Компанец, Д.Тулин\n",
      "Майя Амселлем, Роберт Бернштейн, Пол Ричи\n",
      "Майкл Бернатан, Крис Коламбус, Карен Розенфельт\n",
      "Кай Коул, Джосс Уидон\n",
      "Мани Хагиги\n",
      "Жан-Батист Дюпон, Алис Жирар, Сирил Кольбо-Жюстен\n",
      "Н.Расторгуев\n",
      "Д.Кеосаян\n",
      "Люсия Ловат, Фиона Стеварт, Соня Фридман\n",
      "Кори Рэй\n",
      "Луиза Киллин, Аллан Нибло, Джеймс Ричардсон, Джим Спенсер\n",
      "М.Бабаханов, Е.Борисова\n",
      "Кевин Мишер\n",
      "Лоуренс Клерк, Оливье Тери-Лапине, Брахим Чиоуа\n",
      "Хесус Гонсалез-Эльвира, Жан-Мишель Рей, Николас Стейл\n",
      "Дэвид  Гровс, Дэвид Фостер\n",
      "Стив МакКуин, Деде Гарднер, Энтони Катагас\n",
      "Летти Аронсон, Стивен Таненбаум\n",
      "Дэвид Брукс, Дэн Клифтон\n",
      "Сильвестр Сталлоне, Кевин Кинг Темплтон\n",
      "Натали Галазка, Кристиан Гемеинер, Родриго Доносо,  Милко Коронед, Аншут Кумар, Ваи Ленг, Марк Никелсбург, Мелисса С.О'Брайн, Флориан Сиегл, Стефан Сках, Джеймс Стюарт, Доменико Тискони, Чеонг, Федерико Эйер, Джереми Ясхес\n",
      "Г.Бардин\n",
      "Родриго Кортес, Адриан Герра\n",
      "Эннмари Белл, Эндрю Трауки\n",
      "Люк Босси, Ксавье Кастано, Женевьева Лемаль\n",
      "Стивен Моффат, Фэйт Пенхэйл\n",
      "Исен Роббинс, Айми Шуф\n",
      "Л.Ислямов\n",
      "Сара Вудхэтч, Христос Константакопулос, Ричард Линклейтер\n",
      "А.Поженский\n",
      "ООО \"Арт Пикчерс Студия\", ООО \"Нон-Стоп Продакшн\", ОАО \"Банк ВТБ\", ОАО \"Телекомпания\", ФГУП \"ВГТРК\"\n",
      "М.Спектор, М.Беспалов, З.Зармаев, П.Зекавица, Т.Хван, Э.Радзюкевич\n",
      "С.Сельянов, А.Лигай, С.Рапопорт, Ю.Москвин\n",
      "Санто Чилауро, Том Глейснер, Майкл Херш\n",
      "С.Ливнев, А.Златопольский, В.Зеленский, С.Шефир, Б.Шефир, А.Яковлев, С.Бобза\n",
      "Орен Пели\n",
      "Дэвид Барон, Мэйс Нойфелд\n",
      "Дерек Фреда, Спайк Джонз, Джонни Ноксвил\n",
      "А.Боярский, С.Сельянов\n",
      "М.Панфилов, А.Осипов, А.Кушаев\n",
      "Нобуо Каваками, Тосио Сузуки\n",
      "А.Учитель, К.Саксаганская, Летиция\n",
      "Винсент Ньман, Такер Тули\n",
      "Гари Гоэцман, Билл Пэкстон, Найджел Синклер, Том Хэнкс\n",
      "Джон Абрахам, Ронни Лахири, Сунил Лула\n",
      "Динеш Виджан, Саиф Али Кхан, Эндрю Хеффернан\n",
      "К.Мелик-Авакян, Л.Биц\n",
      "Мануэль Аренас\n",
      "Пол У.С.Андерсон, Джереми Болт, Дон Кармоди, Мартин Московиц\n",
      "Н.Бородачев, В.Шильников, А.Татаринцев, М.Розенцвейг\n",
      "Хидонг Ким\n",
      "Ноа Баумбах, Скотт Рудин, Родриго Тейшейра\n",
      "Эндрю Косби, Марк Платт, Росс Ричи, Адам Сигел, Джордж Фурла, Нортон Херрик, Рэндалл Эммет\n",
      "Саймон Коуэлл, Адам Милано, Морган Спарлок, Бен Уинстон\n",
      "Изабелла Кокузза, Артуро Паглия\n",
      "Эстебан Шредер\n",
      "Аластер Карратерс, Майкл А.Дж.О'Нилл\n",
      "Эрик Гозенс, Николас Стейл\n",
      "Райнхард Клоосс, Роберт Кульцер, Мартин Московиц\n",
      "Е.Флягина, П.Бабин, М.Чурбанов\n",
      "Н.Расторопнова\n",
      "О.Дыховичная, А.Никонова, Д.Альбин, А.Сонк, М.Слот, К.Полякофф\n",
      "В.Тодоровский\n",
      "Дон Бремерс, Ронан МакХьюг\n",
      "Тьерри Донар\n",
      "Тине Грев Пфейффер, Каролина Шлотер\n",
      "Елена Фетисова   \n",
      "Кэролайн Ван Айсегем, Оливье Курсон, Бен Стассен\n",
      "Вин Дизель, Тед Филд, Саманта Винсент\n",
      "В.Извеков, Р.Насибулин\n",
      "Ж.Воробьева\n",
      "Йен Колли, Элисон Оуэн, Филмпп Стюэр\n",
      "Эммануэль Жаклин, Павел Солк, Филипп Херинг\n",
      "Анна Герб, Нил Додсон, Джастин Наппи\n",
      "Джин Думаньян, Джордж Клуни, Грант Хеслов\n",
      "Джейсон Блум, Дэн Клифтон, Питер Сафран\n",
      "Пол Баркин, Пьер Ивен, Мэттью Керви, Мари-Клод Пулен\n",
      "Ахмед Абуноум, Вульф Бауэр, Нико Хофманн\n",
      "Фатих Акин, Ёзеф Бергер, Момчило Мрдакович\n",
      "Джин Гуопинь, Николас Этлан, Лиз Янг\n",
      "Робер Бенмуса, Алэн Сард\n",
      "Брайан Кавано-Джонс, Кики Мияке, Стивен Сквилланте\n",
      "А.Миндадзе, Л.Антонова\n",
      "Саймон Кинберг, Хатч Паркер, Лорен Шулер Доннер\n",
      "Дейвид Бартис, Брюс Берман, Даг Лайман, Хидеми Фукухара, Джоби Харольд \n",
      "Джессика Коплос, Мэттью Шилвок\n",
      "Филипп Делару, Себастьен Деллуа \n",
      "М.Боев, Л.Могилевский, А.Калинкин, В.Пономаренко\n",
      "Е.Белова\n",
      "Альберт Бергер, Крэйг Дж. Флорес, Уильям Хорберг\n",
      " Г.Шпригов\n",
      "А.Попова\n",
      "Е.Ковалева\n",
      "Тина Винхольт, Михаэль Обель\n",
      "А.Шусторович, Ю.Орлов\n",
      "Д.Бенс, Ф.Друзин, А.Хвостов\n",
      "Т.Вайнштейн, М.Хатамов\n",
      "Боб Купер, Тайлер Митчелл, Дэниэл Дж. Уолкер\n",
      "Клара Беффа, Бенуа Бланчард, Бернард Танги\n",
      "Люк Байбак, Дара Братт, Киран Дик, Кэти Кнаб, Энтони Рэй, Костас Тагалакис, Ли Фонг, Жюли Эспарб\n",
      "Шарлотта Клэй Хаггинс\n",
      "В.Горяинов, Л.Лебедев, В.Тодоровский\n",
      "Д.Аполенис, В.Галыгин, Д.Герман, В.Микулич\n",
      "Ральф Швингель, Штефан Шуберт\n",
      "Альфонсо Куарон, Дейвид Хейман\n",
      "Сергей Беспалов, Гейер Косински, Александр Роднянский\n",
      "Джон Гордон, Чарльз Ровен, Меган Эллисон \n",
      "Джордж Клуни, Грант Хеслов, Барбара А.Холл\n",
      "Дэниз Нолан Каскино, Джейсон Кларк, Эрик Элленбоген \n",
      "Тони Аллард, Марк Платт, Майкл Тадросс\n",
      "Марк Кэнтон, Джанни Нуннари, Дебора Снайдер, Зак Снайдер\n",
      "Тами Леон, Хилик Михаэли, Авраам Пирчи\n",
      "Стив Куган, Треси Сиурд, Габриэлль Тана\n",
      "Рой Ли, Дэн Лин\n",
      "Дон Мерфи, Сьюзен Монтфорд, Дипак Наяр, Майкл Прегер\n",
      "Люси Фишер, Пуйа Шабазиан, Дуглас Уик\n",
      "Дэвид Эйр, Билл Блок, Пол Хэнсон\n",
      "Рик Бенаттар, Эндрю Дж.Кёртис, Джонатан Инглиш\n",
      "Гай Хили, Пол Уэбстер\n",
      "Ален Атталь, Андрэ Логи\n",
      "Мозес Косио, Брайан Кокс, Герардо Гатика\n",
      "Р.Давлетьяров, А.Котелевский, А.Новиков\n",
      "А.Гончуков\n",
      "А.Дугарон\n",
      "Марселино Алманса, Антонио Бандерас, Керри Фултон\n",
      "Майкл Бартлетт, Рене Берндт, Джон Мэннинг\n",
      "О.Компанец, О.Кохан, О.Кулик\n",
      "Тайлер Дэвидсон, Питер Сараф, Джонс Ходжес\n",
      "Робин де Левита, Эдвард вант Вут\n",
      "Н.Клибанова\n",
      "А.Герасимов\n",
      "Кристи Дембровски, Джонни Депп, Эндрю Лазар\n",
      "Марко Коэн, Бенедетто Хабиб\n",
      "Джули Локхарт, Питер Лорд, Ник Парк\n",
      "Иван Ангелус, Сара Бренан Колб, Натан Данкан, Мария Иванова, Роберт Лакатос, Диана Патиньо Мартинес, Никки Мосс, Зорана Пигготт, Насиб Пириев, Моник Уолтон, Она Фалби, Мушвиг Хатамов, Агнеш Чере\n",
      "В.Гаман, Д.Волгин\n",
      "Оливье Дельбоск, Кристин де Жекель, Марк Миссонье\n",
      "Сьюзан Дауни, Дэвид Добкин \n",
      "Денис Ди Нови, Элисон Гринспен, Молли Смит\n",
      "Эрик Бреннер, Роб Карлинер\n",
      "Тим Беван, Лиза Брюс\n",
      "Иона Де Маседо, Каролина Котчо, Анхелика Уэте\n",
      "Корнелия Бойсен, Синнёве Хёрсдаль\n",
      "Андреа Парис, Маттео Ровере\n",
      "Г.Андреасян, С.Андреасян, В.Поляков\n",
      "Н.Иванова\n",
      "Б.Дышенов\n",
      "Джадд Апатов, Джимми Миллер\n",
      "Мэри Пэт Бентел, Бен Бренд, Сиара Гиллан, Джордан Гросс, Дэн Джанви, Грейс Джексон, Роджер Дорант, Шона Лион, Майк МакМиллан, Шимми Маркус, Хольгер Фрик, Волькер Хаак, Николя Шмеркин\n",
      "Памела Абди, Наоми Деспрес, Джереми Реннер, Скотт Стабер\n",
      "Н.Бортко\n",
      "Клинт Иствуд, Эндрю Лазар, Пи Джей Эй\n",
      "Грэхэм Броадбент, Майкл Дрейер, Питер Чернин\n",
      "Юлиан Гойоага, Герман Техейра, Джонни Хендрикс\n",
      "Ричард Рионда Дель Кастро, Майкл Мендельсон, Джим Эгнью\n",
      "Киа Джем, Джудд Пэйн, Мэттью А.Родс\n",
      "Гильям де Рокуемаурел, Кьяра Джирарди, Джульетта Ламбур\n",
      "Нэнси Грант, Ксавье Долан, Сильвен Корбелл\n",
      "Джулиан Котерли, Адам Пирс, Дженни Раскин, Люси Уокер\n",
      "Дэвид Бьюлоу, Ронда Бэйкер, Ли Нельсон\n",
      "Крис Бендер, Бретт Ратнер, Джэй Стерн\n",
      "Эндрю Панай\n",
      "Тобин Армруст, Денни ДеВито, Брайан Оливер, Майкл Шамберг, Стейси Шер\n",
      "Антонио Бандерас, Дэнни Лернер, Сандра Эрмида\n",
      "Геворг Геворкян, Виктория Лупик, Армен Манасарян\n",
      "Марк Гилл, Ави Лернер, Лиза Маршалл\n",
      "Джим Парсонс\n",
      "Морган Невилл, Кетрин Роджерс\n",
      "Сюзан Берги, Мирей Сория \n",
      "Дэвид Бэррон, Саймон Кинберг, Эллисон Ширмур\n",
      "Майкл Бенаройя, Энтони Катагас\n",
      "К.Битаров\n",
      "Н.Соколов\n",
      "Жан-Шарль Леви, Клементе Мисерез, Тим Перелл\n",
      "Сирил Кольбо-Жюстин, Сидони Дюма\n",
      "Дон Кармоди, Робин Крумли, Габриэлла Мартинелли\n",
      "Кристин Кофски, Терри Майлз, Лорен Ли Смит\n",
      "Джеффри Аллард, Брук Бернард, Майкл Готтвальд\n",
      "Дэн Бауэн, Джеймс Уилсон\n",
      "Мэл Гибсон, Брюс Дэвей, Марк Эмин\n",
      "Дэн Клифтон, Питер Сафран, Санфорд Хэмптон\n",
      "Сатоси Фукусима, Михико Хирата, Кодзи Хякутакэ, Тосинори Ямагути\n",
      "Люси Фишер\n",
      "Ален Аттал, Хьюго Селиньяк, Софи Теппер\n",
      "Ками Асгар, Скотт Мартин, Генри Му\n",
      "Нора Гроссман, Идо Островски, Тедди Шварцман\n",
      "Каролина Лотсберг, Жозе Эскола, Альберт Эспель\n",
      "Сидони Дюма, Жан Коттин, Лорен Тайеб\n",
      "Алехандро Гонсалес Иньярриту, Джон Лешер, Арнон Милчэн\n",
      "Александр Ажа, Марк Кантон, Чади Эли Маттар\n",
      "Кристиан Бекер, Лена Олбрич\n",
      "Трой Льюм, Эндрю Мэйсон, Кит Роджер\n",
      "Хелена Даниэльссон, Понтус Сьёман\n",
      "А.Килин\n",
      "Моника Лозано\n",
      "Януш Вонхала, Кшиштоф Занусси, Илья Захаров, Александр Ковтунец, Влодзимеж Нидерхаус, Паоло Мария Спина\n",
      "Джефф Бриджес, Нил Кёнигсберг, Николь Сильвер\n",
      "Лоран Божар, Кайю Жуллане, Фабиану Жуллане\n",
      "Томас Гаммльтофт, Эрик Кренцлер, Эд Кэйтелл третий, Ави Лернер, Тоби Магуайр, Бенджамин Форкнер\n",
      "Бэзил Иваник, Дэвид Лейтч, Ева Лонгория\n",
      "Мэттью Баэр, Анджелина Джоли, Эрвин Стофф\n",
      "Стефан Кирни, Линни Тонкес\n",
      "Тим МакГахэн, Пэдди Макдональд, Гари Хэмилтон\n",
      "Александр Астье, Луис Клиши\n",
      "В.Поляков, Г.Малков\n",
      "В.Поляков, Г.Андреасян, С.Андреасян\n",
      "Филипп Мартен\n",
      "Себастьян Деллуа, Бриге Кергер-Сантос\n",
      "Лара Брей, Эрик Дарнелл, Марк Свифт\n",
      "Николас Альтмайер, Эрик Альтмайер\n",
      "Филлип Браунштейн, Леонард Гловински, Эксел Гуйо, Мартин Ле Галль\n",
      "Элизабет Дестро, Майкл Закин\n",
      "Марк Алсиус, Санти Бискоа, Панчо Касаль, Алекс Коллс, Ассунса Эрнандес\n",
      "Элисон Гринспэн\n",
      "Бродерик Джонсон, Ричард Ингбер\n",
      "Е.Гиндилис\n",
      "Риза Азиз, Бобби Фаррелли, Питер Фаррелли\n",
      "Стефен Аликс, Эри Лантос, Роберт Лантош\n",
      "Дэвид Линд, Дэвид Мишо, Лиз Уоттс\n",
      "Джейсон Блум, Питер Принципато, Пол Янг\n",
      "Леонардо М.Баррос, Денис Гомес, Педро Б.Де Олланда\n",
      "Бэзил Иваник, Томас Тулл, Лайонел Уигрэм\n",
      "Энн Кэролайн Вебер, Марко Вебер, Элиз Эстрада\n",
      "Т.Бекмамбетов, С.Агеев\n",
      "Тимур Бекмамбетов, Евгения Аронова\n",
      "Карен Ландер, Аарон Райдер, Робин Свит \n",
      "Алехандро Ходоровский, Ксавье Герреро Ямамото\n",
      "Т.Дубинина\n",
      "Жаклин де Гойж, Арсен Готлиб, Дэвид Гордон Грин, Дастин Гай Дэфа, Дидье Дюпик, Алекс Липсшульц, Диана Патиньо Мартинез, Александр Мермаз, Герт Эмбрехтс\n",
      "Элл Морроу, Джини Финли\n",
      "Анна Ван дер Ви, Филиппа Коварски, Дрор Мор, Эстелль Фиалон\n",
      "Сисе Граум Йоргенсен\n",
      "А.Пиманов, О.Погодина\n",
      "Т.Бекмамбетов, С.Муазен\n",
      " ООО \"Арт Пикчерс Студия\", ФГУП \"ВГТРК\"\n",
      "С.Дальская\n",
      "Антония Барнард, Эйн Каннинг, Эмиль Шерман\n",
      "ООО \"ВИЗАРТ ФИЛЬМ\", ООО \"ТаББаК\"\n",
      "Бернд Эйлерт, Отто Ваалкес, Дуглас Велбат\n",
      "Тайлер Дэвидсон, Брайан Кэвэна-Джонс\n",
      "Майкл Костиган, Бриджет Джонсон\n",
      "Лиз Кирни, Роберт Коннолли\n",
      "Алекса Селигман, Джей Тейлор\n",
      "Л.Якубович, А.Стриженов, Л.Лищинская\n",
      "Лиза Азуэлос, Флориан Женете-Морель, Ромейн Ле Гранд\n",
      "Мэттью Баттон\n",
      "Тоув Кристен, Георгий Малков, Сарик Андреасян\n",
      "Фелипе Мариино, Джо Нюротер\n",
      "Н. Арутюнова (псевдоним Н.Семашкевич)\n",
      "Свайнунг Голимо, Джон М.Якобсен\n",
      "Мариэла Бесуевски, Херардо Эрреро\n",
      "Энди Морахан, Дион Орром, Джастин Риббонс, Крейг Шон\n",
      "Д.Ловейко, О.Кузовков\n",
      "Б.Уладаев\n",
      "Кассандра Кулукундис, Тодд Лабаровски \n",
      "Джейк Армстронг, Бретт Боземан, Бриц Будке, Рафаэль Валь, Карл-Йохан Вестрегард, Робин Кадвелл, Жорж Мельес, Тиль Новак, Хамфри Эллес-Хилл, Рори Эткен\n",
      "Клаус Доле, Триш Долмэн, Кристин Хеблер\n",
      "Г.Нерсисян, А.Манасарян\n",
      "Макул Вигерт\n",
      "Ари Лантос, Джонас Белл Пашт\n",
      "Линда Моран, Адам Фолк\n",
      "Г.Малков, В.Поляков\n",
      "Мики Лиделл, Дженнифер Хилтон, Пит Шилеймон\n",
      "Камо Унанян\n",
      "О.Гранина, А.Зайцев\n",
      "Мерседес Гамеро, Микель Лехарса, Франсиско Рамос\n",
      "Брайан Балок, Леон Дин, Минг Ли, Дейзи Шан\n",
      "Тони Маршал, Бруно Песери, Диана Эльбаун\n",
      "Роберт Карсене\n",
      "Том Блинингер, Филипп Будвег, Феликс Фуксштайнер\n",
      "Дэвид Гросс, Макдара Келлехер, Андре Руле\n",
      "В.Поляков, Г.Малков, С.Андреасян,  Г.Андреасян\n",
      "Павел Бинчуки, Эвелина и Эугениуш Горджежик, Рон Дайенс, Кьяра Дини, Курбан Кассам, Нино Кристен, Жан-Франсуа Ле Корр, Сара Сагдан, Жан Стеббинс, Майкл Федер, Руне и Эсбен Фискер\n",
      "Мэттью Модин, Билл Плимтон, Дэзире Ставракос, Джеймс Хэнкок\n",
      "Барри Левинсон, Аль Пачино, Джейсон Соснофф\n",
      "М.Галицкая\n",
      "Дайан Бекер, Кэрри Легран, Мелани Миллер\n",
      "Эмиль Абинал, Ара Бернштейн, Марк Берреби\n",
      "Эрик Альтмайер, Реми Бура, Оливье Отец\n",
      "Дэниэл Луис, Дениз Робер\n",
      "А.Литвинов, К.Шахназаров\n",
      "Джошуа Донен, Арнон Милчэн, Сиан Чаффин\n",
      "Тарак Бен Аммар, Грег Франкович, Оливер Хенгст\n",
      "Дилан Кларк, Майкл Ларокка, Питер Чернин\n",
      "Питер Блок, Дэвид Хиггинс, Андреа Чунг\n",
      "И.Угольников\n",
      "Джим Бич, Соул Свиммер\n",
      "Шон Леви, Дэниэл С.Ливайн, Лиза Хенсон\n",
      "Энтони Брегман, Джон Килик, Меган Эллисон\n",
      "Ричард Джексон, Бен Холден\n",
      "Джейсон Блум, Элейн Голдсмит-Томас\n",
      "Вин Дизель, Майкл Фоттрел \n",
      "А.Феофанов, С.Новиков\n",
      "Д.Пиркулов\n",
      "Мэттью Меткалф, Катрин Мэдигэн\n",
      "Марко Кименц, Кристин Руксель, Бенжамен Эсс\n",
      "Стив Голин, Хильде Де Лаере, Мэтт ДеРосс\n",
      "Саманта Брукс, Стив Чесман, Роберт Эрл\n",
      "Джим Кокрейн, Кевин МакДональд, Чарльз Стил\n",
      "Мэри Виола, МакДжи, Сьюзан Картсонис\n",
      "Ву Янронг\n",
      "Тодд Блэк, Джейсон Блюменталь, Энтони Катагас\n",
      "Аарон Бергер, Брэд Букер, Гильермо дель Торо\n",
      "Гервиг Лавицки, Йорн Ревер, Мелани Хафт, Ян Хафт\n",
      "Пьер-Оливье Барде\n",
      "М.Косырев-Нестеров\n",
      "И.Толстунов и др.\n",
      "А.Михалкова, М.Королев\n",
      "Джей Браун, Уилл Глак, Джей Зи, Джеймс Лэсситер, Калеб Пинкетт, Джада Пинкетт Смит, Тайран Смит, Уилл Смит\n",
      "Марти Бауэн, Вик Годфри, Д.Скотт Лампкин\n",
      "Н.Мокрицкая, Е.Олесов\n",
      "Пьер Кюбель, Мари-Кастиль Менсьон-Шаар\n",
      "Джон Баттсек, Саймон Чинн, Надав Ширман \n",
      "В.Савельева, В.Долгий-Рапопорт, Е.Устюгова, Д.Куповых, А.Шульев, А.Архипов\n",
      "В.Сотстков, О.Кузовков, Д.Ловейко, А.Златопольский, С.Сельянов, А.Боярский, Т.Цыварева, В.Воля, Е.Головин, А.Сметанкин, Д.Тютьков\n",
      "Рой Ли, Майкл Тадросс, Бруклин Уивер\n",
      "Дэнни Росснер\n",
      "Рэндолл Эммет, Джордж Фурла, Адам Голдворм\n",
      "Нэн Моралес, Мэри Пэрент\n",
      "А.Мельник\n",
      "Г.Малков, В.Поляков, И.Капитонов, В.Муругов\n",
      "И.Каленов\n",
      "Ю.Кара\n",
      "Валери Буайе, Эрик Жюриан, Матиас Рубин\n",
      "Джон Руни\n",
      "А.Новиков\n",
      "Люси И.Ким\n",
      "Росс М.Динерштейн, Трейс Шиэн\n",
      "Георгий Аистов, Ярослав Губченко\n",
      "Дженнифер Джигбот, Адам Шенкман\n",
      "Сара Обри, Бо Флинн, Бэрри Ливайн\n",
      "Майкл Бэй, Йен Брайс, Эндрю Форм\n",
      "Холли Вирсма, Джордж Дракулиас, Логан Леви, Луиз Стрэттен \n",
      "Фил Барнс, Кэмпбелл Битон, Павел Вукович, Татьяна Зезей, Крис Коллинз, Кристоф Мазодье, Джудит Надэ, Даина Пападаки, Мили Росалез, Пьер Амстудс Рох, Селин Шапданиэль  \n",
      "Таика Вайтити, Эмануил Майкл, Челси Уинстэнли \n",
      "ООО \"ЕРАЛАШ\"\n",
      "Мерседес Гамеро, Гастон Горали, Хуан Хосе Кампанелла, Михель Лехарса, Хорхе Эстрада Мора, Мануэль Поланко \n",
      "Н.Будкина\n",
      "А.Златопольский, С.Сельянов, А.Боярский, В.Сотсков, Т.Цыварёва, В.Воля, И.Урюпин, Г.Васильев, М.Мэннис, И.Попов, О.Кузовков, Д.Ловейко\n",
      "С.Кучмаева, С.Зернов\n",
      "Бруна Папандреа, Уильям Полад, Риз Уизерспун\n",
      "Мирти Бауэн, Вик Годфри, Тереза Парк\n",
      "Билл Борден, Майкл Ицзюнь Ванг, Джек Чжанг\n",
      "Джейсон Блум, Мэттью Каплан, Джимми Миллер\n",
      "Е.Борисова, А.Остапко\n",
      "Четиль Омберг\n",
      "Барбора Доран, Жан-Мари Комю, Роджер Фраппье\n",
      "Бенедикт Карвер, Сара Фрюдман, Стивен Хобан\n",
      "Рэнда Аюби, Дэвид Дж.Корбетт, Роберт Энич\n",
      "Брайан Минчин, Стивен Моффат\n",
      "Зейнеп Озбатур Атакан\n",
      "Майкл Бенаройа, Дэвид Диксон, Кевин Скотт Фрайкс\n",
      "Джон Дж.Джашни, Джозеф М.Карачиоло младший, Майкл Де Лука\n",
      "Антонио Авати, Флавия Парнази\n",
      "Джанет Бреннер, Лорен Версель, Курт Дойтч, Ричард ЛаГравенес \n",
      "Росс М.Динерштейн\n",
      "Саймон Брукс, Дон Кармоди, Роберт Кульцер\n",
      "Джейсон Блум, Дэвид Ланкастер, Хелен Эстабрук\n",
      "Джим Бэллэнтайн, Торстен Вагнер, Барбара Стивен \n",
      "Джастин Бёрнс, Элисон Гринспен, Денис ДиНови\n",
      "Алекс Гарсиа, Марко Поло Констандс, Леонардо Симброн, Хосе Мария Торре, Марсель Феррер\n",
      "Каролин Беньо, Корин Купер, Кэрол Скотта\n",
      "Моран Атиас, Пол Брюлс, Нильс Дюнкер\n",
      "Бен Косгров, Марк Кубан, Пола Мэй Шварц\n",
      "ООО \"Грин Филмс\", ООО \"ПЦ \"Горад\"\n",
      "Гед Дикерсин, Адам Фолк\n",
      "А.Морозов, Д.Шалашная\n",
      "А.Любельский, С.Стругачев\n",
      "У.Ковалева\n",
      "Мигель Асенсио, Молли Коннерс, Николас Лопез\n",
      "Аллен Бэйн, Ара Кац, Стюарт Форд\n",
      "Пол Брукс, Джейм Бурк, Гай Данелла\n",
      "Виржини Силла, Марк Шмугер\n",
      "Дэвид Блайман, Трэвис Найт\n",
      "Кэролайн Леви, Эллан Нибло, Джеймс Ричардсон\n",
      "Арно Фрилли\n",
      "Э.Архангельская, А.Пискунова\n",
      "П.Костомаров, А.Расторгуев, П.Печенкин, В.Соколов, М.Туула, М.Гаврилова, А.Сигле\n",
      "Лена Ренберг\n",
      "Финн Гьёрдрум, Стейн Б.Квае\n",
      "Билл Блок, Джон Хеджман, Пол Хэнсон\n",
      "Эдуард Вейл, Алис Жирар\n",
      "И.Маслюков\n",
      "Оливер Беккер, Магдалена Хербст\n",
      "Рубен Дишдишян, Микаел Погосян\n",
      "Люк Гринфилд, Саймон Кинберг, Адитья Суд\n",
      "Мартин Бауэн, Эллен Годсмит-Вейн, Вик Годфри \n",
      "И.Бурец, Д.Нелидов, Н.Клибанова, С.Светлаков\n",
      "Скотт Дерриксон, Марио Джиагаги, Лоренцо Мьели, Эрик Хойманн\n",
      "Г.Махмутова\n",
      "Энтони Геффен, Сиас Уилсон\n",
      "Шарль Жильбер\n",
      "Гари Бинкоу, Тео Брукс, Дэвид Кларк Лосон младший, Брэд Миска\n",
      "Олена Ершова, Леван Когуашвили, Кетеван Мачавариани, Сулико Цулукидзе\n",
      "Джессика Аск, Сарита Кристенсен, Петтер Линдблад\n",
      "Райан Кэрролл, Роланд Кэрролл, Бонн Редфорд \n",
      "Джеймс Белфер, Дэвид Гордон Грин, Лиза Мускат\n",
      "Алекси Барди, Наталья Дрозд, Сергей Сельянов, Олег Силванович, Рийна Сильдос \n",
      "Фархан Ахтар, Поль Гутьеррес, Ритеш Сидхвани\n",
      "Майкл Аурет, Майк Бакленд, Жан-Мишель Кенниг, Базил Форд, Стюарт Форрест\n",
      "Алан Грейсман, Марк Дэймон, Роб Райнер\n",
      "Тодд Блек, Джейсон Блюменталь, Стив Тиш\n",
      "Патрик Айелло, Дрю Даудл\n",
      "Вивьен Асланян, Ришар Гранпьер, Фредерик Донекуан\n",
      "Джиллиан Берри Джеймс Уилсон, Ник Уэкслер\n",
      "Адам Дж.Брафф, Зак Брафф, Мэттью Эндрюс\n",
      "Джеймс Ван, Питер Сафран\n",
      "А.Татаринцев,  А.Розенберг, Т.Хателишвили, А.Резник\n",
      "Э.Архангельская, А.Пискунова, Ю.Арабов\n",
      "Вилли Гейке, Пол Мориц, Томас Циквер, Тиль Швайгер\n",
      "Марк Бург\n",
      "Р.Дишдишян, ООО \"ММЕ\"\n",
      "С.Юматова\n",
      "И.Толстунов, С.Козлов, С.Корнихин\n",
      "Рубен Флейшер, Бо Флинн, Сэм Энглебардт\n",
      "Тодд Гарнер\n",
      "Мишель Беннетт, Тим Даффи, Майлс Поллард\n",
      "Джон Лассетер\n",
      "Джерри Брукхаймер\n",
      "Джульет Блейк, Стивен Спилберг, Опра Уинфри\n",
      "Р.Шаляпин, Е.Ткачук\n",
      "ООО \"СинеПро\", ООО \"Продюсерский центр \"Парадиз\"\n",
      "Э.Илоян, В.Шляппо, А.Троцюк, Д.Жалинский, Н.Трынкин, О.Кочеткова\n",
      "Ю.Бердников, А.Арбузов\n",
      "Хайме Романдиа, Николас Селис, Йост де Фриз, Амат Эскаланте\n",
      "Ник Барриос, Майкл Голдфайн, Эндрю Келли, Джо Киллиан, Вэнди Лэйстер, Блэк Моррисон\n",
      "Дерек Биркетт, Эмма Биркетт,Мероу Кэнди, Жаку Эденброу\n",
      "Кристофер Нолан, Линда Обст, Эмма Томас\n",
      "Мерседес Гамеро, Питер Сафран, Хауме Кольет-Серра\n",
      "Стив Голин, Кайл Дин Джексон, Аликс Мэдигэн, Майлс Нестел, Розали Сведлин, Радж Бриндер Сингх, Кевин Скотт Фрайкс, Крэйг Чэпман\n",
      "Кристоф Сервони, Марк Фисцман\n",
      "Сергей Беспалов, Аарон Кауфман, Стивен Л'Орё, Марк С.Манюэль, Александр Роднянский, Роберт Родригес\n",
      "Шобха Капур, Экта Капур, Притиш Нанди \n",
      "О.Погодина\n",
      "Рени Ахо\n",
      "Кертис Берч, Джералд Ди Пего, Фред Скеписи\n",
      "Билл Блок, Джон Лишер, Итан Смит, Дэвид Эйр\n",
      "Бернард Флейсхер\n",
      "Магдалена Хёрбст\n",
      "Хэмиш Гамильтон, Клэр Гош, Кэти Мулан\n",
      "Венсан Мараваль, Ален Сард, Брагим Шиуа\n",
      "Фредерик Брильон, Жиль Легран\n",
      "Бруно Леви\n",
      "Лорен Дарк, Патрик Хоусен, Карим Дебба, Элке Гроэн и др.\n",
      "Энтони Бёрнс, Дэнни  Брэмсон, Джефф Калотта\n",
      "Кит Арнольд, Шрирам Дас, Бо Клэр\n",
      "Марко Дель Бьянко, Карин Дж.Дитрих, Ральф С.Дитрих\n",
      "А.Цекало, К.Эрнст, Р.Сорокин\n",
      "Винсент Чжоу\n",
      "Андреа Колдервуд, Саймон Корнвэлл\n",
      "Аль Браво, Дино Дос Сантос\n",
      "Алекс Карбонелл, Алисия Лакарсел\n",
      "Брайан Дриллинжер, Мишель Дэннер, Эд Ча\n",
      "Джейкоб Балслев, Луиза Вест, Сениа Дремструп\n",
      "Кристоф Токе, Фридрик Тор Фридрикссон, Гудрун Эдда Торханесдоттир\n",
      "А.Козлов\n",
      "Белен Атьенса, Мерседес Гамеро, Энрике Лопес Лавинье\n",
      "ВГИК, П.Б.Фетисов\n",
      "Алина Барделла, Франческо Инверницци\n",
      "Э.Ахрамович, С.Миндлин\n",
      "Стив Джонс, Тодд Джонс, Джефф Харасимович\n",
      "Жером Сейду, Эрик Юбер\n",
      "Джани Косич, Иван Малоча, Катарина Янкович\n",
      "Алекси Барди, Доминик Райт\n",
      "А.Кончаловский\n",
      "Летти Аронсон, Стивен Тенебаум, Эдвард Уолсон\n",
      "Ашок Амритрадж, Элизабет Дестро, Эллен Голдсимт-Вэйн\n",
      "Уильям Д.Джонсон, Шеннон МакИнтош, Сэм Энглебардт\n",
      "Д.Воробьев, А.Федорченко, Л.Лебедев\n",
      "Мартин Кац, Мишель Меркт, Саид Бен Саид\n",
      "Скот Армстронг, Пол Брукс, Нил Х.Мориц\n",
      "Марк Хаффам, Питер Чернин, Майкл  Шефер\n",
      "Блондел Айду, Крис Коламбус, Шон Леви\n",
      "Люк Бессон, Мишель Мандавилль\n",
      "Тодд Блэк, Джейсон Блюменталь, Дензел Вашингтон, Ричард Венк, Мейс Ньюфилд, Алекс Сискин, Майкл Слоан, Стив Тиш, Тони Элдридж\n",
      "Падди Хигсон, Франс Хигсон\n",
      "Александрия Фергюсон, Дэвид Хейман, Рози Элисон\n",
      "Джон Дж.Джашни, Майкл Манн, Томас Тулл\n",
      "Джон ДеЛука, Каллум МакДугалл, Роб Маршалл, Марк Платт\n",
      "Роберт Чартофф, Стивен Левинсон, Марк Уолберг\n",
      "Майкл Бэй, Эндрю Форм, Брэдли Фуллер\n",
      "И.Плиско\n",
      "Дениз Ди Нови\n",
      "Грант Хилл, Лана Вачовски, Энди Вачовски\n",
      "Кристина Кейтон, Кристиан Мольере\n",
      "Серджо Манфио, Франческо Манфио\n",
      "Агустин Альмодовар, Педро Альмодовар, Эстер Гарсия, Матиас Мостерин, Хуго Сигман\n",
      "Адам Болинг, Мэттью Вон, Дэвид Рейд\n",
      "Скотт Александер, Тим Бёртон, Боб Вайнштейн, Харви Вайнштейн, Ларри Карацевски, Линетт Хауэлл\n",
      "Дэна Брунетти, Э.Л.Джеймс, Майкл Де Лука\n",
      "Тильде Корси, Джанни Ромоли\n",
      "Штефан Арндт, Гельмут Грассер\n",
      "Н.Михалков, Л.Верещагин\n",
      "Джоани Ли Лайн, Франческо Мастрофини\n",
      "Мин Ли, Фуьюан Лиу\n",
      "Киаткамон Ианфунгпорн, Вичиен Нак-Интанон, Сирават Нак-Интанон\n",
      "Джессика Ву, Кит Калдер\n",
      "Оливер Берлемонт, Симон Болтон-Габриельсон, Лина Геиссман, Парк Дже Ин, Эмили Дубуя, Джессика Калдвел, Александра Корадес, Сара Платт  \n",
      "Валентин Васянович, Ия Мыслицкая, Елена Слабошпицкая\n",
      "Эстер Дьярфаш, Виктория Петраньи\n",
      "Фатих Акин, Карл Баумгартнер, Фабьен Вонье\n",
      "Р.Дишдишян, А.Меликян\n",
      "Эд Клайдсдэйл, Пол Лалонд, Майкл Уокер\n",
      "Е.Маленкина, И.Попов, Т.Бекмамбетов\n",
      "А.Котелевский, Э.Пичугин\n",
      "Питер Абрамс, Роберт Л.Ливи, Эндрю Пэнэй\n",
      "Г.Малков, В.Поляков, Д.Махорт\n",
      "А.А.Эшпай\n",
      "Е.Маленкина, Т.Бекмамбетов\n",
      "Т.Цыварева, А.Златопольский, В.Воля, Е.Головин, А.Сметанкин, С.Сельянов, А.Боярский, М.Меннис, Г.Васильев, И.Попов, П.Мунтян\n",
      "С.Самошина, К.Плетнёв, Ю.Цвитко, А.Литвиненко\n",
      "Джафар панахи\n",
      "Кристин Ваурио, Алекс Гибни, Лоуренс Райт\n",
      "Эрик Инглэнд, Дж.Д. Лифшиц, Рафаэль Маргулес\n",
      "Бинго Губельман, Бенжи Кон, Эрика Хэмпсон\n",
      "Николя Картье, Йен Леви, Патрик Ньюэл, Крэйг Дж. Флорес\n",
      "А.Адраникян, В.Горяинов\n",
      "Митчелл Алтери, Кори Кнауф, Алехандро Соломон, Фил Флорес\n",
      "Тьяго Мескита, Росс Оттерман, Джон Янг\n",
      "А.Меликян\n",
      " ООО \"Арт Пикчерс Студия\"\n",
      "Грег Берланти, Сара Шехтер\n",
      "Дрю Даудл, Дэвид Ланкастер, Мишель Литвак\n",
      "Т.Цыварева, В.Воля, А.Златопольский, Е.Головин, А.Сметанкин, С.Сельянов, А.Боярский, М.Меннис, Г.Васильев, И.Попов, П.Мунтян и др.\n",
      "А.Ревва\n",
      "Р.Ибрагимбеков\n",
      "Нанни Моретти, Оливье Пере, Доменико Прокаччи\n",
      "Трэвис Стивенс\n",
      "Валькирия Барбоза, Джимена Бланко, Даниэль Бурман\n",
      "Лола Басара, Райан Беннетт, Мэрайке Блау, Федерик Жув, Йорис Опринс, Йоб Роггевен, Изабель Трук, Ирис Фриш, Лоретт Шилингс\n",
      "А.Златопольский, С.Сельянов, А.Боярский, В.Сотсков, Т.Цыварёва, В.Воля, Е.Головин, А.Сметанкин, Г.Васильев, М.Мэннис, И.Попов\n",
      "Л.Шмурьева (псевдоним Лика Алексеева)\n",
      "Е.Гликман, Я.Живов\n",
      "В.Елина\n",
      "Алан Голдман, Эксел Декис, Ванесса Джиан\n",
      "Ю.Бахшиев, В.Такнов, Г.Кравец\n",
      "Д.Ефремов, В.Пономаренко\n",
      "Терри Леонард, Алек Моухибян, Фиона Уолш, Герин Хованнисян \n",
      "Кирилл Бару, Джимми Миллер, Мэтт Райли\n",
      "Ванесса Койфман, Джон Чэн, Суки Чю\n",
      "Бруна Папандреа, Риз Уизерспун\n",
      "Джонас Ривера\n",
      "Роберт Бернштейн, Дуглас Рэй, Хьюго Хэппелл\n",
      "Оливье Дельбоск, Женевьева Лемаль, Марк Миссонье\n",
      "Эндрю МакДональд, Анита Оверлэнд, Аллон Рич\n",
      "Иван Гордон, Альфредо Монтеро, Маркос Ортис\n",
      "Жан-Пьер Герен, Жан-Пьер Дарденн\n",
      "Дэвид Гордон Грин, Молли Коннерс, Лиза Мускат\n",
      "Дженис Бирд, Джонатан Даффи, Келли Уильямс\n",
      "Шон Пенн, Эндрю Рона, Рон Халперн\n",
      "Пау Брюнэ, Сержи Морено, Тоно Фольгеро\n",
      "Анне Кёнке, Синье Бридж Серенсен, Кристина Синн, Хорам Тен Бринк, Майкл Увемедимо\n",
      "Магнус Андерссон, Лиза Иммордино Врилэнд, Джонатан Грэй, Рон Кертис, Марк Ли\n",
      "Ребекка Грин, Дэвид Каплан, Эрик Роммесмо\n",
      "Дэвид Эллисон, Дэна Голдберг\n",
      "А.Берденников\n",
      "Аллен Коверт, Мишель Мердокка\n",
      "Жан-Ив Асселин, Жако ван Дормель, Дэвид Клейкенс\n",
      "Никола Джулиано, Карлотта Калори, Франческа Чима\n",
      "С.Аллен, Э.Бай, Х.Верте, М.Граффам,  А.Кардона, О.Орлемон, Ф.Рюмон, Э.Файрбанк\n",
      "Дж.Д. Лифшиц, Рафаэль Маргулес\n",
      "ООО \"АртКом\"\n",
      "Бонни Камли, Стэфарт Лэйн, Алан Ньюман\n",
      "Арлин Филлипс, Адам Шпигель\n",
      "Анн-Доминик Туссэн\n",
      "Е.Шевченко\n",
      "С.Гармаев, Е.Замалиев\n",
      "Яэль Абекассис, Мат Кирби, Мишель Киркман, Пабло Мелер, Брайан Дж. Фалконер, Стефан Эйхенбергер\n",
      "Меган Бартел, Марике Блау, Джон Лассетер, Йорис Опринс, Марси Пейдж, Дункан Рамсей, Кристина Рид, Дженни Рим, Джули Рой, Лизе Фернли, Крис Хиз\n",
      "Грегори Джейкобс, Рид Каролин, Ченнинг Татум, Ник Уэкслер\n",
      "П.Поляков, И.Букреев\n",
      "Т.Цыварева, В.Воля, А.Златопольский, Е.Головин, А.Сметанкин, С.Сельянов, А.Боярский, М.Мэннис, Г.Васильев, И.Попов, В.Сотсков\n",
      "Джон Лешер, Брайан Оливер\n",
      "А.Новиков, А.Котелевский\n",
      "Т.Вайнштейн\n",
      "И.Николенко, Н.Расторгуев\n",
      "Жанфранко Пиччоли, Надежда Горшкова, Катерина Гечмен-Вальдек\n",
      "С.Кравец, В.Хотиненко\n",
      "А.Златопольский, С.Сельянов, А.Боярский, В.Сотсков, Т.Цыварёва, В.Воля, Е.Головин, А.Сметанкин, А.Полетаева\n",
      "Р.Давлетьяров, А.Алькема, Г.Подземельный, В.Малый, К.Виткин, А.Виткин, А.Бельская\n",
      "И.Мишин, Н.Гостюшина\n",
      "Барбара Брокколи, Майкл Дж.Уилсон\n",
      "О.Сытник\n",
      "Джордж Миллер, Дуг Митчел\n",
      "Э.Пичугин\n",
      "Тимоти Уайт\n",
      "Джеми Хилтон, Мэтт Ридер\n",
      "Лиза М. Хансен, Пол Хертцберг\n",
      "Петри Йокиранта, Уилл Кларк, Энди Мэйсон\n",
      "А.Ананикян\n",
      "Р.Дишдишян, ООО \"ММЕ\", ООО \"Беркана\"\n",
      "Д.Тютьков, Т.Цыварова, В.Воля, Е.Головин, А.Сметанкин, А.Златопольский, С.Сельянов, А.Боярский, В.Сотсков, Г.Васильев, М.Мэннис, И.Попов\n",
      "Натан Каан, Рой Ли, Сэм Рэйми\n",
      "М.Капля\n",
      "И.Попов, Ф.Бондарчук, Д.Рудовский\n",
      "Пол Брукс, Элизабет Бэнкс\n",
      "Кристофер Меледандри, Джанет Хили\n",
      "Патрик Краули, Фрэнк Маршалл\n",
      "А.Васильев\n",
      "Кристиан Бекер, Маркус Мачура, Тиль Швайгер\n",
      "Брандт Андерсон, Макл Корренте, Майкл Корсо, Маркус Ниспел, Трент Отик\n",
      "Дидье Бруннер, Фред Фюжа\n",
      "Джейсон Блум, Джеймс Ван, Орен Пели\n",
      "Брэд Бёрд, Деймон Линделоф, Джеффри Чернов\n",
      "Чади Эли Маттар, Томас Махони, Хейден Раш\n",
      "С.Торчилин, С.Куликов, В.Горяинов\n",
      "Е.Миронов, А.Новин, А.Темникова, Е.Бренькова\n",
      "Филипп Каркассон, Маттьё Таро\n",
      "Г.Геворкян, В.Лупик, А.Манасарян\n",
      "Г.Васильев,  М.Мэннис, И.Попов, А.Златопольский, С.Сельянов, А.Боярский, В.Сотсков, Т.Цыварёва, В.Воля, Е.Головин, А.Сметанкин, А.Полетаева\n",
      "Джефф Райс, Брайан Сингер\n",
      "Джудд Апатоу, Бэрри Мендел\n",
      "Яна Бол, Жан Гуссен, Эмели Кристианс\n",
      "Ники Кентиш Барнс, Тим Беван, Лиза Чейсин\n",
      "Анна Гуддат, Штефан Шуберт, Томас Эрхарт\n",
      "В.Малышев, Ф.Попов\n",
      "Марти Бауэн, Вик Годфри, Джон Грин\n",
      "Джейсон Блум, Гаймон Кэсэди\n",
      "Грант Крамер, Ричард Бартон Льюис, Кевин Скотт Фрайкс\n",
      "Кевин Жанг, Эсмонд Жэгь, Терри Изуми, Сью Беа Монтгомери\n",
      "Каллум Грин, Джон Дж. ДжашниГильельмо дель Торо\n",
      "Джейсон Блум, Марк Бьенсток, М. Найт Шьямалан\n",
      "Т. Айди, Э. Белкедар, С. Вердон, В. Гилот, Д. Гросс, Г. Ланжелан, М. МакМиллан, Р. Масон, Т. Орландо, Д. Симпсон\n",
      "А.Чистяков\n",
      "Джон Дейвис, Стив Кларк-Холл, Лайонел Уигрэм\n",
      "Крис Бендер, Дейвид Добкин\n",
      "Джан Лей\n",
      "Матильда Бонфуа, Дирк Вилуцки, Лора Пойтрас\n",
      "Тимур Бекмамбетов, Джейсон Блум, Нельсон Гривз\n",
      "Себастьян Деллуа, Дэниэл Делюм, Тома Лангманн\n",
      "Майкл Барнатан, Аллен Коверт, Крис Коламбус, Марк Рэдклифф, Адам Сэндлер\n",
      "Тодд Блэк, Джейсон Блюменталь, Антуан Фукуа\n",
      "Жорж Берманн\n",
      "Ален Атталь, Анна Рапчик\n",
      "Габриел М.Вальтер\n",
      "Грегори Гудман, Саймон Кинберг, Хатч Паркер\n",
      "Жак-Анри Бронкер, Оливье Бронкер, Сильви Дантон, Ричард Лалонд\n",
      "Юнгки Ли\n",
      "Адриан Аскариа, Чарльз Гордон, Алекс Янг\n",
      "А.Киселёва\n",
      "В.Рощин, Ю.Коваленко\n",
      "Ю.Самойлова, В.Калмыкова\n",
      "Т.Цыварева, А.Златопольский, В.Воля, Е.Головин, А.Сметанкин, С.Сельянов, А.Боярский, М.Меннис, Г.Васильев, И.Попов\n",
      "Рикардо Арнаиз, Веро Арсео, Джерри Кардосо\n",
      "Пол Белл, Джеймс Гей-Рис, Джордж Панк\n",
      "Рой Ли, Мэттью А.Родс, Спенсер Сильна, Ади Шанкар\n",
      "Джей Джей Абрамс, Брайан Керк, Том Круз\n",
      "Рэм Бергман, Питер Шлессель, Джеймс Д.Штерн\n",
      "Квирин Берг, Макс Видерманн, Штефан Гёртнер\n",
      "Летти Аронсон, Стивен Тененбаум, Эдвард Уолсон\n",
      "Елени Смарагди, Катерина Фрагку, Альберт Эспель\n",
      "Клаус Токсвиг Кьяэр, Томм Мур, Пол Янг\n",
      "Джузеппе Касали, Ламберто Пиджини, Аннита Романелли\n",
      "Юджи Ишида, Генки Кавамура\n",
      "Артур Веэбер, Наталья Лазарева, Лутфулла Назиров\n",
      "Джеймс Атертон, Джиллиан Берри, Эндрю Босвелл \n",
      "Тим Беван, Нэйтан Келли, Эрик Феллнер\n",
      "М.Берлинер, Ш.Лайон, К.Ли, Н.Мосс, Э.Татти, У.Хаусдоттир, К.Херберт, М.М.Хилл\n",
      "Магдалена Хербст\n",
      "А.Сильвестров\n",
      "Г.Нуриманов\n",
      "Нэнси Мейерс, Сюзанн Фарвелл\n",
      "Майкл Дуглас, Роберт Митас, Филлип Элвей\n",
      "Бэн Брайан, Николас Шранк\n",
      "Катрин Баикозис, Ян Дресслер, Давид Кайч,  Анатол Ничке, Себастьян Шиппер\n",
      "Дэйл Дж. Брэдли, Л. Грант Брэдли, Пол Брюлс\n",
      "Карен Казарян, Армен Григорян, Ваган Азатян\n",
      "Е.Миронов, И.Гаврилов, А.Новин, Д.Аронин, А.Темникова, Е.Бренькова, А.Качко\n",
      "Р.Гарифуллин\n",
      "Д.Кузьмин\n",
      "Лори Кук, Алан МакКена, Джейсон Ньюмарк\n",
      "Т.Бекмамбетов, М.Затуловская\n",
      "Р.Борисевич, А.Кушаев\n",
      "К.Лавров, Ю.Потапова, В.Бутер, С.Прудников, С.Маликов\n",
      "Э.Илоян, Э.Родоная, Р.Гигинеишвили, Д.Жалинский\n",
      "Даг Белград, Барри Бернарди, Тодд Гарнер, Кевин Джеймс, Джек Джиаррапуто, Адам Сэндлер, Мэттью Толмач\n",
      "Тони Гилрой, Джейк Джилленхол, Дженнифер Фокс\n",
      "Йоханн Каррлсон, Линн Киркеннаер, Пернилла Сандстрём\n",
      "Рори Аиткен, Аллан Нибло, Руперт Престон\n",
      "Эльс Вандерворст, Ганс де Веерс, Майк ван Дим\n",
      "Джош Кесселман, Фил Хант\n",
      "Т.Цыварева, А.Златопольский, В.Воля, Е.Головин, А.Сметанкин, С.Сельянов, А.Боярский, П.Мунтян, О.Кузовков, Д.Ловейко\n",
      "Гейб Польски, Шон Кэри, Вернер Херцог\n",
      "Мейсон Новик, Марк Платт\n",
      "Т.Бекмамбетов\n",
      "Т.Бекмамбетов, А.Першин (псевдоним Ж.Крыжовников), А.Казаков, С.Корнихин\n",
      "Кирк Д'Амико, Ханс Риттер\n",
      "Роберт Огден Барнум, Жослин Таун\n",
      "Джуди Каиро, Говард Мельцер, Майкл А.Симпсон\n",
      "Кристиан Конти, Энрике Лопес\n",
      "Деклан Болдуин, Нимит В.Манкад, Джесси Нельсон\n",
      "Райан Гослинг, Дэвид Ланкастер, Мишель Литвак\n",
      "Уильям Д.Джонсон, Бонни Кертис, Сэм Энглебардт\n",
      "С.Лосев\n",
      "Филиппа Коварски, Ричард Мэлман, Джеймс Пэкер, Брэтт Рэтнер, Синье Бирдж Серенсен, Стивен Фрирз, Сэлли Энджел\n",
      "Бенисио Дель Торо, М.А.Фаура\n",
      "Николя Картье, Зев Формен, Марк Эмин\n",
      "Элайджа Вуд, Тоув Кристенсен, Георгий Малков, Дэниэл Ноа, Джош См Уоллер, Стивен Шнайдер \n",
      "Луиджи Музини, Донателла Палермо\n",
      "Кристи Макоско Кригер, Марк Э.Платт, Стивен Спилберг\n",
      "Майкл Шефер, Ридли Скотт, Грег Шапиро\n",
      "Агустина Кьярино, Жан Де Форетс, Кристоф Фродель, Фернандо Эпштейн\n",
      "Филипп Бобер, Эрик Хеммендорф, Мари Челльсон\n",
      "Трипп Винсон, Бо Флинн\n",
      "А.Шелехов (псевдоним Александр Шелл)\n",
      "Р.Давлетьяров\n",
      "А.Калинкин, В.Пономаренко\n",
      "Маттео Гарроне, Джереми Томас, Анн Лабади, Жан Лабади\n",
      "Уэсли Снайпс, Питер Франкфурт\n",
      "Селия Дювал, Дэвид Хейман, Рози Элисон\n",
      "Пол Фиг, Джесси Хендерсон, Питер Чернин\n",
      "Алексис Вонарб, Дмитрий Рассам, Антон Сумаш\n",
      "Р.Атоян, В.Зорин\n",
      "Моника Кэйси, Стив Федер, Элейн Шнейдерман\n",
      "Тим Беван, Квентин Кертис, Крис Кларк\n",
      "Роберт Земекис, Джек Рапке, Том Ротман, Стив Старки\n",
      "Юджи Ишида, Генки Кавамура, Ёсихиро Сато\n",
      "Дэвид Ливингстоун, Джеймс Клэйтон, Кристин Ланган\n",
      "Джейсон Блум, Джоэл Эдгертон, Ребекка Йелдхэм\n",
      "Патрик Батто, Айса Джабри, Фарид Лауасса\n",
      "Алехандро Хидальго\n",
      "К.Сафина, И.Золотухин, И.Толстунов, Е.Степанищева, Г.Добрыгин, А.Васильев и др.\n",
      "Джейсон Блум, Бен Брэй\n",
      "С.Зернов, В.Сотсков, И.Мещан\n",
      "Б.Терекбаев, А.Яхъяев, М.Вараев, М.Гамзян\n",
      "Клэр Дженнингс, Дэвид Спрокстон, Карла Шелли\n",
      "Иль Хо Ким, Михал Симка\n",
      "Сигедзи Маэда, Мисако Сака, Хисаси Усуи\n",
      "Гаэль Гарсиа Берналь, Хуан Пабло Гильотта, Наталиа Видела Пенья\n",
      "Стив Кларк-Холл, Эндрю Райч,Энди Эванс\n",
      "Дмитрий Валлен, Арнольд Гискин, Ксения Кулешова\n",
      "Патрик Андре, Шарль Жилибер, Франк Хенше\n",
      "Брайан Брукс, Энди Фикмен\n",
      "Марк Кантон, Берни Голдманн\n",
      "Г.Шабанов, Р.Татаринцев, Э.Илоян\n",
      "Джейсон Блум, Скотт Дерриксон, Брайан Кэвэна-Джонс\n",
      "Е.Гликман, М.Дегтярь, Я.Живов\n",
      "Люк Бессон, Марк Гао\n",
      "А.Миндадзе, Л.Антонова, А.Анненский, Л.Блаватник, Х.Декерт, В.Харьков\n",
      "Мелисса Парментер, Энтони Уилкокс, Джош Хайамс\n",
      "Дерек Гибсон, Джон Дэйли, Гэйл Энн Хёрд\n",
      "Марко Раффаини, Джулиано Никколо Лигабуэ\n",
      "Патрик Годо, Карэн Монлюк\n",
      "Родольфо Рива Паласио Алатристе, Дени Си Глориа, Игнасио Мартинес Касарес\n",
      "Тэжэньцэ Чан\n",
      "Мэтт Альварес, Скотт Бернштейн, Айс Кьюб\n",
      "Грегор Габсбург, Л.Густаво Купер, Майкл Пастц, Дуан А.Сайкс, Джеймс Флер, Жаклин Фриско, Эндрю Томас Хант\n",
      "ООО \"Стартфильм групп\", ООО \"Корпорация Русская Фильм Группа\", П.Черенков, А.Петрухин, О.Степченко\n",
      "Алексей Гуськов, Штефан Арндт, Андреа Шютте\n",
      "Джонни О'Райлли\n",
      "ООО \"КиноДело Продакшн\", ИП Месхиев Д.Д.\n",
      "М.Мэннис, А.Златопольский, С.Сельянов, А.Боярский, Т.Цыварёва, В.Воля, Е.Головин, А.Сметанкин, А.Полетаева, П.Мунтян\n",
      "Ф.Бондарчук, Т.Вайнштейн, Д.Рудовский\n",
      "Айк Марутян\n",
      "Клаус Доле. Шеннон Милдон, Тиль Швайгер\n",
      "Джуди Койнихан, Седомир Колар, Сэм Тейлор\n",
      "Жёли де Абрё, Дэвид Розье, Фахря Фахри\n",
      "Грей Фредериксон\n",
      "Аннико фильм\n",
      "Мишель О.Рейли, Шон Патрик О.Рейли\n",
      "Б.Токарев\n",
      "А.Златопольский, С.Сельянов, А.Боярский, М.Мэннис, Т.Цыварева, В.Воля, Е.Головин, А.Сметанкин, Г.Васильев, И.Попов\n",
      "Е.Мелентьев\n",
      "А.Пономарев, Т.Цыварева, А.Златопольский и др.\n",
      "Фукаши Азума\n",
      "Масаси Кисимото, Дзенко Хироси\n",
      "Энтони Брегман, Кевин Скотт Фрайкс, Дэвид Элперт\n",
      "М.Ленских, М.Антонова, Н.Романюк, А.Савельев\n",
      "Александр де Ла Пательер, Дмитрий Рассам\n",
      "Тинатин Каджришвили, Себастьен Обер\n",
      "Дональд А.Бартон, Антон Эрнст\n",
      "Крис Коулз, Гари Лучези, Крис Морган\n",
      "Т.Цыварева, А.Златопольский, В.Воля, Е.Головин, А.Сметанкин, С.Сельянов, А.Боярский, М.Меннис\n",
      "Стивен Левинсон, Марк Уолберг, Дуг Эллин\n",
      "Росс М.Динерштайн, Глен Зиппер\n",
      "Билл Джонс, Бенджамин Тимлетт\n",
      "Л.Калинский, И.Охлобыстин, Г.Палагаев\n",
      "Эйн Каннинг, Лаура Гастингс-Смит\n",
      "Базил Иванык, Тад Лакинбилл, Трент Лакинбилл, Эдвард МакДонелл, Молли Смит\n",
      "Дениз Рим\n",
      "Лаура Коксон, Пауль Лавлас, Ребека Майзелс, Дженнифер Рудик\n",
      "А.Златопольский, С.Сельянов, А.Боярский, М.Мэннис, Т.Цыварева, В.Воля, Е.Головин, А.Сметанкин, О.Кузовков, Д.Ловейко, Г.Васильев, И.Попов\n",
      "Р.Карданов, А.Безиров\n",
      "В.Соколова\n",
      "Стив Бинг, Билл Блок, Митч Глейзер\n",
      "Эрвин Стофф, Майкл Шамберг, Стейси Шер\n",
      "Гейл Кац, Тоби Магуайр, Эдвард Цвик\n",
      "Мэтт Джексон, Марк Джонсон\n",
      "Ник Батзиас, Дамон Гамо, Рори Уильямсон\n",
      "Фабьен Камаре, Рене Фере, Себастьян Шеленц\n",
      "Квирин Берг, Мэтью Боллен, Макс Видеманн \n",
      "Лати Гробман, Эрик Олсен, Джефф Райс\n",
      "Эйн Каннинг, Бенито Мюллер, Вольфганг Мюллер\n",
      "Хю Лианг, Нин Лин, Вэй Лу\n",
      "Саймон Кинберг, Райан Рейнольдс, Лорен Шулер Доннер\n",
      "Фелипе Марино, Мэгс Линнэйн\n",
      "Чарльз С.Коэн, Оливье Милле\n",
      "АНО Студия \"Остров\", Государственная телевизионная компания \"Телеканал \"Россия\", Международный Олимпийский комитет\n",
      "Т.Цыварева, В.Воля, Е.Головин, А.Сметанкин,  А.Златопольский, С.Сельянов, А.Боярский и др.\n",
      "Беньямин Херрманн\n",
      "Клаудиа Блюмхубер, Томас Огсбергер, Маттиас Эмке\n",
      "Эми Бейли\n",
      "Мерседес Гамеро, Адриан Герра\n",
      "И.Аржанцев, О.Гармаш, В.Павлов\n",
      "Фред Брайнерсдорфер, Манфред Хаттендорф\n",
      "Я.Крали, С.Сельянов\n",
      "Т.Цыварева, В.Воля, Е.Головин, А.Сметанкин,  А.Златопольский, С.Сельянов, А.Боярский, И.Попов, О.Меджитов, С.Зернов, В.Сотсков\n",
      "Кевин Келли Браун, Моника Левинсон, Майкл Лондон\n",
      " А.Шальопа\n",
      "Ксавье Амблар, Ален Аттал, Этьен Комар\n",
      "Эйн Каннинг, Энн Кэри, Эмиль Шерман\n",
      "Августин Альмодовар, Педро Альмодовар, Эстер Гарсия, Уго Сигман\n",
      "Кассандра Сигсгорд\n",
      "Тим Беван, Джоэл Коэн, Итан Коэн\n",
      "Ф.Абрютин, Д.Якунин, С.Кучмаева,  И.Щербань, О.Лахно\n",
      "Т.Цыварева, В.Воля, Е.Головин, А.Сметанкин, А.Златопольский, С.Сельянов, А.Боярский, И.Попов, Г.Васильев, М.Меннис, В.Сотсков\n",
      "Люси Фишер, Пуйа Шахбазян, Дуглас Уик\n",
      "Альваро Аугустин, Хорди Гасуль\n",
      "Э.Илоян, В.Шляппо, А.Троцюк, Д.Жалинский, Д.Дьяченко, М.Ткаченко, А.Рубцов\n",
      " ООО \"КиноФирма\"\n",
      "А.Готлиб\n",
      "Лоран Петен, Мишель Петен\n",
      "Б.Гуц, А.Гусенцова\n",
      "Филипп Логи, Ксавье Риго, Марк-Антуан Роберт \n",
      "Фузаль Булифа, Томмазо Буффато, Тайна Галис, Грэт Гирлет, Андреа Гори, Питер Де Лов, Джо Лэнг, Йуро Нименен, Марлен Слот, Микко Технун, Адам Хендрикс\n",
      "Сергей Жданович\n",
      "А.Дамскер\n",
      "Джонатан Бросс, Срирам Дас\n",
      "Р.Сардаров, Б.Анисимов, И.Магомедов\n",
      "Олег Кузовков, Дмитрий Ловейко, Марина Ратина\n",
      "Ким Карни, Б.П. Купер, Рик Монтгомери\n",
      "Джордж Дора\n",
      "ООО \"ВИЗАРТ ФИЛЬМ\", ООО \"Кинокомпания \"СТВ\"\n",
      "Т.Цыварева, В.Воля, Е.Головин, А.Сметанкин,  А.Златопольский, С.Сельянов, А.Боярский, И.Попов\n",
      "Оливье Пере, Энн-Доминик Туссэн\n",
      "Дэн Креч\n",
      "Кристина Пинтер, Габор Райна, Габор Шипош\n",
      "Джошуа Астрачан, , Альберт Бергер, Рон Йеркса, Александр Малле-Гай, Томас Робсам, Марк Тертлауб\n",
      "Дин Девлин, Харальд Клозер, Роланд Эммерих\n",
      "Саймон Кинберг, Брайан Сингер, Лорен Шулер Доннер\n",
      "И.Триф\n",
      "Генрих Амброш, Борис Оссере, Оливер Шюндлдер\n",
      "Кэтрин Виндер, Джон Коэн\n",
      "Т.Эверестова\n",
      "Изабелла Кокуцца, Артуро Палья\n",
      "Ю.Москвин, В.Николаев, А.Миргородский, Т.Цыварева и др.\n",
      "Джон Лойд, Мэттью Риз\n",
      "Н.Муминова, А.Егай, В.Козлов\n",
      "Чарльз Ровен, Дебора Снайдер\n",
      "Джерард Батлер, Марк Гилл, Дэнни Лернер\n",
      "Дэвид Вол, Ким Дент Вайлдер, Брэд Фоксовен\n",
      "Франсуа Бертран, Габриэлла Манфре, Рафаэль Милаццо \n",
      "Рой Болтер, Сол Пападопулос, Николас Стейл\n",
      "Мэтт Альварес, Ларри Брэзнер\n",
      "Л.Верещагин, А.Златопольский, Н.Михалков, ООО \"Студия \"ТРИТЭ\" Никиты Михалкова\"\n",
      "Т.Семенов, И.Гелашвили, А.Добрунов, Н.Маковский, В.Гассиев\n",
      "Артур Езекян, Роберт Оглахчян, Унан Согоян\n",
      "Каролин Мэн, Ребекка Саммертон, Софи Хайд\n",
      "Келли Буш, Джулли Голдштейн, Фил Хант\n",
      "Сидони Дюма, Ванесса ван Зюлен\n",
      "Тим Коннорс, Адам Иджипт Мортимер, Габриэла Ревийя, Арам Терцакян, Кайл Франке, Джон Хегемен, Луиз Шор\n",
      "Филипп Боэффард, Стефан Бризе, Христоф Россигнон\n",
      "Ульяна Ковалева, Клаудио Уберти, Франческа Факкинетти\n",
      "Джоэни Ли\n",
      "Бенуа Делепин, Гюстав Керверн\n",
      "Лара Аламеддин, Дэниэл Дубецки, Джордж Клуни, Грант Хеслов\n",
      "П.Смирнов\n",
      "Кен Кацумото, Стив Розен, Николас Этлан, Лиз Янг, Майк Янг\n",
      "А.Боярский, В.Конг Жао, Д.Лассетер, К.О.Рурк, П.Пиерарт, Д.Херцфельд, Д.Хэнкок \n",
      "Сара Брэдшоу, Джо Рот\n",
      "Бригэм Тэйлор, Джон Фавро\n",
      "Н.Иванова, М.Ксинопуло\n",
      "Т.Бекмамбетов, И.Найтшуллер, Е.Кононенко, И.Вайнштейн\n",
      "Иван Бурдули, Тинатин Каджришвили, Сергей Сельянов\n",
      "А.Фетисова\n",
      "Кристиан Клавье, Жан-Мари Пуаре\n",
      "Лиз Ленсе-Моллер\n",
      "А.Львович, А.Герман\n",
      "Г.Нерсисян, А.Манасарян, А.Гюлумян, Д.Кулаков\n",
      "Е.Данченко\n",
      "С.Андреасян, Г.Андреасян, В.Поляков, Э.Акопян, В.Лихтина\n",
      "Ф.Абрютин, Д.Якунин, Ю.Сысоев, А.Фурсенко, В.Мистюков\n",
      "Мелисса Кобб\n",
      "Марк Франкетти\n",
      "Мария Гаврилова, Павел Костомаров, Александр Расторгуев, Максим Туула\n",
      "Наоми Венк, МакДара Келлехер\n",
      "Марк Бутан, Бард Доррос, Энтони Катагас\n",
      "Джей Джей Абрамс, Линдси Вебер\n",
      "Джереми Томас\n",
      "Холли Бридсон, Ричард Кауэн, Брайан Коффи\n",
      "Джон Буш, Барбара Зелински, Майкл Хефферон\n",
      "Дэнни А.Абекейзер, Эхуд Блайберг, Тео Пирри \n",
      "А.Кублицкий, М.Карнеева\n",
      "Игорь Принчич\n",
      "Стефано Инчерти, Дарио Формизано\n",
      "Марко Беларди, Угетта Курто, Элиа Маццони, Иван Фьорини\n",
      "Ладис Занини, Давиде Феррарио\n",
      "Элизабетта Брусколини\n",
      "Барбара Ди Понте, Лео Камстеег, Сальваторе Пагано, Никола Спано\n",
      "Татьяна Данильянц, Андреа Маньяни\n",
      "Элизабет БраунРобин Верет, Дмитрий Гочгарян, Жером Лату, Айтор Мартос, Тиль Новак, Росто, Янгци Ши\n",
      "К.Алехин, В.Долгий-Рапопорт, М.Яровиков\n",
      "К.Шахназаров, С.Говорухин\n",
      "Т.Семенов, Л.Гайдукова, И.Гелашвили, А.Герасимов, И.Попов, С.Зернов\n",
      "Оливье Дельбоск, Марк Миссонье\n",
      "Тереза Парк, Питер Сафран, Николас Спаркс \n",
      "Н.Кудряшов, Ф.Кинигопуло\n",
      "Д.Медников, Т.Цыварева, В.Воля, Е.Головин, А.Сметанкин,  А.Златопольский, С.Сельянов, А.Боярский и др.\n",
      "Штефан Арндт, Аркадий Голубович, Гари Гоэцман\n",
      "Б.Бабуш, Й.ван ден Идсерт,  М.Каччьямани, М.Кьют, К.Кэхилл, Н.Хадсон, Д.Де Чико, Т.Эльрих\n",
      "Саймон Корнвэлл, Стивен Корнвэлл, Гэйл Иган \n",
      "Стюарт Фенеган\n",
      "Сидни Киммел, Тэд Лакинбилл, Лайан Халфон\n",
      "А.Колков\n",
      "Г.Шабанов, Д.Руженцев, Э.Илоян\n",
      "Джеймс Харрис\n",
      "Тим Бертон, Джо Рот, Дженнифер Тодд, Сюзанн Тодд\n",
      "Джино Перейра, Клер Северанс, Дженнифер Финниган\n",
      "Майкл Костиган, Лука Гуаданьино\n",
      "А.Чернакова, Ю.Сапронов\n",
      "Эндрю Форм, Брэдли Фуллер\n",
      "Т.Петрик, А.Епифанов\n",
      "Уэйн Марк Годфри, Джордж Фурла, Рэндэлл Эмметт\n",
      "Ричард Н.Гладштейн, Шэннон МакИнтош, Стэйси Шер\n",
      "Е.Филиппова\n",
      "В.Харьков, А.Анненский, Л.Антонова, А.Миндадзе\n",
      "Н.Кудряшов, В.Рабинов\n",
      "Джина Галло, Мими Мэйнард, Домоник Парис \n",
      "Крис Бендер, Боаз Дэвидсон, Криста Кэмпбелл\n",
      "Йонас Баггер\n",
      "Саша Барон Коэн, Нира Парк\n",
      "Г.Нерсисян, А.Манасарян, А.Гюлумян, В.Саргсян\n",
      "Женевьева Лемаль, Изабель Мадлен, Эмили Тине\n",
      "Анри Деберм, Тьерри Демишель, Аллан Нибло\n",
      "Пьер Оливье Барде, Элс Вандерворст, Томас Куфус\n",
      "Махди Давари, Мани Хагиги\n",
      "М.Джерия, А.Калкулли, Ф.Коста, Ф.Леоне,  Марко и Маттео Марандини, Л.Маццео, Д.Скеттино\n",
      "Ф.Ало, Ч.Э.Браускройтц, Ф.Гестель, Ж.Ври, К.Кирберг, П.Марбер, Л.Уплэйн, Х.М.Фазели, К.Харви, А.Хесленфельд, Е.Хофманн, Д.Хэнсон, Л.Шиллингс, Э.Эйнхорн, П.Эмерсон\n",
      "Ф.Занон, Ш.Котари, Б.Лабовиц, Э.Моро, М.Плюгмакер, С.Прат, Е.Степанищева, И.Толстунов, С.Холм\n",
      "Альберто Аранда, Бернат Саумелл\n",
      "Адам Болинг, Руперт Маконик, Дэвид Рейд\n",
      "Р.Дишдишян\n",
      "Джессика Аск, Мортен Кауфман, Сиссе Граум Олсен\n",
      "Уильям Д.Джонсон, Тревор Мэйси, Сэм Энглебард\n",
      "Тодд Браун, Муге Буюкталас \n",
      "Ричард Линклейтер, Джинджер Следж, Меган Эллисон\n",
      "Брандт Андерсон, Ховард Берд, Дэниэл Даймонд\n",
      "Эван Арнольд, Холли Вирсма, Кассиан Элвис\n",
      "Брэдли Галло, Рик Джейкобс, Майкл А.Хелфант\n",
      "Аарон Барнетт, Эри Лантос, Роберт Лантош\n",
      "Салви Малеки, Майкл Дж.Сарна\n",
      "Мигель Асенио, Джон Т.Деграйе,  Коллин Кэмп\n",
      "Э.Браун, Н.Гемель, Э.Кремсель,  М.Куит, Б.Ливолси,  Л.Льюис Р.Русенс, Я.Русенс, Н.Хадсон\n",
      "Д.Литвинов, Д.Осмеркин, А.Гавриш, А.Агеев\n",
      "Р.Атоян, В.Зорин, О.Бровченко\n",
      "Х.Альберс, Х.Аскотт, П.Воллрат, Х.Доусон, Э.Дурмиши, Э.Дюпон, М.Кантин, Ш.Кристофер, М.Стейнер, Э.Фантоне, А.Ховлижек, Д.Энрикез, С.Эрмитэйдж\n",
      "Отар Иоселиани, Мартин Мариньяк\n",
      "К.Елкин, М.Рогальский, В.Ровенский\n",
      "Марк ван Вармердам\n",
      "Патрик Каннингэм, Клаудиа Майерс, Брендан МакДональд, Джон Саливан, Адам Сильвер\n",
      "Пола Ванштейн, Джо Рот\n",
      "Маири Бетт, Дерек Дочи, Джон Дэвис\n",
      "Роберт Бинс, Тара Кардинал, Лу Саймон\n",
      "Сидни Киммел, Адам МакКей, Уилл Феррелл, Джессика Элбаум\n",
      "Даниэль Торджман\n",
      "Дэвид С.Гоейр, Дэвид Линд, Тори Мецгер\n",
      "ООО \"Трикита Энтертэйнмент\", ИП Бек В.С.\n",
      "И.Стюарт, Д.Сафарова, Ю.Козырев\n",
      "Патрик Кине, Патрик Собельман\n",
      "А.Златопольский, С.Сельянов, А.Боярский, М.Мэннис, Т.Цыварева, В.Воля, Е.Головин, А.Сметанкин\n",
      "Такио Есида, Макото Катураи, Масаюки Мори\n",
      "Дэнни Бойл, Гаймон Кеседи, Кристиан Колсон\n",
      "Алекс Гарсиа, Джон Дж.Джашни, Майкл Догерти\n",
      "С.Кикнавелидзе, Д.Улюкаев\n",
      "Тристан Голайер\n",
      "Алехандро Израэль, Марианна Эрижимович\n",
      "Р.Мусаев\n",
      "Пол Фиг, Брайан Шульц, Крэйг Шульц\n",
      "Брэдли Галло, Майкл А. Хелфант, Брент Эмери\n",
      "Г.Васильев, И.Попов, М.Мэннис, Т.Цыварева, В.Воля, Е.Головин, А.Сметанкин и др.\n",
      "Саори Нишио, Акира Ямамото\n",
      "Вик Годфри, Питер Сафран\n",
      "Лола Гэнс\n",
      "Марк Бутан, Шон МакКитрик\n",
      "Бен Стиллер\n",
      "Бэзил Иваник, Алекс Пройас\n",
      " ФГУП \"Киноконцерн \"Мосфильм\"\n",
      "Винсент Витторио, Ливия Джуджолли, Майкл Росс, Люси Сигл, Крис Харви\n",
      "С.Иванникова\n",
      "А.Златопольский, Т.Цыварева, В.Воля, Е.Головин, А.Сметанкин, О.Меджитов, В.Сотсков, С.Зернов\n",
      "Т.Цыварева, В.Воля, Е.Головин, А.Сметанкин,  В.Сотсков, А.Златопольский, С.Сельянов, А.Боярский\n",
      "Р.Сафин, К.Алехин, К.Козарезов, Д.Шаров, Д.Петренко, М.Поганышева\n",
      "Симоне Гаттони, Беппе Кашетто\n",
      "Э.Илоян, Р.Гигинеишвили, Д.Д.Жалинский, В.Шляппо, А.Троцюк, М.Ткаченко, И.Родоная\n",
      "Рик Альварес, Пэдди Каллен, Марлон Уайанс\n",
      "Финола Двайер, Пьер Ивен, Аманда Пози\n",
      "И.Стюарт, Ю.Козырев, М.Робан, М.Финогенов\n",
      "Уилл Феррелл, Крис Хенчи, Адам МакКей\n",
      "Николас Стерн\n",
      "Джей Джей Абрамс, Брайан Берк, Кэтлин Кеннеди\n",
      "Дональд Роман Лопес, Лизе Романофф, Хьюго Роуз\n",
      "Грэм Кинг, Тоби Магвайер, Мэтью Плофф, Тим Хидингтон\n",
      "Дороти Офьеро, Джеймс Уайтекер\n",
      "Ли Клэй, Джеймс Ван\n",
      "Деде Гарднер, Брэд Питт\n",
      "Майкл Бэй, Эрвин Стофф\n",
      "Мэтт Беренсон, Рой Ли, Гэри Лучези\n",
      "Бора Дагтекин, Лена Олбрич, Сьюзанн Функе\n",
      "Даллас Зонньер, Скотт Форт, Джек Хеллер\n",
      "Лен Блаватник, Грегор Камерон, Уилл Кларк\n",
      "С.Ливнев, Д.Козловский, С.Бобза\n",
      "Нил Х.Мориц, Дебора Форте\n",
      "Адам Голдворм, Джордж Фурла, Рэндолл Эмметт\n",
      "С.Кабанова\n",
      "В.Рубан, А.Тельнов, А.Львович\n",
      "Т.М.Райвс\n",
      "Алехандро Аменабар, Фернандо Бовайра, Кристина Пиовесан\n",
      "М.Кржижевская, Е.Вильшанская\n",
      "Э.Айнулова, М.Журомская, А.Соколов\n",
      "Уильям Конг, Чунг Мэн Йи, Алань Юйэнь\n",
      "А.Ковтунец\n",
      "Брайан Грэйзер, Майкл Лондон, Джесси Нельсон\n",
      "Франческо Инверницци\n",
      "Ву Бинг, Ксяо Венджь, Джон МакМуррик\n",
      "Софи Рой\n",
      "Мартин Сандлэнд, Арье Хейденстром\n",
      "Г.Васильев, И.Попов, М.Мэннис, Т.Цыварева, В.Воля, и др.\n",
      "Е.Яцура, В.Кузнецов\n",
      "Пенелопа Крус, Альваро Лонгрия, Хулио Медем\n",
      "Паскаль Кочето, Жак Одиар\n",
      "Рэйчел Гарднер, Эйн Каннинг, Конор МакКохан\n",
      "Моника Бакарди, Андреа Иерволино, Сильвио Мураглиа\n",
      "Элизабет Мэтьюз, Питер Х.Мэтьюз\n",
      "Н.Маковский, А.Добрунов\n",
      "Э.Айнулова, Н.Дорошкевич, М.Журомская\n",
      "Джон Рикард\n",
      "Джошуа Невис, Дж.П. Сниадецки\n",
      "Патрисия Драти, Монс Монссон\n",
      "ООО Киностудия \"СТРЕЛА\" \n",
      "М.Спектр\n",
      "Стив Голин, Алехандро Гонсалес Иньярриту, Дэвид Кантер\n",
      "Джон Гордон, Джон Дэвис, Меган Эллисон\n",
      "Росс Багдасарян младший, Дженис Карман\n",
      "Тим Беван, Эрик Феллнер, Энн Харрисон\n",
      "Брайан Белл, Джей Роуч, Тина Фей\n",
      "Крис Бригэм, Брэд Питт\n",
      "Маттиас Олоф Эйх, Вилли Камарад\n",
      "А.Бик, П.Бранкати, Ф.Будвег, М.де Конинг, П.А.Марион, Г.Мендеш, М.Ситер, \n",
      "Стив Голин, Николь Роклин, Блай Пэгон Фауст\n",
      "Анджей Бартковяк, Александр Изотов, Александр Невский\n",
      "Лью Дакианг, Чонг Хиакиу, Чанг Чад, Динг Лианг\n",
      "Александр Ажа, Рори Аиткен, Бен Паг\n",
      "Кристина Ванчон, Элизабет Карлсен, Тесса Росс\n",
      "Терри Дуглас, Алин Кешишьян, Скотт ЛаСтайти\n",
      "ЗАО \"Киновидеообъединение \"Крупный план\", ООО \"Формула цвета\" \n",
      "Г.Шадур, М.Левитин мл.\n",
      "Кодзи Шираиши\n",
      "Барбара Стивен, Джим Бэллэнтайн\n",
      "Чип Диггинс, Майкл А.Прусс, Энн Рурк\n",
      "Феде Альварес, Джозеф Дрейк, Натан Кахейн, Сэм Рейми, Роб Таперт, Джей Ар Янг\n",
      "Энтони Катагас, Эллисон Ширмур\n",
      "П.П.Смирнов\n",
      "Трэвис Найт, Эрианн Сутнер\n",
      "Джонатан Айбел, Гленн Бергер, Джина Шэй \n",
      "Юрий Громик, Константин Самарин\n",
      "Джон Голдвин, Лорн Майклз, Эндрю Панай\n",
      "Менг Сянгфень\n",
      "А.Крутов\n",
      " К.Шахназаров, А.Златопольский\n",
      "Э.Илоян, В.Шляппо, Д.Жалинский, А.Троцюк, А.Кушаев\n",
      "Т.Пендюрин\n",
      "А.Новиков, А.Котелевский, Э.Илоян, Д.Жалинский, А.Троцюк, В.Шляппо\n",
      "В.Северцев, Д.Литвинов, З.Болотаев\n",
      "Джон Джива-Аму, Клэйр Морсом\n",
      "Д.Брейт, М.Брюнэ, Ш.Волс, Д. ди Градо, И.Иванова, К.Кильден, Д.Саффорд-Кларк, Т.Трейверс, О.Ханз\n",
      "Гор Вербински, Дэвид Крокетт, Арнон Милчан\n",
      "Рэмси Энн Наито\n",
      "Роб Куигли, Ноэль Пирсон\n",
      "Лорен Бек, Мэтт Дэймон, Крис Мур\n",
      "Дана Голдберг, Бонни Кертис, Джули Линн, Дэвид Эллисон\n",
      "Мэри Эллен Бодер, Джордан Кернер\n",
      "В.Хинензон\n",
      "Фред Бэйкер, Дэвид Линч\n",
      "Трэйси Грант, Ву Кьюнг Юнг, Юнки Ли, Харри Линден, Жюн Ценг\n",
      "Элиза Даттон, Лесли Моргенстейн\n",
      "ООО \"КиноФирма\"\n",
      "П.Лунгин, Ф.Бондарчук, Д.Рудовский, Е.Панфилов\n",
      "Камилль Гатин, Энгус Ламонт\n",
      "Клаудио Белланте, Роман Волобуев, Илья Стюарт, Алиса Хазанова\n",
      "Натали Гастальдо, Филипп Годо, Оливье Дельбоск\n",
      "Мишель Жантиль\n",
      "Джошуа Сон, Йонгсо Ким\n",
      "Т.Бекмамбетов, Е.Миронов\n",
      "Петер Бросенс, Джессика Хоуп Вудворт, Арнольд Хесленфельд\n",
      "Джонатан Кинг, Мишель Литвак, Гари Майкл Уотерс\n",
      "Михаэль Гаспарро, Лиззи Настро, Винсент Пьяцца \n",
      "И.Устинов, И.Каграманов, Е.Филлипова, Г.Стоялов, А.Наумов, В.Кречетова и др.\n",
      "Ник Валлелонга, Кристиан Сесма, Майк Хаттон\n",
      "Бертран Лойер, Жаклин Фармер \n",
      "Александр Ажа, Тим Брикнелл, Макс Мингелла\n",
      "Шон МакГилливрэй\n",
      "Терри Бенедикт, Брюс Дейви, Уиильям Д.Джонсон, Пол Карри, Билл Меканик, Брайан Оливер, Дэвид Пермут, Тайлер Томпсон \n",
      "Ара Оганесян\n",
      "Бенуа Кенон\n",
      "Сюзан Бойд, Келли МакКормик, Тед Хоуп\n",
      "Джеки Чан, Чарли Кокер, Давид Герсон, Мин Ли\n",
      "Марко Беларди\n",
      "Джон Бертон, Доун Крантц, Стефен МакЭвети\n",
      "Барка Хажиж\n",
      "Роксан Бенджамин, Брэд Миска, Грег Ньюмэн, Рэдио Сайленс\n",
      "Эван Трэмел, Байрон Тронтон\n",
      "Джейсон Блум, Марк Бьенсток, Дом Катанзерайт\n",
      "Гэвин Полон, Даррен Риган, Марк Суриан\n",
      "Марк Бьенсток, Мэттью Каплан, Брайан Роббинс\n",
      "Бруно Бертеми, Соледад Гатти-Паскуаль, Бертран Фаврэ \n",
      "Джон Джашни, Томас Тулл\n",
      "Джон Зинмен, Мэттью МакКонахи, Патрик Мэссет, Майкл Нозик, Тедди Шварцман \n",
      "Ф.Пастухов\n",
      "Анника Белландер, Никлас Викстрем Никастро\n",
      "Эллен Голдсмит-Вейн, Рик Дагдейл, Грегори Джейкобс, Энтони Хопкинс\n",
      "Донателло Палермо, Джанфранко Рози\n",
      "Дарил Деллора, Сью Мэслин, Карл Энже\n",
      "Моника Левинсон, Джэми Патрикоф, Шивани Рават\n",
      "Робин Герлэнд, Ги Малик Линтон, Киану Ривз\n",
      "Мориц Борман, Эрик Копелофф, Фернандо Суличин, Филип Шульц-Дейле\n",
      "Роджер Бирнбаум, Тодд Блэк\n",
      "Брэд Льюис, Николас Столлер\n",
      "Саид Бен Саид, Мишель Меркт\n",
      "Лукас Джарач, Кип Конвайзер, Блайт Фрэнк\n",
      "Николас Гонда, Сара Грин, Кеннет Као\n",
      "Роберт Земекис, Грэм Кинг, Стив Старки \n",
      "Эндрю Ганн, Зэнн Дивайн, Гейер Косински\n",
      "Мохаммед Махди Хейдариан, Мохаммед Реза Сабери\n",
      "Гаймон Кеседи, Дэниэл Раппапорт, Скотт Стубер\n",
      "ООО \"Централ Партнершип\", ЗАО \"Дирекция Кино\"\n",
      "Рори Аиткер\n",
      "Моника Бакарди\n",
      "Дмитрий Симонов, Сергей Полховский\n",
      "Лоуренс Малкин, Шеа Сталлингс, Таня Чэмберс\n",
      "Стефано Галлини-Дуранте, Дин Занук\n",
      "А.Чижиков, С.Куликов, Н.Чижикова\n",
      "Джей Джей Абрамс, Брайан Берк, Роберто Орси\n",
      "Уильям Чартофф, Роберт Эрл\n",
      "Брайан Грейзер, Андреа Джианетти, Майкл Де Лука, Рон Ховард\n",
      "В.Приефер, К.Кристенсен, П.Добнер, К.Тамм, М.Минтро, Э.Домманж, Ж.-Э.Стейн, Ж.С.Берно, О.Эсмэн\n",
      "Карло Кресто-Дина\n",
      "А.Пиманов\n",
      "С.Лившиц\n",
      "Д.Золототрубов\n",
      "Е.Морозов, Е.Камолова\n",
      "Дмитрий белинский, Ирина Манжосова, Игорь Рома\n",
      "Фернандо Соколович\n",
      "Себастьен Деллуа, Рошанак Берешт Неджад, Джани Тилтгес\n",
      "Габриэлла Тана\n",
      "Кристин Надсен\n",
      "Энди Коэн, Карен Ландер\n",
      "Ридли Скотт, Марк Хаффам, Майкл Шефер\n",
      "Д.Светозаров, А.Сигле\n",
      "Стивен Кловз, Дж. К. Роулинг, Дэвид Хэйман\n",
      "А.Семенов\n",
      "М.Бертран, А.Д.Джонс, Ф.Дион, Р.Дуган, К.Дуфильё-Розен, А.Жасина, Д.Ласетер, Д.Рой, К.Спелер\n",
      "Б.Юсупов, Л.Филинов\n",
      "Кристиан Конти, Мигель Менендес де Зубиллага\n",
      "Доменико Прокаччи, Маттео Ровере\n",
      "Лоренцо Ди Бонавентура, Йен Брайс, Дон Мерфи, Том ДеСанто\n",
      "Мики Лиделл, Пит Шилеймон, Шон Эллис\n",
      "Н.Янкин\n",
      "Дон Бланд, Майк Дорси\n",
      "И.Добровольский, С.Аксенов, А.Аксенов\n",
      "Кристин Ванчон, Дэвид Дистенфелд, Дэвид Инохоса, Джиллиан Лонгнекер, Деррик Тсенг, Меган Эллисон\n",
      "Жислен Баруа, Андрес Мартин\n",
      "Йорам Барзилай, Эрик Голд, Аарон Кауфман\n",
      "А.Кончаловский, Ф.Дайле\n",
      "Агустин Альмодовар, Эстер Гарсия\n",
      "Элизабет Дестро, Джордан Монсанто, Дженнифер Швалбах Смит \n",
      "Чи-Мин Хуан, Ричард Чан-Чин Хуан, Ю-Джен Лив, И Янг Лим, Джон Ксиа\n",
      "Конрад Вернон, Эван Голдберг, Сет Роген, Меган Эллисон\n",
      "К.Елкин, В.Ровенский, М.Рогальский, А.Руже\n",
      "Кристиан Клавье, Патрис Леду\n",
      "Бонни Кертис, Венди Федерман\n",
      "Бальтасар Кормакур, Магнус Видар Сигюрдссон\n",
      "Линдси Коллинз\n",
      "Эван Голдберг, Сет Роген\n",
      "Аарон Ауч, Энтони Багароцци, Джоэл Силвер\n",
      "Алла Гефтер\n",
      "Массимо Витта Зельман, Пьеро Маранги, Луиджи де Сиерво\n",
      "Док МакГи\n",
      "Вин Дизель, Нил Х.Мориц, Майкл Фоттрел\n",
      "Ю.Мишкинене, А.Плотников, А.Бильжо\n",
      "П.Руминов, И.Капитонов\n",
      "Джеймс Уайтекер\n",
      "Эми Паскаль, Айван Рейтман\n",
      "А.Бобин\n",
      "Ави Арад\n",
      "Дэвид Кэмпбэлл\n",
      "Рэйд Броди, Уильям Райан, Скотт Сильвер\n",
      "Мартин Дж. Бараб, Майкл Мендельсон, Ричард Рионда Дель Кастро\n",
      "Хелена Даниэльссон, Брэйди Корбет, Крис Коэн\n",
      "Бен Брайн, Джон Клацкевич\n",
      "Дональд Де Лайн, Тони Билл, Джонатан МакКой\n",
      "В.Есинов, Ю.Рязанов\n",
      "А.Роднянский, С.Мелькумов, Г.Фетисов\n",
      "В.Мадышев, Ф.Попов\n",
      "Джефф Джонс, Стивен Джонс\n",
      "Марк Уильямс, Линетт Хауэлл Тэйлор\n",
      "Карстен Брюниг, Кейт Гарвуд, Люк Дайан\n",
      "Сьюзан Икинс\n",
      "Чарльз Ровен, Ричард Скал\n",
      "Фрэнк Маршалл, Сэм Мерсер, Стивен Спилберг\n",
      "Натали Гастальд, Жан-Батист Дюпон, Сирил Кольбо-Жюстен\n",
      "Миранда Бэйли, Лоуренс Инги, Лорен Манн\n",
      "Элисон Оуэн, Карен Розенфельт\n",
      "Карлос Салдана, Крис Уэдж, Лори Флорте\n",
      "Амир Ахебсион, Маз Джобрани, Рэй Моэт\n",
      "Бонни Кертис, Джули Линн, Уикс Уолкер\n",
      "Маттье Вартер, Клементс Мисерез\n",
      "Тед Кребер, Марк Фойерстин, Сэм Фридлендер\n",
      "Д.Нелидов, И.Бурец, Э.Илоян, Д.Жалинский, А.Троцюк, В.Шляппо, А.Кушаев\n",
      "Дон Грэйнджер, Том Круз, Кристофер МакКуорри \n",
      "Д.Таран\n",
      "Роберт Салерно, Том Форд \n",
      "Мэри Пэрент, Дэнис Л.Стюарт\n",
      "Саманта Винсент,  Вин Дизель, Джеффри Кирченбаум, Джо Рот\n",
      "Лоран Бурашо, Тома Лангманн, Марко Черквуй\n",
      "Жан-Паптист Бабин, Эльс Вандеворст, Уве Шотт\n",
      "Валери д'Отей, Николя Дюваль-Адассовски, Андре Руле\n",
      "Белен Атьенса, Альваро Аугустин, Жислен Баруа\n",
      "Стэфани Сэлерье\n",
      "Марен Аде, Йонас Дорнбах, Мишель Меркт, Янина Яковски\n",
      "Коринна Менер, Гизела Шафер\n",
      "Джэми Горинг, Кевин Лисон, Роберт Холми младший\n",
      "А.Радько, Е.Гордецкая\n",
      "Хулио Сото Гурпиде, Адриана Малфатти Чен, Адриан Политовски, Карл Ричардс\n",
      "С.Снежкин, Н.Горина\n",
      "Олег Головашкин, Алмас Султангазин\n",
      "Хельге Сассе, Томас Шпрингер, Хельмут Г. Уэбер\n",
      "С.Азази, Б.Лайарте, Х.Г.Пене, А.Мендиз, К.О.Аделкилд, А.Банг, К.Дик, А.Удварду, Б.Бок, Г.Кадуф\n",
      "Марк Гордон, Тодд Филлипс\n",
      "Дуглас Мэддокс\n",
      "Лайза Эллзи, Кристоф Ламбер\n",
      "М.Бэйкер, Д.Е.Брайан, П.-Л.Гарнон, М.Х.Дельгадо, Ф.Жуве, Д.Камински, Н.Квин, Е.Колон, Я.Пикар, К.Поллок, Ф.Прель-Клеах, Д.Рондот, С.Счектмэн, Э.Тарвер, Р.Эмануэлли \n",
      "В.Насыр, А.Бобин\n",
      "Э.Сковородина\n",
      "Кристин Алдерсон, Моника Бакарди, Андреа Иерволино, Ками Нахди\n",
      "Джон Албанис, Ричард Бартон Льюис, Робби Бреннер\n",
      "Барбара Де Фина, Дэвид Ли, Гастон Павлович, Мартин Скорсезе, Эмма Тиллинджер, Ирвин Уинклер, Витторио Чеки Гори, Рэндолл Эмметт\n",
      "Марта Гёрджи-Кесслер, Адам Пенни\n",
      "Д.Адар, Д.Амсон, П.Антохин, А.Армстронг, С.Бильбулен, А.Бурунова, Н.Джинчарадзе, А.Калво, К.Колинз, Х.П.Миллер, Д.Эверет\n",
      "А.Мурадов, Р.Филатов, А.Голодницкий\n",
      "Р.Жигалов\n",
      "Ян Арно, Сидони Дюма, Женевьева Лемаль\n",
      "Ноэми Саглио\n",
      "Майкл С.Констебл, Эндрю Старк, Лиззи Франке\n",
      "Элисон Гринспен, Дениз Ди Нови, Рави Мехта\n",
      "И.Толстунов, С.Козлов\n",
      "В.Галкина\n",
      "Джонатан Левин, Дэвид Рэди, Питер Чернин\n",
      "Матти Лешем, Линн Харрис\n",
      "Питер Принципато\n",
      "Филипп Б.Голдфайн, Джозеф Лоуренс\n",
      "С.Андреасян, Г.Андреасян, В.Поляков, А.Рязанцев\n",
      "А.Ефремова\n",
      "Орен Авив, Адам Фогелсон, Марк Д.Эванс\n",
      "Ален Атталь\n",
      "Пол Карри, Джоди Маттерсон, Стивен Хутенски\n",
      "Джойс Лу, Дэвид Б. Миллер, Роб Фенг\n",
      "Франк Милсент, Александра Фешнер\n",
      "Марти Боуэн, Уик Годфри, Брайан Касентини, Хаим Сабан\n",
      "Николя Картье, Шеррил Кларк, Крейг Джей Флорес\n",
      "Гэйл Иган, Андреа Колдервуд, Алистер Сиддонс \n",
      "Сол Бонди, Катарина Краве, Юсси Рантамаки\n",
      "Э.Пичугин, С.Сельянов, Н.Дрозд, Н.Смирнова\n",
      "Д.Щербанов, М.Панкратова\n",
      "С.Светлаков, П.Арустамова, А.Прокудин, В.Федорович, Е.Никишов, А.Дулерайн, И.Мишин\n",
      "ОЧУ ДПО \"Академия кинематографического и театрального искусства Н.С.Михалкова\"\n",
      "М.Финогенов, Р.Гигинеишвили, Т.Татишвили, В.Качарава\n",
      "Д.Ловейко, О.Кузовков, М.Ратина\n",
      "Р.Дишдишян, ООО \"ММЕ\", ООО \"КИНОКОМПАНИЯ БОЛЬШОЕ КИНО\"\n",
      "ООО \"Централ Партнершип\", ООО \"Стар Медиа Дистрибьюшн\"\n",
      "Г.Малков, В.Поляков, Л.Карасев, А.Войтинский\n",
      "Николас Альтмайер, Эрик Альтмайер, Марк Дюжарден\n",
      "Дэна Брунетти, Майкл Де Лука, Э.Л.Джеймс\n",
      "Майкл Закин, Элинор Коппола, Фред Роос\n",
      "Зев Формен, Нахикари Ипинья, Рассел Левайн, Доминик Рустам\n",
      "Аллен Атталь\n",
      "Крис Кларк, Флора Фернандес-Маренго, Фил Хант\n",
      "Карен Ландер, Шон Леви, Дэн Ливайн, Дэвид Линде, Аарон Райдер\n",
      "Дед Гарднер, Николас Гонда, Брэд Питт, Бил Полланд, Грант Хилл\n",
      "Рори Аиткен, Фред Бергер, Эрик Гарсия\n",
      "П.Дженнифер Дэна, Джош Крук, Ади Эзрони \n",
      "Джон Нгуйен, Джейсон С., Сабрина С.Сазерленд \n",
      "Жером Сейду\n",
      "Даррен Аронофски, Питер Дилберт, Рэндолл Эмметт\n",
      "Мерседес Гамеро, Пенелопа Крус, Микель Лехарса\n",
      "Ван Вэй, Барби Тун, Ци Цзяньхун, Джонатан Шэнь\n",
      "Джефф Абберли, Дайан Миллер Левин, Джеми Патрикоф\n",
      "А.Цекало, А.Котт\n",
      "Михаил Спектр, Ларри Кинг, Михаил Беспалов\n",
      "Дрю Фелман\n",
      "Джуди Кэролл\n",
      "Лоранн Бурашо, Кэти Холли, Уит Стиллман\n",
      "З.Магалашвили, К.Гечмен-Вальдек, Н.Горшкова\n",
      "К.Ахо, Т.А.Бьерке, Д.Йоргенсен, Р.МакМанус, К.Нордберг,  О.И.Салонен, Э.Тойвоньеми, С.М.Торкуато, Л.Фирнли, М.Фукушима, Э.Хеммендорф\n",
      "Леон Клэранс, Брайан Кэвэна-Джонс, Крис Фергюсон\n",
      "Элизабет Бэйкер, Кайл Кернан\n",
      "Лукас Акоскин, Паула Альварез Ваккаро, Алекс Гарсиа\n",
      "Бен Аффлек, Леонардо Ди Каприо, Дженнифер Дэвиссон\n",
      "Жан-Жюльен Барроне, Патрик Краули, Майкл Фассбендер\n",
      "Стюарт Корнфелд, Шон Леви, Дэн Ливайн\n",
      "Джеймс Биерман, Майкл Грандадж, Джон Логан\n",
      "Брайан Грейзер, Иван Орлич, Ким Рот, Колин Уилсон\n",
      "Стив Голин, Фабрис Джанферми, Бард Доррос\n",
      "Полин Адамсон, Райл Адамсон, Бартон Бонд, Гэвин Джиллетт\n",
      "Наото Инаба, Митсухиса Ишикава, Кацудзи Морисита\n",
      "Майкл ЛеСьер, Лори МакДональд, Уолтер Ф. Паркс\n",
      "Рауль Гарсиа Медрано\n",
      "Эрик Жако, Макс Карли, Полин Карли Гигакс, Кейт Мерк, Мишель Мерк  \n",
      "Александр де ла Пателье, Дмитрий Рассам\n",
      "Джеймс Костас, Тоув Кристенсен, Пол Лейден\n",
      "Майкл Берк, Грегори Дж. Бонанн, , Айвен Райтман, Бо Флинн, Дуглас Шварц\n",
      "Фернандо Виктория Де Лесеа\n",
      "Кевин Рейер\n",
      "Лусия Аньелло, Дэйв Беки, Пол В.Донс\n",
      "Франсуа Краус, Дени Пино-Валенсьенн, Надя Хамлиши\n",
      "Марк Лэйн, Джеймс Харрис\n",
      "Марк Каллен, Робб Каллен, Николя Картье\n",
      "Ю.Рязанов, Фонд поддержки развития общества \"Наши дети\"\n",
      "А.Шархун\n",
      "Виктор Солодников, Арам Оганесян, Ара Оганесян\n",
      "ООО \"ВИЗАРТ ФИЛЬМ\"\n",
      "Филипп Боэффард, Христоф Россигнон\n",
      "Хосе Ибаньес, Кастер Логан, Фернандо Суличин\n",
      "Ли Дон-ха, Ким Ён-хо\n",
      "Курбан Кассам, Батист Планше, Клаудио Чеа\n",
      "Джули Голдман, Роджер Росс Уильямс\n",
      "Лиза Азуэлос, Жюльен Мадо, Жером Сейду\n",
      "Энтони Брегман, Гари Гоэцман, Джеймс Понсольдт, Том Хэнкс\n",
      "Майк Медавой, Ральф Уинтер, Уильям Хорберг, Эрик Эсраилиан\n",
      "Акива Голдсман, Гай Ричи\n",
      "Лоренцо Ди Бонавентура,  Джорджина Таунси, Эрик Ховсам\n",
      "Деде Гарднер, Джеймс Грэй, Дэйл Армин Джонсон\n",
      "Гари Гоэцман, Том Хэнкс, Рита Уилсон\n",
      "Джеффри Бюхлер, Трип Винсон, Санфорд Нельсон\n",
      "Пол У.С. Андерсон, Джереми Болт, Роберт Кулцер, Сэмюэл Хадида\n",
      "Д.Воробьев, А.Федорченко\n",
      "Корнелия Акерс, Маркос Кантис, Мартин Левальд\n",
      "Алберто Бургуэно, Андреа Иерволино, Александра Клим, Сильвио Мураглиа, Хуан Антонио Гарсиа Передо, Марк Фридман\n",
      "Лин Вайзман, Дэвид Керн, Гэри Луккези, Том Розенберг, Ричард С.Райт\n",
      "Оснат Шурер\n",
      "Кэтлин Кеннеди, Тони То, Эллисон Ширмур, Саймон Эмануэл\n",
      "Ларс Кнудсен, Лукас Хоакин, Джей Ван Хой\n",
      "Майкл Бертон, Марк Оверетт, Кристофер Фитчетт\n",
      "Джейсон Блум, Шеррил Кларк\n",
      "Джейсон Момоа, Чарли Брабли, Эрик Ласисте\n",
      "Маркус Б.Бродерсен, Джон М.Якобсен\n",
      "Асгар Фархади, Александр Малле-Гай, Оливье Пере\n",
      "Грегуар Мелен, Пьер Морель, Кристофер Туффин\n",
      "Филипп Борбели, Кристоф Браншер, Фабиан Гасмиа \n",
      "Наима Абед, Скотт Отто, Полли Станифорд, Энджи Филдер\n",
      "Наоки Иваса, Такуя Ито, Мэгуми Хосино\n",
      "В.Рудак, А.Бабенко\n",
      "И.Щербань, Д.Новицкая, Н.Доморацкая\n",
      "А.Броварец\n",
      "Ю.Суходольский\n",
      "А.Котт\n",
      "Фархад Беманбетов, Жылдызкан Джолдошева, Садык Шер-Нияз\n",
      "Мэтт Дэймон\n",
      "Рози Шарбонно, Рэндолл Эмметт\n",
      "Николь Боккумини, Пол М.Бреннан, Мириам Сигал\n",
      "Билл Блок, Марк Камине, Сюзанн Тодд\n",
      "Том Карновски, Джеффри Клиффорд, Дэвид Хейман\n",
      "С.Андреасян, Г.Андреасян, А.Ананикян, М.Галустян, В.Поляков, А.Рязанцев, В.Колесник\n",
      "Т.Бекмамбетов, И.Стромилова, М.Затуловская\n",
      "Джейсон Блум, Марси А.Браун, Жанетт Брилл\n",
      "Шон Дэниэл, Алекс Куртцман, Крис Морган\n",
      "Ю.Грымов, С.Зернов\n",
      "Джеймс Ганн, Питер Сафран\n",
      "Кристина Кэмпбелл, Джей Дэвис, Лати Гробмэн, Брайан Эскивель\n",
      "Мишель Сен-Жан\n",
      "Р.Дишдишян, В.Горяинов, Л.Ярмольник\n",
      "Крэйг Дж. Флорес, Дэвид Т.Френдли, Бо Ст.Клэр\n",
      "К.Трофимова\n",
      "Н.Рагозина, А.Апшев\n",
      "Барт Ван Лангендонк, Филипп Логи\n",
      "Ребекка О.Брайен\n",
      "Джефф Белл, Ибон Корменсана, Филлис Лэйн\n",
      "В.Тодоровский, А.Златопольский\n",
      "Адитья Чопра\n",
      "Шарль Жилибер\n",
      "Джесс Калдер, Кит Калдер\n",
      "А.Добрунов\n",
      "Дэн Лин, Фил Лорд\n",
      "Эмильен Бинон, Жак-Анри Бронкар, Оливье Дельбоск\n",
      "Джесси Бергер, Брент С. Джонсон\n",
      "Бэзил Иваник\n",
      "Игорь Хайт, Джанет Хили, Бретт Хоффман\n",
      "Эйн Каннинг, Энджи Филдер, Эмиль Шерман\n",
      "Джошуа Астрачан, Картер Логан\n",
      "Эрнар курмашев, Акан Сатаев\n",
      "И.Гелашвили, В.Малышев, Ф.Попов, А.Федорченко, Д.Воробьев\n",
      "С.Рамз,Е.Панфилова\n",
      "К.Татеосян\n",
      "И.Стюарт, М.Османн,Е.Абраменко, Ю.Козырев\n",
      "С.Богданов\n",
      "Цяо Фенк\n",
      "Питер Берг, Сидни Киммел, Карла Хэкен\n",
      "Дабуанг Лиу, Чао Чанг, Ронг Лиу, Ли Чен\n",
      "Эд Гуене, Ева Пясковска, Ежи Сколимовский\n",
      "Джон Дж.Джашни, Питер Лоэр, Чарльз Ровен\n",
      "Роберто Сесса\n",
      "Луиджи Мусини, Оливиа Мусини\n",
      "В.Шевельков, М.Бебенина\n",
      "Б.Доржиев\n",
      "Ю.Бахшиев\n",
      "Д.Бона, Э.Бэнкс, К.Дини, Н.О.Лири, Э.Пампури, Э.Розенфельд, К.Саймон, П.Сэлянт,  Л.Фрейзер, М.Д.Хелфгот, Д.Хилман,  С.Чэн\n",
      "Пьетро Вальсекки\n",
      "Чхан Ук Пак, Сид Лим\n",
      "Дженно Топпинг, Каттерли Фроуенфельдер, Питер Чернин\n",
      "Ридли Скотт, Марк Хаффам, Майкл Шефер \n",
      "Лоренцо Ди Бонавентура, Марк Вахрадян, Дэвид Уомарк\n",
      "Фонд Поддержки Некоммерческого кино\n",
      "Б.Юсупов, Р.Еникеев, Л.Филинов\n",
      "С.Безруков\n",
      "Кирилл Красовский\n",
      "С.Абрахамс,  М.И.Апштейн, А.О.Арангурен, Ф.Бронштейн, Ю.Вакхан, О.Давид, А.Дэламан,  Р.Кобос,  М.Макки, Д.Флипо, А.Энджел\n",
      "Р.Хамдамов, А.Кончаловский, Л.Обминяная\n",
      "Эрик П.Шерман\n",
      "Маэлль Арно, Бертран Тавернье, Тьерри Фремо\n",
      "АНО Школа-студия анимационного кино \"Шар\"\n",
      "Ромен Ройтман, Бенжамен Эсс\n",
      "Лене Бёрглум, Сидоне Думас, Винсент Мараваль, Николас Виндинг Рефн\n",
      "С.Охотин\n",
      "А.Чернов, Д.Петрова\n",
      "Фредерик Жюв\n",
      "Джейсон блум, Майкл Ситцман\n",
      "В.Карданов, А.Бальчев\n",
      "Р.Каргаполов\n",
      "Дэннис Ли, Даниэль Рагуссис, Саймон Тофик\n",
      "Билл О.Дауд, Джулия Пистор\n",
      "Джаред ЛеБофф, Селия Д. Костас, Марк Э. Платт\n",
      "Джейсон Блум, Майкл Бэй, Стивен дэвис\n",
      "Андре Лемал, Гури Лучези, Терри МакКей\n",
      "Патрик Риззотти, Бретт Форбс\n",
      "Андреа Барата Рибейро, Нив Фичман\n",
      "Райан С.Блэк, Фрэнк Бонн, Эрик Бреннер\n",
      "Майкл Маер, Ори Мармур, Нил Моритц, Стивен Хэмел\n",
      "Йоко Хигути-Зицман, Таня Циглер, Штефан Гёртнер\n",
      "Паулу Бранку, Вим Вендерс\n",
      "А.Моисеев, О.Пиганов, Н.Высоцкая\n",
      "Ю.Обухов, А.Рязанцев \n",
      "Дин Благг, Эрик Бреннер, Гэри Прейслер\n",
      "Марк Барнетт, Шон Дэниэл, Джони Левин, Дункан Хендерсон\n",
      "Тим Беван\n",
      "Фрэнк Маршалл, Эллин Стюарт\n",
      "К.Ратушная\n",
      "А.Шипулина\n",
      "Фред Бергер, Гари Гилберт, Марк Э,Платт, Джордан Хоровиц\n",
      "Пьер Гендрон, Кристиан Лярош\n",
      "Чарльз Покел\n",
      "Брюс Коэн\n",
      "Джастин Бэйр, Клайв Гершон, Барбара Раггьянти\n",
      "Леопольдо Гоут, Петр Келлер, Роберт Шнайдер\n",
      "О.Извеков\n",
      "Ю.Сапонова, Дана Жанэ, О.Никифорова\n",
      "В.Денисюк, Е.Мелентьев\n",
      "Деде Гарднер, Джереми Клейнер, Адель Романски\n",
      "Бернард Белью, Дэнни Бойл, кристиан Колсон, Эндрю Макдональд\n",
      "Ф.Абрютин, Д.Якунин, И.Селиванов, О.Филонова, О.Лахно\n",
      "Ави Арэд, Эри Арэд, Стивен Пол\n",
      "Майя Амселлем\n",
      "Магдалена Поплавска\n",
      "Ф.Бондарчук, Д.Рудовский, И.Стюарт, М.Османн, Ю.Козырев\n",
      "ООО \"Школа кино\"\n",
      "Кристофер Меледандри, Джанет Хили, Бретт Хоффман\n",
      "Эми Паскаль, Кевин Фейги\n",
      "Майк Вилуан, Вики Олиндо\n",
      "Даррен Аронофски\n",
      "Пьерлуиджи Криспино\n",
      "Андреа Де Либерато, Антонио Капуано, Эммануэле Моретти, Дженнаро Фазолино, Дарио Формизано\n",
      "Джерард Батлер, Николя Шартье, Крейг Дж.Флорес, Патрик Нивэлл, Алан Сигель, Марк Уильямс\n",
      "Джеймс Ван, Лоуренс Грэй, Эрик Хайссерер\n",
      "Кристофер Меледандри\n",
      "Джейсон Блум, Майкл Бэй\n",
      "Фабиола Беракаса, Скот Брайт, Сильвана Вард Дюррет, Доун Острофф\n",
      "Эммануэль Шоме\n",
      "С.Соловьев, Н.Треушникова\n",
      "В.Соловьев, Ю.Храпов, А.Пескова, Д.Рудовский, Ф.Бондарчук\n",
      "Е.Макаров\n",
      "Майкл Бенаройа, Шара Кэй, Ричард Сэперстин, Брайан Уиттен\n",
      "Камила Гонзатто, Фредерико Пиното, Алетейла Селонк\n",
      "Ж.Альберт, М.П.Бентел, Э.Браун, М.Ван дер Вен,  Д.Кайганич, Ч.Макдауэлл, М.Митник,  Д.Смит, Д.Томас\n",
      "Энди Гулд, Мэттью Перникиаро, Майк Эллиот \n",
      "Кит Калдер, Рой Ли, Стивен Шнайдер\n",
      "Жюльен Дери, Марк Дюжарден, Кристина Ларсен\n",
      "Карл Дил, Тиа Лесин, Майкл Мур\n",
      "Лиза Вашингтон, Фил Джеймс, Анита М.Кэл\n",
      "Нина Бисгаард, Крис Тайкер\n",
      "Бард Доррос, Аллан Лоэб, Майкл Шугар \n",
      "Эмиль Гладстоун, Джереми Стеклер, Джеймс Д.Штерн\n",
      "В.Братухин, О.Суров, А.Барыкин\n",
      "Донна Джильотти, Тед Мелфи, Питер Чернин\n",
      "Венсан Мараваль, Тосио Судзуки, Исао Такахата\n",
      "Сергей Лозница\n",
      "Е.Бабенко, В.Ремизов\n",
      "И.Стюарт, Ю.Козырев, М.Османн\n",
      "А.Котелевский, А.Новиков, Р.Корби\n",
      "Г.Малков, В.Поляков, Е.замалиев, А.Кузьминов, Ж.Бадмацыренов, Г.Шабанов, Э.Илоян\n",
      "Е.Тарковская, Т.Лагода, Д.Степанян\n",
      "ООО \"Маяковский\"\n",
      "Э.Архангельская, А.Пискунова, Ф.Крат\n",
      "Оливье дельбоск, Марк Миссонье\n",
      "Дэвид Ланкастер, Майкл Литвак\n",
      "С.А.Зернов\n",
      "Леонардо ДиКаприо, Сьюзен Доуни\n",
      "Деде Гарднер, Ник Уэкслер\n",
      "Джоэл Сильвер\n",
      "И.Гелашвили\n",
      "Пол Бретт, Александра Фергюсон, Саймон Фоусен\n",
      "Люк Бессон, Индия Осборн\n",
      "А.Тельнов, С.Федотов\n",
      "А.Сафронов\n",
      "ООО \"Издательство \"Вектор\"\n",
      "Л.Кукоба\n",
      "Йенс Мюрер, Крис Кёрлинг, Бонни Арнольд, Андрей Кончаловский\n",
      "Кайл Уильямс\n",
      "Р.Хамутбаев, А.Крылов, Д.Золотов\n",
      "Л.Барац, Р.Хаит, С.Петрейков, А.Цекало\n",
      "Ю.Бердников\n",
      "И.Поршнев, У.Ковалева, Р.Шарабидзе, Роберто Бесси, Элизабетта Брусколини\n",
      "Бонни Арнолд\n",
      "Вашу Бхагвани\n",
      "М.Хусаинов\n",
      "С.Ливнев, Г.Малков, Л.Николау\n",
      "Н.Парамонова, Ю.Мацюк\n",
      "Санпинг Ан, Стеффан Уайлд\n",
      "Паул Брукс, Джо Кэмехан, Терри Роббинс\n",
      "Финола Дуайер, Аманда Поузи\n",
      "Нил Эйч Моритц\n",
      "Штефан Арндт, Вейт Хидушка, Михаэль Кац, Маргарет Менегоз\n",
      "Бей Логан, Карл Чанг\n",
      "И.Твердовский\n",
      "Ю.Глоцер, Ю.Гинзбург\n",
      "Тим Бартон, Ричард Д.Занук, Джо Рот, Дженнифер Тодд, Сьюзан Тодд\n",
      "Нед Дауд\n",
      "Фрэнк Маршал, М.Найт Шьямалан\n",
      "Роджер Бирнбаум, Уоллис Ничита, Айван Райтман\n",
      "Сэм Мерсер, Скотт Рудин, М.Найт Шьямалан\n",
      "Рикки Ли Бисталл, Марк Стивен Джонсон, Эндрю Пэнэй, Эзра Свердлов, Гэри Фостер\n",
      "Питер Абрамс, Роберт Л.Леви, Эндрю Пэнэй\n",
      "В.Арсеньев, С.Акопян, В.Огородников\n",
      "София Коппола, Росс Кац, Фрэнсис Форд Коппола\n",
      "А.Смирнов, Ю.Сапронов\n",
      "В.Муругов, А.Зюнькин\n",
      "Мейс Ньюфилд\n",
      "Стив Голин, Кевин Мишер\n",
      "Лорен Шультер Доннер, Эван Лесли\n",
      "Дэвид Браун,Джо Уизан\n",
      "Леонард Голдберг\n",
      "Вольфганг Петерсен, Данкан Хендерсон\n",
      "Питер Джексон, Барри М.Осборн, Тим Сандерс, Фрэн Уолш\n",
      "Питер Джексон, Барри М.Осборн, Фрэн Уолш\n",
      "Сьюзан Доуни, Дэн Лин, Джоел Сильвер, Лайонел Уигрэм\n",
      "Ларри Вачовски, Энди Вачовски, Джоэл Силвер\n",
      "Том Хэнкс, Винсент Лэндэй\n",
      "Джейсон Блум\n",
      "Нэнси Майерс, Скотт Рудин\n",
      "Лоренцо ди Бонавентура, Сунил Перкаш\n",
      "Патрик Айелло, Ашок Амритраж, Карри О.Рейли\n",
      "Дункан Кенуорси\n",
      "Дороти Офьеро, Дэвид Хоберман, Тодд Либерман\n",
      "Т.Воронецкая\n",
      "С.Говорухин\n",
      "В.Дубровицкий\n",
      "Фернандо Бовайра, Алехандро Гонсалес Иньярриту, Джон Килик\n",
      "Дональд Де Лайн, Карен Розенфельт\n",
      "Бейзил Айваниг, Грем Кинг\n",
      "Майкл Бэй\n",
      "Бэйкер Бладуорф, Элтон Джон, Дэвид Ферниш\n",
      "Кеничи Накаяма, Ясутака Ханада\n",
      "Леонард Голдберг, Джоэл Силвер\n",
      "Уильям Пол Кларк, Джереми Сэмюэлс, Дэвид Т.Френдли\n",
      "Иан Каннинг, Эмиль Шерман, Гарет Униут\n",
      "Джеффри Клиффорд, Джо Мэджик, Айвен Райтман\n",
      "И.Толстунов, С.Астахова\n",
      "Джоэл Сильвер, Роберт Земекис, Сьюзан Левин\n",
      "Крейг Беренсон, Дон Гранджер, Грегари Левинсон\n",
      "Ларри Дойл\n",
      "Улли Нойман, Мануэлла Стер\n",
      "Д.Ефремов, А.Роднянский, С.Мелькумов,Ф.Кройцэр, А.Миндадзе, М.Эше, О.Кохан\n",
      "Б.Юдин, А.Царьков\n",
      "Ю.Бахшиев, В.Такнов, В.Кильбург\n",
      "Том Дей, Дерек Дочи, Джон Дэвис\n",
      "Ютака Нарита, Сейджи Окуда, Тосио Судзуки\n",
      "Анат Бикель, Леон Ибери, Моше Ибери, Ури Сабаг, Давид Силбер\n",
      "Р.Нугманов\n",
      "Джерри Вайнтрауб, Дэжеймс Ласситер, Джада Пинкетт Смит, Уилл Смит, Кен Стовиц\n",
      "Харальд Клозер, Лари Джей Франко, Роланд Эммерих\n",
      "Брук Бретон, Джеймс Кэмерон, Джон Лондау\n",
      "Вероника Брукс, Мейсон НОвик, Скотт Химэн\n",
      "Росс Багдасарян младший, Джеймс Камэн\n",
      "Рональд Басс, Дон Кармоди, Лидия Дин Пилчер\n",
      "Лиз Глотцер, Мартин Шэфер\n",
      "Дэн Дубицки, Диабло Коуди, Мейсон Новик, Джейсон Рейтман\n",
      "Тодд Либерманн, Дэвид Хоберман, Макс Хэндлман\n",
      "Сэмюэл Дж.Браун\n",
      "Мариви Де Вильянуэва, КАрлос Фернандез\n",
      "Алберт Бергер, Алан Лоб, Брэдли Томас\n",
      "Александр Ажа, Марк Кантон, Грегори Лавассер, Марк Тоберофф\n",
      "Кристиан Колсон, Роберт Джонес\n",
      "П.Масларов, А.Учитель\n",
      "Кен Кацумото, Стив Моор, Ричард Рич\n",
      "В.Горяинов, В.Тодоровский, Л.Лебедев\n",
      "Гретхен МакГоэн, Стэси Смит\n",
      "Рой Энжелис, Энтони Брэгмен, Роберт Вэло\n",
      "Том Форд, Эндрю Миано, Роберт Салерно, Крис Вейц\n",
      "Дэвид Б.Хаусхолтер, Джимми Миллер\n",
      "Люк Бессон, Дидье Хорау, Пьер-Анж Ле Погам\n",
      "Филипп Годо\n",
      "Тодд Блэк, Джейсон Блюменталь\n",
      "Джон Голдстоун\n",
      "А.Аболс\n",
      "Джон Лионс, Майк Майерс, Эрик МакЛиод, Деми Мур, Дженнифер Тодд, Сьюзан Тодд\n",
      "Билл Гербер\n",
      "Майкл Бедерман, Билл Карраро, Иза Дик Хэкетт\n",
      "Линн Харрис\n",
      "Дэн Крачиоло, Джоэл Сильвер\n",
      "Майкл Бэй, Майк Флейсс, Тоб Хупер\n",
      "Орен Коулес, Бред Кревой, Трой Миллер, Стив Стеблер, Чарльз Б.Уэсслер\n",
      "Роджер Бирнбаум, Артур Саркисян, Джей Стерн\n",
      "Тоув Кристенсен, Селин Рэттрэй, Нортон Херрик\n",
      "Джон Б.аКрлс, Грэм Кинг, Гор Вербински\n",
      "Марк Гордон, Филипп Русле, Джордан Винн\n",
      "Рене Бессон, Майкл Де Люка\n",
      "Натали Гастальдо, Эрик Зауали\n",
      "Альваро Агустин, Йесус де ла Вега\n",
      "Томас Радур\n",
      "Клод Берри\n",
      "Адам Шенкман\n",
      "Арчил Геловани, Леван Коринтели, Джиа Баскадзе\n",
      "Р.Атамалибеков\n",
      "Вирджиния Силла\n",
      "Марк Платт, Майкл Фоттрел, Бен Шервуд\n",
      "Николя Дюваль-Адассовски, Лоран Зейтун, Янн Зену\n",
      "Эрик Гиттер, Найра Парк, Марк Платт, Эдгар Райт\n",
      "Джейк Эбертс, Дон Хан, Николя Моверне\n",
      "Гаймон Кеседи, Росс М. Динерштейн, Бенджамин Форкнер, Гас Кригер\n",
      "Ю.Грымов, М.Бабаханов, И.Жуков\n",
      "Сюзан Мриан, Мартин Гшлахт, Филипп Бобер\n",
      "Марчела Урсу\n",
      "Н.Гугуева\n",
      "Г.Мартиросян, А.Бурносов\n",
      "ЗАО \"Киновидеообъединение \"Крупный план\"\n",
      "Николь Браун, Дрю Бэрримор, Питер Дуглас\n",
      "Бред Фишер, Майк Медовой\n",
      "Винс Вон, Скотт Стьюбер\n",
      "Адам Боулин, Дарен Голберг, Брэд Питт, Мэтью Вон\n",
      "Йен Брайс,Марк Гордон,Гэри Левинсон\n",
      "А.Боярский,Ю С.Сельянов, Д.Ловейко, О.Кузовков, А.Добрунов\n",
      "Ори Мармур, Нил Моритц, Джеффри Чернов\n",
      "Стивен Джей Бойд, Роберт Земекис, Джек Рапке, Стив Старки\n",
      "Лесли Диксон, Райан Кэвэна, Скотт Крупф\n",
      "Алан Треквайр\n",
      "Хосе Антонио Фелес, Антон Рейха\n",
      "Жак Одиар, Жан-Луи Ливи, Ален Ваннье\n",
      "Терак Бен Аммар, Марина Берлускони\n",
      "Клаудио Фах, Дэвид Ланкастер, Майкл Литвак\n",
      "Сидни Киммел, Лоуренс Малкин, Шейр Столлингс, Дайана Филлипс\n",
      "Пэдди МакДональд, Роберт Уайлпол\n",
      "Даниэла Альварадо, Мариэла Безуевски, Хуан Хосе Кампанелла, Каролина Урбиета\n",
      "Лоренцо Ди Бонавентура, Джейк Майерс, Грегори Новак\n",
      "Берни Голдманн, Дональд Ди Лайн\n",
      "Дайоуни Орром\n",
      "Итэн Коэн, Джоэл Коэн\n",
      "Роберт Бернштейн, Кевин Лоудер, Дуглас Рэй\n",
      "Андреа Барата Рибейро, Нив Фишман\n",
      "И.Попов\n",
      "Дэниэл Кэри, Элизабет Джаматти, Джон Хинански\n",
      "Свейнунг Голимо, Джон М.Якобсен\n",
      "Карен Баумбач, Нина Крон, Сольвейг Ланглэнд, Майкл Флейшер\n",
      "Стивен Хобан\n",
      "ФГУП \"Киноконцерн \"Мосфильм\"\n",
      "ООО \"Территория кино\"\n",
      "Г.Нерсисян\n",
      "Гэри Барбер, Роджер Бирнбаум, Джонатан Глюкман\n",
      "С.Говорухин, А.Просянов\n",
      "Стив Джей Бойд, Роберт Земекис, Джек Рапке, Стив Старки\n",
      "Фил МакИнтайр\n",
      "Дженнифер Дэвиссон Киллоран, Леонардо Ди Каприо\n",
      "Тим Биван, Нира Парк, Эрик Феллнер\n",
      "Рик Бенаттар, Джонатан Инглиш, Эндрю Дж.Кертис\n",
      "Кен Барбет, Дана Бранетти, Кия Джэм, Джонатан Д.Крэйн, Кевин Спейси\n",
      "Мика Каурисмяки\n",
      "А.Нахимсон\n",
      "Ален Вулф, Дэвид Остин \n",
      "Мишель Сент-Жан\n",
      "С.Николаев\n",
      "Зальцбургский фестиваль\n",
      "Александр Брюннер, Гай Ист, Донна Джилиотти, Карл Молиндер, Джон Нордлинг, Найджел Синклер\n",
      "Майкл Дуглас, Александро Каон, Селия Д.Костас\n",
      "Уильям Конг, Чжениан Чжан\n",
      "Марк Бартон, Келли МакКормик, Лоуренс Матис, Мэтт Уолл\n",
      "Уэс Крэйвен, Энтони Катагас, Йа Лабунка\n",
      "А.Смирнов, Ю.Сапронов, Д.Месхиев\n",
      "Кристина Хуэте\n",
      "Стив Голин, Гейл Матракс\n",
      "Хуго Е. Лаура, Хосе Луис Масса\n",
      "НО \"Фонд поддержки анимационного кино \"Пилот\"\n",
      "Лара Брэй, Дэнис Нолан Касцино\n",
      "Оливер Бербен, Дорис Д.Хайнце, Фарук Элтан\n",
      "Р.Дишдишян, А.Сидоров\n",
      "Элизабет Авеллан, Джон Дэвис, Роберт Родригес\n",
      "Роберт Бенмусса, Роман Полански, Ален Сард\n",
      "В.Фишер, Г.Сарсенова, Б.Галимгиреев, С.Мелькумов, Е.Яцура, С.Сельянов и др.\n",
      "ООО \"Стар Медиа Про\"\n",
      "Б.Грачевский\n",
      "А.Разумовский\n",
      "А.Юнусов\n",
      "Квирин Берг, Макс Вайдеманн\n",
      "А.Бзаров\n",
      "Джонни Кноксвилл, Джеф Треймейн, Спайк Джонз\n",
      "К.Кикичев\n",
      "Доминик Йанно, Мэдлейн Шерак, Уильям Шерак\n",
      "Д.Месхиев, С.Мелькумов\n",
      "Джек Джиаррапутто, Адам Сэндлер\n",
      "Эллен Баркин, Марк Кантон, Эрик Фейг\n",
      "Тенисон Бардуэлл\n",
      "И.Юрченко, С.Щеглов\n",
      "Лоренс Гилс\n",
      "Рут Вальдбюргер\n",
      "Джеффри Дэй, Джейсон Эпперсон, Марк Фрейбургер\n",
      "Джулиан Мерфи, Джонни Капс\n",
      "Паскаль Кошето\n",
      "Каран Джохар\n",
      "Майкл Костиган, Ридли Скотт, Майкл Элленберг\n",
      "Хирокадзу Корэ-Эда\n",
      "Эндрю Ганн\n",
      "Кимберли ди Бонавентура, Гэри Луккези, Дебора Джелин Ньюмайер, Стивен Рейтер, Том Розенберг, Кирстен Смит\n",
      "Лоренс Марк, Эми Робинсон, Эрик Стил, Нора Эфрон\n",
      "Гэвин Полон\n",
      "Пол Гангавар, Рэнди Филипс\n",
      "Тодд Блэк, Джейсон Блюменталь, Тони Скотт, Стив Тиш\n",
      "Питер Джексон\n",
      "Кристофер Робертс, Сьюзен Хоффман\n",
      "Дана Брунетти, Майкл Де Лука, Скотт Рудин, Шон Чаффин\n",
      "И.Угольников, Р.Дишдишян, В.Заметалин\n",
      "Дэн Годберг, Тодд Филлипс\n",
      "Дэнни Мойнихэн, Ками Нахди, Кристофер Саймон\n",
      "К.Серебряков, Д.Рудовский\n",
      "ООО \"Арт Пикчерс Студия\", ООО \"Осанна\"\n",
      "Д.Ларкин\n",
      "С.Ливнев, Г.Малков, Д.Захаров, П.Федоров, С.Дандурян, В.Трошин, П.Бардин\n",
      "Дж.МакБраун, Френсис Форд Коппола, Роман Коппола\n",
      "Рейнхард Клоос, Мартин Московиц, Хольгер Таппе, Бернхард Тюр, Экхарт Шмидт\n",
      "Тома Лангманн, Эммануэль Монтамат, Лорен Петин, Мишель Петин\n",
      "Бруно Песери, Рикардо Фернандес-Дей\n",
      "Алекс Гарленд, Эндрю МакДональд, Ричард Хьюит\n",
      "Эрик Марк Леорд, Мими Роджерс, Тонни Скотт, Алекс Янг\n",
      "Кики Гошей, Шем Биттерман\n",
      "Ли Джу-Ик, Бэрри М.Осборн, Майкл Пейзер\n",
      "Уилл Глак, Занн Дивайн\n",
      "Дипак Найар, Альберт Кличак, Розанна Милликен, Морган Юргенсон\n",
      "Джон Беуг, Питер Янковский, Дик Вульф, Джефф Ямпол\n",
      "Роксанна Авент, Тодд Слэйтер, Деон Тейлор\n",
      "Роберт Де Ниро, Джон Гамбург, Джей Роач, Джейн Розенталь\n",
      "Андрей Кончаловский\n",
      "Роберт Земекис, Джек Рапке, Стив Старки\n",
      "Берни Маттинсон\n",
      "С.Сельянов, С.Бодров-старший\n",
      "Бетси Биирс, Марк Гордон, Лесли Холлеран\n",
      "Брайан Грейзер, Пенни Маршалл, Рон Ховард\n",
      "Тодд Гарнер, Кэти Конрад, Хосе Луис Эсколар\n",
      "Говард Болдуин, Кристофер Ламберт, Найл Ниами, Патрик Чои\n",
      "Брайан Грейзер\n",
      "Наташа Дак\n",
      "Джадд Апатов, Барри Мендел, Клейтон Таунсенд, Николас Уэйнсток\n",
      "Лоренцо ди Бонавентура, Боб Дуксэй, Стефен Соммерс\n",
      "Тревор Энгельсон, Ник Осборн\n",
      "Жун Х. Чой, Хак-Бем Ким, Кэтерин Ким\n",
      "ДЖон Голдвин, Лорн Майклз\n",
      "И.Николенко\n",
      "Оливье Дельбок, Вансан Мараваль, Марк Миссонье, Гаспар Ноэ\n",
      "Скотт Аверсано, Джейсон Голдберг, Майк Карц, Эштон Катчер\n",
      "ЗАО \"П-2\"\n",
      "Эндрю Адамсон, Дуглас Гришем, Марк Джонсон\n",
      "Театро Реал\n",
      "Е.Яцура\n",
      "Брэд Майкл Гилберт, Билл Перкинс, Селин Рэттрэй\n",
      "Анна Бьерк, Франсуа-Хавьер Франц, Петри Йокиранта\n",
      "Кен Бейли, Эндрю Петерсон, Элизабет Редлиф, Майк С.Райан, Марк стил, Деррик Тсенг, Кристин К.Уолкер\n",
      "Летиция Гонзалез, Яэль Фогель\n",
      "Фредерик Викстрём, Джессика Аск, Франк Бонн, Гуннар Карлссон, Майкл Хьерт и др.\n",
      "Джоэл Силвер\n",
      "Брюс Берман, Джоэл Силвер, Грант Хилл\n",
      "Брюс Берман, Джоел Сильвер, Грант Хилл\n",
      "Брюс Берман, Джерри Вайнтрауб, Джон Харди, Сьюзан Экинс\n",
      "Стив Ричардс\n",
      "Майкл Патрик Кинг, Джон П.Мэлфи, Джонатан Филле\n",
      "Вольфганг Петерсон, Дайана Рэтбен, Колин Уилсон\n",
      "Акива Голдсман, Джеймс Лесситер\n",
      "Анна Копелсон, Арнольд Копелсон, Арнон Милчан\n",
      "Билл Миллер, Джордж Миллер, Даг Митчелл\n",
      "Грем Берк, Брюс Берман, Фелисити Даль, Патрик МакКормик, Майкл Сиджел\n",
      "Барри Зонненфельд, Джон Питерс\n",
      "Марк Гордон, Майкл Уимер, Роланд Эммерих\n",
      "Джеффри Сильвер, Бобби Ньюмайер\n",
      "Берни Голдманн, Марк Кэнтон, Джанни Нуннари, Джеффри Силвер\n",
      "Билл Гербер, Роберт Лоренц, Клинт Иствуд\n",
      "Энн Копелсон, Арнолд Копелсон\n",
      "Кэтлин Кеннеди, Фрэнк Маршалл\n",
      "Чарльз Роувен, Ричард Сакл\n",
      "Джейсон Баррет\n",
      "\"Фонд Михаила Калатозова\"\n",
      "В.Поляков, И.Задорин\n",
      "Марк Махон\n",
      "Л.Огородников, О.Андреев\n",
      "А.Двинская\n",
      "Джозеф Карачиоло младший, Шон Леви, Джош МакЛаглен \n",
      "Д.Писаревский\n",
      "Джон Х.Уильямс\n",
      "Майкл Де Люка, Райан Кавана\n",
      "Пол У.С.Андерсон, Джереми Болт, Дон Кармоди, Роберт Кулзер, Сэмюэл Хадида, Берндт Эйхингер\n",
      "Джон Джей Страус, Эрик Танненбаум, Энди Фикман\n",
      "Франческа Сима, Никола Джилиано, Андреа Оччипинти\n",
      "Скандер Копти, Моше Данон, Танассис Каратанос\n",
      "И.Снежинская, Г.Негашев\n",
      "Джозеф Боччиа, Джон Эрик Даудл, Дрю Даудл\n",
      "Патрик Кроули, Джимми Миллер\n",
      "Майкл Патрик Кинг, Сара Джессика Паркер\n",
      "З.Мирзаев, М.Курбангаджиев\n",
      "Мартин Скорсезе, Грэхэм Кинг, Сара Фергюсон\n",
      "Пьер Ассео, Стеффен Аумюллер, Мишель Бенаруа и др.\n",
      "Акива Голдсман, Джоэл Сильвер\n",
      "Джон Коэн, Кристофер Милидандри\n",
      "Кэтрин Бозорган\n",
      "Эндрю Лазар, Поли Джонсен\n",
      "Джун-донг Ли, Чанг-донг Ли, Эндрю Фирберг\n",
      "Уилл Фаррел, Крис Хенчи\n",
      "Доменико Прокачи\n",
      "А.Гончаренко, С.Кальварский\n",
      "М.Имамов\n",
      "Диди Гарднер\n",
      "Лора Хастингс-Смит, Элисон Оуэн, Пол Триджбитс\n",
      "Сорен Стэмозе\n",
      "Дженнифер Джибгот, Эрик Фейг, Эми Херман\n",
      "Джерри П.Джейкобс, Питер Сафран\n",
      "А.Гундоров, А.Малечкин, С.Линников\n",
      "Р.Шарабидзе, И.Поршнев\n",
      "Джина Галло, Мими Майнард, Доминик Парис\n",
      "Марк Абрахам, Томас А. Блисс, Эрик Ньюман, Элай Рот\n",
      "Энн Кэри, Джордж Клуни, Джилл Грин, Грант Хеслоу\n",
      "Дениэл Кларк, Шон Уильямсон, Уве Болл, Волфганг Герольд\n",
      "Пол Бэлс, Дэвид Римави, Дэвид Майкл Латт\n",
      "В.Быркин\n",
      "Оливер Ауспитц, Джеффри Д.Вандервин, Андреас Камм, Ян Мойто, Курт Мрквичка\n",
      "Фабьен Вонье, Мишель Сейду\n",
      "Джоан Кабальда Банага, Жан Казе, Чу Чен Оун\n",
      "Лили Брайт, Чад Буррис, Анна Эрикссон\n",
      "Клинт Иствуд\n",
      "Гэри Барбер, Роджер Бирнбаум\n",
      "Илмар Рааг, Риина Силдос\n",
      "А.Егорычев\n",
      "Кейт Голдберг, Роберт Симонс\n",
      "Лаури Апелиан, Клайв Баркер, Питер Грэнджер-Беван\n",
      "Джадд Апатов, Дэвид Л.Бушелл, Родни Ротман\n",
      "И.Толстунов, К.Эрнст\n",
      "Нил Бергер, Стеффен Аумюллер, Билл Блок\n",
      "К.Хрестинин, Ж.Хрестинина\n",
      "Борис Ташков, Робертас Урбонас\n",
      "Джеймс Гей-Рис, Хаим Д'Круз\n",
      "Джон Албанис, Джон Кьюсак, Грэйс Лох\n",
      "Малика Брахми, Зигмунд Гревениг, Майкл Келмел\n",
      "Дон Кемпф, Стив Кемпф, Дэвид Джон Маркс\n",
      "С.Сенин\n",
      "Х.Тимергалиева\n",
      "Марк Дю Понтави, Дидье Люфер\n",
      "Я.Трофимова\n",
      "Джэ Чои, Кэтрин Ким, Мики Ли\n",
      "Майкл Бэй, Эндрю Форм, Бредли Фуллер\n",
      "Зарех Налбандьян\n",
      "Джейсон Гитер, Уильям Пекер, Ти Ай\n",
      "Джейсон Блан, Орен Пели\n",
      "Э.Давлетшина\n",
      "Марк Льюис, Джефф Сколл\n",
      "Рене Бессон, Дэнни Димборт, Уилл Френч\n",
      "Жан-Батист Дюпон, Ариэль Зейтун, Сирил Кольбо-Жюстен, Юбер Туан, Поль Фонтен\n",
      "Инжинио Страффи, Франческо Мастрофини, Джоэнн Ли\n",
      "Жан Думаньян\n",
      "Адам Беттеридж, Деррик Борте\n",
      "Кэтрин Вонг, Паскаль Вонг, Франсуа Мантелло\n",
      "Франк Коро, Ив Шевалье\n",
      "Натали Марисано, Мишель Чиджик Сова\n",
      "В.Хижнякова\n",
      "Паула Вейнстейн, Барри Левинсон\n",
      "Ашок Амритрадж, Денис Ди Нови\n",
      "Брэд Грэй, Элли Самаха\n",
      "Р.Давлетьяров, А.Котелевский, Е.Аманшаев\n",
      "С.Соловьев\n",
      "Альваро Аугустин, Пилар Бенито, Присцилла Бертин\n",
      "Эрик Андерсон, Мартин Дж.Бараб, Рич Кауэн\n",
      "Марти Бовэн, Вик Годфри, Такер Тулей\n",
      "В.Бажин\n",
      "Эндрю Лазар, Ар Шариат\n",
      "ООО \"Форвард-Фильм\"\n",
      "О.Руднов\n",
      "Роберт Саймондс\n",
      "Е.Зобов\n",
      "Альваро Агустин, Фернандо Бовэйра \n",
      "Майкл Барнатан, Марк Морган, Томас М.Хэммел\n",
      "И.Малкин\n",
      "Тим Хэдингтон, Грэхэм Кинг\n",
      "А.Максимов, К.Эрнст, Л.Верещагин\n",
      "Л.Кукоба, Р.Атоян\n",
      "Е.Имамова, Ю.Беленький\n",
      "Гу Шучжэнь, Ли Суэфан\n",
      "Адриан Гуерра, Питер Сафран\n",
      "Клара Беверли, Альваро Лонгария, Хулио Медем\n",
      "Боб Балабан, Дэвид Ливай, Роберт Олтман\n",
      "Д.Астрахан, А.Васильков\n",
      "Пол Брукс, Барри Джосефсон\n",
      "Кристиан Джеймс Андерсон, Лайам О'Доннелл,Колин Штраус, Грэг Штраус \n",
      "А.Атанесян, А.Кириллин, Л.Тарасов\n",
      "Кейси Сильвер\n",
      "Марио Искович, Уитни Хьюстон, Дебра Мартин Чейз\n",
      "Тодд Либерман, Брайан Роббинс, Майкл Толлин\n",
      "Люк Бессон, Эммануэль Прево\n",
      "И.Пелинский\n",
      "Бэрри Мендел, Сэм Мерсер, М.Найт Шьямалан\n",
      "П.Хет, М.Шлихт, А.Атанесян, М.Бабаханов, О.Чирихина\n",
      "Джулио Фернандез\n",
      "Опра Уинфри, Ли Даниэлс, лайза Кортес\n",
      "Жуль Дэйли, Стефен Дж.Кэннелл, Росс Фанджер\n",
      "В.Пендраковский\n",
      "Билл Баннерман, Марти Бауэн, Вик Годфри\n",
      "К.Эрнст\n",
      "Д.Белоусов\n",
      "Тим Беван, Линдсей Доран, Эрик Феллнер\n",
      "Шон Дэниэл, Рик Йорн, Скотт Стубер, Бенисио Дель Торо\n",
      "Гаэль Гарсия Берналь, Пабло Круз\n",
      "Крис Браун, Брайан и Шон Ферст\n",
      "О.Барковская\n",
      "В.Наумов \n",
      "Е.Любинский\n",
      "И.Угольников, П.Смирнов\n",
      "Лори МакДоналд, Уолтер Ф.Паркес\n",
      "С.Скоморохов\n",
      "Летти Аронсон, Стефен Тинненбаум, Хауме Рурес\n",
      "Ли Донюн\n",
      "В.Железников, С.Ершов, М.Литвак, Л.Литвак\n",
      "Гилберт Адлер, Джон Питерс, Брайан Сингер\n",
      "М.Бабаханов, Е.Борисова, Н.Горшкова\n",
      "Т.Вайнштейн, Р.Атамалибеков, С.Шумов\n",
      "Крис Болзли, Клоди Оссар\n",
      "Бильяна Лабович, Билл Плимптон, Стив Тенхонен\n",
      "Алисон Оуэн, Пол Трибитс, Трейси Сиворд\n",
      "Ю.Коновалов\n",
      "А.Тельнов \n",
      "В.Антонов, А.Литвинов\n",
      "Тьерри Гиллиам, Эми Гиллиам, Сэмюэл Хадида\n",
      "Принц Файзал С.Аль-Сауд, Стефани Калеб, Кевин Корниш\n",
      "Кристиан Колсон, Ивана МакКиннон, Нил Маршалл\n",
      "С.Сельянов, В.Ряшин\n",
      "Клод Берри, Жером Сейду\n",
      "А.Костина\n",
      "Клаудия Антонуччи, Камилла Несбитт, Пьетро Вальсекки\n",
      "Майкл Бергман, Мартин Бергман, Дэн Джинкс\n",
      "Гари Барбер, Роджер Бирнбаум, Джонатан Гибгот\n",
      "Бродерик Джонсон, Джоэл Силвер\n",
      "Джеффри Клиффорд, Джо Медьяк, Айвен Райтман, Симона Урдл, Дженнифер Уайсс\n",
      "В.Глухов, В.Драганов\n",
      "Питер Блок, Аманда Иззик, Джейсон Ричард Миллер, Кори Нил\n",
      "Арнольд Рифкин, Джон Мистер Таерман, Брюс Уиллис, Михаэль Фоттрел\n",
      "Ричард Сакай, Майк Скули, Крейг Сост\n",
      "Эрви Арад, Майкл Барнатан, Крис Коламбус, Ральф Уинтер, Бернд Эйхингер\n",
      "Бернд Айхингер, Ави Арад, Ральф Винтер\n",
      "Самуэль Голдвин младший, Джон Бард Мэнулис, Питер Уир, Дункан Хендерсон\n",
      "Дэвид Гиллер, Джон Дэвис, Гордон Кэрролл, Уолтер Хилл\n",
      "Лиза Брайер, Андреа Колдервуд, Кристин Рупперт, Чарлз Стилл\n",
      "Андрей Макдональд, Элан Рич, Скотт Рудин, Роберт Фокс\n",
      "Рик Макколлум\n",
      "Рик МакКаллом\n",
      "Рик МакКалум\n",
      "Финн Гьердрум, Пер Генри Надсен, Стейн Б. Квае\n",
      "Филипп Бобер, Эрик Хеммендорф, Мари Кьельсон\n",
      "А.Гутман\n",
      "Эхуд Блейберг, Эдуард Доуэк, Иоав Зейеви\n",
      "А.Ризванова\n",
      "С.Бухараева\n",
      "Н.Хайнов\n",
      "А.Максимов, К.Эрнст\n",
      "О.Степаненко, А.Кушаев\n",
      "Н.Бондарчук\n",
      "Жан-Пьер Жене, Гильом Лоран\n",
      "М.Найт Шьямалан\n",
      "Мари Парент , Скотт Стубер\n",
      "Тереза Ченг, Джина Шэй\n",
      "ООО \"Киностудия \"Никола-фильм\"\n",
      "Гэри Луккези, Эйми Робинсон, Том Розенберг\n",
      "Эрик Хьюманн\n",
      "Шон Бэйли, Стивен Лисбергер, Джеффри Силвер\n",
      "Гейл Катц, Вольфганг Петерсен, Пола Уэйнстайн\n",
      "Сандра Буллок\n",
      "Роберт Л.Леви, Эндрю Пэней, Питер Эбрамс\n",
      "Стив Старки, Роберт Земекис\n",
      "Пола Вагнер, Том Круз, Маршалл Херсковиц, Эдвард Цвик\n",
      "Дональд Ди Лайн\n",
      "Диана Покорни, Йен Софтли\n",
      "Марк Кантон, Джерри Лучези, Том Розенберг\n",
      "Кристиан Арнольд-Бьютел, Скотт М.Боджио, Виллиам Браун, Девон ДеЛапп\n",
      "Гарри Лукези, Ричард Райт, Том Розенберг, Скип Уильямсон\n",
      "Дэвид Бурла, Брюс Дэвей, Уильям Чэн\n",
      "Майкл Берроу, Пол Берроу, Сэмюэл Хадида\n",
      "Джон Л.Джекобс, Жиль Неттер\n",
      "Марко Уэбер\n",
      "Амандин Било, Алан Шаба\n",
      "Эрик Фейг, Пол Хеллерман\n",
      "Евгения Грандваль, Оливье Дебоск, Пол Хаггис\n",
      "Кристофер Нолан, Эмма Томас\n",
      "С.Муазен, А.Ремизова\n",
      "Е.Гликман, Я.Живов, А.Учитель\n",
      "В.Кречетова, А.Васильев\n",
      "А.Щербович-Вечер\n",
      "Филипп Каркассонне, Джэйк Эбертс, Джинко Готох\n",
      "Алекс Гартнер\n",
      "ООО \"СинеПро\", ЗАО \"ПЦ \"Парадиз\"\n",
      "А.Михайлов, Б.Бартник\n",
      "Кеес Касандер, Лизетт Кельдер, Кристин Ланган, Дэвид М. Томпсон\n",
      "Рафаэль Бенолиель\n",
      "Уоррен Зайд, Крейг Перри\n",
      "Джеймс Вонг, Уоррен Зайд, Гленн Морган, Крейг Перри\n",
      "Питер МакГрегор-Скотт\n",
      "Чарльз Роувен, Эмма Томас\n",
      "Серджио Агуэро, Кэрри Хейсен\n",
      "Джейн Розенталь, Пола Уейнстейн\n",
      "Эллиот Кестнер, Стивен Рютер, Эрвин Стофф, Дебора Эйал\n",
      "Джилберт Адлер, Роберт Земекис, Джоэл Сильвер\n",
      "Шон Бейли, Тед Гриффин, Джек Рапке, Ридли Скотт, Стив Старки\n",
      "Кэтлин Кеннеди, Бонни Кёртис, Стивен Спилберг\n",
      "Крис Дефариа, Уоррен Зайд, Эндрю Лазар, Крейг Перри\n",
      "Джонатан Д.Крейн, Джоэл Сильвер\n",
      "Лоренс Кэздан, Чарлз Окун\n",
      "Энгус Эйнсли, Алекс Маршалл, Файзал А. Куреши\n",
      "Ник Векслер, Кристоф Рианди, Месси Таджедин\n",
      "Жан-Батист Дюпон, Сирил Колбо-Жустин, Доминик Фарруджиа\n",
      "Лиза Хансен, Пол Херцберг\n",
      "Бэйзил Айваник, Кевин Де Ля Ной\n",
      "Гэри Готсман, Джон А.Дэйвис, Том Хэнкс\n",
      "Клинт Иствуд, Стивен Спилберг\n",
      "Н.Горяинова\n",
      "Кип Конвайзер, Стефани Квонг и др.\n",
      "Р.Давлетьяров, А.Котелевский, А.Новиков, А.Олейников\n",
      "Марк Кубан\n",
      "Пол Хоган, Лэнс Хул\n",
      "Крис Бендер, Вильям Винсе, Вильям Джонсон, Михаэль Оховен, Д.С.Спинк\n",
      "Роджер Дональдсон, Гарри Ханам\n",
      "Оливер Делбоск\n",
      "Жан-Клод Ван Дамм, Эвзен Килар\n",
      "Мартин Катз, Дэвид Фуниш, Стив Гамильтон Шоу\n",
      "Лорен Ливайн, Хэл Либерман, Дэвид Паттерсон\n",
      "Патрик Вачсберг, Дженнифер Джибгод, Эрик Фейг, Адам Ченкман\n",
      "Моше Диамант, Эли Самаха, Джанина Фассио, Лиза Элзей\n",
      "Роберт Бернакки, Андрей Бонкеа, Том Фокс\n",
      "Дан Лин\n",
      "Марк Барг, Орен Коулес\n",
      "Марк Бург, Грегг Хоффман, Орен Коулес\n",
      "Марк Бург, Орен Коуленс\n",
      "Марк Берг, Орен Каулз, Грегг Хоффмэн\n",
      "Марк Бутан, Марк Уолберг, Ник Уэтчлер, Хоакин Феникс\n",
      "Керри Орент, Сидни Поллак, Стив Самуэль, Дженнифер Фокс\n",
      "Пол Ванг, Томас К.Грэй, Гален Уолкер\n",
      "Эрик Фейг, Анне Флетчер\n",
      "Сара Грин, Сальма Хайек\n",
      "Джефф Мейнард, Крэйг Мэзин\n",
      "Марк Морган, Грэг Мурадян, Карен Розенфелд\n",
      "Дон Кармонди, Самуэл Хадида\n",
      "Сара Обрей, Джон Камерон\n",
      "Элизабет Авеллан, Роберт Родригес, Эрика Стейнберг, Квентин Тарантино\n",
      "Эндрю Биркин, Бернд Эйхенгер, Мартин Московиц\n",
      "Роберт К.Уэйсс\n",
      "Билл Блок, Пауль Хэнсон\n",
      "Эрик Л.Голд\n",
      "Роберт Бенмусса, Роман Полански, Алан Сард\n",
      "Паскаль Кошето, Джефри Сильвер\n",
      "Алиса М.Кантроу, Карен М.Мерфи\n",
      "Джон Д.Ираклис, Макс Ховард\n",
      "Джошуа Донен, Джозеф Дрэйк, Грант Кертис\n",
      "Дрю Берримор, Бен Стиллер\n",
      "Элизабет Авеллан, Эрика Стенберг, Квентин Тарантино\n",
      "Роберт Родригес, Элизабет Эвелан\n",
      "Элизабет Авеллан, Роберт Родригес\n",
      "Элизабет Авиллан, Роберт Родригес\n",
      "Лоуренс Бендер, Сара Грин\n",
      "Гэри Гетцман, Том Хэнкс\n",
      "Фрэнк Миллер, Роберт Родригес\n",
      "Стив Голин, Алехандро Гонсалес Иньярриту, Джон Килик\n",
      "Дэниэл Бобкер, Чарльз Ровен\n",
      "Джон Ву, Теренс Ченг\n",
      "Сэмми Ли, Майкл А.Пирс, Бретт Раттнер\n",
      "Венди Файнерман, Джеймс Холлонд\n",
      "Кюрин Берг, Томас Цимклер\n",
      "Р.Гигинеишвили\n",
      "Рита Русик\n",
      "Ричард Кристал, Сьюзан Хоффман, Барбет Шрёдер\n",
      "Паула Ванштейн, Бен Косгроув\n",
      "Майкл Бэй, Йан Брайс, Лори МакДоналд, Уолтер Ф.Паркис\n",
      "Кристофер Нолан, Аарон Райдер, Эмма Томас\n",
      "Брюс Девей\n",
      "Брюс Берман, Дин Девлин\n",
      "Стив Старки\n",
      "Стивен Рютер, Дейвид Фостер\n",
      "Дрю Бэрримор, Майкл Бегг\n",
      "Эрмиан Бернштейн, Джонатан Шестак\n",
      "Е.Буйнова\n",
      "М.Кукушкин, А.Тарасов, А.Торопцев\n",
      "В.Музыченков\n",
      "И.Юткина, Е.Гришковец, А.Орлов\n",
      "Джей Джей Абрамс, Брайан Берк\n",
      "Итэн Коэн, Джоэл Коэн, Скотт Рудин\n",
      "ООО \"План2Реал\", ФГУП \"Киноконцерн \"Мосфильм\"\n",
      "Кристиан Гань, Оливье Дебоск, Кристиан Ларош, Марк Миссонье\n",
      "Майк Медавой, Арнольд У.Мессер\n",
      "Джоел Сильвер\n",
      "Джулиус Р.Нассо, Стивен Сигал\n",
      "Чарльз Малвехилл, Тейлор Хекфорд\n",
      "Джим Ван Вик, Джоэл Сильвер\n",
      "Роджер Бирнбаум, Артур Саркисян\n",
      "Ларри Вачовски, Энди Вачовски, Джоэл Сильвер, Грант Хилл\n",
      "Патрик Палмер, Уэсли Снайпс, Питер Франкфурт\n",
      "Эдвард Л.Макдоннелл, Дэниз Ди Нови\n",
      "Джек Блек, Джон Девис, Бен Кули\n",
      "Питер Дел Веко\n",
      "Тим Бартон\n",
      "А.Потемкин\n",
      "Патрик Риззотти, Джули Ричардсон, Бретт Форбс\n",
      "Жан-Луи Ливии, Джули Сальвадор\n",
      "Алан С. Бломквист, Дж. П.Уиллиамс\n",
      "Олег Кохан\n",
      "А.Манасарян, Г.Нерсисян\n",
      "О.Васильева, Ю.Глоцер\n",
      "Сергей Конов, Александр Шишкин, Стефен Немет\n",
      "А.Подсохин\n",
      "Гэри Барбер, Риджер Бирнбаум, Джонатан Гликман, Грэм Кинг, Тим Хэдингтон\n",
      "Джек Джаррапуто, Роберт Саймондз\n",
      "Лоренцо ди Бонавентура\n",
      "Элберт Бергер, Рон Йеркса, Сидни Поллак, Уильям Хорберг\n",
      "Роберт Симондс\n",
      "Рикардо Местерс, Джон Хьюджис\n",
      "Брайан Де Пальма\n",
      "В.Елизаров\n",
      "Комунале\n",
      "Опера Нидерландов\n",
      "Анджело Барбагалло, Шарль Жильбер, Марин  Кармитц, Натаниэдь Кармитц, Аббас Киаростами\n",
      "Дэвид Липмен, Джон Г.Уильямс, Эрон Уорнер\n",
      "Джон Уильямс, Арон Уорнер\n",
      "М.Шлихт, П.Хэт, А.Гаспарян, Г.Харламов\n",
      "Лиз Глотзер, Мартин Шафер\n",
      "Брюс Берман, Клинт Иствуд, Джуди Хойт\n",
      "Альберт Бергер, Рон Йеркса, Тодд Филд\n",
      "Майк Каллахан\n",
      "Питер Жан Брюгге,  Маршалл Херсковиц, Чарльз Рэндолф\n",
      "Николь Кидман, Гиги Притцкер, Пер Саари, Лесли Урдэнг, Дин Ванеч\n",
      "Д.Лесневский\n",
      "М.Ибрагимбеков, А.Швыдкой, Д.Шуфутинский\n",
      "А.Сигле, С.Ершов\n",
      "Фатих Акин, Клаус Маек\n",
      "Г.Белинская\n",
      "Гиоргос Лантимос, Ираклис Мавроидис, Гиоргос Тсурианис\n",
      "Кристин Ланган, Паула Жальфон, Руперт Престон\n",
      "Дженнифер Джейсон Ли, Скотт Рудин\n",
      "Роберт Энгелман\n",
      "Кэрролайн, Куннингхэм, Питер Джексон\n",
      "В.Мартенс\n",
      "О.Урушев\n",
      "Полли Джонсен, Марк Платт\n",
      "В.Бердочкин\n",
      "Кристина Ларсен\n",
      "Джеки Чан, Солон со\n",
      "Скотт Крупф, Эрика Хаггинс\n",
      "Дэниз Ди Нови, Роберт Торн\n",
      "Сэм Мерсер, Манодж Найт Шьямалан\n",
      "Шон С.Каннингем\n",
      "Роберт Земекис, Джоэл Сильвер\n",
      "Уолтер Ф.Паркес, Дейв Валдес\n",
      "Сьюзан Дауни, Джоэл Силвер\n",
      "Сьюзан Монтфорд\n",
      "Акива Голдсман, Тони Людвиг, Алан Ричи\n",
      "Гэри Дэйвид Голдберг, Дженнифер Тодд, Сьюзан Тодд\n",
      "Стивен Браун\n",
      "Вин Дизель, Джозеф Нитолло, Винсент Ньюман, Такер Тули\n",
      "Алан Звайбель,  Джесси Нельсон, Роб Райнер\n",
      "Крейг Задан, Нил Мерон\n",
      "Брюс Берман\n",
      "Дин Девлин, Лорен Ллойд\n",
      "Бо Флинн, Трипп Винсон, Джей Стерн\n",
      "Джейн Розенталь\n",
      "С.Пучинян\n",
      "Е.Сергеенко\n",
      "Г.Пунинский, Е.Писарева\n",
      "О.Осипов, Т.Вайнштейн\n",
      "Нил Мориц\n",
      "Джордж Лукас, Кэтрин Уиндер\n",
      "Брэд Лафф, Нил Х.Моритц\n",
      "Ричард Доннер, Джоэл Силвер\n",
      "Кэйл Бойтер\n",
      "Джеймс Л.Брукс, Пола Вайнштайн, Лоренс Марк, Джули Энселл\n",
      "Бен Браунинг, Джеймс Кэмерон, Лиса Кан\n",
      "Брайан Оливер, Джозеф П.Рейди, Джон Эвнет\n",
      "Бернард Беллью, Тесса Росс, Гаррет Смит\n",
      "Театро Комунале\n",
      "Глайндборнский фестиваль\n",
      "Театр Лисеу\n",
      "Бродерик Джонсон, Эндрю А.Косове\n",
      "Нил Эдельштейн, Майк Макари\n",
      "Юсаф Бохари, Веран Фредиани, Жерардо Херреро\n",
      "Дэймон Брайан, Йоко Лайтл, Джастин Лэнчбери, Стив Милн, Дин О.Тул\n",
      "Майкл Буген, Эндрю Мэйсон\n",
      "И.Багжанов\n",
      "Кувин Фейдж\n",
      "Джоэн Коэн, Кристофер Меледандри\n",
      "Аурелио Де Лаурентис, Луиджи Де Лаурентис младший\n",
      "Джудд Апатоу, Бэрри Мендел, Клэйтон Таунсенд\n",
      "Джошуа Донен, Майкл Де Лука, Митчелл Пек, Сэм Рейми\n",
      "Вим Вендерс\n",
      "Алан Голдман, Кэтрин Морисси\n",
      "Пол Брюлс, Катерина Ванделин, Михаэль Джон Федун\n",
      "Джоан Колинз Кэри, Морис Канбар\n",
      "Дэвид Добкин, Джозеф М.Карачиоло младший, Нил Х.Мориц\n",
      "Петро Серапиглия\n",
      "Джессика Брентналл\n",
      "Том Энгельман\n",
      "Пола Вагнер, Том Круз\n",
      "Карэн Элис Болдуин, Ховард Болдуин\n",
      "Дэнни Де Вито,Майкл Шемберг,Стэйси Шер\n",
      "Питер Беннет-Джонс, Тим Биван, Эрик Фелнер\n",
      "Фрэнсис Форд Коппола, Джули Костанзо, Крис Хэнли\n",
      "Йэн Брайс,Марк Гордон,Гари Левинсон,Стивен Спилберг\n",
      "Даглас Уик, Люси Фишер\n",
      "Клэр Дженнингс, Мэри Сэнделл\n",
      "Жан-Жак Мантелло\n",
      "Роберт Земекис, Джек Рэпке, Стив Старки, Том Хэнкс\n",
      "Эрик Холмберг, Шейла Хэнэхен\n",
      " И.Гелашвили\n",
      "И.Гелашвили \n",
      "Н.Михалков, Л.Верещагин, Д.Месхиев, Ю.Сапронов, А.Смирнов\n",
      "С.Даниелян, Д.Фролов\n",
      "Тунье Бернс, Дэвид Грюмбах, Самир, Пол Тильтгес\n",
      "Николя Бревье, Марселло Бюссе, Маркус Халбершмидт\n",
      "Адам Болинг, Дин О.Туле, Дэвид Рэйд\n",
      "Кристиан Дави, Кристоф Нерахер, Антонин Свобода\n",
      "В.Глухов, А.Голутва\n",
      "А.Грязнова, Н.Романов, И.Черницкий\n",
      "Эндрю З.Дэвис, Скотт Стабер, Марк Хаффам\n",
      "Венская государственная опера\n",
      "Мариинский театр\n",
      "Стив Адамс, Дэвид Д.Вудс, Пол Ли, Джеймс Му, Элисон Рейд, Пол Цимик\n",
      "Мэттью Лилард, Мариус А.Маркевичус, Линдси Стидхэм, Джонатан Шварц\n",
      "Хулио Фернандез\n",
      "Дерек Керл, Лэрри Фессенден, Адам Фок, Питер Фок\n",
      "Хонг Джунг-пьё\n",
      "Панчо Касал, Алекс Коллс, Чело Лурейро\n",
      "Сиднейская Опера\n",
      "Викки Бетихавас, Стивен Карси, Стивен Маркс, Майкл Флэтли, Кит Хокинс\n",
      "Мелисса Баттс\n",
      "Стюарт Корнфелд, Джереми Крамер, Бен Стиллер\n",
      "ООО \"Синема+\"\n",
      "Брайан Грэйзер, Брайс Даллас Ховард, Рон Ховард\n",
      "Келли Броад, Воган Сивелл\n",
      "Стефан Лоу, Пьетро Л.Серапилья\n",
      "Паскаль Арнольд, Жан-Марк Барр, Тедди Вермолин\n",
      "Томас Вебке, Габриэль Уолтер, Роланд Эммерих\n",
      "Жан-Поль Де Видас, Франсуа Краус, Клод Лелуш\n",
      "Принц Файзал С. Файзан Аль-Сауд, Марк Дэймон, Майкл Мэйлер\n",
      "Мета Луиза Фольдагер, Луиз Вест\n",
      "Тодд Гарнер, Джек Джаррапуто, Кевин Джеймс, Адам Сэндлер\n",
      "Уилл Глак, Лиз Глотцер, Дженет Закер, Джерри Закер, Мартин Шэйфер\n",
      "Мэтт Баррелл\n",
      "А.Максимов, К.Эрнст, Т.Бекмамбетов\n",
      "Мэри Бурк, Энди Стебблинг, Марк Херберт\n",
      "Сантьяго Сегура, Мария Луиза Гутиеррез\n",
      "Лех Майевски, Джорж Лекович\n",
      "Элвин Лам, Оксид Пан, Дэнни Пан\n",
      "А.Новиков, Г.Куценко, В.Шамиров,  К.Юшкевич\n",
      "А.Максимов, Д.Файзиев\n",
      "Л.Барац, Р.Хант, С.Петрейков, А.Цекало\n",
      "Валентин Гротерт, Саймон Хессе, Стефан Барт\n",
      "Венг Жонг Лей\n",
      "Эрвин Годсхалк\n",
      "Александр Шейн, Георгий Лордкипанидзе, Пандора да Кунха Теллес\n",
      "Бродерик Джонсон, Эндрю А.Косов, Аарон Любин\n",
      "Джимми Миллер\n",
      "Дерек Дочи, Джон Дэвис, Джонатан Фили\n",
      "С.Мелькумов, А.Роднянский\n",
      "Моше Дайамант\n",
      "Кортни Соломон, Франклин А. Валлетте, Стефани Калеб\n",
      "Нина Джейкобсон\n",
      "Саид Бен Саид, Ив Мармион, Соня Шиллито\n",
      "Сэм Балдони, Майл Куан, Уилфред Тшу, Майк Эрвин\n",
      "Джим Бирмант, Кристоф Одежийс, Оливер Герпиллон\n",
      "Мартин Мариньяк, Олег Кохан\n",
      "Хайно Декерт, Олег Кахан\n",
      "Майкл Джей Гаэта, Майкл Де Лука, Элисон Р.Розенцвайг\n",
      "Натали Гастальдо, Филипп Годо\n",
      "Руперт Престон, Люсинда Уайтели\n",
      "А.Сафронов, О.Степанцова\n",
      "А.Голутва, А.Зуев\n",
      "Н.Калеткин, А.Нахимсон, О.Моисеенков\n",
      "Д.Гинзбург, В.Гинзбург\n",
      "Эмилио Диез Баррозо, Нил Эдельштейн, Майк Макари\n",
      "Д.Рудовский, Ф.Бондарчук\n",
      "Денис Рим\n",
      "Деде Гарднер, Сара Грин, Уильям Полад\n",
      "Штефан Арндт\n",
      "Рут Уолбургер, Лионнелло Черри\n",
      "Ален Бенгиги, Томас Верхак\n",
      "Рик Джаффа, Дилан Кларк, Аманда Сильвер\n",
      "Дебора Снайдер, Зак Снайдер\n",
      "Брэдли Томас, Бобби Фаррелли, Питер Фаррелли\n",
      "Крис Бендер, Скотт Будник, Томас Талл\n",
      "С.Сельянов, С.Даниелян, Д.Фролов\n",
      "А.Орлов, И.Волошин\n",
      "Уэйн Аллан Райс\n",
      "Марти Адельштейн, Лесли Холлерэн, Скотт Немес\n",
      "Вин Дизель, Нил Х.Мориц, Майкл Фоттрелл\n",
      "Тимур Бекмамбетов, Мишель Волкофф\n",
      "Наталья Иванова, Евгений Пашкевич\n",
      "Тосимити Оцуки\n",
      "Мелисса Кобб, Джонатан Айбел, Гленн Бергер\n",
      "М.Боярский, С.Сельянов\n",
      "Майкл Джаффе, Майкл Манн, Билл Блок\n",
      "Крис Бриггс, Майк Флайсс, Линетт Хауэлл\n",
      "Джо Дженкс, Кори Мооса, Закари Куинто\n",
      "Минами Ичикава\n",
      "Иисус Кабальеро\n",
      "Джефф Бродстрит, Элайджа Дреннер, Инго Юхт\n",
      "Фифти Сент, Рэндолл Эмметт, Джордж Ферлэ\n",
      "Доминик Брюннер, Шарль Гассо\n",
      "Дэвид Мимран, Киану Ривз, Джордан Шур\n",
      "Джорджина Лоу\n",
      "Кевин ДеВольд, Оливер Хенгст, Элихзабет Ванг Ли\n",
      "Джейн Розенталь, Паул Уэйнстейн\n",
      "Тони Кранц, Майкл Полэр, Ален Сард, Мэри Суини, Нил Эделстайн, Пьер Эдельман, Джойс Элиазон\n",
      "Джанет Янг\n",
      "Бретт Ратнер, Джэй Стерн\n",
      "Ричард Ди Занук, Скотт Рудин\n",
      "Е.Герасичева\n",
      "Пол У.С.Андерсон, Джемери Болт, Роберт Кюльзер\n",
      "Роберт Земекис, Шон Леви, Дон Мерфи, Сьюзан Монтфорд\n",
      "Роберт Лантош\n",
      "Пабло Круз, Филипе Гарсия Нараньо, Джонатан МакКой, Артуро Сампсон\n",
      "Робин Сип\n",
      "Кристофер Сколлар\n",
      "Розамунд Кинзлер\n",
      "Мэтью Маскери, Майкл Нарлок, Джейсон Хитон\n",
      "Йослин Скомер\n",
      "Майкл Буген, Тони Уиндли, Стив Чесмэн\n",
      "Амир Мадани, Кевин Файги\n",
      "Роберто Орси, Алекс Куртцман, Даймон Линделоф, Скотт Митчел Розенберг\n",
      "Марк Дамон, Патрик Демпси, Моше Диамант, Петер Сафран\n",
      "Сан Ли Джан, Эллиот Тонг\n",
      "Донна Джильотти, Алин Брош МакКенна, Скотт Фергюсон\n",
      "Эллен Голдсмит-Вейн, Даг Дэвисон, Дэн Лотнер\n",
      "Билл Перкинс\n",
      "Джеймс Д.Штерн\n",
      "Майкл Шамберг\n",
      "Мерседес Гамеро, Франциско Рамос, Алекс Пина, Даниэль Эсиха\n",
      "Джон Дэвис, Марк Гилл, Роберт Кац\n",
      "Шарль Жилльберт, Марин Кармиц, Натанаэль Кармиц\n",
      "Кристофер Янг\n",
      "Стив Пиграм\n",
      "Рене Бессон, Дэнни Димборт, Боаз Дэвидсон\n",
      "Элисон Гринспел, Денис ДиНови, Николь Кидман\n",
      "Барнеби Томпсон\n",
      "Т.Семенов\n",
      "Кэти Басби, Трип Винсон, Бо Флинн\n",
      "Майкл Де Лука, Брэд Питт, Рэчел Хоровиц \n",
      "Холли Вирсма, Авэ Лернер, Джон Томпсон\n",
      "Махмуд Орфали\n",
      "Уэсс Крэйвен, Ия Лабунка\n",
      "А.Меликян, Р.Дишдишян, С.Даниелян, А.Мовсесян, Д.Фролов\n",
      "С.Сельянов, Г.Константинопольский, А.Стриженов, А.Новиков, О.Степин\n",
      "Джил Неттер, Эрвин Стофф, Эндрю Р.Теннербаум\n",
      "Баварская государственная опера\n",
      "М.Воронков\n",
      "Джеймс Джекс,Шон Дэниел,Майкл Кэтон-Джонс\n",
      "Ли Клей\n",
      "Е.Гликман\n",
      "А.Гуськов, Ш.Арндт\n",
      "Клиффорд Вербер, Илисса Гудман, Хант Лоури, Дилан Селлерз\n",
      "Джесси Нельсон, Джоэл Силвер\n",
      "ООО \"ПС ТиВиСи\" Киностудия\"\n",
      "Сиссе Граум Олсен\n",
      "Лиза Маршал\n",
      "Гари Гоэцман, Том Хэнкс \n",
      "Сидони Дюма, Жан Коттен, Суад Ламрики\n",
      "К.Ситников, Е.Борисова, А.Остапко\n",
      "Марк Джонсон, Мелани Крис, Гильермо дель Торо\n",
      "ООО \"Продюсерская компания \"стАрт\"\n",
      "Роберт Лигер, Ларри Джей Франко, Роланд Эммерих\n",
      "Джек Джиарапутто, Хизер Пэрри, Адам Сэндлер\n",
      "С.Зернов, Е.Евстигнеева\n",
      "Стефани Калеб, Лоурен Ито, Люси Мукерджи\n",
      "Кортни Соломон, Стефани Калеб, Лоурен Ито\n",
      "ООО \"НОС\"\n",
      "А.Петрухин, ООО \"РФГ\", ООО \"ПС АНГАР-21\"\n",
      "Боря Пена\n",
      "Тошиаки Наказауа, Казуя Хамана\n",
      "Иван Анге, Иева Норвилене\n",
      "Аликс Медиган, Энн Роселлини\n",
      "Джекки Маркус, Джо Меджек, Том Поллок\n",
      "Шон Дэниэл, Дайана Филипс\n",
      "Станислав Ершов, Константин Орбелян, Бернхард Фляйшер\n",
      "Джони Депп, Грэм Кинг, Кристи Дембровски, Роберт Кравис\n",
      "ООО \"Леополис\"\n",
      "ООО \"Студия Легкие Люди\"\n",
      "Женевьева Лемаль, Жером Сейду, Эрик Юбер\n",
      "Сидни Киммел, Гари Лучези, Ричард С.Райт, Том Розенберг, Скотт Штейндорфф\n",
      "Жилль Уотеркейн, Фрэнк Хюбнер\n",
      "Яэль Бергман, Лаура Уотерс, Питер Хеллайар\n",
      "Джей Джей Абрамс, Брайан Берк, Стивен Спилберг\n",
      "Люк Бессон, Пьер-Анж Ле Погам, \n",
      "Летти Аронсон, Стефен Тененбаум\n",
      "Трин Хейдегаард\n",
      "Николас Фонсека\n",
      "Брайен Грацер, Карен Кехела, Бернард Уильямс, Майкл Врайт\n",
      "Ернар Маликов\n",
      "Стив Карелл, Дениз Ди Нови\n",
      "Н.Егорова, В.Мирзоев\n",
      "Доминик Фарруджия, Доминик Бруннер, Бенуа Де Лорм\n",
      "Скотт Рудин, Оле Сондберг, Сорен Стэрморс, Син Чаффин\n",
      "Л.Ткаченко\n",
      "Сем Хан Ли\n",
      "Рэйнолд Гидеон, Кевин Костнер, Джим Уилсон\n",
      "Стив Чэсмэн, Зиги Камаса, Дональд Кушнер, Брэд Уаймен\n",
      "Йен Брюс, Том ДеСнто, Лоренцо ди Бонавентура, Дон Мёрфи\n",
      "Дэмиан Чапа\n",
      "Андреа Андерсон, Табита Джексон, Ален Зеноу, Дэвид Маккилоп, Адриан Сиэффо, Молли Томпсон, Джудит Труман, Дэвид Хардинг, Джулиан Хобс\n",
      "С.Кучмаева\n",
      "Ю.Сапронов, А.Смирнов, Д.Месхиев, О.Аграфенина\n",
      "Лен Вайзмен, Гэри Луккези, Ричард С.Райт, Том Розенберг\n",
      "М.Пореченков, А.Перова, М.Королёв\n",
      "Энтони Брегман, Стефани Дэвис\n",
      "Ракель Каррерас, Хоакин Падро, Мар Тарганова\n",
      "Ксавье Риго, Марк-Антуан Роберт\n",
      "Рам Бергман, Тоби Магвайер, Джеймс Д.Стерн\n",
      "Сесил Крамер, Питер Лорд,  Дэвид Спрокстон\n",
      "Майкл Эллис, Памела Фальк, Линетт Хауэлл\n",
      "Грегори Гудман, Лорен Шулер Доннер, Саймон Кинберг\n",
      "Театр Ковент-Гарден, сэр Дональд Гордон\n",
      "Королевская опера Валонии\n",
      "Гари Барбер, Роджер Бирнбаум, Джонатан Гликман, Ник Голдсмит, Джей Роач\n",
      "Гэвин Полоун\n",
      "Россана Арау, Гарри Гилберт, Линда МакДонаф, Гиги Притцкер, Лиза Эллзи\n",
      "Джанни Тилтгес, Дэнис Фрэйд, Диана Элбаум\n",
      "Аллан Джонс, Кэти Уайсс, Джей Тодд Харрис\n",
      "Стив Голин, Кейт Рэдмон, Энн Рурк\n",
      "Джереми Бурдек, Алайн Гранджерард, Серж Де Пакс\n",
      "Агустин Альмодовар, Педро Альмодовар\n",
      "Ричард Ингбер, Бродерик Джонсон, Эндрю А.Косове\n",
      "А.Моисеев\n",
      "И.Эйсмонт, А.Кагадеев,  Н.Копейкин\n",
      "А.Цацуев\n",
      "А.Ремизова\n",
      "Асгар Фархади, Негар  Эскандарфар\n",
      "Стивен А, Тимур Бекмамбетов, Том Джейкобсон\n",
      "Люк Бессон, Оливье Бизе, Реми Бура, Андре Клевел\n",
      "Аншутц Интертейнмент Групп\n",
      "Эль Эм Дэ Продюксьон\n",
      "Джез Баттеруорт, Акива Голдсмэн, Даг Лайман, ДЖанет Зукер, Джерри Зукер\n",
      "Джон Балдечи, Лес Уэлдон, Боаз Дэвидсон\n",
      "Марк Кэнтон, Райан Кавано, Джанни Нуннари\n",
      "Род Лури, Марк Фрайдман\n",
      "А.Маладаев, Е.Замалиев\n",
      "Акихиро Ямаути, Ацухиро Иваками, Хироаки Сано\n",
      "Кэнтаро Ёсида, Юкико Коикэ\n",
      "Нил А.Мачлиз\n",
      "Королевский оперный театр Пармы\n",
      "Вэрриорз Дэнс Фестиваль\n",
      "Л.Калинская, А.Стриженов, Г.Меркулов, В.Алисов, Е.Гечмен-Вальдек, Н.Горшкова\n",
      "С.Кучмаева, А.Рагозина\n",
      "Эрик Вилстрап\n",
      "Майк Карц, Гарри Маршалл, Уэйн Райс\n",
      "Пол Дисон, Джули Силверман\n",
      "Алессандро Вердеччи, Лоренцо Вон Лоре, Дон Кармоди, Андреа Маротти, Андре Руле\n",
      "Дэниэл Бобкер, Йен Софтли,  Майкл Шамберг, Стейси Шер\n",
      "Эрик Ньюмэн, Ричард П.Рубинштейн, Марк Эбрахам\n",
      "Брайан Грейзер,Карен Кэхела\n",
      "Мэри Пэрент, Скотт Стабер, Оуэн Уилсон\n",
      "Питер Биллингсли, Стюарт М.Бессер\n",
      "Брюс А.Блок, Нэнси Майерс\n",
      "Тим Биван, Джи МакБраун, Лиза Чейзин\n",
      "Пола Вагнер, Кэмерон Кроу, Том Круз, Дональд Джей Ли младший, Энди Фишер\n",
      "Кевин Лоудер\n",
      "Лайла Казес, Энни Стюарт\n",
      "Скотт Рудин, Адам Шредер\n",
      "Джон Шофилд\n",
      "Линда Обст, Роберт Эванс\n",
      "Стефани Калеб, Лимор Дайамант, Моше Дайамант\n",
      "Уоллес Бальбоа, Джастин Бальдони, Этан Кашинг\n",
      "Закари Ти Брайан, Кристофер\n",
      "Летти Аронсон, Стивен Тетенбаум, Брахим Чиоуа\n",
      "Трэйси Бекер, Джуди Каиро, Сара Кертис\n",
      "Арри Ворсмит, Франс Ванн Гестель, Ричард Клаус, Майк Орэ\n",
      "Майкл Редфорд\n",
      "Макато Синкай\n",
      "Джонни Депп, Тим Хэдингтон, Грэм Кинг, Мартин Скорсезе\n",
      "Люк Роут, Роберт Салерно, Дженнифер Фокс\n",
      "Брайан Питер Фальк, Билл Холдермэн, Роберт Редфорд\n",
      "Майкл Мэнн, Джули Ричардсон\n",
      "Рональд М.Бозмэн, Скотт Рудин\n",
      "Лоуренс Гордон, Ллойд Левин\n",
      "Колин Уилсон, Лоуренс Гордон, Ллойд Левин\n",
      "Оливер Бербен, Мартин Московиц, Саид Бен Саид\n",
      "Элиз Биссон, Марина Фестре \n",
      "Кэтлин Кеннеди, Стивен Спилберг\n",
      "Саймон Филд, Кейт Гриффитс, Шарль Демо, Апичатпонг Вирасетакул\n",
      "Жан-Пьер Герен, Вероника Маршат, Реми Бура\n",
      "Филипп Бобер, Марта Донзелл, Эльда Гвиднетти\n",
      "Элисон Оуэн, Пол Триджбитс, Маири Бетт\n",
      "Изабель Маделэйн\n",
      "П.Скурихин, В.Жук, И.Чекалин, С.Росс\n",
      "Р.Литвинова, З.Рамазанова\n",
      "Сьюзан Дауни, Дэн Лин, Джоэл Сильвер, Лайонел Уиграм\n",
      "С.Шумаков, Л.Верещагин\n",
      "Вибеке Винделев\n",
      "Кис Касандер\n",
      "Викрам Батт, Арун Рангачари\n",
      "К.Ветрова, С.Матвиенко, В.Финкельштейн\n",
      "А.Смирнов, Е.Смирнова\n",
      "Дж.Дж.Абрамс, Брайан Бёрк, Том Круз\n",
      "Джеффери Бич, Талаат Кэптан\n",
      "Петтери Пасанен, Ханну Туомайнен\n",
      "Каролина Банг, Алекс де ла Иглесиа, Кико Мартинес\n",
      "Кристофер Нолан\n",
      "Д. Абель, Ш. Жилибер, Ф. Гордон\n",
      "Кабир Кхан, Салман Кхан\n",
      "Роман Коппола, София Коппола, Юри Хенли\n",
      "Дирк Байнхольд, Валентин Гройлих, Себастьян Руншке\n",
      "П. Смирнов\n",
      "М.Корчагина, Е.Фёдорова, М.Моргун, А.Куренков\n",
      "А.Бессчетнова, М.Евдокимова, А.Куренков\n",
      "А.Рамазанова, М.Евдокимова, А.Куренков\n",
      "Л. Хаттон, В. Моррис, Д. Робинсон, Д. Робинсон\n",
      "Д.Гринштейн, Д.Харрис, Л.Уэлдон, Д.Йангер\n",
      "Бен Стассен\n",
      "А. Калюжный\n",
      "Себастьян Беар МакКлард, Оскар Бойсон, Терри Дугас, Пэрис Касидокостас Латсис\n",
      "Е.Никишов, В.Федорович, А.Цекало,  ООО \"Ника ТВ\"\n",
      "Пэт Бриссон, Матье Рэтхи, Брайан Тернер, Сергей Федоров\n",
      "Мишель Рэймо\n",
      "Акива Голдсман, Брайан Грейзер, Стивен Кинг, Рон Ховард\n",
      "Эрик Гиттер, А. Дж. Дикс, Бет Коно, Келли МакКормик, Шарлиз Терон, Питер Шверин\n",
      "И.Толстунов, Марк Рюсар\n",
      "В.Тодоровский, С.Ливнев, С.Козлов, И.Толстунов\n",
      "Браден Афтегуд, Элизабет А. Белл, Питер Берг\n",
      "Дэвид Каплан, Андреа Роа, Джастин Р. Чан\n",
      "Даниэл Марке, Оливье Росен\n",
      "Фодла Кронин О'Рейли\n",
      "Карлос Ментасти, Луис А. Скаленья\n",
      "Лиз Джарвис, Дэвид Филлипс Медина, Роберто Снейдер\n",
      "Антуан Кайрол\n",
      "Люк Бессон, Виржини Силла\n",
      "Э. Альтмайер, Н. Альтмайер\n",
      "Ф. Фуэнтес, Х. Летона\n",
      "Дэвид Эллисон\n",
      "Харви Вайнштейн\n",
      "А.Учитель, А.Достман, В.Винокур\n",
      "Д. Кэмерон\n",
      "Чарльз М.Барсамиан, Рана Джой Гликман, Антуан Муавад\n",
      "ООО \"Вайс Филмс\"\n",
      "И. Шемятов, М. Трудолюбова\n",
      "А. Натахин\n",
      "С.Зернов\n",
      "Т.Худазаров\n",
      "Тат Продюксьон, Мастер Филмз, Ванилла Сид\n",
      "Файнола Двайер, Аманда Пози, Стивен Вулли\n",
      "Боб Барлен, Жонгхан Ким, Лили Ма, Юн Женг, Сунгван Ким\n",
      "Эндрю С.Эрин, Тоска Маск, Джина Пейнбьянко\n",
      "Джованни Гамбино, Кеннет Хо, Энтони Дж.Коэн\n",
      "Дэвид Гросс, Андре Руле\n",
      "А.Котелевский, А.Новиков, А.Стреляная\n",
      "И.Бачурин\n",
      "С.Новожилов\n",
      "Коитиро Ито, Норитака Кавагути, Гэнки Кавамура, Кацухиро Такэи\n",
      "Пол Д.Голдман, Джеффри Коло, Роэль Рейн, Вэйл Ромейн, Кевин Файги, Крис Фишер, Джин Хиггинс\n",
      "Рон Альтофф, Яков Бреслер, Хэрел Голдштейн\n",
      "Брайан Грейзер, Даг Дэвисон\n",
      "Раффаэлла Де Лаурентис\n",
      "Майкл Лондон, Хон Пэн, Стивен Дж. Ривер\n",
      "Дэвид Бернад, Деде Гарднер, Сидни Киммел\n",
      "Эксплоререр Инт-Голден\n",
      "Доминик Десфоржес, Венсан Брансон, Элис Буттафава\n",
      "Джузеппе Амато, Анджело Риццоли\n",
      "Джованни Бертолуччи\n",
      "Джованни Бертолуччи, Лукино Трентини\n",
      "Маурицио Лоди-Фе\n",
      "Анджело Риццоли\n",
      "Сэт Грэм-Смит, Рой Ли, Дэн Лин\n",
      "Катя Адомейт, Филипп Бобер, Эрик Геммендорф\n",
      "Шаун МакГилливрэй\n",
      "Нэнси Майерс, Эрика Олдэ\n",
      "Келли Дэльсон, Соня Лизетт\n",
      "Янг Ду, Джи Сонг, Ксиоме Ву\n",
      "Сирил Кольбо-Жюстен\n",
      "Даррен Аронофски, Скотт Франклин, Эри Хэндел\n",
      "С.Сельянов, М.Врубель, А.Андрющенко, В.Муругов\n",
      "Том Баттерфилд, Люк Дэниелс, Алекс Катлер, Алан Пао\n",
      "Маттео Ровере, Роберто Сесса\n",
      "Кристина Ларсен, Чарльз С. Коэн\n",
      "Эрнё Мештерхази\n",
      "Лати Гробман, Криста Кэмпбелл, Карл Маццоконе\n",
      "П.Иванова\n",
      "Бродерик Джонсон, Бад Йоркин, Эндрю А. Косов\n",
      "Лоренцо ди Бонавентура, Ник Уэкслер\n",
      "Марк Бутан, Гари Гоцман, Энтони Кетжес, Питер Ландесман, Стив Ричардс, Джей Роач, Ридли Скотт\n",
      "Симона Бауман, Марианна Каат, Наталья Манская, Гунтис Тректерис\n",
      "Дилан Кларк, Дэвид Рэди, Питер Чернин\n",
      "Джеймс Каллен Брэссак, Кеннет Густ, Шэннэн Доэрти\n",
      "Александр Глер, Александр Думрайхер-Ивансеану, Бади Минк, Франц Новотны\n",
      "Уэйн Марк Годфри, Д. Скотт Лампкин, Джэми Маршалл\n",
      "Балхджав Лкхагвадорж\n",
      "Рон Дайенс, Клаус Токсвиг Кьяэр, Генри Мегалон\n",
      "С.Сельянов, Б.Бакурадзе, А.Златопольский\n",
      "Фредерик Викстрем, Джон Норстед\n",
      "Рафаэль Бенолье, Люк Бессон\n",
      "Э.Илоян, Д.Жалинский, М.Озкан, А.Троцюк, В.Шляппо\n",
      "Лайам О'Доннелл\n",
      "Дэмиэн Джонс, Стив Кристиан\n",
      "Деметра МакБрайд\n",
      "Никола Джулиано, Анджело Курти, Доменико Прокаччи, Франческа Чима\n",
      "Вероника Радаелли, Кевин Рэгсдэйл\n",
      "Е.Сарычева, Ю.Воронова, М.Мамулина, Ф.Добронравов\n",
      "В.Найговзина\n",
      "М.Чечельницкий\n",
      "Г.Васильев\n",
      "К.Буслов\n",
      "Николас Алтмайер, Эрик Алтмайер\n",
      "Ален Аттал, Эмма Жаво\n",
      "Леон Клэранс, Питер Сафран\n",
      "Майкл Джентиле\n",
      "Хевн Александр, Брайан Голднер, Марсия Гвендолин Джонс, Стивен Дэвис\n",
      "Стивен Вулли, Элизабет Карлсен, Джоэнна Лори\n",
      "Жак-Анри Бронкар, Милена Пойло, Жиль Сакуто\n",
      "Скотт Во, Саймон Суорт, Такер Тули\n",
      "Дана Голдберг, Дин Девлин, Дэвид Эллисон\n",
      "Тим Коул, Бен Паг, Вэй Хань\n",
      "Лати Гробман, Криста Кэмпбелл, Карл Хампе, Лив Шрайбер\n",
      "Ральф Кэмп, Графиня Майя Роткирх, Хольгер Таппе\n",
      "Гэбриэль Ариас-Сальгадо, Альваро Аугустин, Жислен Баруа, Хорди Гасуль, Эдмон Рош, Хавьер Угарте\n",
      "Софи Гупиль\n",
      "Д.Юзбашев\n",
      "Ким Ки-дук, Ким Сун-мо\n",
      "Седрик Клапиш, Брюно Леви\n",
      "Дэнни Бойл, Кристиан Колсон\n",
      "Кеннет Брана, Марк Гордон, Джуди Хоффланд\n",
      "Крис Браувер, Ричард Клаус\n",
      "Марко Кименц, Джованни Стабилини, Рикардо Тоцци\n",
      "Марианна Слот\n",
      "Бэзил Иваник, Тара Моросс, Грегори Уанон\n",
      "Тодд Фелмэн\n",
      "Эмили Лебех Каэ, Стайн Мелдгаард Мэдсен, Нина Бисгаард\n",
      "В.Алисов, Г.Меркулов\n",
      "Марк Бёрг, Орен Каулз, Грегг Хоффман\n",
      "Кеви Фейги\n",
      "Флоренс Гасто, Мишель Хазанавичус\n",
      "Эдди Вайзман, Лоуренс Ингли, Джулия Лебедев\n",
      "Пол Маубрэй\n",
      "Александр Микулич\n",
      "Эрнар Курмашев, Алия Мендыгожина, Акан Сатаев\n",
      "Джозеф Абрамс, Салли Вуд, Джеймс Спринг\n",
      "Армен Агаян, Тара Ансли\n",
      "Мария Гаде Деннес, Петер Ольбек Йенсен\n",
      "Клаудия Блюмхубер, Шон М. Боббитт, Иван Мактаггарт\n",
      "Лайонел Байер, Филипп Мартен, Давид Тион\n",
      "Джули Райан, Питер Футт\n",
      "Ричард Брандес, Роб Бэйкер, Гарприт Чандхоук\n",
      "Джордж Клуни, Грант Хеслов, Тедди Шварцман\n",
      "Тим Биван, Эрик Феллнер, Лиза Чейсин\n",
      "Тим Биван, Питер Густафссон, Эрик Феллнер\n",
      "Лоренцо ди Бонавентура, Трент Лакинбилл, Тэд Лакинбилл, Майкл Менчел, Доун Острофф, Молли Смит, Джереми Стеклер, Эрик Хаусэм \n",
      "ООО \"Централ Партнершип\",              АО \"Телекомпания\"\n",
      "Рон Амес, Клаудиа Блюмхубер, Джонатан Кавендиш\n",
      "Белен Атьенса, Хуан Антонио Байона, Жислен Баруа \n",
      "Летиция Голицына, Филипп Руссле\n",
      "ООО \"Корпорация Русская Фильм Группа\", ООО \"Магнум Групп\", ИП Петрухин А.А., ОЧУ ДО \"Киношкола \"Лестница\"\n",
      "Г.Малков, В.Поляков, М.Кучмент\n",
      "Стефан Апельгрен, Томас Робсам, Сигве Эндресен\n",
      "Майкл Дуглас, Лоуренс Марк, Питер Сафран\n",
      "Ярив Лернер\n",
      "Адам МакКей, Кевин Дж.Мессик, Джон Моррис, Уилл Феррелл, Крис Хенчи\n",
      "Джон Балдеччи, Джейсон Блум\n",
      "Нил Джонс, Род Смит, Джонатан Соткотт\n",
      "Р.Дищдишян, ООО \"ММЕ\", ИП Козловский Д.В., ООО \"ДК Интертеймент\"\n",
      "О.Погодина, А.Пиманов, Д.Анисимов\n",
      "Эдуард де Весинн\n",
      "Марк Альбела, Денис О.Делл\n",
      "Пьер Гайард\n",
      "Илан Арболеда, Чарли Вупперманн, Джейда Торун\n",
      "Сьюзан Тодд\n",
      "Питер Букэерт, Барт Ван Лангендонк, Пьер-Анж Ле Пожам\n",
      "Кристофер Долл, Вольфганг Петерсен, Лотар Хеллингер\n",
      "Аки Каурисмяки, Миша Яари\n",
      "Б.Анисимов, И.Магомедов, В.Маслов\n",
      "Рэм Бергман, Кэтлин Кеннеди\n",
      "Милош Джукелич\n",
      "Брюс Коэн, Трент Лакинбилл, Тэд Лакинбилл, Молли Смит, Дэнни Стронг, Джейсон Шуман\n",
      "Ашильд Ариан Рамборг\n",
      "Леван Когуашвили, Иракли Родоная, Темур Угулава, Борис Фрумин\n",
      "В.Брумберг, В.Сторожева\n",
      "Крейг Баумгартен, Джилиан Куглер, Майкл Селби, Марк Форстер\n",
      "Т.Бекмамбетов, Г.Стрижевская\n",
      "Брюс Андерсон, Лори Форте\n",
      "Гэрри Вол, Сирс Воллэйс, Джулия Ло Вечио, Трэвис Райс\n",
      "Вивьен Асланян, Ален Бенгиги, Томас Верхак\n",
      "Билл Гербер, Келли Дэвис, Стив Ричардс\n",
      "Лоуренс Марк, Дженно Топпинг, Питер Чернин\n",
      "Марко Кименц, Джованни Стабилини, Риккардо Тоцци\n",
      "Рено Шелелекен\n",
      "Фрэнки Линдквист, Кассиан Элвис\n",
      "М.Хаависто, Я.Форбс, Д.М.Пунтерволд, Т.Никки, Г.Аустли, А.С.Йенсен, С.Хорге, Э.Хорн, И.Эймудссон, М.Кьелльсон\n",
      "Надя Хамлиши\n",
      "Мэтт Толмак\n",
      "Роберт Джордж, Дрейк Доремус\n",
      "Курбан Кассам, Кристофер Шеппард\n",
      "Джаспер Грэхэм, Марк Лэйн, Джеймс Харрис\n",
      "Мэтт Драммонд, Меган Уильямс\n",
      "Т.Цоцория, Р.Витрянюк, К.Кутуев, А.Царик\n",
      "Бертран Гор, Натали Мезюре, Сандра дэ Фонсека\n",
      "Николя Дюваль-Адассовски, Кевин Лоудер, Дэвид Хиндл \n",
      "Джейсон Блум, Джеймс Вон, Орен Пели\n",
      "Али Белл, Бродерик Джонсон, Эндрю А.Косоув, Айван Райтмен \n",
      "Кейт Гловер, Паскаль Дегов, Джон Канак, Марк Лэйн, Джеймс Харрис \n",
      "Ник Бауэр, Иллан Джирард, Гэйл Иган\n",
      "Марк Гордон, Эми Паскаль\n",
      "Тим Биван, Лиза Брюс, Эрик Феллнер\n",
      "С.Зимагорова\n",
      "Прасад Девинени, К. Рагхавендра Рао, Шобу Ярлагадда\n",
      "Рафаэль Рибас, Элейн Ферейра\n",
      "Дэвид Гринбаум, Дж. Майлз Дэйл, Гильермо дель Торо\n",
      "Эммануэль Жакоме\n",
      "Боаз Дэвидсон, Криста Кэмпбелл, Винсент Чэн\n",
      "Маргарет Менегос\n",
      "Эрик Бреннер, Мэтт Р. Брэйди, Роб Карлинер\n",
      "Джим Берк, Марк Джонсон, Меган Эллисон\n",
      "Вик Годфри, Эллен Голдсмит-Вейн, Ли Столлман\n",
      "Грэм Бродбент, Мартин МакДона, Питер Чернин\n",
      "Том Акерли, Марго Робби, Стивен Роджерс\n",
      "Шеррил Кларк\n",
      "Патрик Андерссон, Фрида Барго, Чарли Кольер, Алисия Викандер\n",
      "Маурицио Тотти, Алесандро Узаи\n",
      "ООО \"Централ Партнершип\"\n",
      "Файт Хайдушка, Ивонн Кренн, Кристиан Гозлан\n",
      "Дэна Брунетти, Майкл Ле Лука\n",
      "Е.Казаков, Т.Бадзиев\n",
      "М.Герман\n",
      "Кристиано Анания, Антонио Кастальдо, 8 Продакшен, Франчкска Этторре, Марцо Фильм, СиЭсСи Продакшен, Алессандро Капитани\n",
      "Бенджамин Элалоуф, Дмитрий Рассам, Паула Косенза\n",
      "Энрике Лопес Лавинге\n",
      "Эрика Аронсон, Летти Аронсон, Эдвард Уалсон\n",
      "Джерард Батлер, Марк Кэнтон, Такер Тули\n",
      "Пол Том Андерсон, Челси Барнард\n",
      "Элизабет Ханна, Том Карновски\n",
      "Даниэль Стерлинг, Джон Х.Уильямс\n",
      "Билл Борден, Джек Чжан, Майкл Февелль\n",
      "Абраам Вурнбрэнд, Хьюго Роуз\n",
      "М.Врубель, А.Андрющенко, Ф.Бондарчук, Д.Рудовский, А.Златопольский\n",
      "Ю.Сумачева\n",
      "Седрик Иланд, Адриан Политковски, Надя Хамличи\n",
      "Фатих Акин, Анн-Кристин Хофманн, Нархан Шекерджи-Порст\n",
      "Эд Гвини, Йоргос Лантимос, Эндрю Лоу\n",
      "А.Ананикян, С.Андреасян, Г.Андреасян\n",
      "Жерар Бейту\n",
      "Жерар Боффти, Рене Пиньер\n",
      "С.Порядин\n",
      "Том Абрамс, Джон МакДоннел, Брендан Маккарти\n",
      "Брайан Мендоза, Молли Хэсселл\n",
      "Клод Лелуш, Сэмюэл Халида\n",
      "Марко Беларди, Ноэль Брайт, Стивен А.Коэн\n",
      "Рикардо Тоцци, Джованни Стабилини, Марко Кименц\n",
      "Димитри Логотетис, Роберт Хикман\n",
      "Эндрю Рона, Алекс Хейнеман\n",
      "Рафаэль Авигдор, Кристиан Д.Бруун, Якоб Стаберг\n",
      "Эдриан Броуди, Брайан ДеКьюбелис, Стивен Клински\n",
      "Кен Као, Скотт Купер, Джон Лешер\n",
      "Ира Карпелан, Том Карпелан, Петр Щепанович\n",
      "Амината Самбе, Райнер Хольцемер\n",
      "Л.Барац, С.Петрейков, Р.Хаит, С.Сельянов\n",
      "Ф.Абрютин, Д.Якунин, М.Черепанова\n",
      "Девид Джей Грант, Кевин Фейги\n",
      "И.Толстунов, П.Попов, А.Рыданов\n",
      "Джон Дэвис, Джейсон Бейтман, Джон Фокс, Джим Гаравенте\n",
      "Жан-Баптист Бабин, Эндрю Бэнкс, Роберт Огден Барнум\n",
      "Крис Кларк, Квентин Кертис, Дэн Фридкин\n",
      "Е.Никишов, В.Федорович, А.Цекало, ООО \"Ника ТВ\"\n",
      "Ф.Бондарчук, Д.Рудовский, Д.Табарчук, В.Дусмухаметов, С.Слепаков, Д.Грацевич, А.Агеев и др.\n",
      "Эли Буш, Эвелин О.Нилл\n",
      "Сигурд Слаттебрек\n",
      "Мелита Тоскан дю Плантье, Мари-Жанна Паскаль, Оливье Пере\n",
      "Шон Бэйкер, Крис Бергоч, Кевин Чиной\n",
      "Ёсиаки Нисимура, Джеффри Уэкслер\n",
      "И.Белостоцкий\n",
      "С.Корнихин, Н.Куликов, А.Черномазов, А.Кремер, Е.Кононенко, И.Найшуллер\n",
      "Марио Джанани, Лоренцо Мьели\n",
      "Бриджет Кэллоу\n",
      "Т.Ауэрбах\n",
      "Д.Вязников\n",
      "Грэм Бродбент, Скотт З.Бёрнс, Николя Моверне, Жак Перрен, Питер Чернин\n",
      "Карен Элиз Болдуин, Марк Дэймон\n",
      "Йен Димерман, Скотт Кеннеди, Жан-Шарль Леви\n",
      "Джерри Брукхаймер, Трент Лакинбилл, Тэд Лакинбилл\n",
      "Джим Уайтекер, Кэтрин Хэнд\n",
      "Роза Аттаб, Паскаль Кочето, Линн Рэмси \n",
      "Сан Фу Малта, Рейнир Селен\n",
      "Мила Адамс, Блейн Андерсон, Сара Блейк\n",
      "Грэм Кинг\n",
      "Синди Бонд, Кевин Даунс, Дэрил С.Лефевр\n",
      "Джиб Полемус, Гарри Стортон, Саймон Уэст\n",
      "А.Цекало\n",
      "Джинн Гейбен, Себастьян Деллуа, Пол Крухтен\n",
      "Ричард Бик, Питер Лорд, Ник Парк, Дэвид Спрокстон, Карла Шелли\n",
      "К.Одегов\n",
      "Е.Маленкина\n",
      "Марина Бурлаченко, Дмитрий Ловейко\n",
      "Элтон Джон, Дэвид Ферниш, Стив Хэмилтон Шоу\n",
      "Рори Дунган, Рэйчер О.Кейн, Эллен Пейдж\n",
      "Тим МакГахен, Бретт Томберлин\n",
      "А.Дж. Дикс, Ребекка Йелдхэм, Бет Коно, Энтони Тамбакис, Шарлиз Терон, Нэш Эдгертон\n",
      "Дженнифер \"Нен\" Гэтьен, Трэйси Джеффри, Джон Рикард\n",
      "О.Андрианова, И.Шерстобитов\n",
      "П.Москвин, А.Шульгин\n",
      "Джон Бойега, Кейл Бойтер\n",
      "В.Михайлов, В.Павлов, М.Пореченков\n",
      "Стивен МакДонох\n",
      "Уилл Глак, Зарех Налбандян\n",
      "Стивен Спилберг, Дональд Де Лайн, Кристи Макоско Кригер, Дэн Фарах\n",
      "Уэйн Марк Годфри, Джеймс Харрис\n",
      "Трине Хайдегаард, Томас Хейнесен, Малена Элерса\n",
      "Фредерик Брилион, Гиллс Легранд, Клемент Мисерез, Мэттью Уортер\n",
      "Дайлиа Веингорт, Уоррен Остергард, Мартин Спрок\n",
      "Лиза Аддарио, Мэри Л.Алоэ, Роберт Огден Барнум\n",
      "Мэтью Мэткалф\n",
      "Майкл Барнатан, Крис Коламбус, Кайл Франке, Ким Магнуссон, Адриан Политовски, Ник Спайсер\n",
      "Марк Конрад, Йан С. Крайзер\n",
      "Джозеф Маллок, Кори Бэйс, Дэн Фелмэн\n",
      "Ю.Ботоев, Д.Гармаев, А.Смирнов\n",
      "Эрик Б. Флайшмен, Брэндон Джеймс\n",
      "Роджер Бирнбаум\n",
      "Эйн Каннинг, Эмиль Шерман\n",
      "Д.Щербанов, О.Антипов\n",
      "М.Немойтин\n",
      "ООО \"ЛИЦЕНЗИОННЫЕ БРЕНДЫ\"\n",
      "А.Златопольский, Д.Месхиев, С.Гармаш\n",
      "Фабио Теста\n",
      "Хильмар Сигурдссон, Ивес Агеманс\n",
      "Р.Граф, Д.М.Лоренц, М.Марш, Д.Миллер, Л.Михайлович, Г.Плайстер, Л.Ролл, С. ван дер Тас, Х.Хименес\n",
      "Дамиен Брюннер, Дидье Бруннер, Венсан Тавье\n",
      "Тим Беван, Эрик Феллнер\n",
      "Майкл Бэй, Эндрю Форма, Брэдли Фуллер\n",
      "Толкун Дайырбекова, Татьяна Петрик, Андрей Епифанов\n",
      "А.Митрошенков, Н.Гюзалян, А.Ованнисян\n",
      "Николь Шпрингштуббе\n",
      "Бо Флинн, Джон Рикард, Брэд Пейтон, Хирам Гарсиа\n",
      "Пьерр Гайярд, Филипп Боэффард, Ева Мачуэль\n",
      "Тед Филд, Тони Гилрой, Моника Левинсон\n",
      "Уэс Андерсон, Джереми Доусон, Стивен Рейлс\n",
      "Д.Козловский, П.Ануров, Л.Верещагин, А.Златопольский, Н.Михалков\n",
      "К.Шахназаров\n",
      "А.Петрухин\n",
      "А.Кретова, Г.Голицын\n",
      "Джон Батсек, Николь Стотт, Элеонора Эмтедж \n",
      "Араш Амель, Фред Бергер, Леон Клэранс\n",
      "Энтони Брегман, Питер Крон\n",
      "А.Савельев, А.Васильев, М.Ложевский\n",
      "М.Озкан\n",
      "А.Чижиков, Н.Чижикова\n",
      "Дэвид Бьюлоу, Ли Нельсон, Дэвид Тиш\n",
      "С.Ганночка\n",
      "Михаэль Вебер, Карло Кресто-Дина, Тициана Судани\n",
      "Дин Девлин, Рэйчел Олшан\n",
      "Е.Гликман, Т.Варжапетян\n",
      "Стефани Морисетт, К.С. Рой\n",
      "Джейсон Блум, Купер Самуэльсон\n",
      "Максим Делони, Лайонел Дутемпл, Бенжамен Морген\n",
      "Пьер Каро\n",
      "Дженнифер Гибгот, Доминик Рустам, Адам Шанкман, Шон Уильямсон\n",
      "Бенджамин Еу, Трэйси Ленон, Брайн Розен\n",
      "Э.Айнулова, М.Журомская\n",
      "Ода Шефер, Дэниэл Баур, Дэниэл Бекерман\n",
      "Гийом Колбок, Николя Дюваль-Адассовск\n",
      "Р.Давлетьяров, Г.Подземельный, А.Куликов\n",
      "Пенни Финкелман Кокс, Сандра Рэбинс, Эдоардо Бусси\n",
      "Эухенио Дербес, Бен Одель, Брендан Фергюсон\n",
      "Николас Картье, МакДжи, Алисса Филлипс\n",
      "Яцек Дросио, Михал Энглерт, Малгожата Шумовска\n",
      "Давид Тион, Филлип Мартен\n",
      "Эми Баэр, Рут Коди, Алан Молони\n",
      "Карлос Фернандес, Брендан Маккарти, Джон Макдоннел\n",
      "Франческо Инверницци, Димитрий Чиоффи\n",
      "Джейсон Блум, Дженнифер Дэвиссон\n",
      "Ховард Гертлер, Эйн Каннинг, Джон Кэмерон Митчелл\n",
      "Асель Садвокасова\n",
      "Том Акерли, Дэвид Баррон, Джоуси МакНамара, Марго Робби, Эрианн Фрайзер, Теун Хилте, Молли Хэсселл\n",
      "Лорен Шулер Доннер, Саймон Кинберг, Райан Рейнольдс\n",
      "М.Волобуев, Д.Коцюбинский\n",
      "Дэвид Рэди, Дженно Топпинг, Питер Чернин\n",
      "Ларс Кнудсен, Бадди Патрик, Кевин Скотт Фрайкс\n",
      "Крис Коулз, Крис Фентон\n",
      "Матсусаки Каору, Тагучи Хиджири\n",
      "Тара Пирния, Тони Тальенти\n",
      "Филипп Волкен, Алина Шрайбман\n",
      "Кэтлин Кеннеди, Эллисон Ширмур, Саймон Эмануэль\n",
      "Марко Бекманн, Дан Мааг, Матиас Швайгхёфер\n",
      "А.Мурадосилов\n",
      "Ю.Троянкин, А.Поличук, И.Полянский, Д.Лузанов, А.Гадалов\n",
      "А.Сазонов\n",
      "Томми Аластра, Памела Монро, Джон Е.Мур\n",
      "Д.Шадрин\n",
      "И.Ягафаров\n",
      "А.Новиков, А.Котелевский, С.Члиянц, И.Есин, Р.Татаринцев\n",
      "А.Котелевский, А.Новиков\n",
      "А.Новиков, Г.Константинопольский\n",
      "Белен Атьенса, Патрик Краули\n",
      "Дипак Найар, Филип фон Алвенслебен\n",
      "Н.Смирнова, А.Чубайс, С.Сельянов, В.Шамликашвили, О.Барковская\n",
      "Адити Ананд, Люк Босси, Саурабх Гупта\n",
      "Энтони Бирн, Джош Вэрни, Натали Дормер, Бен Паг \n",
      "Дэни Бун, Эрик Юбер\n",
      "Мерседес Гамеро, Адриан Герра, Микель Лехарса\n",
      "Питер Балм, Робин Гатч, Клер Джонс \n",
      "Абделатиф Кешиш, Ардаван Сафэ, Жером Сейду\n",
      "ООО \"Корпорация Русская Фильм Группа\", ООО \"Русская Фильм Группа\", ООО \"Арк Пикчерс\", ИП Петрухин А.А., ИП Малкин-Фам К.К-Т.\n",
      "И.Стюарт, М.Османн, П.Буря, М.Финогенов\n",
      "А.Лекер\n",
      "Д.Шабаев\n",
      "М.Шалаева\n",
      "С.Храмых\n",
      "М.Котик, В.Сотсков, С.Зернов, М.Мертенс, Я.Гуссен, А.Политовски, Ж.Ватеркейн\n",
      "А.Казанкова, М.Королев\n",
      "А.Новоселов, Н.Соколова\n",
      "ООО \"Киностудия КИТ\"\n",
      "Е.Тирдатова\n",
      "С.Бобза, С.Ливнев\n",
      "Антуан Гандобер, Фабрис Голдштейн, Антуан Рейн\n",
      "М.Воробьева\n",
      "Агустин Босси, Пабло Босси, Мария Луиза Гутиэррес, Игнасио Кукукович\n",
      "Марк Башет, Виола Фюген\n",
      "Эдоардо Бусси, Грегори Гавански, Гай Коллинс, Билл Шульц\n",
      "С.Новиков, А.Феофанов\n",
      "ООО \"Лаборатория кино\"\n",
      "М.Курбатов, Г.Подземельный, Д.Фикс\n",
      "А.Сайфулина\n",
      "ООО  \"НС Фильм\"\n",
      "А.Залдастанов\n",
      "Н.Никитина, Д.Патенко\n",
      "В.Сунцов\n",
      "П.Дудина\n",
      "Аарон Канделл, Джордан Канделл, Бальтасар Кормакур, Ральф Уинтер\n",
      "Моника Бакарди, Джей Дэвис, Джеймс Франко\n",
      "Селин Рэттрэй, Труди Стайлер, Лив Тайлер, Шарлотта Уббен\n",
      "Д.Степанов\n",
      "Роберт Огден Барнум, Кассиан Элвис\n",
      "Николь Парадиз Гриндл, Джон Уокер\n",
      "ООО \"Стар Медиа Дистрибьюшн\"\n",
      "Хавьер Бардем, Калина Коттас, Эд Кэйтелл третий\n",
      "Эндрю Дункан, Алекс Сакс, Билл Холдермэн\n",
      "Николай Моланд\n",
      "Рут Триси, Джулианна Форде\n",
      "Дэвид Уэр, Джофф Фаулер, Лоуренс Фаулер\n",
      "Симон Любински, Лукас Фейгельфилд, Мириам Эйчлер\n",
      "А.Гуськов, Я.Драбкин\n",
      "Т.Калинникова, Н.Веревкина\n",
      "ООО \"ТВИН СП\"\n",
      "А.Кузовенкова\n",
      "Л. Г. Резникова\n",
      "Стивен Содерберг, Сьюзан Эйкинс\n",
      "Кристиан Бекер, Маттиас Розенберг\n",
      "ООО \"Киношкола имени Сергея Федоровича Бондарчука\"\n",
      "Е.Савин\n",
      "Л.Филусова, Ж.Тедеева-Калинина, А.Воронкова, А.Гутовская, И.Волошин, Д.Сичел\n",
      "И.Шерстобитов\n",
      "А.Сутормин\n",
      "Вероника Ботанелли\n",
      "Джо-Энн Макгоун, Дженнифер Пидом\n",
      "А.Калинин, С.Бордачев\n",
      "Робби Бреннер, Марк Кантон\n",
      "Сидони Дюма\n",
      "Н.Маковский, Л.Гайдукова, АНО Школа-студия анимационного кино \"ШАР\"\n",
      "Л.Гайдукова, АНО Школа-студия анимационного кино \"ШАР\"\n",
      "Л.Гайдукова, С.Мирзаев, АНО Школа-студия анимационного кино \"ШАР\" \n",
      "В.Комаров\n",
      "Тодд Гарнер, Марк Стейлен\n",
      "Н.Урвачева\n",
      "Н.Виноградова\n",
      "Бэзил Иваник, Тэд Лакинбилл, Эрика Ли\n",
      "В.Малышев, Ю.Беленький\n",
      "Фредерик Брилион, Сидони Дюма, Гилл Легранд, Клемент Мисерез, Мэттью Уортер\n",
      "А.Виноградова\n",
      "Кристиан Броуди, Лорен Дарк, Ивана МакКиннон\n",
      "Э.Маргошвили\n",
      "А.Болонин, В.Тартаковский\n",
      "ФГУП \"ТПО \"Киностудия \"Союзмультфильм\"\n",
      "Марко Кименц, Алессандро Сиани, Джованни Стабилини, Риккардо Тоцци\n",
      "А.Дж.Дикс, Диабло Коуди, Хелен Эстабрук\n",
      "А.Сметанкин, В.Воля, Е.Головин, Т.Цыварева\n",
      "С.Почин\n",
      "М.Разбежкина\n",
      "Симон Арналь, Каролин Беньо, Джули Билли, Кароль Скотта\n",
      "Ю.Сизов\n",
      "Ли Джун-дон, Ок Кван-хи\n",
      "В.Харьков\n",
      "Е.Туркова\n",
      "Уильям Клевингер, Шон Лидьярд, Джулия Пренна, Джим Стил\n",
      "Оливер Бербен, Мартин Московиц\n",
      "Чэнь Цзе\n",
      "А.Ермолин, Д.Куповых, Р.Хайрулин, Г.Дульян, М.Тумова, М.Добромыслов\n",
      "И.Качалин, Д.Колонтай, Д.Глазовский\n",
      "Э.Арутюнов\n",
      "Хирам Гарсиа, Бо Флинн\n",
      "Кристиан Фрай\n",
      "В.Кузнецов\n",
      "А.Писаркин, Э.Мецгер\n",
      "Д.Филичев\n",
      "А.Барыкин\n",
      "А.Барыкин, В.Братухин, О.Суров\n",
      "Эрик Джендарме, Томас Лубеа, Хичам Хаджи, Оливье Шато\n",
      "Джастин Бенсон, Томас Бюрк, Дэвид Лосон мл., Аарон Мурхед, Леал Ниам\n",
      "А.Тельнов, Е.Григорьев, В.Харьков\n",
      "Ю.Кузяева\n",
      "Дэн Фридкин, Райан Фридкин, Брэдли Томас\n",
      "Патрик Ризотти, Бретт Форбс, Кевин Александр Хёрд\n",
      "Холли Вирсма, Кристофер Лемоул, Кассиан Элвис\n",
      "Л.Охотин, М.Зильбербург, Л.Зильбербург, Н.Пучкова\n",
      "Лоренцо ди Бонавентура, Колин Уилсон, Белль Эйвери\n",
      "Родриго Бело, Джакобо Назар, Виктор Хьюго Пуйоль, Родриго Трухильо\n",
      "Леон Лай\n",
      "А.Тельнов, П.Вайялайнен, И.Кок\n",
      "С.Расшиваев\n",
      "Жюльен Леклерк, Жюльен Мадон\n",
      "Е.Козмина\n",
      "Мэри Л.Алоэ, Майкл С.Даймонд, Чад Мур, Джефф Эллиотт\n",
      "Роберт Джордж, Дрейк Доримус\n",
      "В.Федоров\n",
      "А.Ильин\n",
      "Е.Кривцов\n",
      "Г.Григорьева\n",
      "А.Истратов\n",
      "Н.Михалкова, А.Михалкова, М.Королев, К.Комолова\n",
      "Глен Баснер, Тэннер Бирд, Николас Гонда\n",
      "Джей Джей Абрамс, Том Круз, Дэвид Эллисон\n",
      "Б.Машковцев, Л.Бланк, И.Ковалев\n",
      "К.Лузиньян\n",
      "В.Угличин\n",
      "Йохен Лаубе, Фабиан Маубах\n",
      "Бен Браунинг, Ариэль Зейтун, Крис Тикье\n",
      "Мариэла Бесуевски, Эми Гиллиам, Херрардо Эрреро\n",
      "Татьяна Келли, Бадди Патрик, Кевин Скотт Фрейкс\n",
      "Майкл Кейн, Дик Клемент, Джеймс Клэйтон, Фодла Кронин, Йен Ла Френас, Саймон Фуллер, Джеймс Хант, Бен Хилтон, \n",
      "А.Белов\n",
      "Н.Маковский\n",
      "Тимур Бекмамбетов, Адам Сидмен\n",
      "Марк Фиоре, Рэндолл Эмметт\n",
      "Б.Гуц\n",
      "К.Саксаганская, А.Учитель\n",
      "А.Евменов, А.Смирнов\n",
      "О.Резепкин (псевдоним Олег Рой), Д.Давыдова, С.Косинский, Л.Вавилова, С.Поляков\n",
      "Шэрон Ломофски\n",
      "Дэн Коэн, Шон Леви, Дэн Ливайн\n",
      "Т.Бекмамбетов, А.Горохов, Ж.Бекмамбетова\n",
      "Кристин Берр, Брайэм Тейлор\n",
      "Екатерине Монастырская\n",
      "Р.Хисматуллин\n",
      "И.Куликов, А.Семенов\n",
      "М.Айтуганова\n",
      "А.Горовацкий\n",
      "Чен Чжихи\n",
      "Ю.Шамилов, А.Боковиков\n",
      "С.Шаглеева\n",
      "Е.Резников, В.Сидашов\n",
      "Н.Маковский, А.Хржановский\n",
      "А.Хуажева, А.Емкужев\n",
      "А.Шемес\n",
      "Д.Лазарев\n",
      "А.Учеваткин, В.Чичайкин\n",
      "А.Разлогова, А.Петрас\n",
      "Е.Королева\n",
      "Эндрю Рона\n",
      "Ян Ковентри, Том Лассалли, Хади Хаджэйг\n",
      "Майкл Джентиле, Давид Пьерре\n",
      "Аттилио Дэ Рацца\n",
      "С.Торчилин, Т.Бекмамбетов, С.Куликов, А.Шишканов, М.Затуловская, М.Беспалов\n",
      "Стэнли Кубрик, Виктор Линдок\n",
      "Питер Берг\n",
      "Дэвид С.Гойер, Гари Лучези\n",
      "Гари Гоэцман, Джуди Креймер\n",
      "Чарльз Антониоз, Мурад Белкедар, Бретт Крэнфорд\n",
      "Н.Фролова\n",
      "Пол Карри, Айлин Ли, Хавьер Чжан\n",
      "Джеймс Вандербилт, Робин Мейсингер, Сара Сноу, Уильям Ширак\n",
      "Рената Альмейда Магалхаес\n",
      "Тина Андерсон, Брайан Грейзер, Эрика Хаггинс\n",
      "Д.Шишкина\n",
      "Нэнси Севард\n",
      "Фредерик Хейниг\n",
      "Джеймс Крамп, Ронни Сассон\n",
      "О.Хлопунова, Э.Нелидова\n",
      "Н.Шмелёв\n",
      "А.Остапенко\n",
      "А.Темникова, О.Цирсен\n",
      "Вассим Беджи, Глэдис Брукфилд-Хэмпсон, Фабрис Дельвиль\n",
      "Саймон Корнуэлл, Стивен Корнуэлл, Марк Э.Платт\n",
      "В.Арцруни\n",
      "ООО \"Солярис Промо Продакшн\", Д.Астрахан, П.Арустамова\n",
      "М.Казакова, В.Краснов\n",
      "М.Минасян, М.Погосян\n",
      "А.Лобачев-Дворецкий\n",
      "Т.Степанова\n",
      "А.Эмир-Шах\n",
      "Ю.Бабаханов\n",
      "Норман А.Халим, Ширин М.Хашим\n",
      "А.Троцюк, Э.Илоян, В.Шляппо, Д.Жалинский\n",
      "Роберт Джонс\n",
      "Джейк Шапиро, Дэниэл Гродник, Мэри Эйлоу, Крэйг Чэпмен\n",
      "Д.Курочка (псевдоним Денис Бродский)\n",
      "Шарль-Мари Антониоз, Мурад Белкеддар, Жан Дюамель, Никола Лермитт, Винсент Мазель, Хьюго Селиньяк\n",
      "ООО \"Кинокомпания \"Спутник\", ООО \"Киноспутник\"\n",
      "А.Хилинская, А.Иванов (псевдоним - Алекс Йоку), А.Бобин\n",
      "И.Стюарт, П.Буря, М.Осман\n",
      "Н.Трофимова\n",
      "В.Крейнин\n",
      "О.Морозова, Н.Климчук\n",
      "Е.Ионко\n",
      "Г.Васильев, М.Мэннис, И.Попов\n",
      "И.Попов, Ю.Осетинская\n",
      "Джефф Аркусс, Дэн Коэн, Дэвид Гросс\n",
      "С.Андреасян, Г.Андреасян, А.Ананикян\n",
      "ООО \"Фреш-Фильм\"\n",
      "Д.Нехорошев\n",
      "Ю.Гинзбург\n",
      "Дрю Фелмэн, Дональд Кушнер, Стив Рансохофф, Нил Аллен, Джон А.Амикарелла, Дэвид Хэйринг, Дайан Робертс и др.\n",
      "Роберт Кристофер Ольсон, Дэвид Зеллнер, Нейтан Зеллнер\n",
      "Ю Чжоу, Юан Йэ\n",
      "Джейсон Блум, Спайк Ли\n",
      "Бэн Фалкоун, Джеффри Хайес, Брайан Хенсон, Мелисса Маккарти\n",
      "Манеш Шарма\n",
      "А.Радов\n",
      "Благим Шиуа, Ришар Гранпьер, Венсан Мараваль, Эдуард Вейл\n",
      "А.Сашнева\n",
      "Тьерри Бизот, Эммануэль Чейн, Гейл Лебланк, Том Вольф\n",
      "Д.Кудрявцев\n",
      "М.Тюркин, В.Голиков\n",
      "О.Чурилов\n",
      "Л.Ефимов, Л.Плотникова, Л.Попова\n",
      "Е.Кожокин\n",
      "Я.Райская\n",
      "Габриэла Вальтер\n",
      "Фредерик Брийон, Клеман Мизерез, Мэттью Уортер\n",
      "Джош Эпстейн\n",
      "А.Лихницкий, Е.Панфилова, А.Тимофеев\n",
      "А.Лихницкий, А.Живой, Т.Лаврова\n",
      "А.Лихницкий, А.Бельская\n",
      "А.Тмур, Е.Быковский\n",
      "М.Айтуганова, М.Ахметшин\n",
      "А.Румянцева, А.Зубов, М.Посадских\n",
      "Софи Дулак, Карстен Штетер\n",
      "Тодд Блэк, Джейсон Блюменталь, Дензел Вашингтон, Мейс Ньюфилд, Алекс Сискин, Майкл Слоун, Стив Тиш, Антуан Фукуа, Тони Элдридж\n",
      "Пол де Воз, Ванесса Дэвис, Сью Латимер\n",
      "А.Бурлов, Б.Цыденешеев, А.Мяханова, Э.Тимурова, А.Цыренов, Д.Ользонов\n",
      "А.Тагирова\n",
      "С.Бородин, Д.Литосов, О.Колмаков\n",
      "Микаэля Сыслова, Ондрей Троян\n",
      "Т.Зайц\n",
      "В.Гулуев\n",
      "О.Гончаренко\n",
      "Е.Кашинцева\n",
      "Т.Мусатов\n",
      "О.Могучев\n",
      "Кэролайн Барон, Карен Лаудер, Лиззи Фридман\n",
      "А.Балашов\n",
      "С.Мирошниченко\n",
      "А.Сметанкин, Е.Головин, Т.Цыварева\n",
      "Натаниель Болотин, Дэниэл Ноа\n",
      "Блондел Айду, Билл Боннерман, Лоуренс Гордон\n",
      "Е.Яцура, А.Девяткин, В.Кузнецов\n",
      "Гари Лучези, Том Розенберг\n",
      "Дэн Браун, Карен Джонсон, Дэвид Кох, Хезер Ленц \n",
      "Ильяс Етекбаев, Данияр Ибрагимов\n",
      "Раффаэле Буранелли, Карин Пройя\n",
      "В.Глухов\n",
      "Рафаэль Бенолье, Крис Кларк\n",
      "Рой Болтер, Рита Дэгер, Сол Пападопулос, Николас Саймон\n",
      "Джордан Гертнер, Гейер Косински, Крис Хэнли\n",
      "Джейсон Клот, Пол Фиг, Джесси Хендерсон\n",
      "Ю.Слащева, Б.Машковцев, Н.Маковский, С.Струсовский\n",
      "С.Лелекин\n",
      "Р.Дишдишян, А.Епифанов, Т.Петрик, О.Филипук\n",
      "И.Стам, А.Евсеев\n",
      "Рэм Бергман, Роджер Корби\n",
      "Нина Бисгаард, Петер Густафссон, Петра Джонссон\n",
      "Фредерик Винел, Эмели Кристианс, Андерс Маструп, Жан-Мари Мюзик, Кристина Париссе\n",
      "Е.Миронов, А.Новин, Е.Бренькова, А.Темникова\n",
      "Т.Жумаева\n",
      "Браден Афтегуд, Габриэла Бахер, Киану Ривз, Дэйв Хансен, Стивен Хэймел, Кассиан Элвис\n",
      "Джеймс Вандербилт, Эрик Крипке\n",
      "С.Кикнавелидзе\n",
      "Хауме Банаколоча, Хоан Бас, Хорди Беренгер, Адольфо Бланко, Алекс Бойд, Сол Бонди, Крис Кёрлинг\n",
      "Пол Дано, Джейк Джилленхол, Эндрю Дункан, Рива Маркер, Орен Муверман, Энн Рурк, Алекс Сакс\n",
      "Ван Юньфэй\n",
      "Оливье Дельбоск\n",
      "Ширин М.Хашим, Норман Абдул Халим, Юрси Крю\n",
      "Билл Гербер, Брэдли Купер, Рави Мехта, Линетт Хауэлл Тейлор, Джон Питерс, Тодд Филлипс\n",
      "Хлинюр Палмасон, Джулия Вальтерсдорф Хансен\n",
      "Е.Григорьев\n",
      "Ю.Зайцева, М.Павлов, И.Пронин\n",
      "Ави Арад, Эми Паскаль, Мэтт Толмак\n",
      "Дрю Годдард, Джереми Латчем\n",
      "Такуйя Ито, Генки Кавамура, Атсуси Чиба\n",
      "Т.Пендюрин, Е.Болычева\n",
      "Д.Безденежных\n",
      "А.Пискунова, Е.Нагаева\n",
      "Алекс Гинно, Такер Тули, Гейл Энн Хёрд\n",
      "Блейк Норзфилд, Джим Робисан\n",
      "Юань Е, Юй Чжоу\n",
      "ООО \"Яндекс. Такси\"\n",
      "В.Хижнякова, И.Володина\n",
      "А.Турчанинов\n",
      "И.Юсупова\n",
      "Мария Далин, Анна Энтони\n",
      "Эмэ Буидине, Жереми Гез, Жюльен Леклерк, Жульен Мадон\n",
      "Пол Брукс, Леон Клэранс, Джейсон Фукс\n",
      "Марти Бауэн, Дэмьен Шазелл\n",
      "В.Пельш, К.Козлова\n",
      "ООО Кинокомпания \"Пионер\"\n",
      "О.Монахова\n",
      "М.Журомская\n",
      "Ю.Долматова\n",
      "Майкл Кун\n",
      "Вим Вендерс, Жан-Пьер Рингел\n",
      "О.Малинина\n",
      "И.Качалин\n",
      "К.Румак\n",
      "Ю.Смирнов\n",
      "Декстер Брафф, Тайлер Дэвидсон, Патрик Дэйли\n",
      "Вигар Бараный, Габор Райна, Габор Шипош\n",
      "Маттье Вартер, Клеман Мисерез\n",
      "Малек Аккад, Билл Блок\n",
      "Джон Рекуа, Бонн Рэдфорд, Гленн Фикарра\n",
      "Р.Дишдишян, ООО \"МАРС МЕДИА ЭНТЕРТЕЙНМЕНТ\"\n",
      "ООО \"Марсианин\", АО \"Маринс Групп Интертеймент\", ИП Куликов А.Г., ООО \"Муравей Продакшн\"\n",
      "В.Сокологорский, Т.Цыварева, Н.Горшков\n",
      "Антонио Коста Валенте, Луиш Диого\n",
      "Крис Бендер, Джейк Вейнер, Майкл Де Лука, Дэвид Роберт Митчелл, Адель Романски\n",
      "Э.Илоян, В.Шляппо, Д.Жалинский, А.Троцюк\n",
      "ООО \"Арт Пикчерс Студия\", ООО \"КРИЭЙТИВ АНИМЭЙШН\", ООО \"Система-А\"\n",
      "А.Самойлова\n",
      "В.Петросянц\n",
      "Ю.Обухов\n",
      "Алессандро Вингфилд, Томас Граскур, Ал Диас, Стефани Дронне, Айра Коорт, Алекс Самаранч, Изабель Сеговия, Вероника Сильвестр\n",
      "Джонатан М.Блэк, Дженнифер Гошай, Сьюзен Джонсон\n",
      "Лоренцо Ди Бонавентура, Киану Ривз, Стивен Хэймел\n",
      "Вибеке Винделов\n",
      "Гэри Криг, Кевин Праудфут, Джош Розен\n",
      "И.Снежинская\n",
      "Т.Хамитова\n",
      "Эдриэнн Биддл, Джек Кэмпбелл\n",
      "А.Левин\n",
      "Джим Бич, Грэм Кинг, Роберт Де Ниро\n",
      "Нил Х.Моритц, Дебора Форте\n",
      "И.Викторова\n",
      "А.Адамская\n",
      "В.Локтионов\n",
      "Л.Коршик\n",
      "Сильви Барте, Дэниэл Баттсек, Малгозия Бела\n",
      "Вероника Ботанелли, Кристина Сарто\n",
      "Айан Бонхот, Пол Ван Картер, Эндрю Райдер, Ник Тоссинг\n",
      "ООО \"Синемафор-Финанс\", ООО \"МЕДИАТРЕСТ\", ООО \"РФГ Корп\", С.Борисов, К.Дронов, А.Робак\n",
      "Рэнди Мэниз, Рики Толлман\n",
      "Камаль Бансаль\n",
      "С.Миляев\n",
      "А.Мансуров, Ю.Троянкин, Д.Лузанов, А.Гадалов\n",
      "А.Ляхов, А.Калушкин, А.Белов, Д.Суворов\n",
      "ООО \"Кинокомпания Андрея Кончаловского\"\n",
      "С.Кармалита, С.Подшивалов\n",
      "Д.Протопопов, К.Якуненков\n",
      "Б.Машковцев, С.Струсовский\n",
      "Марти Бауэн, Адриан Герра, Вик Годфри\n",
      "Джей Джей Абрамс, Джо Берн, Линдси Вебер\n",
      "Раймундо Бассано, Фернандо Диас\n",
      "М.Рафаил\n",
      "О.Фещенко\n",
      "И.Осипов, Л.Одзял\n",
      "А.Ильченко, Н.Конюшенко\n",
      "А.Рожнова (псевдоним Александра Р'ЮЖ)\n",
      "Клаудия Блюмхубер, Розали Сведлин, Пьерс Темпест\n",
      "Боб Мур, Мила Онг-Твин\n",
      "Мриду Чандра\n",
      "Ели Буш, Элизабет Кантийон, Берна Левин, Эми Паскаль, Скотт Рудин, Оле Сондберг, Сорен Стермос\n",
      "Ален Аттал, Патрик Кине, Хьюго Селиньяк\n",
      "Джерард Батлер, Марк Гилл\n",
      "Стефан Димитриу, Ханна Кларк, Фиона Нейлсон\n",
      "Стив Кловз, Джоан К,Роулинг, Лайонел Уигрэм, Дэвид Хейман\n",
      "Джафар Панахи\n",
      "Жак-Анри Бронкар, Филипп Логи\n",
      "Т.Флеганова\n",
      "Д.Симонов\n",
      "А.Коновальцева (псевдоним Ангелина Подорожная)\n",
      "В.Сотсков, С.Зернов\n",
      "М.Смирнов\n",
      "К.Хандин\n",
      "И.Гусев\n",
      "Г.Калинина\n",
      "С.Кирсанова\n",
      "С.Сорочкин, Д.Силяков\n",
      "В.Захаров\n",
      "Паоло Дель Брокко, Маттео Гарроне, Жан Лабади\n",
      "Дэнис Фрейд\n",
      "Линди Голдштейн, Марк Гордон, Ларри Франко\n",
      "Томас Бургиньон, Клаудио Фальконе, Лоренцо Гангаросса, Оливия Слейтер, Никколо Амманити, Марио Джанани, Лоренцо Мьели\n",
      "Биргит Гоернбок, Ольга Гойстер, Дебби Вандермулен, Валерий Дмитротченко\n",
      "Р.Павлючик\n",
      "Н.Кузнецова, И.Попов\n",
      "Н.Гладких\n",
      "А.Прокопович, Т.Пронина, М.Лившин, О.Басистая\n",
      "Ник Ашдон, Джина Картер\n",
      "Ганс Вайнгартнер, Саймон Амбергер\n",
      "Рэймонд Мэнсфилд, Мэттью А.Родс, Джастин Бёрш\n",
      "Сергей Сельянов, Айя Берзина, Жульен Лофлер, Лоран Фумерон\n",
      "Ю.Тарханова\n",
      "А.Гундоров, С.Кузнецова\n",
      "Д.Астрахан\n",
      "Джейсон Блум, Кайли Ду Фран, Брайан Кэвэна-Джонс\n",
      "Эйн Каннинг, Стив МакКуин, Арнон Милчен\n",
      "В.Еланчук\n",
      "Н.Пиотровский\n",
      "ООО \"РФГ Корп\", А.Петрухин, А.Мареева\n",
      "Элисон Дики, Паскаль Кочето, Майкл Де Лука\n",
      "Джеймс Лопес, Кевин Харт\n",
      "М.Бабикова\n",
      "ИП Макарихин Владимир Юрьевич\n",
      "Е.Бронникова\n",
      "Маню Гарги, Аарон Л.Гилберт, Анита Гу\n",
      "Н.Тихонов-Рау\n",
      "Лука Гуаданьино, Брэдли Дж.Фишер, Дэвид Кайганич, Франческо Мельци д'Эрил, Марко Морабито, Габриэль Моратти, Уильям Шерак, Сильвия Вентурини Фенди\n",
      "Леонардо ДиКаприо, Дженнифер Дэвиссон, Джоби Харольд\n",
      "С.Гусев\n",
      "А.Колесник, И.Попов\n",
      "Тимур Бекмамбетов, Билл Ровзар, Фернандо Ровзар, Андрес Тальявини, Алексис Фридман\n",
      "В.Федорченко\n",
      "Оливье Грумбах, Шарль Жилибер, Лойк Флери\n",
      "Кристин Вачон, Стивен Вулли, Элизабет Карлсен, Памела Коффлер, Мишель Литвак, Гари Майкл Уолтерс\n",
      "Бенуа Делепин, Марк Дюжарден, Гюстав Керверн\n",
      "Стивен Найт, Гай Хили, Грег Шапиро\n",
      "Джон Леннон, Йоко Оно\n",
      "Питер Джексон, Дебора Форте\n",
      "Лукас Линетт-Креч, Майкл Эмерсон\n",
      "ООО \"РФГ Корп\", ООО \"Стартфильм групп\", А.Петрухин, П.Черенков\n",
      "Манс Ретерсвард\n",
      "Кристина Хёрнблад\n",
      "М.Алина\n",
      "И.Куликов, А.Семенов, ООО \"Ника ТВ\"\n",
      "У.Белецкая\n",
      "З.Болотаев, А.Плотников, Н.Агеев, А.Горский, П.Гудков, А.Агеев\n",
      "Кен Агуадо, Фред Бернштейн, Рик Джексон\n",
      "Мачией Лиговски\n",
      "Алекс Гарсиа, Фернандо Де Фуэнтес, Хосе С. Гарсиа де Летона\n",
      "Николас Лесулт, Софи де Хихес\n",
      "Е.Обермаер (псевдоним Е.Шапиро-Обермаер)\n",
      "Джон ДеЛука, Роб Маршалл, Марк Платт\n",
      "Мохамед Аль-Рафи, Майкл Костиган, Кристин Хан\n",
      "А.Савельев, А.Васильев\n",
      "Г.Малков, В.Поляков, С.Агеев, О.Агеева\n",
      "Т.Новикова\n",
      "Андрей Савельев, Артем Васильев\n",
      "Крис Болл, Кертис Дэвид Хардер, Колин Минихан\n",
      "Анатоль Нитке, Рауль Рейнерт\n",
      "Юрий Каганович, Аркадий Коган, Александр Левин, Йона Френкель\n",
      "Александр Абатуров, Ребекка Узель\n",
      "Марианна Шафер\n",
      "В.Соколов\n",
      "Е.Паршина-Штайн (псевдоним Елена Штайн)\n",
      "Е.Милых\n",
      "Роб Кауэн, Питер Сафран\n",
      "Катерин Камборд, Жиль Де Местр, Валентин Перрен, Стефан Симон, Николя Эльгози\n",
      "Кристоф Арни, Хельмут Вебер, Томас Шпрингер\n",
      "Лоренцо Гангаросса, Марио Джанани, Лоренцо Мьели\n",
      "А.Павлович, Д.Миронов\n",
      "В.Поляков, Г.Малков, К.Ёлкин\n",
      "Николя Картье, Аллан Мандельбаум\n",
      "Майкл Бэй, Том ДеСанто, Стивен Дэвис\n",
      "Ави Арад, Фил Лорд, Кристофер Миллер, Эми Паскаль, Кристина Стейнберг\n",
      "М.Якубсон\n",
      "Ю.Софронова\n",
      "А.Тельнов, Д.Цибаускайте\n",
      "А.Круглов\n",
      "О.Серова, О.Земчугова\n",
      "Мэгги Джилленхол, Талия Клейнхендлер, Хандельсман-Керен\n",
      "Одри Гейсел, Джанет Хили\n",
      "В.Михайлов\n",
      "С.Трубицин, А.Горчаков\n",
      "П.Маковкин, О.Ларин\n",
      "Дэниэл Баттсек, Дебора Дэвис, Кайт Коллинз\n",
      "К.Алехина, К.Павлова, Н.Субботин\n",
      "В.Трояновский\n",
      "Тосио Судзуки\n",
      "Чарльз В.Бендер, Герман Васке\n",
      "Е.Раздорская\n",
      "О.Лещинер, О.Ракитянский\n",
      "Джим Бёрк, Брайан Хэйес Карри, Питер Фаррелли\n",
      "Клаудио Монтефуско, Марио Палоски\n",
      "Елена Поляковская\n",
      "А.Златопольский, Р.Дишдишян, Л.Блаватник, Н.Яралова при участии Л.Верещагина, Н.Михалкова\n",
      "Т.Вайнштейн, Ю.Сумачева, Р.Минасбекян\n",
      "Тодд Блэк, Джейсон Блюменталь, Стив Тиш\n",
      "Николас Бланк\n",
      "Ким Ки Дук, Ким Дон-ху\n",
      "Александр Газула\n",
      "М.Криштул, Г.Бадалян, С.Мкртчян\n",
      "Д.Рубежин, Л.Пятницкая, И.Оганесов, Ю.Цвитко, А.Трофимов, М.Миронова\n",
      "Майк Бек, Альваро Бакеро Бенедетти, Алекс Дрэйпер, Ричард В.Кинг, Энди Миттон\n",
      "ООО \"ВИЗАРТ ФИЛЬМ\", ООО \"Централ Партнершип\"\n",
      "С.Быченко\n",
      "Кевин Кинг-Темплтон, Сильвестр Сталлоне, Дэвид Уинклер, Ирвин Уинклер, Чарльз Уинклер, Уильям Чартофф\n",
      "Джейкоб Вассерман, Антонио Кампос, Джош Монд\n",
      "Томас Рюбених\n",
      "Ю.Соболевская\n",
      "Г.Вагина\n",
      "ООО \"Киностудия Крылья\"\n",
      "Г.Игнатов\n",
      "Е.Котунова, О.Володина\n",
      "О.Ракшин\n",
      "В.Брюс Кэмерон, Гэвин Полон\n",
      "Джейсон Блюм, Марк Бьенсток, Эшвин Раджан, М.Найт Шьямалан\n",
      "В.Сокологорский, Т.Цыварева, Н.Истимирова\n",
      "В.Поляков, В.Игнатьев, Р.Дишдишян\n",
      "Даррен Аронофски, Скотт Франклин, Джон Лишер, Джули Йорн\n",
      "Джон Килик\n",
      "Хуан Пабло Галли, Хуан Вера, Рикардо Дарин, Чино Дарин\n",
      "Асаф Бернштейн, Брэд Каплан\n",
      "Уилл Феррелл, Адам МакКей, Джимми Миллер, Клэйтон Таунсенд\n",
      "М.Абдулкадыров\n",
      "Дженнифер Лопез, Бенни Медина\n",
      "И.Дьяченко\n",
      "И.Лисицина\n",
      "Г.Шабанов, П.Степанов, В.Верещагин\n",
      "Ариэль Элвис, Логан Стейнхардт, Али Дзазаери\n",
      "Хайме Романдиа, Карлос Рейгадас\n",
      "Сара Эсберг, Деде Гарднер, Джереми Клейнер, Нэн Моралес, Брэд Питт\n",
      "Шон Андерс, Стивен Левинсон, Джон Моррис\n",
      "Манс Бертас, Клара Груннинг-Харрис, Джерри Карлссон и др.\n",
      "Альваро Лонгория, Александр Малле-Гай, Анхелика Уэте\n",
      "М.Гуцериев, Е.Север, Т.Стацман\n",
      "И.Прокопенко\n",
      "И.Володина, В.Хижнякова\n",
      "М.Батков, С.Старых, Г.Мустафин\n",
      "Дмитрий Ловейко, Марина Бурлаченко\n",
      "Наоми Деспресс, Хлоя Севиньи\n",
      "Г.Ашрапова, Д.Рубежин, С.Безруков, Л.Пятницкая\n",
      "А.Вайсман (псевдоним - Белый), Ю.Цвитко, Л.Пятницкая, А.Третьякова, Д.Рубежин\n",
      "Д.Руюежин, Л.Пятницкая, Д.Колеров, Э.Ким, А.Хомич\n",
      "ООО \"КИНОКОМПАНИЯ \"ЗАДОРНОЕ КИНО\"\n",
      "Раймонд МакКормак, Джорджия Уайсс\n",
      "ООО \"РФГ Корп\", АНО \"Медиаполис\", ООО \"Альт Пакс\", ИП Чумакова С.А., Р.Жиган, А.Алексеев, А.Зубов, А.Мареева, А.Медведев, А.Петрухин\n",
      "Алине Барделла, Франческо Инверницци, Козетта Лагани\n",
      "Кристос Кардана, Крис Мул\n",
      "Майкл Джентиле, Франсуа Ламотт, Давид Пьерре\n",
      "Мэтт Любер, Марк Стюарт\n",
      "Рэйчел Денгиз, Сара Драйвер\n",
      "А.Козлов, А.Фатеев\n",
      "В.Северцев, Д.Литвинов\n",
      "Э.Тумурова\n",
      "Патрисия Уитли\n",
      "Юити Адати, Такуя Ито, Гэнки Кавамура, Юитиро Сато\n",
      "А.Ревва, М.Бальчюнас (псевдоним Марюс Вайсберг)\n",
      "А.Аствацатрян, С.Сельянов\n",
      "С.Серебряный, Г.Клибанер\n",
      "А.Ставиская\n",
      "О.Дроздова\n",
      "К.Герасимов\n",
      "А.Гундоров, В.Тимощенко\n",
      "Е.Галактионова\n",
      "С.Крючков\n",
      "Ким Магнуссон, Тиви Магнуссон, Андерс Маструп\n",
      "Дэн Лин, Фил Лорд, Кристофер Миллер, РОй Ли, Джинко Готох\n",
      "Крит Касемсант, Понгса Корнсри, Сирот Сетабандху\n",
      "А.Хаакана\n",
      "Агустин Альмодовар, Педро Альмодовар, Летисия Кристи\n",
      "Э.Илоян, В.Шляппо, Д.Жалинский, А.Троцюк, А.Кушаев, Р.Татаринцев, Ю.Быков, Шарль-Эврар Чехов\n",
      "Ф.Попов, В.Лещенко\n",
      "Р.Дишдишян, Л.Барац, Р.Хаит\n",
      "Т.Огородникова, В.Будилов\n",
      "Джонатан Блюменталь, Франц Ричард, Дэниэл Торджман\n",
      "А.Гришаков\n",
      "А.Бирюкова, Д.Давиденко\n",
      "А.Марченко\n",
      "М.Артемьев\n",
      "С.Дворцевой\n",
      "Элизабет Авеллан, Боб Вайнштейн, Харви Вайнштейн, Билл Скотт\n",
      "Джим Джармуш, Соня Бучман, Николас Де Ла Мот, Гейб Клингер, Тодд Ремис\n",
      "Сет Майклс, Сара Сометти, Тара Энсли\n",
      "Оливер Бербен, Констанце Гуттманн\n",
      "Дэвид Валдес, Джеймс Кэмерон, Джон Ландау\n",
      "А.Виткин, Г.Грановский, М.Дворкович, Г.Подземельный, П.Буря\n",
      "А.Усаков\n",
      "И.Красников\n",
      "ООО \"ПродюсерЦентр\"\n",
      "Дайан Дрейер, Маргарет Чернин, Джейн Нерлингер Эванс\n",
      "Ори Мармур, Нил Х.Моритц\n",
      "А.Соколов\n",
      "Мишель Меркт, Халед Музаннар, Кэндис Абела\n",
      "Тим Беван, Эрик Феллнер, Найра Парк\n",
      "Финн Гьердрум, Стейн Б.Квае\n",
      "Паскаль Кочето, Грегуар Сорлат, Мартин Кассинелли\n",
      "А.Джазоян\n",
      "ООО \"Новые телеканалы\"\n",
      "Э.Илоян, В.Шляппо, Д.Жалинский, А.Троцюк, О.Урушев\n",
      "Ж.Калинина\n",
      "Ж.Калинина, А.Воронкова\n",
      "О.Резепкин (псевдоним Олег Рой)\n",
      "Н.Фомин\n",
      "Джерард Батлер, Шон Марли\n",
      "Деде Гарднер, Джереми Клейнер, Адам МакКей, Кевин Дж.Мессик, Брэд Питт, Уилл Феррелл, Меган Эллисон\n",
      "ООО \"РФГ Корп\", ИП Урбаева И.О., ООО \"Истоки\", ООО \"Лаборатория НТС\", Б.Уладаев, А.Петрухин, Э.Доржиева\n",
      "Кристофер Лемоул, Тим Заджарос, Ной Хаюсснер\n",
      "Пол Кастро мл.\n",
      "Тим Беван, Амелия Грэйнджер, Али Жаараф, Мишель Райт, Эрик Феллнер\n",
      "Бетси Дэнбьюри, Роберт В.Корт, Джонатан Кинг\n",
      "Бонни Арнольд, Брэд Льюис\n",
      "Исао Такахата\n",
      "Пабло Бакшт, Хосе С.Гарсиа де Летона, Фернандо Де Фуэнтес\n",
      "А.Плотников, А.Рябышев, А.Ушацкий, А.Кублицкий, О.Рябышева, Ю.Щиренко\n",
      "Фред Бергер, Мэтт Манфреди, Фил Хэй\n",
      "Л.Круглов\n",
      "Уинстон Аццопарди, Култхеп Нарула, Адитья Чопра\n",
      "Б.Машковцев\n",
      "Тодд Гарнер, Шон Робинс\n",
      "Эрик Йехельманн, Филип Руссле, Жером Сейду\n",
      "Трип Винсон, Тара Фарни\n",
      "Николя Картье, Брайс Даль Фарра\n",
      "А.Соколов, М.Карасева\n",
      "Б.Куломзин\n",
      "Д.Перуновская\n",
      "А.Хржановский\n",
      "Роберт Салерно, Лэсли Урдэнг, Джей Франк, Том Халс, Дэвид Хьерро\n",
      "Анатолий Иванов, Мария Мухина, Юрий Рысев\n",
      "Кассиан Элвис, Кэти Мастед, Алексей Агеев, Джанатан Монтепаре, Холлис Хилл\n",
      "Джошуа Астрачан, Майкл Анджело Ковино\n",
      "Клинт Иствуд, Джессика Мейер, Тим Мур, Кристина Ривера, Брэдли Томас, Дэн Фридкин\n",
      "Дан Мааг, Даниэль Соннабенд\n",
      "Аллен Бэйн, Жан Бреа, Мюриэль Мерлин, Виктор Хадида, Сэмюэл Хадида\n",
      "Клод Бессон, Люк Бессон\n",
      "Мариано Кон, Хауме Роурес, Фернандо Соколович\n",
      "В.Гассиев\n",
      "В.Гассиев, Ф.Пролиг\n",
      "Д.Дж.Гугенхейм, Дэвид Литвак, Мишель Литвак, Эндрю Лорен, Светлана Меткина, Роберт Салерно, Гари Майкл Уолтерс \n",
      "Маурицио Вассалло, Роберто Пизони, Маргерита Принчипе, Барбара Фригерио\n",
      "И.Ермолов, Н.Фролова, А.Арутюнова, М.Ворожи, И.Устинов, И.Каграманов, Э.Барсегян, В.Богданов, Н.Искандарова, А.Ермолин\n",
      "Мэттью Джордж, Бэзил Иваник, Мэтт Хейнеманн\n",
      "Фрэнсис Форд Коппола, Ким Обри, Джон Эшли\n",
      "Гордон Кэрролл, Уолтер Хилл\n",
      "М.Довженко, Н.Юдина\n",
      "Никлас Викстрем Никастро, Густав Ольден\n",
      "Майкл Дили, Джон Певералл, Барри Спайкингс, Майкл Чимино\n",
      "Дэвид Джозеф Крэйг\n",
      "Катрин Пан, Ван Сяочжу, Лю Цзюнь\n",
      "Л.Геращенко\n",
      "Роберт Огден Барнум, Аарон Л.Гилберт\n",
      "Тайлер Джексон, Сефтон Финчэм, Джек Хеллер\n",
      "Майки Альфред, Эли Буш, Аманда Эделсон\n",
      "Даниэль Алтире, Стивен Алтире\n",
      "Вей Юн Юн, Ван Джинг\n",
      "А.Боярский, С.Сельянов, А.Златопольский\n",
      "В.Быркин, Г.Куценко, В.Шевц, Т.Куранова, Д.Земсков\n",
      "Ю.Сергеев\n",
      "Оливер Том\n",
      "Гильермо Иван, Йозеф Брандмайер, Асен Чанков\n",
      "Кристиан Альварт, Зигфрид Камль, Хартмут Кёлер\n",
      "Чарльз Антониоз, Мурад Белькеддар, Стив Голин\n",
      "Майк Габрави, Ин Е, Шелдон Пан, Эллиот Тун, Чен Силен Хва, Гари Хэмилтон, Майкл Шелби, Хэ Ши\n",
      "Боб Кох\n",
      "Х.Виейтес, Р.Дайенс, А.Дамиан, Д.Кэмпбел-Смит, М.Рамси, А.Тениндж, М.Фелосен, К.Шпект, З.Яржук\n",
      "Э.Илоян, В.Шляппо, Д.Жалинский, А.Троцюк, Р.Гигинеишвили, А.Кушаев\n",
      "А.Сигле, Д.Светозаров, Л.Бударина\n",
      "Ю.Варыханова\n",
      "Джош Аппелбаум, Аарон Дем, Эшли Чейни\n",
      "Лоуренс Бендер, Сидни Киммел, Джон Пенотти, Джеймс Флинн\n",
      "Т.Пащак\n",
      "Роберто Андреуччи, Франческо Инверницци, Козетта Лагани\n",
      "З.Гапиенко\n",
      "А.Куренков, М.Семёнова\n",
      "Кристина Аберг\n",
      "А.Смирнов\n",
      "П.Селин\n",
      "ООО \"Уолт Дисней Компани СНГ\"\n",
      "К.Тимофеев\n",
      "Д.Якунин, Ф.Абрютин, О.Филонова\n",
      "О.Шведова\n",
      "В.Макарова\n",
      "Д.Сафронова\n",
      "Ю.Забурьянный (псевдоним Жора Фероренко)\n",
      "Алессия Гатти, Валентина Занелла, Никола Федригони\n",
      "Конор Бэрри, Джон Кевилл\n",
      "Филипп Мартен, Давид Тион\n",
      "Е.Черных\n",
      "Трэвис Найт, Арианн Сатнер\n",
      "Ирен Крюгер, Джастин Спрингер, Кэттерли Фрауэнфелдер, Дерек Фрей\n",
      "Ален Гольдман\n",
      "Эрнан Курмашев, Акан Сатаев\n",
      "Оливер Дунги, Лоуренс Клерк, Эндрю Лорен\n",
      "Марк Вахрадян, Лоренцо Ди Бонавентура, Стивен Шнайдер\n",
      "Джейсон МакКензи, Дамиан Темпорале\n",
      "С.Торчилин, А.Шишканов, С.Куликов, Д.Щербанов, О.Антипов, К.Елкин, Р.Борисевич, М.Беспалов, В.Горяинов\n",
      "Энтони Пезе, Жером Сейду, Стефан Сперри\n",
      "Корнелия Бойсен, Сюннёве Хёрсдаль\n",
      "Майкл Бейкер, Крис Фергюсон, Арон Барнетт\n",
      "Кристиан Колсон, Ивана МакКиннон, Пол Ричи, Пол Смит, Кит Белл\n",
      "Джек Арбутнотт, Мальте Грюнерт, Ридли Скотт\n",
      "Питер Сафран\n",
      "Эспен Сандберг, Эспен Хорн, Джон М.Якобсен\n",
      "Джереми Томас, Геркулес Беллвилл, Джон Бернард, Питер Уотсон\n",
      "Лоуренс Гордон, Карл Хампе\n",
      "Том О'Дэлл\n",
      "Йоргос Лантимос, Ираклис Мавроидис, Йоргос Тсурианис\n",
      "Майк Габрави, Бэзил Иваник, Гари Хэмилтон\n",
      "Филипп Деларю\n",
      "Али Реза Заррин\n",
      "Пол Льюис\n",
      "Тинатин Каржишвили, Лаша Халваши\n",
      "Бастер Китон, Джозеф М.Шенк\n",
      "Айрис Заки\n",
      "С.Ивекович, Д.Кричли, Д.Кроссвэйт, С.Лэйр, К.Мейнел, Г.Ндириту, Д.Смит, Л.Фоулер, М.Хеске, Д.Холл, Г.Шервин\n",
      "П.\"Хики\" Стручков\n",
      "Дэниэл Бекерман, Ларс Кнудсен, Джоди Редмонд, Родриго Тейшейра\n",
      "В.Маслов, В.Верещагин, Б.Анисимов\n",
      "Ян Бонат, Марк Мертенс\n",
      "Б.Бартолески, Э.Бей, П,Джеремей, Л.Ди Нола, С.Кальванико, Н.Катальдо, Ф.П.Контичелло, М.Лои, Л.Лукетти, Р.Папа, Н.Чирко, Г.Эфрати\n",
      "Джеймс М.Вернон, Кори Лардж\n",
      "Дженнифер Гибгот, Марк Кантон, Арон Левитц, Деннис Л.Пелино, Кортни Соломон, Анна Тодд, Медоу Уильямс\n",
      "Сяо Юн\n",
      "Эндрю Бронфман, Джонатан Бронфман, Лори Фибрук, Виктория Санчес Мандрик\n",
      "С.Саркисов, А.Жижневский, Р.Юсипов, В.Колесник\n",
      "Кэролин Маркс Блэквуд, Франсуа Мвернел, Эндрю Левитас, Габриэль Тана\n",
      "Никола Серра, Карло Дельи Эспости\n",
      "Джеймс Ван, Эмиль Глэдстоун, Гари Доберман\n",
      "Франко Ди Сарро, Диди Ньокки\n",
      "Джае-вон Лим, Кван-су Парк, Сюнг-бок Ли\n",
      "Бинг Лю, Диана Мой Куон\n",
      "Том Тыквер, Шивонн \"Джинджер\" Уилсон, Гай Уилсон и др.\n",
      "Рейнхарт Бетц, Пол Видерхольд, Катрин Шальстрём\n",
      "Харро ван Ставерден, Марина Блок, Кэтлин Гуссенс и др.\n",
      "Карл Кох, Лотти Рейнигер\n",
      "Милорад Крстич, Янош Курди-Фехер, Петер Мишколци, Радмила Роцков, Хермина Роцков \n",
      "Эрик Винкер, Мартин Ролли\n",
      "Джулиан Квинтеро\n",
      "Джемма Артертон, Эванджело Киуссис, Кэти Холли\n",
      "Фредерик Демей, Карл Колперт, Соня Мереу, Майкл Тадросс\n",
      "Николас Антоме\n",
      "Фи Орнсо, Метт Вольбьорн. Скотт\n",
      "Анна-Мария Кантариус, Ханна Палмквист, Томас Эскильссон\n",
      "В.Есинов, Е.Калинина\n",
      "Джонни Андерсен, Стинна Лассен, Ребека Лафренц, Мимми Спенг, Томас Эскильссон\n",
      "Даниэла Алаторре, Келлен Куинн, Люк Лорентцен, Элена Фортес\n",
      "Е.Никишов, В.Федорович, А.Плотников\n",
      "Джордан Дауни, Кевин Стюарт, Рики Фосхайм\n",
      "Николас Альтмайер, Эрик Альтмайер, Давид Рагониг\n",
      "Марен Аде, Саид Бен Саид, Мишель Меркт\n",
      "Д.Добужинский, С.Сельянов\n",
      "Т.Тания, С.Давдиев, В.Бебия \n",
      "Д.Ковалевский\n",
      "Сет Каплан, Уилл Хайд, Эзра Венетос\n",
      "Анна-Лена Вибом\n",
      "Николя Картье. Брюс Дэвей, Мэл Гибсон, Гастон Павлович\n",
      "А.Савельев, А.Васильев, Валерия Гай Германика\n",
      "С.Медведева, Ю.Медведева, М.Стрелкова, В.Черкашин\n",
      "Джастин Бальдони, Кэти Шульман\n",
      "Роджер Бирнбаум, Ребел Уилсон\n",
      "Татьяна Грауллера, Лила Авильес\n",
      "Йорам Виллинг, Марсель Ленц, Пит-Харм Стерк, Гвидо Шваб\n",
      "И.Стюарт, М.Османов, А.Каминская, Д.Глинский, А.Марягин, С.Яхонтов, М.Ларинина, А.Васильев\n",
      "Джэй Пэрсли, Ричард Саенз, Ким Хенкел, Тоуб Хупер\n",
      "Дженнифер Додж, Дэвид Таунсенд, Мэттью Уэкслер, Кит Чэпман\n",
      "Люк Бессон, Ариэль Зейтун, Лиза Эллзи\n",
      "Кен Андерсон, Торстен Вегенер\n",
      "А.Киселев\n",
      "Эли Бардха, Фред Бергер\n",
      "Ксимо Перес\n",
      "Софи-Мари Верден, Маркус Хаманн\n",
      "Паскаль Бретон, Генри Дебюрме, Рафаэль Роше, Лионель Узан\n",
      "Кристоф Сервони, Марк Фисцман \n",
      "Джереми Люттер, Жослин Расселл, Робин Чан\n",
      "Пьер Гиар, Филипп Боэффард, Реми Бура\n",
      "Сергей Сельянов, Мерседес Гамеро, Микель Лехарса, Франсиско Рамос\n",
      "Р.Давлетьяров, Г.Поземельный\n",
      "Е.Кононенко, О.Леснова, А.Лушин, Р.Адамян, Ю.Цвитко\n",
      "Каролина Бланко, Рене Эзра\n",
      "Себастьен Ошер, Серж де Пук \n",
      "Жан-Франсуа Тости\n",
      "Фатих Акин, Нархан Шекерджи\n",
      "Дэн Лин, Джонатан Эйрих\n",
      "Джеймс Ганн, Кеннет Хуанг\n",
      "Мэри Пэрент, Кейл Бойтер, Хиденага Катаками, Дон Макгоуэн\n",
      "А.Рыбников\n",
      "Бэзил Иваник, Эрика Ли, Джоби Харольд\n",
      "Джо Берлингер, Николя Картье, Майкл Костиган\n"
     ]
    },
    {
     "name": "stdout",
     "output_type": "stream",
     "text": [
      "Летти Аронсон, Люси Дарвин, Гарет Уайли\n",
      "Кристофер Алендер, Роксанна Бенжамин\n",
      "Г.Евтушенко\n",
      "Сэм Мэйдью, Дэвид Мимран, Джордан Шур\n",
      "Джеймс Каллен Брэссак\n",
      "Мелита Тоскан дю Плантье, Мари-Жанна Паскаль\n",
      "Расселл Страйнер, Карл Хардман\n",
      "Родриго Эрранс, Стефани Бошеф, Томас Бода\n",
      "Ингвильд Эвьемо, Пер Арнштейн Аамот, Ове Хайборг\n",
      "Ален Аттал, Жером Сейду\n",
      "Тигран Амбарцумян\n",
      "Келвин Манро, Тимоти Уайт\n",
      "Армандо Гутьеррез\n",
      "Кристофер Алендер, Дэвид Гроув Черчиль Вист \n",
      "Оскар Генерале, Джефф Эллиотт\n",
      "Лиз-Мари Амар\n",
      "Л.Шнайдерман, Л.Садилова\n",
      "К.Михайлова, К.Фам\n",
      "Адам Болинг, Дэвид Рейд, Дэвид Ферниш\n",
      "В.Кречетова, С.Осипьян, С.Штерн, Д.Горелик, П.Лунгин, Е.Панфилов\n",
      "В.Микова\n",
      "Г.Добрыгин\n",
      "Алекс Гарсиа, Джон Джашни, Мэри Пэрент, Брайан Роджерс, Томас Талл\n",
      "Синди Райс, Джереми М.Розен, Джон Фрэнк Розенблюм\n",
      "Оливье Дельбоск, Эмильен Биньон, Кристин де Жекель\n",
      "Стивен Номура Шибле\n",
      "В.Козлов\n",
      "Тони Стивенс, Джона Стро, Джейсон Маккензи, Нина Контрерас\n",
      "С.Корнихин, В.Федорович, Е.Никишов, П.Лилиенфельд, ООО \"1-2-3 Продакшн\"\n",
      "В.Кузовлев, М.Кузовлева\n",
      "Дмитрий Ловейко\n",
      "Т.Воронецкая \n",
      "Майкл Барнетт\n",
      "Р.Нестеренко, Т.Нестеренко\n",
      "Дэвид Крокетт, Руперт Уайатт\n",
      "Агустин Альмодовар, Эстер Гарсиа\n",
      "Михель Шуннеманн, Эльс Вандеворст\n",
      "Митали Гошал, Сурья Синха, Суменду Чаттерджиа\n",
      "Фред Бергер, Джейми Белл\n",
      "Оливье Мейру, Бенедикт Куврю\n",
      "Л.Ярмольник, В.Тодоровский\n",
      "Ф.Попов, В.Малышев\n",
      "С.Сельянов, К.Эрнст, Н.Дрозд-Макан\n",
      "Джаред Голдман, Майкл Дуглас, Роберт Митас \n",
      "И.Дружинин, Д.Вологдин\n",
      "А.Котелевский, А.Новиков, И.Есин\n",
      "Клоди Оссар, Хельмут Бройер, Бастиан Грис\n",
      "Ксавье Долан, Кэрол Монделло, Дэниэл Морин\n",
      "Джиованни Капальбо, Пилар Сааведра, Манфреди  Сааведра\n",
      "Анн Бюргюн, Майкл Де Лука, Роберт Энгелман\n",
      "Ху Лэйлэй, Ли Лиань\n",
      "Ивэн Краусс, Тодд Дуглас Миллер, Томас Петерсон\n",
      "Нестор Саенц Кампос\n",
      "А.Гадалов, Ю.Разыков, М.Молотов, В.Кислицын, Д.Лузанов\n",
      "Ришар Гранпьер, Дмитрий Рассам\n",
      "Дитер Похлатко, Якоб Похлатко, Ральф Циммерман\n",
      "Дэвид Коллинз, Тим Деннисон\n",
      "Клаудио Ардженто, Сальваторе Ардженто\n",
      "Райан Беллгардт, Гален Кристи, Крис Хойт\n",
      "А.Дж.Дикс, Эван Голдберг, Барбара А.Холл\n",
      "Т.Абрамова, Е.Тряпицына\n",
      "Марк Нильсен\n",
      "Клаус Клаузен, Эдда Райзер, Джозеф Штайнбергер\n",
      "Джонатан Бронфман, Роберт Будро, Фредерик Зандер\n",
      "Эрик Бреннер, Дэниэл Фаррандс\n",
      "Турид Ёверсвеен, Хокон Эверос, Мария Гаде Денессен\n",
      "С.Зернов, И.Лопатёнок\n",
      "И.Добровольский, О.Ледяева, Ю.Перкуль\n",
      "Сет Грэм-Смит, Дэвид Катценберг, Крис Фергюсон\n",
      "Жан-Пьер Дарденн, Люк Дарденн, Филипп Логи, Мартин Скосезе\n",
      "Лукас Линетт-Креч\n",
      "Джон Фавро, Карен Гилкрайст, Джеффри Силвер\n",
      "Кристи Белл, Мэтт Уильямс\n",
      "Саша Клайн, Владимир Прудкин\n",
      "Филип Дэй, Джефф Миллер, Оксана Орлан\n",
      "Ержан Ахметов, Серик Жубандыков, Юлия Ким\n",
      "Виктор Илюхин\n",
      "Марсия До Валес, Майкл Райли\n",
      "Марк Кантон, Рэндолл Эмметт\n",
      "В.Хотиненко, Д.Литвинов\n",
      "Д.Якунин, Ф.Абрютин\n",
      "Кен Кацумото, Эндрю Тайт\n",
      "Вильгельм Домке-Шульц, Александр Малькевич\n",
      "О.Яньков\n",
      "Н.Рубштейн\n",
      "В.Фекленко\n",
      "Л.Искандерова, А.Автандилян\n",
      "Н.Сергеева (псевдоним Н.Берег)\n",
      "Е.Монастырская\n",
      "ООО \"Стар Медиа Дистрибьюшн\", ОАО \"ТРК ВС РФ \"ЗВЕЗДА\", ООО \"АКЦЕНТ\" (Телевизионный канал РЕН ТВ) \n",
      "Шалом Айзенбах\n",
      "Джошуа Астрачан\n",
      "Каак Щин-э, Мун Ян-гвон, Мики Ли\n",
      "Джон Фрэнсис Дейли, Джонатан М.Голдштейн, Джереми Сэмюэлс\n",
      "Мэтью Верхак, Томас Верхак\n",
      "Ришар Гранньер, Симон Тротье\n",
      "Нина Контрерас, Дэн Мокрий, Барт Дженнетт, Дэвид Шарпле\n",
      "Бен Гез, Миша Маклэрд\n",
      "Росс Грейсон Бэлл, Арт Линсон, Чин Чэффин\n",
      "Магдалена Простедер, Мигель Анджело Пэйт, Тилль Шмербек, \n",
      "Люк Бессон, Джейсон Клот, Эрик Мэтис\n",
      "Ник Бауэр, Эндрю Берг, Лор Вайссе\n",
      "И.Мишин, М.Муссель, Б.Гуц\n",
      "В.Сорокин, В.Горошникова\n",
      "Мэтт Аселтон, Мохамед АльРафи\n",
      "Дэвид Клейкенс\n",
      "Владислав Плахута, Роман Разум, Дмитрий Шевченко\n",
      "Дэниэл Бобкер, Сара Кертис, Эрон Крюгер, Пол Хэнсон\n",
      "Эрик Йехельманн\n",
      "А.Кибкало\n",
      "Маркантонио Боргез, Филипп Мартен, Давид Тион\n",
      "Патрик Андерссон, Ларс Кнудсен\n",
      "Б.Аракелян, М.Запорожский, А.Гаспарян\n",
      "А.Морозов\n",
      "Гастон Дюпра\n",
      "Эрик Альтмайер, Николас Альтмайер, Филипп Каркассон\n",
      "Эндрю Старк, Йен Бенсон, Эндрю Босвелл\n",
      "Трой Льюм, Эндрю Мэйсон, Тристан Роуч-Тернер\n",
      "Диллон Д.Джордан, Орен Муверман, Гай Наттив, Джейми Рэй Ньюман, Селин Рэттрэй, Труди Стайлер\n",
      "А.Рябышев, А.Плотников, А.Ушацкий\n",
      "Дэвид Клейкенс, Штефан Райзер, Феликс Цакор\n",
      "Вэл Абель, Майкл Манассери, Уолтер С.Холл\n",
      "Грэм Бродбент, Митчелл Каплан, Паула Мазур\n",
      "К.Карунамуртхи, А.Субашкаран, А.Белая, Г.Мисра, Н.Сингх, Сундаррадж, Н.Варадараджан  \n",
      "Наохиро Огата, Кэйити Томура, Томоко Ямада\n",
      "Джинн Эльфан Феста, Брайан Грейзер, Рон Ховард, Майкл Розенбер, Найджел Синклерг\n",
      "Габи Илиоу, Монелла Каплан, Евгения Танаева\n",
      "Жак-Анри Бронкар, Оливье Бронкар, Филипп Логи\n",
      "Рон Юань, Деде Никерсон\n",
      "Лензо Йоон\n",
      "Т.Каримов, М.Курбатов, Д.Фикс\n",
      "Шэннон МакИнтош, Квентин Тарантино, Дэвид Хейман\n",
      "Хирам Гарсиа, Дуэйн Джонсон\n",
      "А.Гуськов, С.Сельянов\n",
      "К.Малкин-Фам, Б.Минц, Е.Одинцов, К.Михайлова\n",
      "С.Сельянов, А.Петрухин\n",
      "Доминик Беснеар, Дениз Робер\n",
      "Егор Олесов\n",
      "Поппи Диксон, Джонатан Чинн, Саймон Чинн\n",
      "Джон Коэн\n",
      "Джейсон Ф.Браун, Шон Дэниэл, Гильермо дель Торо\n",
      "Шушаник Аревшатян, Валерий Саарян\n",
      "Марселино Алманса, Антонио Бандерас\n",
      "Ксавье Долан, Нэнси Грант, Джо Иаконо, Лиз Лафонтэйн, Мишель Меркт\n",
      "В.Поздняков\n",
      "Андре Янсе, Тон Оккерсе\n",
      "Нобухиро Осава, Сэйдзи Миядзаки, Кохэй Кавасэ, Юдзи Мацукура\n",
      "Кристин Барр, Эухенио Дербес, Джулия Пистор\n",
      "Джеймс Харрис, Роберт Джонс, Марк Лэйн\n",
      "Джоэнн Ли, Фабрицио Палаферри, Сицилия Кваттрини\n",
      "Гэбриел Кэмпой, Мартин Семпер\n",
      "Грег Бошан, Дебора Либлинг, Джефф Чан\n",
      "Ли Ю-джин, О Хё-джин\n",
      "В.Соловьев, Ю.Храпов, А.Пескова, Д.Тульчинский, С.Квашилава\n",
      "Су Армстронг, Брайан Р.Эттинг\n",
      "Бертран Банелло, Джудит Лу Леви, Гетти Фелен\n",
      "Флоран Моле\n",
      "Чарльз Х.Джофф, Роберт Гринхат, Джек Роллинз\n",
      "Джонатан Макхью, Патрик Мини, Джонатан Платт\n",
      "Том хэнкс, Винсент Лэндэй\n",
      "Сунг-чул Ким\n",
      "Юань Мэй, Ян Чжэньхуа, Ян Сюэцзюй\n",
      "Ф.Абрютин, Д.Якунин, О.Лахно\n",
      "Доминик Киннингэм-Рид, Таран Дейвис, Джордж Даффилд, Даниэль Фергюсон\n",
      "Александр Ажа, Джастин Бёрш, Крэйг Дж.Флорес\n",
      "С.Саввина, С.Шишигин\n",
      "В.Поляков, Г.Малков, К.Елкин\n",
      "Ю.Ардашев, О.Попова, М.Яровой, Н.Бернякова, А.Ардашев\n",
      "Мунэки Огасавара\n",
      "Н.Петрова, А.Абовян\n",
      "А.Цыренов, А.Бурлов\n",
      "Ю.Грымов\n",
      "Гед Доэрти, Элизабет Фоулер, Мелисса Шийю-Зу\n",
      "Бруно Наон, Каролин Натаф\n",
      "Маноло Мунгуйя, Серхио Матинес\n",
      "Нориясу Хираката\n",
      "Жозе Альваренга мл., Матиас де Бургиньон, Мария Экерховд\n",
      "Антон Калинкин\n",
      "Н.Голодова, А.Желноваков (псевдоним - Антон Желнов)\n",
      "НО Фонд Андрея Кончаловского по поддержке кино и сценических искусств \n",
      "Танназ Аниси, Стив Ли Джонс, Скотт ЛаСтайти\n",
      "Джон Пауэрс Миддлтон, Майкл Хэймлер, Тедди Шварцман\n",
      "Роберт Родригес, Джейн Хартвелл\n",
      "Н.Маханько\n",
      "Вольфганг Браун, Андре Хеннике, Тиль Швайгер\n",
      "Йоханнес Нюхольм\n",
      "И.Добровольский, А.Разуваева, Ю.Перкуль\n",
      "Рене Бессон, Уолтер Джостен, Луильо Руис\n",
      "Дэмиан Темпорале, Кит Чэпман\n",
      "Люсия Гарибальди\n",
      "Роберт Огден Барнум, Джефф Бисли, Рик Дагдэйл, Крис Петтит, Дэвид Рэймонд\n",
      "Нина Джейкобсон, Брэд Симпсон, Джинджер Следж, Меган Эллисон\n",
      "Саманта Кастеллано, Даниель Посада, Джейсон Тамаско\n",
      "Джеймс Вандербилт, Брэдли Дж.Фишер, Уильям Шерак\n",
      "Андреа Блок, Кристиан Хаас\n",
      "Т.Джафаров\n",
      "Ксавье Амблар, Ален Аттал, Гийом Кане\n",
      "Джон А.Амикарелла, Патрис Леду, Иэн Смит\n",
      "Квирин Берг, Кристина Хенкель фон Доннерсмарк, Флориан Хенкель фон Доннерсмарк\n",
      "Наоки Иваса, Ёсики Сакураи\n",
      "Д.Паклин, Т.Ивашкина\n",
      "Т.Бидеган, Д.Брафф, Б.Голдберг, Б.де Ганай, О.Декок, Д.Кеннелли, Д.Э.Кертис, М.Кэннон, Д.Мегхерби, Д.Печберти, А.Рис, Х.Л.Эллис\n",
      "Кэролайн Арагон, Винс Джоливетт, Майкл Мендельсон\n",
      "Дэн Ли, Рой Ли, Барбара Мускетти\n",
      "Наоаки Китадзима, Масаэ Миямото, Кодзи Хирано\n",
      "Хироми Вакабаяси, Кацуя Масумото\n",
      "Джеймс Гэй-Рис, Пол Мартин\n",
      "Тим Беван, Бернард Беллью\n",
      "Мика Брандт, Каллен Брэссак, Джаред Сэфьер, Джеймс Томас\n",
      "Г.Фетисов\n",
      "О.Ледяева, Ю.Перкуль, А.Леонтьев, И.Добровольский\n",
      "Янн Ле Прадо, Мэттью Меткалф, Йохан де Фариа и др.\n",
      "Яэль Фогель, Летиция Гонзалез\n",
      "Даоцян Лю, Щьяочю Джонг, Чжан Чжао, Лян Дин, Фьюквин Сай, Нин Линь, Ли Сяодон, Ни Чжэнвэй, Лью Дэбин\n",
      "Нина Джейкобсон, Брэд Симпсон\n",
      "Анджелина Джоли, Джо Рот, Дункан Хендерсон\n",
      "Крис Бендер\n",
      "Диди Ньокки, Франко Ди Сарро\n",
      "Алекс Сервантес, Бруно Феликс\n",
      "Кори Пирсон, Эби Табоун\n",
      "Кристоф Арни, Хельмут Вебер, Талин Озбалик, Томас Шпрингер, Соня Эверс\n",
      "Уилл Феррелл, Джессика Элбаум\n",
      "Козетта Лагани, Маурицио Манни\n",
      "Феномен Ю Кей ЛТД\n",
      "Дрейк Доримус, Адам Гиббс, Чип Хэмилтон\n",
      "Венди Файнерман, Стив Старки, Стив Тиш\n",
      "Я.Жалнин, И.Шемятов-Василенко\n",
      "Джоэл Б.Майклз, Джулианна Мур, Сильвио Мураглиа, Гарри Нинкель, Барт Фрейндлих \n",
      "И.Тинников, И.Драничкин, В.Камзалаков, А.Шпет, Е.Куминова, Е.Е.Рычков\n",
      "Марк Бутан, Ярив Милчан, Брэд Питт\n",
      "Паскаль Кочето, Мишель Меркт, Оливье Пере, Грегуар Сорлат, \n",
      "И.Шемятов-Василенко\n",
      "Д.Батсек, К.Ризер, М.Тирнаур, Д.Чигнелл, Г.Хай, А.Льюис, Н.О'Тул, Н.Стотт, М.Томпсон, Т.Бенджамин, Э.Фронтейн Брайант, Э.Шнапп, Р.Шареноу\n",
      "И.Дэвис, К.Холли, Ш.Мёрфи, Д.Уилсон, Т.Бенски, М.Клиффорд, С.Хаддад, Л.Макара, К.Дж.Уолш, Э.Хоран, Б.Мэсседж, Т.О'Ши, Д.Рив\n",
      "Мартин Хейслер, Дагмар Мильке, Катарина Бергфельд, Рольф Бергманн\n",
      "Хайно Декерт, Сигрид Дюэкьер, Аймара Рекес\n",
      "Хелен Клукас\n",
      "Мартин Московиц, Кристоф Мюллер, Марсель Хартгес, Керстин Шмидбауэр\n",
      "Симоне Гаттони, Беппе Каскетто, Виола Фюген\n",
      "Ави Лернер, Ярив Лернер\n",
      "Исаак Гёртсен, Наталья Земцова, Рагна Мидтгард, Матиас Фьельстрём, Мартин Эдельстин\n",
      "Д.Фадеев, И.Гризенко\n",
      "К.Оганисян\n",
      "Барнаби Томпсон\n",
      "Д.Кунилов\n",
      "Т.Андрианова (псевд.Т.Вигель)\n",
      "Брэдли Купер, Эмма Тиллинджер Коскофф, Тодд Филлипс\n",
      "Хуан Хосе Кампанелла, Аксель Кушевацки\n",
      "Эико Танака\n",
      "Патриша Уитли\n",
      "Джин Лим\n",
      "Люк Кэрролл, Катрин Уиндер, Филлип Глассер\n",
      "Петр Келлер, Роберт Шнайдер, Леопольдо Гоут\n",
      "А.Ананикян, Г.Андреасян, С.Андреасян\n",
      "Пьер Ивен, Фред Бергер, Глэдис Брукфилд-Хэмпсон\n",
      "Брайс Даль Фарра, Клод Даль Фарра, Брайан Киди\n",
      "Сюзанн Бёрги\n",
      "Кит Калдер, Джессика У, Стивен Хутенски\n",
      "Ашок Амритрадж, Джейсон Блум, Трэвис Клафф\n",
      "Летти Аронсон, Эрика Аронсон\n",
      "Анита Го, Даниэль Тейт Мелиа, Эндрю Миано\n",
      "Дэмиан Темпорале, Кит Чэпман, Дэйв Палмер\n",
      "Кайл Гиббон, Шани Хинтон, Марк Хеферлин\n",
      "Сэм Бисби, Теодора Данлэп, Эмили Лео\n",
      "Джерри Брукхаймер, Дэна Голдберг, Дэвид Эллисон\n",
      "Ави Гревал, Полли Кемп, Жаклин Эденбрау\n",
      "Лорен Боден, Гаэль Ноуэлль, Лоран Флао\n",
      "Джордан Бекман, Суки Чю\n",
      "Байрон Кеннеди\n",
      "Дэвид Ливингстоун, Ли Дин, Чарльз Даймонд\n",
      "Сюзанн Тодд, Марк Камине\n",
      "Розали Варда\n",
      "Эстефани Гаона\n",
      "П.Хики, Г.Охлопков\n",
      "Д.Ловейко\n",
      "Андрей Клюкович, Андрей Курейчик, Виктор Лобкович, Сергей Якубовский\n",
      "Расселл Страйнер, Карл Хардмен\n",
      "Лиз Глоцер, Дэвид В.Лестер, Ники Марвин\n",
      "А.Герцен\n",
      "Дон Харди, Дэна Начман\n",
      "Джордан Барбер, Зак Липовски, Адам Б.Стейн\n",
      "Майкл Мендельсон, Джим Стил, Симон Бельтран Эчеверри\n",
      "Тодд Гарнер, Элай Рот, Марк Фазано\n",
      "Альберт Бергер, Тим Захарос, Кристофер Лемоул, Лие Сарки\n",
      "Эрик Дикенс, Пейдж Фельдман\n",
      "Жослин ДеБоэр, Доун Люббе, Натали Мецгер, Мэтт Миллер, Джефф Робертс\n",
      "Джордж Миллер, Даг Митчелл, Брюс Берман\n",
      "Витторио Чекки Гори, Марио Чекки Гори\n",
      "Вероника Кайла, Бенедикт Куврю, Реми Бура\n",
      "Рэм Бергман, Райан Джонсон, Леопольд Хьюз\n",
      "Е.Михайлова, В.Галыгин, В.Колесник, А.Седых, Г.Атаев, А.Камынин\n",
      "Е.Никишов, В.Федорович, М.Филатов\n",
      "С.Бобза, Г.Малков, В.Поляков, М.Кучмент\n",
      "Фил Грабски\n",
      "Марианна Яровская, Пол Грегори, Митчелл Блок, Марк Харрис\n",
      "Коитиро Ито, Норитака Кавагути, Гэнки Кавамура, Вакана Окамура\n",
      "Юго Желен, Стефани Сэлерье, Валери Гарсиа\n",
      "Ребекка О'Брайэн, Филипп Логи, Эмер МакМахон\n",
      "Уэйн Марк Годфри, Джеймс Харрис, Бэзил Иваник\n",
      "Джеймс Кэмерон, Дэвид Эллисон, Эдвард Чэн\n",
      "Ове Хайборг, Элизабет Опдаль, Эрик Смидесанг Слоэн\n",
      "Е.Митешина\n",
      "Джулиан Феллоуз\n",
      "Гэйл Берман\n",
      "Мисако Сака, Джереми Томас, Мунэюки Кии\n",
      "Т.Виноградова, С.Большакова\n",
      "Дэвид Таунсенд, Дэмиан Темпорале, Кит Чэпман\n",
      "Марина Алессандра Марзотто, Эльда Ферри\n",
      "Марк Коршак\n",
      "Мэгги Монтейт, Пол Рафаэль, Дэвид Уэйд\n",
      "ООО \"Спортания\"\n",
      "Кароль Ламбер, Марк Миссонье, Стефани Сэлерье\n",
      "Александр Клименко, Светлана Пономаренко\n",
      "Рикардо Рамон\n",
      "Рэйчел Гриффитс, Ричард Кедди, Сьюзи Монтаг-Делени\n",
      "Картер Де Хейвен, Чарльз Чаплин\n",
      "Чарльз Чаплин\n",
      "Нурия Вол, Адриан Герра\n",
      "М.Врубель, А.Андрющенко, Ф.Бондарчук\n",
      "Тревор Мейси, Джон Берг\n",
      "Д.Ловейко, М.Бурлаченко\n",
      "Уоррен Карр, Брайан Кэвэна-Джонс, Грег Шапиро\n",
      "Клеман Мисерез, Маттье Вартер, Квентин де Ревель, Давид Джонардо\n",
      "Кит Калдер, Джессика У, Майк Фолбо\n",
      "Моника Бакарди, Джунбум Хео, Андреа Иерволино, Ён-ги Ли, Джа Й.Мо\n",
      "Марко Балсамо, Салим Заруи, Алекс Корвен Карониа\n",
      "Хелена Даниэльссон, Стефан Барон, Пер Бувенг\n",
      "Дженно Топпинг, Дани Бенфелд, Питер Чернин\n",
      "А.Емкужев, А.Хуажева, ООО \"Корпорация Русская Фильм Группа\"\n",
      "Хэрел Голдштейн, Клаудио Кастравелли, Жан Обер\n",
      "Элизабет Бэнкс, Даг Белград, Элизабет Кэнтийон, Макс Хэнделман\n",
      "Грег Йолен, Билл Кондон\n",
      "Хидэаки Хатта, Синъитиро Хатта\n",
      "П.Зарукин, О.Филипук, Ф.Ламшин, М.Абрамов, Н.Трынкин, В.Ряшин, И.Бурец\n",
      "Франческа Д'Амичис, Сузанне Ростоски, Свенья Мандель, Светлана Артемьева, Сергей Фомин\n",
      "Франсуа Краус, Мартин Мец, Дени Пино-Валенсьенн\n",
      "Марк Гордон, Харальд Клозер, Роланд Эммерих\n",
      "Ксавье Долан, Нэнси Грант\n",
      "Криспин Мэнсон, Мэттью Стрэдлинг\n",
      "Бенжамин Соли, Терренс Малик, Сара Стеннетт\n",
      "Филипп Бобер, Бертран Фаврэ, Джессика Хауснер\n",
      "Донг Ву Лии, Сеонг Су Ким, Най Янг Квак\n",
      "В.Федорович, Е.Никишов, И.Куликов, ООО \"1-2-3 Продакшн\"\n",
      "Сюннёве Хёрсдаль, Асхильд Ариан Рамборг, Клоэ Гарбай\n",
      "Роллан Балестье, Стефани Леви\n",
      "Ив Дарондо, Эммануэль Приу\n",
      "Шон Андерс, Джон Моррис, Джон Рикард, Зак Шиллер\n",
      "Хамед Джафари\n",
      "Пол Кампф, Луильо Руис, Роси Акоста\n",
      "Тимур Бекмамбетов, Мартин Скорсезе\n",
      "Кристоф Фиссер, Том Циклер\n",
      "К.Елкин\n",
      "Рафик Сарджанян\n",
      "Реми Бура, Алексис Диоп, Мишель Меркт\n",
      "Пит Блюмел p.g.a., Кэти Твигг, С.Сельянов, И.Рожков, В.Григорьев\n",
      "Мумин Шакиров\n",
      "Чо Сон-гю, Мён-Чхоль Сон, Дэвид Чо, Ким Ки Дук\n",
      "Филипп Мартен, Давид Тион, Лилиан Эш, Кристел Хенон\n",
      "Алекси Бардю, Хелен Виноградов, Айя Берзина\n",
      "Дэни Гарсия, Хирам Гарсия, Дуэйн Джонсон, Джейк Кэздан, Мэтт Толмак\n",
      "Крейг Камерон, Майкл Мелски \n",
      "Азиз Джиндани\n",
      "П.Дж.Аллен, А.Блаватник, О.Блаватник, Д.Гарги, С.Кантор, В.Моррис, Э.Мосс, Т.Пек, С.Перри, Д.Филд, Д.Шутц\n",
      "К.Арммер мл., Л.Бак, Ч.Райли, М.Хейдельбергер, Н.Шейхруха\n",
      "Н.Тихонов (псевд.Н.Тихонов-Рау)\n",
      "Том Харпер, Дэвид Хоберман, Тодд Либерман\n",
      "Туфик Айади, Кристоф Барраль, Алис Жерар и др.\n",
      "Хельге Альберс, Иланн Жирар, Алла Ковган и др.\n",
      "О.Степанцова, А.Трусова, Г.Джафарова\n",
      "И.Добровольский, Ю.Перкуль, О.Адрианова, А.Разуваева\n",
      "О.Авинова\n",
      "А.Басов\n",
      "Е.Срапян\n",
      "Седрик Клапиш, Бруно Леви, Гаэтан Дэвидё\n",
      "Джесси Хендерсон\n",
      "Майкл Бедерман, Билл Миглиор, Эдвард Нортон, Гиджи Прицкер, Рейчер Шейн\n",
      "Николя Дюваль-Адассовски\n",
      "Светлана Палмер, Луки Стипетич\n",
      "Чан Гён-ик, Чон Джи-хун, Пэк Кён сук\n",
      "Ян Шэнь, Мишель Меркт\n",
      "Дара Вентрауб, Эндрю Рона, Дэна Сано, Алекс Хейнеман, Памела Эбди\n",
      "Чедвик Боузман, Логан Коулз, Джо Руссо, Энтони Руссо\n",
      "Фред Бергер, Брайан Кэвэна-Джонс, Кристина Пиовесан\n",
      "Джейкоб Ярек, Джонни Андерсен, Кристиан Хольм-Глад\n",
      "Том Списс, Марк Конрад, Сьюзанн Функе\n",
      "Джефф Чан\n",
      "Дэмиан Темпорале, Кит Чэпман, Конни Квак\n",
      "Мэтт Уолдек\n",
      "Ю.Казачков\n",
      "Г.Васильев, С.Саркисов, И.Попов\n",
      "Джей Джей Абрамс, Кэтлин Кеннеди, Мишель Реджван\n",
      "Стэнли Кубрик, Брайан В.Кук, Мэтт Уэллс, Ян Харлан\n",
      "Э.Илоян, Д.Жалинский, В.Дусмухаметов, Т.Бадзиев, В.Шляппо, А.Троцюк, Р.Минасбекян, В.Верещагин, А.Кушаев\n",
      "Джеймс Эдвард Баркер, Марк Голдберг, Эндрю Прендергаст, Дэвид Хэйринг\n",
      "О.Боброва, Д.Муратов\n",
      "Билл Бойс, Даниэль Стори, Дэвид Таунсенд\n",
      "Е.Сигал\n",
      "Л.Соломатина (Томилова)\n",
      "Дэвид О.Селзник\n",
      "Алис Жерар, Эдуард Вейл\n",
      "В.Сенина\n",
      "Малене Бленков, Сандра Каннингэм\n",
      "Томохико Исии, Хаяо Миядзаки, Тосио Судзуки\n",
      "Ф.Бондарчук, М.Врубель, А.Андрющенко, Д.Рудовский\n",
      "Джейлан Атаман-Джека\n",
      "С.Мелькумов, А.Роднянский, М.Вайсберг, Р.Минасбекян\n",
      "ВГИК\n",
      "Поппи Бегум, Ник Пойнц\n",
      "Джефф Боулер, Дэниэл Гродник, Луильо Руис, Брэт Саксон, Кирк Шоу\n",
      "Дженнифер Додж\n"
     ]
    }
   ],
   "source": [
    "for a in data['producer'].unique():\n",
    "    print(a)"
   ]
  },
  {
   "cell_type": "markdown",
   "metadata": {},
   "source": [
    "Та же самая ошибка присутствует в столбцах 'director' и 'producer' (например, 'И.Гелашвили' и ' И.Гелашвили', 'Ф.Бондарчук' и ' Ф.Бондарчук').\n",
    "\n",
    "Возможная причина указанных выше дубликатов может быть ошибка при вводе данных."
   ]
  },
  {
   "cell_type": "code",
   "execution_count": 18,
   "metadata": {},
   "outputs": [
    {
     "name": "stdout",
     "output_type": "stream",
     "text": [
      "0\n"
     ]
    }
   ],
   "source": [
    "data['production_country'] = data['production_country'].str.replace(';', '')\n",
    "data['director'] = data['director'].str.lstrip()\n",
    "data['producer'] = data['producer'].str.lstrip()\n",
    "print(len(data[data.duplicated()]))\n",
    "#data = data.drop_duplicates()"
   ]
  },
  {
   "cell_type": "markdown",
   "metadata": {
    "id": "52fOPrEBgFyQ"
   },
   "source": [
    "#### Шаг 2.4. Изучите категориальные значения\n",
    "\n",
    "- Посмотрите, какая общая проблема встречается почти во всех категориальных столбцах;\n",
    "- Исправьте проблемные значения в поле `type`.\n",
    "\n",
    "<div id=\"accordion\">\n",
    "    <div class=\"card\">\n",
    "        <div class=\"card-header\" id=\"headingThree\">\n",
    "            <button class=\"btn btn-link collapsed\" data-toggle=\"collapse\" data-target=\"#collapseHint_1\" aria-expanded=\"false\" aria-controls=\"collapseHint_1\">Подсказка</button>\n",
    "        </div>\n",
    "        <div id=\"collapseHint_1\" class=\"collapse\" aria-labelledby=\"headingThree\" data-parent=\"#accordion\">\n",
    "            <div class=\"card-body\">\n",
    "В поле <code>type</code> есть несколько значений, у которых появился пробел в начале строки. Самый простой способ их «починить» -- использовать метод <a href=\"https://pandas.pydata.org/docs/reference/api/pandas.Series.str.strip.html#pandas.Series.str.strip\">.str.strip</a>. Этот метод удаляет все пробелы, которые встречаются в начале и в конце строки. Применяют его таким образом:<br>\n",
    "<code>df['type'].str.strip()</code>\n",
    "            </div>\n",
    "        </div>\n",
    "    </div>\n",
    "</div>"
   ]
  },
  {
   "cell_type": "code",
   "execution_count": 19,
   "metadata": {
    "id": "PnXKIVdFgFyR"
   },
   "outputs": [
    {
     "name": "stdout",
     "output_type": "stream",
     "text": [
      "<class 'pandas.core.frame.DataFrame'>\n",
      "Int64Index: 7458 entries, 0 to 7484\n",
      "Data columns (total 16 columns):\n",
      " #   Column                 Non-Null Count  Dtype         \n",
      "---  ------                 --------------  -----         \n",
      " 0   title                  7458 non-null   object        \n",
      " 1   puNumber               7458 non-null   int32         \n",
      " 2   show_start_date        7458 non-null   datetime64[ns]\n",
      " 3   type                   7458 non-null   int64         \n",
      " 4   film_studio            7458 non-null   object        \n",
      " 5   production_country     7458 non-null   object        \n",
      " 6   director               7458 non-null   object        \n",
      " 7   producer               6894 non-null   object        \n",
      " 8   age_restriction        7458 non-null   int64         \n",
      " 9   refundable_support     7458 non-null   float64       \n",
      " 10  nonrefundable_support  7458 non-null   float64       \n",
      " 11  budget                 7458 non-null   float64       \n",
      " 12  financing_source       332 non-null    object        \n",
      " 13  ratings                7458 non-null   float64       \n",
      " 14  genres                 7458 non-null   object        \n",
      " 15  box_office             3155 non-null   float64       \n",
      "dtypes: datetime64[ns](1), float64(5), int32(1), int64(2), object(7)\n",
      "memory usage: 961.4+ KB\n"
     ]
    }
   ],
   "source": [
    "def type_to_numeric(x):\n",
    "        if x=='Художественный': return 0\n",
    "        if x=='Анимационный':   return 1\n",
    "        if x=='Прочие': return 2\n",
    "        if x=='Документальный':   return 3\n",
    "        if x=='Научно-популярный': return 4\n",
    "        if x=='Музыкально-развлекательный':   return 5\n",
    "\n",
    "def age_to_numeric(x):\n",
    "        if x=='«18+» - запрещено для детей': return 4\n",
    "        if x=='«6+» - для детей старше 6 лет':   return 1\n",
    "        if x=='«12+» - для детей старше 12 лет': return 2\n",
    "        if x=='«16+» - для детей старше 16 лет':   return 3\n",
    "        if x=='«0+» - для любой зрительской аудитории': return 0\n",
    "        \n",
    "data['type'] = data['type'].str.strip()\n",
    "data['type'] = data['type'].apply(type_to_numeric)\n",
    "data['age_restriction'] = data['age_restriction'].apply(age_to_numeric)\n",
    "\n",
    "data.info()"
   ]
  },
  {
   "cell_type": "code",
   "execution_count": 20,
   "metadata": {},
   "outputs": [
    {
     "data": {
      "text/plain": [
       "array(['боевик,драма,мелодрама', 'драма,военный',\n",
       "       'фантастика,боевик,триллер', 'драма', 'мелодрама,комедия',\n",
       "       'мюзикл,мелодрама,комедия', 'комедия,криминал',\n",
       "       'боевик,триллер,детектив', 'боевик,драма,приключения',\n",
       "       'драма,спорт', 'триллер,драма,мелодрама', 'комедия,мелодрама',\n",
       "       'драма,мелодрама,комедия', 'драма,мелодрама', 'драма,история',\n",
       "       'драма,мелодрама,семейный', 'комедия,мелодрама,криминал',\n",
       "       'комедия', 'боевик,драма,криминал', 'драма,комедия',\n",
       "       'ужасы,фантастика,комедия', 'мультфильм,короткометражка,мелодрама',\n",
       "       'драма,криминал', 'мультфильм,фантастика,фэнтези',\n",
       "       'триллер,драма,криминал', 'драма,мелодрама,биография',\n",
       "       'драма,комедия,военный', 'фантастика,драма,детектив',\n",
       "       'мюзикл,семейный', '', 'военный,приключения,драма',\n",
       "       'документальный,драма', 'драма,биография,история',\n",
       "       'боевик,триллер,драма', 'фэнтези,боевик',\n",
       "       'боевик,комедия,криминал', 'мюзикл,комедия,детский',\n",
       "       'комедия,мелодрама,драма', 'мультфильм,фэнтези,комедия',\n",
       "       'комедия,история', 'мелодрама', 'драма,биография,музыка',\n",
       "       'фэнтези,драма,мелодрама', 'триллер,военный',\n",
       "       'драма,мелодрама,военный', 'мюзикл,драма,мелодрама',\n",
       "       'мюзикл,комедия', 'мультфильм,приключения,семейный',\n",
       "       'ужасы,триллер', 'боевик,драма,военный', 'драма,боевик',\n",
       "       'мультфильм,драма,комедия', 'триллер,криминал',\n",
       "       'военный,биография,драма', 'комедия,семейный', 'военный',\n",
       "       'драма,семейный,биография', 'фэнтези,приключения,семейный',\n",
       "       'драма,криминал,биография', 'ужасы,триллер,детектив',\n",
       "       'боевик,история,драма', 'ужасы,триллер,драма',\n",
       "       'драма,криминал,спорт', 'документальный,короткометражка',\n",
       "       'триллер,драма', 'криминал,детектив,приключения',\n",
       "       'драма,комедия,криминал', 'драма,комедия,вестерн',\n",
       "       'драма,мелодрама,детектив', 'мелодрама,биография',\n",
       "       'фэнтези,мелодрама,драма', 'драма,мелодрама,история',\n",
       "       'комедия,приключения,история', 'приключения', 'драма,семейный',\n",
       "       'криминал,детектив', 'мультфильм,короткометражка,ужасы',\n",
       "       'фантастика,триллер,драма', 'фэнтези,мелодрама,комедия',\n",
       "       'драма,биография', 'комедия,криминал,история',\n",
       "       'триллер,драма,детектив', 'фантастика,комедия,приключения',\n",
       "       'фэнтези,семейный', 'ужасы,фантастика,боевик',\n",
       "       'мелодрама,криминал', 'комедия,приключения,мелодрама',\n",
       "       'боевик,триллер,приключения', 'боевик,приключения',\n",
       "       'боевик,триллер,криминал', 'документальный,военный,история',\n",
       "       'драма,музыка', 'боевик,драма', 'приключения,боевик',\n",
       "       'драма,военный,биография', 'триллер,драма,приключения',\n",
       "       'аниме,мультфильм,фэнтези', 'триллер,детектив,драма',\n",
       "       'боевик,триллер,мелодрама', 'боевик,история',\n",
       "       'приключения,история', 'драма,комедия,приключения',\n",
       "       'фэнтези,комедия,приключения', 'драма,вестерн',\n",
       "       'документальный,музыка', 'мелодрама,драма',\n",
       "       'триллер,криминал,детектив', 'ужасы', 'боевик,комедия,приключения',\n",
       "       'мультфильм,фэнтези,боевик', 'боевик,фэнтези,драма',\n",
       "       'фэнтези,драма', 'фэнтези,боевик,комедия',\n",
       "       'приключения,детский,комедия', 'документальный',\n",
       "       'боевик,триллер,комедия', 'мелодрама,комедия,криминал',\n",
       "       'драма,детектив', 'мюзикл,ужасы,триллер', 'детектив,триллер,ужасы',\n",
       "       'ужасы,фэнтези', 'ужасы,фэнтези,триллер', 'мультфильм,драма',\n",
       "       'ужасы,боевик,фантастика', 'боевик', 'фантастика,боевик',\n",
       "       'мелодрама,комедия,приключения', 'триллер,детектив',\n",
       "       'мюзикл,мелодрама,фэнтези', 'криминал', 'триллер,комедия,криминал',\n",
       "       'боевик,приключения,триллер', 'триллер,драма,военный',\n",
       "       'комедия,семейный,музыка', 'комедия,фантастика,мелодрама',\n",
       "       'фантастика,триллер,криминал', 'комедия,драма', 'боевик,военный',\n",
       "       'ужасы,фантастика,триллер', 'фантастика,драма,мелодрама',\n",
       "       'фэнтези,драма,детектив', 'боевик,триллер', 'боевик,драма,история',\n",
       "       'мультфильм,мюзикл,фэнтези', 'для взрослых,драма,мелодрама',\n",
       "       'мультфильм,боевик,детектив', 'фантастика,мелодрама,боевик',\n",
       "       'ужасы,фантастика,детектив', 'фантастика,боевик,приключения',\n",
       "       'мелодрама,комедия,спорт', 'комедия,боевик,приключения',\n",
       "       'документальный,приключения', 'мультфильм,короткометражка,детский',\n",
       "       'комедия,приключения', 'ужасы,драма', 'ужасы,фэнтези,боевик',\n",
       "       'мультфильм,фэнтези,детский', 'мюзикл,боевик,драма',\n",
       "       'семейный,комедия,драма', 'концерт,музыка', 'фэнтези,боевик,драма',\n",
       "       'драма,комедия,музыка', 'фантастика,фэнтези,боевик',\n",
       "       'фэнтези,комедия,семейный', 'фэнтези,драма,комедия',\n",
       "       'мультфильм,мюзикл,драма', 'триллер', 'боевик,криминал,триллер',\n",
       "       'мультфильм,приключения,драма', 'мелодрама,музыка',\n",
       "       'документальный,музыка,концерт', 'мультфильм,семейный',\n",
       "       'мультфильм,комедия,приключения', 'мультфильм,комедия,семейный',\n",
       "       'фантастика,драма', 'фэнтези,боевик,приключения',\n",
       "       'мультфильм,приключения', 'драма,военный,история', 'история',\n",
       "       'драма,приключения,военный',\n",
       "       'документальный,короткометражка,семейный',\n",
       "       'мелодрама,история,триллер', 'ужасы,детектив',\n",
       "       'мюзикл,комедия,приключения', 'драма,спорт,биография',\n",
       "       'фантастика,боевик,комедия', 'фантастика,приключения,детектив',\n",
       "       'короткометражка,драма,военный', 'драма,мультфильм',\n",
       "       'приключения,семейный', 'детектив', 'триллер,приключения',\n",
       "       'аниме,мультфильм,боевик', 'драма,комедия,биография',\n",
       "       'драма,комедия,спорт', 'боевик,мелодрама,комедия',\n",
       "       'семейный,комедия', 'фэнтези,боевик,триллер',\n",
       "       'документальный,фэнтези,семейный', 'фантастика,фэнтези,драма',\n",
       "       'ужасы,комедия,фэнтези', 'документальный,биография,музыка',\n",
       "       'фантастика,боевик,фэнтези', 'ужасы,боевик,триллер',\n",
       "       'комедия,криминал,семейный', 'приключения,драма',\n",
       "       'криминал,драма,триллер', 'драма,детектив,криминал',\n",
       "       'фэнтези,приключения,комедия', 'комедия,спорт',\n",
       "       'мюзикл,фэнтези,мелодрама', 'мультфильм,фэнтези,приключения',\n",
       "       'фантастика,фэнтези,приключения', 'фэнтези',\n",
       "       'фэнтези,приключения,боевик', 'фантастика,боевик,драма',\n",
       "       'криминал,драма', 'криминал,триллер,драма',\n",
       "       'драма,мелодрама,приключения', 'детский,комедия',\n",
       "       'фантастика,драма,боевик', 'мультфильм,семейный,фэнтези',\n",
       "       'концерт,музыка,документальный', 'ужасы,комедия,приключения',\n",
       "       'драма,мелодрама,криминал', 'ужасы,фантастика,фэнтези',\n",
       "       'боевик,комедия', 'мультфильм,фантастика,комедия', 'триллер,ужасы',\n",
       "       'мультфильм,мюзикл,комедия', 'мелодрама,фэнтези,триллер',\n",
       "       'детский,приключения,комедия', 'комедия,детектив',\n",
       "       'аниме,мультфильм,мелодрама', 'документальный,драма,семейный',\n",
       "       'документальный,биография,история', 'военный,боевик,драма',\n",
       "       'ужасы,комедия', 'комедия,приключения,семейный',\n",
       "       'приключения,биография,история', 'детский,приключения,семейный',\n",
       "       'спорт,драма,биография', 'аниме,мультфильм,ужасы',\n",
       "       'фантастика,боевик,криминал', 'мюзикл,драма',\n",
       "       'драма,криминал,детектив', 'аниме,мультфильм,драма',\n",
       "       'драма,триллер,приключения', 'триллер,криминал,драма',\n",
       "       'фэнтези,комедия,драма', 'мультфильм,комедия',\n",
       "       'драма,комедия,история', 'комедия,биография,история',\n",
       "       'мультфильм,фантастика,приключения', 'аниме,мультфильм,фантастика',\n",
       "       'мультфильм,фэнтези,семейный', 'мультфильм,боевик,комедия',\n",
       "       'комедия,криминал,спорт', 'документальный,мюзикл',\n",
       "       'мелодрама,комедия,музыка', 'биография',\n",
       "       'триллер,криминал,комедия', 'фантастика,драма,комедия',\n",
       "       'комедия,драма,мелодрама', 'фантастика,приключения,боевик',\n",
       "       'мультфильм,фэнтези,драма', 'триллер,комедия',\n",
       "       'драма,приключения,биография', 'фантастика,комедия',\n",
       "       'мелодрама,драма,комедия', 'боевик,криминал',\n",
       "       'драма,криминал,боевик', 'мультфильм,мюзикл,детский',\n",
       "       'драма,фэнтези', 'документальный,семейный',\n",
       "       'фэнтези,драма,приключения', 'ужасы,комедия,фантастика',\n",
       "       'драма,мелодрама,музыка', 'фэнтези,драма,семейный',\n",
       "       'триллер,мелодрама,драма', 'вестерн,боевик,драма',\n",
       "       'мультфильм,короткометражка,комедия', 'триллер,драма,история',\n",
       "       'ужасы,фантастика', 'ужасы,мелодрама,комедия',\n",
       "       'фэнтези,приключения', 'фантастика,триллер',\n",
       "       'ужасы,боевик,фэнтези', 'мультфильм,комедия,детский',\n",
       "       'триллер,драма,биография', 'мультфильм,ужасы,фэнтези',\n",
       "       'мультфильм,ужасы,фантастика', 'ужасы,боевик,комедия',\n",
       "       'драма,биография,спорт', 'мультфильм', 'мелодрама,комедия,драма',\n",
       "       'приключения,фантастика,семейный', 'комедия,криминал,детектив',\n",
       "       'ужасы,триллер,комедия', 'криминал,комедия,триллер',\n",
       "       'семейный,приключения,комедия', 'мультфильм,драма,приключения',\n",
       "       'ужасы,драма,детектив', 'драма,приключения,фэнтези',\n",
       "       'фантастика,мультфильм,драма', 'драма,триллер,детектив',\n",
       "       'драма,история,музыка', 'детский', 'триллер,боевик,криминал',\n",
       "       'драма,фантастика', 'комедия,драма,семейный',\n",
       "       'боевик,драма,комедия', 'комедия,ужасы',\n",
       "       'драма,фантастика,триллер', 'фантастика,драма,триллер',\n",
       "       'история,спорт,драма', 'документальный,биография',\n",
       "       'биография,история', 'спорт,драма', 'боевик,фэнтези',\n",
       "       'мультфильм,фэнтези', 'документальный,комедия,история',\n",
       "       'криминал,комедия,боевик', 'фэнтези,приключения,драма',\n",
       "       'музыка,концерт', 'триллер,драма,боевик',\n",
       "       'комедия,криминал,боевик', 'комедия,фантастика,боевик',\n",
       "       'вестерн,приключения,боевик', 'аниме,мультфильм,комедия',\n",
       "       'детектив,криминал,триллер', 'мультфильм,комедия,криминал',\n",
       "       'комедия,приключения,детектив', 'мелодрама,фантастика,драма',\n",
       "       'драма,комедия,семейный', 'приключения,фантастика',\n",
       "       'триллер,детектив,ужасы', 'комедия,приключения,фэнтези',\n",
       "       'фэнтези,триллер,драма', 'мелодрама,приключения,боевик',\n",
       "       'детектив,триллер,криминал', 'фэнтези,семейный,мелодрама',\n",
       "       'военный,драма', 'документальный,приключения,семейный',\n",
       "       'криминал,комедия,драма', 'комедия,фантастика',\n",
       "       'история,биография,драма', 'мелодрама,драма,музыка',\n",
       "       'боевик,мелодрама', 'комедия,криминал,триллер',\n",
       "       'детектив,триллер,боевик', 'комедия,боевик,криминал',\n",
       "       'комедия,вестерн', 'детский,мелодрама,семейный',\n",
       "       'короткометражка,мультфильм', 'комедия,фэнтези',\n",
       "       'фантастика,драма,ужасы', 'триллер,драма,ужасы',\n",
       "       'драма,фэнтези,история', 'комедия,драма,короткометражка',\n",
       "       'фэнтези,триллер,приключения', 'семейный',\n",
       "       'комедия,криминал,драма', 'комедия,фэнтези,ужасы',\n",
       "       'короткометражка,комедия,криминал', 'фантастика',\n",
       "       'триллер,ужасы,драма', 'мелодрама,драма,фэнтези',\n",
       "       'фантастика,приключения,драма', 'боевик,детектив',\n",
       "       'военный,драма,боевик', 'комедия,мелодрама,фэнтези',\n",
       "       'вестерн,криминал,триллер', 'драма,история,триллер',\n",
       "       'мультфильм,фантастика,боевик', 'детектив,драма,криминал',\n",
       "       'приключения,история,драма', 'мультфильм,семейный,детский',\n",
       "       'биография,драма,история', 'триллер,криминал,боевик',\n",
       "       'история,мелодрама', 'приключения,детский',\n",
       "       'музыка,приключения,концерт', 'военный,драма,комедия',\n",
       "       'фэнтези,боевик,военный', 'фантастика,детектив,боевик',\n",
       "       'мультфильм,фэнтези,история', 'биография,мелодрама,драма',\n",
       "       'документальный,биография,спорт', 'фантастика,комедия,детектив',\n",
       "       'музыка,концерт,документальный', 'триллер,боевик,приключения',\n",
       "       'триллер,драма,комедия', 'детектив,криминал',\n",
       "       'мультфильм,приключения,фэнтези', 'мелодрама,приключения',\n",
       "       'комедия,музыка', 'мелодрама,комедия,ужасы',\n",
       "       'драма,криминал,приключения', 'приключения,детектив,мелодрама',\n",
       "       'драма,криминал,фантастика', 'фэнтези,драма,биография',\n",
       "       'детектив,фантастика,криминал', 'триллер,драма,фантастика',\n",
       "       'ужасы,комедия,боевик', 'мелодрама,история', 'триллер,боевик',\n",
       "       'фильм-нуар,триллер,детектив', 'комедия,криминал,приключения',\n",
       "       'ужасы,триллер,мелодрама', 'военный,драма,история',\n",
       "       'драма,спорт,история', 'документальный,драма,история',\n",
       "       'триллер,мелодрама,детектив', 'детский,семейный',\n",
       "       'мюзикл,семейный,драма', 'биография,военный,драма',\n",
       "       'мультфильм,детский', 'боевик,криминал,драма',\n",
       "       'детектив,фэнтези,триллер', 'драма,боевик,приключения',\n",
       "       'драма,мелодрама,фэнтези', 'детектив,история,драма',\n",
       "       'фэнтези,боевик,ужасы', 'ужасы,фэнтези,мелодрама',\n",
       "       'ужасы,приключения', 'боевик,фантастика',\n",
       "       'ужасы,мелодрама,детектив', 'фантастика,триллер,приключения',\n",
       "       'боевик,приключения,история', 'приключения,боевик,триллер',\n",
       "       'детектив,ужасы,криминал', 'семейный,фэнтези', 'мюзикл,мелодрама',\n",
       "       'драма,военный,приключения', 'фантастика,драма,приключения',\n",
       "       'приключения,семейный,драма', 'история,драма,боевик',\n",
       "       'мультфильм,приключения,комедия', 'криминал,драма,комедия',\n",
       "       'ужасы,комедия,драма', 'комедия,семейный,приключения',\n",
       "       'мюзикл,фэнтези,драма', 'драма,вестерн,боевик',\n",
       "       'фантастика,триллер,детектив', 'драма,история,детектив',\n",
       "       'короткометражка,биография', 'мультфильм,приключения,фантастика',\n",
       "       'комедия,триллер', 'мультфильм,приключения,детектив',\n",
       "       'драма,триллер', 'ужасы,триллер,криминал',\n",
       "       'документальный,криминал,военный', 'ужасы,фэнтези,драма',\n",
       "       'фэнтези,комедия', 'ужасы,фэнтези,комедия', 'комедия,музыка,драма',\n",
       "       'мультфильм,приключения,военный', 'мюзикл,фэнтези,комедия',\n",
       "       'боевик,фантастика,приключения', 'триллер,ужасы,криминал',\n",
       "       'ужасы,фантастика,драма', 'фантастика,приключения,семейный',\n",
       "       'короткометражка,музыка', 'мелодрама,детектив,комедия',\n",
       "       'документальный,триллер,биография', 'боевик,фантастика,триллер',\n",
       "       'спорт,драма,комедия', 'фэнтези,мелодрама,приключения',\n",
       "       'триллер,детектив,криминал', 'короткометражка,мелодрама',\n",
       "       'мультфильм,семейный,спорт', 'комедия,фэнтези,мелодрама',\n",
       "       'драма,спорт,комедия', 'история,драма,мелодрама',\n",
       "       'драма,боевик,криминал', 'драма,комедия,триллер',\n",
       "       'аниме,мультфильм', 'документальный,ужасы',\n",
       "       'мультфильм,короткометражка', 'драма,история,военный',\n",
       "       'мультфильм,короткометражка,фэнтези', 'комедия,военный,музыка',\n",
       "       'биография,история,драма', 'ужасы,драма,мелодрама',\n",
       "       'драма,комедия,детектив', 'комедия,семейный,фантастика',\n",
       "       'мультфильм,семейный,комедия', 'история,детектив',\n",
       "       'приключения,мелодрама,детектив', 'мюзикл,комедия,мелодрама',\n",
       "       'драма,фантастика,ужасы', 'мультфильм,ужасы,комедия',\n",
       "       'для взрослых,драма,комедия', 'ужасы,комедия,музыка',\n",
       "       'комедия,история,драма', 'семейный,детектив,детский',\n",
       "       'короткометражка,драма', 'документальный,новости,драма',\n",
       "       'триллер,мелодрама', 'ужасы,драма,вестерн',\n",
       "       'мюзикл,фэнтези,семейный', 'вестерн,драма,триллер',\n",
       "       'приключения,вестерн,боевик', 'семейный,комедия,музыка',\n",
       "       'боевик,драма,вестерн', 'ужасы,драма,триллер',\n",
       "       'фантастика,мелодрама', 'комедия,криминал,биография',\n",
       "       'семейный,мультфильм,комедия', 'комедия,драма,криминал',\n",
       "       'фантастика,боевик,военный', 'приключения,биография,драма',\n",
       "       'приключения,триллер,биография', 'криминал,боевик,триллер',\n",
       "       'боевик,вестерн,приключения', 'история,драма',\n",
       "       'фантастика,фэнтези,комедия', 'мультфильм,детский,комедия',\n",
       "       'мелодрама,комедия,триллер', 'документальный,боевик,приключения',\n",
       "       'драма,приключения', 'мелодрама,военный,драма', 'триллер,фэнтези',\n",
       "       'драма,триллер,биография', 'фэнтези,боевик,семейный',\n",
       "       'фантастика,триллер,комедия', 'документальный,фэнтези',\n",
       "       'комедия,мультфильм,фантастика', 'криминал,биография,комедия',\n",
       "       'биография,спорт,драма', 'приключения,военный',\n",
       "       'мультфильм,семейный,драма', 'документальный,фэнтези,драма',\n",
       "       'комедия,боевик,фантастика', 'семейный,приключения,военный',\n",
       "       'триллер,ужасы,детектив', 'короткометражка',\n",
       "       'мелодрама,триллер,история', 'документальный,история',\n",
       "       'мультфильм,приключения,детский', 'драма,комедия,мультфильм',\n",
       "       'военный,детектив', 'семейный,приключения,документальный',\n",
       "       'детский,фэнтези', 'документальный,комедия', 'комедия,биография',\n",
       "       'криминал,комедия', 'спорт,мелодрама,криминал',\n",
       "       'фантастика,комедия,боевик', 'боевик,приключения,детектив',\n",
       "       'детектив,триллер,драма', 'документальный,фантастика',\n",
       "       'мелодрама,комедия,семейный', 'мультфильм,мелодрама,комедия',\n",
       "       'драма,спорт,семейный', 'фантастика,мелодрама,фэнтези',\n",
       "       'мюзикл,комедия,музыка', 'фантастика,триллер,мелодрама',\n",
       "       'приключения,комедия,фэнтези', 'фэнтези,боевик,детектив',\n",
       "       'фэнтези,боевик,мелодрама', 'комедия,военный',\n",
       "       'драма,спорт,боевик', 'мультфильм,боевик,триллер',\n",
       "       'мелодрама,семейный', 'фантастика,боевик,детектив',\n",
       "       'драма,приключения,история', 'документальный,драма,музыка',\n",
       "       'фантастика,триллер,боевик', 'фэнтези,боевик,вестерн',\n",
       "       'драма,комедия,мелодрама', 'ужасы,фэнтези,приключения',\n",
       "       'триллер,фэнтези,драма', 'мультфильм,мюзикл,мелодрама',\n",
       "       'ужасы,триллер,фантастика', 'триллер,мелодрама,комедия',\n",
       "       'ужасы,комедия,семейный', 'комедия,приключения,музыка',\n",
       "       'документальный,комедия,криминал', 'мелодрама,детектив',\n",
       "       'детский,приключения,фантастика', 'короткометражка,боевик,драма',\n",
       "       'боевик,комедия,семейный', 'фантастика,боевик,мелодрама',\n",
       "       'фэнтези,триллер,мелодрама', 'драма,детектив,история',\n",
       "       'боевик,криминал,детектив', 'мультфильм,фэнтези,мелодрама',\n",
       "       'мелодрама,драма,боевик', 'драма,вестерн,приключения',\n",
       "       'драма,приключения,мелодрама', 'фэнтези,боевик,криминал',\n",
       "       'фантастика,комедия,семейный', 'детский,фэнтези,приключения',\n",
       "       'ужасы,боевик', 'фантастика,мелодрама,комедия',\n",
       "       'семейный,спорт,боевик', 'триллер,биография,драма',\n",
       "       'ужасы,драма,комедия', 'мультфильм,фэнтези,триллер', 'мюзикл',\n",
       "       'боевик,спорт,драма', 'комедия,приключения,вестерн',\n",
       "       'документальный,ужасы,боевик', 'фантастика,боевик,семейный',\n",
       "       'военный,история', 'ужасы,боевик,криминал', 'детектив,триллер',\n",
       "       'драма,семейный,комедия', 'драма,детектив,приключения',\n",
       "       'драма,криминал,история', 'приключения,триллер',\n",
       "       'боевик,драма,биография', 'драма,приключения,триллер',\n",
       "       'комедия,фэнтези,приключения', 'фантастика,боевик,ужасы',\n",
       "       'драма,комедия,фантастика', 'детектив,криминал,драма',\n",
       "       'боевик,триллер,фэнтези', 'приключения,детектив,семейный',\n",
       "       'ужасы,комедия,криминал', 'мультфильм,биография,драма',\n",
       "       'история,боевик,фэнтези', 'детектив,криминал,боевик',\n",
       "       'приключения,фэнтези', 'комедия,приключения,спорт',\n",
       "       'драма,биография,мюзикл', 'комедия,семейный,фэнтези',\n",
       "       'детектив,драма,триллер', 'боевик,приключения,семейный',\n",
       "       'биография,спорт,комедия', 'фантастика,приключения,военный',\n",
       "       'документальный,драма,биография', 'детектив,приключения,драма',\n",
       "       'аниме,мультфильм,приключения', 'семейный,приключения',\n",
       "       'ужасы,фэнтези,детектив', 'семейный,документальный',\n",
       "       'драма,приключения,семейный', 'приключения,история,военный',\n",
       "       'фэнтези,мелодрама', 'фэнтези,триллер,детектив',\n",
       "       'документальный,спорт,биография', 'комедия,триллер,драма',\n",
       "       'драма,ужасы', 'биография,музыка,драма', 'фэнтези,ужасы',\n",
       "       'детектив,мелодрама,фэнтези', 'боевик,военный,история',\n",
       "       'биография,драма,криминал', 'триллер,мелодрама,криминал',\n",
       "       'семейный,мелодрама', 'биография,драма', 'военный,история,драма',\n",
       "       'фантастика,детектив,фэнтези', 'детектив,приключения,триллер',\n",
       "       'фантастика,приключения', 'мультфильм,короткометражка,мюзикл',\n",
       "       'мультфильм,детский,семейный', 'документальный,драма,комедия',\n",
       "       'комедия,приключения,криминал', 'документальный,семейный,музыка',\n",
       "       'мелодрама,музыка,драма', 'детектив,фантастика,триллер',\n",
       "       'драма,мелодрама,триллер', 'биография,драма,военный',\n",
       "       'приключения,фантастика,драма', 'детектив,фильм-нуар,комедия',\n",
       "       'документальный,спорт', 'триллер,фантастика,драма',\n",
       "       'биография,документальный', 'ужасы,фантастика,мелодрама',\n",
       "       'детектив,комедия', 'история,биография,военный',\n",
       "       'криминал,мелодрама', 'драма,криминал,вестерн',\n",
       "       'мелодрама,семейный,приключения', 'триллер,ужасы,мелодрама',\n",
       "       'фэнтези,драма,фильм-нуар', 'детектив,мелодрама',\n",
       "       'комедия,драма,биография', 'драма,военный,боевик',\n",
       "       'драма,комедия,ужасы', 'фантастика,драма,криминал',\n",
       "       'документальный,музыка,биография', 'мультфильм,боевик,приключения',\n",
       "       'мультфильм,мелодрама,драма', 'боевик,военный,драма',\n",
       "       'фэнтези,семейный,приключения', 'детский,мультфильм,приключения',\n",
       "       'семейный,фэнтези,комедия', 'фэнтези,ужасы,триллер',\n",
       "       'ужасы,триллер,приключения', 'драма,боевик,история',\n",
       "       'фэнтези,комедия,детектив', 'история,приключения',\n",
       "       'аниме,мультфильм,короткометражка', 'драма,военный,триллер',\n",
       "       'биография,криминал,триллер', 'фантастика,фэнтези,детектив',\n",
       "       'вестерн,биография,драма', 'биография,музыка,мюзикл',\n",
       "       'драма,история,биография', 'приключения,драма,фантастика',\n",
       "       'комедия,фэнтези,криминал', 'биография,спорт,история',\n",
       "       'драма,криминал,семейный', 'детектив,боевик,история',\n",
       "       'ужасы,комедия,детектив', 'триллер,приключения,драма',\n",
       "       'фэнтези,комедия,криминал', 'триллер,криминал,приключения',\n",
       "       'комедия,детектив,приключения', 'фэнтези,драма,ужасы',\n",
       "       'ужасы,драма,военный', 'реальное ТВ', 'аниме,мультфильм,детектив',\n",
       "       'приключения,фэнтези,семейный', 'драма,биография,комедия',\n",
       "       'триллер,комедия,ужасы', 'музыка,мелодрама,фэнтези',\n",
       "       'мультфильм,история', 'мультфильм,комедия,фантастика',\n",
       "       'биография,криминал,драма', 'комедия,мелодрама,фантастика',\n",
       "       'криминал,боевик,комедия', 'история,криминал',\n",
       "       'детектив,комедия,драма', 'триллер,фантастика,боевик',\n",
       "       'криминал,боевик', 'комедия,драма,военный',\n",
       "       'драма,триллер,криминал', 'мультфильм,мелодрама,приключения',\n",
       "       'фантастика,фэнтези,триллер', 'короткометражка,драма,триллер',\n",
       "       'военный,боевик,история', 'боевик,драма,триллер',\n",
       "       'документальный,военный,драма', 'драма,криминал,фильм-нуар',\n",
       "       'мультфильм,детский,приключения', 'мелодрама,история,драма'],\n",
       "      dtype=object)"
      ]
     },
     "execution_count": 20,
     "metadata": {},
     "output_type": "execute_result"
    }
   ],
   "source": [
    "data['genres'].unique()"
   ]
  },
  {
   "cell_type": "markdown",
   "metadata": {},
   "source": [
    "- Почти во всех категориальных столбцах тип значения - object. Строки занимают много места, и замедляют вычисления.\n",
    "\n",
    "- Почти во всех категориальных столбцах (особенно в 'genres') указан лист значений. Можно создать новые столбцы и выделить основной жанр, чтобы упростить процесс исследования."
   ]
  },
  {
   "cell_type": "markdown",
   "metadata": {
    "id": "XFSN5lrEgFyR"
   },
   "source": [
    "#### Шаг 2.5. Проверьте количественные значения\n",
    "\n",
    "- Проверьте, обнаружились ли в таких столбцах подозрительные данные. Как с такими данными лучше поступить?\n",
    "\n",
    "<div id=\"accordion\">\n",
    "    <div class=\"card\">\n",
    "        <div class=\"card-header\" id=\"headingThree\">\n",
    "            <button class=\"btn btn-link collapsed\" data-toggle=\"collapse\" data-target=\"#collapseHint_budget\" aria-expanded=\"false\" aria-controls=\"collapseHint_budget\">Подсказка</button>\n",
    "        </div>\n",
    "        <div id=\"collapseHint_budget\" class=\"collapse\" aria-labelledby=\"headingThree\" data-parent=\"#accordion\">\n",
    "            <div class=\"card-body\">\n",
    "Обратите внимание на описание столбца <code>budget</code>. Как этот столбец соотносится с двумя другими: <code>refundable_support</code> и <code>nonrefundable_support</code>?\n",
    "            </div>\n",
    "        </div>\n",
    "    </div>\n",
    "</div>"
   ]
  },
  {
   "cell_type": "code",
   "execution_count": 21,
   "metadata": {},
   "outputs": [
    {
     "name": "stdout",
     "output_type": "stream",
     "text": [
      "count    3.320000e+02\n",
      "mean     1.314224e+08\n",
      "std      1.871482e+08\n",
      "min      6.000000e+06\n",
      "25%      4.552480e+07\n",
      "50%      7.119690e+07\n",
      "75%      1.500000e+08\n",
      "max      2.305074e+09\n",
      "Name: budget, dtype: float64\n"
     ]
    },
    {
     "data": {
      "text/plain": [
       "<Axes: >"
      ]
     },
     "execution_count": 21,
     "metadata": {},
     "output_type": "execute_result"
    },
    {
     "data": {
      "image/png": "[encoded data removed]",
      "text/plain": [
       "<Figure size 640x480 with 1 Axes>"
      ]
     },
     "metadata": {},
     "output_type": "display_data"
    }
   ],
   "source": [
    "with_budget = data[data['budget']!=0]\n",
    "print(with_budget['budget'].describe())\n",
    "with_budget.boxplot('budget')"
   ]
  },
  {
   "cell_type": "code",
   "execution_count": 22,
   "metadata": {},
   "outputs": [],
   "source": [
    "data[data['budget']>600000000]\n",
    "data = data.drop(data[data['budget'] > 600000000].index)"
   ]
  },
  {
   "cell_type": "code",
   "execution_count": 23,
   "metadata": {},
   "outputs": [
    {
     "name": "stdout",
     "output_type": "stream",
     "text": [
      "count    3.250000e+02\n",
      "mean     1.116026e+08\n",
      "std      1.049340e+08\n",
      "min      6.000000e+06\n",
      "25%      4.507455e+07\n",
      "50%      7.000000e+07\n",
      "75%      1.395515e+08\n",
      "max      5.901922e+08\n",
      "Name: budget, dtype: float64\n"
     ]
    },
    {
     "data": {
      "text/plain": [
       "<Axes: >"
      ]
     },
     "execution_count": 23,
     "metadata": {},
     "output_type": "execute_result"
    }
   ],
   "source": [
    "with_budget = data[data['budget']!=0]\n",
    "print(with_budget['budget'].describe())\n",
    "with_budget.boxplot('budget')"
   ]
  },
  {
   "cell_type": "code",
   "execution_count": 24,
   "metadata": {},
   "outputs": [
    {
     "name": "stdout",
     "output_type": "stream",
     "text": [
      "count    7451.000000\n",
      "mean        6.501986\n",
      "std         1.042234\n",
      "min         1.000000\n",
      "25%         6.000000\n",
      "50%         6.600000\n",
      "75%         7.200000\n",
      "max         9.900000\n",
      "Name: ratings, dtype: float64\n"
     ]
    },
    {
     "data": {
      "text/plain": [
       "<Axes: >"
      ]
     },
     "execution_count": 24,
     "metadata": {},
     "output_type": "execute_result"
    }
   ],
   "source": [
    "print(data['ratings'].describe())\n",
    "data.boxplot('ratings')"
   ]
  },
  {
   "cell_type": "code",
   "execution_count": 25,
   "metadata": {},
   "outputs": [
    {
     "name": "stdout",
     "output_type": "stream",
     "text": [
      "count    3.160000e+02\n",
      "mean     4.566324e+07\n",
      "std      4.770533e+07\n",
      "min      3.000000e+06\n",
      "25%      2.500000e+07\n",
      "50%      3.000000e+07\n",
      "75%      4.000000e+07\n",
      "max      4.000000e+08\n",
      "Name: nonrefundable_support, dtype: float64\n"
     ]
    },
    {
     "data": {
      "text/plain": [
       "<Axes: >"
      ]
     },
     "execution_count": 25,
     "metadata": {},
     "output_type": "execute_result"
    }
   ],
   "source": [
    "with_support = data[data['nonrefundable_support']!=0]\n",
    "print(with_support['nonrefundable_support'].describe())\n",
    "with_support.boxplot('nonrefundable_support')"
   ]
  },
  {
   "cell_type": "code",
   "execution_count": 26,
   "metadata": {},
   "outputs": [
    {
     "data": {
      "text/plain": [
       "<Axes: >"
      ]
     },
     "execution_count": 26,
     "metadata": {},
     "output_type": "execute_result"
    }
   ],
   "source": [
    "data[data['nonrefundable_support']>250000000]\n",
    "data = data.drop(data[data['nonrefundable_support'] > 250000000].index)\n",
    "with_support = data[data['nonrefundable_support']!=0]\n",
    "with_support.boxplot('nonrefundable_support')"
   ]
  },
  {
   "cell_type": "code",
   "execution_count": 27,
   "metadata": {},
   "outputs": [
    {
     "name": "stdout",
     "output_type": "stream",
     "text": [
      "count    1.050000e+02\n",
      "mean     3.094286e+07\n",
      "std      2.445503e+07\n",
      "min      3.500000e+06\n",
      "25%      1.500000e+07\n",
      "50%      2.500000e+07\n",
      "75%      4.000000e+07\n",
      "max      1.150000e+08\n",
      "Name: refundable_support, dtype: float64\n"
     ]
    },
    {
     "data": {
      "text/plain": [
       "<Axes: >"
      ]
     },
     "execution_count": 27,
     "metadata": {},
     "output_type": "execute_result"
    }
   ],
   "source": [
    "with_support = data[data['refundable_support']!=0]\n",
    "print(with_support['refundable_support'].describe())\n",
    "with_support.boxplot('refundable_support')"
   ]
  },
  {
   "cell_type": "markdown",
   "metadata": {},
   "source": [
    "- В столбцах 'budget' и 'nonrefundable_support' присутствуют аномальные значения (среди ненулевых), pни могут повлиять на результаты исследования, поэтому соит убрать некоторые из них. \n",
    "\n",
    "\n",
    "- В столбце 'refundable_support' можно оставить все как есть, т.к. аномальных значений не так много.\n",
    "\n",
    "\n",
    "- Средний рейтинг: 6.6; Медиана: 6.5"
   ]
  },
  {
   "cell_type": "code",
   "execution_count": 28,
   "metadata": {},
   "outputs": [
    {
     "name": "stdout",
     "output_type": "stream",
     "text": [
      "0.995056780227121\n"
     ]
    }
   ],
   "source": [
    "new_data_size = data.shape[0]\n",
    "print(new_data_size / old_data_size)"
   ]
  },
  {
   "cell_type": "markdown",
   "metadata": {
    "id": "Eu6oWp2CgFyS"
   },
   "source": [
    "#### Шаг 2.6. Добавьте новые столбцы\n",
    "\n",
    "\n",
    "\n"
   ]
  },
  {
   "cell_type": "markdown",
   "metadata": {
    "id": "7GgW-UpAgFyS"
   },
   "source": [
    "- Создайте столбец с информацией о годе проката. Выделите год из даты премьеры фильма."
   ]
  },
  {
   "cell_type": "code",
   "execution_count": 29,
   "metadata": {
    "id": "I-yd1DkWgFyT"
   },
   "outputs": [],
   "source": [
    "data['year'] = data['show_start_date'].dt.year"
   ]
  },
  {
   "cell_type": "markdown",
   "metadata": {
    "id": "nFTDLDYOgFyT"
   },
   "source": [
    "- Создайте два столбца: с именем и фамилией главного режиссёра и основным жанром фильма. В столбцы войдут первые значения из списка режиссёров и жанров соответственно.\n",
    "\n",
    "<div id=\"accordion\">\n",
    "    <div class=\"card\">\n",
    "        <div class=\"card-header\" id=\"headingThree\">\n",
    "            <button class=\"btn btn-link collapsed\" data-toggle=\"collapse\" data-target=\"#collapseHint_2\" aria-expanded=\"false\" aria-controls=\"collapseHint_2\">Подсказка</button>\n",
    "        </div>\n",
    "        <div id=\"collapseHint_2\" class=\"collapse\" aria-labelledby=\"headingThree\" data-parent=\"#accordion\">\n",
    "            <div class=\"card-body\">\n",
    "Чтобы создать такие столбцы, лучше всего использовать собственную функцию. Эту функцию можно применить к двум столбцам сразу. \n",
    "            </div>\n",
    "        </div>\n",
    "    </div>\n",
    "</div>"
   ]
  },
  {
   "cell_type": "code",
   "execution_count": 30,
   "metadata": {
    "id": "LSbRZKbMgFyU"
   },
   "outputs": [
    {
     "data": {
      "text/html": [
       "<div>\n",
       "<style scoped>\n",
       "    .dataframe tbody tr th:only-of-type {\n",
       "        vertical-align: middle;\n",
       "    }\n",
       "\n",
       "    .dataframe tbody tr th {\n",
       "        vertical-align: top;\n",
       "    }\n",
       "\n",
       "    .dataframe thead th {\n",
       "        text-align: right;\n",
       "    }\n",
       "</style>\n",
       "<table border=\"1\" class=\"dataframe\">\n",
       "  <thead>\n",
       "    <tr style=\"text-align: right;\">\n",
       "      <th></th>\n",
       "      <th>title</th>\n",
       "      <th>puNumber</th>\n",
       "      <th>show_start_date</th>\n",
       "      <th>type</th>\n",
       "      <th>film_studio</th>\n",
       "      <th>production_country</th>\n",
       "      <th>director</th>\n",
       "      <th>producer</th>\n",
       "      <th>age_restriction</th>\n",
       "      <th>refundable_support</th>\n",
       "      <th>nonrefundable_support</th>\n",
       "      <th>budget</th>\n",
       "      <th>financing_source</th>\n",
       "      <th>ratings</th>\n",
       "      <th>genres</th>\n",
       "      <th>box_office</th>\n",
       "      <th>year</th>\n",
       "      <th>main_genre</th>\n",
       "    </tr>\n",
       "  </thead>\n",
       "  <tbody>\n",
       "    <tr>\n",
       "      <th>0</th>\n",
       "      <td>Открытый простор</td>\n",
       "      <td>221048915</td>\n",
       "      <td>2015-11-27 12:00:00</td>\n",
       "      <td>0</td>\n",
       "      <td>Тачстоун Пикчерз, Кобальт Пикчерз, Бикон Пикче...</td>\n",
       "      <td>США</td>\n",
       "      <td>Кевин Костнер</td>\n",
       "      <td>Дэвид Валдес, Кевин Костнер, Джейк Эбертс</td>\n",
       "      <td>4</td>\n",
       "      <td>0.0</td>\n",
       "      <td>0.0</td>\n",
       "      <td>0.0</td>\n",
       "      <td>NaN</td>\n",
       "      <td>7.2</td>\n",
       "      <td>боевик,драма,мелодрама</td>\n",
       "      <td>NaN</td>\n",
       "      <td>2015</td>\n",
       "      <td>боевик</td>\n",
       "    </tr>\n",
       "    <tr>\n",
       "      <th>1</th>\n",
       "      <td>Особо важное задание</td>\n",
       "      <td>111013716</td>\n",
       "      <td>2016-09-13 12:00:00</td>\n",
       "      <td>0</td>\n",
       "      <td>Киностудия \"Мосфильм\"</td>\n",
       "      <td>СССР</td>\n",
       "      <td>Е.Матвеев</td>\n",
       "      <td>NaN</td>\n",
       "      <td>1</td>\n",
       "      <td>0.0</td>\n",
       "      <td>0.0</td>\n",
       "      <td>0.0</td>\n",
       "      <td>NaN</td>\n",
       "      <td>6.6</td>\n",
       "      <td>драма,военный</td>\n",
       "      <td>NaN</td>\n",
       "      <td>2016</td>\n",
       "      <td>драма</td>\n",
       "    </tr>\n",
       "    <tr>\n",
       "      <th>2</th>\n",
       "      <td>Особо опасен</td>\n",
       "      <td>221038416</td>\n",
       "      <td>2016-10-10 12:00:00</td>\n",
       "      <td>0</td>\n",
       "      <td>Юниверсал Пикчерз, Кикстарт Продакшнз, Марк Пл...</td>\n",
       "      <td>США</td>\n",
       "      <td>Тимур Бекмамбетов</td>\n",
       "      <td>Джим Лемли, Джейсон Нетер, Марк Е.Платт, Яйн Смит</td>\n",
       "      <td>4</td>\n",
       "      <td>0.0</td>\n",
       "      <td>0.0</td>\n",
       "      <td>0.0</td>\n",
       "      <td>NaN</td>\n",
       "      <td>6.8</td>\n",
       "      <td>фантастика,боевик,триллер</td>\n",
       "      <td>NaN</td>\n",
       "      <td>2016</td>\n",
       "      <td>фантастика</td>\n",
       "    </tr>\n",
       "    <tr>\n",
       "      <th>3</th>\n",
       "      <td>Особо опасен</td>\n",
       "      <td>221026916</td>\n",
       "      <td>2016-06-10 12:00:00</td>\n",
       "      <td>0</td>\n",
       "      <td>Юниверсал Пикчерз, Кикстарт Продакшнз, Марк Пл...</td>\n",
       "      <td>США</td>\n",
       "      <td>Тимур Бекмамбетов</td>\n",
       "      <td>Джим Лемли, Джейсон Нетер, Марк Е.Платт, Яйн Смит</td>\n",
       "      <td>4</td>\n",
       "      <td>0.0</td>\n",
       "      <td>0.0</td>\n",
       "      <td>0.0</td>\n",
       "      <td>NaN</td>\n",
       "      <td>6.8</td>\n",
       "      <td>фантастика,боевик,триллер</td>\n",
       "      <td>NaN</td>\n",
       "      <td>2016</td>\n",
       "      <td>фантастика</td>\n",
       "    </tr>\n",
       "    <tr>\n",
       "      <th>4</th>\n",
       "      <td>Особо опасен</td>\n",
       "      <td>221030815</td>\n",
       "      <td>2015-07-29 12:00:00</td>\n",
       "      <td>0</td>\n",
       "      <td>Юниверсал Пикчерз, Кикстарт Продакшнз, Марк Пл...</td>\n",
       "      <td>США</td>\n",
       "      <td>Тимур Бекмамбетов</td>\n",
       "      <td>Джим Лемли, Джейсон Нетер, Марк Е.Платт, Яйн Смит</td>\n",
       "      <td>4</td>\n",
       "      <td>0.0</td>\n",
       "      <td>0.0</td>\n",
       "      <td>0.0</td>\n",
       "      <td>NaN</td>\n",
       "      <td>6.8</td>\n",
       "      <td>фантастика,боевик,триллер</td>\n",
       "      <td>NaN</td>\n",
       "      <td>2015</td>\n",
       "      <td>фантастика</td>\n",
       "    </tr>\n",
       "  </tbody>\n",
       "</table>\n",
       "</div>"
      ],
      "text/plain": [
       "                  title   puNumber     show_start_date  type  \\\n",
       "0      Открытый простор  221048915 2015-11-27 12:00:00     0   \n",
       "1  Особо важное задание  111013716 2016-09-13 12:00:00     0   \n",
       "2          Особо опасен  221038416 2016-10-10 12:00:00     0   \n",
       "3          Особо опасен  221026916 2016-06-10 12:00:00     0   \n",
       "4          Особо опасен  221030815 2015-07-29 12:00:00     0   \n",
       "\n",
       "                                         film_studio production_country  \\\n",
       "0  Тачстоун Пикчерз, Кобальт Пикчерз, Бикон Пикче...                США   \n",
       "1                              Киностудия \"Мосфильм\"               СССР   \n",
       "2  Юниверсал Пикчерз, Кикстарт Продакшнз, Марк Пл...                США   \n",
       "3  Юниверсал Пикчерз, Кикстарт Продакшнз, Марк Пл...                США   \n",
       "4  Юниверсал Пикчерз, Кикстарт Продакшнз, Марк Пл...                США   \n",
       "\n",
       "            director                                           producer  \\\n",
       "0      Кевин Костнер          Дэвид Валдес, Кевин Костнер, Джейк Эбертс   \n",
       "1          Е.Матвеев                                                NaN   \n",
       "2  Тимур Бекмамбетов  Джим Лемли, Джейсон Нетер, Марк Е.Платт, Яйн Смит   \n",
       "3  Тимур Бекмамбетов  Джим Лемли, Джейсон Нетер, Марк Е.Платт, Яйн Смит   \n",
       "4  Тимур Бекмамбетов  Джим Лемли, Джейсон Нетер, Марк Е.Платт, Яйн Смит   \n",
       "\n",
       "   age_restriction  refundable_support  nonrefundable_support  budget  \\\n",
       "0                4                 0.0                    0.0     0.0   \n",
       "1                1                 0.0                    0.0     0.0   \n",
       "2                4                 0.0                    0.0     0.0   \n",
       "3                4                 0.0                    0.0     0.0   \n",
       "4                4                 0.0                    0.0     0.0   \n",
       "\n",
       "  financing_source  ratings                     genres  box_office  year  \\\n",
       "0              NaN      7.2     боевик,драма,мелодрама         NaN  2015   \n",
       "1              NaN      6.6              драма,военный         NaN  2016   \n",
       "2              NaN      6.8  фантастика,боевик,триллер         NaN  2016   \n",
       "3              NaN      6.8  фантастика,боевик,триллер         NaN  2016   \n",
       "4              NaN      6.8  фантастика,боевик,триллер         NaN  2015   \n",
       "\n",
       "   main_genre  \n",
       "0      боевик  \n",
       "1       драма  \n",
       "2  фантастика  \n",
       "3  фантастика  \n",
       "4  фантастика  "
      ]
     },
     "execution_count": 30,
     "metadata": {},
     "output_type": "execute_result"
    }
   ],
   "source": [
    "def get_genre(x):\n",
    "    if x:\n",
    "        tmp = x.split(\",\")\n",
    "        return tmp[0]\n",
    "    return ''\n",
    "\n",
    "data['main_genre'] = data['genres'].apply(get_genre)\n",
    "\n",
    "data.head()"
   ]
  },
  {
   "cell_type": "code",
   "execution_count": 31,
   "metadata": {},
   "outputs": [
    {
     "data": {
      "text/html": [
       "<div>\n",
       "<style scoped>\n",
       "    .dataframe tbody tr th:only-of-type {\n",
       "        vertical-align: middle;\n",
       "    }\n",
       "\n",
       "    .dataframe tbody tr th {\n",
       "        vertical-align: top;\n",
       "    }\n",
       "\n",
       "    .dataframe thead th {\n",
       "        text-align: right;\n",
       "    }\n",
       "</style>\n",
       "<table border=\"1\" class=\"dataframe\">\n",
       "  <thead>\n",
       "    <tr style=\"text-align: right;\">\n",
       "      <th></th>\n",
       "      <th>title</th>\n",
       "      <th>puNumber</th>\n",
       "      <th>show_start_date</th>\n",
       "      <th>type</th>\n",
       "      <th>film_studio</th>\n",
       "      <th>production_country</th>\n",
       "      <th>director</th>\n",
       "      <th>producer</th>\n",
       "      <th>age_restriction</th>\n",
       "      <th>refundable_support</th>\n",
       "      <th>nonrefundable_support</th>\n",
       "      <th>budget</th>\n",
       "      <th>financing_source</th>\n",
       "      <th>ratings</th>\n",
       "      <th>genres</th>\n",
       "      <th>box_office</th>\n",
       "      <th>year</th>\n",
       "      <th>main_genre</th>\n",
       "      <th>main_director</th>\n",
       "    </tr>\n",
       "  </thead>\n",
       "  <tbody>\n",
       "    <tr>\n",
       "      <th>0</th>\n",
       "      <td>Открытый простор</td>\n",
       "      <td>221048915</td>\n",
       "      <td>2015-11-27 12:00:00</td>\n",
       "      <td>0</td>\n",
       "      <td>Тачстоун Пикчерз, Кобальт Пикчерз, Бикон Пикче...</td>\n",
       "      <td>США</td>\n",
       "      <td>Кевин Костнер</td>\n",
       "      <td>Дэвид Валдес, Кевин Костнер, Джейк Эбертс</td>\n",
       "      <td>4</td>\n",
       "      <td>0.0</td>\n",
       "      <td>0.0</td>\n",
       "      <td>0.0</td>\n",
       "      <td>NaN</td>\n",
       "      <td>7.2</td>\n",
       "      <td>боевик,драма,мелодрама</td>\n",
       "      <td>NaN</td>\n",
       "      <td>2015</td>\n",
       "      <td>боевик</td>\n",
       "      <td>Кевин Костнер</td>\n",
       "    </tr>\n",
       "    <tr>\n",
       "      <th>1</th>\n",
       "      <td>Особо важное задание</td>\n",
       "      <td>111013716</td>\n",
       "      <td>2016-09-13 12:00:00</td>\n",
       "      <td>0</td>\n",
       "      <td>Киностудия \"Мосфильм\"</td>\n",
       "      <td>СССР</td>\n",
       "      <td>Е.Матвеев</td>\n",
       "      <td>NaN</td>\n",
       "      <td>1</td>\n",
       "      <td>0.0</td>\n",
       "      <td>0.0</td>\n",
       "      <td>0.0</td>\n",
       "      <td>NaN</td>\n",
       "      <td>6.6</td>\n",
       "      <td>драма,военный</td>\n",
       "      <td>NaN</td>\n",
       "      <td>2016</td>\n",
       "      <td>драма</td>\n",
       "      <td>Е.Матвеев</td>\n",
       "    </tr>\n",
       "    <tr>\n",
       "      <th>2</th>\n",
       "      <td>Особо опасен</td>\n",
       "      <td>221038416</td>\n",
       "      <td>2016-10-10 12:00:00</td>\n",
       "      <td>0</td>\n",
       "      <td>Юниверсал Пикчерз, Кикстарт Продакшнз, Марк Пл...</td>\n",
       "      <td>США</td>\n",
       "      <td>Тимур Бекмамбетов</td>\n",
       "      <td>Джим Лемли, Джейсон Нетер, Марк Е.Платт, Яйн Смит</td>\n",
       "      <td>4</td>\n",
       "      <td>0.0</td>\n",
       "      <td>0.0</td>\n",
       "      <td>0.0</td>\n",
       "      <td>NaN</td>\n",
       "      <td>6.8</td>\n",
       "      <td>фантастика,боевик,триллер</td>\n",
       "      <td>NaN</td>\n",
       "      <td>2016</td>\n",
       "      <td>фантастика</td>\n",
       "      <td>Тимур Бекмамбетов</td>\n",
       "    </tr>\n",
       "    <tr>\n",
       "      <th>3</th>\n",
       "      <td>Особо опасен</td>\n",
       "      <td>221026916</td>\n",
       "      <td>2016-06-10 12:00:00</td>\n",
       "      <td>0</td>\n",
       "      <td>Юниверсал Пикчерз, Кикстарт Продакшнз, Марк Пл...</td>\n",
       "      <td>США</td>\n",
       "      <td>Тимур Бекмамбетов</td>\n",
       "      <td>Джим Лемли, Джейсон Нетер, Марк Е.Платт, Яйн Смит</td>\n",
       "      <td>4</td>\n",
       "      <td>0.0</td>\n",
       "      <td>0.0</td>\n",
       "      <td>0.0</td>\n",
       "      <td>NaN</td>\n",
       "      <td>6.8</td>\n",
       "      <td>фантастика,боевик,триллер</td>\n",
       "      <td>NaN</td>\n",
       "      <td>2016</td>\n",
       "      <td>фантастика</td>\n",
       "      <td>Тимур Бекмамбетов</td>\n",
       "    </tr>\n",
       "    <tr>\n",
       "      <th>4</th>\n",
       "      <td>Особо опасен</td>\n",
       "      <td>221030815</td>\n",
       "      <td>2015-07-29 12:00:00</td>\n",
       "      <td>0</td>\n",
       "      <td>Юниверсал Пикчерз, Кикстарт Продакшнз, Марк Пл...</td>\n",
       "      <td>США</td>\n",
       "      <td>Тимур Бекмамбетов</td>\n",
       "      <td>Джим Лемли, Джейсон Нетер, Марк Е.Платт, Яйн Смит</td>\n",
       "      <td>4</td>\n",
       "      <td>0.0</td>\n",
       "      <td>0.0</td>\n",
       "      <td>0.0</td>\n",
       "      <td>NaN</td>\n",
       "      <td>6.8</td>\n",
       "      <td>фантастика,боевик,триллер</td>\n",
       "      <td>NaN</td>\n",
       "      <td>2015</td>\n",
       "      <td>фантастика</td>\n",
       "      <td>Тимур Бекмамбетов</td>\n",
       "    </tr>\n",
       "  </tbody>\n",
       "</table>\n",
       "</div>"
      ],
      "text/plain": [
       "                  title   puNumber     show_start_date  type  \\\n",
       "0      Открытый простор  221048915 2015-11-27 12:00:00     0   \n",
       "1  Особо важное задание  111013716 2016-09-13 12:00:00     0   \n",
       "2          Особо опасен  221038416 2016-10-10 12:00:00     0   \n",
       "3          Особо опасен  221026916 2016-06-10 12:00:00     0   \n",
       "4          Особо опасен  221030815 2015-07-29 12:00:00     0   \n",
       "\n",
       "                                         film_studio production_country  \\\n",
       "0  Тачстоун Пикчерз, Кобальт Пикчерз, Бикон Пикче...                США   \n",
       "1                              Киностудия \"Мосфильм\"               СССР   \n",
       "2  Юниверсал Пикчерз, Кикстарт Продакшнз, Марк Пл...                США   \n",
       "3  Юниверсал Пикчерз, Кикстарт Продакшнз, Марк Пл...                США   \n",
       "4  Юниверсал Пикчерз, Кикстарт Продакшнз, Марк Пл...                США   \n",
       "\n",
       "            director                                           producer  \\\n",
       "0      Кевин Костнер          Дэвид Валдес, Кевин Костнер, Джейк Эбертс   \n",
       "1          Е.Матвеев                                                NaN   \n",
       "2  Тимур Бекмамбетов  Джим Лемли, Джейсон Нетер, Марк Е.Платт, Яйн Смит   \n",
       "3  Тимур Бекмамбетов  Джим Лемли, Джейсон Нетер, Марк Е.Платт, Яйн Смит   \n",
       "4  Тимур Бекмамбетов  Джим Лемли, Джейсон Нетер, Марк Е.Платт, Яйн Смит   \n",
       "\n",
       "   age_restriction  refundable_support  nonrefundable_support  budget  \\\n",
       "0                4                 0.0                    0.0     0.0   \n",
       "1                1                 0.0                    0.0     0.0   \n",
       "2                4                 0.0                    0.0     0.0   \n",
       "3                4                 0.0                    0.0     0.0   \n",
       "4                4                 0.0                    0.0     0.0   \n",
       "\n",
       "  financing_source  ratings                     genres  box_office  year  \\\n",
       "0              NaN      7.2     боевик,драма,мелодрама         NaN  2015   \n",
       "1              NaN      6.6              драма,военный         NaN  2016   \n",
       "2              NaN      6.8  фантастика,боевик,триллер         NaN  2016   \n",
       "3              NaN      6.8  фантастика,боевик,триллер         NaN  2016   \n",
       "4              NaN      6.8  фантастика,боевик,триллер         NaN  2015   \n",
       "\n",
       "   main_genre      main_director  \n",
       "0      боевик      Кевин Костнер  \n",
       "1       драма          Е.Матвеев  \n",
       "2  фантастика  Тимур Бекмамбетов  \n",
       "3  фантастика  Тимур Бекмамбетов  \n",
       "4  фантастика  Тимур Бекмамбетов  "
      ]
     },
     "execution_count": 31,
     "metadata": {},
     "output_type": "execute_result"
    }
   ],
   "source": [
    "def get_director(x):\n",
    "    if x:\n",
    "        tmp = x.split(\",\")\n",
    "        return tmp[0]\n",
    "    return ''\n",
    "        \n",
    "data['main_director'] = data['director'].apply(get_director)\n",
    "data.head()"
   ]
  },
  {
   "cell_type": "markdown",
   "metadata": {
    "id": "1FsCXHwdgFyU"
   },
   "source": [
    "- Посчитайте, какую долю от общего бюджета фильма составляет государственная поддержка."
   ]
  },
  {
   "cell_type": "code",
   "execution_count": 32,
   "metadata": {
    "id": "LV6qFuZLgFyV"
   },
   "outputs": [],
   "source": [
    "data['portion'] = data.apply(\n",
    "    lambda row: (row['refundable_support']+row['nonrefundable_support'])/row['budget'] if row['budget']!=0 else 0,\n",
    "    axis=1\n",
    ")"
   ]
  },
  {
   "cell_type": "markdown",
   "metadata": {
    "id": "6t4EukPLgFyV"
   },
   "source": [
    "### Шаг 3. Проведите исследовательский анализ данных\n"
   ]
  },
  {
   "cell_type": "markdown",
   "metadata": {
    "id": "vAH8WCzugFyV"
   },
   "source": [
    "- Посмотрите, сколько фильмов выходило в прокат каждый год. Обратите внимание, что данные о прокате в кинотеатрах известны не для всех фильмов. Посчитайте, какую долю составляют фильмы с указанной информацией о прокате в кинотеатрах."
   ]
  },
  {
   "cell_type": "code",
   "execution_count": 33,
   "metadata": {
    "id": "ABeV47y7gFyW"
   },
   "outputs": [
    {
     "data": {
      "text/plain": [
       "<Axes: xlabel='year'>"
      ]
     },
     "execution_count": 33,
     "metadata": {},
     "output_type": "execute_result"
    }
   ],
   "source": [
    "pivot_year = data.pivot_table(index='year', values='box_office', aggfunc=['count'])\n",
    "pivot_year.columns = ['count']\n",
    "#print(pivot_year)\n",
    "\n",
    "pivot_total = data.pivot_table(index='year', values='title', aggfunc=['count'])\n",
    "pivot_total.columns = ['count']\n",
    "#print(pivot_total)\n",
    "\n",
    "tmp2 = pivot_year['count']/pivot_total['count']\n",
    "tmp2.plot()"
   ]
  },
  {
   "cell_type": "markdown",
   "metadata": {},
   "source": [
    "Можно заметить, что с каждым годом все больше фильмов с информацией о прокате в кинотеатрах. Больше всего данных представлено в 2017 году."
   ]
  },
  {
   "cell_type": "markdown",
   "metadata": {
    "id": "BEOdcIrIgFyW"
   },
   "source": [
    "- Изучите, как менялась динамика проката по годам. В каком году сумма сборов была минимальной? А максимальной?"
   ]
  },
  {
   "cell_type": "code",
   "execution_count": 34,
   "metadata": {
    "id": "tfEhofYvgFyX"
   },
   "outputs": [
    {
     "data": {
      "text/plain": [
       "<Axes: xlabel='year', ylabel='box_office'>"
      ]
     },
     "execution_count": 34,
     "metadata": {},
     "output_type": "execute_result"
    }
   ],
   "source": [
    "data.plot(x='year', y='box_office', kind='scatter', alpha=0.05) "
   ]
  },
  {
   "cell_type": "markdown",
   "metadata": {},
   "source": [
    "Ничего неизвестно о сборах до 2013 года. До 2018 года сумма сборов повышалась. Нельзя точно сказать, когда сумма была минимальной, т.к. отсутствуют некоторые значения."
   ]
  },
  {
   "cell_type": "markdown",
   "metadata": {
    "id": "G-7qS-N-gFyY"
   },
   "source": [
    "- С помощью сводной таблицы посчитайте среднюю и медианную сумму сборов для каждого года."
   ]
  },
  {
   "cell_type": "code",
   "execution_count": 35,
   "metadata": {
    "id": "jmp-rgg9gFyY"
   },
   "outputs": [
    {
     "data": {
      "text/plain": [
       "<Axes: xlabel='year'>"
      ]
     },
     "execution_count": 35,
     "metadata": {},
     "output_type": "execute_result"
    }
   ],
   "source": [
    "pivot_data = data.pivot_table(index='year', values='box_office', aggfunc=['mean', 'median'])\n",
    "pivot_data.columns = ['mean', 'median']\n",
    "pivot_data.plot()"
   ]
  },
  {
   "cell_type": "markdown",
   "metadata": {},
   "source": [
    "По графику точно можно заметить, что в данных присутствуют аномальные значения. Медиана для каждого года примерно на одном уровне."
   ]
  },
  {
   "cell_type": "markdown",
   "metadata": {
    "id": "Ok89WFwJgFyZ"
   },
   "source": [
    "- Определите, влияет ли возрастное ограничение аудитории («6+», «12+», «16+», «18+» и т. д.) на сборы фильма в прокате в период с 2015 по 2019 год? Фильмы с каким возрастным ограничением собрали больше всего денег в прокате? Меняется ли картина в зависимости от года? Если да, предположите, с чем это может быть связано."
   ]
  },
  {
   "cell_type": "code",
   "execution_count": 36,
   "metadata": {
    "id": "jsSbEqfjgFya"
   },
   "outputs": [
    {
     "data": {
      "text/plain": [
       "<Axes: xlabel='age_restriction'>"
      ]
     },
     "execution_count": 36,
     "metadata": {},
     "output_type": "execute_result"
    }
   ],
   "source": [
    "tmp3 = data.query('year >= 2015 & year <= 2019')\n",
    "tmp4= tmp3.pivot_table(index='age_restriction', values= 'box_office', aggfunc='median')\n",
    "tmp4.plot(style='o')"
   ]
  },
  {
   "cell_type": "markdown",
   "metadata": {},
   "source": [
    "По графику видно, что больше всего денег собрали фильмы с рейтингом 6+. Меньше всего у фильмов с рейтингом 0+. Фильмы с рейтингом 12+ тоже трудно назвать успешными. Это может быть связано с количеством определенных фильмов и их популярностью среди зрителей. "
   ]
  },
  {
   "cell_type": "markdown",
   "metadata": {
    "id": "l_Kg6Ku4gFya"
   },
   "source": [
    "### Шаг 4. Исследуйте фильмы, которые получили государственную поддержку\n",
    "\n",
    "На этом этапе нет конкретных инструкций и заданий — поищите интересные закономерности в данных. Посмотрите, сколько выделяют средств на поддержку кино. Проверьте, хорошо ли окупаются такие фильмы, какой у них рейтинг."
   ]
  },
  {
   "cell_type": "code",
   "execution_count": 37,
   "metadata": {
    "id": "W9QKpjUdgFyb"
   },
   "outputs": [
    {
     "name": "stdout",
     "output_type": "stream",
     "text": [
      "0.055969322137198775\n"
     ]
    },
    {
     "data": {
      "text/plain": [
       "<Axes: xlabel='total_support', ylabel='ratings'>"
      ]
     },
     "execution_count": 37,
     "metadata": {},
     "output_type": "execute_result"
    }
   ],
   "source": [
    "data['total_support'] = data['refundable_support']+data['nonrefundable_support']\n",
    "tmp = data.query('total_support!=0')\n",
    "print(tmp['total_support'].corr(tmp['ratings']))\n",
    "tmp.plot(x='total_support', y='ratings', kind='scatter', alpha=0.05) "
   ]
  },
  {
   "cell_type": "code",
   "execution_count": 38,
   "metadata": {},
   "outputs": [
    {
     "name": "stdout",
     "output_type": "stream",
     "text": [
      "0.36988327607246885\n"
     ]
    },
    {
     "data": {
      "text/plain": [
       "<Axes: xlabel='total_support', ylabel='box_office'>"
      ]
     },
     "execution_count": 38,
     "metadata": {},
     "output_type": "execute_result"
    }
   ],
   "source": [
    "tmp = data.query('total_support!=0 and box_office!=0')\n",
    "print(tmp['total_support'].corr(tmp['box_office']))\n",
    "tmp.plot(x='total_support', y='box_office', kind='scatter', alpha=0.05) "
   ]
  },
  {
   "cell_type": "markdown",
   "metadata": {},
   "source": [
    "- Нет особой связи между количеством средств, предоставленных государством, и рейтингом.\n",
    "- Связь между количеством средств, предоставленных государством, и сборами мала."
   ]
  },
  {
   "cell_type": "code",
   "execution_count": 39,
   "metadata": {},
   "outputs": [
    {
     "data": {
      "text/plain": [
       "<Axes: xlabel='year'>"
      ]
     },
     "execution_count": 39,
     "metadata": {},
     "output_type": "execute_result"
    }
   ],
   "source": [
    "tmp = data.query('total_support!=0')\n",
    "pivot_support = tmp.pivot_table(index='year', values=['total_support'], aggfunc='median')\n",
    "pivot_support.columns = ['median']\n",
    "pivot_data.plot()"
   ]
  },
  {
   "cell_type": "markdown",
   "metadata": {},
   "source": [
    "Можно заметить, что до 2017 года государственная поддержка увеличивалась. Этот график схож с предыдущим (кассовые сборы по годам)."
   ]
  },
  {
   "cell_type": "code",
   "execution_count": 40,
   "metadata": {},
   "outputs": [
    {
     "name": "stdout",
     "output_type": "stream",
     "text": [
      "total: 322\n",
      "succeeded: 112\n",
      "0.34782608695652173\n"
     ]
    },
    {
     "name": "stderr",
     "output_type": "stream",
     "text": [
      "C:\\Users\\Dell\\AppData\\Local\\Temp\\ipykernel_16108\\2374134769.py:4: SettingWithCopyWarning: \n",
      "A value is trying to be set on a copy of a slice from a DataFrame.\n",
      "Try using .loc[row_indexer,col_indexer] = value instead\n",
      "\n",
      "See the caveats in the documentation: https://pandas.pydata.org/pandas-docs/stable/user_guide/indexing.html#returning-a-view-versus-a-copy\n",
      "  tmp['success'] = tmp['total_support'] / tmp['box_office']\n"
     ]
    }
   ],
   "source": [
    "tmp = data.query('total_support!=0 and box_office!=0')\n",
    "# if less than 1, movie succeeded\n",
    "# otherwise loss\n",
    "tmp['success'] = tmp['total_support'] / tmp['box_office']\n",
    "print('total:', len(tmp['success']))\n",
    "print('succeeded:', len(tmp[tmp['success']<1]))\n",
    "print(len(tmp[tmp['success']<1]) / len(tmp['success']))"
   ]
  },
  {
   "cell_type": "markdown",
   "metadata": {},
   "source": [
    "Можно сделать вывод, что большинство фильмов не окупились."
   ]
  },
  {
   "cell_type": "code",
   "execution_count": 41,
   "metadata": {},
   "outputs": [
    {
     "data": {
      "text/html": [
       "<div>\n",
       "<style scoped>\n",
       "    .dataframe tbody tr th:only-of-type {\n",
       "        vertical-align: middle;\n",
       "    }\n",
       "\n",
       "    .dataframe tbody tr th {\n",
       "        vertical-align: top;\n",
       "    }\n",
       "\n",
       "    .dataframe thead th {\n",
       "        text-align: right;\n",
       "    }\n",
       "</style>\n",
       "<table border=\"1\" class=\"dataframe\">\n",
       "  <thead>\n",
       "    <tr style=\"text-align: right;\">\n",
       "      <th></th>\n",
       "      <th>success</th>\n",
       "    </tr>\n",
       "    <tr>\n",
       "      <th>main_genre</th>\n",
       "      <th></th>\n",
       "    </tr>\n",
       "  </thead>\n",
       "  <tbody>\n",
       "    <tr>\n",
       "      <th></th>\n",
       "      <td>1</td>\n",
       "    </tr>\n",
       "    <tr>\n",
       "      <th>биография</th>\n",
       "      <td>2</td>\n",
       "    </tr>\n",
       "    <tr>\n",
       "      <th>боевик</th>\n",
       "      <td>4</td>\n",
       "    </tr>\n",
       "    <tr>\n",
       "      <th>военный</th>\n",
       "      <td>4</td>\n",
       "    </tr>\n",
       "    <tr>\n",
       "      <th>детектив</th>\n",
       "      <td>1</td>\n",
       "    </tr>\n",
       "    <tr>\n",
       "      <th>драма</th>\n",
       "      <td>17</td>\n",
       "    </tr>\n",
       "    <tr>\n",
       "      <th>история</th>\n",
       "      <td>2</td>\n",
       "    </tr>\n",
       "    <tr>\n",
       "      <th>комедия</th>\n",
       "      <td>35</td>\n",
       "    </tr>\n",
       "    <tr>\n",
       "      <th>криминал</th>\n",
       "      <td>1</td>\n",
       "    </tr>\n",
       "    <tr>\n",
       "      <th>мультфильм</th>\n",
       "      <td>20</td>\n",
       "    </tr>\n",
       "    <tr>\n",
       "      <th>приключения</th>\n",
       "      <td>4</td>\n",
       "    </tr>\n",
       "    <tr>\n",
       "      <th>семейный</th>\n",
       "      <td>4</td>\n",
       "    </tr>\n",
       "    <tr>\n",
       "      <th>спорт</th>\n",
       "      <td>2</td>\n",
       "    </tr>\n",
       "    <tr>\n",
       "      <th>триллер</th>\n",
       "      <td>2</td>\n",
       "    </tr>\n",
       "    <tr>\n",
       "      <th>ужасы</th>\n",
       "      <td>5</td>\n",
       "    </tr>\n",
       "    <tr>\n",
       "      <th>фантастика</th>\n",
       "      <td>6</td>\n",
       "    </tr>\n",
       "    <tr>\n",
       "      <th>фэнтези</th>\n",
       "      <td>2</td>\n",
       "    </tr>\n",
       "  </tbody>\n",
       "</table>\n",
       "</div>"
      ],
      "text/plain": [
       "             success\n",
       "main_genre          \n",
       "                   1\n",
       "биография          2\n",
       "боевик             4\n",
       "военный            4\n",
       "детектив           1\n",
       "драма             17\n",
       "история            2\n",
       "комедия           35\n",
       "криминал           1\n",
       "мультфильм        20\n",
       "приключения        4\n",
       "семейный           4\n",
       "спорт              2\n",
       "триллер            2\n",
       "ужасы              5\n",
       "фантастика         6\n",
       "фэнтези            2"
      ]
     },
     "execution_count": 41,
     "metadata": {},
     "output_type": "execute_result"
    }
   ],
   "source": [
    "tmp2 = tmp.query('success < 1')\n",
    "pivot_success = tmp2.pivot_table(index = 'main_genre', values = 'success', aggfunc='count')\n",
    "pivot_success"
   ]
  },
  {
   "cell_type": "markdown",
   "metadata": {},
   "source": [
    "В основном окупились комедии и мультфильмы."
   ]
  },
  {
   "cell_type": "code",
   "execution_count": 42,
   "metadata": {},
   "outputs": [
    {
     "data": {
      "text/html": [
       "<div>\n",
       "<style scoped>\n",
       "    .dataframe tbody tr th:only-of-type {\n",
       "        vertical-align: middle;\n",
       "    }\n",
       "\n",
       "    .dataframe tbody tr th {\n",
       "        vertical-align: top;\n",
       "    }\n",
       "\n",
       "    .dataframe thead th {\n",
       "        text-align: right;\n",
       "    }\n",
       "</style>\n",
       "<table border=\"1\" class=\"dataframe\">\n",
       "  <thead>\n",
       "    <tr style=\"text-align: right;\">\n",
       "      <th></th>\n",
       "      <th>count</th>\n",
       "    </tr>\n",
       "    <tr>\n",
       "      <th>main_director</th>\n",
       "      <th></th>\n",
       "    </tr>\n",
       "  </thead>\n",
       "  <tbody>\n",
       "    <tr>\n",
       "      <th>А.Аксененко</th>\n",
       "      <td>2</td>\n",
       "    </tr>\n",
       "    <tr>\n",
       "      <th>А.Богуславский</th>\n",
       "      <td>2</td>\n",
       "    </tr>\n",
       "    <tr>\n",
       "      <th>А.Волгин</th>\n",
       "      <td>2</td>\n",
       "    </tr>\n",
       "    <tr>\n",
       "      <th>А.Меликян</th>\n",
       "      <td>2</td>\n",
       "    </tr>\n",
       "    <tr>\n",
       "      <th>А.Пиманов</th>\n",
       "      <td>2</td>\n",
       "    </tr>\n",
       "    <tr>\n",
       "      <th>А.Цицилин</th>\n",
       "      <td>2</td>\n",
       "    </tr>\n",
       "    <tr>\n",
       "      <th>В.Ровенский</th>\n",
       "      <td>2</td>\n",
       "    </tr>\n",
       "    <tr>\n",
       "      <th>В.Тодоровский</th>\n",
       "      <td>2</td>\n",
       "    </tr>\n",
       "    <tr>\n",
       "      <th>Д.Дьяченко</th>\n",
       "      <td>4</td>\n",
       "    </tr>\n",
       "    <tr>\n",
       "      <th>Д.Киселев</th>\n",
       "      <td>2</td>\n",
       "    </tr>\n",
       "    <tr>\n",
       "      <th>Д.Шмидт</th>\n",
       "      <td>3</td>\n",
       "    </tr>\n",
       "    <tr>\n",
       "      <th>К.Дружинин</th>\n",
       "      <td>2</td>\n",
       "    </tr>\n",
       "    <tr>\n",
       "      <th>К.Шипенко</th>\n",
       "      <td>2</td>\n",
       "    </tr>\n",
       "    <tr>\n",
       "      <th>Л.Марголин</th>\n",
       "      <td>2</td>\n",
       "    </tr>\n",
       "    <tr>\n",
       "      <th>М.Волков</th>\n",
       "      <td>2</td>\n",
       "    </tr>\n",
       "    <tr>\n",
       "      <th>М.Расходников</th>\n",
       "      <td>2</td>\n",
       "    </tr>\n",
       "    <tr>\n",
       "      <th>Н.Хомерики</th>\n",
       "      <td>2</td>\n",
       "    </tr>\n",
       "    <tr>\n",
       "      <th>Р.Гигинеишвили</th>\n",
       "      <td>2</td>\n",
       "    </tr>\n",
       "    <tr>\n",
       "      <th>Р.Прыгунов</th>\n",
       "      <td>2</td>\n",
       "    </tr>\n",
       "    <tr>\n",
       "      <th>С.Андреасян</th>\n",
       "      <td>4</td>\n",
       "    </tr>\n",
       "    <tr>\n",
       "      <th>С.Мокрицкий</th>\n",
       "      <td>2</td>\n",
       "    </tr>\n",
       "    <tr>\n",
       "      <th>С.Подгаевский</th>\n",
       "      <td>2</td>\n",
       "    </tr>\n",
       "    <tr>\n",
       "      <th>Т.Бекмамбетов</th>\n",
       "      <td>2</td>\n",
       "    </tr>\n",
       "  </tbody>\n",
       "</table>\n",
       "</div>"
      ],
      "text/plain": [
       "                count\n",
       "main_director        \n",
       "А.Аксененко         2\n",
       "А.Богуславский      2\n",
       "А.Волгин            2\n",
       "А.Меликян           2\n",
       "А.Пиманов           2\n",
       "А.Цицилин           2\n",
       "В.Ровенский         2\n",
       "В.Тодоровский       2\n",
       "Д.Дьяченко          4\n",
       "Д.Киселев           2\n",
       "Д.Шмидт             3\n",
       "К.Дружинин          2\n",
       "К.Шипенко           2\n",
       "Л.Марголин          2\n",
       "М.Волков            2\n",
       "М.Расходников       2\n",
       "Н.Хомерики          2\n",
       "Р.Гигинеишвили      2\n",
       "Р.Прыгунов          2\n",
       "С.Андреасян         4\n",
       "С.Мокрицкий         2\n",
       "С.Подгаевский       2\n",
       "Т.Бекмамбетов       2"
      ]
     },
     "execution_count": 42,
     "metadata": {},
     "output_type": "execute_result"
    }
   ],
   "source": [
    "pivot_success = tmp2.pivot_table(index = 'main_director', values = 'success', aggfunc='count')\n",
    "pivot_success.columns = ['count']\n",
    "pivot_success[pivot_success['count']>1]"
   ]
  },
  {
   "cell_type": "markdown",
   "metadata": {},
   "source": [
    "Больше всех окупаемых фильмов у Д.Дьяченко и С.Андреасян...\t"
   ]
  },
  {
   "cell_type": "markdown",
   "metadata": {
    "id": "V2gYwMcPgFyd"
   },
   "source": [
    "### Шаг 5. Напишите общий вывод"
   ]
  },
  {
   "cell_type": "markdown",
   "metadata": {
    "id": "AYRg3dzXgFye"
   },
   "source": [
    "Цель: Исследовать фильмы, которые получили государственную поддержку. \n",
    "Ответить на вопросы:\n",
    "- Пользуются ли  успехом. Какие наиболее популярны.\n",
    "\n",
    "#### Заметки:\n",
    "\n",
    "- Предоставленных данных с каждым годом все больше.\n",
    "\n",
    "\n",
    "- Кассовые сборы незначительно менялись в течение нескольких лет.\n",
    "\n",
    "#### Основные Выводы:\n",
    "\n",
    "- В период с 2015 и 2019 года больше всего денег собрали фильм с возрастным ограничением 6+. Это может быть связано с количеством определенных фильмов и их популярностью среди зрителей. \n",
    "\n",
    "\n",
    "- Нельзя сказать, что количество предоставленных средств связано с конечным успехом фильма. \n",
    "\n",
    "    - Корреляция между денежной поддержкой и рейтингом: 0.05\n",
    "    - Корреляция между денежной поддержкой и сборами: 0.36\n",
    "   \n",
    "   \n",
    "- Большинство фильмов с гос. поддержкой не окупились. Доля окупившихся: 0.34\n",
    "\n",
    "\n",
    "- В основном окупились комедии и мультфильмы. \n",
    "\n",
    "\n",
    "- Больше всех окупаемых фильмов у Д.Дьяченко и С.Андреасян. Это может быть связано с рекламной компанией или известностью режиссера.\n"
   ]
  }
 ],
 "metadata": {
  "ExecuteTimeLog": [
   {
    "duration": 537,
    "start_time": "2021-07-07T10:12:08.634Z"
   },
   {
    "duration": 206,
    "start_time": "2021-07-07T10:12:30.191Z"
   },
   {
    "duration": 227,
    "start_time": "2021-07-07T10:12:33.078Z"
   },
   {
    "duration": 153,
    "start_time": "2021-07-07T10:13:42.146Z"
   },
   {
    "duration": 233,
    "start_time": "2021-07-07T10:30:09.252Z"
   },
   {
    "duration": 19,
    "start_time": "2021-07-07T10:30:15.577Z"
   },
   {
    "duration": 18,
    "start_time": "2021-07-07T10:30:57.348Z"
   },
   {
    "duration": 19,
    "start_time": "2021-07-07T10:31:17.452Z"
   },
   {
    "duration": 21,
    "start_time": "2021-07-07T10:31:32.227Z"
   },
   {
    "duration": 27,
    "start_time": "2021-07-07T10:32:06.588Z"
   },
   {
    "duration": 23,
    "start_time": "2021-07-07T10:32:43.645Z"
   },
   {
    "duration": 24,
    "start_time": "2021-07-07T10:33:06.948Z"
   },
   {
    "duration": 7,
    "start_time": "2021-07-07T10:33:28.558Z"
   },
   {
    "duration": 23,
    "start_time": "2021-07-07T10:33:43.761Z"
   },
   {
    "duration": 28,
    "start_time": "2021-07-07T10:34:13.466Z"
   },
   {
    "duration": 23,
    "start_time": "2021-07-07T10:35:56.187Z"
   },
   {
    "duration": 6,
    "start_time": "2021-07-07T10:36:48.182Z"
   },
   {
    "duration": 14,
    "start_time": "2021-07-07T10:37:49.641Z"
   },
   {
    "duration": 6,
    "start_time": "2021-07-07T10:38:06.694Z"
   },
   {
    "duration": 6,
    "start_time": "2021-07-07T10:38:13.493Z"
   },
   {
    "duration": 19,
    "start_time": "2021-07-07T10:38:44.056Z"
   },
   {
    "duration": 186,
    "start_time": "2021-07-07T10:48:35.618Z"
   },
   {
    "duration": 24,
    "start_time": "2021-07-07T10:48:51.498Z"
   },
   {
    "duration": 20,
    "start_time": "2021-07-07T10:48:59.415Z"
   },
   {
    "duration": 20,
    "start_time": "2021-07-07T10:53:02.195Z"
   },
   {
    "duration": 188,
    "start_time": "2021-07-07T10:54:40.486Z"
   },
   {
    "duration": 115,
    "start_time": "2021-07-07T10:54:52.552Z"
   },
   {
    "duration": 214,
    "start_time": "2021-07-07T10:54:56.354Z"
   },
   {
    "duration": 47,
    "start_time": "2021-07-07T10:54:58.282Z"
   },
   {
    "duration": 217,
    "start_time": "2021-07-07T10:59:16.075Z"
   },
   {
    "duration": 51,
    "start_time": "2021-07-07T10:59:16.243Z"
   },
   {
    "duration": 578,
    "start_time": "2021-07-07T10:59:18.774Z"
   },
   {
    "duration": 161,
    "start_time": "2021-07-07T10:59:21.238Z"
   },
   {
    "duration": 59,
    "start_time": "2021-07-07T10:59:21.453Z"
   },
   {
    "duration": 3,
    "start_time": "2021-07-07T11:02:10.786Z"
   },
   {
    "duration": 13,
    "start_time": "2021-07-07T11:07:07.722Z"
   },
   {
    "duration": 26,
    "start_time": "2021-07-07T11:07:17.958Z"
   },
   {
    "duration": 22,
    "start_time": "2021-07-07T11:08:17.939Z"
   },
   {
    "duration": 212,
    "start_time": "2021-07-07T11:08:19.665Z"
   },
   {
    "duration": 21,
    "start_time": "2021-07-07T11:08:29.945Z"
   },
   {
    "duration": 31,
    "start_time": "2021-07-07T11:08:38.899Z"
   },
   {
    "duration": 23,
    "start_time": "2021-07-07T11:08:54.527Z"
   },
   {
    "duration": 8,
    "start_time": "2021-07-07T11:18:55.974Z"
   },
   {
    "duration": 7,
    "start_time": "2021-07-07T11:19:03.639Z"
   },
   {
    "duration": 7,
    "start_time": "2021-07-07T11:19:06.444Z"
   },
   {
    "duration": 578,
    "start_time": "2021-07-07T12:09:59.576Z"
   },
   {
    "duration": 195,
    "start_time": "2021-07-07T12:10:00.156Z"
   },
   {
    "duration": 115,
    "start_time": "2021-07-07T12:10:00.353Z"
   },
   {
    "duration": 3,
    "start_time": "2021-07-07T12:10:00.470Z"
   },
   {
    "duration": 32,
    "start_time": "2021-07-07T12:10:00.474Z"
   },
   {
    "duration": 23,
    "start_time": "2021-07-07T12:10:00.508Z"
   },
   {
    "duration": 19,
    "start_time": "2021-07-07T12:10:00.533Z"
   },
   {
    "duration": 44,
    "start_time": "2021-07-07T12:10:00.553Z"
   },
   {
    "duration": 7,
    "start_time": "2021-07-07T12:10:00.600Z"
   },
   {
    "duration": 7,
    "start_time": "2021-07-07T12:19:45.761Z"
   },
   {
    "duration": 21,
    "start_time": "2021-07-07T12:21:35.482Z"
   },
   {
    "duration": 21,
    "start_time": "2021-07-07T12:29:23.569Z"
   },
   {
    "duration": 525,
    "start_time": "2021-07-07T12:29:44.542Z"
   },
   {
    "duration": 214,
    "start_time": "2021-07-07T12:29:45.069Z"
   },
   {
    "duration": 92,
    "start_time": "2021-07-07T12:29:45.285Z"
   },
   {
    "duration": 3,
    "start_time": "2021-07-07T12:29:45.379Z"
   },
   {
    "duration": 28,
    "start_time": "2021-07-07T12:29:45.384Z"
   },
   {
    "duration": 23,
    "start_time": "2021-07-07T12:29:45.413Z"
   },
   {
    "duration": 21,
    "start_time": "2021-07-07T12:29:45.437Z"
   },
   {
    "duration": 41,
    "start_time": "2021-07-07T12:29:45.460Z"
   },
   {
    "duration": 7,
    "start_time": "2021-07-07T12:29:45.502Z"
   },
   {
    "duration": 20,
    "start_time": "2021-07-07T12:29:45.511Z"
   },
   {
    "duration": 12,
    "start_time": "2021-07-07T12:34:02.800Z"
   },
   {
    "duration": 7,
    "start_time": "2021-07-07T12:35:10.479Z"
   },
   {
    "duration": 8,
    "start_time": "2021-07-07T12:35:22.440Z"
   },
   {
    "duration": 6,
    "start_time": "2021-07-07T12:35:35.649Z"
   },
   {
    "duration": 6,
    "start_time": "2021-07-07T12:35:43.107Z"
   },
   {
    "duration": 22,
    "start_time": "2021-07-07T12:38:03.029Z"
   },
   {
    "duration": 10,
    "start_time": "2021-07-07T12:38:06.592Z"
   },
   {
    "duration": 563,
    "start_time": "2021-07-07T12:38:46.493Z"
   },
   {
    "duration": 265,
    "start_time": "2021-07-07T12:38:47.058Z"
   },
   {
    "duration": 94,
    "start_time": "2021-07-07T12:38:47.325Z"
   },
   {
    "duration": 3,
    "start_time": "2021-07-07T12:38:47.422Z"
   },
   {
    "duration": 30,
    "start_time": "2021-07-07T12:38:47.427Z"
   },
   {
    "duration": 16,
    "start_time": "2021-07-07T12:38:53.305Z"
   },
   {
    "duration": 10,
    "start_time": "2021-07-07T12:38:53.499Z"
   },
   {
    "duration": 8,
    "start_time": "2021-07-07T12:39:48.161Z"
   },
   {
    "duration": 27,
    "start_time": "2021-07-07T12:41:17.629Z"
   },
   {
    "duration": 17,
    "start_time": "2021-07-07T12:41:17.867Z"
   },
   {
    "duration": 21,
    "start_time": "2021-07-07T12:41:19.310Z"
   },
   {
    "duration": 7,
    "start_time": "2021-07-07T12:41:19.544Z"
   },
   {
    "duration": 20,
    "start_time": "2021-07-07T12:41:20.504Z"
   },
   {
    "duration": 554,
    "start_time": "2021-07-07T12:56:23.696Z"
   },
   {
    "duration": 200,
    "start_time": "2021-07-07T12:56:25.234Z"
   },
   {
    "duration": 119,
    "start_time": "2021-07-07T12:56:25.480Z"
   },
   {
    "duration": 4,
    "start_time": "2021-07-07T12:56:25.762Z"
   },
   {
    "duration": 26,
    "start_time": "2021-07-07T12:56:27.172Z"
   },
   {
    "duration": 12,
    "start_time": "2021-07-07T12:56:29.051Z"
   },
   {
    "duration": 10,
    "start_time": "2021-07-07T12:56:29.291Z"
   },
   {
    "duration": 8,
    "start_time": "2021-07-07T12:56:29.623Z"
   },
   {
    "duration": 28,
    "start_time": "2021-07-07T12:56:32.137Z"
   },
   {
    "duration": 19,
    "start_time": "2021-07-07T12:56:39.785Z"
   },
   {
    "duration": 20,
    "start_time": "2021-07-07T12:56:44.297Z"
   },
   {
    "duration": 7,
    "start_time": "2021-07-07T12:56:45.392Z"
   },
   {
    "duration": 23,
    "start_time": "2021-07-07T12:56:46.615Z"
   },
   {
    "duration": 4,
    "start_time": "2021-07-07T12:57:06.625Z"
   },
   {
    "duration": 32,
    "start_time": "2021-07-07T12:57:36.690Z"
   },
   {
    "duration": 18,
    "start_time": "2021-07-07T12:58:00.149Z"
   },
   {
    "duration": 15,
    "start_time": "2021-07-07T12:59:16.793Z"
   },
   {
    "duration": 7,
    "start_time": "2021-07-07T13:19:22.624Z"
   },
   {
    "duration": 6,
    "start_time": "2021-07-07T14:17:33.527Z"
   },
   {
    "duration": 9,
    "start_time": "2021-07-07T14:17:48.409Z"
   },
   {
    "duration": 8,
    "start_time": "2021-07-07T14:20:13.060Z"
   },
   {
    "duration": 8,
    "start_time": "2021-07-07T14:20:37.957Z"
   },
   {
    "duration": 8,
    "start_time": "2021-07-07T14:20:47.470Z"
   },
   {
    "duration": 9,
    "start_time": "2021-07-07T14:20:54.503Z"
   },
   {
    "duration": 10,
    "start_time": "2021-07-07T14:28:57.763Z"
   },
   {
    "duration": 3,
    "start_time": "2021-07-07T14:30:23.377Z"
   },
   {
    "duration": 3,
    "start_time": "2021-07-07T14:30:36.489Z"
   },
   {
    "duration": 103,
    "start_time": "2021-07-07T14:30:52.351Z"
   },
   {
    "duration": 8,
    "start_time": "2021-07-07T14:30:54.763Z"
   },
   {
    "duration": 8,
    "start_time": "2021-07-07T14:31:29.301Z"
   },
   {
    "duration": 13,
    "start_time": "2021-07-07T14:31:44.516Z"
   },
   {
    "duration": 7,
    "start_time": "2021-07-07T14:33:10.972Z"
   },
   {
    "duration": 11,
    "start_time": "2021-07-07T14:33:27.780Z"
   },
   {
    "duration": 8,
    "start_time": "2021-07-07T14:34:44.588Z"
   },
   {
    "duration": 57,
    "start_time": "2021-07-07T14:35:59.042Z"
   },
   {
    "duration": 3,
    "start_time": "2021-07-07T14:36:28.168Z"
   },
   {
    "duration": 5,
    "start_time": "2021-07-07T14:36:46.254Z"
   },
   {
    "duration": 4,
    "start_time": "2021-07-07T14:36:52.714Z"
   },
   {
    "duration": 3,
    "start_time": "2021-07-07T14:36:56.612Z"
   },
   {
    "duration": 4,
    "start_time": "2021-07-07T14:36:57.049Z"
   },
   {
    "duration": 3,
    "start_time": "2021-07-07T14:39:21.214Z"
   },
   {
    "duration": 7,
    "start_time": "2021-07-07T14:39:52.406Z"
   },
   {
    "duration": 11,
    "start_time": "2021-07-07T14:39:58.576Z"
   },
   {
    "duration": 9,
    "start_time": "2021-07-07T14:40:26.301Z"
   },
   {
    "duration": 10,
    "start_time": "2021-07-07T14:40:31.704Z"
   },
   {
    "duration": 11,
    "start_time": "2021-07-07T14:40:36.249Z"
   },
   {
    "duration": 10,
    "start_time": "2021-07-07T14:40:39.783Z"
   },
   {
    "duration": 9,
    "start_time": "2021-07-07T14:40:48.558Z"
   },
   {
    "duration": 10,
    "start_time": "2021-07-07T14:40:57.143Z"
   },
   {
    "duration": 9,
    "start_time": "2021-07-07T14:41:06.074Z"
   },
   {
    "duration": 4324,
    "start_time": "2021-07-07T14:41:22.004Z"
   },
   {
    "duration": 11,
    "start_time": "2021-07-07T14:41:33.392Z"
   },
   {
    "duration": 9,
    "start_time": "2021-07-07T14:41:39.288Z"
   },
   {
    "duration": 569,
    "start_time": "2021-07-07T14:42:14.387Z"
   },
   {
    "duration": 197,
    "start_time": "2021-07-07T14:42:14.959Z"
   },
   {
    "duration": 84,
    "start_time": "2021-07-07T14:42:16.052Z"
   },
   {
    "duration": 4,
    "start_time": "2021-07-07T14:42:16.900Z"
   },
   {
    "duration": 27,
    "start_time": "2021-07-07T14:42:19.898Z"
   },
   {
    "duration": 12,
    "start_time": "2021-07-07T14:42:21.577Z"
   },
   {
    "duration": 9,
    "start_time": "2021-07-07T14:42:21.813Z"
   },
   {
    "duration": 9,
    "start_time": "2021-07-07T14:42:22.569Z"
   },
   {
    "duration": 29,
    "start_time": "2021-07-07T14:42:25.837Z"
   },
   {
    "duration": 20,
    "start_time": "2021-07-07T14:42:27.003Z"
   },
   {
    "duration": 21,
    "start_time": "2021-07-07T14:42:28.767Z"
   },
   {
    "duration": 7,
    "start_time": "2021-07-07T14:42:29.838Z"
   },
   {
    "duration": 4,
    "start_time": "2021-07-07T14:43:25.493Z"
   },
   {
    "duration": 7,
    "start_time": "2021-07-07T14:43:26.573Z"
   },
   {
    "duration": 10,
    "start_time": "2021-07-07T14:43:31.639Z"
   },
   {
    "duration": 9,
    "start_time": "2021-07-07T14:43:32.046Z"
   },
   {
    "duration": 10,
    "start_time": "2021-07-07T14:43:33.301Z"
   },
   {
    "duration": 12,
    "start_time": "2021-07-07T14:43:33.658Z"
   },
   {
    "duration": 8,
    "start_time": "2021-07-07T14:43:34.552Z"
   },
   {
    "duration": 9,
    "start_time": "2021-07-07T14:43:35.058Z"
   },
   {
    "duration": 12,
    "start_time": "2021-07-07T14:43:35.914Z"
   },
   {
    "duration": 17,
    "start_time": "2021-07-07T14:45:34.368Z"
   },
   {
    "duration": 512,
    "start_time": "2021-07-07T14:51:58.236Z"
   },
   {
    "duration": 223,
    "start_time": "2021-07-07T14:51:58.750Z"
   },
   {
    "duration": 93,
    "start_time": "2021-07-07T14:51:58.977Z"
   },
   {
    "duration": 4,
    "start_time": "2021-07-07T14:51:59.071Z"
   },
   {
    "duration": 37,
    "start_time": "2021-07-07T14:51:59.077Z"
   },
   {
    "duration": 18,
    "start_time": "2021-07-07T14:51:59.116Z"
   },
   {
    "duration": 10,
    "start_time": "2021-07-07T14:51:59.137Z"
   },
   {
    "duration": 8,
    "start_time": "2021-07-07T14:51:59.149Z"
   },
   {
    "duration": 54,
    "start_time": "2021-07-07T14:51:59.158Z"
   },
   {
    "duration": 18,
    "start_time": "2021-07-07T14:51:59.213Z"
   },
   {
    "duration": 22,
    "start_time": "2021-07-07T14:51:59.232Z"
   },
   {
    "duration": 36,
    "start_time": "2021-07-07T14:51:59.255Z"
   },
   {
    "duration": 7,
    "start_time": "2021-07-07T14:51:59.293Z"
   },
   {
    "duration": 10,
    "start_time": "2021-07-07T14:51:59.302Z"
   },
   {
    "duration": 9,
    "start_time": "2021-07-07T14:51:59.313Z"
   },
   {
    "duration": 11,
    "start_time": "2021-07-07T14:51:59.324Z"
   },
   {
    "duration": 8,
    "start_time": "2021-07-07T14:51:59.337Z"
   },
   {
    "duration": 46,
    "start_time": "2021-07-07T14:51:59.347Z"
   },
   {
    "duration": 22,
    "start_time": "2021-07-07T14:51:59.395Z"
   },
   {
    "duration": 24,
    "start_time": "2021-07-07T14:57:32.911Z"
   },
   {
    "duration": 7,
    "start_time": "2021-07-07T14:58:22.070Z"
   },
   {
    "duration": 4,
    "start_time": "2021-07-07T14:59:11.239Z"
   },
   {
    "duration": 25,
    "start_time": "2021-07-07T15:07:22.208Z"
   },
   {
    "duration": 16,
    "start_time": "2021-07-07T15:08:25.560Z"
   },
   {
    "duration": 15,
    "start_time": "2021-07-07T15:08:40.647Z"
   },
   {
    "duration": 14,
    "start_time": "2021-07-07T15:08:46.669Z"
   },
   {
    "duration": 533,
    "start_time": "2021-07-07T15:18:07.440Z"
   },
   {
    "duration": 173,
    "start_time": "2021-07-07T15:18:07.974Z"
   },
   {
    "duration": 84,
    "start_time": "2021-07-07T15:18:08.149Z"
   },
   {
    "duration": 3,
    "start_time": "2021-07-07T15:18:08.235Z"
   },
   {
    "duration": 30,
    "start_time": "2021-07-07T15:18:08.240Z"
   },
   {
    "duration": 22,
    "start_time": "2021-07-07T15:18:08.272Z"
   },
   {
    "duration": 11,
    "start_time": "2021-07-07T15:18:08.295Z"
   },
   {
    "duration": 11,
    "start_time": "2021-07-07T15:18:08.309Z"
   },
   {
    "duration": 40,
    "start_time": "2021-07-07T15:18:08.322Z"
   },
   {
    "duration": 42,
    "start_time": "2021-07-07T15:18:08.364Z"
   },
   {
    "duration": 22,
    "start_time": "2021-07-07T15:18:08.408Z"
   },
   {
    "duration": 5,
    "start_time": "2021-07-07T15:18:08.432Z"
   },
   {
    "duration": 13,
    "start_time": "2021-07-07T15:18:08.439Z"
   },
   {
    "duration": 9,
    "start_time": "2021-07-07T15:18:08.454Z"
   },
   {
    "duration": 32,
    "start_time": "2021-07-07T15:18:08.465Z"
   },
   {
    "duration": 10,
    "start_time": "2021-07-07T15:18:08.501Z"
   },
   {
    "duration": 7,
    "start_time": "2021-07-07T15:18:08.513Z"
   },
   {
    "duration": 11,
    "start_time": "2021-07-07T15:18:08.521Z"
   },
   {
    "duration": 17,
    "start_time": "2021-07-07T15:18:08.534Z"
   },
   {
    "duration": 44,
    "start_time": "2021-07-07T15:18:08.553Z"
   },
   {
    "duration": 22,
    "start_time": "2021-07-07T15:18:08.599Z"
   },
   {
    "duration": 61,
    "start_time": "2021-07-07T15:18:08.622Z"
   },
   {
    "duration": 7,
    "start_time": "2021-07-07T15:18:39.457Z"
   },
   {
    "duration": 5,
    "start_time": "2021-07-07T16:05:17.020Z"
   },
   {
    "duration": 5,
    "start_time": "2021-07-07T16:51:28.794Z"
   },
   {
    "duration": 546,
    "start_time": "2021-07-07T16:52:26.306Z"
   },
   {
    "duration": 203,
    "start_time": "2021-07-07T16:52:27.523Z"
   },
   {
    "duration": 85,
    "start_time": "2021-07-07T16:52:27.736Z"
   },
   {
    "duration": 4,
    "start_time": "2021-07-07T16:52:27.899Z"
   },
   {
    "duration": 25,
    "start_time": "2021-07-07T16:52:28.674Z"
   },
   {
    "duration": 8,
    "start_time": "2021-07-07T16:52:32.956Z"
   },
   {
    "duration": 18,
    "start_time": "2021-07-07T16:52:35.616Z"
   },
   {
    "duration": 6,
    "start_time": "2021-07-07T16:52:36.913Z"
   },
   {
    "duration": 11,
    "start_time": "2021-07-07T16:52:40.258Z"
   },
   {
    "duration": 10,
    "start_time": "2021-07-07T16:52:46.251Z"
   },
   {
    "duration": 8,
    "start_time": "2021-07-07T16:52:47.182Z"
   },
   {
    "duration": 27,
    "start_time": "2021-07-07T16:53:20.391Z"
   },
   {
    "duration": 20,
    "start_time": "2021-07-07T16:53:22.022Z"
   },
   {
    "duration": 23,
    "start_time": "2021-07-07T16:53:23.690Z"
   },
   {
    "duration": 8,
    "start_time": "2021-07-07T16:53:24.261Z"
   },
   {
    "duration": 4,
    "start_time": "2021-07-07T16:53:38.733Z"
   },
   {
    "duration": 7,
    "start_time": "2021-07-07T16:53:40.445Z"
   },
   {
    "duration": 11,
    "start_time": "2021-07-07T16:53:41.348Z"
   },
   {
    "duration": 13,
    "start_time": "2021-07-07T16:53:45.250Z"
   },
   {
    "duration": 12,
    "start_time": "2021-07-07T16:53:45.467Z"
   },
   {
    "duration": 4,
    "start_time": "2021-07-07T16:55:32.704Z"
   },
   {
    "duration": 12,
    "start_time": "2021-07-07T16:55:49.012Z"
   },
   {
    "duration": 18,
    "start_time": "2021-07-07T16:55:49.547Z"
   },
   {
    "duration": 611,
    "start_time": "2021-07-07T16:58:35.156Z"
   },
   {
    "duration": 200,
    "start_time": "2021-07-07T16:58:35.770Z"
   },
   {
    "duration": 86,
    "start_time": "2021-07-07T16:58:35.972Z"
   },
   {
    "duration": 3,
    "start_time": "2021-07-07T16:58:36.060Z"
   },
   {
    "duration": 27,
    "start_time": "2021-07-07T16:58:36.065Z"
   },
   {
    "duration": 8,
    "start_time": "2021-07-07T16:58:36.094Z"
   },
   {
    "duration": 17,
    "start_time": "2021-07-07T16:58:36.103Z"
   },
   {
    "duration": 5,
    "start_time": "2021-07-07T16:58:36.123Z"
   },
   {
    "duration": 11,
    "start_time": "2021-07-07T16:58:36.130Z"
   },
   {
    "duration": 7,
    "start_time": "2021-07-07T16:58:36.143Z"
   },
   {
    "duration": 37,
    "start_time": "2021-07-07T16:58:36.152Z"
   },
   {
    "duration": 27,
    "start_time": "2021-07-07T16:58:36.191Z"
   },
   {
    "duration": 19,
    "start_time": "2021-07-07T16:58:36.219Z"
   },
   {
    "duration": 49,
    "start_time": "2021-07-07T16:58:36.240Z"
   },
   {
    "duration": 6,
    "start_time": "2021-07-07T16:58:36.291Z"
   },
   {
    "duration": 3,
    "start_time": "2021-07-07T16:58:36.299Z"
   },
   {
    "duration": 13,
    "start_time": "2021-07-07T16:58:36.304Z"
   },
   {
    "duration": 10,
    "start_time": "2021-07-07T16:58:36.319Z"
   },
   {
    "duration": 10,
    "start_time": "2021-07-07T16:58:36.331Z"
   },
   {
    "duration": 44,
    "start_time": "2021-07-07T16:58:36.343Z"
   },
   {
    "duration": 4,
    "start_time": "2021-07-07T16:58:36.388Z"
   },
   {
    "duration": 13,
    "start_time": "2021-07-07T16:58:36.394Z"
   },
   {
    "duration": 16,
    "start_time": "2021-07-07T16:58:36.410Z"
   },
   {
    "duration": 8,
    "start_time": "2021-07-07T17:02:31.629Z"
   },
   {
    "duration": 8,
    "start_time": "2021-07-07T17:02:34.308Z"
   },
   {
    "duration": 6,
    "start_time": "2021-07-07T17:05:13.483Z"
   },
   {
    "duration": 17,
    "start_time": "2021-07-07T17:05:20.606Z"
   },
   {
    "duration": 7,
    "start_time": "2021-07-07T17:05:34.638Z"
   },
   {
    "duration": 3,
    "start_time": "2021-07-07T17:06:31.883Z"
   },
   {
    "duration": 570,
    "start_time": "2021-07-07T17:06:37.165Z"
   },
   {
    "duration": 174,
    "start_time": "2021-07-07T17:06:37.737Z"
   },
   {
    "duration": 47,
    "start_time": "2021-07-07T17:06:37.913Z"
   },
   {
    "duration": 3,
    "start_time": "2021-07-07T17:06:37.962Z"
   },
   {
    "duration": 27,
    "start_time": "2021-07-07T17:06:37.967Z"
   },
   {
    "duration": 7,
    "start_time": "2021-07-07T17:06:37.996Z"
   },
   {
    "duration": 16,
    "start_time": "2021-07-07T17:06:38.005Z"
   },
   {
    "duration": 6,
    "start_time": "2021-07-07T17:06:38.024Z"
   },
   {
    "duration": 12,
    "start_time": "2021-07-07T17:06:38.031Z"
   },
   {
    "duration": 41,
    "start_time": "2021-07-07T17:06:38.045Z"
   },
   {
    "duration": 8,
    "start_time": "2021-07-07T17:06:38.088Z"
   },
   {
    "duration": 26,
    "start_time": "2021-07-07T17:06:38.098Z"
   },
   {
    "duration": 17,
    "start_time": "2021-07-07T17:06:38.126Z"
   },
   {
    "duration": 43,
    "start_time": "2021-07-07T17:06:38.144Z"
   },
   {
    "duration": 6,
    "start_time": "2021-07-07T17:06:38.188Z"
   },
   {
    "duration": 5,
    "start_time": "2021-07-07T17:06:38.195Z"
   },
   {
    "duration": 9,
    "start_time": "2021-07-07T17:06:38.201Z"
   },
   {
    "duration": 12,
    "start_time": "2021-07-07T17:06:38.212Z"
   },
   {
    "duration": 11,
    "start_time": "2021-07-07T17:06:38.226Z"
   },
   {
    "duration": 47,
    "start_time": "2021-07-07T17:06:38.239Z"
   },
   {
    "duration": 4,
    "start_time": "2021-07-07T17:06:38.288Z"
   },
   {
    "duration": 13,
    "start_time": "2021-07-07T17:06:38.293Z"
   },
   {
    "duration": 5,
    "start_time": "2021-07-07T17:06:38.309Z"
   },
   {
    "duration": 18,
    "start_time": "2021-07-07T17:06:38.325Z"
   },
   {
    "duration": 20,
    "start_time": "2021-07-07T17:07:02.805Z"
   },
   {
    "duration": 19,
    "start_time": "2021-07-07T17:07:08.527Z"
   },
   {
    "duration": 19,
    "start_time": "2021-07-07T17:07:12.758Z"
   },
   {
    "duration": 22,
    "start_time": "2021-07-07T17:07:17.497Z"
   },
   {
    "duration": 19,
    "start_time": "2021-07-07T17:07:19.645Z"
   },
   {
    "duration": 10,
    "start_time": "2021-07-07T17:07:34.239Z"
   },
   {
    "duration": 17,
    "start_time": "2021-07-07T17:07:54.144Z"
   },
   {
    "duration": 14,
    "start_time": "2021-07-07T17:08:14.357Z"
   },
   {
    "duration": 616,
    "start_time": "2021-07-07T17:08:45.254Z"
   },
   {
    "duration": 178,
    "start_time": "2021-07-07T17:08:45.872Z"
   },
   {
    "duration": 60,
    "start_time": "2021-07-07T17:08:46.054Z"
   },
   {
    "duration": 3,
    "start_time": "2021-07-07T17:08:46.116Z"
   },
   {
    "duration": 26,
    "start_time": "2021-07-07T17:08:46.121Z"
   },
   {
    "duration": 7,
    "start_time": "2021-07-07T17:08:46.149Z"
   },
   {
    "duration": 17,
    "start_time": "2021-07-07T17:08:46.158Z"
   },
   {
    "duration": 14,
    "start_time": "2021-07-07T17:08:46.176Z"
   },
   {
    "duration": 17,
    "start_time": "2021-07-07T17:08:46.193Z"
   },
   {
    "duration": 9,
    "start_time": "2021-07-07T17:08:46.211Z"
   },
   {
    "duration": 21,
    "start_time": "2021-07-07T17:08:46.221Z"
   },
   {
    "duration": 49,
    "start_time": "2021-07-07T17:08:46.244Z"
   },
   {
    "duration": 24,
    "start_time": "2021-07-07T17:08:46.295Z"
   },
   {
    "duration": 22,
    "start_time": "2021-07-07T17:08:46.321Z"
   },
   {
    "duration": 6,
    "start_time": "2021-07-07T17:08:46.345Z"
   },
   {
    "duration": 5,
    "start_time": "2021-07-07T17:08:46.353Z"
   },
   {
    "duration": 13,
    "start_time": "2021-07-07T17:08:46.386Z"
   },
   {
    "duration": 12,
    "start_time": "2021-07-07T17:08:46.402Z"
   },
   {
    "duration": 10,
    "start_time": "2021-07-07T17:08:46.415Z"
   },
   {
    "duration": 7,
    "start_time": "2021-07-07T17:08:46.427Z"
   },
   {
    "duration": 8,
    "start_time": "2021-07-07T17:08:46.435Z"
   },
   {
    "duration": 68,
    "start_time": "2021-07-07T17:08:46.446Z"
   },
   {
    "duration": 13,
    "start_time": "2021-07-07T17:08:46.516Z"
   },
   {
    "duration": 78,
    "start_time": "2021-07-07T17:08:46.530Z"
   },
   {
    "duration": 40,
    "start_time": "2021-07-07T17:09:08.185Z"
   },
   {
    "duration": 16,
    "start_time": "2021-07-07T17:09:19.324Z"
   },
   {
    "duration": 21,
    "start_time": "2021-07-07T17:09:23.290Z"
   },
   {
    "duration": 13,
    "start_time": "2021-07-07T17:09:54.812Z"
   },
   {
    "duration": 13,
    "start_time": "2021-07-07T17:10:02.039Z"
   },
   {
    "duration": 10,
    "start_time": "2021-07-07T17:10:29.632Z"
   },
   {
    "duration": 13,
    "start_time": "2021-07-07T17:10:52.372Z"
   },
   {
    "duration": 13,
    "start_time": "2021-07-07T17:11:17.270Z"
   },
   {
    "duration": 13,
    "start_time": "2021-07-07T17:14:59.284Z"
   },
   {
    "duration": 547,
    "start_time": "2021-07-07T17:18:52.403Z"
   },
   {
    "duration": 163,
    "start_time": "2021-07-07T17:18:52.952Z"
   },
   {
    "duration": 44,
    "start_time": "2021-07-07T17:18:53.117Z"
   },
   {
    "duration": 3,
    "start_time": "2021-07-07T17:18:53.162Z"
   },
   {
    "duration": 26,
    "start_time": "2021-07-07T17:18:53.167Z"
   },
   {
    "duration": 6,
    "start_time": "2021-07-07T17:18:53.195Z"
   },
   {
    "duration": 15,
    "start_time": "2021-07-07T17:18:53.203Z"
   },
   {
    "duration": 5,
    "start_time": "2021-07-07T17:18:53.220Z"
   },
   {
    "duration": 11,
    "start_time": "2021-07-07T17:18:53.228Z"
   },
   {
    "duration": 9,
    "start_time": "2021-07-07T17:18:53.241Z"
   },
   {
    "duration": 41,
    "start_time": "2021-07-07T17:18:53.252Z"
   },
   {
    "duration": 33,
    "start_time": "2021-07-07T17:18:53.295Z"
   },
   {
    "duration": 19,
    "start_time": "2021-07-07T17:18:53.330Z"
   },
   {
    "duration": 49,
    "start_time": "2021-07-07T17:18:53.350Z"
   },
   {
    "duration": 5,
    "start_time": "2021-07-07T17:18:53.401Z"
   },
   {
    "duration": 5,
    "start_time": "2021-07-07T17:18:53.408Z"
   },
   {
    "duration": 11,
    "start_time": "2021-07-07T17:18:53.414Z"
   },
   {
    "duration": 9,
    "start_time": "2021-07-07T17:18:53.427Z"
   },
   {
    "duration": 10,
    "start_time": "2021-07-07T17:18:53.437Z"
   },
   {
    "duration": 39,
    "start_time": "2021-07-07T17:18:53.448Z"
   },
   {
    "duration": 26,
    "start_time": "2021-07-07T17:18:55.799Z"
   },
   {
    "duration": 598,
    "start_time": "2021-07-07T17:20:17.862Z"
   },
   {
    "duration": 161,
    "start_time": "2021-07-07T17:20:18.462Z"
   },
   {
    "duration": 45,
    "start_time": "2021-07-07T17:20:18.626Z"
   },
   {
    "duration": 4,
    "start_time": "2021-07-07T17:20:18.673Z"
   },
   {
    "duration": 38,
    "start_time": "2021-07-07T17:20:26.877Z"
   },
   {
    "duration": 7,
    "start_time": "2021-07-07T17:20:37.405Z"
   },
   {
    "duration": 19,
    "start_time": "2021-07-07T17:20:51.534Z"
   },
   {
    "duration": 5,
    "start_time": "2021-07-07T17:20:57.228Z"
   },
   {
    "duration": 7,
    "start_time": "2021-07-07T17:21:08.235Z"
   },
   {
    "duration": 19,
    "start_time": "2021-07-07T17:21:42.158Z"
   },
   {
    "duration": 14,
    "start_time": "2021-07-07T17:21:50.225Z"
   },
   {
    "duration": 22,
    "start_time": "2021-07-07T17:22:54.104Z"
   },
   {
    "duration": 5,
    "start_time": "2021-07-07T17:22:56.371Z"
   },
   {
    "duration": 14,
    "start_time": "2021-07-07T17:22:58.316Z"
   },
   {
    "duration": 5,
    "start_time": "2021-07-07T17:22:58.493Z"
   },
   {
    "duration": 35,
    "start_time": "2021-07-07T17:22:59.666Z"
   },
   {
    "duration": 6,
    "start_time": "2021-07-07T17:23:02.410Z"
   },
   {
    "duration": 611,
    "start_time": "2021-07-07T17:24:59.664Z"
   },
   {
    "duration": 178,
    "start_time": "2021-07-07T17:25:01.945Z"
   },
   {
    "duration": 47,
    "start_time": "2021-07-07T17:25:02.125Z"
   },
   {
    "duration": 2,
    "start_time": "2021-07-07T17:25:07.903Z"
   },
   {
    "duration": 254,
    "start_time": "2021-07-07T17:25:08.232Z"
   },
   {
    "duration": 182,
    "start_time": "2021-07-07T17:25:08.671Z"
   },
   {
    "duration": 6,
    "start_time": "2021-07-07T17:25:13.104Z"
   },
   {
    "duration": 36,
    "start_time": "2021-07-07T17:25:13.662Z"
   },
   {
    "duration": 7,
    "start_time": "2021-07-07T17:25:14.528Z"
   },
   {
    "duration": 24,
    "start_time": "2021-07-07T17:25:27.982Z"
   },
   {
    "duration": 3,
    "start_time": "2021-07-07T17:25:48.982Z"
   },
   {
    "duration": 165,
    "start_time": "2021-07-07T17:25:48.987Z"
   },
   {
    "duration": 50,
    "start_time": "2021-07-07T17:25:49.154Z"
   },
   {
    "duration": 4,
    "start_time": "2021-07-07T17:25:49.206Z"
   },
   {
    "duration": 26,
    "start_time": "2021-07-07T17:25:49.212Z"
   },
   {
    "duration": 7,
    "start_time": "2021-07-07T17:25:49.240Z"
   },
   {
    "duration": 16,
    "start_time": "2021-07-07T17:25:49.249Z"
   },
   {
    "duration": 22,
    "start_time": "2021-07-07T17:25:49.266Z"
   },
   {
    "duration": 16,
    "start_time": "2021-07-07T17:25:49.291Z"
   },
   {
    "duration": 9,
    "start_time": "2021-07-07T17:25:49.309Z"
   },
   {
    "duration": 7,
    "start_time": "2021-07-07T17:25:49.319Z"
   },
   {
    "duration": 28,
    "start_time": "2021-07-07T17:25:49.328Z"
   },
   {
    "duration": 44,
    "start_time": "2021-07-07T17:25:49.357Z"
   },
   {
    "duration": 22,
    "start_time": "2021-07-07T17:25:49.403Z"
   },
   {
    "duration": 7,
    "start_time": "2021-07-07T17:25:49.427Z"
   },
   {
    "duration": 3,
    "start_time": "2021-07-07T17:25:49.436Z"
   },
   {
    "duration": 44,
    "start_time": "2021-07-07T17:25:49.441Z"
   },
   {
    "duration": 12,
    "start_time": "2021-07-07T17:25:49.488Z"
   },
   {
    "duration": 13,
    "start_time": "2021-07-07T17:25:49.502Z"
   },
   {
    "duration": 10,
    "start_time": "2021-07-07T17:25:49.516Z"
   },
   {
    "duration": 62,
    "start_time": "2021-07-07T17:25:49.527Z"
   },
   {
    "duration": 26,
    "start_time": "2021-07-07T17:26:51.809Z"
   },
   {
    "duration": 26,
    "start_time": "2021-07-07T17:26:55.759Z"
   },
   {
    "duration": 26,
    "start_time": "2021-07-07T17:27:04.501Z"
   },
   {
    "duration": 25,
    "start_time": "2021-07-07T17:28:24.859Z"
   },
   {
    "duration": 21,
    "start_time": "2021-07-07T17:28:55.250Z"
   },
   {
    "duration": 21,
    "start_time": "2021-07-07T17:28:58.885Z"
   },
   {
    "duration": 7,
    "start_time": "2021-07-07T17:45:40.972Z"
   },
   {
    "duration": 13,
    "start_time": "2021-07-07T17:45:42.529Z"
   },
   {
    "duration": 27,
    "start_time": "2021-07-07T17:45:51.026Z"
   },
   {
    "duration": 518,
    "start_time": "2021-07-07T17:46:15.532Z"
   },
   {
    "duration": 235,
    "start_time": "2021-07-07T17:46:16.053Z"
   },
   {
    "duration": 80,
    "start_time": "2021-07-07T17:46:16.292Z"
   },
   {
    "duration": 5,
    "start_time": "2021-07-07T17:46:16.373Z"
   },
   {
    "duration": 26,
    "start_time": "2021-07-07T17:46:16.380Z"
   },
   {
    "duration": 7,
    "start_time": "2021-07-07T17:46:16.408Z"
   },
   {
    "duration": 16,
    "start_time": "2021-07-07T17:46:16.418Z"
   },
   {
    "duration": 5,
    "start_time": "2021-07-07T17:46:16.436Z"
   },
   {
    "duration": 13,
    "start_time": "2021-07-07T17:46:16.442Z"
   },
   {
    "duration": 35,
    "start_time": "2021-07-07T17:46:16.456Z"
   },
   {
    "duration": 8,
    "start_time": "2021-07-07T17:46:16.493Z"
   },
   {
    "duration": 28,
    "start_time": "2021-07-07T17:46:16.502Z"
   },
   {
    "duration": 17,
    "start_time": "2021-07-07T17:46:16.532Z"
   },
   {
    "duration": 44,
    "start_time": "2021-07-07T17:46:16.551Z"
   },
   {
    "duration": 6,
    "start_time": "2021-07-07T17:46:16.597Z"
   },
   {
    "duration": 4,
    "start_time": "2021-07-07T17:46:16.605Z"
   },
   {
    "duration": 9,
    "start_time": "2021-07-07T17:46:16.610Z"
   },
   {
    "duration": 9,
    "start_time": "2021-07-07T17:46:16.621Z"
   },
   {
    "duration": 10,
    "start_time": "2021-07-07T17:46:16.632Z"
   },
   {
    "duration": 43,
    "start_time": "2021-07-07T17:46:16.644Z"
   },
   {
    "duration": 26,
    "start_time": "2021-07-07T17:46:16.689Z"
   },
   {
    "duration": 19,
    "start_time": "2021-07-07T17:46:16.718Z"
   },
   {
    "duration": 8,
    "start_time": "2021-07-07T17:46:16.738Z"
   },
   {
    "duration": 43,
    "start_time": "2021-07-07T17:46:16.747Z"
   },
   {
    "duration": 19,
    "start_time": "2021-07-07T17:46:16.791Z"
   },
   {
    "duration": 9,
    "start_time": "2021-07-07T17:46:16.812Z"
   },
   {
    "duration": 60,
    "start_time": "2021-07-07T17:46:16.822Z"
   },
   {
    "duration": -8,
    "start_time": "2021-07-07T17:46:16.892Z"
   },
   {
    "duration": 12,
    "start_time": "2021-07-07T17:48:47.707Z"
   },
   {
    "duration": 553,
    "start_time": "2021-07-07T18:10:09.350Z"
   },
   {
    "duration": 230,
    "start_time": "2021-07-07T18:10:09.905Z"
   },
   {
    "duration": 97,
    "start_time": "2021-07-07T18:10:10.137Z"
   },
   {
    "duration": 5,
    "start_time": "2021-07-07T18:10:10.236Z"
   },
   {
    "duration": 29,
    "start_time": "2021-07-07T18:10:10.242Z"
   },
   {
    "duration": 7,
    "start_time": "2021-07-07T18:10:10.272Z"
   },
   {
    "duration": 15,
    "start_time": "2021-07-07T18:10:10.281Z"
   },
   {
    "duration": 4,
    "start_time": "2021-07-07T18:10:10.299Z"
   },
   {
    "duration": 14,
    "start_time": "2021-07-07T18:10:10.305Z"
   },
   {
    "duration": 8,
    "start_time": "2021-07-07T18:10:10.321Z"
   },
   {
    "duration": 8,
    "start_time": "2021-07-07T18:10:10.331Z"
   },
   {
    "duration": 56,
    "start_time": "2021-07-07T18:10:10.341Z"
   },
   {
    "duration": 19,
    "start_time": "2021-07-07T18:10:10.399Z"
   },
   {
    "duration": 23,
    "start_time": "2021-07-07T18:10:10.419Z"
   },
   {
    "duration": 6,
    "start_time": "2021-07-07T18:10:10.444Z"
   },
   {
    "duration": 9,
    "start_time": "2021-07-07T18:10:10.451Z"
   },
   {
    "duration": 30,
    "start_time": "2021-07-07T18:10:10.462Z"
   },
   {
    "duration": 9,
    "start_time": "2021-07-07T18:10:10.494Z"
   },
   {
    "duration": 14,
    "start_time": "2021-07-07T18:10:10.505Z"
   },
   {
    "duration": 7,
    "start_time": "2021-07-07T18:10:10.521Z"
   },
   {
    "duration": 26,
    "start_time": "2021-07-07T18:10:10.530Z"
   },
   {
    "duration": 44,
    "start_time": "2021-07-07T18:10:10.558Z"
   },
   {
    "duration": 7,
    "start_time": "2021-07-07T18:10:10.605Z"
   },
   {
    "duration": 11,
    "start_time": "2021-07-07T18:10:10.614Z"
   },
   {
    "duration": 19,
    "start_time": "2021-07-07T18:10:10.626Z"
   },
   {
    "duration": 44,
    "start_time": "2021-07-07T18:10:10.646Z"
   },
   {
    "duration": 516,
    "start_time": "2021-07-07T18:14:00.826Z"
   },
   {
    "duration": 230,
    "start_time": "2021-07-07T18:14:01.344Z"
   },
   {
    "duration": 105,
    "start_time": "2021-07-07T18:14:01.576Z"
   },
   {
    "duration": 5,
    "start_time": "2021-07-07T18:14:01.683Z"
   },
   {
    "duration": 46,
    "start_time": "2021-07-07T18:14:01.690Z"
   },
   {
    "duration": 7,
    "start_time": "2021-07-07T18:14:01.738Z"
   },
   {
    "duration": 20,
    "start_time": "2021-07-07T18:14:01.747Z"
   },
   {
    "duration": 16,
    "start_time": "2021-07-07T18:14:01.769Z"
   },
   {
    "duration": 14,
    "start_time": "2021-07-07T18:14:01.787Z"
   },
   {
    "duration": 15,
    "start_time": "2021-07-07T18:14:01.803Z"
   },
   {
    "duration": 12,
    "start_time": "2021-07-07T18:14:01.820Z"
   },
   {
    "duration": 35,
    "start_time": "2021-07-07T18:14:01.833Z"
   },
   {
    "duration": 31,
    "start_time": "2021-07-07T18:14:01.869Z"
   },
   {
    "duration": 37,
    "start_time": "2021-07-07T18:14:01.902Z"
   },
   {
    "duration": 8,
    "start_time": "2021-07-07T18:14:01.942Z"
   },
   {
    "duration": 16,
    "start_time": "2021-07-07T18:14:01.952Z"
   },
   {
    "duration": 13,
    "start_time": "2021-07-07T18:14:01.970Z"
   },
   {
    "duration": 32,
    "start_time": "2021-07-07T18:14:01.985Z"
   },
   {
    "duration": 11,
    "start_time": "2021-07-07T18:14:02.019Z"
   },
   {
    "duration": 22,
    "start_time": "2021-07-07T18:14:02.031Z"
   },
   {
    "duration": 27,
    "start_time": "2021-07-07T18:14:02.055Z"
   },
   {
    "duration": 18,
    "start_time": "2021-07-07T18:14:02.084Z"
   },
   {
    "duration": 18,
    "start_time": "2021-07-07T18:14:02.106Z"
   },
   {
    "duration": 11,
    "start_time": "2021-07-07T18:14:02.126Z"
   },
   {
    "duration": 21,
    "start_time": "2021-07-07T18:14:02.138Z"
   },
   {
    "duration": 32,
    "start_time": "2021-07-07T18:14:02.161Z"
   },
   {
    "duration": 28,
    "start_time": "2021-07-07T18:14:44.295Z"
   },
   {
    "duration": 6,
    "start_time": "2021-07-07T18:15:05.834Z"
   },
   {
    "duration": 511,
    "start_time": "2021-07-07T18:15:41.541Z"
   },
   {
    "duration": 183,
    "start_time": "2021-07-07T18:15:42.054Z"
   },
   {
    "duration": 50,
    "start_time": "2021-07-07T18:15:42.239Z"
   },
   {
    "duration": 5,
    "start_time": "2021-07-07T18:15:42.291Z"
   },
   {
    "duration": 48,
    "start_time": "2021-07-07T18:15:42.297Z"
   },
   {
    "duration": 8,
    "start_time": "2021-07-07T18:15:42.346Z"
   },
   {
    "duration": 17,
    "start_time": "2021-07-07T18:15:42.356Z"
   },
   {
    "duration": 15,
    "start_time": "2021-07-07T18:15:42.375Z"
   },
   {
    "duration": 12,
    "start_time": "2021-07-07T18:15:42.392Z"
   },
   {
    "duration": 7,
    "start_time": "2021-07-07T18:15:42.406Z"
   },
   {
    "duration": 7,
    "start_time": "2021-07-07T18:15:42.415Z"
   },
   {
    "duration": 29,
    "start_time": "2021-07-07T18:15:42.423Z"
   },
   {
    "duration": 43,
    "start_time": "2021-07-07T18:15:42.453Z"
   },
   {
    "duration": 18,
    "start_time": "2021-07-07T18:15:42.497Z"
   },
   {
    "duration": 6,
    "start_time": "2021-07-07T18:15:42.516Z"
   },
   {
    "duration": 3,
    "start_time": "2021-07-07T18:15:42.523Z"
   },
   {
    "duration": 18,
    "start_time": "2021-07-07T18:15:42.528Z"
   },
   {
    "duration": 10,
    "start_time": "2021-07-07T18:15:42.547Z"
   },
   {
    "duration": 36,
    "start_time": "2021-07-07T18:15:42.559Z"
   },
   {
    "duration": 8,
    "start_time": "2021-07-07T18:15:42.597Z"
   },
   {
    "duration": 28,
    "start_time": "2021-07-07T18:15:42.606Z"
   },
   {
    "duration": 52,
    "start_time": "2021-07-07T18:15:42.635Z"
   },
   {
    "duration": 7,
    "start_time": "2021-07-07T18:15:42.690Z"
   },
   {
    "duration": 10,
    "start_time": "2021-07-07T18:15:42.699Z"
   },
   {
    "duration": 19,
    "start_time": "2021-07-07T18:15:42.711Z"
   },
   {
    "duration": 9,
    "start_time": "2021-07-07T18:15:42.732Z"
   },
   {
    "duration": 5,
    "start_time": "2021-07-07T18:15:42.743Z"
   },
   {
    "duration": 1450,
    "start_time": "2021-07-07T18:15:51.984Z"
   },
   {
    "duration": 161,
    "start_time": "2021-07-07T18:15:53.435Z"
   },
   {
    "duration": 124,
    "start_time": "2021-07-07T18:15:53.598Z"
   },
   {
    "duration": 5,
    "start_time": "2021-07-07T18:15:53.724Z"
   },
   {
    "duration": 34,
    "start_time": "2021-07-07T18:15:53.730Z"
   },
   {
    "duration": 7,
    "start_time": "2021-07-07T18:15:53.765Z"
   },
   {
    "duration": 15,
    "start_time": "2021-07-07T18:15:53.773Z"
   },
   {
    "duration": 5,
    "start_time": "2021-07-07T18:15:53.791Z"
   },
   {
    "duration": 19,
    "start_time": "2021-07-07T18:15:53.798Z"
   },
   {
    "duration": 9,
    "start_time": "2021-07-07T18:15:53.818Z"
   },
   {
    "duration": 19,
    "start_time": "2021-07-07T18:15:53.828Z"
   },
   {
    "duration": 27,
    "start_time": "2021-07-07T18:15:53.848Z"
   },
   {
    "duration": 16,
    "start_time": "2021-07-07T18:15:53.884Z"
   },
   {
    "duration": 29,
    "start_time": "2021-07-07T18:15:53.901Z"
   },
   {
    "duration": 5,
    "start_time": "2021-07-07T18:15:53.932Z"
   },
   {
    "duration": 15,
    "start_time": "2021-07-07T18:15:53.939Z"
   },
   {
    "duration": 13,
    "start_time": "2021-07-07T18:15:53.956Z"
   },
   {
    "duration": 20,
    "start_time": "2021-07-07T18:15:53.971Z"
   },
   {
    "duration": 14,
    "start_time": "2021-07-07T18:15:53.992Z"
   },
   {
    "duration": 9,
    "start_time": "2021-07-07T18:15:54.009Z"
   },
   {
    "duration": 28,
    "start_time": "2021-07-07T18:15:54.020Z"
   },
   {
    "duration": 50,
    "start_time": "2021-07-07T18:15:54.051Z"
   },
   {
    "duration": 8,
    "start_time": "2021-07-07T18:15:54.105Z"
   },
   {
    "duration": 11,
    "start_time": "2021-07-07T18:15:54.115Z"
   },
   {
    "duration": 20,
    "start_time": "2021-07-07T18:15:54.128Z"
   },
   {
    "duration": 13,
    "start_time": "2021-07-07T18:15:54.184Z"
   },
   {
    "duration": 7,
    "start_time": "2021-07-07T18:15:54.199Z"
   },
   {
    "duration": 7,
    "start_time": "2021-07-07T18:17:08.042Z"
   },
   {
    "duration": 8,
    "start_time": "2021-07-07T18:17:21.008Z"
   },
   {
    "duration": 7,
    "start_time": "2021-07-07T18:17:29.003Z"
   },
   {
    "duration": 8,
    "start_time": "2021-07-07T18:17:32.492Z"
   },
   {
    "duration": 9,
    "start_time": "2021-07-07T18:17:41.758Z"
   },
   {
    "duration": 255,
    "start_time": "2021-07-07T18:20:20.897Z"
   },
   {
    "duration": 173,
    "start_time": "2021-07-07T18:20:26.636Z"
   },
   {
    "duration": 7,
    "start_time": "2021-07-07T18:21:47.164Z"
   },
   {
    "duration": 254,
    "start_time": "2021-07-07T18:23:08.703Z"
   },
   {
    "duration": 21,
    "start_time": "2021-07-07T18:23:22.506Z"
   },
   {
    "duration": 315,
    "start_time": "2021-07-07T18:25:54.801Z"
   },
   {
    "duration": 34,
    "start_time": "2021-07-07T18:26:51.817Z"
   },
   {
    "duration": 327,
    "start_time": "2021-07-07T18:26:56.147Z"
   },
   {
    "duration": 342,
    "start_time": "2021-07-07T18:27:15.887Z"
   },
   {
    "duration": 302,
    "start_time": "2021-07-07T18:28:18.569Z"
   },
   {
    "duration": 226,
    "start_time": "2021-07-07T18:29:20.879Z"
   },
   {
    "duration": 207,
    "start_time": "2021-07-07T18:29:58.114Z"
   },
   {
    "duration": 140,
    "start_time": "2021-07-07T18:32:04.372Z"
   },
   {
    "duration": 158,
    "start_time": "2021-07-07T18:32:32.508Z"
   },
   {
    "duration": 145,
    "start_time": "2021-07-07T18:32:41.365Z"
   },
   {
    "duration": 132,
    "start_time": "2021-07-07T18:32:45.199Z"
   },
   {
    "duration": 11,
    "start_time": "2021-07-07T18:35:24.679Z"
   },
   {
    "duration": 268,
    "start_time": "2021-07-07T18:36:16.145Z"
   },
   {
    "duration": 227,
    "start_time": "2021-07-07T18:37:04.918Z"
   },
   {
    "duration": 3,
    "start_time": "2021-07-07T18:37:33.012Z"
   },
   {
    "duration": 671,
    "start_time": "2021-07-07T18:37:38.295Z"
   },
   {
    "duration": 54,
    "start_time": "2021-07-07T18:37:53.406Z"
   },
   {
    "duration": 631,
    "start_time": "2021-07-07T18:37:56.463Z"
   },
   {
    "duration": 19,
    "start_time": "2021-07-07T18:39:40.535Z"
   },
   {
    "duration": 20,
    "start_time": "2021-07-07T18:40:12.236Z"
   },
   {
    "duration": 633,
    "start_time": "2021-07-07T18:42:00.398Z"
   },
   {
    "duration": 218,
    "start_time": "2021-07-07T18:42:01.033Z"
   },
   {
    "duration": 49,
    "start_time": "2021-07-07T18:42:01.253Z"
   },
   {
    "duration": 5,
    "start_time": "2021-07-07T18:42:01.303Z"
   },
   {
    "duration": 27,
    "start_time": "2021-07-07T18:42:01.310Z"
   },
   {
    "duration": 8,
    "start_time": "2021-07-07T18:42:01.339Z"
   },
   {
    "duration": 20,
    "start_time": "2021-07-07T18:42:01.348Z"
   },
   {
    "duration": 6,
    "start_time": "2021-07-07T18:42:01.386Z"
   },
   {
    "duration": 16,
    "start_time": "2021-07-07T18:42:01.394Z"
   },
   {
    "duration": 9,
    "start_time": "2021-07-07T18:42:01.411Z"
   },
   {
    "duration": 11,
    "start_time": "2021-07-07T18:42:01.421Z"
   },
   {
    "duration": 31,
    "start_time": "2021-07-07T18:42:01.434Z"
   },
   {
    "duration": 18,
    "start_time": "2021-07-07T18:42:01.485Z"
   },
   {
    "duration": 23,
    "start_time": "2021-07-07T18:42:01.505Z"
   },
   {
    "duration": 6,
    "start_time": "2021-07-07T18:42:01.530Z"
   },
   {
    "duration": 10,
    "start_time": "2021-07-07T18:42:01.538Z"
   },
   {
    "duration": 13,
    "start_time": "2021-07-07T18:42:01.550Z"
   },
   {
    "duration": 24,
    "start_time": "2021-07-07T18:42:01.564Z"
   },
   {
    "duration": 20,
    "start_time": "2021-07-07T18:42:01.590Z"
   },
   {
    "duration": 8,
    "start_time": "2021-07-07T18:42:01.611Z"
   },
   {
    "duration": 31,
    "start_time": "2021-07-07T18:42:01.620Z"
   },
   {
    "duration": 39,
    "start_time": "2021-07-07T18:42:01.653Z"
   },
   {
    "duration": 8,
    "start_time": "2021-07-07T18:42:01.696Z"
   },
   {
    "duration": 13,
    "start_time": "2021-07-07T18:42:01.705Z"
   },
   {
    "duration": 20,
    "start_time": "2021-07-07T18:42:01.720Z"
   },
   {
    "duration": 12,
    "start_time": "2021-07-07T18:42:01.741Z"
   },
   {
    "duration": 35,
    "start_time": "2021-07-07T18:42:01.755Z"
   },
   {
    "duration": 14,
    "start_time": "2021-07-07T18:42:01.792Z"
   },
   {
    "duration": 188,
    "start_time": "2021-07-07T18:42:01.808Z"
   },
   {
    "duration": 19,
    "start_time": "2021-07-07T18:42:01.998Z"
   },
   {
    "duration": 175,
    "start_time": "2021-07-07T18:42:02.019Z"
   },
   {
    "duration": 134,
    "start_time": "2021-07-07T18:42:02.196Z"
   },
   {
    "duration": 10,
    "start_time": "2021-07-07T18:42:02.331Z"
   },
   {
    "duration": 19,
    "start_time": "2021-07-07T18:42:02.343Z"
   },
   {
    "duration": 628,
    "start_time": "2021-07-07T18:46:30.701Z"
   },
   {
    "duration": 183,
    "start_time": "2021-07-07T18:46:31.331Z"
   },
   {
    "duration": 48,
    "start_time": "2021-07-07T18:46:31.516Z"
   },
   {
    "duration": 5,
    "start_time": "2021-07-07T18:46:31.566Z"
   },
   {
    "duration": 28,
    "start_time": "2021-07-07T18:46:31.572Z"
   },
   {
    "duration": 8,
    "start_time": "2021-07-07T18:46:31.602Z"
   },
   {
    "duration": 19,
    "start_time": "2021-07-07T18:46:31.611Z"
   },
   {
    "duration": 6,
    "start_time": "2021-07-07T18:46:31.633Z"
   },
   {
    "duration": 17,
    "start_time": "2021-07-07T18:46:31.642Z"
   },
   {
    "duration": 10,
    "start_time": "2021-07-07T18:46:31.684Z"
   },
   {
    "duration": 9,
    "start_time": "2021-07-07T18:46:31.695Z"
   },
   {
    "duration": 28,
    "start_time": "2021-07-07T18:46:31.705Z"
   },
   {
    "duration": 18,
    "start_time": "2021-07-07T18:46:31.735Z"
   },
   {
    "duration": 48,
    "start_time": "2021-07-07T18:46:31.755Z"
   },
   {
    "duration": 6,
    "start_time": "2021-07-07T18:46:31.804Z"
   },
   {
    "duration": 4,
    "start_time": "2021-07-07T18:46:31.812Z"
   },
   {
    "duration": 9,
    "start_time": "2021-07-07T18:46:31.817Z"
   },
   {
    "duration": 10,
    "start_time": "2021-07-07T18:46:31.827Z"
   },
   {
    "duration": 12,
    "start_time": "2021-07-07T18:46:31.838Z"
   },
   {
    "duration": 39,
    "start_time": "2021-07-07T18:46:31.851Z"
   },
   {
    "duration": 24,
    "start_time": "2021-07-07T18:46:31.892Z"
   },
   {
    "duration": 15,
    "start_time": "2021-07-07T18:46:31.918Z"
   },
   {
    "duration": 7,
    "start_time": "2021-07-07T18:46:31.936Z"
   },
   {
    "duration": 8,
    "start_time": "2021-07-07T18:46:31.944Z"
   },
   {
    "duration": 19,
    "start_time": "2021-07-07T18:46:31.984Z"
   },
   {
    "duration": 10,
    "start_time": "2021-07-07T18:46:32.004Z"
   },
   {
    "duration": 5,
    "start_time": "2021-07-07T18:46:32.016Z"
   },
   {
    "duration": 9,
    "start_time": "2021-07-07T18:46:32.023Z"
   },
   {
    "duration": 199,
    "start_time": "2021-07-07T18:46:32.033Z"
   },
   {
    "duration": 19,
    "start_time": "2021-07-07T18:46:32.234Z"
   },
   {
    "duration": 159,
    "start_time": "2021-07-07T18:46:32.255Z"
   },
   {
    "duration": 134,
    "start_time": "2021-07-07T18:46:32.416Z"
   },
   {
    "duration": 10,
    "start_time": "2021-07-07T18:46:32.552Z"
   },
   {
    "duration": 34,
    "start_time": "2021-07-07T18:46:32.563Z"
   },
   {
    "duration": 1039,
    "start_time": "2021-07-08T08:41:09.419Z"
   },
   {
    "duration": 333,
    "start_time": "2021-07-08T08:41:10.459Z"
   },
   {
    "duration": 173,
    "start_time": "2021-07-08T08:41:10.794Z"
   },
   {
    "duration": 5,
    "start_time": "2021-07-08T08:41:10.968Z"
   },
   {
    "duration": 25,
    "start_time": "2021-07-08T08:41:10.975Z"
   },
   {
    "duration": 9,
    "start_time": "2021-07-08T08:41:11.002Z"
   },
   {
    "duration": 18,
    "start_time": "2021-07-08T08:41:11.013Z"
   },
   {
    "duration": 6,
    "start_time": "2021-07-08T08:41:11.033Z"
   },
   {
    "duration": 44,
    "start_time": "2021-07-08T08:41:11.042Z"
   },
   {
    "duration": 10,
    "start_time": "2021-07-08T08:41:11.088Z"
   },
   {
    "duration": 9,
    "start_time": "2021-07-08T08:41:11.100Z"
   },
   {
    "duration": 27,
    "start_time": "2021-07-08T08:41:11.111Z"
   },
   {
    "duration": 46,
    "start_time": "2021-07-08T08:41:11.140Z"
   },
   {
    "duration": 17,
    "start_time": "2021-07-08T08:41:11.187Z"
   },
   {
    "duration": 6,
    "start_time": "2021-07-08T08:41:11.206Z"
   },
   {
    "duration": 5,
    "start_time": "2021-07-08T08:41:11.213Z"
   },
   {
    "duration": 10,
    "start_time": "2021-07-08T08:41:11.219Z"
   },
   {
    "duration": 9,
    "start_time": "2021-07-08T08:41:11.230Z"
   },
   {
    "duration": 45,
    "start_time": "2021-07-08T08:41:11.241Z"
   },
   {
    "duration": 7,
    "start_time": "2021-07-08T08:41:11.287Z"
   },
   {
    "duration": 24,
    "start_time": "2021-07-08T08:41:11.296Z"
   },
   {
    "duration": 16,
    "start_time": "2021-07-08T08:41:11.322Z"
   },
   {
    "duration": 7,
    "start_time": "2021-07-08T08:41:11.341Z"
   },
   {
    "duration": 41,
    "start_time": "2021-07-08T08:41:11.349Z"
   },
   {
    "duration": 17,
    "start_time": "2021-07-08T08:41:11.391Z"
   },
   {
    "duration": 9,
    "start_time": "2021-07-08T08:41:11.410Z"
   },
   {
    "duration": 5,
    "start_time": "2021-07-08T08:41:11.421Z"
   },
   {
    "duration": 6,
    "start_time": "2021-07-08T08:41:11.428Z"
   },
   {
    "duration": 198,
    "start_time": "2021-07-08T08:41:11.435Z"
   },
   {
    "duration": 18,
    "start_time": "2021-07-08T08:41:11.635Z"
   },
   {
    "duration": 155,
    "start_time": "2021-07-08T08:41:11.655Z"
   },
   {
    "duration": 138,
    "start_time": "2021-07-08T08:41:11.811Z"
   },
   {
    "duration": 10,
    "start_time": "2021-07-08T08:41:11.950Z"
   },
   {
    "duration": 29,
    "start_time": "2021-07-08T08:41:11.961Z"
   },
   {
    "duration": 171,
    "start_time": "2021-07-08T08:47:44.522Z"
   },
   {
    "duration": 124,
    "start_time": "2021-07-08T08:47:46.872Z"
   },
   {
    "duration": 191,
    "start_time": "2021-07-08T08:47:58.148Z"
   },
   {
    "duration": 191,
    "start_time": "2021-07-08T08:48:07.412Z"
   },
   {
    "duration": 261,
    "start_time": "2021-07-08T08:48:10.385Z"
   },
   {
    "duration": 255,
    "start_time": "2021-07-08T08:48:14.494Z"
   },
   {
    "duration": 219,
    "start_time": "2021-07-08T08:48:22.752Z"
   },
   {
    "duration": 173,
    "start_time": "2021-07-08T08:49:06.395Z"
   },
   {
    "duration": 180,
    "start_time": "2021-07-08T08:49:21.011Z"
   },
   {
    "duration": 6,
    "start_time": "2021-07-08T08:50:31.697Z"
   },
   {
    "duration": 10,
    "start_time": "2021-07-08T08:50:47.394Z"
   },
   {
    "duration": 11,
    "start_time": "2021-07-08T08:53:49.332Z"
   },
   {
    "duration": 171,
    "start_time": "2021-07-08T08:54:28.408Z"
   },
   {
    "duration": 636,
    "start_time": "2021-07-08T09:02:48.385Z"
   },
   {
    "duration": 227,
    "start_time": "2021-07-08T09:02:49.023Z"
   },
   {
    "duration": 104,
    "start_time": "2021-07-08T09:02:49.252Z"
   },
   {
    "duration": 5,
    "start_time": "2021-07-08T09:02:49.358Z"
   },
   {
    "duration": 27,
    "start_time": "2021-07-08T09:02:49.365Z"
   },
   {
    "duration": 8,
    "start_time": "2021-07-08T09:02:49.394Z"
   },
   {
    "duration": 18,
    "start_time": "2021-07-08T09:02:49.404Z"
   },
   {
    "duration": 6,
    "start_time": "2021-07-08T09:02:49.424Z"
   },
   {
    "duration": 11,
    "start_time": "2021-07-08T09:02:49.433Z"
   },
   {
    "duration": 13,
    "start_time": "2021-07-08T09:02:49.485Z"
   },
   {
    "duration": 9,
    "start_time": "2021-07-08T09:02:49.500Z"
   },
   {
    "duration": 38,
    "start_time": "2021-07-08T09:02:49.511Z"
   },
   {
    "duration": 42,
    "start_time": "2021-07-08T09:02:49.551Z"
   },
   {
    "duration": 21,
    "start_time": "2021-07-08T09:02:49.594Z"
   },
   {
    "duration": 6,
    "start_time": "2021-07-08T09:02:49.616Z"
   },
   {
    "duration": 3,
    "start_time": "2021-07-08T09:02:49.623Z"
   },
   {
    "duration": 9,
    "start_time": "2021-07-08T09:02:49.628Z"
   },
   {
    "duration": 52,
    "start_time": "2021-07-08T09:02:49.638Z"
   },
   {
    "duration": 11,
    "start_time": "2021-07-08T09:02:49.692Z"
   },
   {
    "duration": 8,
    "start_time": "2021-07-08T09:02:49.704Z"
   },
   {
    "duration": 27,
    "start_time": "2021-07-08T09:02:49.713Z"
   },
   {
    "duration": 59,
    "start_time": "2021-07-08T09:02:49.741Z"
   },
   {
    "duration": 8,
    "start_time": "2021-07-08T09:02:49.803Z"
   },
   {
    "duration": 14,
    "start_time": "2021-07-08T09:02:49.813Z"
   },
   {
    "duration": 20,
    "start_time": "2021-07-08T09:02:49.829Z"
   },
   {
    "duration": 44,
    "start_time": "2021-07-08T09:02:49.851Z"
   },
   {
    "duration": 14,
    "start_time": "2021-07-08T09:02:49.896Z"
   },
   {
    "duration": 221,
    "start_time": "2021-07-08T09:02:49.912Z"
   },
   {
    "duration": 6,
    "start_time": "2021-07-08T09:02:50.134Z"
   },
   {
    "duration": 206,
    "start_time": "2021-07-08T09:02:50.142Z"
   },
   {
    "duration": 19,
    "start_time": "2021-07-08T09:02:50.350Z"
   },
   {
    "duration": 21,
    "start_time": "2021-07-08T09:02:50.370Z"
   },
   {
    "duration": 20,
    "start_time": "2021-07-08T09:02:50.393Z"
   },
   {
    "duration": 5,
    "start_time": "2021-07-08T09:02:50.414Z"
   },
   {
    "duration": 5,
    "start_time": "2021-07-08T09:03:34.173Z"
   },
   {
    "duration": 6,
    "start_time": "2021-07-08T09:04:49.062Z"
   },
   {
    "duration": 9,
    "start_time": "2021-07-08T09:04:50.118Z"
   },
   {
    "duration": 14,
    "start_time": "2021-07-08T09:04:58.512Z"
   },
   {
    "duration": 9,
    "start_time": "2021-07-08T09:05:10.988Z"
   },
   {
    "duration": 11,
    "start_time": "2021-07-08T09:05:11.743Z"
   },
   {
    "duration": 7,
    "start_time": "2021-07-08T09:05:25.677Z"
   },
   {
    "duration": 13,
    "start_time": "2021-07-08T09:05:47.189Z"
   },
   {
    "duration": 13,
    "start_time": "2021-07-08T09:05:54.755Z"
   },
   {
    "duration": 4,
    "start_time": "2021-07-08T09:06:29.189Z"
   },
   {
    "duration": 244,
    "start_time": "2021-07-08T09:06:29.195Z"
   },
   {
    "duration": 91,
    "start_time": "2021-07-08T09:06:29.441Z"
   },
   {
    "duration": 4,
    "start_time": "2021-07-08T09:06:29.534Z"
   },
   {
    "duration": 28,
    "start_time": "2021-07-08T09:06:29.540Z"
   },
   {
    "duration": 6,
    "start_time": "2021-07-08T09:06:29.570Z"
   },
   {
    "duration": 18,
    "start_time": "2021-07-08T09:06:29.578Z"
   },
   {
    "duration": 5,
    "start_time": "2021-07-08T09:06:29.597Z"
   },
   {
    "duration": 13,
    "start_time": "2021-07-08T09:06:29.605Z"
   },
   {
    "duration": 8,
    "start_time": "2021-07-08T09:06:29.620Z"
   },
   {
    "duration": 7,
    "start_time": "2021-07-08T09:06:29.630Z"
   },
   {
    "duration": 63,
    "start_time": "2021-07-08T09:06:29.639Z"
   },
   {
    "duration": 17,
    "start_time": "2021-07-08T09:06:29.704Z"
   },
   {
    "duration": 20,
    "start_time": "2021-07-08T09:06:29.723Z"
   },
   {
    "duration": 6,
    "start_time": "2021-07-08T09:06:29.745Z"
   },
   {
    "duration": 3,
    "start_time": "2021-07-08T09:06:29.752Z"
   },
   {
    "duration": 7,
    "start_time": "2021-07-08T09:06:29.785Z"
   },
   {
    "duration": 11,
    "start_time": "2021-07-08T09:06:29.794Z"
   },
   {
    "duration": 15,
    "start_time": "2021-07-08T09:06:29.807Z"
   },
   {
    "duration": 8,
    "start_time": "2021-07-08T09:06:29.823Z"
   },
   {
    "duration": 70,
    "start_time": "2021-07-08T09:06:29.832Z"
   },
   {
    "duration": 17,
    "start_time": "2021-07-08T09:06:29.903Z"
   },
   {
    "duration": 9,
    "start_time": "2021-07-08T09:06:29.921Z"
   },
   {
    "duration": 9,
    "start_time": "2021-07-08T09:06:29.932Z"
   },
   {
    "duration": 57,
    "start_time": "2021-07-08T09:06:29.942Z"
   },
   {
    "duration": 11,
    "start_time": "2021-07-08T09:06:30.001Z"
   },
   {
    "duration": 19,
    "start_time": "2021-07-08T09:06:30.016Z"
   },
   {
    "duration": 217,
    "start_time": "2021-07-08T09:06:30.037Z"
   },
   {
    "duration": 6,
    "start_time": "2021-07-08T09:06:30.255Z"
   },
   {
    "duration": 205,
    "start_time": "2021-07-08T09:06:30.263Z"
   },
   {
    "duration": 27,
    "start_time": "2021-07-08T09:06:30.470Z"
   },
   {
    "duration": 11,
    "start_time": "2021-07-08T09:06:30.500Z"
   },
   {
    "duration": 31,
    "start_time": "2021-07-08T09:06:30.513Z"
   },
   {
    "duration": 18,
    "start_time": "2021-07-08T09:06:30.546Z"
   },
   {
    "duration": 11,
    "start_time": "2021-07-08T09:06:30.566Z"
   },
   {
    "duration": 19,
    "start_time": "2021-07-08T09:06:30.579Z"
   },
   {
    "duration": 20,
    "start_time": "2021-07-08T09:06:49.466Z"
   },
   {
    "duration": 9,
    "start_time": "2021-07-08T09:06:51.994Z"
   },
   {
    "duration": 20,
    "start_time": "2021-07-08T09:06:52.273Z"
   },
   {
    "duration": 246,
    "start_time": "2021-07-08T09:10:21.272Z"
   },
   {
    "duration": 84,
    "start_time": "2021-07-08T09:10:21.436Z"
   },
   {
    "duration": 7,
    "start_time": "2021-07-08T09:10:37.608Z"
   },
   {
    "duration": 189,
    "start_time": "2021-07-08T09:10:38.573Z"
   },
   {
    "duration": 185,
    "start_time": "2021-07-08T09:10:53.181Z"
   },
   {
    "duration": 11,
    "start_time": "2021-07-08T09:10:59.549Z"
   },
   {
    "duration": 42,
    "start_time": "2021-07-08T09:10:59.709Z"
   },
   {
    "duration": 12,
    "start_time": "2021-07-08T09:11:02.857Z"
   },
   {
    "duration": 28,
    "start_time": "2021-07-08T09:11:10.062Z"
   },
   {
    "duration": 249,
    "start_time": "2021-07-08T09:11:37.388Z"
   },
   {
    "duration": 232,
    "start_time": "2021-07-08T09:11:49.485Z"
   },
   {
    "duration": 453,
    "start_time": "2021-07-08T09:12:01.546Z"
   },
   {
    "duration": 440,
    "start_time": "2021-07-08T09:12:12.347Z"
   },
   {
    "duration": 213,
    "start_time": "2021-07-08T09:13:32.196Z"
   },
   {
    "duration": 172,
    "start_time": "2021-07-08T09:14:07.400Z"
   },
   {
    "duration": 185,
    "start_time": "2021-07-08T09:14:14.905Z"
   },
   {
    "duration": 209,
    "start_time": "2021-07-08T09:14:40.109Z"
   },
   {
    "duration": 201,
    "start_time": "2021-07-08T09:14:54.506Z"
   },
   {
    "duration": 622,
    "start_time": "2021-07-08T09:18:14.497Z"
   },
   {
    "duration": 220,
    "start_time": "2021-07-08T09:18:15.121Z"
   },
   {
    "duration": 79,
    "start_time": "2021-07-08T09:18:15.343Z"
   },
   {
    "duration": 4,
    "start_time": "2021-07-08T09:18:15.425Z"
   },
   {
    "duration": 24,
    "start_time": "2021-07-08T09:18:15.431Z"
   },
   {
    "duration": 8,
    "start_time": "2021-07-08T09:18:15.457Z"
   },
   {
    "duration": 16,
    "start_time": "2021-07-08T09:18:15.466Z"
   },
   {
    "duration": 5,
    "start_time": "2021-07-08T09:18:15.484Z"
   },
   {
    "duration": 10,
    "start_time": "2021-07-08T09:18:15.493Z"
   },
   {
    "duration": 8,
    "start_time": "2021-07-08T09:18:15.504Z"
   },
   {
    "duration": 7,
    "start_time": "2021-07-08T09:18:15.513Z"
   },
   {
    "duration": 26,
    "start_time": "2021-07-08T09:18:15.522Z"
   },
   {
    "duration": 49,
    "start_time": "2021-07-08T09:18:15.550Z"
   },
   {
    "duration": 21,
    "start_time": "2021-07-08T09:18:15.601Z"
   },
   {
    "duration": 8,
    "start_time": "2021-07-08T09:18:15.624Z"
   },
   {
    "duration": 3,
    "start_time": "2021-07-08T09:18:15.634Z"
   },
   {
    "duration": 8,
    "start_time": "2021-07-08T09:18:15.639Z"
   },
   {
    "duration": 45,
    "start_time": "2021-07-08T09:18:15.649Z"
   },
   {
    "duration": 13,
    "start_time": "2021-07-08T09:18:15.696Z"
   },
   {
    "duration": 10,
    "start_time": "2021-07-08T09:18:15.711Z"
   },
   {
    "duration": 64,
    "start_time": "2021-07-08T09:18:15.722Z"
   },
   {
    "duration": 19,
    "start_time": "2021-07-08T09:18:15.788Z"
   },
   {
    "duration": 9,
    "start_time": "2021-07-08T09:18:15.809Z"
   },
   {
    "duration": 9,
    "start_time": "2021-07-08T09:18:15.820Z"
   },
   {
    "duration": 18,
    "start_time": "2021-07-08T09:18:15.831Z"
   },
   {
    "duration": 43,
    "start_time": "2021-07-08T09:18:15.851Z"
   },
   {
    "duration": 12,
    "start_time": "2021-07-08T09:18:15.897Z"
   },
   {
    "duration": 219,
    "start_time": "2021-07-08T09:18:15.911Z"
   },
   {
    "duration": 8,
    "start_time": "2021-07-08T09:18:16.132Z"
   },
   {
    "duration": 199,
    "start_time": "2021-07-08T09:18:16.141Z"
   },
   {
    "duration": 18,
    "start_time": "2021-07-08T09:18:16.341Z"
   },
   {
    "duration": 24,
    "start_time": "2021-07-08T09:18:16.361Z"
   },
   {
    "duration": 24,
    "start_time": "2021-07-08T09:18:16.387Z"
   },
   {
    "duration": 211,
    "start_time": "2021-07-08T09:18:16.413Z"
   },
   {
    "duration": 18,
    "start_time": "2021-07-08T09:18:16.626Z"
   },
   {
    "duration": 596,
    "start_time": "2021-07-08T10:06:33.623Z"
   },
   {
    "duration": 181,
    "start_time": "2021-07-08T10:06:34.221Z"
   },
   {
    "duration": 176,
    "start_time": "2021-07-08T10:06:34.635Z"
   },
   {
    "duration": 239,
    "start_time": "2021-07-08T10:06:55.572Z"
   },
   {
    "duration": 6,
    "start_time": "2021-07-08T10:06:57.687Z"
   },
   {
    "duration": 4,
    "start_time": "2021-07-08T10:07:03.956Z"
   },
   {
    "duration": 4,
    "start_time": "2021-07-08T10:07:10.376Z"
   },
   {
    "duration": 4,
    "start_time": "2021-07-08T10:17:19.889Z"
   },
   {
    "duration": 3,
    "start_time": "2021-07-08T10:19:19.407Z"
   },
   {
    "duration": 197,
    "start_time": "2021-07-08T10:19:19.412Z"
   },
   {
    "duration": 127,
    "start_time": "2021-07-08T10:19:19.611Z"
   },
   {
    "duration": 4,
    "start_time": "2021-07-08T10:19:19.740Z"
   },
   {
    "duration": 27,
    "start_time": "2021-07-08T10:19:19.746Z"
   },
   {
    "duration": 7,
    "start_time": "2021-07-08T10:19:19.775Z"
   },
   {
    "duration": 30,
    "start_time": "2021-07-08T10:19:19.784Z"
   },
   {
    "duration": 7,
    "start_time": "2021-07-08T10:19:19.817Z"
   },
   {
    "duration": 26,
    "start_time": "2021-07-08T10:19:19.826Z"
   },
   {
    "duration": 18,
    "start_time": "2021-07-08T10:19:19.854Z"
   },
   {
    "duration": 14,
    "start_time": "2021-07-08T10:19:19.874Z"
   },
   {
    "duration": 48,
    "start_time": "2021-07-08T10:19:19.890Z"
   },
   {
    "duration": 17,
    "start_time": "2021-07-08T10:19:19.940Z"
   },
   {
    "duration": 38,
    "start_time": "2021-07-08T10:19:19.959Z"
   },
   {
    "duration": 8,
    "start_time": "2021-07-08T10:19:19.999Z"
   },
   {
    "duration": 15,
    "start_time": "2021-07-08T10:19:20.009Z"
   },
   {
    "duration": 22,
    "start_time": "2021-07-08T10:19:20.026Z"
   },
   {
    "duration": 10,
    "start_time": "2021-07-08T10:19:20.050Z"
   },
   {
    "duration": 10,
    "start_time": "2021-07-08T10:19:20.062Z"
   },
   {
    "duration": 20,
    "start_time": "2021-07-08T10:19:20.073Z"
   },
   {
    "duration": 29,
    "start_time": "2021-07-08T10:19:20.095Z"
   },
   {
    "duration": 17,
    "start_time": "2021-07-08T10:19:20.126Z"
   },
   {
    "duration": 40,
    "start_time": "2021-07-08T10:19:20.146Z"
   },
   {
    "duration": 15,
    "start_time": "2021-07-08T10:19:20.189Z"
   },
   {
    "duration": 19,
    "start_time": "2021-07-08T10:19:20.206Z"
   },
   {
    "duration": 10,
    "start_time": "2021-07-08T10:19:20.226Z"
   },
   {
    "duration": 11,
    "start_time": "2021-07-08T10:19:20.238Z"
   },
   {
    "duration": 297,
    "start_time": "2021-07-08T10:19:20.250Z"
   },
   {
    "duration": 6,
    "start_time": "2021-07-08T10:19:20.549Z"
   },
   {
    "duration": 191,
    "start_time": "2021-07-08T10:19:20.557Z"
   },
   {
    "duration": 19,
    "start_time": "2021-07-08T10:19:20.750Z"
   },
   {
    "duration": 20,
    "start_time": "2021-07-08T10:19:20.771Z"
   },
   {
    "duration": 15,
    "start_time": "2021-07-08T10:19:20.793Z"
   },
   {
    "duration": 222,
    "start_time": "2021-07-08T10:19:20.809Z"
   },
   {
    "duration": 20,
    "start_time": "2021-07-08T10:19:21.033Z"
   },
   {
    "duration": 27,
    "start_time": "2021-07-08T10:45:04.055Z"
   },
   {
    "duration": 8,
    "start_time": "2021-07-08T10:45:08.478Z"
   },
   {
    "duration": 8,
    "start_time": "2021-07-08T10:45:31.982Z"
   },
   {
    "duration": 10,
    "start_time": "2021-07-08T10:46:01.221Z"
   },
   {
    "duration": 17,
    "start_time": "2021-07-08T10:46:40.011Z"
   },
   {
    "duration": 193,
    "start_time": "2021-07-08T10:48:19.471Z"
   },
   {
    "duration": 225,
    "start_time": "2021-07-08T10:49:26.480Z"
   },
   {
    "duration": 204,
    "start_time": "2021-07-08T10:49:59.992Z"
   },
   {
    "duration": 435,
    "start_time": "2021-07-08T10:50:06.779Z"
   },
   {
    "duration": 199,
    "start_time": "2021-07-08T10:50:14.891Z"
   },
   {
    "duration": 204,
    "start_time": "2021-07-08T10:50:18.501Z"
   },
   {
    "duration": 244,
    "start_time": "2021-07-08T10:50:23.359Z"
   },
   {
    "duration": 192,
    "start_time": "2021-07-08T10:50:29.135Z"
   },
   {
    "duration": 218,
    "start_time": "2021-07-08T10:50:33.092Z"
   },
   {
    "duration": 207,
    "start_time": "2021-07-08T10:52:45.381Z"
   },
   {
    "duration": 5,
    "start_time": "2021-07-08T10:53:34.641Z"
   },
   {
    "duration": 196,
    "start_time": "2021-07-08T10:53:41.478Z"
   },
   {
    "duration": 43,
    "start_time": "2021-07-08T10:53:50.335Z"
   },
   {
    "duration": 32,
    "start_time": "2021-07-08T10:53:55.294Z"
   },
   {
    "duration": 55,
    "start_time": "2021-07-08T10:54:09.675Z"
   },
   {
    "duration": 16,
    "start_time": "2021-07-08T10:54:12.260Z"
   },
   {
    "duration": 15,
    "start_time": "2021-07-08T10:54:49.150Z"
   },
   {
    "duration": 20,
    "start_time": "2021-07-08T10:56:07.596Z"
   },
   {
    "duration": 16,
    "start_time": "2021-07-08T10:58:26.276Z"
   },
   {
    "duration": 22,
    "start_time": "2021-07-08T10:59:00.486Z"
   },
   {
    "duration": 18,
    "start_time": "2021-07-08T11:02:09.653Z"
   },
   {
    "duration": 10,
    "start_time": "2021-07-08T11:03:44.331Z"
   },
   {
    "duration": 10,
    "start_time": "2021-07-08T11:03:54.055Z"
   },
   {
    "duration": 12,
    "start_time": "2021-07-08T11:04:41.967Z"
   },
   {
    "duration": 24,
    "start_time": "2021-07-08T11:07:30.732Z"
   },
   {
    "duration": 6,
    "start_time": "2021-07-08T11:07:37.364Z"
   },
   {
    "duration": 16,
    "start_time": "2021-07-08T11:08:01.819Z"
   },
   {
    "duration": 17,
    "start_time": "2021-07-08T11:09:47.488Z"
   },
   {
    "duration": 246,
    "start_time": "2021-07-08T11:10:00.830Z"
   },
   {
    "duration": 18,
    "start_time": "2021-07-08T11:13:55.195Z"
   },
   {
    "duration": 204,
    "start_time": "2021-07-08T11:14:04.951Z"
   },
   {
    "duration": 19,
    "start_time": "2021-07-08T11:15:10.613Z"
   },
   {
    "duration": 680,
    "start_time": "2021-07-08T11:16:25.793Z"
   },
   {
    "duration": 451,
    "start_time": "2021-07-08T11:16:40.313Z"
   },
   {
    "duration": 469,
    "start_time": "2021-07-08T11:17:21.286Z"
   },
   {
    "duration": 20,
    "start_time": "2021-07-08T11:19:12.554Z"
   },
   {
    "duration": 35,
    "start_time": "2021-07-08T11:20:05.484Z"
   },
   {
    "duration": 53,
    "start_time": "2021-07-08T11:21:40.050Z"
   },
   {
    "duration": 13,
    "start_time": "2021-07-08T11:22:26.059Z"
   },
   {
    "duration": 19,
    "start_time": "2021-07-08T11:22:47.419Z"
   },
   {
    "duration": 25,
    "start_time": "2021-07-08T11:23:19.958Z"
   },
   {
    "duration": 29,
    "start_time": "2021-07-08T11:23:25.415Z"
   },
   {
    "duration": 10,
    "start_time": "2021-07-08T11:24:45.138Z"
   },
   {
    "duration": 19,
    "start_time": "2021-07-08T11:24:54.498Z"
   },
   {
    "duration": 12,
    "start_time": "2021-07-08T11:25:32.225Z"
   },
   {
    "duration": 19,
    "start_time": "2021-07-08T11:25:37.092Z"
   },
   {
    "duration": 17,
    "start_time": "2021-07-08T11:25:58.116Z"
   },
   {
    "duration": 15,
    "start_time": "2021-07-08T11:26:02.258Z"
   },
   {
    "duration": 8,
    "start_time": "2021-07-08T11:26:59.682Z"
   },
   {
    "duration": 184,
    "start_time": "2021-07-08T11:27:21.894Z"
   },
   {
    "duration": 8,
    "start_time": "2021-07-08T11:27:23.824Z"
   },
   {
    "duration": 202,
    "start_time": "2021-07-08T11:27:23.962Z"
   },
   {
    "duration": 360,
    "start_time": "2021-07-08T11:28:33.215Z"
   },
   {
    "duration": 231,
    "start_time": "2021-07-08T11:32:05.542Z"
   },
   {
    "duration": 607,
    "start_time": "2021-07-08T11:36:27.854Z"
   },
   {
    "duration": 241,
    "start_time": "2021-07-08T11:36:28.463Z"
   },
   {
    "duration": 67,
    "start_time": "2021-07-08T11:36:28.709Z"
   },
   {
    "duration": 5,
    "start_time": "2021-07-08T11:36:28.778Z"
   },
   {
    "duration": 32,
    "start_time": "2021-07-08T11:36:28.784Z"
   },
   {
    "duration": 11,
    "start_time": "2021-07-08T11:36:28.819Z"
   },
   {
    "duration": 20,
    "start_time": "2021-07-08T11:36:28.834Z"
   },
   {
    "duration": 36,
    "start_time": "2021-07-08T11:36:28.857Z"
   },
   {
    "duration": 16,
    "start_time": "2021-07-08T11:36:28.895Z"
   },
   {
    "duration": 14,
    "start_time": "2021-07-08T11:36:28.913Z"
   },
   {
    "duration": 9,
    "start_time": "2021-07-08T11:36:28.930Z"
   },
   {
    "duration": 55,
    "start_time": "2021-07-08T11:36:28.941Z"
   },
   {
    "duration": 27,
    "start_time": "2021-07-08T11:36:28.999Z"
   },
   {
    "duration": 30,
    "start_time": "2021-07-08T11:36:29.028Z"
   },
   {
    "duration": 31,
    "start_time": "2021-07-08T11:36:29.060Z"
   },
   {
    "duration": 3,
    "start_time": "2021-07-08T11:36:29.093Z"
   },
   {
    "duration": 12,
    "start_time": "2021-07-08T11:36:29.099Z"
   },
   {
    "duration": 11,
    "start_time": "2021-07-08T11:36:29.112Z"
   },
   {
    "duration": 12,
    "start_time": "2021-07-08T11:36:29.125Z"
   },
   {
    "duration": 9,
    "start_time": "2021-07-08T11:36:29.139Z"
   },
   {
    "duration": 31,
    "start_time": "2021-07-08T11:36:29.191Z"
   },
   {
    "duration": 17,
    "start_time": "2021-07-08T11:36:29.226Z"
   },
   {
    "duration": 7,
    "start_time": "2021-07-08T11:36:29.245Z"
   },
   {
    "duration": 10,
    "start_time": "2021-07-08T11:36:29.254Z"
   },
   {
    "duration": 30,
    "start_time": "2021-07-08T11:36:29.292Z"
   },
   {
    "duration": 11,
    "start_time": "2021-07-08T11:36:29.324Z"
   },
   {
    "duration": 11,
    "start_time": "2021-07-08T11:36:29.337Z"
   },
   {
    "duration": 230,
    "start_time": "2021-07-08T11:36:29.349Z"
   },
   {
    "duration": 13,
    "start_time": "2021-07-08T11:36:29.588Z"
   },
   {
    "duration": 205,
    "start_time": "2021-07-08T11:36:29.603Z"
   },
   {
    "duration": 20,
    "start_time": "2021-07-08T11:36:29.810Z"
   },
   {
    "duration": 9,
    "start_time": "2021-07-08T11:36:29.832Z"
   },
   {
    "duration": 16,
    "start_time": "2021-07-08T11:36:29.843Z"
   },
   {
    "duration": 283,
    "start_time": "2021-07-08T11:36:29.861Z"
   },
   {
    "duration": 50,
    "start_time": "2021-07-08T11:36:30.146Z"
   },
   {
    "duration": 14,
    "start_time": "2021-07-08T11:36:30.198Z"
   },
   {
    "duration": 11,
    "start_time": "2021-07-08T11:36:30.214Z"
   },
   {
    "duration": 245,
    "start_time": "2021-07-08T11:36:30.227Z"
   },
   {
    "duration": 439,
    "start_time": "2021-07-08T11:36:30.474Z"
   },
   {
    "duration": 210,
    "start_time": "2021-07-08T11:36:30.915Z"
   },
   {
    "duration": 15,
    "start_time": "2021-07-08T11:36:31.127Z"
   },
   {
    "duration": 17,
    "start_time": "2021-07-08T11:38:20.451Z"
   },
   {
    "duration": 642,
    "start_time": "2021-07-08T11:46:17.881Z"
   },
   {
    "duration": 210,
    "start_time": "2021-07-08T11:46:18.525Z"
   },
   {
    "duration": 104,
    "start_time": "2021-07-08T11:46:18.741Z"
   },
   {
    "duration": 8,
    "start_time": "2021-07-08T11:46:18.847Z"
   },
   {
    "duration": 25,
    "start_time": "2021-07-08T11:46:18.857Z"
   },
   {
    "duration": 14,
    "start_time": "2021-07-08T11:46:18.884Z"
   },
   {
    "duration": 22,
    "start_time": "2021-07-08T11:46:18.900Z"
   },
   {
    "duration": 5,
    "start_time": "2021-07-08T11:46:18.924Z"
   },
   {
    "duration": 13,
    "start_time": "2021-07-08T11:46:18.931Z"
   },
   {
    "duration": 45,
    "start_time": "2021-07-08T11:46:18.946Z"
   },
   {
    "duration": 12,
    "start_time": "2021-07-08T11:46:18.993Z"
   },
   {
    "duration": 38,
    "start_time": "2021-07-08T11:46:19.006Z"
   },
   {
    "duration": 50,
    "start_time": "2021-07-08T11:46:19.046Z"
   },
   {
    "duration": 29,
    "start_time": "2021-07-08T11:46:19.099Z"
   },
   {
    "duration": 7,
    "start_time": "2021-07-08T11:46:19.130Z"
   },
   {
    "duration": 3,
    "start_time": "2021-07-08T11:46:19.139Z"
   },
   {
    "duration": 11,
    "start_time": "2021-07-08T11:46:19.144Z"
   },
   {
    "duration": 40,
    "start_time": "2021-07-08T11:46:19.157Z"
   },
   {
    "duration": 15,
    "start_time": "2021-07-08T11:46:19.199Z"
   },
   {
    "duration": 10,
    "start_time": "2021-07-08T11:46:19.217Z"
   },
   {
    "duration": 68,
    "start_time": "2021-07-08T11:46:19.230Z"
   },
   {
    "duration": 17,
    "start_time": "2021-07-08T11:46:19.301Z"
   },
   {
    "duration": 7,
    "start_time": "2021-07-08T11:46:19.321Z"
   },
   {
    "duration": 11,
    "start_time": "2021-07-08T11:46:19.330Z"
   },
   {
    "duration": 59,
    "start_time": "2021-07-08T11:46:19.343Z"
   },
   {
    "duration": 17,
    "start_time": "2021-07-08T11:46:19.405Z"
   },
   {
    "duration": 16,
    "start_time": "2021-07-08T11:46:19.424Z"
   },
   {
    "duration": 252,
    "start_time": "2021-07-08T11:46:19.443Z"
   },
   {
    "duration": 9,
    "start_time": "2021-07-08T11:46:19.697Z"
   },
   {
    "duration": 224,
    "start_time": "2021-07-08T11:46:19.708Z"
   },
   {
    "duration": 21,
    "start_time": "2021-07-08T11:46:19.934Z"
   },
   {
    "duration": 9,
    "start_time": "2021-07-08T11:46:19.956Z"
   },
   {
    "duration": 32,
    "start_time": "2021-07-08T11:46:19.967Z"
   },
   {
    "duration": 288,
    "start_time": "2021-07-08T11:46:20.004Z"
   },
   {
    "duration": 23,
    "start_time": "2021-07-08T11:46:20.300Z"
   },
   {
    "duration": 11,
    "start_time": "2021-07-08T11:46:20.325Z"
   },
   {
    "duration": 11,
    "start_time": "2021-07-08T11:46:20.339Z"
   },
   {
    "duration": 259,
    "start_time": "2021-07-08T11:46:20.352Z"
   },
   {
    "duration": 438,
    "start_time": "2021-07-08T11:46:20.613Z"
   },
   {
    "duration": 207,
    "start_time": "2021-07-08T11:46:21.054Z"
   },
   {
    "duration": 27,
    "start_time": "2021-07-08T11:46:21.262Z"
   },
   {
    "duration": 19,
    "start_time": "2021-07-08T11:46:21.291Z"
   },
   {
    "duration": 820,
    "start_time": "2021-07-08T11:49:01.655Z"
   },
   {
    "duration": 372,
    "start_time": "2021-07-08T11:49:02.478Z"
   },
   {
    "duration": 98,
    "start_time": "2021-07-08T11:49:02.853Z"
   },
   {
    "duration": 6,
    "start_time": "2021-07-08T11:49:02.953Z"
   },
   {
    "duration": 39,
    "start_time": "2021-07-08T11:49:02.960Z"
   },
   {
    "duration": 9,
    "start_time": "2021-07-08T11:49:03.003Z"
   },
   {
    "duration": 23,
    "start_time": "2021-07-08T11:49:03.014Z"
   },
   {
    "duration": 6,
    "start_time": "2021-07-08T11:49:03.041Z"
   },
   {
    "duration": 20,
    "start_time": "2021-07-08T11:49:03.049Z"
   },
   {
    "duration": 18,
    "start_time": "2021-07-08T11:49:03.084Z"
   },
   {
    "duration": 14,
    "start_time": "2021-07-08T11:49:03.104Z"
   },
   {
    "duration": 39,
    "start_time": "2021-07-08T11:49:03.119Z"
   },
   {
    "duration": 38,
    "start_time": "2021-07-08T11:49:03.160Z"
   },
   {
    "duration": 26,
    "start_time": "2021-07-08T11:49:03.200Z"
   },
   {
    "duration": 7,
    "start_time": "2021-07-08T11:49:03.227Z"
   },
   {
    "duration": 4,
    "start_time": "2021-07-08T11:49:03.236Z"
   },
   {
    "duration": 15,
    "start_time": "2021-07-08T11:49:03.243Z"
   },
   {
    "duration": 21,
    "start_time": "2021-07-08T11:49:03.285Z"
   },
   {
    "duration": 17,
    "start_time": "2021-07-08T11:49:03.309Z"
   },
   {
    "duration": 10,
    "start_time": "2021-07-08T11:49:03.328Z"
   },
   {
    "duration": 65,
    "start_time": "2021-07-08T11:49:03.340Z"
   },
   {
    "duration": 18,
    "start_time": "2021-07-08T11:49:03.407Z"
   },
   {
    "duration": 8,
    "start_time": "2021-07-08T11:49:03.428Z"
   },
   {
    "duration": 15,
    "start_time": "2021-07-08T11:49:03.438Z"
   },
   {
    "duration": 40,
    "start_time": "2021-07-08T11:49:03.455Z"
   },
   {
    "duration": 12,
    "start_time": "2021-07-08T11:49:03.497Z"
   },
   {
    "duration": 29,
    "start_time": "2021-07-08T11:49:03.511Z"
   },
   {
    "duration": 285,
    "start_time": "2021-07-08T11:49:03.542Z"
   },
   {
    "duration": 8,
    "start_time": "2021-07-08T11:49:03.829Z"
   },
   {
    "duration": 227,
    "start_time": "2021-07-08T11:49:03.838Z"
   },
   {
    "duration": 40,
    "start_time": "2021-07-08T11:49:04.066Z"
   },
   {
    "duration": 10,
    "start_time": "2021-07-08T11:49:04.108Z"
   },
   {
    "duration": 26,
    "start_time": "2021-07-08T11:49:04.121Z"
   },
   {
    "duration": 290,
    "start_time": "2021-07-08T11:49:04.149Z"
   },
   {
    "duration": 26,
    "start_time": "2021-07-08T11:49:04.441Z"
   },
   {
    "duration": 31,
    "start_time": "2021-07-08T11:49:04.470Z"
   },
   {
    "duration": 14,
    "start_time": "2021-07-08T11:49:04.503Z"
   },
   {
    "duration": 259,
    "start_time": "2021-07-08T11:49:04.521Z"
   },
   {
    "duration": 480,
    "start_time": "2021-07-08T11:49:04.782Z"
   },
   {
    "duration": 225,
    "start_time": "2021-07-08T11:49:05.264Z"
   },
   {
    "duration": 22,
    "start_time": "2021-07-08T11:49:05.491Z"
   },
   {
    "duration": 24,
    "start_time": "2021-07-08T11:49:05.515Z"
   },
   {
    "duration": 634,
    "start_time": "2021-07-08T11:52:24.960Z"
   },
   {
    "duration": 199,
    "start_time": "2021-07-08T11:52:25.599Z"
   },
   {
    "duration": 106,
    "start_time": "2021-07-08T11:52:25.803Z"
   },
   {
    "duration": 7,
    "start_time": "2021-07-08T11:52:25.911Z"
   },
   {
    "duration": 29,
    "start_time": "2021-07-08T11:52:25.920Z"
   },
   {
    "duration": 7,
    "start_time": "2021-07-08T11:52:25.951Z"
   },
   {
    "duration": 26,
    "start_time": "2021-07-08T11:52:25.961Z"
   },
   {
    "duration": 11,
    "start_time": "2021-07-08T11:52:25.990Z"
   },
   {
    "duration": 29,
    "start_time": "2021-07-08T11:52:26.005Z"
   },
   {
    "duration": 9,
    "start_time": "2021-07-08T11:52:26.036Z"
   },
   {
    "duration": 8,
    "start_time": "2021-07-08T11:52:26.047Z"
   },
   {
    "duration": 63,
    "start_time": "2021-07-08T11:52:26.057Z"
   },
   {
    "duration": 17,
    "start_time": "2021-07-08T11:52:26.122Z"
   },
   {
    "duration": 43,
    "start_time": "2021-07-08T11:52:26.142Z"
   },
   {
    "duration": 17,
    "start_time": "2021-07-08T11:52:26.187Z"
   },
   {
    "duration": 5,
    "start_time": "2021-07-08T11:52:26.206Z"
   },
   {
    "duration": 12,
    "start_time": "2021-07-08T11:52:26.212Z"
   },
   {
    "duration": 11,
    "start_time": "2021-07-08T11:52:26.226Z"
   },
   {
    "duration": 12,
    "start_time": "2021-07-08T11:52:26.238Z"
   },
   {
    "duration": 38,
    "start_time": "2021-07-08T11:52:26.252Z"
   },
   {
    "duration": 40,
    "start_time": "2021-07-08T11:52:26.292Z"
   },
   {
    "duration": 17,
    "start_time": "2021-07-08T11:52:26.336Z"
   },
   {
    "duration": 39,
    "start_time": "2021-07-08T11:52:26.355Z"
   },
   {
    "duration": 11,
    "start_time": "2021-07-08T11:52:26.395Z"
   },
   {
    "duration": 23,
    "start_time": "2021-07-08T11:52:26.408Z"
   },
   {
    "duration": 12,
    "start_time": "2021-07-08T11:52:26.432Z"
   },
   {
    "duration": 41,
    "start_time": "2021-07-08T11:52:26.446Z"
   },
   {
    "duration": 215,
    "start_time": "2021-07-08T11:52:26.493Z"
   },
   {
    "duration": 8,
    "start_time": "2021-07-08T11:52:26.710Z"
   },
   {
    "duration": 228,
    "start_time": "2021-07-08T11:52:26.720Z"
   },
   {
    "duration": 18,
    "start_time": "2021-07-08T11:52:26.950Z"
   },
   {
    "duration": 35,
    "start_time": "2021-07-08T11:52:26.969Z"
   },
   {
    "duration": 23,
    "start_time": "2021-07-08T11:52:27.006Z"
   },
   {
    "duration": 258,
    "start_time": "2021-07-08T11:52:27.030Z"
   },
   {
    "duration": 24,
    "start_time": "2021-07-08T11:52:27.290Z"
   },
   {
    "duration": 12,
    "start_time": "2021-07-08T11:52:27.316Z"
   },
   {
    "duration": 10,
    "start_time": "2021-07-08T11:52:27.329Z"
   },
   {
    "duration": 298,
    "start_time": "2021-07-08T11:52:27.341Z"
   },
   {
    "duration": 436,
    "start_time": "2021-07-08T11:52:27.641Z"
   },
   {
    "duration": 216,
    "start_time": "2021-07-08T11:52:28.079Z"
   },
   {
    "duration": 20,
    "start_time": "2021-07-08T11:52:28.297Z"
   },
   {
    "duration": 17,
    "start_time": "2021-07-08T11:52:28.319Z"
   },
   {
    "duration": 341,
    "start_time": "2023-05-12T08:58:45.808Z"
   },
   {
    "duration": 302,
    "start_time": "2023-05-12T08:58:46.820Z"
   },
   {
    "duration": 26,
    "start_time": "2023-05-12T08:58:48.094Z"
   },
   {
    "duration": 14,
    "start_time": "2023-05-12T08:58:49.806Z"
   },
   {
    "duration": 14,
    "start_time": "2023-05-12T08:59:12.942Z"
   },
   {
    "duration": 9,
    "start_time": "2023-05-12T08:59:13.767Z"
   },
   {
    "duration": 286,
    "start_time": "2023-05-12T09:03:14.459Z"
   },
   {
    "duration": 5,
    "start_time": "2023-05-12T09:03:56.948Z"
   },
   {
    "duration": 9,
    "start_time": "2023-05-12T09:03:59.457Z"
   },
   {
    "duration": 9,
    "start_time": "2023-05-12T09:04:11.170Z"
   },
   {
    "duration": 10,
    "start_time": "2023-05-12T09:04:25.219Z"
   },
   {
    "duration": 8,
    "start_time": "2023-05-12T09:04:38.126Z"
   },
   {
    "duration": 9,
    "start_time": "2023-05-12T09:04:39.609Z"
   },
   {
    "duration": 3,
    "start_time": "2023-05-12T09:05:24.988Z"
   },
   {
    "duration": 108,
    "start_time": "2023-05-12T09:05:24.993Z"
   },
   {
    "duration": 13,
    "start_time": "2023-05-12T09:05:25.103Z"
   },
   {
    "duration": 22,
    "start_time": "2023-05-12T09:05:25.118Z"
   },
   {
    "duration": 10,
    "start_time": "2023-05-12T09:05:25.142Z"
   },
   {
    "duration": 15,
    "start_time": "2023-05-12T09:05:25.153Z"
   },
   {
    "duration": 18,
    "start_time": "2023-05-12T09:05:25.169Z"
   },
   {
    "duration": 2,
    "start_time": "2023-05-12T09:11:28.807Z"
   },
   {
    "duration": 110,
    "start_time": "2023-05-12T09:11:28.817Z"
   },
   {
    "duration": 15,
    "start_time": "2023-05-12T09:11:28.929Z"
   },
   {
    "duration": 12,
    "start_time": "2023-05-12T09:11:28.946Z"
   },
   {
    "duration": 11,
    "start_time": "2023-05-12T09:12:30.250Z"
   },
   {
    "duration": 11,
    "start_time": "2023-05-12T09:12:34.040Z"
   },
   {
    "duration": 3,
    "start_time": "2023-05-12T09:13:02.217Z"
   },
   {
    "duration": 133,
    "start_time": "2023-05-12T09:13:02.221Z"
   },
   {
    "duration": 14,
    "start_time": "2023-05-12T09:13:02.355Z"
   },
   {
    "duration": 27,
    "start_time": "2023-05-12T09:13:02.371Z"
   },
   {
    "duration": 14,
    "start_time": "2023-05-12T09:13:02.399Z"
   },
   {
    "duration": 22,
    "start_time": "2023-05-12T09:13:02.415Z"
   },
   {
    "duration": 38,
    "start_time": "2023-05-12T09:13:02.439Z"
   },
   {
    "duration": 8,
    "start_time": "2023-05-12T09:13:09.438Z"
   },
   {
    "duration": 5,
    "start_time": "2023-05-12T09:13:55.726Z"
   },
   {
    "duration": 6,
    "start_time": "2023-05-12T09:14:38.906Z"
   },
   {
    "duration": 3,
    "start_time": "2023-05-12T10:31:34.983Z"
   },
   {
    "duration": 138,
    "start_time": "2023-05-12T10:31:34.989Z"
   },
   {
    "duration": 17,
    "start_time": "2023-05-12T10:31:35.129Z"
   },
   {
    "duration": 14,
    "start_time": "2023-05-12T10:31:35.148Z"
   },
   {
    "duration": 12,
    "start_time": "2023-05-12T10:31:35.164Z"
   },
   {
    "duration": 15,
    "start_time": "2023-05-12T10:31:35.179Z"
   },
   {
    "duration": 14,
    "start_time": "2023-05-12T10:31:35.197Z"
   },
   {
    "duration": 8,
    "start_time": "2023-05-12T10:31:35.213Z"
   },
   {
    "duration": 118,
    "start_time": "2023-05-12T10:33:13.333Z"
   },
   {
    "duration": 20,
    "start_time": "2023-05-12T10:33:14.492Z"
   },
   {
    "duration": 28,
    "start_time": "2023-05-12T10:33:15.574Z"
   },
   {
    "duration": 12,
    "start_time": "2023-05-12T10:33:49.175Z"
   },
   {
    "duration": 16,
    "start_time": "2023-05-12T10:34:02.266Z"
   },
   {
    "duration": 22,
    "start_time": "2023-05-12T10:34:03.404Z"
   },
   {
    "duration": 21,
    "start_time": "2023-05-12T10:34:23.632Z"
   },
   {
    "duration": 4,
    "start_time": "2023-05-12T10:34:47.006Z"
   },
   {
    "duration": 116,
    "start_time": "2023-05-12T10:34:47.012Z"
   },
   {
    "duration": 15,
    "start_time": "2023-05-12T10:34:47.131Z"
   },
   {
    "duration": 21,
    "start_time": "2023-05-12T10:34:47.148Z"
   },
   {
    "duration": 12,
    "start_time": "2023-05-12T10:34:47.171Z"
   },
   {
    "duration": 11,
    "start_time": "2023-05-12T10:34:47.185Z"
   },
   {
    "duration": 10,
    "start_time": "2023-05-12T10:34:50.089Z"
   },
   {
    "duration": 15,
    "start_time": "2023-05-12T10:34:53.071Z"
   },
   {
    "duration": 3,
    "start_time": "2023-05-12T10:37:19.689Z"
   },
   {
    "duration": 112,
    "start_time": "2023-05-12T10:37:19.694Z"
   },
   {
    "duration": 37,
    "start_time": "2023-05-12T10:37:19.808Z"
   },
   {
    "duration": 21,
    "start_time": "2023-05-12T10:37:19.847Z"
   },
   {
    "duration": 16,
    "start_time": "2023-05-12T10:37:19.870Z"
   },
   {
    "duration": 12,
    "start_time": "2023-05-12T10:37:19.888Z"
   },
   {
    "duration": 29,
    "start_time": "2023-05-12T10:37:19.901Z"
   },
   {
    "duration": 3,
    "start_time": "2023-05-12T10:40:07.468Z"
   },
   {
    "duration": 182,
    "start_time": "2023-05-12T10:40:07.474Z"
   },
   {
    "duration": 34,
    "start_time": "2023-05-12T10:40:07.658Z"
   },
   {
    "duration": 29,
    "start_time": "2023-05-12T10:40:07.694Z"
   },
   {
    "duration": 45,
    "start_time": "2023-05-12T10:40:07.725Z"
   },
   {
    "duration": 15,
    "start_time": "2023-05-12T10:40:07.772Z"
   },
   {
    "duration": 30,
    "start_time": "2023-05-12T10:40:07.789Z"
   },
   {
    "duration": 12,
    "start_time": "2023-05-12T10:41:32.992Z"
   },
   {
    "duration": 13,
    "start_time": "2023-05-12T10:41:58.132Z"
   },
   {
    "duration": 13,
    "start_time": "2023-05-12T10:42:10.768Z"
   },
   {
    "duration": 54,
    "start_time": "2023-05-12T10:42:29.154Z"
   },
   {
    "duration": 43,
    "start_time": "2023-05-12T10:42:40.485Z"
   },
   {
    "duration": 36,
    "start_time": "2023-05-12T10:43:31.466Z"
   },
   {
    "duration": 11,
    "start_time": "2023-05-12T10:43:47.684Z"
   },
   {
    "duration": 20,
    "start_time": "2023-05-12T10:49:51.624Z"
   },
   {
    "duration": 12,
    "start_time": "2023-05-12T10:50:27.882Z"
   },
   {
    "duration": 9,
    "start_time": "2023-05-12T10:54:49.131Z"
   },
   {
    "duration": 920,
    "start_time": "2023-05-12T10:56:24.180Z"
   },
   {
    "duration": 9,
    "start_time": "2023-05-12T10:56:30.016Z"
   },
   {
    "duration": 8,
    "start_time": "2023-05-12T10:56:45.986Z"
   },
   {
    "duration": 9,
    "start_time": "2023-05-12T10:57:40.017Z"
   },
   {
    "duration": 6,
    "start_time": "2023-05-12T10:59:20.403Z"
   },
   {
    "duration": 7,
    "start_time": "2023-05-12T10:59:26.768Z"
   },
   {
    "duration": 11,
    "start_time": "2023-05-12T11:00:46.289Z"
   },
   {
    "duration": 555,
    "start_time": "2023-05-12T11:00:51.454Z"
   },
   {
    "duration": 608,
    "start_time": "2023-05-12T11:03:45.354Z"
   },
   {
    "duration": 5,
    "start_time": "2023-05-12T11:08:10.170Z"
   },
   {
    "duration": 141,
    "start_time": "2023-05-12T11:08:10.178Z"
   },
   {
    "duration": 28,
    "start_time": "2023-05-12T11:08:10.321Z"
   },
   {
    "duration": 35,
    "start_time": "2023-05-12T11:08:10.351Z"
   },
   {
    "duration": 25,
    "start_time": "2023-05-12T11:08:10.389Z"
   },
   {
    "duration": 41,
    "start_time": "2023-05-12T11:08:10.416Z"
   },
   {
    "duration": 46,
    "start_time": "2023-05-12T11:08:10.460Z"
   },
   {
    "duration": 13,
    "start_time": "2023-05-12T11:08:10.508Z"
   },
   {
    "duration": 43,
    "start_time": "2023-05-12T11:08:10.523Z"
   },
   {
    "duration": 14,
    "start_time": "2023-05-12T11:08:10.568Z"
   },
   {
    "duration": 10,
    "start_time": "2023-05-12T11:08:10.584Z"
   },
   {
    "duration": 16,
    "start_time": "2023-05-12T11:08:10.596Z"
   },
   {
    "duration": 685,
    "start_time": "2023-05-12T11:08:14.377Z"
   },
   {
    "duration": 696,
    "start_time": "2023-05-12T11:09:37.224Z"
   },
   {
    "duration": 853,
    "start_time": "2023-05-12T11:11:41.412Z"
   },
   {
    "duration": 2,
    "start_time": "2023-05-12T11:12:56.125Z"
   },
   {
    "duration": 169,
    "start_time": "2023-05-12T11:12:56.130Z"
   },
   {
    "duration": 35,
    "start_time": "2023-05-12T11:12:56.302Z"
   },
   {
    "duration": 31,
    "start_time": "2023-05-12T11:12:56.341Z"
   },
   {
    "duration": 22,
    "start_time": "2023-05-12T11:12:56.374Z"
   },
   {
    "duration": 19,
    "start_time": "2023-05-12T11:12:56.400Z"
   },
   {
    "duration": 72,
    "start_time": "2023-05-12T11:12:56.422Z"
   },
   {
    "duration": 14,
    "start_time": "2023-05-12T11:12:56.497Z"
   },
   {
    "duration": 44,
    "start_time": "2023-05-12T11:12:56.514Z"
   },
   {
    "duration": 13,
    "start_time": "2023-05-12T11:12:56.560Z"
   },
   {
    "duration": 12,
    "start_time": "2023-05-12T11:12:56.575Z"
   },
   {
    "duration": 19,
    "start_time": "2023-05-12T11:12:56.589Z"
   },
   {
    "duration": 618,
    "start_time": "2023-05-12T11:12:56.610Z"
   },
   {
    "duration": 876,
    "start_time": "2023-05-12T11:13:15.100Z"
   },
   {
    "duration": 7,
    "start_time": "2023-05-12T11:14:34.387Z"
   },
   {
    "duration": 6,
    "start_time": "2023-05-12T11:15:29.715Z"
   },
   {
    "duration": 6,
    "start_time": "2023-05-12T11:15:46.801Z"
   },
   {
    "duration": 5,
    "start_time": "2023-05-12T11:16:07.629Z"
   },
   {
    "duration": 6,
    "start_time": "2023-05-12T11:16:55.355Z"
   },
   {
    "duration": 27,
    "start_time": "2023-05-12T11:25:57.016Z"
   },
   {
    "duration": 3,
    "start_time": "2023-05-12T11:30:18.056Z"
   },
   {
    "duration": 125,
    "start_time": "2023-05-12T11:30:18.061Z"
   },
   {
    "duration": 44,
    "start_time": "2023-05-12T11:30:18.191Z"
   },
   {
    "duration": 33,
    "start_time": "2023-05-12T11:30:18.237Z"
   },
   {
    "duration": 23,
    "start_time": "2023-05-12T11:30:18.274Z"
   },
   {
    "duration": 14,
    "start_time": "2023-05-12T11:30:18.300Z"
   },
   {
    "duration": 59,
    "start_time": "2023-05-12T11:30:18.316Z"
   },
   {
    "duration": 12,
    "start_time": "2023-05-12T11:30:18.377Z"
   },
   {
    "duration": 17,
    "start_time": "2023-05-12T11:30:18.392Z"
   },
   {
    "duration": 14,
    "start_time": "2023-05-12T11:30:18.411Z"
   },
   {
    "duration": 7,
    "start_time": "2023-05-12T11:30:18.456Z"
   },
   {
    "duration": 10,
    "start_time": "2023-05-12T11:30:18.465Z"
   },
   {
    "duration": 586,
    "start_time": "2023-05-12T11:30:18.477Z"
   },
   {
    "duration": 705,
    "start_time": "2023-05-12T11:30:19.065Z"
   },
   {
    "duration": 6,
    "start_time": "2023-05-12T11:30:19.772Z"
   },
   {
    "duration": 14,
    "start_time": "2023-05-12T11:30:23.496Z"
   },
   {
    "duration": 72,
    "start_time": "2023-05-12T11:30:31.448Z"
   },
   {
    "duration": 24,
    "start_time": "2023-05-12T11:31:06.286Z"
   },
   {
    "duration": 4,
    "start_time": "2023-05-12T11:31:16.958Z"
   },
   {
    "duration": 137,
    "start_time": "2023-05-12T11:31:16.966Z"
   },
   {
    "duration": 31,
    "start_time": "2023-05-12T11:31:17.106Z"
   },
   {
    "duration": 27,
    "start_time": "2023-05-12T11:31:17.140Z"
   },
   {
    "duration": 23,
    "start_time": "2023-05-12T11:31:17.169Z"
   },
   {
    "duration": 15,
    "start_time": "2023-05-12T11:31:17.194Z"
   },
   {
    "duration": 60,
    "start_time": "2023-05-12T11:31:17.211Z"
   },
   {
    "duration": 14,
    "start_time": "2023-05-12T11:31:17.274Z"
   },
   {
    "duration": 20,
    "start_time": "2023-05-12T11:31:17.290Z"
   },
   {
    "duration": 12,
    "start_time": "2023-05-12T11:31:17.313Z"
   },
   {
    "duration": 33,
    "start_time": "2023-05-12T11:31:17.327Z"
   },
   {
    "duration": 16,
    "start_time": "2023-05-12T11:31:17.362Z"
   },
   {
    "duration": 427,
    "start_time": "2023-05-12T11:31:17.380Z"
   },
   {
    "duration": 507,
    "start_time": "2023-05-12T11:31:17.809Z"
   },
   {
    "duration": 44,
    "start_time": "2023-05-12T11:31:18.331Z"
   },
   {
    "duration": 39,
    "start_time": "2023-05-12T11:31:18.382Z"
   },
   {
    "duration": 4,
    "start_time": "2023-05-12T11:31:43.687Z"
   },
   {
    "duration": 169,
    "start_time": "2023-05-12T11:31:43.694Z"
   },
   {
    "duration": 42,
    "start_time": "2023-05-12T11:31:43.865Z"
   },
   {
    "duration": 48,
    "start_time": "2023-05-12T11:31:43.909Z"
   },
   {
    "duration": 24,
    "start_time": "2023-05-12T11:31:43.960Z"
   },
   {
    "duration": 21,
    "start_time": "2023-05-12T11:31:43.986Z"
   },
   {
    "duration": 74,
    "start_time": "2023-05-12T11:31:44.010Z"
   },
   {
    "duration": 15,
    "start_time": "2023-05-12T11:31:44.086Z"
   },
   {
    "duration": 28,
    "start_time": "2023-05-12T11:31:44.105Z"
   },
   {
    "duration": 41,
    "start_time": "2023-05-12T11:31:44.140Z"
   },
   {
    "duration": 13,
    "start_time": "2023-05-12T11:31:44.184Z"
   },
   {
    "duration": 17,
    "start_time": "2023-05-12T11:31:44.200Z"
   },
   {
    "duration": 541,
    "start_time": "2023-05-12T11:31:44.220Z"
   },
   {
    "duration": 695,
    "start_time": "2023-05-12T11:31:44.768Z"
   },
   {
    "duration": 8,
    "start_time": "2023-05-12T11:31:45.504Z"
   },
   {
    "duration": 67,
    "start_time": "2023-05-12T11:31:45.515Z"
   },
   {
    "duration": 4,
    "start_time": "2023-05-12T11:32:22.384Z"
   },
   {
    "duration": 152,
    "start_time": "2023-05-12T11:32:22.391Z"
   },
   {
    "duration": 38,
    "start_time": "2023-05-12T11:32:22.545Z"
   },
   {
    "duration": 30,
    "start_time": "2023-05-12T11:32:22.585Z"
   },
   {
    "duration": 17,
    "start_time": "2023-05-12T11:32:22.618Z"
   },
   {
    "duration": 26,
    "start_time": "2023-05-12T11:32:22.659Z"
   },
   {
    "duration": 40,
    "start_time": "2023-05-12T11:32:22.688Z"
   },
   {
    "duration": 33,
    "start_time": "2023-05-12T11:32:22.729Z"
   },
   {
    "duration": 25,
    "start_time": "2023-05-12T11:32:22.765Z"
   },
   {
    "duration": 11,
    "start_time": "2023-05-12T11:32:22.792Z"
   },
   {
    "duration": 33,
    "start_time": "2023-05-12T11:32:22.805Z"
   },
   {
    "duration": 39,
    "start_time": "2023-05-12T11:32:22.841Z"
   },
   {
    "duration": 723,
    "start_time": "2023-05-12T11:32:22.883Z"
   },
   {
    "duration": 584,
    "start_time": "2023-05-12T11:32:23.614Z"
   },
   {
    "duration": 18,
    "start_time": "2023-05-12T11:32:24.209Z"
   },
   {
    "duration": 73,
    "start_time": "2023-05-12T11:32:24.229Z"
   },
   {
    "duration": 3,
    "start_time": "2023-05-12T11:33:07.607Z"
   },
   {
    "duration": 120,
    "start_time": "2023-05-12T11:33:07.611Z"
   },
   {
    "duration": 35,
    "start_time": "2023-05-12T11:33:07.733Z"
   },
   {
    "duration": 29,
    "start_time": "2023-05-12T11:33:07.770Z"
   },
   {
    "duration": 23,
    "start_time": "2023-05-12T11:33:07.804Z"
   },
   {
    "duration": 32,
    "start_time": "2023-05-12T11:33:07.830Z"
   },
   {
    "duration": 47,
    "start_time": "2023-05-12T11:33:07.865Z"
   },
   {
    "duration": 11,
    "start_time": "2023-05-12T11:33:07.915Z"
   },
   {
    "duration": 51,
    "start_time": "2023-05-12T11:33:07.929Z"
   },
   {
    "duration": 13,
    "start_time": "2023-05-12T11:33:07.983Z"
   },
   {
    "duration": 8,
    "start_time": "2023-05-12T11:33:08.000Z"
   },
   {
    "duration": 9,
    "start_time": "2023-05-12T11:33:08.011Z"
   },
   {
    "duration": 611,
    "start_time": "2023-05-12T11:33:08.058Z"
   },
   {
    "duration": 619,
    "start_time": "2023-05-12T11:33:08.671Z"
   },
   {
    "duration": 6,
    "start_time": "2023-05-12T11:33:09.299Z"
   },
   {
    "duration": 66,
    "start_time": "2023-05-12T11:33:09.307Z"
   },
   {
    "duration": 4,
    "start_time": "2023-05-12T11:34:06.699Z"
   },
   {
    "duration": 152,
    "start_time": "2023-05-12T11:34:06.705Z"
   },
   {
    "duration": 44,
    "start_time": "2023-05-12T11:34:06.862Z"
   },
   {
    "duration": 28,
    "start_time": "2023-05-12T11:34:06.908Z"
   },
   {
    "duration": 38,
    "start_time": "2023-05-12T11:34:06.940Z"
   },
   {
    "duration": 17,
    "start_time": "2023-05-12T11:34:06.980Z"
   },
   {
    "duration": 60,
    "start_time": "2023-05-12T11:34:06.999Z"
   },
   {
    "duration": 12,
    "start_time": "2023-05-12T11:34:07.061Z"
   },
   {
    "duration": 32,
    "start_time": "2023-05-12T11:34:07.075Z"
   },
   {
    "duration": 24,
    "start_time": "2023-05-12T11:34:07.109Z"
   },
   {
    "duration": 23,
    "start_time": "2023-05-12T11:34:07.135Z"
   },
   {
    "duration": 17,
    "start_time": "2023-05-12T11:34:07.160Z"
   },
   {
    "duration": 810,
    "start_time": "2023-05-12T11:34:07.180Z"
   },
   {
    "duration": 787,
    "start_time": "2023-05-12T11:34:07.999Z"
   },
   {
    "duration": 17,
    "start_time": "2023-05-12T11:34:08.788Z"
   },
   {
    "duration": 69,
    "start_time": "2023-05-12T11:34:08.808Z"
   },
   {
    "duration": 23,
    "start_time": "2023-05-12T11:34:54.017Z"
   },
   {
    "duration": 4,
    "start_time": "2023-05-12T11:35:05.065Z"
   },
   {
    "duration": 137,
    "start_time": "2023-05-12T11:35:05.073Z"
   },
   {
    "duration": 31,
    "start_time": "2023-05-12T11:35:05.211Z"
   },
   {
    "duration": 27,
    "start_time": "2023-05-12T11:35:05.244Z"
   },
   {
    "duration": 29,
    "start_time": "2023-05-12T11:35:05.275Z"
   },
   {
    "duration": 15,
    "start_time": "2023-05-12T11:35:05.307Z"
   },
   {
    "duration": 64,
    "start_time": "2023-05-12T11:35:05.325Z"
   },
   {
    "duration": 12,
    "start_time": "2023-05-12T11:35:05.391Z"
   },
   {
    "duration": 21,
    "start_time": "2023-05-12T11:35:05.406Z"
   },
   {
    "duration": 40,
    "start_time": "2023-05-12T11:35:05.429Z"
   },
   {
    "duration": 9,
    "start_time": "2023-05-12T11:35:05.473Z"
   },
   {
    "duration": 22,
    "start_time": "2023-05-12T11:35:05.485Z"
   },
   {
    "duration": 669,
    "start_time": "2023-05-12T11:35:05.510Z"
   },
   {
    "duration": 732,
    "start_time": "2023-05-12T11:35:06.183Z"
   },
   {
    "duration": 5,
    "start_time": "2023-05-12T11:35:06.960Z"
   },
   {
    "duration": 25,
    "start_time": "2023-05-12T11:35:06.975Z"
   },
   {
    "duration": 4,
    "start_time": "2023-05-12T11:35:24.666Z"
   },
   {
    "duration": 160,
    "start_time": "2023-05-12T11:35:24.672Z"
   },
   {
    "duration": 42,
    "start_time": "2023-05-12T11:35:24.835Z"
   },
   {
    "duration": 34,
    "start_time": "2023-05-12T11:35:24.879Z"
   },
   {
    "duration": 19,
    "start_time": "2023-05-12T11:35:24.915Z"
   },
   {
    "duration": 21,
    "start_time": "2023-05-12T11:35:24.958Z"
   },
   {
    "duration": 42,
    "start_time": "2023-05-12T11:35:24.982Z"
   },
   {
    "duration": 34,
    "start_time": "2023-05-12T11:35:25.027Z"
   },
   {
    "duration": 29,
    "start_time": "2023-05-12T11:35:25.063Z"
   },
   {
    "duration": 11,
    "start_time": "2023-05-12T11:35:26.511Z"
   },
   {
    "duration": 7,
    "start_time": "2023-05-12T11:35:26.525Z"
   },
   {
    "duration": 18,
    "start_time": "2023-05-12T11:35:26.534Z"
   },
   {
    "duration": 750,
    "start_time": "2023-05-12T11:35:26.555Z"
   },
   {
    "duration": 872,
    "start_time": "2023-05-12T11:35:27.308Z"
   },
   {
    "duration": 8,
    "start_time": "2023-05-12T11:35:28.187Z"
   },
   {
    "duration": 27,
    "start_time": "2023-05-12T11:35:28.198Z"
   },
   {
    "duration": 5,
    "start_time": "2023-05-12T11:35:42.535Z"
   },
   {
    "duration": 145,
    "start_time": "2023-05-12T11:35:42.543Z"
   },
   {
    "duration": 53,
    "start_time": "2023-05-12T11:35:42.690Z"
   },
   {
    "duration": 39,
    "start_time": "2023-05-12T11:35:42.746Z"
   },
   {
    "duration": 33,
    "start_time": "2023-05-12T11:35:42.788Z"
   },
   {
    "duration": 37,
    "start_time": "2023-05-12T11:35:42.824Z"
   },
   {
    "duration": 50,
    "start_time": "2023-05-12T11:35:42.875Z"
   },
   {
    "duration": 17,
    "start_time": "2023-05-12T11:35:42.927Z"
   },
   {
    "duration": 36,
    "start_time": "2023-05-12T11:35:42.958Z"
   },
   {
    "duration": 13,
    "start_time": "2023-05-12T11:35:43.007Z"
   },
   {
    "duration": 18,
    "start_time": "2023-05-12T11:35:43.023Z"
   },
   {
    "duration": 18,
    "start_time": "2023-05-12T11:35:43.043Z"
   },
   {
    "duration": 643,
    "start_time": "2023-05-12T11:35:43.249Z"
   },
   {
    "duration": 699,
    "start_time": "2023-05-12T11:35:43.895Z"
   },
   {
    "duration": 40,
    "start_time": "2023-05-12T11:35:44.618Z"
   },
   {
    "duration": 32,
    "start_time": "2023-05-12T11:35:44.674Z"
   },
   {
    "duration": 7,
    "start_time": "2023-05-12T11:35:58.978Z"
   },
   {
    "duration": 190,
    "start_time": "2023-05-12T11:35:58.998Z"
   },
   {
    "duration": 45,
    "start_time": "2023-05-12T11:35:59.190Z"
   },
   {
    "duration": 28,
    "start_time": "2023-05-12T11:35:59.237Z"
   },
   {
    "duration": 19,
    "start_time": "2023-05-12T11:35:59.268Z"
   },
   {
    "duration": 17,
    "start_time": "2023-05-12T11:35:59.289Z"
   },
   {
    "duration": 60,
    "start_time": "2023-05-12T11:35:59.314Z"
   },
   {
    "duration": 15,
    "start_time": "2023-05-12T11:35:59.377Z"
   },
   {
    "duration": 24,
    "start_time": "2023-05-12T11:35:59.394Z"
   },
   {
    "duration": 40,
    "start_time": "2023-05-12T11:35:59.420Z"
   },
   {
    "duration": 12,
    "start_time": "2023-05-12T11:35:59.463Z"
   },
   {
    "duration": 7,
    "start_time": "2023-05-12T11:35:59.477Z"
   },
   {
    "duration": 604,
    "start_time": "2023-05-12T11:35:59.487Z"
   },
   {
    "duration": 597,
    "start_time": "2023-05-12T11:36:00.093Z"
   },
   {
    "duration": 7,
    "start_time": "2023-05-12T11:36:00.692Z"
   },
   {
    "duration": 45,
    "start_time": "2023-05-12T11:36:00.701Z"
   },
   {
    "duration": 22,
    "start_time": "2023-05-12T11:37:51.685Z"
   },
   {
    "duration": 5,
    "start_time": "2023-05-12T11:38:01.925Z"
   },
   {
    "duration": 221,
    "start_time": "2023-05-12T11:38:01.932Z"
   },
   {
    "duration": 72,
    "start_time": "2023-05-12T11:38:02.156Z"
   },
   {
    "duration": 35,
    "start_time": "2023-05-12T11:38:02.231Z"
   },
   {
    "duration": 30,
    "start_time": "2023-05-12T11:38:02.272Z"
   },
   {
    "duration": 40,
    "start_time": "2023-05-12T11:38:02.304Z"
   },
   {
    "duration": 63,
    "start_time": "2023-05-12T11:38:02.346Z"
   },
   {
    "duration": 41,
    "start_time": "2023-05-12T11:38:02.412Z"
   },
   {
    "duration": 39,
    "start_time": "2023-05-12T11:38:02.455Z"
   },
   {
    "duration": 15,
    "start_time": "2023-05-12T11:38:02.496Z"
   },
   {
    "duration": 27,
    "start_time": "2023-05-12T11:38:02.513Z"
   },
   {
    "duration": 12,
    "start_time": "2023-05-12T11:38:02.542Z"
   },
   {
    "duration": 425,
    "start_time": "2023-05-12T11:38:02.566Z"
   },
   {
    "duration": 490,
    "start_time": "2023-05-12T11:38:02.993Z"
   },
   {
    "duration": 22,
    "start_time": "2023-05-12T11:38:03.485Z"
   },
   {
    "duration": 53,
    "start_time": "2023-05-12T11:38:03.526Z"
   },
   {
    "duration": 5,
    "start_time": "2023-05-12T11:40:26.453Z"
   },
   {
    "duration": 141,
    "start_time": "2023-05-12T11:40:26.462Z"
   },
   {
    "duration": 33,
    "start_time": "2023-05-12T11:40:26.606Z"
   },
   {
    "duration": 27,
    "start_time": "2023-05-12T11:40:26.641Z"
   },
   {
    "duration": 22,
    "start_time": "2023-05-12T11:40:26.670Z"
   },
   {
    "duration": 17,
    "start_time": "2023-05-12T11:40:26.695Z"
   },
   {
    "duration": 66,
    "start_time": "2023-05-12T11:40:26.715Z"
   },
   {
    "duration": 11,
    "start_time": "2023-05-12T11:40:26.784Z"
   },
   {
    "duration": 20,
    "start_time": "2023-05-12T11:40:26.799Z"
   },
   {
    "duration": 59,
    "start_time": "2023-05-12T11:40:26.821Z"
   },
   {
    "duration": 13,
    "start_time": "2023-05-12T11:40:26.883Z"
   },
   {
    "duration": 12,
    "start_time": "2023-05-12T11:40:26.899Z"
   },
   {
    "duration": 539,
    "start_time": "2023-05-12T11:40:26.922Z"
   },
   {
    "duration": 633,
    "start_time": "2023-05-12T11:40:27.473Z"
   },
   {
    "duration": 6,
    "start_time": "2023-05-12T11:40:28.108Z"
   },
   {
    "duration": 1062,
    "start_time": "2023-05-12T11:40:28.117Z"
   },
   {
    "duration": 5,
    "start_time": "2023-05-12T11:40:46.581Z"
   },
   {
    "duration": 148,
    "start_time": "2023-05-12T11:40:46.590Z"
   },
   {
    "duration": 36,
    "start_time": "2023-05-12T11:40:46.740Z"
   },
   {
    "duration": 36,
    "start_time": "2023-05-12T11:40:46.778Z"
   },
   {
    "duration": 17,
    "start_time": "2023-05-12T11:40:46.816Z"
   },
   {
    "duration": 32,
    "start_time": "2023-05-12T11:40:46.836Z"
   },
   {
    "duration": 48,
    "start_time": "2023-05-12T11:40:46.871Z"
   },
   {
    "duration": 36,
    "start_time": "2023-05-12T11:40:46.922Z"
   },
   {
    "duration": 20,
    "start_time": "2023-05-12T11:40:46.961Z"
   },
   {
    "duration": 13,
    "start_time": "2023-05-12T11:40:46.984Z"
   },
   {
    "duration": 8,
    "start_time": "2023-05-12T11:40:47.000Z"
   },
   {
    "duration": 19,
    "start_time": "2023-05-12T11:40:47.011Z"
   },
   {
    "duration": 612,
    "start_time": "2023-05-12T11:40:47.058Z"
   },
   {
    "duration": 702,
    "start_time": "2023-05-12T11:40:47.677Z"
   },
   {
    "duration": 14,
    "start_time": "2023-05-12T11:40:48.389Z"
   },
   {
    "duration": 166,
    "start_time": "2023-05-12T11:40:48.405Z"
   },
   {
    "duration": 7,
    "start_time": "2023-05-12T11:41:05.786Z"
   },
   {
    "duration": 137,
    "start_time": "2023-05-12T11:41:05.796Z"
   },
   {
    "duration": 49,
    "start_time": "2023-05-12T11:41:05.935Z"
   },
   {
    "duration": 42,
    "start_time": "2023-05-12T11:41:05.988Z"
   },
   {
    "duration": 34,
    "start_time": "2023-05-12T11:41:06.033Z"
   },
   {
    "duration": 20,
    "start_time": "2023-05-12T11:41:06.069Z"
   },
   {
    "duration": 67,
    "start_time": "2023-05-12T11:41:06.091Z"
   },
   {
    "duration": 12,
    "start_time": "2023-05-12T11:41:06.160Z"
   },
   {
    "duration": 28,
    "start_time": "2023-05-12T11:41:06.177Z"
   },
   {
    "duration": 11,
    "start_time": "2023-05-12T11:41:06.208Z"
   },
   {
    "duration": 40,
    "start_time": "2023-05-12T11:41:06.221Z"
   },
   {
    "duration": 15,
    "start_time": "2023-05-12T11:41:06.264Z"
   },
   {
    "duration": 659,
    "start_time": "2023-05-12T11:41:06.282Z"
   },
   {
    "duration": 670,
    "start_time": "2023-05-12T11:41:06.990Z"
   },
   {
    "duration": 5,
    "start_time": "2023-05-12T11:41:07.663Z"
   },
   {
    "duration": 137,
    "start_time": "2023-05-12T11:41:07.670Z"
   },
   {
    "duration": 8,
    "start_time": "2023-05-12T11:42:00.238Z"
   },
   {
    "duration": 4,
    "start_time": "2023-05-12T11:46:45.596Z"
   },
   {
    "duration": 113,
    "start_time": "2023-05-12T11:46:45.602Z"
   },
   {
    "duration": 32,
    "start_time": "2023-05-12T11:46:45.717Z"
   },
   {
    "duration": 28,
    "start_time": "2023-05-12T11:46:45.751Z"
   },
   {
    "duration": 25,
    "start_time": "2023-05-12T11:46:45.783Z"
   },
   {
    "duration": 15,
    "start_time": "2023-05-12T11:46:45.810Z"
   },
   {
    "duration": 70,
    "start_time": "2023-05-12T11:46:45.827Z"
   },
   {
    "duration": 13,
    "start_time": "2023-05-12T11:46:45.900Z"
   },
   {
    "duration": 50,
    "start_time": "2023-05-12T11:46:45.916Z"
   },
   {
    "duration": 391,
    "start_time": "2023-05-12T11:46:45.968Z"
   },
   {
    "duration": 0,
    "start_time": "2023-05-12T11:46:46.362Z"
   },
   {
    "duration": 0,
    "start_time": "2023-05-12T11:46:46.364Z"
   },
   {
    "duration": 0,
    "start_time": "2023-05-12T11:46:46.366Z"
   },
   {
    "duration": 0,
    "start_time": "2023-05-12T11:46:46.369Z"
   },
   {
    "duration": 0,
    "start_time": "2023-05-12T11:46:46.370Z"
   },
   {
    "duration": 0,
    "start_time": "2023-05-12T11:46:46.371Z"
   },
   {
    "duration": 0,
    "start_time": "2023-05-12T11:46:46.372Z"
   },
   {
    "duration": 0,
    "start_time": "2023-05-12T11:46:46.374Z"
   },
   {
    "duration": 399,
    "start_time": "2023-05-12T11:47:02.316Z"
   },
   {
    "duration": 425,
    "start_time": "2023-05-12T11:51:59.380Z"
   },
   {
    "duration": 373,
    "start_time": "2023-05-12T11:55:54.358Z"
   },
   {
    "duration": 543,
    "start_time": "2023-05-12T11:56:08.246Z"
   },
   {
    "duration": 396,
    "start_time": "2023-05-12T11:56:16.614Z"
   },
   {
    "duration": 425,
    "start_time": "2023-05-12T12:02:18.816Z"
   },
   {
    "duration": 419,
    "start_time": "2023-05-12T12:02:25.756Z"
   },
   {
    "duration": 489,
    "start_time": "2023-05-12T12:02:41.435Z"
   },
   {
    "duration": 465,
    "start_time": "2023-05-12T12:02:50.522Z"
   },
   {
    "duration": 42,
    "start_time": "2023-05-12T12:09:52.403Z"
   },
   {
    "duration": 7,
    "start_time": "2023-05-12T12:21:09.382Z"
   },
   {
    "duration": 4,
    "start_time": "2023-05-12T12:22:37.893Z"
   },
   {
    "duration": 159,
    "start_time": "2023-05-12T12:22:37.900Z"
   },
   {
    "duration": 39,
    "start_time": "2023-05-12T12:22:38.063Z"
   },
   {
    "duration": 31,
    "start_time": "2023-05-12T12:22:38.105Z"
   },
   {
    "duration": 25,
    "start_time": "2023-05-12T12:22:38.159Z"
   },
   {
    "duration": 19,
    "start_time": "2023-05-12T12:22:38.186Z"
   },
   {
    "duration": 70,
    "start_time": "2023-05-12T12:22:38.208Z"
   },
   {
    "duration": 13,
    "start_time": "2023-05-12T12:22:38.281Z"
   },
   {
    "duration": 36,
    "start_time": "2023-05-12T12:22:38.297Z"
   },
   {
    "duration": 26,
    "start_time": "2023-05-12T12:22:38.336Z"
   },
   {
    "duration": 170,
    "start_time": "2023-05-12T12:22:38.367Z"
   },
   {
    "duration": 17,
    "start_time": "2023-05-12T12:22:42.122Z"
   },
   {
    "duration": 19,
    "start_time": "2023-05-12T12:33:56.377Z"
   },
   {
    "duration": 3,
    "start_time": "2023-05-12T12:38:01.021Z"
   },
   {
    "duration": 189,
    "start_time": "2023-05-12T12:38:01.028Z"
   },
   {
    "duration": 37,
    "start_time": "2023-05-12T12:38:01.218Z"
   },
   {
    "duration": 52,
    "start_time": "2023-05-12T12:38:01.259Z"
   },
   {
    "duration": 34,
    "start_time": "2023-05-12T12:38:01.313Z"
   },
   {
    "duration": 39,
    "start_time": "2023-05-12T12:38:01.350Z"
   },
   {
    "duration": 55,
    "start_time": "2023-05-12T12:38:01.392Z"
   },
   {
    "duration": 29,
    "start_time": "2023-05-12T12:38:01.449Z"
   },
   {
    "duration": 54,
    "start_time": "2023-05-12T12:38:01.481Z"
   },
   {
    "duration": 42,
    "start_time": "2023-05-12T12:38:01.538Z"
   },
   {
    "duration": 222,
    "start_time": "2023-05-12T12:38:01.582Z"
   },
   {
    "duration": 17,
    "start_time": "2023-05-12T12:38:01.806Z"
   },
   {
    "duration": 42,
    "start_time": "2023-05-12T12:38:01.827Z"
   },
   {
    "duration": 101,
    "start_time": "2023-05-12T12:38:01.872Z"
   },
   {
    "duration": 9,
    "start_time": "2023-05-12T12:51:41.680Z"
   },
   {
    "duration": 14,
    "start_time": "2023-05-12T12:53:01.283Z"
   },
   {
    "duration": 35,
    "start_time": "2023-05-12T12:53:16.100Z"
   },
   {
    "duration": 5,
    "start_time": "2023-05-12T12:53:40.491Z"
   },
   {
    "duration": 4,
    "start_time": "2023-05-12T12:56:01.040Z"
   },
   {
    "duration": 162,
    "start_time": "2023-05-12T12:56:01.047Z"
   },
   {
    "duration": 32,
    "start_time": "2023-05-12T12:56:01.211Z"
   },
   {
    "duration": 61,
    "start_time": "2023-05-12T12:56:01.246Z"
   },
   {
    "duration": 23,
    "start_time": "2023-05-12T12:56:01.775Z"
   },
   {
    "duration": 48,
    "start_time": "2023-05-12T12:56:01.802Z"
   },
   {
    "duration": 97,
    "start_time": "2023-05-12T12:56:01.853Z"
   },
   {
    "duration": 23,
    "start_time": "2023-05-12T12:56:01.953Z"
   },
   {
    "duration": 52,
    "start_time": "2023-05-12T12:56:01.982Z"
   },
   {
    "duration": 39,
    "start_time": "2023-05-12T12:56:02.036Z"
   },
   {
    "duration": 148,
    "start_time": "2023-05-12T12:56:02.079Z"
   },
   {
    "duration": 12,
    "start_time": "2023-05-12T12:56:02.229Z"
   },
   {
    "duration": 64,
    "start_time": "2023-05-12T12:56:02.243Z"
   },
   {
    "duration": 43,
    "start_time": "2023-05-12T12:56:02.310Z"
   },
   {
    "duration": 67,
    "start_time": "2023-05-12T12:56:02.355Z"
   },
   {
    "duration": 9,
    "start_time": "2023-05-12T12:59:10.394Z"
   },
   {
    "duration": 750,
    "start_time": "2023-05-12T13:01:47.935Z"
   },
   {
    "duration": 175,
    "start_time": "2023-05-12T13:02:22.997Z"
   },
   {
    "duration": 34,
    "start_time": "2023-05-12T13:02:41.694Z"
   },
   {
    "duration": 153,
    "start_time": "2023-05-12T13:02:55.784Z"
   },
   {
    "duration": 14,
    "start_time": "2023-05-12T13:04:52.678Z"
   },
   {
    "duration": 45,
    "start_time": "2023-05-12T13:04:58.950Z"
   },
   {
    "duration": 47,
    "start_time": "2023-05-12T13:06:01.050Z"
   },
   {
    "duration": 26,
    "start_time": "2023-05-12T13:06:12.779Z"
   },
   {
    "duration": 8,
    "start_time": "2023-05-12T13:10:34.429Z"
   },
   {
    "duration": 124,
    "start_time": "2023-05-12T13:10:37.191Z"
   },
   {
    "duration": 3,
    "start_time": "2023-05-12T13:11:44.643Z"
   },
   {
    "duration": 169,
    "start_time": "2023-05-12T13:11:44.649Z"
   },
   {
    "duration": 30,
    "start_time": "2023-05-12T13:11:44.821Z"
   },
   {
    "duration": 42,
    "start_time": "2023-05-12T13:11:44.854Z"
   },
   {
    "duration": 31,
    "start_time": "2023-05-12T13:11:44.900Z"
   },
   {
    "duration": 26,
    "start_time": "2023-05-12T13:11:44.933Z"
   },
   {
    "duration": 38,
    "start_time": "2023-05-12T13:11:44.961Z"
   },
   {
    "duration": 12,
    "start_time": "2023-05-12T13:11:45.001Z"
   },
   {
    "duration": 32,
    "start_time": "2023-05-12T13:11:45.016Z"
   },
   {
    "duration": 45,
    "start_time": "2023-05-12T13:11:45.050Z"
   },
   {
    "duration": 116,
    "start_time": "2023-05-12T13:11:45.096Z"
   },
   {
    "duration": 12,
    "start_time": "2023-05-12T13:11:45.214Z"
   },
   {
    "duration": 36,
    "start_time": "2023-05-12T13:11:45.228Z"
   },
   {
    "duration": 27,
    "start_time": "2023-05-12T13:11:45.277Z"
   },
   {
    "duration": 43,
    "start_time": "2023-05-12T13:11:45.306Z"
   },
   {
    "duration": 19,
    "start_time": "2023-05-12T13:11:45.351Z"
   },
   {
    "duration": 202,
    "start_time": "2023-05-12T13:11:45.372Z"
   },
   {
    "duration": 9,
    "start_time": "2023-05-12T13:11:45.576Z"
   },
   {
    "duration": 4,
    "start_time": "2023-05-12T13:11:50.635Z"
   },
   {
    "duration": 4,
    "start_time": "2023-05-12T13:20:35.782Z"
   },
   {
    "duration": 128,
    "start_time": "2023-05-12T13:20:35.791Z"
   },
   {
    "duration": 50,
    "start_time": "2023-05-12T13:20:35.921Z"
   },
   {
    "duration": 32,
    "start_time": "2023-05-12T13:20:35.973Z"
   },
   {
    "duration": 20,
    "start_time": "2023-05-12T13:20:36.008Z"
   },
   {
    "duration": 13,
    "start_time": "2023-05-12T13:20:36.030Z"
   },
   {
    "duration": 38,
    "start_time": "2023-05-12T13:20:36.058Z"
   },
   {
    "duration": 14,
    "start_time": "2023-05-12T13:20:36.098Z"
   },
   {
    "duration": 44,
    "start_time": "2023-05-12T13:20:36.114Z"
   },
   {
    "duration": 18,
    "start_time": "2023-05-12T13:20:36.160Z"
   },
   {
    "duration": 167,
    "start_time": "2023-05-12T13:20:36.180Z"
   },
   {
    "duration": 22,
    "start_time": "2023-05-12T13:20:36.350Z"
   },
   {
    "duration": 23,
    "start_time": "2023-05-12T13:20:36.380Z"
   },
   {
    "duration": 25,
    "start_time": "2023-05-12T13:20:36.407Z"
   },
   {
    "duration": 48,
    "start_time": "2023-05-12T13:20:36.434Z"
   },
   {
    "duration": 12,
    "start_time": "2023-05-12T13:20:36.484Z"
   },
   {
    "duration": 159,
    "start_time": "2023-05-12T13:20:36.498Z"
   },
   {
    "duration": 18,
    "start_time": "2023-05-12T13:20:36.658Z"
   },
   {
    "duration": 6,
    "start_time": "2023-05-12T13:20:36.681Z"
   },
   {
    "duration": 20,
    "start_time": "2023-05-12T13:20:36.690Z"
   },
   {
    "duration": 915,
    "start_time": "2023-05-12T13:20:36.712Z"
   },
   {
    "duration": 229,
    "start_time": "2023-05-12T13:20:52.594Z"
   },
   {
    "duration": 284,
    "start_time": "2023-05-12T13:21:22.956Z"
   },
   {
    "duration": 222,
    "start_time": "2023-05-12T13:24:47.884Z"
   },
   {
    "duration": 11,
    "start_time": "2023-05-12T13:25:12.633Z"
   },
   {
    "duration": 290,
    "start_time": "2023-05-12T13:25:14.939Z"
   },
   {
    "duration": 306,
    "start_time": "2023-05-12T13:25:59.982Z"
   },
   {
    "duration": 10,
    "start_time": "2023-05-12T13:30:01.414Z"
   },
   {
    "duration": 321,
    "start_time": "2023-05-12T13:30:10.791Z"
   },
   {
    "duration": 11,
    "start_time": "2023-05-12T13:31:10.615Z"
   },
   {
    "duration": 46,
    "start_time": "2023-05-12T13:31:25.142Z"
   },
   {
    "duration": 42,
    "start_time": "2023-05-12T13:31:53.452Z"
   },
   {
    "duration": 5,
    "start_time": "2023-05-12T13:33:13.034Z"
   },
   {
    "duration": 11,
    "start_time": "2023-05-12T13:33:41.429Z"
   },
   {
    "duration": 11,
    "start_time": "2023-05-12T13:36:49.228Z"
   },
   {
    "duration": 173,
    "start_time": "2023-05-12T13:36:49.242Z"
   },
   {
    "duration": 42,
    "start_time": "2023-05-12T13:36:49.418Z"
   },
   {
    "duration": 25,
    "start_time": "2023-05-12T13:36:49.580Z"
   },
   {
    "duration": 20,
    "start_time": "2023-05-12T13:36:49.609Z"
   },
   {
    "duration": 20,
    "start_time": "2023-05-12T13:36:49.631Z"
   },
   {
    "duration": 38,
    "start_time": "2023-05-12T13:36:49.657Z"
   },
   {
    "duration": 12,
    "start_time": "2023-05-12T13:36:49.698Z"
   },
   {
    "duration": 50,
    "start_time": "2023-05-12T13:36:49.712Z"
   },
   {
    "duration": 23,
    "start_time": "2023-05-12T13:36:49.914Z"
   },
   {
    "duration": 147,
    "start_time": "2023-05-12T13:36:49.940Z"
   },
   {
    "duration": 12,
    "start_time": "2023-05-12T13:36:50.089Z"
   },
   {
    "duration": 29,
    "start_time": "2023-05-12T13:36:50.103Z"
   },
   {
    "duration": 42,
    "start_time": "2023-05-12T13:36:50.136Z"
   },
   {
    "duration": 26,
    "start_time": "2023-05-12T13:36:50.182Z"
   },
   {
    "duration": 15,
    "start_time": "2023-05-12T13:36:50.267Z"
   },
   {
    "duration": 122,
    "start_time": "2023-05-12T13:36:50.285Z"
   },
   {
    "duration": 9,
    "start_time": "2023-05-12T13:36:50.410Z"
   },
   {
    "duration": 6,
    "start_time": "2023-05-12T13:36:50.421Z"
   },
   {
    "duration": 32,
    "start_time": "2023-05-12T13:36:50.430Z"
   },
   {
    "duration": 37,
    "start_time": "2023-05-12T13:36:50.467Z"
   },
   {
    "duration": 27,
    "start_time": "2023-05-12T13:36:50.506Z"
   },
   {
    "duration": 5510,
    "start_time": "2023-05-12T13:43:53.212Z"
   },
   {
    "duration": 5733,
    "start_time": "2023-05-12T13:44:18.638Z"
   },
   {
    "duration": 41,
    "start_time": "2023-05-12T13:45:36.276Z"
   },
   {
    "duration": 5442,
    "start_time": "2023-05-12T13:45:49.440Z"
   },
   {
    "duration": 4,
    "start_time": "2023-05-12T13:46:14.839Z"
   },
   {
    "duration": 148,
    "start_time": "2023-05-12T13:46:14.845Z"
   },
   {
    "duration": 30,
    "start_time": "2023-05-12T13:46:14.995Z"
   },
   {
    "duration": 47,
    "start_time": "2023-05-12T13:46:15.027Z"
   },
   {
    "duration": 32,
    "start_time": "2023-05-12T13:46:15.076Z"
   },
   {
    "duration": 22,
    "start_time": "2023-05-12T13:46:15.110Z"
   },
   {
    "duration": 46,
    "start_time": "2023-05-12T13:46:15.135Z"
   },
   {
    "duration": 10,
    "start_time": "2023-05-12T13:46:15.183Z"
   },
   {
    "duration": 16,
    "start_time": "2023-05-12T13:46:15.196Z"
   },
   {
    "duration": 44,
    "start_time": "2023-05-12T13:46:15.213Z"
   },
   {
    "duration": 139,
    "start_time": "2023-05-12T13:46:15.259Z"
   },
   {
    "duration": 27,
    "start_time": "2023-05-12T13:46:15.401Z"
   },
   {
    "duration": 27,
    "start_time": "2023-05-12T13:46:15.430Z"
   },
   {
    "duration": 29,
    "start_time": "2023-05-12T13:46:15.460Z"
   },
   {
    "duration": 28,
    "start_time": "2023-05-12T13:46:15.491Z"
   },
   {
    "duration": 27,
    "start_time": "2023-05-12T13:46:15.539Z"
   },
   {
    "duration": 140,
    "start_time": "2023-05-12T13:46:15.569Z"
   },
   {
    "duration": 8,
    "start_time": "2023-05-12T13:46:15.711Z"
   },
   {
    "duration": 6,
    "start_time": "2023-05-12T13:46:15.722Z"
   },
   {
    "duration": 30,
    "start_time": "2023-05-12T13:46:15.731Z"
   },
   {
    "duration": 44,
    "start_time": "2023-05-12T13:46:15.764Z"
   },
   {
    "duration": 26,
    "start_time": "2023-05-12T13:46:15.811Z"
   },
   {
    "duration": 5357,
    "start_time": "2023-05-12T13:46:15.839Z"
   },
   {
    "duration": 3,
    "start_time": "2023-05-12T13:46:26.825Z"
   },
   {
    "duration": 142,
    "start_time": "2023-05-12T13:46:26.830Z"
   },
   {
    "duration": 34,
    "start_time": "2023-05-12T13:46:26.975Z"
   },
   {
    "duration": 21,
    "start_time": "2023-05-12T13:46:27.012Z"
   },
   {
    "duration": 39,
    "start_time": "2023-05-12T13:46:27.035Z"
   },
   {
    "duration": 14,
    "start_time": "2023-05-12T13:46:27.076Z"
   },
   {
    "duration": 69,
    "start_time": "2023-05-12T13:46:27.091Z"
   },
   {
    "duration": 12,
    "start_time": "2023-05-12T13:46:27.163Z"
   },
   {
    "duration": 24,
    "start_time": "2023-05-12T13:46:27.177Z"
   },
   {
    "duration": 15,
    "start_time": "2023-05-12T13:46:27.205Z"
   },
   {
    "duration": 134,
    "start_time": "2023-05-12T13:46:27.222Z"
   },
   {
    "duration": 11,
    "start_time": "2023-05-12T13:46:27.358Z"
   },
   {
    "duration": 18,
    "start_time": "2023-05-12T13:46:27.371Z"
   },
   {
    "duration": 28,
    "start_time": "2023-05-12T13:46:27.391Z"
   },
   {
    "duration": 54,
    "start_time": "2023-05-12T13:46:27.422Z"
   },
   {
    "duration": 12,
    "start_time": "2023-05-12T13:46:27.560Z"
   },
   {
    "duration": 120,
    "start_time": "2023-05-12T13:46:27.574Z"
   },
   {
    "duration": 8,
    "start_time": "2023-05-12T13:46:27.696Z"
   },
   {
    "duration": 14,
    "start_time": "2023-05-12T13:46:27.706Z"
   },
   {
    "duration": 14,
    "start_time": "2023-05-12T13:46:27.722Z"
   },
   {
    "duration": 38,
    "start_time": "2023-05-12T13:46:27.738Z"
   },
   {
    "duration": 23,
    "start_time": "2023-05-12T13:46:27.778Z"
   },
   {
    "duration": 6409,
    "start_time": "2023-05-12T13:46:27.803Z"
   },
   {
    "duration": 3,
    "start_time": "2023-05-12T13:51:41.546Z"
   },
   {
    "duration": 115,
    "start_time": "2023-05-12T13:51:41.552Z"
   },
   {
    "duration": 39,
    "start_time": "2023-05-12T13:51:41.669Z"
   },
   {
    "duration": 53,
    "start_time": "2023-05-12T13:51:41.710Z"
   },
   {
    "duration": 23,
    "start_time": "2023-05-12T13:51:41.768Z"
   },
   {
    "duration": 15,
    "start_time": "2023-05-12T13:51:41.794Z"
   },
   {
    "duration": 47,
    "start_time": "2023-05-12T13:51:41.811Z"
   },
   {
    "duration": 14,
    "start_time": "2023-05-12T13:51:41.860Z"
   },
   {
    "duration": 24,
    "start_time": "2023-05-12T13:51:41.876Z"
   },
   {
    "duration": 23,
    "start_time": "2023-05-12T13:51:41.902Z"
   },
   {
    "duration": 111,
    "start_time": "2023-05-12T13:51:41.958Z"
   },
   {
    "duration": 10,
    "start_time": "2023-05-12T13:51:42.071Z"
   },
   {
    "duration": 19,
    "start_time": "2023-05-12T13:51:42.085Z"
   },
   {
    "duration": 52,
    "start_time": "2023-05-12T13:51:42.107Z"
   },
   {
    "duration": 42,
    "start_time": "2023-05-12T13:51:42.162Z"
   },
   {
    "duration": 10,
    "start_time": "2023-05-12T13:51:42.206Z"
   },
   {
    "duration": 175,
    "start_time": "2023-05-12T13:51:42.218Z"
   },
   {
    "duration": 7,
    "start_time": "2023-05-12T13:51:42.395Z"
   },
   {
    "duration": 12,
    "start_time": "2023-05-12T13:51:42.404Z"
   },
   {
    "duration": 17,
    "start_time": "2023-05-12T13:51:42.419Z"
   },
   {
    "duration": 37,
    "start_time": "2023-05-12T13:51:42.438Z"
   },
   {
    "duration": 39,
    "start_time": "2023-05-12T13:51:42.479Z"
   },
   {
    "duration": 420,
    "start_time": "2023-05-12T13:51:42.521Z"
   },
   {
    "duration": 549,
    "start_time": "2023-05-12T13:52:04.633Z"
   },
   {
    "duration": 4,
    "start_time": "2023-05-12T13:52:14.850Z"
   },
   {
    "duration": 138,
    "start_time": "2023-05-12T13:52:14.856Z"
   },
   {
    "duration": 26,
    "start_time": "2023-05-12T13:52:14.996Z"
   },
   {
    "duration": 31,
    "start_time": "2023-05-12T13:52:15.024Z"
   },
   {
    "duration": 16,
    "start_time": "2023-05-12T13:52:15.057Z"
   },
   {
    "duration": 19,
    "start_time": "2023-05-12T13:52:15.074Z"
   },
   {
    "duration": 33,
    "start_time": "2023-05-12T13:52:15.095Z"
   },
   {
    "duration": 34,
    "start_time": "2023-05-12T13:52:15.130Z"
   },
   {
    "duration": 15,
    "start_time": "2023-05-12T13:52:15.166Z"
   },
   {
    "duration": 15,
    "start_time": "2023-05-12T13:52:15.182Z"
   },
   {
    "duration": 138,
    "start_time": "2023-05-12T13:52:15.200Z"
   },
   {
    "duration": 17,
    "start_time": "2023-05-12T13:52:15.340Z"
   },
   {
    "duration": 16,
    "start_time": "2023-05-12T13:52:15.359Z"
   },
   {
    "duration": 16,
    "start_time": "2023-05-12T13:52:15.377Z"
   },
   {
    "duration": 29,
    "start_time": "2023-05-12T13:52:15.397Z"
   },
   {
    "duration": 9,
    "start_time": "2023-05-12T13:52:15.457Z"
   },
   {
    "duration": 127,
    "start_time": "2023-05-12T13:52:15.468Z"
   },
   {
    "duration": 7,
    "start_time": "2023-05-12T13:52:15.597Z"
   },
   {
    "duration": 4,
    "start_time": "2023-05-12T13:52:15.606Z"
   },
   {
    "duration": 9,
    "start_time": "2023-05-12T13:52:15.613Z"
   },
   {
    "duration": 44,
    "start_time": "2023-05-12T13:52:15.624Z"
   },
   {
    "duration": 31,
    "start_time": "2023-05-12T13:52:15.671Z"
   },
   {
    "duration": 569,
    "start_time": "2023-05-12T13:52:15.704Z"
   },
   {
    "duration": 781,
    "start_time": "2023-05-12T13:53:31.721Z"
   },
   {
    "duration": 692,
    "start_time": "2023-05-12T13:53:43.498Z"
   },
   {
    "duration": 522,
    "start_time": "2023-05-12T13:54:18.105Z"
   },
   {
    "duration": 302,
    "start_time": "2023-05-12T13:55:06.453Z"
   },
   {
    "duration": 340,
    "start_time": "2023-05-12T13:55:24.950Z"
   },
   {
    "duration": 15,
    "start_time": "2023-05-12T14:00:54.442Z"
   },
   {
    "duration": 183,
    "start_time": "2023-05-12T14:01:21.479Z"
   },
   {
    "duration": 125,
    "start_time": "2023-05-12T14:01:52.940Z"
   },
   {
    "duration": 17,
    "start_time": "2023-05-12T14:12:31.918Z"
   },
   {
    "duration": 15,
    "start_time": "2023-05-12T14:12:57.312Z"
   },
   {
    "duration": 25,
    "start_time": "2023-05-12T14:16:22.247Z"
   },
   {
    "duration": 33,
    "start_time": "2023-05-12T14:17:47.884Z"
   },
   {
    "duration": 166,
    "start_time": "2023-05-12T14:18:20.686Z"
   },
   {
    "duration": 175,
    "start_time": "2023-05-12T14:25:49.021Z"
   },
   {
    "duration": 210,
    "start_time": "2023-05-12T14:27:55.429Z"
   },
   {
    "duration": 311,
    "start_time": "2023-05-12T14:28:01.084Z"
   },
   {
    "duration": 220,
    "start_time": "2023-05-12T14:31:50.507Z"
   },
   {
    "duration": 289,
    "start_time": "2023-05-12T14:33:27.907Z"
   },
   {
    "duration": 12,
    "start_time": "2023-05-12T14:40:22.327Z"
   },
   {
    "duration": 16,
    "start_time": "2023-05-12T14:40:35.804Z"
   },
   {
    "duration": 244,
    "start_time": "2023-05-12T14:41:04.526Z"
   },
   {
    "duration": 217,
    "start_time": "2023-05-12T14:41:58.412Z"
   },
   {
    "duration": 4,
    "start_time": "2023-05-12T14:43:00.248Z"
   },
   {
    "duration": 266,
    "start_time": "2023-05-12T14:43:00.256Z"
   },
   {
    "duration": 49,
    "start_time": "2023-05-12T14:43:00.524Z"
   },
   {
    "duration": 62,
    "start_time": "2023-05-12T14:43:00.575Z"
   },
   {
    "duration": 43,
    "start_time": "2023-05-12T14:43:00.644Z"
   },
   {
    "duration": 28,
    "start_time": "2023-05-12T14:43:00.698Z"
   },
   {
    "duration": 97,
    "start_time": "2023-05-12T14:43:00.737Z"
   },
   {
    "duration": 15,
    "start_time": "2023-05-12T14:43:00.837Z"
   },
   {
    "duration": 62,
    "start_time": "2023-05-12T14:43:00.858Z"
   },
   {
    "duration": 56,
    "start_time": "2023-05-12T14:43:00.929Z"
   },
   {
    "duration": 222,
    "start_time": "2023-05-12T14:43:01.002Z"
   },
   {
    "duration": 19,
    "start_time": "2023-05-12T14:43:01.226Z"
   },
   {
    "duration": 60,
    "start_time": "2023-05-12T14:43:01.249Z"
   },
   {
    "duration": 37,
    "start_time": "2023-05-12T14:43:01.312Z"
   },
   {
    "duration": 62,
    "start_time": "2023-05-12T14:43:01.355Z"
   },
   {
    "duration": 11,
    "start_time": "2023-05-12T14:43:01.419Z"
   },
   {
    "duration": 217,
    "start_time": "2023-05-12T14:43:01.433Z"
   },
   {
    "duration": 16,
    "start_time": "2023-05-12T14:43:01.654Z"
   },
   {
    "duration": 35,
    "start_time": "2023-05-12T14:43:01.678Z"
   },
   {
    "duration": 47,
    "start_time": "2023-05-12T14:43:01.720Z"
   },
   {
    "duration": 71,
    "start_time": "2023-05-12T14:43:01.774Z"
   },
   {
    "duration": 57,
    "start_time": "2023-05-12T14:43:01.847Z"
   },
   {
    "duration": 175,
    "start_time": "2023-05-12T14:43:01.907Z"
   },
   {
    "duration": 293,
    "start_time": "2023-05-12T14:43:02.085Z"
   },
   {
    "duration": 210,
    "start_time": "2023-05-12T14:43:02.380Z"
   },
   {
    "duration": 210,
    "start_time": "2023-05-12T14:43:02.593Z"
   },
   {
    "duration": 230,
    "start_time": "2023-05-12T14:43:02.806Z"
   },
   {
    "duration": 25,
    "start_time": "2023-05-12T14:51:16.649Z"
   },
   {
    "duration": 209,
    "start_time": "2023-05-12T14:51:43.616Z"
   },
   {
    "duration": 427,
    "start_time": "2023-05-12T14:51:59.317Z"
   },
   {
    "duration": 244,
    "start_time": "2023-05-12T14:52:06.719Z"
   },
   {
    "duration": 241,
    "start_time": "2023-05-12T14:52:21.509Z"
   },
   {
    "duration": 297,
    "start_time": "2023-05-12T14:52:42.237Z"
   },
   {
    "duration": 3271,
    "start_time": "2023-05-12T14:57:13.235Z"
   },
   {
    "duration": 235,
    "start_time": "2023-05-12T14:57:29.850Z"
   },
   {
    "duration": 382,
    "start_time": "2023-05-12T14:57:34.719Z"
   },
   {
    "duration": 19,
    "start_time": "2023-05-12T15:02:55.395Z"
   },
   {
    "duration": 246,
    "start_time": "2023-05-12T15:04:37.747Z"
   },
   {
    "duration": 221,
    "start_time": "2023-05-12T15:05:14.916Z"
   },
   {
    "duration": 1510,
    "start_time": "2023-05-12T15:08:39.146Z"
   },
   {
    "duration": 1666,
    "start_time": "2023-05-12T15:08:50.423Z"
   },
   {
    "duration": 239,
    "start_time": "2023-05-12T15:09:07.731Z"
   },
   {
    "duration": 302,
    "start_time": "2023-05-12T15:09:54.195Z"
   },
   {
    "duration": 477,
    "start_time": "2023-05-12T15:10:19.155Z"
   },
   {
    "duration": 879,
    "start_time": "2023-05-13T03:10:11.756Z"
   },
   {
    "duration": 346,
    "start_time": "2023-05-13T03:10:12.638Z"
   },
   {
    "duration": 52,
    "start_time": "2023-05-13T03:10:12.986Z"
   },
   {
    "duration": 30,
    "start_time": "2023-05-13T03:10:13.041Z"
   },
   {
    "duration": 36,
    "start_time": "2023-05-13T03:10:13.073Z"
   },
   {
    "duration": 23,
    "start_time": "2023-05-13T03:10:13.111Z"
   },
   {
    "duration": 30,
    "start_time": "2023-05-13T03:10:13.136Z"
   },
   {
    "duration": 9,
    "start_time": "2023-05-13T03:10:13.168Z"
   },
   {
    "duration": 39,
    "start_time": "2023-05-13T03:10:13.180Z"
   },
   {
    "duration": 16,
    "start_time": "2023-05-13T03:10:13.221Z"
   },
   {
    "duration": 119,
    "start_time": "2023-05-13T03:10:13.239Z"
   },
   {
    "duration": 10,
    "start_time": "2023-05-13T03:10:13.360Z"
   },
   {
    "duration": 42,
    "start_time": "2023-05-13T03:10:13.372Z"
   },
   {
    "duration": 104,
    "start_time": "2023-05-13T03:10:13.417Z"
   },
   {
    "duration": 34,
    "start_time": "2023-05-13T03:10:58.550Z"
   },
   {
    "duration": 83,
    "start_time": "2023-05-13T03:11:16.888Z"
   },
   {
    "duration": 16,
    "start_time": "2023-05-13T03:11:23.369Z"
   },
   {
    "duration": 29,
    "start_time": "2023-05-13T03:13:56.790Z"
   },
   {
    "duration": 23,
    "start_time": "2023-05-13T03:14:16.780Z"
   },
   {
    "duration": 7,
    "start_time": "2023-05-13T03:17:15.041Z"
   },
   {
    "duration": 551,
    "start_time": "2023-05-13T03:18:03.453Z"
   },
   {
    "duration": 571,
    "start_time": "2023-05-13T03:19:50.543Z"
   },
   {
    "duration": 3,
    "start_time": "2023-05-13T03:35:05.867Z"
   },
   {
    "duration": 174,
    "start_time": "2023-05-13T03:35:05.872Z"
   },
   {
    "duration": 34,
    "start_time": "2023-05-13T03:35:06.048Z"
   },
   {
    "duration": 29,
    "start_time": "2023-05-13T03:35:06.084Z"
   },
   {
    "duration": 41,
    "start_time": "2023-05-13T03:35:06.115Z"
   },
   {
    "duration": 38,
    "start_time": "2023-05-13T03:35:06.158Z"
   },
   {
    "duration": 95,
    "start_time": "2023-05-13T03:35:06.198Z"
   },
   {
    "duration": 47,
    "start_time": "2023-05-13T03:35:06.299Z"
   },
   {
    "duration": 49,
    "start_time": "2023-05-13T03:35:06.349Z"
   },
   {
    "duration": 111,
    "start_time": "2023-05-13T03:35:06.400Z"
   },
   {
    "duration": 196,
    "start_time": "2023-05-13T03:35:06.520Z"
   },
   {
    "duration": 13,
    "start_time": "2023-05-13T03:35:06.719Z"
   },
   {
    "duration": 47,
    "start_time": "2023-05-13T03:35:06.738Z"
   },
   {
    "duration": 32,
    "start_time": "2023-05-13T03:35:06.787Z"
   },
   {
    "duration": 50,
    "start_time": "2023-05-13T03:35:06.821Z"
   },
   {
    "duration": 544,
    "start_time": "2023-05-13T03:35:06.873Z"
   },
   {
    "duration": 491,
    "start_time": "2023-05-13T03:35:07.418Z"
   },
   {
    "duration": 38,
    "start_time": "2023-05-13T03:35:07.914Z"
   },
   {
    "duration": 4,
    "start_time": "2023-05-13T03:35:43.565Z"
   },
   {
    "duration": 147,
    "start_time": "2023-05-13T03:35:43.572Z"
   },
   {
    "duration": 27,
    "start_time": "2023-05-13T03:35:43.720Z"
   },
   {
    "duration": 37,
    "start_time": "2023-05-13T03:35:43.749Z"
   },
   {
    "duration": 32,
    "start_time": "2023-05-13T03:35:43.788Z"
   },
   {
    "duration": 24,
    "start_time": "2023-05-13T03:35:43.822Z"
   },
   {
    "duration": 28,
    "start_time": "2023-05-13T03:35:43.848Z"
   },
   {
    "duration": 17,
    "start_time": "2023-05-13T03:35:43.879Z"
   },
   {
    "duration": 22,
    "start_time": "2023-05-13T03:35:43.903Z"
   },
   {
    "duration": 21,
    "start_time": "2023-05-13T03:35:43.928Z"
   },
   {
    "duration": 145,
    "start_time": "2023-05-13T03:35:43.951Z"
   },
   {
    "duration": 18,
    "start_time": "2023-05-13T03:35:44.100Z"
   },
   {
    "duration": 22,
    "start_time": "2023-05-13T03:35:44.120Z"
   },
   {
    "duration": 22,
    "start_time": "2023-05-13T03:35:44.145Z"
   },
   {
    "duration": 4,
    "start_time": "2023-05-13T03:35:44.169Z"
   },
   {
    "duration": 456,
    "start_time": "2023-05-13T03:35:44.175Z"
   },
   {
    "duration": 699,
    "start_time": "2023-05-13T03:35:44.667Z"
   },
   {
    "duration": 61,
    "start_time": "2023-05-13T03:35:45.368Z"
   },
   {
    "duration": 12,
    "start_time": "2023-05-13T03:40:16.446Z"
   },
   {
    "duration": 3,
    "start_time": "2023-05-13T03:50:37.652Z"
   },
   {
    "duration": 129,
    "start_time": "2023-05-13T03:50:37.658Z"
   },
   {
    "duration": 38,
    "start_time": "2023-05-13T03:50:37.788Z"
   },
   {
    "duration": 32,
    "start_time": "2023-05-13T03:50:37.828Z"
   },
   {
    "duration": 18,
    "start_time": "2023-05-13T03:50:37.862Z"
   },
   {
    "duration": 34,
    "start_time": "2023-05-13T03:50:37.899Z"
   },
   {
    "duration": 41,
    "start_time": "2023-05-13T03:50:37.936Z"
   },
   {
    "duration": 12,
    "start_time": "2023-05-13T03:50:37.979Z"
   },
   {
    "duration": 45,
    "start_time": "2023-05-13T03:50:37.995Z"
   },
   {
    "duration": 26,
    "start_time": "2023-05-13T03:50:38.041Z"
   },
   {
    "duration": 145,
    "start_time": "2023-05-13T03:50:38.069Z"
   },
   {
    "duration": 12,
    "start_time": "2023-05-13T03:50:38.219Z"
   },
   {
    "duration": 34,
    "start_time": "2023-05-13T03:50:38.232Z"
   },
   {
    "duration": 21,
    "start_time": "2023-05-13T03:50:38.269Z"
   },
   {
    "duration": 12,
    "start_time": "2023-05-13T03:50:38.292Z"
   },
   {
    "duration": 497,
    "start_time": "2023-05-13T03:50:38.307Z"
   },
   {
    "duration": 519,
    "start_time": "2023-05-13T03:50:38.809Z"
   },
   {
    "duration": 80,
    "start_time": "2023-05-13T03:50:39.347Z"
   },
   {
    "duration": 3,
    "start_time": "2023-05-13T03:50:53.222Z"
   },
   {
    "duration": 147,
    "start_time": "2023-05-13T03:50:53.228Z"
   },
   {
    "duration": 36,
    "start_time": "2023-05-13T03:50:53.377Z"
   },
   {
    "duration": 28,
    "start_time": "2023-05-13T03:50:53.415Z"
   },
   {
    "duration": 16,
    "start_time": "2023-05-13T03:50:53.446Z"
   },
   {
    "duration": 20,
    "start_time": "2023-05-13T03:50:53.463Z"
   },
   {
    "duration": 38,
    "start_time": "2023-05-13T03:50:53.499Z"
   },
   {
    "duration": 10,
    "start_time": "2023-05-13T03:50:53.539Z"
   },
   {
    "duration": 16,
    "start_time": "2023-05-13T03:50:53.551Z"
   },
   {
    "duration": 44,
    "start_time": "2023-05-13T03:50:53.568Z"
   },
   {
    "duration": 111,
    "start_time": "2023-05-13T03:50:53.615Z"
   },
   {
    "duration": 9,
    "start_time": "2023-05-13T03:50:53.728Z"
   },
   {
    "duration": 52,
    "start_time": "2023-05-13T03:50:53.739Z"
   },
   {
    "duration": 31,
    "start_time": "2023-05-13T03:50:53.793Z"
   },
   {
    "duration": 5,
    "start_time": "2023-05-13T03:50:53.825Z"
   },
   {
    "duration": 480,
    "start_time": "2023-05-13T03:50:53.831Z"
   },
   {
    "duration": 507,
    "start_time": "2023-05-13T03:50:54.312Z"
   },
   {
    "duration": 57,
    "start_time": "2023-05-13T03:50:54.824Z"
   },
   {
    "duration": 44,
    "start_time": "2023-05-13T03:56:54.555Z"
   },
   {
    "duration": 17,
    "start_time": "2023-05-13T04:00:29.644Z"
   },
   {
    "duration": 142,
    "start_time": "2023-05-13T04:03:05.772Z"
   },
   {
    "duration": 180,
    "start_time": "2023-05-13T04:03:18.100Z"
   },
   {
    "duration": 154,
    "start_time": "2023-05-13T04:03:29.319Z"
   },
   {
    "duration": 134,
    "start_time": "2023-05-13T04:04:12.462Z"
   },
   {
    "duration": 3,
    "start_time": "2023-05-13T04:04:19.422Z"
   },
   {
    "duration": 132,
    "start_time": "2023-05-13T04:04:19.427Z"
   },
   {
    "duration": 27,
    "start_time": "2023-05-13T04:04:19.561Z"
   },
   {
    "duration": 27,
    "start_time": "2023-05-13T04:04:19.590Z"
   },
   {
    "duration": 27,
    "start_time": "2023-05-13T04:04:19.619Z"
   },
   {
    "duration": 13,
    "start_time": "2023-05-13T04:04:19.648Z"
   },
   {
    "duration": 37,
    "start_time": "2023-05-13T04:04:19.663Z"
   },
   {
    "duration": 10,
    "start_time": "2023-05-13T04:04:19.701Z"
   },
   {
    "duration": 41,
    "start_time": "2023-05-13T04:04:19.712Z"
   },
   {
    "duration": 14,
    "start_time": "2023-05-13T04:04:19.755Z"
   },
   {
    "duration": 101,
    "start_time": "2023-05-13T04:04:19.772Z"
   },
   {
    "duration": 10,
    "start_time": "2023-05-13T04:04:19.875Z"
   },
   {
    "duration": 20,
    "start_time": "2023-05-13T04:04:19.895Z"
   },
   {
    "duration": 36,
    "start_time": "2023-05-13T04:04:19.917Z"
   },
   {
    "duration": 4,
    "start_time": "2023-05-13T04:04:19.955Z"
   },
   {
    "duration": 467,
    "start_time": "2023-05-13T04:04:19.961Z"
   },
   {
    "duration": 676,
    "start_time": "2023-05-13T04:04:20.445Z"
   },
   {
    "duration": 37,
    "start_time": "2023-05-13T04:04:21.124Z"
   },
   {
    "duration": 39,
    "start_time": "2023-05-13T04:04:21.163Z"
   },
   {
    "duration": 11,
    "start_time": "2023-05-13T04:04:21.204Z"
   },
   {
    "duration": 22,
    "start_time": "2023-05-13T04:04:21.218Z"
   },
   {
    "duration": 220,
    "start_time": "2023-05-13T04:04:21.243Z"
   },
   {
    "duration": 34,
    "start_time": "2023-05-13T04:04:21.465Z"
   },
   {
    "duration": 8,
    "start_time": "2023-05-13T04:04:28.948Z"
   },
   {
    "duration": 215,
    "start_time": "2023-05-13T04:04:30.056Z"
   },
   {
    "duration": 5,
    "start_time": "2023-05-13T04:04:40.692Z"
   },
   {
    "duration": 143,
    "start_time": "2023-05-13T04:04:40.702Z"
   },
   {
    "duration": 26,
    "start_time": "2023-05-13T04:04:40.846Z"
   },
   {
    "duration": 30,
    "start_time": "2023-05-13T04:04:40.874Z"
   },
   {
    "duration": 28,
    "start_time": "2023-05-13T04:04:40.906Z"
   },
   {
    "duration": 11,
    "start_time": "2023-05-13T04:04:40.936Z"
   },
   {
    "duration": 52,
    "start_time": "2023-05-13T04:04:40.948Z"
   },
   {
    "duration": 16,
    "start_time": "2023-05-13T04:04:41.001Z"
   },
   {
    "duration": 16,
    "start_time": "2023-05-13T04:04:41.019Z"
   },
   {
    "duration": 13,
    "start_time": "2023-05-13T04:04:41.037Z"
   },
   {
    "duration": 112,
    "start_time": "2023-05-13T04:04:41.052Z"
   },
   {
    "duration": 9,
    "start_time": "2023-05-13T04:04:41.165Z"
   },
   {
    "duration": 32,
    "start_time": "2023-05-13T04:04:41.175Z"
   },
   {
    "duration": 34,
    "start_time": "2023-05-13T04:04:41.212Z"
   },
   {
    "duration": 4,
    "start_time": "2023-05-13T04:04:41.248Z"
   },
   {
    "duration": 459,
    "start_time": "2023-05-13T04:04:41.254Z"
   },
   {
    "duration": 546,
    "start_time": "2023-05-13T04:04:41.715Z"
   },
   {
    "duration": 68,
    "start_time": "2023-05-13T04:04:42.263Z"
   },
   {
    "duration": 26,
    "start_time": "2023-05-13T04:04:42.333Z"
   },
   {
    "duration": 18,
    "start_time": "2023-05-13T04:04:42.361Z"
   },
   {
    "duration": 23,
    "start_time": "2023-05-13T04:04:42.380Z"
   },
   {
    "duration": 158,
    "start_time": "2023-05-13T04:04:42.404Z"
   },
   {
    "duration": 8,
    "start_time": "2023-05-13T04:04:42.564Z"
   },
   {
    "duration": 141,
    "start_time": "2023-05-13T04:04:42.574Z"
   },
   {
    "duration": 3,
    "start_time": "2023-05-13T04:04:57.720Z"
   },
   {
    "duration": 135,
    "start_time": "2023-05-13T04:04:57.725Z"
   },
   {
    "duration": 42,
    "start_time": "2023-05-13T04:04:57.861Z"
   },
   {
    "duration": 33,
    "start_time": "2023-05-13T04:04:57.907Z"
   },
   {
    "duration": 21,
    "start_time": "2023-05-13T04:04:57.942Z"
   },
   {
    "duration": 42,
    "start_time": "2023-05-13T04:04:57.965Z"
   },
   {
    "duration": 43,
    "start_time": "2023-05-13T04:04:58.009Z"
   },
   {
    "duration": 12,
    "start_time": "2023-05-13T04:04:58.054Z"
   },
   {
    "duration": 49,
    "start_time": "2023-05-13T04:04:58.068Z"
   },
   {
    "duration": 32,
    "start_time": "2023-05-13T04:04:58.122Z"
   },
   {
    "duration": 133,
    "start_time": "2023-05-13T04:04:58.157Z"
   },
   {
    "duration": 12,
    "start_time": "2023-05-13T04:04:58.295Z"
   },
   {
    "duration": 37,
    "start_time": "2023-05-13T04:04:58.313Z"
   },
   {
    "duration": 22,
    "start_time": "2023-05-13T04:04:58.352Z"
   },
   {
    "duration": 5,
    "start_time": "2023-05-13T04:04:58.376Z"
   },
   {
    "duration": 515,
    "start_time": "2023-05-13T04:04:58.383Z"
   },
   {
    "duration": 538,
    "start_time": "2023-05-13T04:04:58.905Z"
   },
   {
    "duration": 87,
    "start_time": "2023-05-13T04:04:59.462Z"
   },
   {
    "duration": 49,
    "start_time": "2023-05-13T04:04:59.551Z"
   },
   {
    "duration": 23,
    "start_time": "2023-05-13T04:04:59.604Z"
   },
   {
    "duration": 15,
    "start_time": "2023-05-13T04:04:59.631Z"
   },
   {
    "duration": 122,
    "start_time": "2023-05-13T04:04:59.651Z"
   },
   {
    "duration": 7,
    "start_time": "2023-05-13T04:04:59.775Z"
   },
   {
    "duration": 149,
    "start_time": "2023-05-13T04:04:59.799Z"
   },
   {
    "duration": 3,
    "start_time": "2023-05-13T04:05:44.830Z"
   },
   {
    "duration": 188,
    "start_time": "2023-05-13T04:05:44.835Z"
   },
   {
    "duration": 41,
    "start_time": "2023-05-13T04:05:45.026Z"
   },
   {
    "duration": 38,
    "start_time": "2023-05-13T04:05:45.069Z"
   },
   {
    "duration": 25,
    "start_time": "2023-05-13T04:05:45.112Z"
   },
   {
    "duration": 24,
    "start_time": "2023-05-13T04:05:45.140Z"
   },
   {
    "duration": 51,
    "start_time": "2023-05-13T04:05:45.166Z"
   },
   {
    "duration": 15,
    "start_time": "2023-05-13T04:05:45.222Z"
   },
   {
    "duration": 22,
    "start_time": "2023-05-13T04:05:45.239Z"
   },
   {
    "duration": 20,
    "start_time": "2023-05-13T04:05:45.263Z"
   },
   {
    "duration": 151,
    "start_time": "2023-05-13T04:05:45.295Z"
   },
   {
    "duration": 19,
    "start_time": "2023-05-13T04:05:45.449Z"
   },
   {
    "duration": 29,
    "start_time": "2023-05-13T04:05:45.471Z"
   },
   {
    "duration": 33,
    "start_time": "2023-05-13T04:05:45.503Z"
   },
   {
    "duration": 23,
    "start_time": "2023-05-13T04:05:45.538Z"
   },
   {
    "duration": 459,
    "start_time": "2023-05-13T04:05:45.563Z"
   },
   {
    "duration": 481,
    "start_time": "2023-05-13T04:05:46.037Z"
   },
   {
    "duration": 65,
    "start_time": "2023-05-13T04:05:46.520Z"
   },
   {
    "duration": 47,
    "start_time": "2023-05-13T04:05:46.588Z"
   },
   {
    "duration": 23,
    "start_time": "2023-05-13T04:05:46.640Z"
   },
   {
    "duration": 13,
    "start_time": "2023-05-13T04:05:46.666Z"
   },
   {
    "duration": 194,
    "start_time": "2023-05-13T04:05:46.681Z"
   },
   {
    "duration": 3,
    "start_time": "2023-05-13T04:05:46.878Z"
   },
   {
    "duration": 177,
    "start_time": "2023-05-13T04:05:46.884Z"
   },
   {
    "duration": 3,
    "start_time": "2023-05-13T04:06:25.630Z"
   },
   {
    "duration": 199,
    "start_time": "2023-05-13T04:06:25.636Z"
   },
   {
    "duration": 42,
    "start_time": "2023-05-13T04:06:25.837Z"
   },
   {
    "duration": 49,
    "start_time": "2023-05-13T04:06:25.881Z"
   },
   {
    "duration": 31,
    "start_time": "2023-05-13T04:06:25.933Z"
   },
   {
    "duration": 16,
    "start_time": "2023-05-13T04:06:25.966Z"
   },
   {
    "duration": 42,
    "start_time": "2023-05-13T04:06:25.984Z"
   },
   {
    "duration": 23,
    "start_time": "2023-05-13T04:06:26.029Z"
   },
   {
    "duration": 21,
    "start_time": "2023-05-13T04:06:26.054Z"
   },
   {
    "duration": 32,
    "start_time": "2023-05-13T04:06:26.077Z"
   },
   {
    "duration": 138,
    "start_time": "2023-05-13T04:06:26.111Z"
   },
   {
    "duration": 14,
    "start_time": "2023-05-13T04:06:26.251Z"
   },
   {
    "duration": 42,
    "start_time": "2023-05-13T04:06:26.268Z"
   },
   {
    "duration": 30,
    "start_time": "2023-05-13T04:06:26.312Z"
   },
   {
    "duration": 12,
    "start_time": "2023-05-13T04:06:26.343Z"
   },
   {
    "duration": 407,
    "start_time": "2023-05-13T04:06:26.357Z"
   },
   {
    "duration": 435,
    "start_time": "2023-05-13T04:06:26.797Z"
   },
   {
    "duration": 119,
    "start_time": "2023-05-13T04:06:27.236Z"
   },
   {
    "duration": 58,
    "start_time": "2023-05-13T04:06:27.358Z"
   },
   {
    "duration": 36,
    "start_time": "2023-05-13T04:06:27.418Z"
   },
   {
    "duration": 12,
    "start_time": "2023-05-13T04:06:27.456Z"
   },
   {
    "duration": 164,
    "start_time": "2023-05-13T04:06:27.470Z"
   },
   {
    "duration": 3,
    "start_time": "2023-05-13T04:06:27.636Z"
   },
   {
    "duration": 17,
    "start_time": "2023-05-13T04:06:27.642Z"
   },
   {
    "duration": 13,
    "start_time": "2023-05-13T04:07:00.974Z"
   },
   {
    "duration": 27,
    "start_time": "2023-05-13T04:07:10.860Z"
   },
   {
    "duration": 12,
    "start_time": "2023-05-13T04:07:48.734Z"
   },
   {
    "duration": 29,
    "start_time": "2023-05-13T04:09:00.614Z"
   },
   {
    "duration": 12,
    "start_time": "2023-05-13T04:09:25.323Z"
   },
   {
    "duration": 6,
    "start_time": "2023-05-13T04:10:03.284Z"
   },
   {
    "duration": 220,
    "start_time": "2023-05-13T04:10:03.295Z"
   },
   {
    "duration": 32,
    "start_time": "2023-05-13T04:10:03.522Z"
   },
   {
    "duration": 22,
    "start_time": "2023-05-13T04:10:03.557Z"
   },
   {
    "duration": 57,
    "start_time": "2023-05-13T04:10:03.581Z"
   },
   {
    "duration": 14,
    "start_time": "2023-05-13T04:10:03.640Z"
   },
   {
    "duration": 46,
    "start_time": "2023-05-13T04:10:03.656Z"
   },
   {
    "duration": 9,
    "start_time": "2023-05-13T04:10:03.704Z"
   },
   {
    "duration": 74,
    "start_time": "2023-05-13T04:10:03.715Z"
   },
   {
    "duration": 52,
    "start_time": "2023-05-13T04:10:03.793Z"
   },
   {
    "duration": 135,
    "start_time": "2023-05-13T04:10:03.847Z"
   },
   {
    "duration": 21,
    "start_time": "2023-05-13T04:10:03.984Z"
   },
   {
    "duration": 38,
    "start_time": "2023-05-13T04:10:04.010Z"
   },
   {
    "duration": 28,
    "start_time": "2023-05-13T04:10:04.050Z"
   },
   {
    "duration": 5,
    "start_time": "2023-05-13T04:10:04.080Z"
   },
   {
    "duration": 444,
    "start_time": "2023-05-13T04:10:04.087Z"
   },
   {
    "duration": 549,
    "start_time": "2023-05-13T04:10:04.556Z"
   },
   {
    "duration": 31,
    "start_time": "2023-05-13T04:10:05.108Z"
   },
   {
    "duration": 26,
    "start_time": "2023-05-13T04:10:05.141Z"
   },
   {
    "duration": 10,
    "start_time": "2023-05-13T04:10:05.168Z"
   },
   {
    "duration": 13,
    "start_time": "2023-05-13T04:10:05.197Z"
   },
   {
    "duration": 205,
    "start_time": "2023-05-13T04:10:05.212Z"
   },
   {
    "duration": 3,
    "start_time": "2023-05-13T04:10:05.419Z"
   },
   {
    "duration": 23,
    "start_time": "2023-05-13T04:10:05.424Z"
   },
   {
    "duration": 29,
    "start_time": "2023-05-13T04:10:24.786Z"
   },
   {
    "duration": 135,
    "start_time": "2023-05-13T04:11:55.810Z"
   },
   {
    "duration": 129,
    "start_time": "2023-05-13T04:13:08.641Z"
   },
   {
    "duration": 10,
    "start_time": "2023-05-13T04:13:38.719Z"
   },
   {
    "duration": 167,
    "start_time": "2023-05-13T04:13:38.731Z"
   },
   {
    "duration": 44,
    "start_time": "2023-05-13T04:13:38.903Z"
   },
   {
    "duration": 31,
    "start_time": "2023-05-13T04:13:38.949Z"
   },
   {
    "duration": 48,
    "start_time": "2023-05-13T04:13:38.982Z"
   },
   {
    "duration": 22,
    "start_time": "2023-05-13T04:13:39.033Z"
   },
   {
    "duration": 43,
    "start_time": "2023-05-13T04:13:39.056Z"
   },
   {
    "duration": 16,
    "start_time": "2023-05-13T04:13:39.101Z"
   },
   {
    "duration": 47,
    "start_time": "2023-05-13T04:13:39.119Z"
   },
   {
    "duration": 13,
    "start_time": "2023-05-13T04:13:39.168Z"
   },
   {
    "duration": 157,
    "start_time": "2023-05-13T04:13:39.183Z"
   },
   {
    "duration": 14,
    "start_time": "2023-05-13T04:13:39.342Z"
   },
   {
    "duration": 56,
    "start_time": "2023-05-13T04:13:39.358Z"
   },
   {
    "duration": 48,
    "start_time": "2023-05-13T04:13:39.417Z"
   },
   {
    "duration": 7,
    "start_time": "2023-05-13T04:13:39.467Z"
   },
   {
    "duration": 657,
    "start_time": "2023-05-13T04:13:39.476Z"
   },
   {
    "duration": 573,
    "start_time": "2023-05-13T04:13:40.134Z"
   },
   {
    "duration": 49,
    "start_time": "2023-05-13T04:13:40.709Z"
   },
   {
    "duration": 36,
    "start_time": "2023-05-13T04:13:40.761Z"
   },
   {
    "duration": 42,
    "start_time": "2023-05-13T04:13:40.799Z"
   },
   {
    "duration": 11,
    "start_time": "2023-05-13T04:13:40.843Z"
   },
   {
    "duration": 122,
    "start_time": "2023-05-13T04:13:40.856Z"
   },
   {
    "duration": 3,
    "start_time": "2023-05-13T04:13:40.980Z"
   },
   {
    "duration": 124,
    "start_time": "2023-05-13T04:13:47.948Z"
   },
   {
    "duration": 7,
    "start_time": "2023-05-13T04:15:15.121Z"
   },
   {
    "duration": 136,
    "start_time": "2023-05-13T04:15:15.129Z"
   },
   {
    "duration": 24,
    "start_time": "2023-05-13T04:15:15.266Z"
   },
   {
    "duration": 32,
    "start_time": "2023-05-13T04:15:15.292Z"
   },
   {
    "duration": 30,
    "start_time": "2023-05-13T04:15:15.326Z"
   },
   {
    "duration": 15,
    "start_time": "2023-05-13T04:15:15.358Z"
   },
   {
    "duration": 50,
    "start_time": "2023-05-13T04:15:15.375Z"
   },
   {
    "duration": 12,
    "start_time": "2023-05-13T04:15:15.427Z"
   },
   {
    "duration": 17,
    "start_time": "2023-05-13T04:15:15.441Z"
   },
   {
    "duration": 36,
    "start_time": "2023-05-13T04:15:15.461Z"
   },
   {
    "duration": 151,
    "start_time": "2023-05-13T04:15:15.501Z"
   },
   {
    "duration": 11,
    "start_time": "2023-05-13T04:15:15.653Z"
   },
   {
    "duration": 168,
    "start_time": "2023-05-13T04:15:15.667Z"
   },
   {
    "duration": 21,
    "start_time": "2023-05-13T04:15:15.837Z"
   },
   {
    "duration": 6,
    "start_time": "2023-05-13T04:15:15.861Z"
   },
   {
    "duration": 493,
    "start_time": "2023-05-13T04:15:15.868Z"
   },
   {
    "duration": 495,
    "start_time": "2023-05-13T04:15:16.362Z"
   },
   {
    "duration": 58,
    "start_time": "2023-05-13T04:15:16.860Z"
   },
   {
    "duration": 37,
    "start_time": "2023-05-13T04:15:16.922Z"
   },
   {
    "duration": 12,
    "start_time": "2023-05-13T04:15:16.961Z"
   },
   {
    "duration": 16,
    "start_time": "2023-05-13T04:15:16.995Z"
   },
   {
    "duration": 116,
    "start_time": "2023-05-13T04:15:56.941Z"
   },
   {
    "duration": 9,
    "start_time": "2023-05-13T04:16:09.954Z"
   },
   {
    "duration": 125,
    "start_time": "2023-05-13T04:16:14.941Z"
   },
   {
    "duration": 167,
    "start_time": "2023-05-13T04:17:40.321Z"
   },
   {
    "duration": 15,
    "start_time": "2023-05-13T04:19:10.949Z"
   },
   {
    "duration": 3,
    "start_time": "2023-05-13T04:19:19.635Z"
   },
   {
    "duration": 205,
    "start_time": "2023-05-13T04:19:19.640Z"
   },
   {
    "duration": 33,
    "start_time": "2023-05-13T04:19:19.847Z"
   },
   {
    "duration": 37,
    "start_time": "2023-05-13T04:19:19.882Z"
   },
   {
    "duration": 62,
    "start_time": "2023-05-13T04:19:19.926Z"
   },
   {
    "duration": 73,
    "start_time": "2023-05-13T04:19:19.989Z"
   },
   {
    "duration": 181,
    "start_time": "2023-05-13T04:19:20.065Z"
   },
   {
    "duration": 9,
    "start_time": "2023-05-13T04:19:20.247Z"
   },
   {
    "duration": 25,
    "start_time": "2023-05-13T04:19:20.258Z"
   },
   {
    "duration": 98,
    "start_time": "2023-05-13T04:19:20.285Z"
   },
   {
    "duration": 165,
    "start_time": "2023-05-13T04:19:20.385Z"
   },
   {
    "duration": 24,
    "start_time": "2023-05-13T04:19:20.552Z"
   },
   {
    "duration": 214,
    "start_time": "2023-05-13T04:19:20.578Z"
   },
   {
    "duration": 62,
    "start_time": "2023-05-13T04:19:20.796Z"
   },
   {
    "duration": 24,
    "start_time": "2023-05-13T04:19:20.868Z"
   },
   {
    "duration": 514,
    "start_time": "2023-05-13T04:19:20.897Z"
   },
   {
    "duration": 454,
    "start_time": "2023-05-13T04:19:21.412Z"
   },
   {
    "duration": 55,
    "start_time": "2023-05-13T04:19:21.870Z"
   },
   {
    "duration": 37,
    "start_time": "2023-05-13T04:19:21.930Z"
   },
   {
    "duration": 21,
    "start_time": "2023-05-13T04:19:21.969Z"
   },
   {
    "duration": 201,
    "start_time": "2023-05-13T04:19:21.992Z"
   },
   {
    "duration": 25,
    "start_time": "2023-05-13T04:19:25.327Z"
   },
   {
    "duration": 3,
    "start_time": "2023-05-13T04:29:19.280Z"
   },
   {
    "duration": 231,
    "start_time": "2023-05-13T04:29:19.286Z"
   },
   {
    "duration": 37,
    "start_time": "2023-05-13T04:29:19.520Z"
   },
   {
    "duration": 22,
    "start_time": "2023-05-13T04:29:19.559Z"
   },
   {
    "duration": 28,
    "start_time": "2023-05-13T04:29:19.583Z"
   },
   {
    "duration": 37,
    "start_time": "2023-05-13T04:29:19.615Z"
   },
   {
    "duration": 27,
    "start_time": "2023-05-13T04:29:19.654Z"
   },
   {
    "duration": 10,
    "start_time": "2023-05-13T04:29:19.683Z"
   },
   {
    "duration": 33,
    "start_time": "2023-05-13T04:29:19.697Z"
   },
   {
    "duration": 30,
    "start_time": "2023-05-13T04:29:19.732Z"
   },
   {
    "duration": 138,
    "start_time": "2023-05-13T04:29:19.764Z"
   },
   {
    "duration": 19,
    "start_time": "2023-05-13T04:29:19.907Z"
   },
   {
    "duration": 139,
    "start_time": "2023-05-13T04:29:19.936Z"
   },
   {
    "duration": 26,
    "start_time": "2023-05-13T04:29:20.079Z"
   },
   {
    "duration": 10,
    "start_time": "2023-05-13T04:29:20.110Z"
   },
   {
    "duration": 456,
    "start_time": "2023-05-13T04:29:20.122Z"
   },
   {
    "duration": 636,
    "start_time": "2023-05-13T04:29:20.579Z"
   },
   {
    "duration": 45,
    "start_time": "2023-05-13T04:29:21.217Z"
   },
   {
    "duration": 63,
    "start_time": "2023-05-13T04:29:21.264Z"
   },
   {
    "duration": 14,
    "start_time": "2023-05-13T04:29:21.329Z"
   },
   {
    "duration": 165,
    "start_time": "2023-05-13T04:29:21.345Z"
   },
   {
    "duration": 14,
    "start_time": "2023-05-13T04:29:21.512Z"
   },
   {
    "duration": 9,
    "start_time": "2023-05-13T04:29:57.368Z"
   },
   {
    "duration": 6,
    "start_time": "2023-05-13T04:30:07.818Z"
   },
   {
    "duration": 226,
    "start_time": "2023-05-13T04:30:07.828Z"
   },
   {
    "duration": 46,
    "start_time": "2023-05-13T04:30:08.057Z"
   },
   {
    "duration": 39,
    "start_time": "2023-05-13T04:30:08.106Z"
   },
   {
    "duration": 29,
    "start_time": "2023-05-13T04:30:08.152Z"
   },
   {
    "duration": 16,
    "start_time": "2023-05-13T04:30:08.184Z"
   },
   {
    "duration": 117,
    "start_time": "2023-05-13T04:30:08.202Z"
   },
   {
    "duration": 26,
    "start_time": "2023-05-13T04:30:08.322Z"
   },
   {
    "duration": 25,
    "start_time": "2023-05-13T04:30:08.352Z"
   },
   {
    "duration": 42,
    "start_time": "2023-05-13T04:30:08.379Z"
   },
   {
    "duration": 202,
    "start_time": "2023-05-13T04:30:08.424Z"
   },
   {
    "duration": 16,
    "start_time": "2023-05-13T04:30:08.630Z"
   },
   {
    "duration": 185,
    "start_time": "2023-05-13T04:30:08.649Z"
   },
   {
    "duration": 35,
    "start_time": "2023-05-13T04:30:08.837Z"
   },
   {
    "duration": 6,
    "start_time": "2023-05-13T04:30:08.874Z"
   },
   {
    "duration": 451,
    "start_time": "2023-05-13T04:30:08.881Z"
   },
   {
    "duration": 621,
    "start_time": "2023-05-13T04:30:09.397Z"
   },
   {
    "duration": 50,
    "start_time": "2023-05-13T04:30:10.019Z"
   },
   {
    "duration": 49,
    "start_time": "2023-05-13T04:30:10.072Z"
   },
   {
    "duration": 30,
    "start_time": "2023-05-13T04:30:10.127Z"
   },
   {
    "duration": 176,
    "start_time": "2023-05-13T04:30:10.160Z"
   },
   {
    "duration": 26,
    "start_time": "2023-05-13T04:30:10.338Z"
   },
   {
    "duration": 5,
    "start_time": "2023-05-13T04:30:50.991Z"
   },
   {
    "duration": 167,
    "start_time": "2023-05-13T04:30:51.003Z"
   },
   {
    "duration": 38,
    "start_time": "2023-05-13T04:30:51.172Z"
   },
   {
    "duration": 30,
    "start_time": "2023-05-13T04:30:51.212Z"
   },
   {
    "duration": 20,
    "start_time": "2023-05-13T04:30:51.246Z"
   },
   {
    "duration": 39,
    "start_time": "2023-05-13T04:30:51.269Z"
   },
   {
    "duration": 38,
    "start_time": "2023-05-13T04:30:51.310Z"
   },
   {
    "duration": 12,
    "start_time": "2023-05-13T04:30:51.351Z"
   },
   {
    "duration": 37,
    "start_time": "2023-05-13T04:30:51.365Z"
   },
   {
    "duration": 20,
    "start_time": "2023-05-13T04:30:51.411Z"
   },
   {
    "duration": 102,
    "start_time": "2023-05-13T04:30:51.433Z"
   },
   {
    "duration": 10,
    "start_time": "2023-05-13T04:30:51.536Z"
   },
   {
    "duration": 171,
    "start_time": "2023-05-13T04:30:51.549Z"
   },
   {
    "duration": 20,
    "start_time": "2023-05-13T04:30:51.722Z"
   },
   {
    "duration": 6,
    "start_time": "2023-05-13T04:30:51.746Z"
   },
   {
    "duration": 460,
    "start_time": "2023-05-13T04:30:51.753Z"
   },
   {
    "duration": 522,
    "start_time": "2023-05-13T04:30:52.234Z"
   },
   {
    "duration": 53,
    "start_time": "2023-05-13T04:30:52.760Z"
   },
   {
    "duration": 40,
    "start_time": "2023-05-13T04:30:52.815Z"
   },
   {
    "duration": 8,
    "start_time": "2023-05-13T04:30:52.857Z"
   },
   {
    "duration": 196,
    "start_time": "2023-05-13T04:30:52.867Z"
   },
   {
    "duration": 48,
    "start_time": "2023-05-13T04:30:53.065Z"
   },
   {
    "duration": 6,
    "start_time": "2023-05-13T04:31:28.696Z"
   },
   {
    "duration": 167,
    "start_time": "2023-05-13T04:31:28.706Z"
   },
   {
    "duration": 41,
    "start_time": "2023-05-13T04:31:28.875Z"
   },
   {
    "duration": 30,
    "start_time": "2023-05-13T04:31:28.921Z"
   },
   {
    "duration": 20,
    "start_time": "2023-05-13T04:31:28.954Z"
   },
   {
    "duration": 34,
    "start_time": "2023-05-13T04:31:28.976Z"
   },
   {
    "duration": 52,
    "start_time": "2023-05-13T04:31:29.012Z"
   },
   {
    "duration": 11,
    "start_time": "2023-05-13T04:31:29.066Z"
   },
   {
    "duration": 28,
    "start_time": "2023-05-13T04:31:29.079Z"
   },
   {
    "duration": 27,
    "start_time": "2023-05-13T04:31:29.117Z"
   },
   {
    "duration": 111,
    "start_time": "2023-05-13T04:31:29.147Z"
   },
   {
    "duration": 13,
    "start_time": "2023-05-13T04:31:29.260Z"
   },
   {
    "duration": 175,
    "start_time": "2023-05-13T04:31:29.275Z"
   },
   {
    "duration": 22,
    "start_time": "2023-05-13T04:31:29.451Z"
   },
   {
    "duration": 31,
    "start_time": "2023-05-13T04:31:29.475Z"
   },
   {
    "duration": 492,
    "start_time": "2023-05-13T04:31:29.513Z"
   },
   {
    "duration": 520,
    "start_time": "2023-05-13T04:31:30.009Z"
   },
   {
    "duration": 75,
    "start_time": "2023-05-13T04:31:30.546Z"
   },
   {
    "duration": 62,
    "start_time": "2023-05-13T04:31:30.624Z"
   },
   {
    "duration": 78,
    "start_time": "2023-05-13T04:31:30.688Z"
   },
   {
    "duration": 127,
    "start_time": "2023-05-13T04:31:30.769Z"
   },
   {
    "duration": 22,
    "start_time": "2023-05-13T04:31:34.015Z"
   },
   {
    "duration": 13,
    "start_time": "2023-05-13T04:31:47.615Z"
   },
   {
    "duration": 157,
    "start_time": "2023-05-13T04:32:02.161Z"
   },
   {
    "duration": 150,
    "start_time": "2023-05-13T04:35:11.646Z"
   },
   {
    "duration": 145,
    "start_time": "2023-05-13T04:35:29.387Z"
   },
   {
    "duration": 155,
    "start_time": "2023-05-13T04:36:42.525Z"
   },
   {
    "duration": 122,
    "start_time": "2023-05-13T04:45:21.648Z"
   },
   {
    "duration": 173,
    "start_time": "2023-05-13T04:45:51.190Z"
   },
   {
    "duration": 17,
    "start_time": "2023-05-13T04:46:37.874Z"
   },
   {
    "duration": 36,
    "start_time": "2023-05-13T04:47:53.419Z"
   },
   {
    "duration": 18,
    "start_time": "2023-05-13T04:48:02.931Z"
   },
   {
    "duration": 23,
    "start_time": "2023-05-13T04:48:35.882Z"
   },
   {
    "duration": 5,
    "start_time": "2023-05-13T04:50:25.325Z"
   },
   {
    "duration": 144,
    "start_time": "2023-05-13T04:50:25.332Z"
   },
   {
    "duration": 40,
    "start_time": "2023-05-13T04:50:25.478Z"
   },
   {
    "duration": 33,
    "start_time": "2023-05-13T04:50:25.520Z"
   },
   {
    "duration": 20,
    "start_time": "2023-05-13T04:50:25.556Z"
   },
   {
    "duration": 25,
    "start_time": "2023-05-13T04:50:25.578Z"
   },
   {
    "duration": 146,
    "start_time": "2023-05-13T04:50:25.605Z"
   },
   {
    "duration": 28,
    "start_time": "2023-05-13T04:50:25.753Z"
   },
   {
    "duration": 66,
    "start_time": "2023-05-13T04:50:25.784Z"
   },
   {
    "duration": 19,
    "start_time": "2023-05-13T04:50:25.852Z"
   },
   {
    "duration": 158,
    "start_time": "2023-05-13T04:50:25.875Z"
   },
   {
    "duration": 13,
    "start_time": "2023-05-13T04:50:26.035Z"
   },
   {
    "duration": 201,
    "start_time": "2023-05-13T04:50:26.052Z"
   },
   {
    "duration": 23,
    "start_time": "2023-05-13T04:50:26.255Z"
   },
   {
    "duration": 5,
    "start_time": "2023-05-13T04:50:26.280Z"
   },
   {
    "duration": 511,
    "start_time": "2023-05-13T04:50:26.286Z"
   },
   {
    "duration": 398,
    "start_time": "2023-05-13T04:50:26.801Z"
   },
   {
    "duration": 49,
    "start_time": "2023-05-13T04:50:27.219Z"
   },
   {
    "duration": 64,
    "start_time": "2023-05-13T04:50:27.270Z"
   },
   {
    "duration": 24,
    "start_time": "2023-05-13T04:50:27.336Z"
   },
   {
    "duration": 130,
    "start_time": "2023-05-13T04:50:27.362Z"
   },
   {
    "duration": 12,
    "start_time": "2023-05-13T04:50:27.494Z"
   },
   {
    "duration": 158,
    "start_time": "2023-05-13T04:50:27.508Z"
   },
   {
    "duration": 150,
    "start_time": "2023-05-13T04:50:27.670Z"
   },
   {
    "duration": 164,
    "start_time": "2023-05-13T04:50:27.822Z"
   },
   {
    "duration": 16,
    "start_time": "2023-05-13T04:50:27.988Z"
   },
   {
    "duration": 225,
    "start_time": "2023-05-13T04:50:28.006Z"
   },
   {
    "duration": 15,
    "start_time": "2023-05-13T04:50:56.216Z"
   },
   {
    "duration": 16,
    "start_time": "2023-05-13T04:51:20.344Z"
   },
   {
    "duration": 3,
    "start_time": "2023-05-13T04:51:37.931Z"
   },
   {
    "duration": 141,
    "start_time": "2023-05-13T04:51:37.936Z"
   },
   {
    "duration": 42,
    "start_time": "2023-05-13T04:51:38.079Z"
   },
   {
    "duration": 23,
    "start_time": "2023-05-13T04:51:38.124Z"
   },
   {
    "duration": 18,
    "start_time": "2023-05-13T04:51:38.148Z"
   },
   {
    "duration": 44,
    "start_time": "2023-05-13T04:51:38.168Z"
   },
   {
    "duration": 54,
    "start_time": "2023-05-13T04:51:38.216Z"
   },
   {
    "duration": 9,
    "start_time": "2023-05-13T04:51:38.273Z"
   },
   {
    "duration": 36,
    "start_time": "2023-05-13T04:51:38.300Z"
   },
   {
    "duration": 29,
    "start_time": "2023-05-13T04:51:38.338Z"
   },
   {
    "duration": 161,
    "start_time": "2023-05-13T04:51:38.369Z"
   },
   {
    "duration": 12,
    "start_time": "2023-05-13T04:51:38.532Z"
   },
   {
    "duration": 215,
    "start_time": "2023-05-13T04:51:38.546Z"
   },
   {
    "duration": 44,
    "start_time": "2023-05-13T04:51:38.763Z"
   },
   {
    "duration": 11,
    "start_time": "2023-05-13T04:51:38.809Z"
   },
   {
    "duration": 444,
    "start_time": "2023-05-13T04:51:38.822Z"
   },
   {
    "duration": 544,
    "start_time": "2023-05-13T04:51:39.305Z"
   },
   {
    "duration": 80,
    "start_time": "2023-05-13T04:51:39.859Z"
   },
   {
    "duration": 43,
    "start_time": "2023-05-13T04:51:39.941Z"
   },
   {
    "duration": 14,
    "start_time": "2023-05-13T04:51:39.994Z"
   },
   {
    "duration": 153,
    "start_time": "2023-05-13T04:51:40.012Z"
   },
   {
    "duration": 10,
    "start_time": "2023-05-13T04:51:40.167Z"
   },
   {
    "duration": 226,
    "start_time": "2023-05-13T04:51:40.179Z"
   },
   {
    "duration": 168,
    "start_time": "2023-05-13T04:51:40.409Z"
   },
   {
    "duration": 158,
    "start_time": "2023-05-13T04:51:40.579Z"
   },
   {
    "duration": 8,
    "start_time": "2023-05-13T04:51:40.738Z"
   },
   {
    "duration": 170,
    "start_time": "2023-05-13T04:51:40.748Z"
   },
   {
    "duration": 147,
    "start_time": "2023-05-13T04:52:30.441Z"
   },
   {
    "duration": 3,
    "start_time": "2023-05-13T04:53:04.839Z"
   },
   {
    "duration": 192,
    "start_time": "2023-05-13T04:53:04.845Z"
   },
   {
    "duration": 32,
    "start_time": "2023-05-13T04:53:05.039Z"
   },
   {
    "duration": 29,
    "start_time": "2023-05-13T04:53:05.074Z"
   },
   {
    "duration": 29,
    "start_time": "2023-05-13T04:53:05.106Z"
   },
   {
    "duration": 22,
    "start_time": "2023-05-13T04:53:05.139Z"
   },
   {
    "duration": 40,
    "start_time": "2023-05-13T04:53:05.164Z"
   },
   {
    "duration": 9,
    "start_time": "2023-05-13T04:53:05.208Z"
   },
   {
    "duration": 48,
    "start_time": "2023-05-13T04:53:05.219Z"
   },
   {
    "duration": 18,
    "start_time": "2023-05-13T04:53:05.269Z"
   },
   {
    "duration": 130,
    "start_time": "2023-05-13T04:53:05.288Z"
   },
   {
    "duration": 15,
    "start_time": "2023-05-13T04:53:05.429Z"
   },
   {
    "duration": 142,
    "start_time": "2023-05-13T04:53:05.446Z"
   },
   {
    "duration": 28,
    "start_time": "2023-05-13T04:53:05.591Z"
   },
   {
    "duration": 35,
    "start_time": "2023-05-13T04:53:05.621Z"
   },
   {
    "duration": 442,
    "start_time": "2023-05-13T04:53:05.658Z"
   },
   {
    "duration": 502,
    "start_time": "2023-05-13T04:53:06.104Z"
   },
   {
    "duration": 64,
    "start_time": "2023-05-13T04:53:06.633Z"
   },
   {
    "duration": 45,
    "start_time": "2023-05-13T04:53:06.701Z"
   },
   {
    "duration": 34,
    "start_time": "2023-05-13T04:53:06.749Z"
   },
   {
    "duration": 188,
    "start_time": "2023-05-13T04:53:06.786Z"
   },
   {
    "duration": 9,
    "start_time": "2023-05-13T04:53:06.975Z"
   },
   {
    "duration": 242,
    "start_time": "2023-05-13T04:53:06.986Z"
   },
   {
    "duration": 151,
    "start_time": "2023-05-13T04:53:07.238Z"
   },
   {
    "duration": 173,
    "start_time": "2023-05-13T04:53:07.391Z"
   },
   {
    "duration": 26,
    "start_time": "2023-05-13T04:53:07.566Z"
   },
   {
    "duration": 128,
    "start_time": "2023-05-13T04:53:25.626Z"
   },
   {
    "duration": 252,
    "start_time": "2023-05-13T04:53:38.037Z"
   },
   {
    "duration": 5,
    "start_time": "2023-05-13T04:53:45.222Z"
   },
   {
    "duration": 25,
    "start_time": "2023-05-13T05:54:24.267Z"
   },
   {
    "duration": 2,
    "start_time": "2023-05-13T05:54:34.946Z"
   },
   {
    "duration": 189,
    "start_time": "2023-05-13T05:54:34.950Z"
   },
   {
    "duration": 35,
    "start_time": "2023-05-13T05:54:35.141Z"
   },
   {
    "duration": 40,
    "start_time": "2023-05-13T05:54:35.178Z"
   },
   {
    "duration": 47,
    "start_time": "2023-05-13T05:54:35.221Z"
   },
   {
    "duration": 31,
    "start_time": "2023-05-13T05:54:35.270Z"
   },
   {
    "duration": 64,
    "start_time": "2023-05-13T05:54:35.303Z"
   },
   {
    "duration": 11,
    "start_time": "2023-05-13T05:54:35.369Z"
   },
   {
    "duration": 55,
    "start_time": "2023-05-13T05:54:35.382Z"
   },
   {
    "duration": 20,
    "start_time": "2023-05-13T05:54:35.439Z"
   },
   {
    "duration": 113,
    "start_time": "2023-05-13T05:54:35.460Z"
   },
   {
    "duration": 9,
    "start_time": "2023-05-13T05:54:35.575Z"
   },
   {
    "duration": 161,
    "start_time": "2023-05-13T05:54:35.585Z"
   },
   {
    "duration": 20,
    "start_time": "2023-05-13T05:54:35.749Z"
   },
   {
    "duration": 65,
    "start_time": "2023-05-13T05:54:35.771Z"
   },
   {
    "duration": 417,
    "start_time": "2023-05-13T05:54:35.838Z"
   },
   {
    "duration": 540,
    "start_time": "2023-05-13T05:54:36.268Z"
   },
   {
    "duration": 39,
    "start_time": "2023-05-13T05:54:36.810Z"
   },
   {
    "duration": 46,
    "start_time": "2023-05-13T05:54:36.851Z"
   },
   {
    "duration": 11,
    "start_time": "2023-05-13T05:54:36.901Z"
   },
   {
    "duration": 139,
    "start_time": "2023-05-13T05:54:36.913Z"
   },
   {
    "duration": 7,
    "start_time": "2023-05-13T05:54:37.053Z"
   },
   {
    "duration": 120,
    "start_time": "2023-05-13T05:54:37.061Z"
   },
   {
    "duration": 127,
    "start_time": "2023-05-13T05:54:37.182Z"
   },
   {
    "duration": 135,
    "start_time": "2023-05-13T05:54:37.311Z"
   },
   {
    "duration": 114,
    "start_time": "2023-05-13T05:54:37.448Z"
   },
   {
    "duration": 139,
    "start_time": "2023-05-13T05:54:37.564Z"
   },
   {
    "duration": 3,
    "start_time": "2023-05-13T05:54:37.704Z"
   },
   {
    "duration": 37,
    "start_time": "2023-05-13T05:54:37.708Z"
   },
   {
    "duration": 26,
    "start_time": "2023-05-13T05:54:37.746Z"
   },
   {
    "duration": 30,
    "start_time": "2023-05-13T05:54:37.773Z"
   },
   {
    "duration": 96,
    "start_time": "2023-05-13T05:54:37.805Z"
   },
   {
    "duration": 135,
    "start_time": "2023-05-13T05:54:37.903Z"
   },
   {
    "duration": 186,
    "start_time": "2023-05-13T05:54:38.040Z"
   },
   {
    "duration": 181,
    "start_time": "2023-05-13T05:54:38.228Z"
   },
   {
    "duration": 197,
    "start_time": "2023-05-13T05:54:38.411Z"
   },
   {
    "duration": 271,
    "start_time": "2023-05-13T05:54:38.610Z"
   },
   {
    "duration": 185,
    "start_time": "2023-05-13T05:54:38.883Z"
   },
   {
    "duration": 389,
    "start_time": "2023-05-13T05:54:39.070Z"
   },
   {
    "duration": 260,
    "start_time": "2023-05-13T05:56:14.849Z"
   },
   {
    "duration": 3,
    "start_time": "2023-05-13T05:56:29.317Z"
   },
   {
    "duration": 133,
    "start_time": "2023-05-13T05:56:29.323Z"
   },
   {
    "duration": 29,
    "start_time": "2023-05-13T05:56:29.457Z"
   },
   {
    "duration": 50,
    "start_time": "2023-05-13T05:56:29.488Z"
   },
   {
    "duration": 19,
    "start_time": "2023-05-13T05:56:29.541Z"
   },
   {
    "duration": 14,
    "start_time": "2023-05-13T05:56:29.562Z"
   },
   {
    "duration": 36,
    "start_time": "2023-05-13T05:56:29.578Z"
   },
   {
    "duration": 27,
    "start_time": "2023-05-13T05:56:29.616Z"
   },
   {
    "duration": 23,
    "start_time": "2023-05-13T05:56:29.645Z"
   },
   {
    "duration": 15,
    "start_time": "2023-05-13T05:56:29.670Z"
   },
   {
    "duration": 143,
    "start_time": "2023-05-13T05:56:29.687Z"
   },
   {
    "duration": 12,
    "start_time": "2023-05-13T05:56:29.838Z"
   },
   {
    "duration": 161,
    "start_time": "2023-05-13T05:56:29.854Z"
   },
   {
    "duration": 35,
    "start_time": "2023-05-13T05:56:30.023Z"
   },
   {
    "duration": 7,
    "start_time": "2023-05-13T05:56:30.060Z"
   },
   {
    "duration": 465,
    "start_time": "2023-05-13T05:56:30.069Z"
   },
   {
    "duration": 581,
    "start_time": "2023-05-13T05:56:30.542Z"
   },
   {
    "duration": 46,
    "start_time": "2023-05-13T05:56:31.150Z"
   },
   {
    "duration": 47,
    "start_time": "2023-05-13T05:56:31.198Z"
   },
   {
    "duration": 16,
    "start_time": "2023-05-13T05:56:31.247Z"
   },
   {
    "duration": 157,
    "start_time": "2023-05-13T05:56:31.265Z"
   },
   {
    "duration": 11,
    "start_time": "2023-05-13T05:56:31.425Z"
   },
   {
    "duration": 168,
    "start_time": "2023-05-13T05:56:31.439Z"
   },
   {
    "duration": 143,
    "start_time": "2023-05-13T05:56:31.609Z"
   },
   {
    "duration": 167,
    "start_time": "2023-05-13T05:56:31.754Z"
   },
   {
    "duration": 152,
    "start_time": "2023-05-13T05:56:31.924Z"
   },
   {
    "duration": 148,
    "start_time": "2023-05-13T05:56:32.078Z"
   },
   {
    "duration": 12,
    "start_time": "2023-05-13T05:56:32.229Z"
   },
   {
    "duration": 43,
    "start_time": "2023-05-13T05:56:32.244Z"
   },
   {
    "duration": 61,
    "start_time": "2023-05-13T05:56:32.288Z"
   },
   {
    "duration": 27,
    "start_time": "2023-05-13T05:56:32.351Z"
   },
   {
    "duration": 103,
    "start_time": "2023-05-13T05:56:32.380Z"
   },
   {
    "duration": 164,
    "start_time": "2023-05-13T05:56:32.485Z"
   },
   {
    "duration": 188,
    "start_time": "2023-05-13T05:56:32.651Z"
   },
   {
    "duration": 311,
    "start_time": "2023-05-13T05:56:32.842Z"
   },
   {
    "duration": 189,
    "start_time": "2023-05-13T05:56:33.155Z"
   },
   {
    "duration": 153,
    "start_time": "2023-05-13T05:56:33.346Z"
   },
   {
    "duration": 177,
    "start_time": "2023-05-13T05:56:33.501Z"
   },
   {
    "duration": 196,
    "start_time": "2023-05-13T05:56:33.680Z"
   },
   {
    "duration": 185,
    "start_time": "2023-05-13T05:57:20.163Z"
   },
   {
    "duration": 171,
    "start_time": "2023-05-13T06:00:18.448Z"
   },
   {
    "duration": 1864,
    "start_time": "2023-05-13T06:11:54.450Z"
   },
   {
    "duration": 3594,
    "start_time": "2023-05-13T06:12:20.819Z"
   },
   {
    "duration": 167,
    "start_time": "2023-05-13T06:13:14.970Z"
   },
   {
    "duration": 159,
    "start_time": "2023-05-13T06:16:26.893Z"
   },
   {
    "duration": 694,
    "start_time": "2023-05-13T06:16:41.244Z"
   },
   {
    "duration": 17,
    "start_time": "2023-05-13T06:17:14.924Z"
   },
   {
    "duration": 2024,
    "start_time": "2023-05-13T06:18:07.117Z"
   },
   {
    "duration": 14,
    "start_time": "2023-05-13T06:18:20.437Z"
   },
   {
    "duration": 154,
    "start_time": "2023-05-13T06:20:53.319Z"
   },
   {
    "duration": 3,
    "start_time": "2023-05-13T06:26:46.663Z"
   },
   {
    "duration": 199,
    "start_time": "2023-05-13T06:26:46.668Z"
   },
   {
    "duration": 33,
    "start_time": "2023-05-13T06:26:46.869Z"
   },
   {
    "duration": 25,
    "start_time": "2023-05-13T06:26:46.904Z"
   },
   {
    "duration": 15,
    "start_time": "2023-05-13T06:26:46.934Z"
   },
   {
    "duration": 11,
    "start_time": "2023-05-13T06:26:46.951Z"
   },
   {
    "duration": 72,
    "start_time": "2023-05-13T06:26:46.965Z"
   },
   {
    "duration": 27,
    "start_time": "2023-05-13T06:26:47.040Z"
   },
   {
    "duration": 17,
    "start_time": "2023-05-13T06:26:47.069Z"
   },
   {
    "duration": 19,
    "start_time": "2023-05-13T06:26:47.095Z"
   },
   {
    "duration": 156,
    "start_time": "2023-05-13T06:26:47.116Z"
   },
   {
    "duration": 11,
    "start_time": "2023-05-13T06:26:47.274Z"
   },
   {
    "duration": 172,
    "start_time": "2023-05-13T06:26:47.287Z"
   },
   {
    "duration": 19,
    "start_time": "2023-05-13T06:26:47.463Z"
   },
   {
    "duration": 14,
    "start_time": "2023-05-13T06:26:47.495Z"
   },
   {
    "duration": 417,
    "start_time": "2023-05-13T06:26:47.511Z"
   },
   {
    "duration": 435,
    "start_time": "2023-05-13T06:26:47.930Z"
   },
   {
    "duration": 75,
    "start_time": "2023-05-13T06:26:48.401Z"
   },
   {
    "duration": 37,
    "start_time": "2023-05-13T06:26:48.478Z"
   },
   {
    "duration": 35,
    "start_time": "2023-05-13T06:26:48.517Z"
   },
   {
    "duration": 118,
    "start_time": "2023-05-13T06:26:48.555Z"
   },
   {
    "duration": 7,
    "start_time": "2023-05-13T06:26:48.674Z"
   },
   {
    "duration": 162,
    "start_time": "2023-05-13T06:26:48.683Z"
   },
   {
    "duration": 119,
    "start_time": "2023-05-13T06:26:48.847Z"
   },
   {
    "duration": 148,
    "start_time": "2023-05-13T06:26:48.968Z"
   },
   {
    "duration": 124,
    "start_time": "2023-05-13T06:26:49.117Z"
   },
   {
    "duration": 148,
    "start_time": "2023-05-13T06:26:49.242Z"
   },
   {
    "duration": 11,
    "start_time": "2023-05-13T06:26:49.391Z"
   },
   {
    "duration": 40,
    "start_time": "2023-05-13T06:26:49.405Z"
   },
   {
    "duration": 35,
    "start_time": "2023-05-13T06:26:49.447Z"
   },
   {
    "duration": 40,
    "start_time": "2023-05-13T06:26:49.484Z"
   },
   {
    "duration": 124,
    "start_time": "2023-05-13T06:26:49.529Z"
   },
   {
    "duration": 155,
    "start_time": "2023-05-13T06:26:49.655Z"
   },
   {
    "duration": 166,
    "start_time": "2023-05-13T06:26:49.812Z"
   },
   {
    "duration": 179,
    "start_time": "2023-05-13T06:26:49.979Z"
   },
   {
    "duration": 333,
    "start_time": "2023-05-13T06:26:50.159Z"
   },
   {
    "duration": 159,
    "start_time": "2023-05-13T06:26:50.498Z"
   },
   {
    "duration": 193,
    "start_time": "2023-05-13T06:26:50.659Z"
   },
   {
    "duration": 189,
    "start_time": "2023-05-13T06:26:50.854Z"
   },
   {
    "duration": 36,
    "start_time": "2023-05-13T06:31:46.082Z"
   },
   {
    "duration": 10,
    "start_time": "2023-05-13T06:32:43.024Z"
   },
   {
    "duration": 14,
    "start_time": "2023-05-13T06:33:45.386Z"
   },
   {
    "duration": 11,
    "start_time": "2023-05-13T06:35:00.773Z"
   },
   {
    "duration": 16,
    "start_time": "2023-05-13T06:35:35.104Z"
   },
   {
    "duration": 22,
    "start_time": "2023-05-13T06:39:36.781Z"
   },
   {
    "duration": 22,
    "start_time": "2023-05-13T06:39:44.804Z"
   },
   {
    "duration": 15,
    "start_time": "2023-05-13T06:43:43.012Z"
   },
   {
    "duration": 14,
    "start_time": "2023-05-13T06:44:37.656Z"
   },
   {
    "duration": 11,
    "start_time": "2023-05-13T06:55:11.264Z"
   }
  ],
  "colab": {
   "name": "DA+. Сборный проект 1. Шаблон (1).ipynb",
   "provenance": []
  },
  "kernelspec": {
   "display_name": "Python 3 (ipykernel)",
   "language": "python",
   "name": "python3"
  },
  "language_info": {
   "codemirror_mode": {
    "name": "ipython",
    "version": 3
   },
   "file_extension": ".py",
   "mimetype": "text/x-python",
   "name": "python",
   "nbconvert_exporter": "python",
   "pygments_lexer": "ipython3",
   "version": "3.10.9"
  },
  "toc": {
   "base_numbering": 1,
   "nav_menu": {},
   "number_sections": true,
   "sideBar": true,
   "skip_h1_title": true,
   "title_cell": "Table of Contents",
   "title_sidebar": "Contents",
   "toc_cell": false,
   "toc_position": {
    "height": "calc(100% - 180px)",
    "left": "10px",
    "top": "150px",
    "width": "375.391px"
   },
   "toc_section_display": true,
   "toc_window_display": false
  }
 },
 "nbformat": 4,
 "nbformat_minor": 1
}
