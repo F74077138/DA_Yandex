{
 "cells": [
  {
   "cell_type": "markdown",
   "id": "386f2ae7",
   "metadata": {
    "deletable": false,
    "editable": false,
    "id": "386f2ae7"
   },
   "source": [
    "# Исследование надежности заемщиков\n"
   ]
  },
  {
   "cell_type": "markdown",
   "id": "ffe86f65",
   "metadata": {
    "deletable": false,
    "editable": false,
    "id": "ffe86f65"
   },
   "source": [
    "Во второй части проекта вы выполните шаги 3 и 4. Их вручную проверит ревьюер.\n",
    "Чтобы вам не пришлось писать код заново для шагов 1 и 2, мы добавили авторские решения в ячейки с кодом. \n",
    "\n"
   ]
  },
  {
   "cell_type": "markdown",
   "id": "26613308",
   "metadata": {
    "deletable": false,
    "editable": false,
    "id": "26613308"
   },
   "source": [
    "## Откройте таблицу и изучите общую информацию о данных"
   ]
  },
  {
   "cell_type": "markdown",
   "id": "3c9f838e",
   "metadata": {
    "deletable": false,
    "editable": false,
    "id": "3c9f838e"
   },
   "source": [
    "**Задание 1. Импортируйте библиотеку pandas. Считайте данные из csv-файла в датафрейм и сохраните в переменную `data`. Путь к файлу:**\n",
    "\n",
    "`/datasets/data.csv`"
   ]
  },
  {
   "cell_type": "code",
   "execution_count": 1,
   "id": "77a68a90",
   "metadata": {
    "deletable": false,
    "id": "77a68a90"
   },
   "outputs": [],
   "source": [
    "import pandas as pd\n",
    "\n",
    "try:\n",
    "    data = pd.read_csv('datasets/data.csv')\n",
    "except:\n",
    "    data = pd.read_csv('https://code.s3.yandex.net/datasets/data.csv')"
   ]
  },
  {
   "cell_type": "markdown",
   "id": "45365635",
   "metadata": {
    "deletable": false,
    "editable": false,
    "id": "45365635"
   },
   "source": [
    "**Задание 2. Выведите первые 20 строчек датафрейма `data` на экран.**"
   ]
  },
  {
   "cell_type": "code",
   "execution_count": 2,
   "id": "b0451a9a",
   "metadata": {
    "deletable": false,
    "id": "b0451a9a",
    "outputId": "1a8f3ef2-d323-4ec2-ddf7-89670b5944c4"
   },
   "outputs": [
    {
     "data": {
      "text/html": [
       "<div>\n",
       "<style scoped>\n",
       "    .dataframe tbody tr th:only-of-type {\n",
       "        vertical-align: middle;\n",
       "    }\n",
       "\n",
       "    .dataframe tbody tr th {\n",
       "        vertical-align: top;\n",
       "    }\n",
       "\n",
       "    .dataframe thead th {\n",
       "        text-align: right;\n",
       "    }\n",
       "</style>\n",
       "<table border=\"1\" class=\"dataframe\">\n",
       "  <thead>\n",
       "    <tr style=\"text-align: right;\">\n",
       "      <th></th>\n",
       "      <th>children</th>\n",
       "      <th>days_employed</th>\n",
       "      <th>dob_years</th>\n",
       "      <th>education</th>\n",
       "      <th>education_id</th>\n",
       "      <th>family_status</th>\n",
       "      <th>family_status_id</th>\n",
       "      <th>gender</th>\n",
       "      <th>income_type</th>\n",
       "      <th>debt</th>\n",
       "      <th>total_income</th>\n",
       "      <th>purpose</th>\n",
       "    </tr>\n",
       "  </thead>\n",
       "  <tbody>\n",
       "    <tr>\n",
       "      <th>0</th>\n",
       "      <td>1</td>\n",
       "      <td>-8437.673028</td>\n",
       "      <td>42</td>\n",
       "      <td>высшее</td>\n",
       "      <td>0</td>\n",
       "      <td>женат / замужем</td>\n",
       "      <td>0</td>\n",
       "      <td>F</td>\n",
       "      <td>сотрудник</td>\n",
       "      <td>0</td>\n",
       "      <td>253875.639453</td>\n",
       "      <td>покупка жилья</td>\n",
       "    </tr>\n",
       "    <tr>\n",
       "      <th>1</th>\n",
       "      <td>1</td>\n",
       "      <td>-4024.803754</td>\n",
       "      <td>36</td>\n",
       "      <td>среднее</td>\n",
       "      <td>1</td>\n",
       "      <td>женат / замужем</td>\n",
       "      <td>0</td>\n",
       "      <td>F</td>\n",
       "      <td>сотрудник</td>\n",
       "      <td>0</td>\n",
       "      <td>112080.014102</td>\n",
       "      <td>приобретение автомобиля</td>\n",
       "    </tr>\n",
       "    <tr>\n",
       "      <th>2</th>\n",
       "      <td>0</td>\n",
       "      <td>-5623.422610</td>\n",
       "      <td>33</td>\n",
       "      <td>Среднее</td>\n",
       "      <td>1</td>\n",
       "      <td>женат / замужем</td>\n",
       "      <td>0</td>\n",
       "      <td>M</td>\n",
       "      <td>сотрудник</td>\n",
       "      <td>0</td>\n",
       "      <td>145885.952297</td>\n",
       "      <td>покупка жилья</td>\n",
       "    </tr>\n",
       "    <tr>\n",
       "      <th>3</th>\n",
       "      <td>3</td>\n",
       "      <td>-4124.747207</td>\n",
       "      <td>32</td>\n",
       "      <td>среднее</td>\n",
       "      <td>1</td>\n",
       "      <td>женат / замужем</td>\n",
       "      <td>0</td>\n",
       "      <td>M</td>\n",
       "      <td>сотрудник</td>\n",
       "      <td>0</td>\n",
       "      <td>267628.550329</td>\n",
       "      <td>дополнительное образование</td>\n",
       "    </tr>\n",
       "    <tr>\n",
       "      <th>4</th>\n",
       "      <td>0</td>\n",
       "      <td>340266.072047</td>\n",
       "      <td>53</td>\n",
       "      <td>среднее</td>\n",
       "      <td>1</td>\n",
       "      <td>гражданский брак</td>\n",
       "      <td>1</td>\n",
       "      <td>F</td>\n",
       "      <td>пенсионер</td>\n",
       "      <td>0</td>\n",
       "      <td>158616.077870</td>\n",
       "      <td>сыграть свадьбу</td>\n",
       "    </tr>\n",
       "    <tr>\n",
       "      <th>5</th>\n",
       "      <td>0</td>\n",
       "      <td>-926.185831</td>\n",
       "      <td>27</td>\n",
       "      <td>высшее</td>\n",
       "      <td>0</td>\n",
       "      <td>гражданский брак</td>\n",
       "      <td>1</td>\n",
       "      <td>M</td>\n",
       "      <td>компаньон</td>\n",
       "      <td>0</td>\n",
       "      <td>255763.565419</td>\n",
       "      <td>покупка жилья</td>\n",
       "    </tr>\n",
       "    <tr>\n",
       "      <th>6</th>\n",
       "      <td>0</td>\n",
       "      <td>-2879.202052</td>\n",
       "      <td>43</td>\n",
       "      <td>высшее</td>\n",
       "      <td>0</td>\n",
       "      <td>женат / замужем</td>\n",
       "      <td>0</td>\n",
       "      <td>F</td>\n",
       "      <td>компаньон</td>\n",
       "      <td>0</td>\n",
       "      <td>240525.971920</td>\n",
       "      <td>операции с жильем</td>\n",
       "    </tr>\n",
       "    <tr>\n",
       "      <th>7</th>\n",
       "      <td>0</td>\n",
       "      <td>-152.779569</td>\n",
       "      <td>50</td>\n",
       "      <td>СРЕДНЕЕ</td>\n",
       "      <td>1</td>\n",
       "      <td>женат / замужем</td>\n",
       "      <td>0</td>\n",
       "      <td>M</td>\n",
       "      <td>сотрудник</td>\n",
       "      <td>0</td>\n",
       "      <td>135823.934197</td>\n",
       "      <td>образование</td>\n",
       "    </tr>\n",
       "    <tr>\n",
       "      <th>8</th>\n",
       "      <td>2</td>\n",
       "      <td>-6929.865299</td>\n",
       "      <td>35</td>\n",
       "      <td>ВЫСШЕЕ</td>\n",
       "      <td>0</td>\n",
       "      <td>гражданский брак</td>\n",
       "      <td>1</td>\n",
       "      <td>F</td>\n",
       "      <td>сотрудник</td>\n",
       "      <td>0</td>\n",
       "      <td>95856.832424</td>\n",
       "      <td>на проведение свадьбы</td>\n",
       "    </tr>\n",
       "    <tr>\n",
       "      <th>9</th>\n",
       "      <td>0</td>\n",
       "      <td>-2188.756445</td>\n",
       "      <td>41</td>\n",
       "      <td>среднее</td>\n",
       "      <td>1</td>\n",
       "      <td>женат / замужем</td>\n",
       "      <td>0</td>\n",
       "      <td>M</td>\n",
       "      <td>сотрудник</td>\n",
       "      <td>0</td>\n",
       "      <td>144425.938277</td>\n",
       "      <td>покупка жилья для семьи</td>\n",
       "    </tr>\n",
       "    <tr>\n",
       "      <th>10</th>\n",
       "      <td>2</td>\n",
       "      <td>-4171.483647</td>\n",
       "      <td>36</td>\n",
       "      <td>высшее</td>\n",
       "      <td>0</td>\n",
       "      <td>женат / замужем</td>\n",
       "      <td>0</td>\n",
       "      <td>M</td>\n",
       "      <td>компаньон</td>\n",
       "      <td>0</td>\n",
       "      <td>113943.491460</td>\n",
       "      <td>покупка недвижимости</td>\n",
       "    </tr>\n",
       "    <tr>\n",
       "      <th>11</th>\n",
       "      <td>0</td>\n",
       "      <td>-792.701887</td>\n",
       "      <td>40</td>\n",
       "      <td>среднее</td>\n",
       "      <td>1</td>\n",
       "      <td>женат / замужем</td>\n",
       "      <td>0</td>\n",
       "      <td>F</td>\n",
       "      <td>сотрудник</td>\n",
       "      <td>0</td>\n",
       "      <td>77069.234271</td>\n",
       "      <td>покупка коммерческой недвижимости</td>\n",
       "    </tr>\n",
       "    <tr>\n",
       "      <th>12</th>\n",
       "      <td>0</td>\n",
       "      <td>NaN</td>\n",
       "      <td>65</td>\n",
       "      <td>среднее</td>\n",
       "      <td>1</td>\n",
       "      <td>гражданский брак</td>\n",
       "      <td>1</td>\n",
       "      <td>M</td>\n",
       "      <td>пенсионер</td>\n",
       "      <td>0</td>\n",
       "      <td>NaN</td>\n",
       "      <td>сыграть свадьбу</td>\n",
       "    </tr>\n",
       "    <tr>\n",
       "      <th>13</th>\n",
       "      <td>0</td>\n",
       "      <td>-1846.641941</td>\n",
       "      <td>54</td>\n",
       "      <td>неоконченное высшее</td>\n",
       "      <td>2</td>\n",
       "      <td>женат / замужем</td>\n",
       "      <td>0</td>\n",
       "      <td>F</td>\n",
       "      <td>сотрудник</td>\n",
       "      <td>0</td>\n",
       "      <td>130458.228857</td>\n",
       "      <td>приобретение автомобиля</td>\n",
       "    </tr>\n",
       "    <tr>\n",
       "      <th>14</th>\n",
       "      <td>0</td>\n",
       "      <td>-1844.956182</td>\n",
       "      <td>56</td>\n",
       "      <td>высшее</td>\n",
       "      <td>0</td>\n",
       "      <td>гражданский брак</td>\n",
       "      <td>1</td>\n",
       "      <td>F</td>\n",
       "      <td>компаньон</td>\n",
       "      <td>1</td>\n",
       "      <td>165127.911772</td>\n",
       "      <td>покупка жилой недвижимости</td>\n",
       "    </tr>\n",
       "    <tr>\n",
       "      <th>15</th>\n",
       "      <td>1</td>\n",
       "      <td>-972.364419</td>\n",
       "      <td>26</td>\n",
       "      <td>среднее</td>\n",
       "      <td>1</td>\n",
       "      <td>женат / замужем</td>\n",
       "      <td>0</td>\n",
       "      <td>F</td>\n",
       "      <td>сотрудник</td>\n",
       "      <td>0</td>\n",
       "      <td>116820.904450</td>\n",
       "      <td>строительство собственной недвижимости</td>\n",
       "    </tr>\n",
       "    <tr>\n",
       "      <th>16</th>\n",
       "      <td>0</td>\n",
       "      <td>-1719.934226</td>\n",
       "      <td>35</td>\n",
       "      <td>среднее</td>\n",
       "      <td>1</td>\n",
       "      <td>женат / замужем</td>\n",
       "      <td>0</td>\n",
       "      <td>F</td>\n",
       "      <td>сотрудник</td>\n",
       "      <td>0</td>\n",
       "      <td>289202.704229</td>\n",
       "      <td>недвижимость</td>\n",
       "    </tr>\n",
       "    <tr>\n",
       "      <th>17</th>\n",
       "      <td>0</td>\n",
       "      <td>-2369.999720</td>\n",
       "      <td>33</td>\n",
       "      <td>высшее</td>\n",
       "      <td>0</td>\n",
       "      <td>гражданский брак</td>\n",
       "      <td>1</td>\n",
       "      <td>M</td>\n",
       "      <td>сотрудник</td>\n",
       "      <td>0</td>\n",
       "      <td>90410.586745</td>\n",
       "      <td>строительство недвижимости</td>\n",
       "    </tr>\n",
       "    <tr>\n",
       "      <th>18</th>\n",
       "      <td>0</td>\n",
       "      <td>400281.136913</td>\n",
       "      <td>53</td>\n",
       "      <td>среднее</td>\n",
       "      <td>1</td>\n",
       "      <td>вдовец / вдова</td>\n",
       "      <td>2</td>\n",
       "      <td>F</td>\n",
       "      <td>пенсионер</td>\n",
       "      <td>0</td>\n",
       "      <td>56823.777243</td>\n",
       "      <td>на покупку подержанного автомобиля</td>\n",
       "    </tr>\n",
       "    <tr>\n",
       "      <th>19</th>\n",
       "      <td>0</td>\n",
       "      <td>-10038.818549</td>\n",
       "      <td>48</td>\n",
       "      <td>СРЕДНЕЕ</td>\n",
       "      <td>1</td>\n",
       "      <td>в разводе</td>\n",
       "      <td>3</td>\n",
       "      <td>F</td>\n",
       "      <td>сотрудник</td>\n",
       "      <td>0</td>\n",
       "      <td>242831.107982</td>\n",
       "      <td>на покупку своего автомобиля</td>\n",
       "    </tr>\n",
       "  </tbody>\n",
       "</table>\n",
       "</div>"
      ],
      "text/plain": [
       "    children  days_employed  dob_years            education  education_id  \\\n",
       "0          1   -8437.673028         42               высшее             0   \n",
       "1          1   -4024.803754         36              среднее             1   \n",
       "2          0   -5623.422610         33              Среднее             1   \n",
       "3          3   -4124.747207         32              среднее             1   \n",
       "4          0  340266.072047         53              среднее             1   \n",
       "5          0    -926.185831         27               высшее             0   \n",
       "6          0   -2879.202052         43               высшее             0   \n",
       "7          0    -152.779569         50              СРЕДНЕЕ             1   \n",
       "8          2   -6929.865299         35               ВЫСШЕЕ             0   \n",
       "9          0   -2188.756445         41              среднее             1   \n",
       "10         2   -4171.483647         36               высшее             0   \n",
       "11         0    -792.701887         40              среднее             1   \n",
       "12         0            NaN         65              среднее             1   \n",
       "13         0   -1846.641941         54  неоконченное высшее             2   \n",
       "14         0   -1844.956182         56               высшее             0   \n",
       "15         1    -972.364419         26              среднее             1   \n",
       "16         0   -1719.934226         35              среднее             1   \n",
       "17         0   -2369.999720         33               высшее             0   \n",
       "18         0  400281.136913         53              среднее             1   \n",
       "19         0  -10038.818549         48              СРЕДНЕЕ             1   \n",
       "\n",
       "       family_status  family_status_id gender income_type  debt  \\\n",
       "0    женат / замужем                 0      F   сотрудник     0   \n",
       "1    женат / замужем                 0      F   сотрудник     0   \n",
       "2    женат / замужем                 0      M   сотрудник     0   \n",
       "3    женат / замужем                 0      M   сотрудник     0   \n",
       "4   гражданский брак                 1      F   пенсионер     0   \n",
       "5   гражданский брак                 1      M   компаньон     0   \n",
       "6    женат / замужем                 0      F   компаньон     0   \n",
       "7    женат / замужем                 0      M   сотрудник     0   \n",
       "8   гражданский брак                 1      F   сотрудник     0   \n",
       "9    женат / замужем                 0      M   сотрудник     0   \n",
       "10   женат / замужем                 0      M   компаньон     0   \n",
       "11   женат / замужем                 0      F   сотрудник     0   \n",
       "12  гражданский брак                 1      M   пенсионер     0   \n",
       "13   женат / замужем                 0      F   сотрудник     0   \n",
       "14  гражданский брак                 1      F   компаньон     1   \n",
       "15   женат / замужем                 0      F   сотрудник     0   \n",
       "16   женат / замужем                 0      F   сотрудник     0   \n",
       "17  гражданский брак                 1      M   сотрудник     0   \n",
       "18    вдовец / вдова                 2      F   пенсионер     0   \n",
       "19         в разводе                 3      F   сотрудник     0   \n",
       "\n",
       "     total_income                                 purpose  \n",
       "0   253875.639453                           покупка жилья  \n",
       "1   112080.014102                 приобретение автомобиля  \n",
       "2   145885.952297                           покупка жилья  \n",
       "3   267628.550329              дополнительное образование  \n",
       "4   158616.077870                         сыграть свадьбу  \n",
       "5   255763.565419                           покупка жилья  \n",
       "6   240525.971920                       операции с жильем  \n",
       "7   135823.934197                             образование  \n",
       "8    95856.832424                   на проведение свадьбы  \n",
       "9   144425.938277                 покупка жилья для семьи  \n",
       "10  113943.491460                    покупка недвижимости  \n",
       "11   77069.234271       покупка коммерческой недвижимости  \n",
       "12            NaN                         сыграть свадьбу  \n",
       "13  130458.228857                 приобретение автомобиля  \n",
       "14  165127.911772              покупка жилой недвижимости  \n",
       "15  116820.904450  строительство собственной недвижимости  \n",
       "16  289202.704229                            недвижимость  \n",
       "17   90410.586745              строительство недвижимости  \n",
       "18   56823.777243      на покупку подержанного автомобиля  \n",
       "19  242831.107982            на покупку своего автомобиля  "
      ]
     },
     "execution_count": 2,
     "metadata": {},
     "output_type": "execute_result"
    }
   ],
   "source": [
    "data.head(20)"
   ]
  },
  {
   "cell_type": "markdown",
   "id": "0ed8f27f",
   "metadata": {
    "deletable": false,
    "editable": false,
    "id": "0ed8f27f"
   },
   "source": [
    "**Задание 3. Выведите основную информацию о датафрейме с помощью метода `info()`.**"
   ]
  },
  {
   "cell_type": "code",
   "execution_count": 3,
   "id": "ab3f863b",
   "metadata": {
    "deletable": false,
    "id": "ab3f863b",
    "outputId": "15376089-8dad-46c9-b520-c05248d43158"
   },
   "outputs": [
    {
     "name": "stdout",
     "output_type": "stream",
     "text": [
      "<class 'pandas.core.frame.DataFrame'>\n",
      "RangeIndex: 21525 entries, 0 to 21524\n",
      "Data columns (total 12 columns):\n",
      " #   Column            Non-Null Count  Dtype  \n",
      "---  ------            --------------  -----  \n",
      " 0   children          21525 non-null  int64  \n",
      " 1   days_employed     19351 non-null  float64\n",
      " 2   dob_years         21525 non-null  int64  \n",
      " 3   education         21525 non-null  object \n",
      " 4   education_id      21525 non-null  int64  \n",
      " 5   family_status     21525 non-null  object \n",
      " 6   family_status_id  21525 non-null  int64  \n",
      " 7   gender            21525 non-null  object \n",
      " 8   income_type       21525 non-null  object \n",
      " 9   debt              21525 non-null  int64  \n",
      " 10  total_income      19351 non-null  float64\n",
      " 11  purpose           21525 non-null  object \n",
      "dtypes: float64(2), int64(5), object(5)\n",
      "memory usage: 2.0+ MB\n"
     ]
    }
   ],
   "source": [
    "data.info()"
   ]
  },
  {
   "cell_type": "markdown",
   "id": "60e3e22d",
   "metadata": {
    "deletable": false,
    "editable": false,
    "id": "60e3e22d"
   },
   "source": [
    "## Предобработка данных"
   ]
  },
  {
   "cell_type": "markdown",
   "id": "03dc170c",
   "metadata": {
    "deletable": false,
    "editable": false,
    "id": "03dc170c"
   },
   "source": [
    "### Удаление пропусков"
   ]
  },
  {
   "cell_type": "markdown",
   "id": "a4f54eef",
   "metadata": {
    "deletable": false,
    "editable": false,
    "id": "a4f54eef"
   },
   "source": [
    "**Задание 4. Выведите количество пропущенных значений для каждого столбца. Используйте комбинацию двух методов.**"
   ]
  },
  {
   "cell_type": "code",
   "execution_count": 4,
   "id": "2dc372b2",
   "metadata": {
    "deletable": false,
    "id": "2dc372b2",
    "outputId": "81f4d817-781c-465c-ed15-91ce4446810d"
   },
   "outputs": [
    {
     "data": {
      "text/plain": [
       "children               0\n",
       "days_employed       2174\n",
       "dob_years              0\n",
       "education              0\n",
       "education_id           0\n",
       "family_status          0\n",
       "family_status_id       0\n",
       "gender                 0\n",
       "income_type            0\n",
       "debt                   0\n",
       "total_income        2174\n",
       "purpose                0\n",
       "dtype: int64"
      ]
     },
     "execution_count": 4,
     "metadata": {},
     "output_type": "execute_result"
    }
   ],
   "source": [
    "data.isna().sum()"
   ]
  },
  {
   "cell_type": "markdown",
   "id": "14f011b1",
   "metadata": {
    "deletable": false,
    "editable": false,
    "id": "14f011b1"
   },
   "source": [
    "**Задание 5. В двух столбцах есть пропущенные значения. Один из них — `days_employed`. Пропуски в этом столбце вы обработаете на следующем этапе. Другой столбец с пропущенными значениями — `total_income` — хранит данные о доходах. На сумму дохода сильнее всего влияет тип занятости, поэтому заполнить пропуски в этом столбце нужно медианным значением по каждому типу из столбца `income_type`. Например, у человека с типом занятости `сотрудник` пропуск в столбце `total_income` должен быть заполнен медианным доходом среди всех записей с тем же типом.**"
   ]
  },
  {
   "cell_type": "code",
   "execution_count": 5,
   "id": "bdabfb6e",
   "metadata": {
    "deletable": false,
    "id": "bdabfb6e"
   },
   "outputs": [],
   "source": [
    "for t in data['income_type'].unique():\n",
    "    data.loc[(data['income_type'] == t) & (data['total_income'].isna()), 'total_income'] = \\\n",
    "    data.loc[(data['income_type'] == t), 'total_income'].median()"
   ]
  },
  {
   "cell_type": "markdown",
   "id": "5be34059",
   "metadata": {
    "deletable": false,
    "editable": false,
    "id": "5be34059"
   },
   "source": [
    "### Обработка аномальных значений"
   ]
  },
  {
   "cell_type": "markdown",
   "id": "a87606cb",
   "metadata": {
    "deletable": false,
    "editable": false,
    "id": "a87606cb"
   },
   "source": [
    "**Задание 6. В данных могут встречаться артефакты (аномалии) — значения, которые не отражают действительность и появились по какой-то ошибке. таким артефактом будет отрицательное количество дней трудового стажа в столбце `days_employed`. Для реальных данных это нормально. Обработайте значения в этом столбце: замените все отрицательные значения положительными с помощью метода `abs()`.**"
   ]
  },
  {
   "cell_type": "code",
   "execution_count": 6,
   "id": "020c46cc",
   "metadata": {
    "deletable": false,
    "id": "020c46cc"
   },
   "outputs": [],
   "source": [
    "data['days_employed'] = data['days_employed'].abs()"
   ]
  },
  {
   "cell_type": "markdown",
   "id": "45538a3a",
   "metadata": {
    "deletable": false,
    "editable": false,
    "id": "45538a3a"
   },
   "source": [
    "**Задание 7. Для каждого типа занятости выведите медианное значение трудового стажа `days_employed` в днях.**"
   ]
  },
  {
   "cell_type": "code",
   "execution_count": 7,
   "id": "cd3e6328",
   "metadata": {
    "deletable": false,
    "id": "cd3e6328",
    "outputId": "801ef80e-522b-4668-f34e-565af7432bcf"
   },
   "outputs": [
    {
     "data": {
      "text/plain": [
       "income_type\n",
       "безработный        366413.652744\n",
       "в декрете            3296.759962\n",
       "госслужащий          2689.368353\n",
       "компаньон            1547.382223\n",
       "пенсионер          365213.306266\n",
       "предприниматель       520.848083\n",
       "сотрудник            1574.202821\n",
       "студент               578.751554\n",
       "Name: days_employed, dtype: float64"
      ]
     },
     "execution_count": 7,
     "metadata": {},
     "output_type": "execute_result"
    }
   ],
   "source": [
    "data.groupby('income_type')['days_employed'].agg('median')"
   ]
  },
  {
   "cell_type": "markdown",
   "id": "90c5f058",
   "metadata": {
    "deletable": false,
    "editable": false,
    "id": "90c5f058"
   },
   "source": [
    "У двух типов (безработные и пенсионеры) получатся аномально большие значения. Исправить такие значения сложно, поэтому оставьте их как есть."
   ]
  },
  {
   "cell_type": "markdown",
   "id": "9652e50d",
   "metadata": {
    "deletable": false,
    "editable": false,
    "id": "9652e50d"
   },
   "source": [
    "**Задание 8. Выведите перечень уникальных значений столбца `children`.**"
   ]
  },
  {
   "cell_type": "code",
   "execution_count": 8,
   "id": "dbb37b8e",
   "metadata": {
    "deletable": false,
    "id": "dbb37b8e",
    "outputId": "6975b15c-7f95-4697-d16d-a0c79b657b03"
   },
   "outputs": [
    {
     "data": {
      "text/plain": [
       "array([ 1,  0,  3,  2, -1,  4, 20,  5], dtype=int64)"
      ]
     },
     "execution_count": 8,
     "metadata": {},
     "output_type": "execute_result"
    }
   ],
   "source": [
    "data['children'].unique()"
   ]
  },
  {
   "cell_type": "markdown",
   "id": "2b8b0715",
   "metadata": {
    "deletable": false,
    "editable": false,
    "id": "2b8b0715"
   },
   "source": [
    "**Задание 9. В столбце `children` есть два аномальных значения. Удалите строки, в которых встречаются такие аномальные значения из датафрейма `data`.**"
   ]
  },
  {
   "cell_type": "code",
   "execution_count": 9,
   "id": "20009df8",
   "metadata": {
    "deletable": false,
    "id": "20009df8"
   },
   "outputs": [],
   "source": [
    "data = data[(data['children'] != -1) & (data['children'] != 20)]"
   ]
  },
  {
   "cell_type": "markdown",
   "id": "8c6ac9f1",
   "metadata": {
    "deletable": false,
    "editable": false,
    "id": "8c6ac9f1"
   },
   "source": [
    "**Задание 10. Ещё раз выведите перечень уникальных значений столбца `children`, чтобы убедиться, что артефакты удалены.**"
   ]
  },
  {
   "cell_type": "code",
   "execution_count": 10,
   "id": "07337b81",
   "metadata": {
    "deletable": false,
    "id": "07337b81",
    "outputId": "b2097101-d49d-44d9-901b-32a65c9463d1"
   },
   "outputs": [
    {
     "data": {
      "text/plain": [
       "array([1, 0, 3, 2, 4, 5], dtype=int64)"
      ]
     },
     "execution_count": 10,
     "metadata": {},
     "output_type": "execute_result"
    }
   ],
   "source": [
    "data['children'].unique()"
   ]
  },
  {
   "cell_type": "markdown",
   "id": "ee3f52d4",
   "metadata": {
    "deletable": false,
    "editable": false,
    "id": "ee3f52d4"
   },
   "source": [
    "### Удаление пропусков (продолжение)"
   ]
  },
  {
   "cell_type": "markdown",
   "id": "a700b0e4",
   "metadata": {
    "deletable": false,
    "editable": false,
    "id": "a700b0e4"
   },
   "source": [
    "**Задание 11. Заполните пропуски в столбце `days_employed` медианными значениями по каждого типа занятости `income_type`.**"
   ]
  },
  {
   "cell_type": "code",
   "execution_count": 11,
   "id": "61946b83",
   "metadata": {
    "deletable": false,
    "id": "61946b83"
   },
   "outputs": [],
   "source": [
    "for t in data['income_type'].unique():\n",
    "    data.loc[(data['income_type'] == t) & (data['days_employed'].isna()), 'days_employed'] = \\\n",
    "    data.loc[(data['income_type'] == t), 'days_employed'].median()"
   ]
  },
  {
   "cell_type": "markdown",
   "id": "550dcd9b",
   "metadata": {
    "deletable": false,
    "editable": false,
    "id": "550dcd9b"
   },
   "source": [
    "**Задание 12. Убедитесь, что все пропуски заполнены. Проверьте себя и ещё раз выведите количество пропущенных значений для каждого столбца с помощью двух методов.**"
   ]
  },
  {
   "cell_type": "code",
   "execution_count": 12,
   "id": "937c7014",
   "metadata": {
    "deletable": false,
    "id": "937c7014",
    "outputId": "8da1e4e1-358e-4e87-98c9-f261bce0a7b2"
   },
   "outputs": [
    {
     "data": {
      "text/plain": [
       "children            0\n",
       "days_employed       0\n",
       "dob_years           0\n",
       "education           0\n",
       "education_id        0\n",
       "family_status       0\n",
       "family_status_id    0\n",
       "gender              0\n",
       "income_type         0\n",
       "debt                0\n",
       "total_income        0\n",
       "purpose             0\n",
       "dtype: int64"
      ]
     },
     "execution_count": 12,
     "metadata": {},
     "output_type": "execute_result"
    }
   ],
   "source": [
    "data.isna().sum()"
   ]
  },
  {
   "cell_type": "markdown",
   "id": "d522e295",
   "metadata": {
    "deletable": false,
    "editable": false,
    "id": "d522e295"
   },
   "source": [
    "### Изменение типов данных"
   ]
  },
  {
   "cell_type": "markdown",
   "id": "c229c581",
   "metadata": {
    "deletable": false,
    "editable": false,
    "id": "c229c581"
   },
   "source": [
    "**Задание 13. Замените вещественный тип данных в столбце `total_income` на целочисленный с помощью метода `astype()`.**"
   ]
  },
  {
   "cell_type": "code",
   "execution_count": 13,
   "id": "31036462",
   "metadata": {
    "deletable": false,
    "id": "31036462"
   },
   "outputs": [],
   "source": [
    "data['total_income'] = data['total_income'].astype(int)"
   ]
  },
  {
   "cell_type": "markdown",
   "id": "b8e3d1d9",
   "metadata": {
    "deletable": false,
    "editable": false,
    "id": "b8e3d1d9"
   },
   "source": [
    "### Обработка дубликатов"
   ]
  },
  {
   "cell_type": "markdown",
   "id": "9be53c49",
   "metadata": {
    "deletable": false,
    "editable": false,
    "id": "9be53c49"
   },
   "source": [
    "**Задание 14. Обработайте неявные дубликаты в столбце `education`. В этом столбце есть одни и те же значения, но записанные по-разному: с использованием заглавных и строчных букв. Приведите их к нижнему регистру.**"
   ]
  },
  {
   "cell_type": "code",
   "execution_count": 14,
   "id": "d89e73e1",
   "metadata": {
    "deletable": false,
    "id": "d89e73e1"
   },
   "outputs": [],
   "source": [
    "data['education'] = data['education'].str.lower()"
   ]
  },
  {
   "cell_type": "markdown",
   "id": "01d4500e",
   "metadata": {
    "deletable": false,
    "editable": false,
    "id": "01d4500e"
   },
   "source": [
    "**Задание 15. Выведите на экран количество строк-дубликатов в данных. Если такие строки присутствуют, удалите их.**"
   ]
  },
  {
   "cell_type": "code",
   "execution_count": 15,
   "id": "e10efb23",
   "metadata": {
    "deletable": false,
    "id": "e10efb23",
    "outputId": "9684deba-1934-42d1-99e1-cda61740f822"
   },
   "outputs": [
    {
     "data": {
      "text/plain": [
       "71"
      ]
     },
     "execution_count": 15,
     "metadata": {},
     "output_type": "execute_result"
    }
   ],
   "source": [
    "data.duplicated().sum()"
   ]
  },
  {
   "cell_type": "code",
   "execution_count": 16,
   "id": "df853f20",
   "metadata": {
    "deletable": false,
    "id": "df853f20"
   },
   "outputs": [],
   "source": [
    "data = data.drop_duplicates()"
   ]
  },
  {
   "cell_type": "markdown",
   "id": "627be38f",
   "metadata": {
    "deletable": false,
    "editable": false,
    "id": "627be38f"
   },
   "source": [
    "### Категоризация данных"
   ]
  },
  {
   "cell_type": "markdown",
   "id": "4684c3e0",
   "metadata": {
    "deletable": false,
    "editable": false,
    "id": "4684c3e0"
   },
   "source": [
    "**Задание 16. На основании диапазонов, указанных ниже, создайте в датафрейме `data` столбец `total_income_category` с категориями:**\n",
    "\n",
    "- 0–30000 — `'E'`;\n",
    "- 30001–50000 — `'D'`;\n",
    "- 50001–200000 — `'C'`;\n",
    "- 200001–1000000 — `'B'`;\n",
    "- 1000001 и выше — `'A'`.\n",
    "\n",
    "\n",
    "**Например, кредитополучателю с доходом 25000 нужно назначить категорию `'E'`, а клиенту, получающему 235000, — `'B'`. Используйте собственную функцию с именем `categorize_income()` и метод `apply()`.**"
   ]
  },
  {
   "cell_type": "code",
   "execution_count": 17,
   "id": "78965238",
   "metadata": {
    "deletable": false,
    "id": "78965238"
   },
   "outputs": [],
   "source": [
    "def categorize_income(income):\n",
    "    try:\n",
    "        if 0 <= income <= 30000:\n",
    "            return 'E'\n",
    "        elif 30001 <= income <= 50000:\n",
    "            return 'D'\n",
    "        elif 50001 <= income <= 200000:\n",
    "            return 'C'\n",
    "        elif 200001 <= income <= 1000000:\n",
    "            return 'B'\n",
    "        elif income >= 1000001:\n",
    "            return 'A'\n",
    "    except:\n",
    "        pass"
   ]
  },
  {
   "cell_type": "code",
   "execution_count": 18,
   "id": "0980ada1",
   "metadata": {
    "deletable": false,
    "id": "0980ada1"
   },
   "outputs": [],
   "source": [
    "data['total_income_category'] = data['total_income'].apply(categorize_income)"
   ]
  },
  {
   "cell_type": "markdown",
   "id": "9917bba0",
   "metadata": {
    "deletable": false,
    "editable": false,
    "id": "9917bba0"
   },
   "source": [
    "**Задание 17. Выведите на экран перечень уникальных целей взятия кредита из столбца `purpose`.**"
   ]
  },
  {
   "cell_type": "code",
   "execution_count": 19,
   "id": "ee07b65e",
   "metadata": {
    "deletable": false,
    "id": "ee07b65e",
    "outputId": "673c12d9-7d7e-4ae0-9812-c622c89dd244"
   },
   "outputs": [
    {
     "data": {
      "text/plain": [
       "array(['покупка жилья', 'приобретение автомобиля',\n",
       "       'дополнительное образование', 'сыграть свадьбу',\n",
       "       'операции с жильем', 'образование', 'на проведение свадьбы',\n",
       "       'покупка жилья для семьи', 'покупка недвижимости',\n",
       "       'покупка коммерческой недвижимости', 'покупка жилой недвижимости',\n",
       "       'строительство собственной недвижимости', 'недвижимость',\n",
       "       'строительство недвижимости', 'на покупку подержанного автомобиля',\n",
       "       'на покупку своего автомобиля',\n",
       "       'операции с коммерческой недвижимостью',\n",
       "       'строительство жилой недвижимости', 'жилье',\n",
       "       'операции со своей недвижимостью', 'автомобили',\n",
       "       'заняться образованием', 'сделка с подержанным автомобилем',\n",
       "       'получение образования', 'автомобиль', 'свадьба',\n",
       "       'получение дополнительного образования', 'покупка своего жилья',\n",
       "       'операции с недвижимостью', 'получение высшего образования',\n",
       "       'свой автомобиль', 'сделка с автомобилем',\n",
       "       'профильное образование', 'высшее образование',\n",
       "       'покупка жилья для сдачи', 'на покупку автомобиля', 'ремонт жилью',\n",
       "       'заняться высшим образованием'], dtype=object)"
      ]
     },
     "execution_count": 19,
     "metadata": {},
     "output_type": "execute_result"
    }
   ],
   "source": [
    "data['purpose'].unique()"
   ]
  },
  {
   "cell_type": "markdown",
   "id": "52b79d56",
   "metadata": {
    "deletable": false,
    "editable": false,
    "id": "52b79d56"
   },
   "source": [
    "**Задание 18. Создайте функцию, которая на основании данных из столбца `purpose` сформирует новый столбец `purpose_category`, в который войдут следующие категории:**\n",
    "\n",
    "- `'операции с автомобилем'`,\n",
    "- `'операции с недвижимостью'`,\n",
    "- `'проведение свадьбы'`,\n",
    "- `'получение образования'`.\n",
    "\n",
    "**Например, если в столбце `purpose` находится подстрока `'на покупку автомобиля'`, то в столбце `purpose_category` должна появиться строка `'операции с автомобилем'`.**\n",
    "\n",
    "**Используйте собственную функцию с именем `categorize_purpose()` и метод `apply()`. Изучите данные в столбце `purpose` и определите, какие подстроки помогут вам правильно определить категорию.**"
   ]
  },
  {
   "cell_type": "code",
   "execution_count": 20,
   "id": "be41da5d",
   "metadata": {
    "deletable": false,
    "id": "be41da5d"
   },
   "outputs": [],
   "source": [
    "def categorize_purpose(row):\n",
    "    try:\n",
    "        if 'автом' in row:\n",
    "            return 'операции с автомобилем'\n",
    "        elif 'жил' in row or 'недвиж' in row:\n",
    "            return 'операции с недвижимостью'\n",
    "        elif 'свад' in row:\n",
    "            return 'проведение свадьбы'\n",
    "        elif 'образов' in row:\n",
    "            return 'получение образования'\n",
    "    except:\n",
    "        return 'нет категории'"
   ]
  },
  {
   "cell_type": "code",
   "execution_count": 21,
   "id": "94c4a19a",
   "metadata": {
    "deletable": false,
    "id": "94c4a19a"
   },
   "outputs": [],
   "source": [
    "data['purpose_category'] = data['purpose'].apply(categorize_purpose)"
   ]
  },
  {
   "cell_type": "markdown",
   "id": "3d596c34",
   "metadata": {
    "deletable": false,
    "editable": false,
    "id": "3d596c34"
   },
   "source": [
    "### Шаг 3. Исследуйте данные и ответьте на вопросы"
   ]
  },
  {
   "cell_type": "markdown",
   "id": "648db036",
   "metadata": {
    "deletable": false,
    "editable": false,
    "id": "648db036"
   },
   "source": [
    "#### 3.1 Есть ли зависимость между количеством детей и возвратом кредита в срок?"
   ]
  },
  {
   "cell_type": "code",
   "execution_count": 22,
   "id": "7fcff25e",
   "metadata": {
    "deletable": false,
    "id": "7fcff25e"
   },
   "outputs": [
    {
     "data": {
      "text/html": [
       "<div>\n",
       "<style scoped>\n",
       "    .dataframe tbody tr th:only-of-type {\n",
       "        vertical-align: middle;\n",
       "    }\n",
       "\n",
       "    .dataframe tbody tr th {\n",
       "        vertical-align: top;\n",
       "    }\n",
       "\n",
       "    .dataframe thead tr th {\n",
       "        text-align: left;\n",
       "    }\n",
       "\n",
       "    .dataframe thead tr:last-of-type th {\n",
       "        text-align: right;\n",
       "    }\n",
       "</style>\n",
       "<table border=\"1\" class=\"dataframe\">\n",
       "  <thead>\n",
       "    <tr>\n",
       "      <th></th>\n",
       "      <th colspan=\"2\" halign=\"left\">debt</th>\n",
       "      <th>%</th>\n",
       "    </tr>\n",
       "    <tr>\n",
       "      <th></th>\n",
       "      <th>count</th>\n",
       "      <th>sum</th>\n",
       "      <th></th>\n",
       "    </tr>\n",
       "    <tr>\n",
       "      <th>children</th>\n",
       "      <th></th>\n",
       "      <th></th>\n",
       "      <th></th>\n",
       "    </tr>\n",
       "  </thead>\n",
       "  <tbody>\n",
       "    <tr>\n",
       "      <th>4</th>\n",
       "      <td>41</td>\n",
       "      <td>4</td>\n",
       "      <td>9.8</td>\n",
       "    </tr>\n",
       "    <tr>\n",
       "      <th>2</th>\n",
       "      <td>2052</td>\n",
       "      <td>194</td>\n",
       "      <td>9.5</td>\n",
       "    </tr>\n",
       "    <tr>\n",
       "      <th>1</th>\n",
       "      <td>4808</td>\n",
       "      <td>444</td>\n",
       "      <td>9.2</td>\n",
       "    </tr>\n",
       "    <tr>\n",
       "      <th>3</th>\n",
       "      <td>330</td>\n",
       "      <td>27</td>\n",
       "      <td>8.2</td>\n",
       "    </tr>\n",
       "    <tr>\n",
       "      <th>0</th>\n",
       "      <td>14091</td>\n",
       "      <td>1063</td>\n",
       "      <td>7.5</td>\n",
       "    </tr>\n",
       "    <tr>\n",
       "      <th>5</th>\n",
       "      <td>9</td>\n",
       "      <td>0</td>\n",
       "      <td>0.0</td>\n",
       "    </tr>\n",
       "  </tbody>\n",
       "</table>\n",
       "</div>"
      ],
      "text/plain": [
       "           debt          %\n",
       "          count   sum     \n",
       "children                  \n",
       "4            41     4  9.8\n",
       "2          2052   194  9.5\n",
       "1          4808   444  9.2\n",
       "3           330    27  8.2\n",
       "0         14091  1063  7.5\n",
       "5             9     0  0.0"
      ]
     },
     "execution_count": 22,
     "metadata": {},
     "output_type": "execute_result"
    }
   ],
   "source": [
    "func = {\n",
    "    'debt': ['count', 'sum']\n",
    "}\n",
    "debt_by_children = data.groupby(['children']).agg(func)\n",
    "# процент задолженности для каждой категории\n",
    "debt_by_children['%'] = (debt_by_children[('debt', 'sum')] / debt_by_children[('debt', 'count')] * 100).round(1)\n",
    "debt_by_children.sort_values(by='%', ascending=False)"
   ]
  },
  {
   "cell_type": "markdown",
   "id": "2eb9088e",
   "metadata": {
    "deletable": false,
    "id": "2eb9088e"
   },
   "source": [
    "**Вывод:** Люди с 4 детьми имеют самый высокий процент людей с задолженностью среди всех категорий. Семьи, где есть 5 детей, не имеют должников. Это может быть связано с нехваткой данных в данной категории, т.к. общее количество составляет всего лишь 9 семей. Наименьший процент оплаты кредита несвоевременно у группы без детей. Нельзя точно сказать, что определенное количество детей может повлиять на возврат кредита вовремя. Но можно рассмотреть другой фактор - отсутствие детей. "
   ]
  },
  {
   "cell_type": "markdown",
   "id": "74c9b3a7",
   "metadata": {
    "deletable": false,
    "editable": false,
    "id": "74c9b3a7"
   },
   "source": [
    "#### 3.2 Есть ли зависимость между семейным положением и возвратом кредита в срок?"
   ]
  },
  {
   "cell_type": "code",
   "execution_count": 23,
   "id": "8098ab3b",
   "metadata": {
    "deletable": false,
    "id": "8098ab3b"
   },
   "outputs": [
    {
     "data": {
      "text/html": [
       "<div>\n",
       "<style scoped>\n",
       "    .dataframe tbody tr th:only-of-type {\n",
       "        vertical-align: middle;\n",
       "    }\n",
       "\n",
       "    .dataframe tbody tr th {\n",
       "        vertical-align: top;\n",
       "    }\n",
       "\n",
       "    .dataframe thead tr th {\n",
       "        text-align: left;\n",
       "    }\n",
       "\n",
       "    .dataframe thead tr:last-of-type th {\n",
       "        text-align: right;\n",
       "    }\n",
       "</style>\n",
       "<table border=\"1\" class=\"dataframe\">\n",
       "  <thead>\n",
       "    <tr>\n",
       "      <th></th>\n",
       "      <th colspan=\"2\" halign=\"left\">debt</th>\n",
       "      <th>%</th>\n",
       "    </tr>\n",
       "    <tr>\n",
       "      <th></th>\n",
       "      <th>count</th>\n",
       "      <th>sum</th>\n",
       "      <th></th>\n",
       "    </tr>\n",
       "    <tr>\n",
       "      <th>family_status</th>\n",
       "      <th></th>\n",
       "      <th></th>\n",
       "      <th></th>\n",
       "    </tr>\n",
       "  </thead>\n",
       "  <tbody>\n",
       "    <tr>\n",
       "      <th>Не женат / не замужем</th>\n",
       "      <td>2796</td>\n",
       "      <td>273</td>\n",
       "      <td>9.8</td>\n",
       "    </tr>\n",
       "    <tr>\n",
       "      <th>гражданский брак</th>\n",
       "      <td>4134</td>\n",
       "      <td>385</td>\n",
       "      <td>9.3</td>\n",
       "    </tr>\n",
       "    <tr>\n",
       "      <th>женат / замужем</th>\n",
       "      <td>12261</td>\n",
       "      <td>927</td>\n",
       "      <td>7.6</td>\n",
       "    </tr>\n",
       "    <tr>\n",
       "      <th>в разводе</th>\n",
       "      <td>1189</td>\n",
       "      <td>84</td>\n",
       "      <td>7.1</td>\n",
       "    </tr>\n",
       "    <tr>\n",
       "      <th>вдовец / вдова</th>\n",
       "      <td>951</td>\n",
       "      <td>63</td>\n",
       "      <td>6.6</td>\n",
       "    </tr>\n",
       "  </tbody>\n",
       "</table>\n",
       "</div>"
      ],
      "text/plain": [
       "                        debt         %\n",
       "                       count  sum     \n",
       "family_status                         \n",
       "Не женат / не замужем   2796  273  9.8\n",
       "гражданский брак        4134  385  9.3\n",
       "женат / замужем        12261  927  7.6\n",
       "в разводе               1189   84  7.1\n",
       "вдовец / вдова           951   63  6.6"
      ]
     },
     "execution_count": 23,
     "metadata": {},
     "output_type": "execute_result"
    }
   ],
   "source": [
    "func = {\n",
    "    'debt': ['count', 'sum']\n",
    "}\n",
    "debt_by_marriage = data.groupby(['family_status']).agg(func)\n",
    "# процент задолженности для каждой категории\n",
    "debt_by_marriage['%'] = (debt_by_marriage[('debt', 'sum')] / debt_by_marriage[('debt', 'count')] * 100).round(1)\n",
    "debt_by_marriage.sort_values(by='%', ascending=False)"
   ]
  },
  {
   "cell_type": "markdown",
   "id": "c389ca63",
   "metadata": {
    "deletable": false,
    "id": "c389ca63"
   },
   "source": [
    "**Вывод:** Люди, чей семейный статус - \"не женат/ не замужем\" имеют наибольший процент людей несвоевременно погасивших кредит. Также вдовцы и вдовы имеют наименьший. "
   ]
  },
  {
   "cell_type": "markdown",
   "id": "9529de68",
   "metadata": {
    "deletable": false,
    "editable": false,
    "id": "9529de68"
   },
   "source": [
    "#### 3.3 Есть ли зависимость между уровнем дохода и возвратом кредита в срок?"
   ]
  },
  {
   "cell_type": "code",
   "execution_count": 24,
   "id": "8787f44a",
   "metadata": {
    "deletable": false,
    "id": "8787f44a"
   },
   "outputs": [
    {
     "data": {
      "text/html": [
       "<div>\n",
       "<style scoped>\n",
       "    .dataframe tbody tr th:only-of-type {\n",
       "        vertical-align: middle;\n",
       "    }\n",
       "\n",
       "    .dataframe tbody tr th {\n",
       "        vertical-align: top;\n",
       "    }\n",
       "\n",
       "    .dataframe thead tr th {\n",
       "        text-align: left;\n",
       "    }\n",
       "\n",
       "    .dataframe thead tr:last-of-type th {\n",
       "        text-align: right;\n",
       "    }\n",
       "</style>\n",
       "<table border=\"1\" class=\"dataframe\">\n",
       "  <thead>\n",
       "    <tr>\n",
       "      <th></th>\n",
       "      <th colspan=\"2\" halign=\"left\">debt</th>\n",
       "      <th>%</th>\n",
       "    </tr>\n",
       "    <tr>\n",
       "      <th></th>\n",
       "      <th>count</th>\n",
       "      <th>sum</th>\n",
       "      <th></th>\n",
       "    </tr>\n",
       "    <tr>\n",
       "      <th>total_income_category</th>\n",
       "      <th></th>\n",
       "      <th></th>\n",
       "      <th></th>\n",
       "    </tr>\n",
       "  </thead>\n",
       "  <tbody>\n",
       "    <tr>\n",
       "      <th>E</th>\n",
       "      <td>22</td>\n",
       "      <td>2</td>\n",
       "      <td>9.1</td>\n",
       "    </tr>\n",
       "    <tr>\n",
       "      <th>C</th>\n",
       "      <td>15921</td>\n",
       "      <td>1353</td>\n",
       "      <td>8.5</td>\n",
       "    </tr>\n",
       "    <tr>\n",
       "      <th>A</th>\n",
       "      <td>25</td>\n",
       "      <td>2</td>\n",
       "      <td>8.0</td>\n",
       "    </tr>\n",
       "    <tr>\n",
       "      <th>B</th>\n",
       "      <td>5014</td>\n",
       "      <td>354</td>\n",
       "      <td>7.1</td>\n",
       "    </tr>\n",
       "    <tr>\n",
       "      <th>D</th>\n",
       "      <td>349</td>\n",
       "      <td>21</td>\n",
       "      <td>6.0</td>\n",
       "    </tr>\n",
       "  </tbody>\n",
       "</table>\n",
       "</div>"
      ],
      "text/plain": [
       "                        debt          %\n",
       "                       count   sum     \n",
       "total_income_category                  \n",
       "E                         22     2  9.1\n",
       "C                      15921  1353  8.5\n",
       "A                         25     2  8.0\n",
       "B                       5014   354  7.1\n",
       "D                        349    21  6.0"
      ]
     },
     "execution_count": 24,
     "metadata": {},
     "output_type": "execute_result"
    }
   ],
   "source": [
    "func = {\n",
    "    'debt': ['count', 'sum']\n",
    "}\n",
    "debt_by_income = data.groupby(['total_income_category']).agg(func)\n",
    "# процент задолженности для каждой категории\n",
    "debt_by_income['%'] = (debt_by_income[('debt', 'sum')] / debt_by_income[('debt', 'count')] * 100).round(1)\n",
    "debt_by_income.sort_values(by='%', ascending=False)"
   ]
  },
  {
   "cell_type": "markdown",
   "id": "6dd14b57",
   "metadata": {
    "deletable": false,
    "id": "6dd14b57"
   },
   "source": [
    "**Вывод:** В наборе данных количество людей с доходом до 30000 не так много. Поэтому нельзя точно сказать, что среди них большой процент должников. Доля должников с доходом от 30000 до 50000 наименьшая. "
   ]
  },
  {
   "cell_type": "markdown",
   "id": "1dcc9b12",
   "metadata": {
    "deletable": false,
    "editable": false,
    "id": "1dcc9b12"
   },
   "source": [
    "#### 3.4 Как разные цели кредита влияют на его возврат в срок?"
   ]
  },
  {
   "cell_type": "code",
   "execution_count": 25,
   "id": "c602bc8b",
   "metadata": {
    "deletable": false,
    "id": "c602bc8b"
   },
   "outputs": [
    {
     "data": {
      "text/html": [
       "<div>\n",
       "<style scoped>\n",
       "    .dataframe tbody tr th:only-of-type {\n",
       "        vertical-align: middle;\n",
       "    }\n",
       "\n",
       "    .dataframe tbody tr th {\n",
       "        vertical-align: top;\n",
       "    }\n",
       "\n",
       "    .dataframe thead tr th {\n",
       "        text-align: left;\n",
       "    }\n",
       "\n",
       "    .dataframe thead tr:last-of-type th {\n",
       "        text-align: right;\n",
       "    }\n",
       "</style>\n",
       "<table border=\"1\" class=\"dataframe\">\n",
       "  <thead>\n",
       "    <tr>\n",
       "      <th></th>\n",
       "      <th colspan=\"2\" halign=\"left\">debt</th>\n",
       "      <th>%</th>\n",
       "    </tr>\n",
       "    <tr>\n",
       "      <th></th>\n",
       "      <th>count</th>\n",
       "      <th>sum</th>\n",
       "      <th></th>\n",
       "    </tr>\n",
       "    <tr>\n",
       "      <th>purpose_category</th>\n",
       "      <th></th>\n",
       "      <th></th>\n",
       "      <th></th>\n",
       "    </tr>\n",
       "  </thead>\n",
       "  <tbody>\n",
       "    <tr>\n",
       "      <th>операции с автомобилем</th>\n",
       "      <td>4279</td>\n",
       "      <td>400</td>\n",
       "      <td>9.3</td>\n",
       "    </tr>\n",
       "    <tr>\n",
       "      <th>получение образования</th>\n",
       "      <td>3988</td>\n",
       "      <td>369</td>\n",
       "      <td>9.3</td>\n",
       "    </tr>\n",
       "    <tr>\n",
       "      <th>проведение свадьбы</th>\n",
       "      <td>2313</td>\n",
       "      <td>183</td>\n",
       "      <td>7.9</td>\n",
       "    </tr>\n",
       "    <tr>\n",
       "      <th>операции с недвижимостью</th>\n",
       "      <td>10751</td>\n",
       "      <td>780</td>\n",
       "      <td>7.3</td>\n",
       "    </tr>\n",
       "  </tbody>\n",
       "</table>\n",
       "</div>"
      ],
      "text/plain": [
       "                           debt         %\n",
       "                          count  sum     \n",
       "purpose_category                         \n",
       "операции с автомобилем     4279  400  9.3\n",
       "получение образования      3988  369  9.3\n",
       "проведение свадьбы         2313  183  7.9\n",
       "операции с недвижимостью  10751  780  7.3"
      ]
     },
     "execution_count": 25,
     "metadata": {},
     "output_type": "execute_result"
    }
   ],
   "source": [
    "func = {\n",
    "    'debt': ['count', 'sum']\n",
    "}\n",
    "debt_by_purpose = data.groupby(['purpose_category']).agg(func)\n",
    "# процент задолженности для каждой категории\n",
    "debt_by_purpose['%'] = (debt_by_purpose[('debt', 'sum')] / debt_by_purpose[('debt', 'count')] * 100).round(1)\n",
    "debt_by_purpose.sort_values(by='%', ascending=False)"
   ]
  },
  {
   "cell_type": "markdown",
   "id": "cf05ed63",
   "metadata": {
    "deletable": false,
    "id": "cf05ed63"
   },
   "source": [
    "**Вывод:** Операции с автомобилем и получение образования - две категории, где люди имеют трудности с выплатой кредита в срок."
   ]
  },
  {
   "cell_type": "markdown",
   "id": "46c1f10b",
   "metadata": {
    "deletable": false,
    "editable": false,
    "id": "46c1f10b"
   },
   "source": [
    "#### 3.5 Приведите возможные причины появления пропусков в исходных данных."
   ]
  },
  {
   "cell_type": "markdown",
   "id": "3697d2a9",
   "metadata": {
    "deletable": false,
    "id": "3697d2a9"
   },
   "source": [
    "*Ответ:* В исходных данных существует два столбца с пропущенными значениями, days-employed и total_income. Возможной причиной является, что клиенты специально не указали вышеупомянутые данные. Если брать общий случай, то ошибки при вводе данных тоже могут стать причиной пропусков."
   ]
  },
  {
   "cell_type": "markdown",
   "id": "3137d257",
   "metadata": {
    "deletable": false,
    "editable": false,
    "id": "3137d257"
   },
   "source": [
    "#### 3.6 Объясните, почему заполнить пропуски медианным значением — лучшее решение для количественных переменных."
   ]
  },
  {
   "cell_type": "markdown",
   "id": "cf40012a",
   "metadata": {
    "deletable": false,
    "id": "cf40012a"
   },
   "source": [
    "*Ответ:* При количественных значениях данные могут быть сильно разбросаны. В таком случае выбросы повлияют на средние значение. Поэтому лучше использовать медианные значения, т.к. выбросы не будут учтены в таком случае."
   ]
  },
  {
   "cell_type": "markdown",
   "id": "57bc304e",
   "metadata": {
    "deletable": false,
    "editable": false,
    "id": "57bc304e"
   },
   "source": [
    "### Шаг 4: общий вывод."
   ]
  },
  {
   "cell_type": "markdown",
   "id": "1ab75d1c",
   "metadata": {
    "deletable": false,
    "id": "1ab75d1c"
   },
   "source": [
    "- Цель кредита влияет на его возврат в срок. \n",
    "    - Операции с недвижимостью имеют наименьший процент задолженности в группе **(7.3%)**. \n",
    "    - Операции с автомобилем и получение образования - две категории, где люди имеют трудности с выплатой кредита в срок **(9.3%)**.\n",
    "\n",
    "\n",
    "- Семейный статус влияет на возврат кредита в срок.\n",
    "    - В основном вдовцы и вдовы вовремя возвращают кредит **(6.6%)**.\n",
    "    - Неженатые и незамужние **(9.8%)**, а также люди в гражданском браке **(9.3%)** имеют высокий процент должников.\n",
    "\n",
    "\n",
    "- Присутствие или отсутствие детей влияет на возврат кредита в срок.\n",
    "    - Люди без детей имеют наименьший шанс не вернуть кредит вовремя **(7.5%)**.\n",
    "\n",
    "\n",
    "- Доход влияет на возврат кредита в срок.\n",
    "    - Люди с доходом до 30000 имеют высокий процент должников **(9.1%)**.\n",
    "    - Доля должников с доходом от 30000 до 50000 наименьшая **(6%)**.\n"
   ]
  },
  {
   "cell_type": "code",
   "execution_count": null,
   "id": "3bc742ec",
   "metadata": {},
   "outputs": [],
   "source": []
  }
 ],
 "metadata": {
  "ExecuteTimeLog": [
   {
    "duration": 71,
    "start_time": "2023-04-02T15:59:01.990Z"
   },
   {
    "duration": 846,
    "start_time": "2023-04-02T15:59:14.042Z"
   },
   {
    "duration": 32,
    "start_time": "2023-04-02T15:59:14.890Z"
   },
   {
    "duration": 20,
    "start_time": "2023-04-02T15:59:14.924Z"
   },
   {
    "duration": 20,
    "start_time": "2023-04-02T15:59:14.946Z"
   },
   {
    "duration": 51,
    "start_time": "2023-04-02T15:59:14.971Z"
   },
   {
    "duration": 4,
    "start_time": "2023-04-02T15:59:15.025Z"
   },
   {
    "duration": 77,
    "start_time": "2023-04-02T15:59:15.030Z"
   },
   {
    "duration": 81,
    "start_time": "2023-04-02T15:59:15.109Z"
   },
   {
    "duration": 26,
    "start_time": "2023-04-02T15:59:15.191Z"
   },
   {
    "duration": 7,
    "start_time": "2023-04-02T15:59:15.219Z"
   },
   {
    "duration": 56,
    "start_time": "2023-04-02T15:59:15.228Z"
   },
   {
    "duration": 14,
    "start_time": "2023-04-02T15:59:15.286Z"
   },
   {
    "duration": 19,
    "start_time": "2023-04-02T15:59:15.302Z"
   },
   {
    "duration": 17,
    "start_time": "2023-04-02T15:59:15.325Z"
   },
   {
    "duration": 42,
    "start_time": "2023-04-02T15:59:15.346Z"
   },
   {
    "duration": 25,
    "start_time": "2023-04-02T15:59:15.390Z"
   },
   {
    "duration": 5,
    "start_time": "2023-04-02T15:59:15.417Z"
   },
   {
    "duration": 24,
    "start_time": "2023-04-02T15:59:15.424Z"
   },
   {
    "duration": 26,
    "start_time": "2023-04-02T15:59:15.450Z"
   },
   {
    "duration": 4,
    "start_time": "2023-04-02T15:59:15.478Z"
   },
   {
    "duration": 23,
    "start_time": "2023-04-02T15:59:15.487Z"
   },
   {
    "duration": 10,
    "start_time": "2023-04-02T15:59:19.629Z"
   },
   {
    "duration": 8,
    "start_time": "2023-04-02T15:59:40.812Z"
   },
   {
    "duration": 10,
    "start_time": "2023-04-02T16:00:06.048Z"
   },
   {
    "duration": 24,
    "start_time": "2023-04-02T16:00:55.431Z"
   },
   {
    "duration": 1529,
    "start_time": "2023-04-02T16:01:18.025Z"
   },
   {
    "duration": 5,
    "start_time": "2023-04-02T16:02:24.860Z"
   },
   {
    "duration": 7,
    "start_time": "2023-04-02T16:03:42.649Z"
   },
   {
    "duration": 29,
    "start_time": "2023-04-02T16:04:18.040Z"
   },
   {
    "duration": 190,
    "start_time": "2023-04-02T16:04:25.489Z"
   },
   {
    "duration": 8,
    "start_time": "2023-04-02T16:04:28.512Z"
   },
   {
    "duration": 6,
    "start_time": "2023-04-02T16:04:59.286Z"
   },
   {
    "duration": 7,
    "start_time": "2023-04-02T16:14:38.178Z"
   },
   {
    "duration": 11,
    "start_time": "2023-04-02T16:15:11.063Z"
   },
   {
    "duration": 7,
    "start_time": "2023-04-02T16:15:30.446Z"
   },
   {
    "duration": 9,
    "start_time": "2023-04-02T16:35:49.139Z"
   },
   {
    "duration": 9,
    "start_time": "2023-04-02T16:37:31.942Z"
   },
   {
    "duration": 474,
    "start_time": "2023-04-02T18:23:53.942Z"
   },
   {
    "duration": 24,
    "start_time": "2023-04-02T18:23:54.418Z"
   },
   {
    "duration": 15,
    "start_time": "2023-04-02T18:23:54.444Z"
   },
   {
    "duration": 10,
    "start_time": "2023-04-02T18:23:54.461Z"
   },
   {
    "duration": 55,
    "start_time": "2023-04-02T18:23:54.473Z"
   },
   {
    "duration": 4,
    "start_time": "2023-04-02T18:23:54.530Z"
   },
   {
    "duration": 14,
    "start_time": "2023-04-02T18:23:54.535Z"
   },
   {
    "duration": 7,
    "start_time": "2023-04-02T18:23:54.551Z"
   },
   {
    "duration": 18,
    "start_time": "2023-04-02T18:23:54.559Z"
   },
   {
    "duration": 5,
    "start_time": "2023-04-02T18:23:54.579Z"
   },
   {
    "duration": 49,
    "start_time": "2023-04-02T18:23:54.586Z"
   },
   {
    "duration": 10,
    "start_time": "2023-04-02T18:23:54.637Z"
   },
   {
    "duration": 24,
    "start_time": "2023-04-02T18:23:54.649Z"
   },
   {
    "duration": 20,
    "start_time": "2023-04-02T18:23:54.675Z"
   },
   {
    "duration": 42,
    "start_time": "2023-04-02T18:23:54.698Z"
   },
   {
    "duration": 21,
    "start_time": "2023-04-02T18:23:54.741Z"
   },
   {
    "duration": 7,
    "start_time": "2023-04-02T18:23:54.764Z"
   },
   {
    "duration": 25,
    "start_time": "2023-04-02T18:23:54.773Z"
   },
   {
    "duration": 24,
    "start_time": "2023-04-02T18:23:54.800Z"
   },
   {
    "duration": 4,
    "start_time": "2023-04-02T18:23:54.826Z"
   },
   {
    "duration": 19,
    "start_time": "2023-04-02T18:23:54.832Z"
   },
   {
    "duration": 14,
    "start_time": "2023-04-02T18:23:54.854Z"
   },
   {
    "duration": 15,
    "start_time": "2023-04-02T18:23:54.870Z"
   },
   {
    "duration": 16,
    "start_time": "2023-04-02T18:23:54.887Z"
   },
   {
    "duration": 21,
    "start_time": "2023-04-02T18:23:54.905Z"
   },
   {
    "duration": 639,
    "start_time": "2023-04-06T14:26:47.817Z"
   },
   {
    "duration": 19,
    "start_time": "2023-04-06T14:26:48.458Z"
   },
   {
    "duration": 12,
    "start_time": "2023-04-06T14:26:48.478Z"
   },
   {
    "duration": 8,
    "start_time": "2023-04-06T14:26:48.491Z"
   },
   {
    "duration": 28,
    "start_time": "2023-04-06T14:26:48.501Z"
   },
   {
    "duration": 3,
    "start_time": "2023-04-06T14:26:48.531Z"
   },
   {
    "duration": 8,
    "start_time": "2023-04-06T14:26:48.535Z"
   },
   {
    "duration": 28,
    "start_time": "2023-04-06T14:26:48.544Z"
   },
   {
    "duration": 6,
    "start_time": "2023-04-06T14:26:48.574Z"
   },
   {
    "duration": 3,
    "start_time": "2023-04-06T14:26:48.582Z"
   },
   {
    "duration": 29,
    "start_time": "2023-04-06T14:26:48.586Z"
   },
   {
    "duration": 8,
    "start_time": "2023-04-06T14:26:48.617Z"
   },
   {
    "duration": 4,
    "start_time": "2023-04-06T14:26:48.626Z"
   },
   {
    "duration": 10,
    "start_time": "2023-04-06T14:26:48.633Z"
   },
   {
    "duration": 44,
    "start_time": "2023-04-06T14:26:48.644Z"
   },
   {
    "duration": 16,
    "start_time": "2023-04-06T14:26:48.689Z"
   },
   {
    "duration": 4,
    "start_time": "2023-04-06T14:26:48.707Z"
   },
   {
    "duration": 19,
    "start_time": "2023-04-06T14:26:48.712Z"
   },
   {
    "duration": 5,
    "start_time": "2023-04-06T14:26:48.732Z"
   },
   {
    "duration": 3,
    "start_time": "2023-04-06T14:26:48.739Z"
   },
   {
    "duration": 28,
    "start_time": "2023-04-06T14:26:48.744Z"
   },
   {
    "duration": 75,
    "start_time": "2023-04-06T14:26:53.120Z"
   },
   {
    "duration": 11,
    "start_time": "2023-04-06T14:27:01.831Z"
   },
   {
    "duration": 12,
    "start_time": "2023-04-06T14:27:26.952Z"
   },
   {
    "duration": 11,
    "start_time": "2023-04-06T14:28:11.697Z"
   },
   {
    "duration": 12,
    "start_time": "2023-04-06T14:28:46.433Z"
   },
   {
    "duration": 73,
    "start_time": "2023-04-06T14:29:07.710Z"
   },
   {
    "duration": 11,
    "start_time": "2023-04-06T14:29:23.548Z"
   },
   {
    "duration": 10,
    "start_time": "2023-04-06T14:30:32.701Z"
   },
   {
    "duration": 11,
    "start_time": "2023-04-06T14:45:04.789Z"
   },
   {
    "duration": 6,
    "start_time": "2023-04-06T14:46:31.929Z"
   },
   {
    "duration": 7,
    "start_time": "2023-04-06T14:46:46.581Z"
   },
   {
    "duration": 69,
    "start_time": "2023-04-06T14:47:44.044Z"
   },
   {
    "duration": 1836,
    "start_time": "2023-04-06T14:50:38.230Z"
   },
   {
    "duration": 1167,
    "start_time": "2023-04-06T14:51:08.056Z"
   },
   {
    "duration": 8,
    "start_time": "2023-04-06T15:03:14.416Z"
   },
   {
    "duration": 1708,
    "start_time": "2023-04-06T15:46:12.906Z"
   },
   {
    "duration": 12,
    "start_time": "2023-04-06T15:46:32.857Z"
   },
   {
    "duration": 10,
    "start_time": "2023-04-06T15:46:45.590Z"
   },
   {
    "duration": 7,
    "start_time": "2023-04-06T15:46:55.781Z"
   },
   {
    "duration": 1437,
    "start_time": "2023-04-06T15:47:24.107Z"
   },
   {
    "duration": 2427,
    "start_time": "2023-04-06T16:17:09.710Z"
   },
   {
    "duration": 131,
    "start_time": "2023-04-06T16:18:15.487Z"
   },
   {
    "duration": 12,
    "start_time": "2023-04-06T16:18:19.525Z"
   },
   {
    "duration": 1607,
    "start_time": "2023-04-06T16:26:25.624Z"
   },
   {
    "duration": 1327,
    "start_time": "2023-04-06T16:27:26.998Z"
   },
   {
    "duration": 6,
    "start_time": "2023-04-06T16:31:43.635Z"
   },
   {
    "duration": 26,
    "start_time": "2023-04-06T16:32:16.535Z"
   },
   {
    "duration": 46,
    "start_time": "2023-04-06T16:32:39.331Z"
   },
   {
    "duration": 4344,
    "start_time": "2023-04-06T16:36:35.597Z"
   },
   {
    "duration": 0,
    "start_time": "2023-04-06T16:40:15.924Z"
   },
   {
    "duration": 0,
    "start_time": "2023-04-06T16:40:29.582Z"
   },
   {
    "duration": 2800,
    "start_time": "2023-04-06T16:40:41.766Z"
   },
   {
    "duration": 11,
    "start_time": "2023-04-06T16:40:58.843Z"
   },
   {
    "duration": 8,
    "start_time": "2023-04-06T16:41:20.014Z"
   },
   {
    "duration": 11,
    "start_time": "2023-04-06T16:41:48.618Z"
   },
   {
    "duration": 15,
    "start_time": "2023-04-06T16:41:52.583Z"
   },
   {
    "duration": 13,
    "start_time": "2023-04-06T16:42:51.396Z"
   },
   {
    "duration": 15,
    "start_time": "2023-04-06T16:45:14.244Z"
   },
   {
    "duration": 14,
    "start_time": "2023-04-06T16:45:20.444Z"
   },
   {
    "duration": 13,
    "start_time": "2023-04-06T16:45:28.406Z"
   },
   {
    "duration": 13,
    "start_time": "2023-04-06T16:45:34.607Z"
   },
   {
    "duration": 20,
    "start_time": "2023-04-06T16:46:49.033Z"
   },
   {
    "duration": 12,
    "start_time": "2023-04-06T16:47:12.129Z"
   },
   {
    "duration": 17,
    "start_time": "2023-04-06T16:47:36.458Z"
   },
   {
    "duration": 15,
    "start_time": "2023-04-06T16:47:44.920Z"
   },
   {
    "duration": 15,
    "start_time": "2023-04-06T16:48:33.148Z"
   },
   {
    "duration": 20,
    "start_time": "2023-04-06T16:49:36.095Z"
   },
   {
    "duration": 25,
    "start_time": "2023-04-06T16:50:03.808Z"
   },
   {
    "duration": 17,
    "start_time": "2023-04-06T16:50:30.802Z"
   },
   {
    "duration": 677,
    "start_time": "2023-04-08T12:18:20.467Z"
   },
   {
    "duration": 21,
    "start_time": "2023-04-08T12:18:21.146Z"
   },
   {
    "duration": 14,
    "start_time": "2023-04-08T12:18:21.168Z"
   },
   {
    "duration": 8,
    "start_time": "2023-04-08T12:18:21.184Z"
   },
   {
    "duration": 38,
    "start_time": "2023-04-08T12:18:21.193Z"
   },
   {
    "duration": 3,
    "start_time": "2023-04-08T12:18:21.232Z"
   },
   {
    "duration": 8,
    "start_time": "2023-04-08T12:18:21.249Z"
   },
   {
    "duration": 4,
    "start_time": "2023-04-08T12:18:21.258Z"
   },
   {
    "duration": 9,
    "start_time": "2023-04-08T12:18:21.263Z"
   },
   {
    "duration": 4,
    "start_time": "2023-04-08T12:18:21.274Z"
   },
   {
    "duration": 31,
    "start_time": "2023-04-08T12:18:21.279Z"
   },
   {
    "duration": 39,
    "start_time": "2023-04-08T12:18:21.312Z"
   },
   {
    "duration": 3,
    "start_time": "2023-04-08T12:18:21.352Z"
   },
   {
    "duration": 15,
    "start_time": "2023-04-08T12:18:21.357Z"
   },
   {
    "duration": 19,
    "start_time": "2023-04-08T12:18:21.374Z"
   },
   {
    "duration": 18,
    "start_time": "2023-04-08T12:18:21.395Z"
   },
   {
    "duration": 3,
    "start_time": "2023-04-08T12:18:21.415Z"
   },
   {
    "duration": 31,
    "start_time": "2023-04-08T12:18:21.419Z"
   },
   {
    "duration": 6,
    "start_time": "2023-04-08T12:18:21.452Z"
   },
   {
    "duration": 8,
    "start_time": "2023-04-08T12:18:21.459Z"
   },
   {
    "duration": 19,
    "start_time": "2023-04-08T12:18:21.469Z"
   },
   {
    "duration": 24,
    "start_time": "2023-04-08T12:18:21.489Z"
   },
   {
    "duration": 15,
    "start_time": "2023-04-08T12:18:21.515Z"
   },
   {
    "duration": 24,
    "start_time": "2023-04-08T12:18:21.532Z"
   },
   {
    "duration": 16,
    "start_time": "2023-04-08T12:18:21.557Z"
   },
   {
    "duration": 505,
    "start_time": "2023-04-08T19:11:31.913Z"
   },
   {
    "duration": 20,
    "start_time": "2023-04-08T19:11:32.419Z"
   },
   {
    "duration": 21,
    "start_time": "2023-04-08T19:11:32.441Z"
   },
   {
    "duration": 7,
    "start_time": "2023-04-08T19:11:32.464Z"
   },
   {
    "duration": 29,
    "start_time": "2023-04-08T19:11:32.472Z"
   },
   {
    "duration": 3,
    "start_time": "2023-04-08T19:11:32.503Z"
   },
   {
    "duration": 22,
    "start_time": "2023-04-08T19:11:32.507Z"
   },
   {
    "duration": 18,
    "start_time": "2023-04-08T19:11:32.530Z"
   },
   {
    "duration": 10,
    "start_time": "2023-04-08T19:11:32.550Z"
   },
   {
    "duration": 4,
    "start_time": "2023-04-08T19:11:32.563Z"
   },
   {
    "duration": 28,
    "start_time": "2023-04-08T19:11:32.569Z"
   },
   {
    "duration": 7,
    "start_time": "2023-04-08T19:11:32.599Z"
   },
   {
    "duration": 5,
    "start_time": "2023-04-08T19:11:32.607Z"
   },
   {
    "duration": 11,
    "start_time": "2023-04-08T19:11:32.613Z"
   },
   {
    "duration": 23,
    "start_time": "2023-04-08T19:11:32.640Z"
   },
   {
    "duration": 15,
    "start_time": "2023-04-08T19:11:32.664Z"
   },
   {
    "duration": 3,
    "start_time": "2023-04-08T19:11:32.680Z"
   },
   {
    "duration": 12,
    "start_time": "2023-04-08T19:11:32.685Z"
   },
   {
    "duration": 8,
    "start_time": "2023-04-08T19:11:32.698Z"
   },
   {
    "duration": 3,
    "start_time": "2023-04-08T19:11:32.707Z"
   },
   {
    "duration": 34,
    "start_time": "2023-04-08T19:11:32.711Z"
   },
   {
    "duration": 18,
    "start_time": "2023-04-08T19:11:32.746Z"
   },
   {
    "duration": 15,
    "start_time": "2023-04-08T19:11:32.765Z"
   },
   {
    "duration": 14,
    "start_time": "2023-04-08T19:11:32.782Z"
   },
   {
    "duration": 15,
    "start_time": "2023-04-08T19:11:32.798Z"
   },
   {
    "duration": 449,
    "start_time": "2023-04-08T20:24:41.437Z"
   },
   {
    "duration": 19,
    "start_time": "2023-04-08T20:24:41.888Z"
   },
   {
    "duration": 12,
    "start_time": "2023-04-08T20:24:41.909Z"
   },
   {
    "duration": 19,
    "start_time": "2023-04-08T20:24:41.922Z"
   },
   {
    "duration": 27,
    "start_time": "2023-04-08T20:24:41.942Z"
   },
   {
    "duration": 2,
    "start_time": "2023-04-08T20:24:41.971Z"
   },
   {
    "duration": 7,
    "start_time": "2023-04-08T20:24:41.974Z"
   },
   {
    "duration": 4,
    "start_time": "2023-04-08T20:24:41.982Z"
   },
   {
    "duration": 13,
    "start_time": "2023-04-08T20:24:41.987Z"
   },
   {
    "duration": 11,
    "start_time": "2023-04-08T20:24:42.001Z"
   },
   {
    "duration": 45,
    "start_time": "2023-04-08T20:24:42.014Z"
   },
   {
    "duration": 13,
    "start_time": "2023-04-08T20:24:42.060Z"
   },
   {
    "duration": 4,
    "start_time": "2023-04-08T20:24:42.074Z"
   },
   {
    "duration": 16,
    "start_time": "2023-04-08T20:24:42.081Z"
   },
   {
    "duration": 18,
    "start_time": "2023-04-08T20:24:42.099Z"
   },
   {
    "duration": 34,
    "start_time": "2023-04-08T20:24:42.118Z"
   },
   {
    "duration": 3,
    "start_time": "2023-04-08T20:24:42.153Z"
   },
   {
    "duration": 10,
    "start_time": "2023-04-08T20:24:42.158Z"
   },
   {
    "duration": 6,
    "start_time": "2023-04-08T20:24:42.169Z"
   },
   {
    "duration": 3,
    "start_time": "2023-04-08T20:24:42.176Z"
   },
   {
    "duration": 8,
    "start_time": "2023-04-08T20:24:42.180Z"
   },
   {
    "duration": 51,
    "start_time": "2023-04-08T20:24:42.190Z"
   },
   {
    "duration": 21,
    "start_time": "2023-04-08T20:24:42.243Z"
   },
   {
    "duration": 19,
    "start_time": "2023-04-08T20:24:42.265Z"
   },
   {
    "duration": 13,
    "start_time": "2023-04-08T20:24:42.286Z"
   }
  ],
  "colab": {
   "provenance": []
  },
  "kernelspec": {
   "display_name": "Python 3 (ipykernel)",
   "language": "python",
   "name": "python3"
  },
  "language_info": {
   "codemirror_mode": {
    "name": "ipython",
    "version": 3
   },
   "file_extension": ".py",
   "mimetype": "text/x-python",
   "name": "python",
   "nbconvert_exporter": "python",
   "pygments_lexer": "ipython3",
   "version": "3.10.9"
  },
  "toc": {
   "base_numbering": 1,
   "nav_menu": {},
   "number_sections": true,
   "sideBar": true,
   "skip_h1_title": true,
   "title_cell": "Table of Contents",
   "title_sidebar": "Contents",
   "toc_cell": false,
   "toc_position": {},
   "toc_section_display": true,
   "toc_window_display": true
  }
 },
 "nbformat": 4,
 "nbformat_minor": 5
}
